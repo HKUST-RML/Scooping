{
 "cells": [
  {
   "cell_type": "code",
   "execution_count": 1,
   "metadata": {
    "scrolled": true
   },
   "outputs": [],
   "source": [
    "#!/usr/bin/env python\n",
    "import os\n",
    "import sys\n",
    "import rospy\n",
    "import copy\n",
    "import tf\n",
    "import cv2\n",
    "from cv_bridge import CvBridge, CvBridgeError\n",
    "import numpy as np\n",
    "import std_msgs.msg\n",
    "from std_msgs.msg import UInt16, String\n",
    "import geometry_msgs.msg\n",
    "from math import *\n",
    "from numpy.linalg import inv\n",
    "import scipy.io\n",
    "from mat4py import loadmat\n",
    "import actionlib\n",
    "from robotiq_2f_gripper_msgs.msg import CommandRobotiqGripperFeedback, CommandRobotiqGripperResult, CommandRobotiqGripperAction, CommandRobotiqGripperGoal\n",
    "from robotiq_2f_gripper_control.robotiq_2f_gripper_driver import Robotiq2FingerGripperDriver as Robotiq\n",
    "from scoop.msg import stone_pose_hori\n",
    "from scoop.msg import stone_pose_ver\n",
    "from sensor_msgs.msg import Image, CameraInfo\n",
    "import message_filters\n",
    "from visualization_msgs.msg import Marker\n",
    "from visualization_msgs.msg import MarkerArray\n",
    "from geometry_msgs.msg import Point\n",
    "import random\n",
    "import urx\n",
    "import math3d as m3d\n",
    "import logging\n",
    "import matplotlib.pyplot as plt\n",
    "rospy.init_node('scoop', anonymous=True) #initialize the node\n",
    "\n"
   ]
  },
  {
   "cell_type": "code",
   "execution_count": 2,
   "metadata": {},
   "outputs": [
    {
     "name": "stderr",
     "output_type": "stream",
     "text": [
      "[WARN] [1611385585.676073]: Client test: Starting sending goals\n"
     ]
    }
   ],
   "source": [
    "rospy.logwarn(\"Client test: Starting sending goals\")\n",
    "rob = urx.Robot(\"192.168.1.102\")\n",
    "logging.basicConfig(level=logging.WARN)\n",
    "rob.set_tcp((0, 0, 0, 0, 0, 0))"
   ]
  },
  {
   "cell_type": "code",
   "execution_count": 3,
   "metadata": {},
   "outputs": [
    {
     "data": {
      "text/plain": [
       "True"
      ]
     },
     "execution_count": 3,
     "metadata": {},
     "output_type": "execute_result"
    }
   ],
   "source": [
    "action_name = rospy.get_param('~action_name', 'command_robotiq_action')\n",
    "robotiq_client = actionlib.SimpleActionClient(action_name, CommandRobotiqGripperAction)\n",
    "robotiq_client.wait_for_server()"
   ]
  },
  {
   "cell_type": "code",
   "execution_count": 4,
   "metadata": {},
   "outputs": [
    {
     "ename": "SerialException",
     "evalue": "[Errno 2] could not open port /dev/Arduino: [Errno 2] No such file or directory: '/dev/Arduino'",
     "output_type": "error",
     "traceback": [
      "\u001b[0;31m-----------------------------------------\u001b[0m",
      "\u001b[0;31mSerialException\u001b[0mTraceback (most recent call last)",
      "\u001b[0;32m<ipython-input-4-1a927da76806>\u001b[0m in \u001b[0;36m<module>\u001b[0;34m()\u001b[0m\n\u001b[1;32m      5\u001b[0m \u001b[0mserialPort\u001b[0m \u001b[0;34m=\u001b[0m \u001b[0;34m\"/dev/Arduino\"\u001b[0m\u001b[0;34m\u001b[0m\u001b[0m\n\u001b[1;32m      6\u001b[0m \u001b[0mbaudRate\u001b[0m \u001b[0;34m=\u001b[0m \u001b[0;36m57600\u001b[0m\u001b[0;34m\u001b[0m\u001b[0m\n\u001b[0;32m----> 7\u001b[0;31m \u001b[0mser\u001b[0m \u001b[0;34m=\u001b[0m \u001b[0mserial\u001b[0m\u001b[0;34m.\u001b[0m\u001b[0mSerial\u001b[0m\u001b[0;34m(\u001b[0m\u001b[0mserialPort\u001b[0m\u001b[0;34m,\u001b[0m \u001b[0mbaudRate\u001b[0m\u001b[0;34m,\u001b[0m \u001b[0mtimeout\u001b[0m\u001b[0;34m=\u001b[0m\u001b[0;36m0.5\u001b[0m\u001b[0;34m)\u001b[0m\u001b[0;34m\u001b[0m\u001b[0m\n\u001b[0m\u001b[1;32m      8\u001b[0m \u001b[0;32mdef\u001b[0m \u001b[0mmyHandler\u001b[0m\u001b[0;34m(\u001b[0m\u001b[0msignum\u001b[0m\u001b[0;34m,\u001b[0m \u001b[0mframe\u001b[0m\u001b[0;34m)\u001b[0m\u001b[0;34m:\u001b[0m\u001b[0;34m\u001b[0m\u001b[0m\n\u001b[1;32m      9\u001b[0m     \u001b[0;32mpass\u001b[0m\u001b[0;34m\u001b[0m\u001b[0m\n",
      "\u001b[0;32m/home/terry/anaconda3/envs/ros_control/lib/python2.7/site-packages/serial/serialutil.pyc\u001b[0m in \u001b[0;36m__init__\u001b[0;34m(self, port, baudrate, bytesize, parity, stopbits, timeout, xonxoff, rtscts, write_timeout, dsrdtr, inter_byte_timeout, exclusive, **kwargs)\u001b[0m\n\u001b[1;32m    238\u001b[0m \u001b[0;34m\u001b[0m\u001b[0m\n\u001b[1;32m    239\u001b[0m         \u001b[0;32mif\u001b[0m \u001b[0mport\u001b[0m \u001b[0;32mis\u001b[0m \u001b[0;32mnot\u001b[0m \u001b[0mNone\u001b[0m\u001b[0;34m:\u001b[0m\u001b[0;34m\u001b[0m\u001b[0m\n\u001b[0;32m--> 240\u001b[0;31m             \u001b[0mself\u001b[0m\u001b[0;34m.\u001b[0m\u001b[0mopen\u001b[0m\u001b[0;34m(\u001b[0m\u001b[0;34m)\u001b[0m\u001b[0;34m\u001b[0m\u001b[0m\n\u001b[0m\u001b[1;32m    241\u001b[0m \u001b[0;34m\u001b[0m\u001b[0m\n\u001b[1;32m    242\u001b[0m     \u001b[0;31m#  -  -  -  -  -  -  -  -  -  -  -  -  -  -  -  -  -  -  -  -  -  -  -  -\u001b[0m\u001b[0;34m\u001b[0m\u001b[0;34m\u001b[0m\u001b[0m\n",
      "\u001b[0;32m/home/terry/anaconda3/envs/ros_control/lib/python2.7/site-packages/serial/serialposix.pyc\u001b[0m in \u001b[0;36mopen\u001b[0;34m(self)\u001b[0m\n\u001b[1;32m    266\u001b[0m         \u001b[0;32mexcept\u001b[0m \u001b[0mOSError\u001b[0m \u001b[0;32mas\u001b[0m \u001b[0mmsg\u001b[0m\u001b[0;34m:\u001b[0m\u001b[0;34m\u001b[0m\u001b[0m\n\u001b[1;32m    267\u001b[0m             \u001b[0mself\u001b[0m\u001b[0;34m.\u001b[0m\u001b[0mfd\u001b[0m \u001b[0;34m=\u001b[0m \u001b[0mNone\u001b[0m\u001b[0;34m\u001b[0m\u001b[0m\n\u001b[0;32m--> 268\u001b[0;31m             \u001b[0;32mraise\u001b[0m \u001b[0mSerialException\u001b[0m\u001b[0;34m(\u001b[0m\u001b[0mmsg\u001b[0m\u001b[0;34m.\u001b[0m\u001b[0merrno\u001b[0m\u001b[0;34m,\u001b[0m \u001b[0;34m\"could not open port {}: {}\"\u001b[0m\u001b[0;34m.\u001b[0m\u001b[0mformat\u001b[0m\u001b[0;34m(\u001b[0m\u001b[0mself\u001b[0m\u001b[0;34m.\u001b[0m\u001b[0m_port\u001b[0m\u001b[0;34m,\u001b[0m \u001b[0mmsg\u001b[0m\u001b[0;34m)\u001b[0m\u001b[0;34m)\u001b[0m\u001b[0;34m\u001b[0m\u001b[0m\n\u001b[0m\u001b[1;32m    269\u001b[0m         \u001b[0;31m#~ fcntl.fcntl(self.fd, fcntl.F_SETFL, 0)  # set blocking\u001b[0m\u001b[0;34m\u001b[0m\u001b[0;34m\u001b[0m\u001b[0m\n\u001b[1;32m    270\u001b[0m \u001b[0;34m\u001b[0m\u001b[0m\n",
      "\u001b[0;31mSerialException\u001b[0m: [Errno 2] could not open port /dev/Arduino: [Errno 2] No such file or directory: '/dev/Arduino'"
     ]
    }
   ],
   "source": [
    "import serial\n",
    "import signal\n",
    "import time\n",
    "\n",
    "serialPort = \"/dev/Arduino\"\n",
    "baudRate = 57600\n",
    "ser = serial.Serial(serialPort, baudRate, timeout=0.5)\n",
    "def myHandler(signum, frame):\n",
    "    pass"
   ]
  },
  {
   "cell_type": "code",
   "execution_count": 5,
   "metadata": {},
   "outputs": [],
   "source": [
    "def go_to_home():\n",
    "    \n",
    "    Hong_joint0 = radians(101.23)\n",
    "    Hong_joint1 = radians(-83.77)\n",
    "    Hong_joint2 = radians(-130.28)\n",
    "    Hong_joint3 = radians(-55.97)\n",
    "    Hong_joint4 = radians(89.33)\n",
    "    Hong_joint5 = radians(-78.73)\n",
    "    \n",
    "    rob.movej((Hong_joint0,Hong_joint1, Hong_joint2, Hong_joint3, Hong_joint4, Hong_joint5), 0.6, 1.5)\n",
    "    \n",
    "def go_to_safe_place():\n",
    "    \n",
    "    Hong_joint0 = radians(101.74)\n",
    "    Hong_joint1 = radians(-76.84)\n",
    "    Hong_joint2 = radians(-120.83)\n",
    "    Hong_joint3 = radians(-72.33)\n",
    "    Hong_joint4 = radians(89.40)\n",
    "    Hong_joint5 = radians(-78.12)\n",
    "    \n",
    "    rob.movej((Hong_joint0,Hong_joint1, Hong_joint2, Hong_joint3, Hong_joint4, Hong_joint5), 0.6, 1.5)\n",
    "    \n",
    "def go_to_end_place():\n",
    "    \n",
    "    Hong_joint0 = radians(106.13)\n",
    "    Hong_joint1 = radians(-60.48)\n",
    "    Hong_joint2 = radians(-130.69)\n",
    "    Hong_joint3 = radians(-78.86)\n",
    "    Hong_joint4 = radians(89.68)\n",
    "    Hong_joint5 = radians(-73.78)\n",
    "    \n",
    "    rob.movej((Hong_joint0,Hong_joint1, Hong_joint2, Hong_joint3, Hong_joint4, Hong_joint5), 0.6, 1.5)"
   ]
  },
  {
   "cell_type": "code",
   "execution_count": 6,
   "metadata": {},
   "outputs": [],
   "source": [
    "def stone_position_in_the_world(pose_x, pose_y, pose_z):\n",
    "    if pose_z==0.0:\n",
    "        return [None, None, None]\n",
    "    rob.set_tcp((0, 0.0, 0, 0, 0, 0))    \n",
    "    camPstone = np.array([pose_x, pose_y, pose_z, 1])\n",
    "    eeTcam = m3d.Transform()\n",
    "    eeTcam.pos = (0.076173+0.05, -0.0934057-0.03, 0.0074811)\n",
    "    eeTcam_e = tf.transformations.euler_from_quaternion([-0.0143125,0.69183,-0.0012,0.722039], axes='sxyz')\n",
    "    eeTcam.orient.rotate_xb(eeTcam_e[0])\n",
    "    eeTcam.orient.rotate_yb(eeTcam_e[1])\n",
    "    eeTcam.orient.rotate_zb(eeTcam_e[2])\n",
    "    tcpTee = np.array([[0,-1,0,0], [0,0,-1,0], [1,0,0,0], [0,0,0,1]])\n",
    "    eeTstone = np.matmul(eeTcam.get_matrix(), camPstone)\n",
    "    tcpTstone = np.matmul(tcpTee, np.transpose(eeTstone))\n",
    "    worldTstone = np.matmul(rob.get_pose().get_matrix(), tcpTstone)\n",
    "    worldTstone = worldTstone.squeeze().tolist()[0][0:-1]\n",
    "    return [worldTstone[0]+0.01953-0.0032, worldTstone[1]+0.02148-0.0035+0.006, worldTstone[2]]"
   ]
  },
  {
   "cell_type": "code",
   "execution_count": 7,
   "metadata": {},
   "outputs": [
    {
     "data": {
      "text/plain": [
       "<rospy.topics.Subscriber at 0x7f011c0a1090>"
      ]
     },
     "execution_count": 7,
     "metadata": {},
     "output_type": "execute_result"
    }
   ],
   "source": [
    "def hori_stone_pose_callback(msg):\n",
    "    global hori_pose_Go_stone_set, hori_Go_stone_number, Go_stone_dir_sorted, yaw_pitch_normal_set\n",
    "    hori_Go_stone_number = int(msg.hori_Go_stone_number)\n",
    "    if hori_Go_stone_number == 0:\n",
    "        hori_pose_Go_stone_set = []\n",
    "        Go_stone_dir_sorted = []\n",
    "        yaw_pitch_normal_set = []\n",
    "    else:\n",
    "        pose_x = msg.x\n",
    "        pose_y = msg.y\n",
    "        pose_z = msg.z\n",
    "        yaw = msg.yaw\n",
    "        pitch = msg.pitch\n",
    "        normal = msg.normal\n",
    "        dir_depth_inner = msg.dir_depth_inner\n",
    "        dir_depth_outer = msg.dir_depth_outer\n",
    "        dir_depth_outer_minus_inner = []\n",
    "        for i in range(len(dir_depth_inner)):\n",
    "            dir_depth_outer_minus_inner.append(dir_depth_outer[i]-dir_depth_inner[i])\n",
    "        dir_depth_outer_minus_inner_argsort = np.argsort(-np.array(dir_depth_outer_minus_inner)).tolist()\n",
    "        dir_depth_outer_minus_inner_argsort_copy = dir_depth_outer_minus_inner_argsort[:]\n",
    "        for index in dir_depth_outer_minus_inner_argsort:\n",
    "            if dir_depth_outer[index]-dir_depth_inner[index]<0:\n",
    "                dir_depth_outer_minus_inner_argsort_copy.remove(index)\n",
    "            elif dir_depth_outer[index]==0 or dir_depth_inner[index]==0:\n",
    "                dir_depth_outer_minus_inner_argsort_copy.remove(index)\n",
    "        dir_depth_outer_minus_inner_argsort=dir_depth_outer_minus_inner_argsort_copy[:]\n",
    "        hori_pose_Go_stone_set.append(stone_position_in_the_world(pose_x, pose_y, pose_z))\n",
    "        Go_stone_dir_sorted.append(dir_depth_outer_minus_inner_argsort)\n",
    "        yaw_pitch_normal_set.append([yaw,pitch,normal])\n",
    "hori_pose_topic = '/hori_stone_pose' #\"/usb_cam/image_raw\"\n",
    "rospy.Subscriber(hori_pose_topic, stone_pose_hori, hori_stone_pose_callback)"
   ]
  },
  {
   "cell_type": "code",
   "execution_count": 8,
   "metadata": {},
   "outputs": [
    {
     "data": {
      "text/plain": [
       "<rospy.topics.Subscriber at 0x7f00fdfc4f10>"
      ]
     },
     "execution_count": 8,
     "metadata": {},
     "output_type": "execute_result"
    }
   ],
   "source": [
    "import json\n",
    "def ver_stone_pose_callback(msg):\n",
    "    global ver_pose_Go_stone_set, ver_Go_stone_number, gripper_direction_set, gripper_aperture_set, json_error\n",
    "    ver_Go_stone_number = int(msg.ver_Go_stone_number)\n",
    "    if ver_Go_stone_number == 0:\n",
    "        ver_pose_Go_stone_set = []\n",
    "        gripper_direction_set = []\n",
    "        gripper_aperture_set = []\n",
    "    else:\n",
    "        try:\n",
    "            pose_x = msg.x\n",
    "            pose_y = msg.y\n",
    "            pose_z = msg.z \n",
    "            box = json.loads(msg.box)\n",
    "            ver_pose_Go_stone_set.append(stone_position_in_the_world(pose_x, pose_y, pose_z))\n",
    "            box = [stone_position_in_the_world(box[i][0], box[i][1], pose_z)[0:2] for i in range(len(box))]\n",
    "            #print box\n",
    "            length1 = np.sqrt((box[0][0]-box[1][0])**2+(box[0][1]-box[1][1])**2)\n",
    "            length2 = np.sqrt((box[2][0]-box[1][0])**2+(box[2][1]-box[1][1])**2)\n",
    "            if length1 > length2:\n",
    "                try:\n",
    "                    if abs(atan((box[0][0]-box[1][0])/(box[0][1]-box[1][1]))+pi/2)<abs(atan((box[0][0]-box[1][0])/(box[0][1]-box[1][1]))-pi/2):\n",
    "                        temp_angle=atan((box[0][0]-box[1][0])/(box[0][1]-box[1][1]))+pi/2\n",
    "                    else:\n",
    "                        temp_angle=atan((box[0][0]-box[1][0])/(box[0][1]-box[1][1]))-pi/2\n",
    "                    gripper_direction_set.append(temp_angle)\n",
    "                except:\n",
    "                    gripper_direction_set.append(0)\n",
    "                gripper_aperture_set.append(length2+0.006)\n",
    "            else:\n",
    "                try:\n",
    "                    if abs(atan((box[2][0]-box[1][0])/(box[2][1]-box[1][1]))+pi/2)<abs(atan((box[2][0]-box[1][0])/(box[2][1]-box[1][1]))-pi/2):\n",
    "                        temp_angle=atan((box[2][0]-box[1][0])/(box[2][1]-box[1][1]))+pi/2\n",
    "                    else:\n",
    "                        temp_angle=atan((box[2][0]-box[1][0])/(box[2][1]-box[1][1]))-pi/2\n",
    "                    gripper_direction_set.append(temp_angle)\n",
    "                except:\n",
    "                    gripper_direction_set.append(0)\n",
    "                gripper_aperture_set.append(length1+0.006)       \n",
    "        except:\n",
    "            json_error = True\n",
    "ver_pose_topic = '/ver_stone_pose' #\"/usb_cam/image_raw\"\n",
    "rospy.Subscriber(ver_pose_topic, stone_pose_ver, ver_stone_pose_callback)"
   ]
  },
  {
   "cell_type": "code",
   "execution_count": 9,
   "metadata": {},
   "outputs": [],
   "source": [
    "is_send_stone_img = 0\n",
    "stone_img_count = 0\n",
    "bridge = CvBridge()\n",
    "\n",
    "def image_callback(color, a_depth):\n",
    "    global is_send_stone_img, stone_img_count, cv2_img, cv2_depth_img\n",
    "    if is_send_stone_img == 1:\n",
    "        print \"dsag\"\n",
    "        img_count_pub = rospy.Publisher('/stone_img_index', String, queue_size=1)\n",
    "        rospy.sleep(0.5)\n",
    "        cv2_img = bridge.imgmsg_to_cv2(color, \"bgr8\")\n",
    "        cv2.imwrite('/home/terry/Mask_RCNN/samples/stones/JPEGImages/'+str(stone_img_count)+'.jpeg', cv2_img)\n",
    "        cv2_depth_img = bridge.imgmsg_to_cv2(a_depth, desired_encoding=\"passthrough\")\n",
    "        depth_array = np.array(cv2_depth_img, dtype=np.float32)\n",
    "        cv2.imwrite('/home/terry/Mask_RCNN/samples/stones/depth/'+str(stone_img_count)+'.jpeg', cv2_depth_img)\n",
    "        np.save('/home/terry/Mask_RCNN/samples/stones/depth/'+str(stone_img_count)+'.npy', depth_array)\n",
    "        img_count_pub.publish(str(stone_img_count))\n",
    "        print str(stone_img_count)\n",
    "        stone_img_count = stone_img_count + 1\n",
    "        is_send_stone_img = 0"
   ]
  },
  {
   "cell_type": "code",
   "execution_count": 10,
   "metadata": {},
   "outputs": [
    {
     "data": {
      "text/plain": [
       "0"
      ]
     },
     "execution_count": 10,
     "metadata": {},
     "output_type": "execute_result"
    }
   ],
   "source": [
    "image_color_sub = message_filters.Subscriber('/camera/color/image_raw', Image)\n",
    "image_aligned_depth_sub = message_filters.Subscriber('/camera/aligned_depth_to_color/image_raw', Image)\n",
    "ts = message_filters.TimeSynchronizer([image_color_sub, image_aligned_depth_sub], 10)\n",
    "ts.registerCallback(image_callback)"
   ]
  },
  {
   "cell_type": "code",
   "execution_count": null,
   "metadata": {},
   "outputs": [],
   "source": [
    "def poke_grasp_execute(Go_index):\n",
    "    print 'Go_index', index\n",
    "    global hori_pose_Go_stone_set, yaw_pitch_normal_set, switching_stone_coordinate_set\n",
    "    pose_x = hori_pose_Go_stone_set[Go_index][0]\n",
    "    pose_y = hori_pose_Go_stone_set[Go_index][1]\n",
    "    pose_z = hori_pose_Go_stone_set[Go_index][2]\n",
    "    normal=yaw_pitch_normal_set[Go_index][2]\n",
    "    ####################### change tcp pose ############################\n",
    "    rob.set_tcp((0, 0, 0.36142, 0, 0, 0))\n",
    "    rospy.sleep(0.5)\n",
    "    ####################################################################\n",
    "    go_to_safe_place()    \n",
    "    worldPstone = np.array([pose_x, pose_y, pose_z, 1])\n",
    "    print 'worldPstone', worldPstone\n",
    "    tcpTstone = np.transpose(np.matmul(np.linalg.inv(rob.get_pose().get_matrix()), worldPstone))\n",
    "    print \"tcpTstone\", tcpTstone\n",
    "    eeTcam = m3d.Transform()\n",
    "    eeTcam.pos = (0.076173+0.05, -0.0934057-0.03, 0.0074811)\n",
    "    eeTcam_e = tf.transformations.euler_from_quaternion([-0.0143125,0.69183,-0.0012,0.722039], axes='sxyz')\n",
    "    eeTcam.orient.rotate_xb(eeTcam_e[0])\n",
    "    eeTcam.orient.rotate_yb(eeTcam_e[1])\n",
    "    eeTcam.orient.rotate_zb(eeTcam_e[2])\n",
    "    print eeTcam\n",
    "    \n",
    "    yaxis = (0, 1, 0)\n",
    "    zaxis = (0, 0, 1)\n",
    "    Ry = tf.transformations.rotation_matrix(pi/2, yaxis)\n",
    "    Rz = tf.transformations.rotation_matrix(-pi/2, zaxis)\n",
    "    eeTtcp = np.matmul(Ry, Rz)\n",
    "    ####################### change tcp pose ############################\n",
    "    eeTtcp[:3,3] = np.array([0.36142,0,0])\n",
    "    ####################################################################\n",
    "    tcpTee = inv(eeTtcp)\n",
    "    print tcpTee\n",
    "\n",
    "    n_normalize = normal / np.linalg.norm(normal)\n",
    "    print \"n_normalize\", n_normalize\n",
    "    n_normalize = np.array([n_normalize[0], n_normalize[1], n_normalize[2], 1])\n",
    "    eeTnormal = np.matmul(eeTcam.get_matrix(), n_normalize)\n",
    "    tcpTnormal = np.matmul(tcpTee, np.transpose(eeTnormal))\n",
    "    print \"tcpTnormal\", tcpTnormal\n",
    "    alpha = atan2(tcpTnormal[1], tcpTnormal[0]) # is yaw\n",
    "    if str(alpha) == 'nan':\n",
    "        return False\n",
    "    beta = -(pi/2+atan2(tcpTnormal[2], sqrt(tcpTnormal[0]**2+tcpTnormal[1]**2))) #tune psi\n",
    "    if str(beta) == 'nan':\n",
    "        return False\n",
    "    if abs(beta)>(35*pi/180.0):\n",
    "        return False\n",
    "    print \"alpha\", alpha*180/pi, \"beta\", beta*180/pi\n",
    "\n",
    "    Robotiq.goto(robotiq_client, pos=0.021, speed=0.5, force=10, block=True)\n",
    "    rospy.sleep(1)\n",
    "    hardtip()\n",
    "    signal.signal(signal.SIGALRM, myHandler)\n",
    "    signal.setitimer(signal.ITIMER_REAL, 0.005)\n",
    "    ser.write('1100')\n",
    "    signal.setitimer(signal.ITIMER_REAL, 0)\n",
    "    move = m3d.Transform((tcpTstone[0,0]+0.001, tcpTstone[1,0]-0.004, 0, 0, 0, 0))    \n",
    "    rob.add_pose_tool( move, acc=0.3, vel=1, wait=True, command=\"movel\", threshold=None)\n",
    "    rob.translate_tool((0, 0, tcpTstone[2,0]-0.015), acc=0.5, vel=0.8)\n",
    "    #k=l+m\n",
    "    rob.movel_tool((0,0,0,0,0,alpha), acc=0.5, vel=0.8, wait=True)\n",
    "    rob.movel_tool((0,0,0,0,beta,0), acc=0.5, vel=0.8, wait=True)\n",
    "    ###########################Choose d and psi######################################\n",
    "    rob.translate_tool((0.004+0.0015*int(abs(beta)>10)+0.003*int(abs(beta)>15), 0, 0), acc=0.06, vel=0.08)\n",
    "    psi = radians(20)\n",
    "    rob.movel_tool((0,0,0,0,psi,0), acc=0.3, vel=0.8, wait=True)\n",
    "    #################################################################################\n",
    "    rob.translate_tool((0, 0, 0.0285), acc=0.01, vel=0.05, wait=False)\n",
    "    wrench = rospy.wait_for_message('/robotiq_ft_wrench', WrenchStamped, timeout = None)\n",
    "    ini_wrench = wrench.wrench.force.z\n",
    "    time0 = time.time()\n",
    "    IsStack = False\n",
    "    num_large_force = 0\n",
    "    while True:\n",
    "        if num_large_force == 5:\n",
    "            IsStack = True\n",
    "            rob.stopl()\n",
    "            break\n",
    "        wrench = rospy.wait_for_message('/robotiq_ft_wrench', WrenchStamped, timeout = None)\n",
    "        if wrench.wrench.force.z<ini_wrench-5:   # need change\n",
    "            num_large_force += 1\n",
    "        if time.time()-time0>3.7:  #3.7\n",
    "            IsStack = False\n",
    "            break\n",
    "    print 'IsStack', IsStack\n",
    "    \n",
    "    if IsStack==False:\n",
    "        rob.translate_tool((0, 0, 0.005), acc=0.01, vel=0.05, wait=False)\n",
    "        for k0 in range(0, -31, -2):\n",
    "            signal.setitimer(signal.ITIMER_REAL, 0.001)\n",
    "            ser.write('1'+str(100+k0))\n",
    "            signal.setitimer(signal.ITIMER_REAL, 0)\n",
    "            time.sleep(0.1)\n",
    "        Robotiq.goto(robotiq_client, pos=0.006, speed=0.5, force=10, block=False)\n",
    "        rospy.sleep(.5)\n",
    "        rob.translate_tool((0, 0, -0.08), acc=0.3, vel=0.8)\n",
    "        rob.set_tcp((0, 0, 0, 0, 0, 0))\n",
    "        rospy.sleep(0.5)\n",
    "        go_to_end_place()\n",
    "        Robotiq.goto(robotiq_client, pos=0.05, speed=0.5, force=10, block=True)\n",
    "    else:\n",
    "        switching_stone_coordinate_set.append(hori_pose_Go_stone_set[Go_index])\n",
    "        rob.translate_tool((0, 0, -0.08), acc=0.3, vel=0.8)\n",
    "        rob.set_tcp((0, 0, 0, 0, 0, 0))\n",
    "        rospy.sleep(0.5)        \n",
    "        go_to_safe_place()\n",
    "    return True"
   ]
  },
  {
   "cell_type": "code",
   "execution_count": 11,
   "metadata": {},
   "outputs": [],
   "source": [
    "def finger_tip_position_wrt_gripper_frame(alpha, l0, l1, l2l, l2r, flength_l, flength_r):\n",
    "    alpha=alpha*pi/180\n",
    "    left_fingertip_position=[-l0-l1*sin(alpha)+l2l, -l1*cos(alpha)-flength_l]\n",
    "    right_fingertip_position=[l0+l1*sin(alpha)-l2r, -l1*cos(alpha)-flength_r]\n",
    "    return left_fingertip_position, right_fingertip_position\n",
    "\n",
    "def pos_flength_adjust_finger_fixed(current_alpha, next_alpha, theta, l0, l1, l2l, l2r, flength_r):\n",
    "    theta=theta*pi/180\n",
    "    current_flength_l = flength_r - (2*l0+2*l1*sin(current_alpha*pi/180)-l2l-l2r)/tan(theta)\n",
    "    current_left_fingertip_pos_g, current_right_fingertip_pos_g = finger_tip_position_wrt_gripper_frame(current_alpha, l0, l1, l2l, l2r, current_flength_l, flength_r)  \n",
    "    next_left_fingertip_pos_g, next_right_fingertip_pos_g = finger_tip_position_wrt_gripper_frame(next_alpha, l0, l1, l2l, l2r, current_flength_l, flength_r) \n",
    "    traslating_wst_g = [current_right_fingertip_pos_g[0]-next_right_fingertip_pos_g[0], current_right_fingertip_pos_g[1]-next_right_fingertip_pos_g[1]]\n",
    "    traslating_wst_world = np.array([[sin(theta), -cos(theta)], [cos(theta), sin(theta)]]).dot(np.array([[traslating_wst_g[0]], [traslating_wst_g[1]]])).ravel().tolist()\n",
    "    next_left_fingertip_pos_g = [next_left_fingertip_pos_g[0]+traslating_wst_g[0], next_left_fingertip_pos_g[1]+traslating_wst_g[1]]\n",
    "    next_right_fingertip_pos_g = [next_right_fingertip_pos_g[0]+traslating_wst_g[0], next_right_fingertip_pos_g[1]+traslating_wst_g[1]]\n",
    "    extension_distance = -(next_right_fingertip_pos_g[1]+(2*l0+2*l1*sin(next_alpha*pi/180)-l2l-l2r)/tan(theta)-next_left_fingertip_pos_g[1])\n",
    "    return traslating_wst_world, extension_distance\n",
    "\n",
    "def pos_flength_adjust_thumb_fixed(current_alpha, next_alpha, theta, l0, l1, l2l, l2r, flength_r):\n",
    "    theta=theta*pi/180\n",
    "    current_flength_l = flength_r - (2*l0+2*l1*sin(current_alpha*pi/180)-l2l-l2r)/tan(theta)\n",
    "    current_left_fingertip_pos_g, current_right_fingertip_pos_g = finger_tip_position_wrt_gripper_frame(current_alpha, l0, l1, l2l, l2r, current_flength_l, flength_r)  \n",
    "    next_left_fingertip_pos_g, next_right_fingertip_pos_g = finger_tip_position_wrt_gripper_frame(next_alpha, l0, l1, l2l, l2r, current_flength_l, flength_r) \n",
    "    traslating_wst_g = [current_right_fingertip_pos_g[0]-next_right_fingertip_pos_g[0], current_right_fingertip_pos_g[1]-next_right_fingertip_pos_g[1]]\n",
    "    traslating_wst_world = np.array([[sin(theta), -cos(theta)], [cos(theta), sin(theta)]]).dot(np.array([[traslating_wst_g[0]], [traslating_wst_g[1]]])).ravel().tolist()\n",
    "    next_left_fingertip_pos_g = [next_left_fingertip_pos_g[0]+traslating_wst_g[0], next_left_fingertip_pos_g[1]+traslating_wst_g[1]]\n",
    "    next_right_fingertip_pos_g = [next_right_fingertip_pos_g[0]+traslating_wst_g[0], next_right_fingertip_pos_g[1]+traslating_wst_g[1]]\n",
    "    extension_distance = -(next_right_fingertip_pos_g[1]+(2*l0+2*l1*sin(next_alpha*pi/180)-l2l-l2r)/tan(theta)-next_left_fingertip_pos_g[1])\n",
    "    traslating_wst_world[0]=traslating_wst_world[0]-((2*l0+2*l1*sin(current_alpha*pi/180)-l2l-l2r)-(2*l0+2*l1*sin(next_alpha*pi/180)-l2l-l2r))/sin(theta)\n",
    "    return traslating_wst_world, extension_distance"
   ]
  },
  {
   "cell_type": "code",
   "execution_count": 12,
   "metadata": {},
   "outputs": [],
   "source": [
    "from __future__ import division\n",
    "import pybullet as p\n",
    "import pybullet_data\n",
    "import numpy as np\n",
    "import time\n",
    "import argparse\n",
    "import pybullet_utils\n",
    "from collision_utils import get_collision_fn\n",
    "from scipy.spatial.transform import Rotation as R\n",
    "from math import *\n",
    "\n",
    "THUMB_JOINT_INDICES = [0]\n",
    "\n",
    "def get_args():\n",
    "    parser = argparse.ArgumentParser()\n",
    "    parser.add_argument('--birrt', action='store_true', default=False)\n",
    "    parser.add_argument('--smoothing', action='store_true', default=False)\n",
    "    args = parser.parse_args(args=[])\n",
    "    return args\n",
    "\n",
    "def set_joint_positions(body, joints, values):\n",
    "    assert len(joints) == len(values)\n",
    "    for joint, value in zip(joints, values):\n",
    "        p.resetJointState(body, joint, value)\n",
    "args = get_args()\n",
    "physicsClient = p.connect(p.DIRECT)\n",
    "p.setAdditionalSearchPath(pybullet_data.getDataPath())\n",
    "p.setPhysicsEngineParameter(enableFileCaching=0)\n",
    "p.setGravity(0, 0, -9.8)\n",
    "p.configureDebugVisualizer(p.COV_ENABLE_GUI, False)\n",
    "p.configureDebugVisualizer(p.COV_ENABLE_SHADOWS, True)\n",
    "p.resetDebugVisualizerCamera(cameraDistance=1.400, cameraYaw=58.000, cameraPitch=-42.200, cameraTargetPosition=(0.0, 0.0, 0.0))\n",
    "CLIENT = 0\n",
    "# load objects\n",
    "finger = p.loadURDF('/home/terry/catkin_ws/src/scoop/models/urdf/Finger-2.9-urdf.urdf', basePosition=[0, 0, 0], baseOrientation=[0,0,1,0], useFixedBase=False)\n",
    "thumb = p.loadURDF('/home/terry/catkin_ws/src/scoop/models/urdf/Assem-1.9-urdf.urdf', basePosition=[0, 0, 0], baseOrientation=[0,0,1,0],useFixedBase=False)\n",
    "bowl_circular = p.loadURDF('/home/terry/catkin_ws/src/scoop/models/urdf/Bowl-circular-urdf.urdf', basePosition=[0.05, 0.69, 0.03], baseOrientation=[0,0,0,1], useFixedBase=True)\n",
    "obstacles = [bowl_circular]\n",
    "\n",
    "def skim_grasp_collision_check(Go_stone_pose, alpha, beta, psi=30*pi/180): # radius\n",
    "    #time0=time.time()\n",
    "    start_conf_thumb = [-0.0133]\n",
    "    fingerbaseOrientation_raw = R.from_dcm([[0, 1, 0], [1, 0, 0], [0, 0, -1]]) * R.from_euler('z', alpha, degrees=False) * R.from_euler('y', beta, degrees=False)\n",
    "    fingerbaseOrientation = fingerbaseOrientation_raw.as_quat().tolist()\n",
    "    ThumbTFinger_normal = fingerbaseOrientation_raw.as_dcm()[:,0].tolist()\n",
    "    print ThumbTFinger_normal\n",
    "    fingerbasePosition = [Go_stone_pose[0]+0.006*ThumbTFinger_normal[0], Go_stone_pose[1]+0.006*ThumbTFinger_normal[1], Go_stone_pose[2]+0.006*ThumbTFinger_normal[2]]\n",
    "    p.resetBasePositionAndOrientation(finger, fingerbasePosition, fingerbaseOrientation)\n",
    "    finger_base_position = list(p.getLinkState(finger, 0)[0])\n",
    "    thumbbaseOrientation = fingerbaseOrientation\n",
    "    thumbbasePosition = [finger_base_position[0]-0.045*ThumbTFinger_normal[0], finger_base_position[1]-0.045*ThumbTFinger_normal[1], finger_base_position[2]-0.045*ThumbTFinger_normal[2]]\n",
    "    set_joint_positions(thumb, THUMB_JOINT_INDICES, start_conf_thumb)\n",
    "    p.resetBasePositionAndOrientation(thumb, thumbbasePosition, thumbbaseOrientation)\n",
    "    collision_fn0 = len(p.getClosestPoints(bodyA=finger, bodyB=bowl_circular, distance=0, physicsClientId=CLIENT)) != 0\n",
    "    collision_fn1 = len(p.getClosestPoints(bodyA=thumb, bodyB=bowl_circular, distance=0, physicsClientId=CLIENT)) != 0\n",
    "    fingerbaseOrientation = (fingerbaseOrientation_raw * R.from_euler('y', psi, degrees=False)).as_quat().tolist()\n",
    "    p.resetBasePositionAndOrientation(finger, fingerbasePosition, fingerbaseOrientation)\n",
    "    finger_base_position = list(p.getLinkState(finger, 0)[0])\n",
    "    thumbbaseOrientation = fingerbaseOrientation\n",
    "    ThumbTFinger_normal = R.from_quat(fingerbaseOrientation).as_dcm()[:,0].tolist()\n",
    "    thumbbasePosition = [finger_base_position[0]-0.045*ThumbTFinger_normal[0], finger_base_position[1]-0.045*ThumbTFinger_normal[1], finger_base_position[2]-0.045*ThumbTFinger_normal[2]]  \n",
    "    p.resetBasePositionAndOrientation(thumb, thumbbasePosition, thumbbaseOrientation)\n",
    "    collision_fn2 = len(p.getClosestPoints(bodyA=finger, bodyB=bowl_circular, distance=0, physicsClientId=CLIENT)) != 0\n",
    "    collision_fn3 = len(p.getClosestPoints(bodyA=thumb, bodyB=bowl_circular, distance=0, physicsClientId=CLIENT)) != 0\n",
    "    print p.getClosestPoints(bodyA=thumb, bodyB=bowl_circular, distance=0, physicsClientId=CLIENT)\n",
    "    result = collision_fn0 or collision_fn1 or collision_fn2 or collision_fn3\n",
    "    return result \n",
    "\n",
    "#skim_grasp_collision_check([0.021606433562704887, 0.7103900159992532, 0.03481510996124948], 1.61191721201, -0.419393650179, 0.698131700798)\n",
    "#skim_grasp_collision_check([0.08080312757252475, 0.6952931065435054, 0.03300760952182907], 0, 0, 0)        "
   ]
  },
  {
   "cell_type": "code",
   "execution_count": 13,
   "metadata": {},
   "outputs": [],
   "source": [
    "def skim_grasp_execute(Go_index):\n",
    "    print 'Go_index', index\n",
    "    global hori_pose_Go_stone_set, yaw_pitch_normal_set, switching_stone_coordinate_set\n",
    "    pose_x = hori_pose_Go_stone_set[Go_index][0]\n",
    "    pose_y = hori_pose_Go_stone_set[Go_index][1]\n",
    "    pose_z = hori_pose_Go_stone_set[Go_index][2]\n",
    "    normal=yaw_pitch_normal_set[Go_index][2]\n",
    "    ####################### change tcp pose ############################\n",
    "    rob.set_tcp((0.014, 0, 0.342, 0, 0, 0))\n",
    "    rospy.sleep(0.5)\n",
    "    ####################################################################\n",
    "    go_to_safe_place()    \n",
    "    worldPstone = np.array([pose_x, pose_y, pose_z, 1])\n",
    "    #print 'worldPstone', worldPstone\n",
    "    tcpTstone = np.transpose(np.matmul(np.linalg.inv(rob.get_pose().get_matrix()), worldPstone))\n",
    "    #print \"tcpTstone\", tcpTstone\n",
    "    eeTcam = m3d.Transform()\n",
    "    eeTcam.pos = (0.076173+0.05, -0.0934057-0.03, 0.0074811)\n",
    "    eeTcam_e = tf.transformations.euler_from_quaternion([-0.0143125,0.69183,-0.0012,0.722039], axes='sxyz')\n",
    "    eeTcam.orient.rotate_xb(eeTcam_e[0])\n",
    "    eeTcam.orient.rotate_yb(eeTcam_e[1])\n",
    "    eeTcam.orient.rotate_zb(eeTcam_e[2])\n",
    "    #print eeTcam\n",
    "    \n",
    "    yaxis = (0, 1, 0)\n",
    "    zaxis = (0, 0, 1)\n",
    "    Ry = tf.transformations.rotation_matrix(pi/2, yaxis)\n",
    "    Rz = tf.transformations.rotation_matrix(-pi/2, zaxis)\n",
    "    eeTtcp = np.matmul(Ry, Rz)\n",
    "    ####################### change tcp pose ############################\n",
    "    eeTtcp[:3,3] = np.array([0.342,-0.014,0])\n",
    "    ####################################################################\n",
    "    tcpTee = inv(eeTtcp)\n",
    "    #print tcpTee\n",
    "\n",
    "    n_normalize = normal / np.linalg.norm(normal)\n",
    "    #print \"n_normalize\", n_normalize\n",
    "    n_normalize = np.array([n_normalize[0], n_normalize[1], n_normalize[2], 1])\n",
    "    eeTnormal = np.matmul(eeTcam.get_matrix(), n_normalize)\n",
    "    tcpTnormal = np.matmul(tcpTee, np.transpose(eeTnormal))\n",
    "    #print \"tcpTnormal\", tcpTnormal\n",
    "    alpha0 = atan2(tcpTnormal[1], tcpTnormal[0]) # is yaw\n",
    "    if str(alpha0) == 'nan':\n",
    "        return False\n",
    "    beta = -(pi/2+atan2(tcpTnormal[2], sqrt(tcpTnormal[0]**2+tcpTnormal[1]**2))) #tune psi\n",
    "    if str(beta) == 'nan':\n",
    "        return False\n",
    "    if abs(beta)>(35*pi/180.0):\n",
    "        return False\n",
    "    if abs(beta*180/pi)>20:\n",
    "        psi = 40*pi/180\n",
    "    else:\n",
    "        psi = 30*pi/180\n",
    "    alpha_set = [alpha0]\n",
    "    if abs(beta)<(5*pi/180):\n",
    "        alpha_set = [-pi*3/4, -pi/2, -pi/4, 0, pi/4, pi/2, pi*3/4, pi]\n",
    "    for alpha in alpha_set:\n",
    "    #print 'collision_check_data', hori_pose_Go_stone_set[Go_index], alpha, beta, psi\n",
    "        if skim_grasp_collision_check(hori_pose_Go_stone_set[Go_index], alpha, beta, psi)==True:\n",
    "            print 'collision happen'\n",
    "            continue\n",
    "        Robotiq.goto(robotiq_client, pos=2.5*0.14/48.0+1.12/48.0, speed=0.5, force=10, block=True)\n",
    "        signal.signal(signal.SIGALRM, myHandler)\n",
    "        signal.setitimer(signal.ITIMER_REAL, 0.005)\n",
    "        ser.write('1080')\n",
    "        signal.setitimer(signal.ITIMER_REAL, 0)\n",
    "        rob.movel_tool((tcpTstone[0,0]+0.003, tcpTstone[1,0]-0.002, 0, 0, 0, 0), acc=0.8, vel=2, wait=True)\n",
    "        rob.translate_tool((0, 0, tcpTstone[2,0]-0.015), acc=0.8, vel=1.5)\n",
    "        rob.movel_tool((0,0,0,0,0,alpha), acc=0.5, vel=0.8, wait=True)\n",
    "        rob.movel_tool((0,0,0,0,beta,0), acc=0.5, vel=0.8, wait=True)\n",
    "        ###########################Choose d and psi######################################\n",
    "        rob.translate_tool((0.008, 0, 0), acc=0.06, vel=0.08)\n",
    "        rob.movel_tool((0,0,0,0,psi,0), acc=0.3, vel=0.8, wait=True)\n",
    "        #################################################################################\n",
    "        #rob.translate_tool((-0.02*sin(psi), 0, 0.02*cos(psi)), acc=0.01, vel=0.05, wait=False)\n",
    "        rob.translate((0, 0, -0.02), acc=0.01, vel=0.05, wait=False)\n",
    "        wrench = rospy.wait_for_message('/robotiq_ft_wrench', WrenchStamped, timeout = None)\n",
    "        ini_wrench = wrench.wrench.torque.y\n",
    "        time0 = time.time()\n",
    "        num_large_force = 0\n",
    "        while True:\n",
    "            if num_large_force == 3:\n",
    "                rob.stopl()\n",
    "                break\n",
    "            wrench = rospy.wait_for_message('/robotiq_ft_wrench', WrenchStamped, timeout = None)\n",
    "            if wrench.wrench.torque.y>ini_wrench+0.07:   \n",
    "                num_large_force += 1\n",
    "            if time.time()-time0>2.8:  \n",
    "                break\n",
    "        time.sleep(0.5)\n",
    "        wrench = rospy.wait_for_message('/robotiq_ft_wrench', WrenchStamped, timeout = None)\n",
    "        ini_wrench = wrench.wrench.torque.y\n",
    "        for current_finger_length_extend in np.arange(0,40,4):\n",
    "            current_finger_length = 80+current_finger_length_extend #Change\n",
    "            signal.setitimer(signal.ITIMER_REAL, 0.001)\n",
    "            ser.write('1'+str(current_finger_length))\n",
    "            signal.setitimer(signal.ITIMER_REAL, 0)\n",
    "            time.sleep(0.2)        \n",
    "            current_fingerlength_int=current_finger_length\n",
    "            wrench = rospy.wait_for_message('/robotiq_ft_wrench', WrenchStamped, timeout = None)\n",
    "            if wrench.wrench.torque.y>ini_wrench+0.2:\n",
    "                break\n",
    "        print current_fingerlength_int  \n",
    "        angle_step=0.2\n",
    "        for angle in np.arange(2.5,-4,-angle_step):\n",
    "            translate_dir_dis, extension_distance = pos_flength_adjust_finger_fixed(angle, angle-angle_step, 60, 0.0125, 0.1, 0.019, 0.01, 0.125)\n",
    "            old_fingerlength_int=current_fingerlength_int\n",
    "            current_fingerlength_int=round(max(current_fingerlength_int+extension_distance*(180.0/0.03),0))\n",
    "            signal.signal(signal.SIGALRM, myHandler)\n",
    "            signal.setitimer(signal.ITIMER_REAL, 0.005)\n",
    "            ser.write('1'+str(current_fingerlength_int))\n",
    "            signal.setitimer(signal.ITIMER_REAL, 0)   \n",
    "            if abs(current_fingerlength_int-old_fingerlength_int)!=0 and current_fingerlength_int<155:\n",
    "                Robotiq.goto(robotiq_client, pos=(angle-1)*0.14/48.0+1.12/48.0, speed=0.2, force=10, block=False)\n",
    "                rob.translate_tool((sin(60*pi/180)*translate_dir_dis[0]+cos(60*pi/180)*translate_dir_dis[1], 0, cos(60*pi/180)*translate_dir_dis[0]-sin(60*pi/180)*translate_dir_dis[1]), acc=0.1, vel=0.4, wait=True)\n",
    "            else:\n",
    "                time.sleep(0.01)\n",
    "        Robotiq.goto(robotiq_client, pos=-4*0.14/48.0+1.12/48.0, speed=0.2, force=10, block=False)\n",
    "        rospy.sleep(0.5)\n",
    "        rob.translate_tool((0, 0, -0.12), acc=0.3, vel=0.8, wait=True)\n",
    "        #go_to_end_place()\n",
    "        #rob.translate((0,0,-0.07), acc=0.3, vel=0.8, wait=True)\n",
    "        #Robotiq.goto(robotiq_client, pos=0.023, speed=0.5, force=10, block=True)\n",
    "        #rospy.sleep(0.5)\n",
    "        Robotiq.goto(robotiq_client, pos=2*0.14/48.0+1.12/48.0, speed=0.5, force=10, block=True)\n",
    "        #rob.translate((0,0,0.07), acc=0.3, vel=0.8, wait=True) \n",
    "        return True\n",
    "    else:\n",
    "        return False"
   ]
  },
  {
   "cell_type": "code",
   "execution_count": 14,
   "metadata": {},
   "outputs": [],
   "source": [
    "def find_alpha_from_distance(distance, l0, l1, l2l, l2r):\n",
    "    alpha = asin((distance+l2l+l2r-2*l0)/2/l1)*180/pi\n",
    "    return alpha\n",
    "\n",
    "def direct_pick_execute(Go_index):\n",
    "    global ver_pose_Go_stone_set, gripper_direction_set, gripper_aperture_set\n",
    "    go_to_safe_place()\n",
    "    hardtip()\n",
    "    Robotiq.goto(robotiq_client, pos=0.75*gripper_aperture_set[Go_index]+0.0105, speed=0.1, force=10, block=True)\n",
    "    signal.signal(signal.SIGALRM, myHandler)\n",
    "    signal.setitimer(signal.ITIMER_REAL, 0.005)\n",
    "    ser.write('1000')\n",
    "    signal.setitimer(signal.ITIMER_REAL, 0)\n",
    "    rob.set_tcp((0, 0, 0, 0, 0, 0))\n",
    "    rospy.sleep(0.5)\n",
    "    pos_x = rob.get_pose().pos.x\n",
    "    pos_y = rob.get_pose().pos.y\n",
    "    pos_z = rob.get_pose().pos.z\n",
    "    rospy.sleep(0.5)\n",
    "    rob.translate((ver_pose_Go_stone_set[Go_index][0]-pos_x-0.005,ver_pose_Go_stone_set[Go_index][1]-pos_y+0.0015,0), acc=0.8, vel=2, wait=True)\n",
    "    rob.movel_tool((0,0,0,0,0,gripper_direction_set[Go_index]),acc=0.8, vel=2)\n",
    "    rob.translate_tool((0.005,0,0),acc=0.1, vel=0.2)\n",
    "    #rob.translate((0,0,-0.025), acc=0.1, vel=0.4, wait=True)\n",
    "    rob.translate((0,0,max((ver_pose_Go_stone_set[Go_index][2]-(pos_z-0.32210))*0.7,-0.035)), acc=0.1, vel=0.1, wait=True)\n",
    "    rob.translate((0,0,max((ver_pose_Go_stone_set[Go_index][2]-(pos_z-0.32210))*0.6,-0.035)), acc=0.001, vel=0.01, wait=True)\n",
    "    Robotiq.goto(robotiq_client, pos=-7*0.14/48.0+1.12/48.0, speed=0.1, force=0.3, block=False)\n",
    "    rospy.sleep(1)\n",
    "    rob.translate((0, 0, 0.08), acc=0.3, vel=0.8)\n",
    "    go_to_end_place()\n",
    "    rob.translate((0,0,-0.07), acc=0.3, vel=0.8, wait=True)\n",
    "    Robotiq.goto(robotiq_client, pos=0.019, speed=0.5, force=10, block=True)\n",
    "    softtip()\n",
    "    rob.translate((0,0,0.07), acc=0.3, vel=0.8, wait=True)"
   ]
  },
  {
   "cell_type": "code",
   "execution_count": 15,
   "metadata": {},
   "outputs": [],
   "source": [
    "from shapely.affinity import rotate\n",
    "from shapely.affinity import translate\n",
    "from shapely.geometry import Point\n",
    "from shapely.geometry import LinearRing\n",
    "\n",
    "def direct_pick_collision_check(Go_index):\n",
    "    global ver_pose_Go_stone_set, gripper_direction_set, gripper_aperture_set\n",
    "    finger_profile = [[0.01, gripper_aperture_set[Go_index]/2+0.019], [-0.01, gripper_aperture_set[Go_index]/2+0.019], [-0.01, -gripper_aperture_set[Go_index]/2-0.007], [0.01, -gripper_aperture_set[Go_index]/2-0.007]]\n",
    "    finger_profile = rotate(LinearRing(finger_profile), -gripper_direction_set[Go_index], origin=Point([0,0]), use_radians=True)\n",
    "    finger_profile = translate(LinearRing(finger_profile), xoff=ver_pose_Go_stone_set[Go_index][0], yoff=ver_pose_Go_stone_set[Go_index][1], zoff=0.0)\n",
    "    if finger_profile.within(Point([0.05,0.69]).buffer(0.055))==True:\n",
    "        return False\n",
    "    else:\n",
    "        return True"
   ]
  },
  {
   "cell_type": "code",
   "execution_count": 19,
   "metadata": {
    "scrolled": true
   },
   "outputs": [
    {
     "name": "stdout",
     "output_type": "stream",
     "text": [
      "Whether inherent switching_stone_coordinate_set before? (y or n)n\n",
      "continue?1\n",
      "started 0\n",
      "dsag\n",
      "0\n",
      "[[0.07441812768708338, 0.6798453558741636, 0.026515022459841775], [0.04897243287305203, 0.679548104224364, 0.02744938839592337], [0.023395635598574306, 0.7027561247441642, 0.026957481590147214], [0.0254619238759079, 0.6524424649435531, 0.027764112139941455]]\n",
      "[[3.024483909022929, 0.2551823906208186, (-0.21984455606814982, 0.02164558316387168, -0.9672360818761507)], [-2.2264919530364327, 0.21406068356382169, (0.04629820136333149, 0.10198784591555164, -0.9668110476747009)], [-2.9037567261323423, 0.29544083714371916, (-0.27700312216258666, -0.07187353548405785, -0.9260500064659752)], [-3.0209689850096906, 0.2551823906208186, (-0.1010135704232704, -0.005798408537508841, -0.8139530358977559)]]\n",
      "[] [] []\n",
      "[('h', 0), ('h', 1), ('h', 2), ('h', 3)]\n",
      "switching_stone_coordinate_set []\n",
      "[-0.1868905129038235, 0.11535389191004732, -0.8575685468241585]\n",
      "14.3647404532\n"
     ]
    },
    {
     "ename": "KeyboardInterrupt",
     "evalue": "",
     "output_type": "error",
     "traceback": [
      "\u001b[0;31m-----------------------------------------\u001b[0m",
      "\u001b[0;31mKeyboardInterrupt\u001b[0mTraceback (most recent call last)",
      "\u001b[0;32m<ipython-input-19-8d4ff7a3b119>\u001b[0m in \u001b[0;36m<module>\u001b[0;34m()\u001b[0m\n\u001b[1;32m    105\u001b[0m             \u001b[0;31m#if True:\u001b[0m\u001b[0;34m\u001b[0m\u001b[0;34m\u001b[0m\u001b[0m\n\u001b[1;32m    106\u001b[0m                 \u001b[0;32mif\u001b[0m \u001b[0mscoop_collision_check\u001b[0m\u001b[0;34m(\u001b[0m\u001b[0mindex\u001b[0m\u001b[0;34m[\u001b[0m\u001b[0;36m1\u001b[0m\u001b[0;34m]\u001b[0m\u001b[0;34m)\u001b[0m\u001b[0;34m==\u001b[0m\u001b[0mFalse\u001b[0m\u001b[0;34m:\u001b[0m\u001b[0;34m\u001b[0m\u001b[0m\n\u001b[0;32m--> 107\u001b[0;31m                     \u001b[0mscoop_execute\u001b[0m\u001b[0;34m(\u001b[0m\u001b[0mindex\u001b[0m\u001b[0;34m[\u001b[0m\u001b[0;36m1\u001b[0m\u001b[0;34m]\u001b[0m\u001b[0;34m)\u001b[0m\u001b[0;34m\u001b[0m\u001b[0m\n\u001b[0m\u001b[1;32m    108\u001b[0m                     \u001b[0;32mbreak\u001b[0m\u001b[0;34m\u001b[0m\u001b[0m\n\u001b[1;32m    109\u001b[0m     \u001b[0;32melse\u001b[0m\u001b[0;34m:\u001b[0m\u001b[0;34m\u001b[0m\u001b[0m\n",
      "\u001b[0;32m<ipython-input-13-c789ed826f16>\u001b[0m in \u001b[0;36mscoop_execute\u001b[0;34m(Go_index)\u001b[0m\n\u001b[1;32m     35\u001b[0m     \u001b[0mser\u001b[0m\u001b[0;34m.\u001b[0m\u001b[0mwrite\u001b[0m\u001b[0;34m(\u001b[0m\u001b[0;34m'1000'\u001b[0m\u001b[0;34m)\u001b[0m\u001b[0;34m\u001b[0m\u001b[0m\n\u001b[1;32m     36\u001b[0m     \u001b[0msignal\u001b[0m\u001b[0;34m.\u001b[0m\u001b[0msetitimer\u001b[0m\u001b[0;34m(\u001b[0m\u001b[0msignal\u001b[0m\u001b[0;34m.\u001b[0m\u001b[0mITIMER_REAL\u001b[0m\u001b[0;34m,\u001b[0m \u001b[0;36m0\u001b[0m\u001b[0;34m)\u001b[0m\u001b[0;34m\u001b[0m\u001b[0m\n\u001b[0;32m---> 37\u001b[0;31m     \u001b[0mrob\u001b[0m\u001b[0;34m.\u001b[0m\u001b[0mmovel_tool\u001b[0m\u001b[0;34m(\u001b[0m\u001b[0;34m(\u001b[0m\u001b[0;36m0\u001b[0m\u001b[0;34m,\u001b[0m\u001b[0;36m0\u001b[0m\u001b[0;34m,\u001b[0m\u001b[0;36m0\u001b[0m\u001b[0;34m,\u001b[0m\u001b[0;36m0\u001b[0m\u001b[0;34m,\u001b[0m\u001b[0;36m0\u001b[0m\u001b[0;34m,\u001b[0m\u001b[0;34m-\u001b[0m\u001b[0mgripper_orientation\u001b[0m\u001b[0;34m*\u001b[0m\u001b[0mpi\u001b[0m\u001b[0;34m/\u001b[0m\u001b[0;36m180\u001b[0m\u001b[0;34m)\u001b[0m\u001b[0;34m,\u001b[0m\u001b[0macc\u001b[0m\u001b[0;34m=\u001b[0m\u001b[0;36m0.5\u001b[0m\u001b[0;34m,\u001b[0m \u001b[0mvel\u001b[0m\u001b[0;34m=\u001b[0m\u001b[0;36m2\u001b[0m\u001b[0;34m)\u001b[0m\u001b[0;34m\u001b[0m\u001b[0m\n\u001b[0m\u001b[1;32m     38\u001b[0m     \u001b[0mtcp2fingertip\u001b[0m\u001b[0;34m=\u001b[0m\u001b[0mm3d\u001b[0m\u001b[0;34m.\u001b[0m\u001b[0mTransform\u001b[0m\u001b[0;34m(\u001b[0m\u001b[0;34m)\u001b[0m\u001b[0;34m\u001b[0m\u001b[0m\n\u001b[1;32m     39\u001b[0m     \u001b[0mtcp2fingertip\u001b[0m\u001b[0;34m.\u001b[0m\u001b[0mpos\u001b[0m\u001b[0;34m.\u001b[0m\u001b[0mx\u001b[0m \u001b[0;34m=\u001b[0m \u001b[0;34m-\u001b[0m\u001b[0;36m0.02\u001b[0m \u001b[0;31m# need change\u001b[0m\u001b[0;34m\u001b[0m\u001b[0m\n",
      "\u001b[0;32m/home/terry/anaconda3/envs/ros_control/lib/python2.7/site-packages/urx/robot.pyc\u001b[0m in \u001b[0;36mmovel_tool\u001b[0;34m(self, pose, acc, vel, wait, threshold)\u001b[0m\n\u001b[1;32m    198\u001b[0m         \u001b[0mmove\u001b[0m \u001b[0mlinear\u001b[0m \u001b[0mto\u001b[0m \u001b[0mgiven\u001b[0m \u001b[0mpose\u001b[0m \u001b[0;32min\u001b[0m \u001b[0mtool\u001b[0m \u001b[0mcoordinate\u001b[0m\u001b[0;34m\u001b[0m\u001b[0m\n\u001b[1;32m    199\u001b[0m         \"\"\"\n\u001b[0;32m--> 200\u001b[0;31m         \u001b[0;32mreturn\u001b[0m \u001b[0mself\u001b[0m\u001b[0;34m.\u001b[0m\u001b[0mmovex_tool\u001b[0m\u001b[0;34m(\u001b[0m\u001b[0;34m\"movel\"\u001b[0m\u001b[0;34m,\u001b[0m \u001b[0mpose\u001b[0m\u001b[0;34m,\u001b[0m \u001b[0macc\u001b[0m\u001b[0;34m=\u001b[0m\u001b[0macc\u001b[0m\u001b[0;34m,\u001b[0m \u001b[0mvel\u001b[0m\u001b[0;34m=\u001b[0m\u001b[0mvel\u001b[0m\u001b[0;34m,\u001b[0m \u001b[0mwait\u001b[0m\u001b[0;34m=\u001b[0m\u001b[0mwait\u001b[0m\u001b[0;34m,\u001b[0m \u001b[0mthreshold\u001b[0m\u001b[0;34m=\u001b[0m\u001b[0mthreshold\u001b[0m\u001b[0;34m)\u001b[0m\u001b[0;34m\u001b[0m\u001b[0m\n\u001b[0m\u001b[1;32m    201\u001b[0m \u001b[0;34m\u001b[0m\u001b[0m\n\u001b[1;32m    202\u001b[0m     \u001b[0;32mdef\u001b[0m \u001b[0mmovex_tool\u001b[0m\u001b[0;34m(\u001b[0m\u001b[0mself\u001b[0m\u001b[0;34m,\u001b[0m \u001b[0mcommand\u001b[0m\u001b[0;34m,\u001b[0m \u001b[0mpose\u001b[0m\u001b[0;34m,\u001b[0m \u001b[0macc\u001b[0m\u001b[0;34m=\u001b[0m\u001b[0;36m0.01\u001b[0m\u001b[0;34m,\u001b[0m \u001b[0mvel\u001b[0m\u001b[0;34m=\u001b[0m\u001b[0;36m0.01\u001b[0m\u001b[0;34m,\u001b[0m \u001b[0mwait\u001b[0m\u001b[0;34m=\u001b[0m\u001b[0mTrue\u001b[0m\u001b[0;34m,\u001b[0m \u001b[0mthreshold\u001b[0m\u001b[0;34m=\u001b[0m\u001b[0mNone\u001b[0m\u001b[0;34m)\u001b[0m\u001b[0;34m:\u001b[0m\u001b[0;34m\u001b[0m\u001b[0m\n",
      "\u001b[0;32m/home/terry/anaconda3/envs/ros_control/lib/python2.7/site-packages/urx/robot.pyc\u001b[0m in \u001b[0;36mmovex_tool\u001b[0;34m(self, command, pose, acc, vel, wait, threshold)\u001b[0m\n\u001b[1;32m    202\u001b[0m     \u001b[0;32mdef\u001b[0m \u001b[0mmovex_tool\u001b[0m\u001b[0;34m(\u001b[0m\u001b[0mself\u001b[0m\u001b[0;34m,\u001b[0m \u001b[0mcommand\u001b[0m\u001b[0;34m,\u001b[0m \u001b[0mpose\u001b[0m\u001b[0;34m,\u001b[0m \u001b[0macc\u001b[0m\u001b[0;34m=\u001b[0m\u001b[0;36m0.01\u001b[0m\u001b[0;34m,\u001b[0m \u001b[0mvel\u001b[0m\u001b[0;34m=\u001b[0m\u001b[0;36m0.01\u001b[0m\u001b[0;34m,\u001b[0m \u001b[0mwait\u001b[0m\u001b[0;34m=\u001b[0m\u001b[0mTrue\u001b[0m\u001b[0;34m,\u001b[0m \u001b[0mthreshold\u001b[0m\u001b[0;34m=\u001b[0m\u001b[0mNone\u001b[0m\u001b[0;34m)\u001b[0m\u001b[0;34m:\u001b[0m\u001b[0;34m\u001b[0m\u001b[0m\n\u001b[1;32m    203\u001b[0m         \u001b[0mt\u001b[0m \u001b[0;34m=\u001b[0m \u001b[0mm3d\u001b[0m\u001b[0;34m.\u001b[0m\u001b[0mTransform\u001b[0m\u001b[0;34m(\u001b[0m\u001b[0mpose\u001b[0m\u001b[0;34m)\u001b[0m\u001b[0;34m\u001b[0m\u001b[0m\n\u001b[0;32m--> 204\u001b[0;31m         \u001b[0mself\u001b[0m\u001b[0;34m.\u001b[0m\u001b[0madd_pose_tool\u001b[0m\u001b[0;34m(\u001b[0m\u001b[0mt\u001b[0m\u001b[0;34m,\u001b[0m \u001b[0macc\u001b[0m\u001b[0;34m,\u001b[0m \u001b[0mvel\u001b[0m\u001b[0;34m,\u001b[0m \u001b[0mwait\u001b[0m\u001b[0;34m=\u001b[0m\u001b[0mwait\u001b[0m\u001b[0;34m,\u001b[0m \u001b[0mcommand\u001b[0m\u001b[0;34m=\u001b[0m\u001b[0mcommand\u001b[0m\u001b[0;34m,\u001b[0m \u001b[0mthreshold\u001b[0m\u001b[0;34m=\u001b[0m\u001b[0mthreshold\u001b[0m\u001b[0;34m)\u001b[0m\u001b[0;34m\u001b[0m\u001b[0m\n\u001b[0m\u001b[1;32m    205\u001b[0m \u001b[0;34m\u001b[0m\u001b[0m\n\u001b[1;32m    206\u001b[0m     \u001b[0;32mdef\u001b[0m \u001b[0mgetl\u001b[0m\u001b[0;34m(\u001b[0m\u001b[0mself\u001b[0m\u001b[0;34m,\u001b[0m \u001b[0mwait\u001b[0m\u001b[0;34m=\u001b[0m\u001b[0mFalse\u001b[0m\u001b[0;34m,\u001b[0m \u001b[0m_log\u001b[0m\u001b[0;34m=\u001b[0m\u001b[0mTrue\u001b[0m\u001b[0;34m,\u001b[0m \u001b[0mroundto\u001b[0m\u001b[0;34m=\u001b[0m\u001b[0mFalse\u001b[0m\u001b[0;34m)\u001b[0m\u001b[0;34m:\u001b[0m\u001b[0;34m\u001b[0m\u001b[0m\n",
      "\u001b[0;32m/home/terry/anaconda3/envs/ros_control/lib/python2.7/site-packages/urx/robot.pyc\u001b[0m in \u001b[0;36madd_pose_tool\u001b[0;34m(self, trans, acc, vel, wait, command, threshold)\u001b[0m\n\u001b[1;32m    119\u001b[0m         \"\"\"\n\u001b[1;32m    120\u001b[0m         \u001b[0mpose\u001b[0m \u001b[0;34m=\u001b[0m \u001b[0mself\u001b[0m\u001b[0;34m.\u001b[0m\u001b[0mget_pose\u001b[0m\u001b[0;34m(\u001b[0m\u001b[0;34m)\u001b[0m\u001b[0;34m\u001b[0m\u001b[0m\n\u001b[0;32m--> 121\u001b[0;31m         \u001b[0;32mreturn\u001b[0m \u001b[0mself\u001b[0m\u001b[0;34m.\u001b[0m\u001b[0mset_pose\u001b[0m\u001b[0;34m(\u001b[0m\u001b[0mpose\u001b[0m \u001b[0;34m*\u001b[0m \u001b[0mtrans\u001b[0m\u001b[0;34m,\u001b[0m \u001b[0macc\u001b[0m\u001b[0;34m,\u001b[0m \u001b[0mvel\u001b[0m\u001b[0;34m,\u001b[0m \u001b[0mwait\u001b[0m\u001b[0;34m=\u001b[0m\u001b[0mwait\u001b[0m\u001b[0;34m,\u001b[0m \u001b[0mcommand\u001b[0m\u001b[0;34m=\u001b[0m\u001b[0mcommand\u001b[0m\u001b[0;34m,\u001b[0m \u001b[0mthreshold\u001b[0m\u001b[0;34m=\u001b[0m\u001b[0mthreshold\u001b[0m\u001b[0;34m)\u001b[0m\u001b[0;34m\u001b[0m\u001b[0m\n\u001b[0m\u001b[1;32m    122\u001b[0m \u001b[0;34m\u001b[0m\u001b[0m\n\u001b[1;32m    123\u001b[0m     \u001b[0;32mdef\u001b[0m \u001b[0mget_pose\u001b[0m\u001b[0;34m(\u001b[0m\u001b[0mself\u001b[0m\u001b[0;34m,\u001b[0m \u001b[0mwait\u001b[0m\u001b[0;34m=\u001b[0m\u001b[0mFalse\u001b[0m\u001b[0;34m,\u001b[0m \u001b[0m_log\u001b[0m\u001b[0;34m=\u001b[0m\u001b[0mTrue\u001b[0m\u001b[0;34m)\u001b[0m\u001b[0;34m:\u001b[0m\u001b[0;34m\u001b[0m\u001b[0m\n",
      "\u001b[0;32m/home/terry/anaconda3/envs/ros_control/lib/python2.7/site-packages/urx/robot.pyc\u001b[0m in \u001b[0;36mset_pose\u001b[0;34m(self, trans, acc, vel, wait, command, threshold)\u001b[0m\n\u001b[1;32m    103\u001b[0m         \u001b[0mself\u001b[0m\u001b[0;34m.\u001b[0m\u001b[0mlogger\u001b[0m\u001b[0;34m.\u001b[0m\u001b[0mdebug\u001b[0m\u001b[0;34m(\u001b[0m\u001b[0;34m\"Setting pose to %s\"\u001b[0m\u001b[0;34m,\u001b[0m \u001b[0mtrans\u001b[0m\u001b[0;34m.\u001b[0m\u001b[0mpose_vector\u001b[0m\u001b[0;34m)\u001b[0m\u001b[0;34m\u001b[0m\u001b[0m\n\u001b[1;32m    104\u001b[0m         \u001b[0mt\u001b[0m \u001b[0;34m=\u001b[0m \u001b[0mself\u001b[0m\u001b[0;34m.\u001b[0m\u001b[0mcsys\u001b[0m \u001b[0;34m*\u001b[0m \u001b[0mtrans\u001b[0m\u001b[0;34m\u001b[0m\u001b[0m\n\u001b[0;32m--> 105\u001b[0;31m         \u001b[0mpose\u001b[0m \u001b[0;34m=\u001b[0m \u001b[0mURRobot\u001b[0m\u001b[0;34m.\u001b[0m\u001b[0mmovex\u001b[0m\u001b[0;34m(\u001b[0m\u001b[0mself\u001b[0m\u001b[0;34m,\u001b[0m \u001b[0mcommand\u001b[0m\u001b[0;34m,\u001b[0m \u001b[0mt\u001b[0m\u001b[0;34m.\u001b[0m\u001b[0mpose_vector\u001b[0m\u001b[0;34m,\u001b[0m \u001b[0macc\u001b[0m\u001b[0;34m=\u001b[0m\u001b[0macc\u001b[0m\u001b[0;34m,\u001b[0m \u001b[0mvel\u001b[0m\u001b[0;34m=\u001b[0m\u001b[0mvel\u001b[0m\u001b[0;34m,\u001b[0m \u001b[0mwait\u001b[0m\u001b[0;34m=\u001b[0m\u001b[0mwait\u001b[0m\u001b[0;34m,\u001b[0m \u001b[0mthreshold\u001b[0m\u001b[0;34m=\u001b[0m\u001b[0mthreshold\u001b[0m\u001b[0;34m)\u001b[0m\u001b[0;34m\u001b[0m\u001b[0m\n\u001b[0m\u001b[1;32m    106\u001b[0m         \u001b[0;32mif\u001b[0m \u001b[0mpose\u001b[0m \u001b[0;32mis\u001b[0m \u001b[0;32mnot\u001b[0m \u001b[0mNone\u001b[0m\u001b[0;34m:\u001b[0m\u001b[0;34m\u001b[0m\u001b[0m\n\u001b[1;32m    107\u001b[0m             \u001b[0;32mreturn\u001b[0m \u001b[0mself\u001b[0m\u001b[0;34m.\u001b[0m\u001b[0mcsys\u001b[0m\u001b[0;34m.\u001b[0m\u001b[0minverse\u001b[0m \u001b[0;34m*\u001b[0m \u001b[0mm3d\u001b[0m\u001b[0;34m.\u001b[0m\u001b[0mTransform\u001b[0m\u001b[0;34m(\u001b[0m\u001b[0mpose\u001b[0m\u001b[0;34m)\u001b[0m\u001b[0;34m\u001b[0m\u001b[0m\n",
      "\u001b[0;32m/home/terry/anaconda3/envs/ros_control/lib/python2.7/site-packages/urx/urrobot.pyc\u001b[0m in \u001b[0;36mmovex\u001b[0;34m(self, command, tpose, acc, vel, wait, relative, threshold)\u001b[0m\n\u001b[1;32m    314\u001b[0m         \u001b[0mself\u001b[0m\u001b[0;34m.\u001b[0m\u001b[0msend_program\u001b[0m\u001b[0;34m(\u001b[0m\u001b[0mprog\u001b[0m\u001b[0;34m)\u001b[0m\u001b[0;34m\u001b[0m\u001b[0m\n\u001b[1;32m    315\u001b[0m         \u001b[0;32mif\u001b[0m \u001b[0mwait\u001b[0m\u001b[0;34m:\u001b[0m\u001b[0;34m\u001b[0m\u001b[0m\n\u001b[0;32m--> 316\u001b[0;31m             \u001b[0mself\u001b[0m\u001b[0;34m.\u001b[0m\u001b[0m_wait_for_move\u001b[0m\u001b[0;34m(\u001b[0m\u001b[0mtpose\u001b[0m\u001b[0;34m[\u001b[0m\u001b[0;34m:\u001b[0m\u001b[0;36m6\u001b[0m\u001b[0;34m]\u001b[0m\u001b[0;34m,\u001b[0m \u001b[0mthreshold\u001b[0m\u001b[0;34m=\u001b[0m\u001b[0mthreshold\u001b[0m\u001b[0;34m)\u001b[0m\u001b[0;34m\u001b[0m\u001b[0m\n\u001b[0m\u001b[1;32m    317\u001b[0m             \u001b[0;32mreturn\u001b[0m \u001b[0mself\u001b[0m\u001b[0;34m.\u001b[0m\u001b[0mgetl\u001b[0m\u001b[0;34m(\u001b[0m\u001b[0;34m)\u001b[0m\u001b[0;34m\u001b[0m\u001b[0m\n\u001b[1;32m    318\u001b[0m \u001b[0;34m\u001b[0m\u001b[0m\n",
      "\u001b[0;32m/home/terry/anaconda3/envs/ros_control/lib/python2.7/site-packages/urx/urrobot.pyc\u001b[0m in \u001b[0;36m_wait_for_move\u001b[0;34m(self, target, threshold, timeout, joints)\u001b[0m\n\u001b[1;32m    216\u001b[0m             \u001b[0;32mif\u001b[0m \u001b[0;32mnot\u001b[0m \u001b[0mself\u001b[0m\u001b[0;34m.\u001b[0m\u001b[0mis_running\u001b[0m\u001b[0;34m(\u001b[0m\u001b[0;34m)\u001b[0m\u001b[0;34m:\u001b[0m\u001b[0;34m\u001b[0m\u001b[0m\n\u001b[1;32m    217\u001b[0m                 \u001b[0;32mraise\u001b[0m \u001b[0mRobotException\u001b[0m\u001b[0;34m(\u001b[0m\u001b[0;34m\"Robot stopped\"\u001b[0m\u001b[0;34m)\u001b[0m\u001b[0;34m\u001b[0m\u001b[0m\n\u001b[0;32m--> 218\u001b[0;31m             \u001b[0mdist\u001b[0m \u001b[0;34m=\u001b[0m \u001b[0mself\u001b[0m\u001b[0;34m.\u001b[0m\u001b[0m_get_dist\u001b[0m\u001b[0;34m(\u001b[0m\u001b[0mtarget\u001b[0m\u001b[0;34m,\u001b[0m \u001b[0mjoints\u001b[0m\u001b[0;34m)\u001b[0m\u001b[0;34m\u001b[0m\u001b[0m\n\u001b[0m\u001b[1;32m    219\u001b[0m             \u001b[0mself\u001b[0m\u001b[0;34m.\u001b[0m\u001b[0mlogger\u001b[0m\u001b[0;34m.\u001b[0m\u001b[0mdebug\u001b[0m\u001b[0;34m(\u001b[0m\u001b[0;34m\"distance to target is: %s, target dist is %s\"\u001b[0m\u001b[0;34m,\u001b[0m \u001b[0mdist\u001b[0m\u001b[0;34m,\u001b[0m \u001b[0mthreshold\u001b[0m\u001b[0;34m)\u001b[0m\u001b[0;34m\u001b[0m\u001b[0m\n\u001b[1;32m    220\u001b[0m             \u001b[0;32mif\u001b[0m \u001b[0;32mnot\u001b[0m \u001b[0mself\u001b[0m\u001b[0;34m.\u001b[0m\u001b[0msecmon\u001b[0m\u001b[0;34m.\u001b[0m\u001b[0mis_program_running\u001b[0m\u001b[0;34m(\u001b[0m\u001b[0;34m)\u001b[0m\u001b[0;34m:\u001b[0m\u001b[0;34m\u001b[0m\u001b[0m\n",
      "\u001b[0;32m/home/terry/anaconda3/envs/ros_control/lib/python2.7/site-packages/urx/urrobot.pyc\u001b[0m in \u001b[0;36m_get_dist\u001b[0;34m(self, target, joints)\u001b[0m\n\u001b[1;32m    232\u001b[0m             \u001b[0;32mreturn\u001b[0m \u001b[0mself\u001b[0m\u001b[0;34m.\u001b[0m\u001b[0m_get_joints_dist\u001b[0m\u001b[0;34m(\u001b[0m\u001b[0mtarget\u001b[0m\u001b[0;34m)\u001b[0m\u001b[0;34m\u001b[0m\u001b[0m\n\u001b[1;32m    233\u001b[0m         \u001b[0;32melse\u001b[0m\u001b[0;34m:\u001b[0m\u001b[0;34m\u001b[0m\u001b[0m\n\u001b[0;32m--> 234\u001b[0;31m             \u001b[0;32mreturn\u001b[0m \u001b[0mself\u001b[0m\u001b[0;34m.\u001b[0m\u001b[0m_get_lin_dist\u001b[0m\u001b[0;34m(\u001b[0m\u001b[0mtarget\u001b[0m\u001b[0;34m)\u001b[0m\u001b[0;34m\u001b[0m\u001b[0m\n\u001b[0m\u001b[1;32m    235\u001b[0m \u001b[0;34m\u001b[0m\u001b[0m\n\u001b[1;32m    236\u001b[0m     \u001b[0;32mdef\u001b[0m \u001b[0m_get_lin_dist\u001b[0m\u001b[0;34m(\u001b[0m\u001b[0mself\u001b[0m\u001b[0;34m,\u001b[0m \u001b[0mtarget\u001b[0m\u001b[0;34m)\u001b[0m\u001b[0;34m:\u001b[0m\u001b[0;34m\u001b[0m\u001b[0m\n",
      "\u001b[0;32m/home/terry/anaconda3/envs/ros_control/lib/python2.7/site-packages/urx/robot.pyc\u001b[0m in \u001b[0;36m_get_lin_dist\u001b[0;34m(self, target)\u001b[0m\n\u001b[1;32m     29\u001b[0m \u001b[0;34m\u001b[0m\u001b[0m\n\u001b[1;32m     30\u001b[0m     \u001b[0;32mdef\u001b[0m \u001b[0m_get_lin_dist\u001b[0m\u001b[0;34m(\u001b[0m\u001b[0mself\u001b[0m\u001b[0;34m,\u001b[0m \u001b[0mtarget\u001b[0m\u001b[0;34m)\u001b[0m\u001b[0;34m:\u001b[0m\u001b[0;34m\u001b[0m\u001b[0m\n\u001b[0;32m---> 31\u001b[0;31m         \u001b[0mpose\u001b[0m \u001b[0;34m=\u001b[0m \u001b[0mURRobot\u001b[0m\u001b[0;34m.\u001b[0m\u001b[0mgetl\u001b[0m\u001b[0;34m(\u001b[0m\u001b[0mself\u001b[0m\u001b[0;34m,\u001b[0m \u001b[0mwait\u001b[0m\u001b[0;34m=\u001b[0m\u001b[0mTrue\u001b[0m\u001b[0;34m)\u001b[0m\u001b[0;34m\u001b[0m\u001b[0m\n\u001b[0m\u001b[1;32m     32\u001b[0m         \u001b[0mtarget\u001b[0m \u001b[0;34m=\u001b[0m \u001b[0mm3d\u001b[0m\u001b[0;34m.\u001b[0m\u001b[0mTransform\u001b[0m\u001b[0;34m(\u001b[0m\u001b[0mtarget\u001b[0m\u001b[0;34m)\u001b[0m\u001b[0;34m\u001b[0m\u001b[0m\n\u001b[1;32m     33\u001b[0m         \u001b[0mpose\u001b[0m \u001b[0;34m=\u001b[0m \u001b[0mm3d\u001b[0m\u001b[0;34m.\u001b[0m\u001b[0mTransform\u001b[0m\u001b[0;34m(\u001b[0m\u001b[0mpose\u001b[0m\u001b[0;34m)\u001b[0m\u001b[0;34m\u001b[0m\u001b[0m\n",
      "\u001b[0;32m/home/terry/anaconda3/envs/ros_control/lib/python2.7/site-packages/urx/urrobot.pyc\u001b[0m in \u001b[0;36mgetl\u001b[0;34m(self, wait, _log)\u001b[0m\n\u001b[1;32m    321\u001b[0m         \u001b[0mget\u001b[0m \u001b[0mTCP\u001b[0m \u001b[0mposition\u001b[0m\u001b[0;34m\u001b[0m\u001b[0m\n\u001b[1;32m    322\u001b[0m         \"\"\"\n\u001b[0;32m--> 323\u001b[0;31m         \u001b[0mpose\u001b[0m \u001b[0;34m=\u001b[0m \u001b[0mself\u001b[0m\u001b[0;34m.\u001b[0m\u001b[0msecmon\u001b[0m\u001b[0;34m.\u001b[0m\u001b[0mget_cartesian_info\u001b[0m\u001b[0;34m(\u001b[0m\u001b[0mwait\u001b[0m\u001b[0;34m)\u001b[0m\u001b[0;34m\u001b[0m\u001b[0m\n\u001b[0m\u001b[1;32m    324\u001b[0m         \u001b[0;32mif\u001b[0m \u001b[0mpose\u001b[0m\u001b[0;34m:\u001b[0m\u001b[0;34m\u001b[0m\u001b[0m\n\u001b[1;32m    325\u001b[0m             \u001b[0mpose\u001b[0m \u001b[0;34m=\u001b[0m \u001b[0;34m[\u001b[0m\u001b[0mpose\u001b[0m\u001b[0;34m[\u001b[0m\u001b[0;34m\"X\"\u001b[0m\u001b[0;34m]\u001b[0m\u001b[0;34m,\u001b[0m \u001b[0mpose\u001b[0m\u001b[0;34m[\u001b[0m\u001b[0;34m\"Y\"\u001b[0m\u001b[0;34m]\u001b[0m\u001b[0;34m,\u001b[0m \u001b[0mpose\u001b[0m\u001b[0;34m[\u001b[0m\u001b[0;34m\"Z\"\u001b[0m\u001b[0;34m]\u001b[0m\u001b[0;34m,\u001b[0m \u001b[0mpose\u001b[0m\u001b[0;34m[\u001b[0m\u001b[0;34m\"Rx\"\u001b[0m\u001b[0;34m]\u001b[0m\u001b[0;34m,\u001b[0m \u001b[0mpose\u001b[0m\u001b[0;34m[\u001b[0m\u001b[0;34m\"Ry\"\u001b[0m\u001b[0;34m]\u001b[0m\u001b[0;34m,\u001b[0m \u001b[0mpose\u001b[0m\u001b[0;34m[\u001b[0m\u001b[0;34m\"Rz\"\u001b[0m\u001b[0;34m]\u001b[0m\u001b[0;34m]\u001b[0m\u001b[0;34m\u001b[0m\u001b[0m\n",
      "\u001b[0;32m/home/terry/anaconda3/envs/ros_control/lib/python2.7/site-packages/urx/ursecmon.pyc\u001b[0m in \u001b[0;36mget_cartesian_info\u001b[0;34m(self, wait)\u001b[0m\n\u001b[1;32m    351\u001b[0m     \u001b[0;32mdef\u001b[0m \u001b[0mget_cartesian_info\u001b[0m\u001b[0;34m(\u001b[0m\u001b[0mself\u001b[0m\u001b[0;34m,\u001b[0m \u001b[0mwait\u001b[0m\u001b[0;34m=\u001b[0m\u001b[0mFalse\u001b[0m\u001b[0;34m)\u001b[0m\u001b[0;34m:\u001b[0m\u001b[0;34m\u001b[0m\u001b[0m\n\u001b[1;32m    352\u001b[0m         \u001b[0;32mif\u001b[0m \u001b[0mwait\u001b[0m\u001b[0;34m:\u001b[0m\u001b[0;34m\u001b[0m\u001b[0m\n\u001b[0;32m--> 353\u001b[0;31m             \u001b[0mself\u001b[0m\u001b[0;34m.\u001b[0m\u001b[0mwait\u001b[0m\u001b[0;34m(\u001b[0m\u001b[0;34m)\u001b[0m\u001b[0;34m\u001b[0m\u001b[0m\n\u001b[0m\u001b[1;32m    354\u001b[0m         \u001b[0;32mwith\u001b[0m \u001b[0mself\u001b[0m\u001b[0;34m.\u001b[0m\u001b[0m_dictLock\u001b[0m\u001b[0;34m:\u001b[0m\u001b[0;34m\u001b[0m\u001b[0m\n\u001b[1;32m    355\u001b[0m             \u001b[0;32mif\u001b[0m \u001b[0;34m\"CartesianInfo\"\u001b[0m \u001b[0;32min\u001b[0m \u001b[0mself\u001b[0m\u001b[0;34m.\u001b[0m\u001b[0m_dict\u001b[0m\u001b[0;34m:\u001b[0m\u001b[0;34m\u001b[0m\u001b[0m\n",
      "\u001b[0;32m/home/terry/anaconda3/envs/ros_control/lib/python2.7/site-packages/urx/ursecmon.pyc\u001b[0m in \u001b[0;36mwait\u001b[0;34m(self, timeout)\u001b[0m\n\u001b[1;32m    345\u001b[0m         \u001b[0mtstamp\u001b[0m \u001b[0;34m=\u001b[0m \u001b[0mself\u001b[0m\u001b[0;34m.\u001b[0m\u001b[0mlastpacket_timestamp\u001b[0m\u001b[0;34m\u001b[0m\u001b[0m\n\u001b[1;32m    346\u001b[0m         \u001b[0;32mwith\u001b[0m \u001b[0mself\u001b[0m\u001b[0;34m.\u001b[0m\u001b[0m_dataEvent\u001b[0m\u001b[0;34m:\u001b[0m\u001b[0;34m\u001b[0m\u001b[0m\n\u001b[0;32m--> 347\u001b[0;31m             \u001b[0mself\u001b[0m\u001b[0;34m.\u001b[0m\u001b[0m_dataEvent\u001b[0m\u001b[0;34m.\u001b[0m\u001b[0mwait\u001b[0m\u001b[0;34m(\u001b[0m\u001b[0mtimeout\u001b[0m\u001b[0;34m)\u001b[0m\u001b[0;34m\u001b[0m\u001b[0m\n\u001b[0m\u001b[1;32m    348\u001b[0m             \u001b[0;32mif\u001b[0m \u001b[0mtstamp\u001b[0m \u001b[0;34m==\u001b[0m \u001b[0mself\u001b[0m\u001b[0;34m.\u001b[0m\u001b[0mlastpacket_timestamp\u001b[0m\u001b[0;34m:\u001b[0m\u001b[0;34m\u001b[0m\u001b[0m\n\u001b[1;32m    349\u001b[0m                 \u001b[0;32mraise\u001b[0m \u001b[0mTimeoutException\u001b[0m\u001b[0;34m(\u001b[0m\u001b[0;34m\"Did not receive a valid data packet from robot in {}\"\u001b[0m\u001b[0;34m.\u001b[0m\u001b[0mformat\u001b[0m\u001b[0;34m(\u001b[0m\u001b[0mtimeout\u001b[0m\u001b[0;34m)\u001b[0m\u001b[0;34m)\u001b[0m\u001b[0;34m\u001b[0m\u001b[0m\n",
      "\u001b[0;32m/home/terry/anaconda3/envs/ros_control/lib/python2.7/threading.pyc\u001b[0m in \u001b[0;36mwait\u001b[0;34m(self, timeout)\u001b[0m\n\u001b[1;32m    357\u001b[0m                         \u001b[0;32mbreak\u001b[0m\u001b[0;34m\u001b[0m\u001b[0m\n\u001b[1;32m    358\u001b[0m                     \u001b[0mdelay\u001b[0m \u001b[0;34m=\u001b[0m \u001b[0mmin\u001b[0m\u001b[0;34m(\u001b[0m\u001b[0mdelay\u001b[0m \u001b[0;34m*\u001b[0m \u001b[0;36m2\u001b[0m\u001b[0;34m,\u001b[0m \u001b[0mremaining\u001b[0m\u001b[0;34m,\u001b[0m \u001b[0;36m.05\u001b[0m\u001b[0;34m)\u001b[0m\u001b[0;34m\u001b[0m\u001b[0m\n\u001b[0;32m--> 359\u001b[0;31m                     \u001b[0m_sleep\u001b[0m\u001b[0;34m(\u001b[0m\u001b[0mdelay\u001b[0m\u001b[0;34m)\u001b[0m\u001b[0;34m\u001b[0m\u001b[0m\n\u001b[0m\u001b[1;32m    360\u001b[0m                 \u001b[0;32mif\u001b[0m \u001b[0;32mnot\u001b[0m \u001b[0mgotit\u001b[0m\u001b[0;34m:\u001b[0m\u001b[0;34m\u001b[0m\u001b[0m\n\u001b[1;32m    361\u001b[0m                     \u001b[0;32mif\u001b[0m \u001b[0m__debug__\u001b[0m\u001b[0;34m:\u001b[0m\u001b[0;34m\u001b[0m\u001b[0m\n",
      "\u001b[0;31mKeyboardInterrupt\u001b[0m: "
     ]
    }
   ],
   "source": [
    "def distane_to_bowl_center(point_coordinate):\n",
    "    return sqrt((point_coordinate[0]-0.05)**2+(point_coordinate[1]-0.69)**2)\n",
    "\n",
    "stone_img_count = 0\n",
    "json_error = False\n",
    "if 'switching_stone_coordinate_set' in dir():\n",
    "    while True:\n",
    "        whether_inherent = raw_input(\"Whether inherent switching_stone_coordinate_set before? (y or n)\")\n",
    "        if whether_inherent == 'n':\n",
    "            switching_stone_coordinate_set=[]\n",
    "            break\n",
    "        elif whether_inherent == 'y':\n",
    "            break\n",
    "else:\n",
    "    switching_stone_coordinate_set = []\n",
    "while True:\n",
    "    while True:\n",
    "        if_continue = raw_input(\"continue?\")\n",
    "        if if_continue != '':\n",
    "            break\n",
    "    go_to_safe_place()\n",
    "    signal.signal(signal.SIGALRM, myHandler)\n",
    "    signal.setitimer(signal.ITIMER_REAL, 0.005)\n",
    "    ser.write('1000')\n",
    "    signal.setitimer(signal.ITIMER_REAL, 0)    \n",
    "    Robotiq.goto(robotiq_client, pos=0.023, speed=0.5, force=10, block=True)\n",
    "    rospy.sleep(1)\n",
    "    go_to_home()\n",
    "    rospy.sleep(1)\n",
    "    hori_Go_stone_number = None\n",
    "    ver_Go_stone_number = None\n",
    "    Go_stone_dir_sorted = []\n",
    "    hori_pose_Go_stone_set = []\n",
    "    yaw_pitch_normal_set = []\n",
    "    ver_pose_Go_stone_set = []\n",
    "    gripper_direction_set = []\n",
    "    gripper_aperture_set = []\n",
    "    is_send_stone_img = 1\n",
    "    print 'started', stone_img_count\n",
    "    while True:\n",
    "        if hori_Go_stone_number != None and hori_Go_stone_number == len(yaw_pitch_normal_set) and ver_Go_stone_number != None and ver_Go_stone_number == len(gripper_aperture_set):\n",
    "            break\n",
    "        elif hori_Go_stone_number != None and hori_Go_stone_number == len(yaw_pitch_normal_set) and ver_Go_stone_number != None and json_error==True:\n",
    "            rospy.sleep(0.5)\n",
    "            break   \n",
    "        rospy.sleep(0.1)   \n",
    "    print hori_pose_Go_stone_set\n",
    "    print yaw_pitch_normal_set\n",
    "    print ver_pose_Go_stone_set, gripper_direction_set, gripper_aperture_set\n",
    "    priority_list = []\n",
    "    if ver_pose_Go_stone_set == []:\n",
    "        for index_hori in range(len(hori_pose_Go_stone_set)):\n",
    "            priority_list.append(('h', index_hori))\n",
    "    elif hori_pose_Go_stone_set == []:\n",
    "        for index_ver in range(len(ver_pose_Go_stone_set)):\n",
    "            priority_list.append(('v', index_ver))\n",
    "    else:\n",
    "        for index_hori in range(len(hori_pose_Go_stone_set)):\n",
    "            for index_ver in range(len(ver_pose_Go_stone_set)):\n",
    "                if hori_pose_Go_stone_set[index_hori][2]<=ver_pose_Go_stone_set[index_ver][2]-0.002 and ('v', index_ver) not in priority_list:\n",
    "                    priority_list.append(('v', index_ver))\n",
    "                v_num = 0\n",
    "                for element in priority_list:\n",
    "                    if element[0]=='v':\n",
    "                        v_num+=1\n",
    "                if (v_num == len(ver_pose_Go_stone_set) or hori_pose_Go_stone_set[index_hori][2]>ver_pose_Go_stone_set[index_ver][2]-0.002) and ('h', index_hori) not in priority_list:\n",
    "                    priority_list.append(('h', index_hori))\n",
    "        for index_ver in range(len(ver_pose_Go_stone_set)):\n",
    "            if ('v', index_ver) not in priority_list:\n",
    "                priority_list.append(('v', index_ver))\n",
    "    print priority_list\n",
    "    for index in priority_list:\n",
    "        if index[0]=='v':\n",
    "            if ver_pose_Go_stone_set[index[1]]==[None, None, None]:\n",
    "                continue\n",
    "            if ver_pose_Go_stone_set[index[1]][2]<0.02:\n",
    "                continue\n",
    "            if ver_pose_Go_stone_set[index[1]][2]>0.075:\n",
    "                continue\n",
    "            if direct_pick_collision_check(index[1])==False:\n",
    "                direct_pick_execute(index[1])\n",
    "                break\n",
    "        if index[0]=='h':\n",
    "            if hori_pose_Go_stone_set[index[1]]==[None, None, None]:\n",
    "                continue  \n",
    "            if hori_pose_Go_stone_set[index[1]][2]<0.02:\n",
    "                continue\n",
    "            if hori_pose_Go_stone_set[index[1]][2]>0.075:\n",
    "                continue\n",
    "            doing_scoop = False\n",
    "            if distane_to_bowl_center(hori_pose_Go_stone_set[index[1]])>0.045:\n",
    "                doing_scoop = True\n",
    "            if hori_pose_Go_stone_set[index[1]][2]<0.042:\n",
    "                doing_scoop = True\n",
    "            print 'switching_stone_coordinate_set', switching_stone_coordinate_set\n",
    "            for point0 in switching_stone_coordinate_set:\n",
    "                if hori_pose_Go_stone_set[index[1]][0]>point0[0]-0.015 and hori_pose_Go_stone_set[index[1]][0]<point0[0]+0.015 and hori_pose_Go_stone_set[index[1]][1]>point0[1]-0.015 and hori_pose_Go_stone_set[index[1]][1]<point0[1]+0.015 and hori_pose_Go_stone_set[index[1]][2]<point0[2]+0.005:\n",
    "                    doing_scoop = True\n",
    "                    break\n",
    "            if doing_scoop == False:\n",
    "                if distane_to_bowl_center(hori_pose_Go_stone_set[index[1]])<0.045:\n",
    "                    if poke_grasp_execute(index[1])==True:\n",
    "                        break\n",
    "            else:\n",
    "            #if True:\n",
    "                if skim_grasp_execute(index[1])==True:\n",
    "                    break\n",
    "    else:\n",
    "        go_to_safe_place()\n",
    "        pos_x = rob.get_pose().pos.x+0.007\n",
    "        pos_y = rob.get_pose().pos.y-0.001\n",
    "        if ver_pose_Go_stone_set == []:\n",
    "            max_height = np.max(np.array(hori_pose_Go_stone_set)[:,2])\n",
    "        elif hori_pose_Go_stone_set == []:\n",
    "            max_height = np.max(np.array(ver_pose_Go_stone_set)[:,2])\n",
    "        else:\n",
    "            max_height = max(np.max(np.array(hori_pose_Go_stone_set)[:,2]), np.max(np.array(ver_pose_Go_stone_set)[:,2]))\n",
    "\n",
    "        if max_height>0.045:\n",
    "            while True:\n",
    "                if_human_shuffle_finished = raw_input(\"Human shuffle. Finished? (y or n)\")\n",
    "                if if_human_shuffle_finished == 'y':\n",
    "                    break\n",
    "        else:\n",
    "            if hori_pose_Go_stone_set==[]:\n",
    "                while True:\n",
    "                    if_human_shuffle_finished = raw_input(\"Human shuffle. Finished? (y or n)\")\n",
    "                    if if_human_shuffle_finished == 'y':\n",
    "                        break \n",
    "            else:\n",
    "                softtip()\n",
    "                signal.signal(signal.SIGALRM, myHandler)\n",
    "                signal.setitimer(signal.ITIMER_REAL, 0.005)\n",
    "                ser.write('1100')\n",
    "                signal.setitimer(signal.ITIMER_REAL, 0)\n",
    "                if len(hori_pose_Go_stone_set)<=2:\n",
    "                    sweep_index_set = range(len(hori_pose_Go_stone_set))\n",
    "                else:\n",
    "                    sweep_index_set = random.sample(range(len(hori_pose_Go_stone_set)), 2)\n",
    "                for hori_index in sweep_index_set:\n",
    "                    alpha = atan2(0.69-hori_pose_Go_stone_set[hori_index][1], 0.05-hori_pose_Go_stone_set[hori_index][0])\n",
    "                    if alpha > pi/2 and alpha<=pi:\n",
    "                        rotate_angle = alpha-3*pi/2\n",
    "                    else:\n",
    "                        rotate_angle = alpha+pi/2\n",
    "                    print alpha, rotate_angle\n",
    "                    rob.movel_tool((0,0,0,0,0,-rotate_angle), acc=0.1, vel=0.2, wait=True) \n",
    "                    world2tcp = rob.get_pose()\n",
    "                    world2tcp.pos.x+=0.004\n",
    "                    world2tcp.pos.y-=0.002\n",
    "                    tcp2fingertip=m3d.Transform()\n",
    "                    tcp2fingertip.pos.x = 0\n",
    "                    tcp2fingertip.pos.y = 0  \n",
    "                    tcp2fingertip.pos.z = 0.354\n",
    "                    world2fingertip=(world2tcp*tcp2fingertip)\n",
    "                    #coordinate_x = max(hori_pose_Go_stone_set[hori_index][0], 0.008)\n",
    "                    #coordinate_y = min(hori_pose_Go_stone_set[hori_index][1], 0.73)\n",
    "                    rob.translate((hori_pose_Go_stone_set[hori_index][0]-world2fingertip.pos.x,hori_pose_Go_stone_set[hori_index][1]-world2fingertip.pos.y,0), acc=0.3, vel=0.8, wait=True)\n",
    "                    rob.movel_tool((0.002,0,0,0,0,0), acc=0.1, vel=0.2, wait=True) \n",
    "                    rob.set_tcp((0.002, 0, 0.354, 0, 0, 0))\n",
    "                    rospy.sleep(0.5)\n",
    "                    rob.movel_tool((0,0,0,0,20*pi/180,0), acc=0.3, vel=0.8, wait=True) \n",
    "                    rob.set_tcp((0, 0, 0, 0, 0, 0))\n",
    "                    rospy.sleep(0.5)\n",
    "                    rob.translate((0, 0, -0.05), acc=0.1, vel=0.3, wait=True)\n",
    "                    rob.translate((0, 0, -0.05), acc=0.001, vel=0.02, wait=False)\n",
    "                    wrench = rospy.wait_for_message('/robotiq_ft_wrench', WrenchStamped, timeout = None)\n",
    "                    ini_wrench = wrench.wrench.force.z\n",
    "                    torque_memory=[]\n",
    "                    while True:\n",
    "                        wrench = rospy.wait_for_message('/robotiq_ft_wrench', WrenchStamped, timeout = None)\n",
    "                        torque_memory.append(wrench.wrench.force.z)\n",
    "                        if len(torque_memory)<9:\n",
    "                            if wrench.wrench.force.z<ini_wrench-5:\n",
    "                                rob.stopl()\n",
    "                                break\n",
    "                        else:\n",
    "                            if wrench.wrench.force.z<max(torque_memory[0:9])-5:\n",
    "                                rob.stopl()\n",
    "                                break \n",
    "                    #rob.translate((0.035*cos(alpha), 0.035*sin(alpha), 0), acc=0.1, vel=0.1, wait=True)\n",
    "                    point_to_bowl_center_length=sqrt((hori_pose_Go_stone_set[hori_index][0]-0.05)**2+(hori_pose_Go_stone_set[hori_index][1]-0.69)**2)\n",
    "                    rob.translate((point_to_bowl_center_length*0.8*cos(alpha), point_to_bowl_center_length*0.8*sin(alpha), 0), acc=0.1, vel=0.1, wait=True)\n",
    "                    #hardtip()\n",
    "                    rob.translate((0, 0, 0.1), acc=0.3, vel=0.8, wait=True)\n",
    "                    rob.movej((radians(99.10),radians(-91.67), radians(-107.60), radians(-70.72), radians(89.13), radians(-80.76)), 0.3, 0.7)"
   ]
  },
  {
   "cell_type": "code",
   "execution_count": 20,
   "metadata": {},
   "outputs": [
    {
     "data": {
      "text/plain": [
       "0.0006879699913455977"
      ]
     },
     "execution_count": 20,
     "metadata": {},
     "output_type": "execute_result"
    }
   ],
   "source": [
    "((0.075-0.07441812768708338)+(0.05-0.04897243287305203)+(0.025-0.023395635598574306)+(0.025-0.0254619238759079))/4.0"
   ]
  },
  {
   "cell_type": "code",
   "execution_count": 21,
   "metadata": {
    "scrolled": true
   },
   "outputs": [
    {
     "data": {
      "text/plain": [
       "-0.003648012446561183"
      ]
     },
     "execution_count": 21,
     "metadata": {},
     "output_type": "execute_result"
    }
   ],
   "source": [
    "((0.675-0.6798453558741636)+(0.675-0.679548104224364)+(0.7-0.7027561247441642)+(0.65-0.6524424649435531))/4.0"
   ]
  },
  {
   "cell_type": "code",
   "execution_count": 30,
   "metadata": {},
   "outputs": [],
   "source": [
    "Robotiq.goto(robotiq_client, pos=0.021, speed=0.000001, force=1, block=True)\n",
    "#servo_pub.publish(180)\n",
    "#softtip()"
   ]
  },
  {
   "cell_type": "code",
   "execution_count": 41,
   "metadata": {},
   "outputs": [],
   "source": [
    "Robotiq.goto(robotiq_client, pos=0.8, speed=0.000001, force=1, block=True)"
   ]
  },
  {
   "cell_type": "code",
   "execution_count": 25,
   "metadata": {},
   "outputs": [
    {
     "data": {
      "text/plain": [
       "<Transform:\n",
       "<Orientation: \n",
       "array([[-0.01305109,  0.99989524,  0.00625989],\n",
       "       [ 0.99991361,  0.01304105,  0.00164169],\n",
       "       [ 0.00155988,  0.00628078, -0.99997906]])>\n",
       "<Vector: (0.04293, 0.85097, 0.45825)>\n",
       ">"
      ]
     },
     "execution_count": 25,
     "metadata": {},
     "output_type": "execute_result"
    }
   ],
   "source": [
    "go_to_safe_place()\n",
    "softtip()\n",
    "Robotiq.goto(robotiq_client, pos=0.023, speed=0.1, force=10, block=True)\n",
    "servo_pub.publish(10)    \n",
    "pos_x = rob.get_pose().pos.x+0.007\n",
    "pos_y = rob.get_pose().pos.y-0.001\n",
    "rospy.sleep(0.5)\n",
    "rob.translate((0.05-pos_x,0.85-pos_y,0), acc=0.1, vel=0.4, wait=True)"
   ]
  },
  {
   "cell_type": "code",
   "execution_count": 9,
   "metadata": {},
   "outputs": [
    {
     "data": {
      "text/plain": [
       "<Transform:\n",
       "<Orientation: \n",
       "array([[-0.01308933,  0.99989511,  0.00619996],\n",
       "       [ 0.99991303,  0.01307907,  0.00169334],\n",
       "       [ 0.00161207,  0.00622159, -0.99997935]])>\n",
       "<Vector: (0.04282, 0.80750, 0.45825)>\n",
       ">"
      ]
     },
     "execution_count": 9,
     "metadata": {},
     "output_type": "execute_result"
    }
   ],
   "source": [
    "go_to_safe_place()\n",
    "hardtip()\n",
    "Robotiq.goto(robotiq_client, pos=0.023, speed=0.1, force=10, block=True)\n",
    "servo_pub.publish(10)    \n",
    "pos_x = rob.get_pose().pos.x+0.007\n",
    "pos_y = rob.get_pose().pos.y-0.001\n",
    "rospy.sleep(0.5)\n",
    "rob.translate((0.05-pos_x,0.85-pos_y,0), acc=0.1, vel=0.4, wait=True)\n",
    "rob.movel_tool((0,0,0,0,0,0),acc=0.1, vel=0.2)\n",
    "rob.translate_tool((0.0065,0,0),acc=0.1, vel=0.2)"
   ]
  },
  {
   "cell_type": "code",
   "execution_count": 23,
   "metadata": {},
   "outputs": [
    {
     "data": {
      "text/plain": [
       "<Transform:\n",
       "<Orientation: \n",
       "array([[-0.01301363,  0.99989673,  0.00609763],\n",
       "       [ 0.99991311,  0.01300053,  0.00218286],\n",
       "       [ 0.00210337,  0.00612551, -0.99997903]])>\n",
       "<Vector: (0.04382, 0.84645, 0.39055)>\n",
       ">"
      ]
     },
     "execution_count": 23,
     "metadata": {},
     "output_type": "execute_result"
    }
   ],
   "source": [
    "go_to_safe_place()\n",
    "rob.set_tcp((0.002, 0, 0.356, 0, 0, 0))\n",
    "rospy.sleep(0.5)\n",
    "rob.movel_tool((0,0,0,0,0,0*pi/180), acc=0.1, vel=0.2, wait=True)\n",
    "#if np.cross([fingertip2normal[0], fingertip2normal[1]], [-sin(alpha), cos(alpha)])>0:\n",
    "#rob.movel_tool((0,0,0,0,-20*pi/180,0), acc=0.1, vel=0.2, wait=True)\n",
    "Robotiq.goto(robotiq_client, pos=0.023, speed=0.1, force=10, block=True)\n",
    "rob.set_tcp((0, 0, 0, 0, 0, 0))\n",
    "rospy.sleep(0.5)\n",
    "hardtip()\n",
    "#go_to_safe_place()\n",
    "servo_pub.publish(0)\n",
    "tcp2fingertip=m3d.Transform()\n",
    "tcp2fingertip.pos.x = 0.002\n",
    "tcp2fingertip.pos.y = 0  \n",
    "tcp2fingertip.pos.z = 0.356\n",
    "world2tcp = rob.get_pose()\n",
    "world2tcp.pos.x+=0.004\n",
    "world2tcp.pos.y+=0.001\n",
    "world2fingertip=(world2tcp*tcp2fingertip)\n",
    "rob.translate((0.05-world2fingertip.pos.x,0.85-world2fingertip.pos.y,0), acc=0.1, vel=0.4, wait=True)\n",
    "servo_pub.publish(100)\n",
    "rob.translate((0,0,-0.068), acc=0.1, vel=0.4, wait=True)\n"
   ]
  },
  {
   "cell_type": "code",
   "execution_count": 75,
   "metadata": {},
   "outputs": [],
   "source": [
    "rob.set_tcp((-0.02, 0, 0.342, 0, 0, 0))\n",
    "rospy.sleep(0.5)\n",
    "#if np.cross([fingertip2normal[0], fingertip2normal[1]], [-sin(alpha), cos(alpha)])>0:\n",
    "rob.movel_tool((0,0,0,0,pi/6,0), acc=0.3, vel=0.8, wait=True)\n",
    "rob.movel_tool((0,0,0,0,-pi/6,0), acc=0.3, vel=0.8, wait=True)\n",
    "rob.set_tcp((0, 0, 0, 0, 0, 0))\n",
    "rospy.sleep(0.5)"
   ]
  },
  {
   "cell_type": "code",
   "execution_count": 26,
   "metadata": {},
   "outputs": [
    {
     "data": {
      "text/plain": [
       "<Transform:\n",
       "<Orientation: \n",
       "array([[-0.01328703,  0.99989138,  0.00637776],\n",
       "       [ 0.99991118,  0.0132801 ,  0.00112777],\n",
       "       [ 0.00104295,  0.00639218, -0.99997903]])>\n",
       "<Vector: (0.06282, 0.67096, 0.45798)>\n",
       ">"
      ]
     },
     "execution_count": 26,
     "metadata": {},
     "output_type": "execute_result"
    }
   ],
   "source": [
    "go_to_safe_place()\n",
    "pos_x = rob.get_pose().pos.x+0.007\n",
    "pos_y = rob.get_pose().pos.y-0.001\n",
    "rob.translate((0.05-pos_x+0.02,0.69-pos_y-0.02,0), acc=0.1, vel=0.4, wait=True)\n",
    "rob.translate((0,0,-0.06), acc=0.1, vel=0.4, wait=True)\n",
    "rob.translate((0,0.04,0), acc=0.1, vel=0.4, wait=True)\n",
    "rob.translate((-0.04,0,0), acc=0.1, vel=0.4, wait=True)\n",
    "rob.translate((0,-0.04,0), acc=0.1, vel=0.4, wait=True)\n",
    "rob.translate((0.04,0,0), acc=0.1, vel=0.4, wait=True)\n",
    "rob.translate((0,0,0.06), acc=0.1, vel=0.4, wait=True)  "
   ]
  },
  {
   "cell_type": "code",
   "execution_count": 37,
   "metadata": {},
   "outputs": [
    {
     "data": {
      "text/plain": [
       "<Transform:\n",
       "<Orientation: \n",
       "array([[-0.01329421,  0.99989335,  0.00604565],\n",
       "       [ 0.99990707,  0.01327565,  0.00310065],\n",
       "       [ 0.00302006,  0.00608631, -0.99997692]])>\n",
       "<Vector: (0.07290, 0.66112, 0.45890)>\n",
       ">"
      ]
     },
     "execution_count": 37,
     "metadata": {},
     "output_type": "execute_result"
    }
   ],
   "source": [
    "        hardtip()\n",
    "        go_to_safe_place()\n",
    "        pos_x = rob.get_pose().pos.x+0.007\n",
    "        pos_y = rob.get_pose().pos.y-0.001\n",
    "\n",
    "        rob.translate((0.05-pos_x+0.03,0.69-pos_y-0.03,0), acc=0.1, vel=0.4, wait=True)\n",
    "        rob.translate((0,0,-0.075), acc=0.1, vel=0.4, wait=True)\n",
    "        rob.translate((0,0.06,0), acc=0.1, vel=0.4, wait=True)\n",
    "        rob.translate((-0.06,0,0), acc=0.1, vel=0.4, wait=True)\n",
    "        rob.translate((0,-0.06,0), acc=0.1, vel=0.4, wait=True)\n",
    "        rob.translate((0.06,0,0), acc=0.1, vel=0.4, wait=True)\n",
    "        rob.translate((0,0,0.075), acc=0.01, vel=0.05, wait=True)     \n"
   ]
  },
  {
   "cell_type": "code",
   "execution_count": 19,
   "metadata": {},
   "outputs": [],
   "source": [
    "Robotiq.goto(robotiq_client, pos=40*0.14/48.0+1.12/48.0, speed=0.1, force=10, block=True)"
   ]
  },
  {
   "cell_type": "code",
   "execution_count": 74,
   "metadata": {},
   "outputs": [
    {
     "data": {
      "text/plain": [
       "<Transform:\n",
       "<Orientation: \n",
       "array([[-0.01299897,  0.99989554,  0.00632014],\n",
       "       [ 0.99991464,  0.01299036,  0.00140147],\n",
       "       [ 0.00131922,  0.00633782, -0.99997905]])>\n",
       "<Vector: (0.04338, 0.86854, 0.45810)>\n",
       ">"
      ]
     },
     "execution_count": 74,
     "metadata": {},
     "output_type": "execute_result"
    }
   ],
   "source": [
    "go_to_safe_place()\n",
    "Robotiq.goto(robotiq_client, pos=4*0.14/48.0+1.12/48.0, speed=0.1, force=10, block=True)\n",
    "rob.movel_tool((0,0,0,0,0,0),acc=0.1, vel=0.2)\n",
    "tcp2fingertip=m3d.Transform()\n",
    "tcp2fingertip.pos.x = -0.02 # need change\n",
    "tcp2fingertip.pos.z = 0.342 # need change\n",
    "world2tcp = rob.get_pose()\n",
    "world2tcp.pos.x+=0.004\n",
    "world2tcp.pos.y+=0.001\n",
    "world2fingertip=(world2tcp*tcp2fingertip)\n",
    "rob.translate((0.05-world2fingertip.pos.x,0.85-world2fingertip.pos.y,0), acc=0.3, vel=0.8, wait=True)\n",
    "#rob.translate((0,0,-0.068), acc=0.1, vel=0.4, wait=True)"
   ]
  },
  {
   "cell_type": "code",
   "execution_count": 5,
   "metadata": {},
   "outputs": [
    {
     "name": "stdout",
     "output_type": "stream",
     "text": [
      "[[ 0.02153275 -0.9995875  -0.01900464  0.1234057 ]\n",
      " [ 0.99884698  0.02232484 -0.04250071 -0.0074811 ]\n",
      " [ 0.04290745 -0.01806757  0.99891567  0.126173  ]\n",
      " [ 0.          0.          0.          1.        ]]\n"
     ]
    }
   ],
   "source": [
    "    eeTcam = m3d.Transform()\n",
    "    eeTcam.pos = (0.076173+0.05, -0.0934057-0.03, 0.0074811)\n",
    "    eeTcam_e = tf.transformations.euler_from_quaternion([-0.0143125,0.69183,-0.0012,0.722039], axes='sxyz')\n",
    "    eeTcam.orient.rotate_xb(eeTcam_e[0])\n",
    "    eeTcam.orient.rotate_yb(eeTcam_e[1])\n",
    "    eeTcam.orient.rotate_zb(eeTcam_e[2])\n",
    "    tcpTee = np.array([[0,-1,0,0], [0,0,-1,0], [1,0,0,0], [0,0,0,1]])\n",
    "    tcp2cam = np.matmul(tcpTee, eeTcam.get_matrix())\n",
    "    print tcp2cam"
   ]
  },
  {
   "cell_type": "code",
   "execution_count": 3,
   "metadata": {},
   "outputs": [
    {
     "ename": "KeyboardInterrupt",
     "evalue": "",
     "output_type": "error",
     "traceback": [
      "\u001b[0;31m---------------------------------------------------------------------------\u001b[0m",
      "\u001b[0;31mKeyboardInterrupt\u001b[0m                         Traceback (most recent call last)",
      "\u001b[0;32m<ipython-input-3-03cbd7126563>\u001b[0m in \u001b[0;36m<module>\u001b[0;34m()\u001b[0m\n\u001b[0;32m----> 1\u001b[0;31m \u001b[0msofttip\u001b[0m\u001b[0;34m(\u001b[0m\u001b[0;34m)\u001b[0m\u001b[0;34m\u001b[0m\u001b[0m\n\u001b[0m",
      "\u001b[0;32m<ipython-input-2-ca80d75da120>\u001b[0m in \u001b[0;36msofttip\u001b[0;34m()\u001b[0m\n\u001b[1;32m      9\u001b[0m     \u001b[0mbaudRate\u001b[0m \u001b[0;34m=\u001b[0m \u001b[0;36m57600\u001b[0m\u001b[0;34m\u001b[0m\u001b[0m\n\u001b[1;32m     10\u001b[0m     \u001b[0mser\u001b[0m \u001b[0;34m=\u001b[0m \u001b[0mserial\u001b[0m\u001b[0;34m.\u001b[0m\u001b[0mSerial\u001b[0m\u001b[0;34m(\u001b[0m\u001b[0mserialPort\u001b[0m\u001b[0;34m,\u001b[0m \u001b[0mbaudRate\u001b[0m\u001b[0;34m,\u001b[0m \u001b[0mtimeout\u001b[0m\u001b[0;34m=\u001b[0m\u001b[0;36m0.5\u001b[0m\u001b[0;34m)\u001b[0m\u001b[0;34m\u001b[0m\u001b[0m\n\u001b[0;32m---> 11\u001b[0;31m     \u001b[0mser\u001b[0m\u001b[0;34m.\u001b[0m\u001b[0mwrite\u001b[0m\u001b[0;34m(\u001b[0m\u001b[0;34m'2090'\u001b[0m\u001b[0;34m)\u001b[0m\u001b[0;34m\u001b[0m\u001b[0m\n\u001b[0m\u001b[1;32m     12\u001b[0m     \u001b[0msignal\u001b[0m\u001b[0;34m.\u001b[0m\u001b[0msignal\u001b[0m\u001b[0;34m(\u001b[0m\u001b[0msignal\u001b[0m\u001b[0;34m.\u001b[0m\u001b[0mSIGALRM\u001b[0m\u001b[0;34m,\u001b[0m \u001b[0mmyHandler\u001b[0m\u001b[0;34m)\u001b[0m\u001b[0;34m\u001b[0m\u001b[0m\n\u001b[1;32m     13\u001b[0m     \u001b[0msignal\u001b[0m\u001b[0;34m.\u001b[0m\u001b[0malarm\u001b[0m\u001b[0;34m(\u001b[0m\u001b[0;36m1\u001b[0m\u001b[0;34m)\u001b[0m\u001b[0;34m\u001b[0m\u001b[0m\n",
      "\u001b[0;32m/home/terry/anaconda3/envs/ros_control/lib/python2.7/site-packages/serial/serialposix.pyc\u001b[0m in \u001b[0;36mwrite\u001b[0;34m(self, data)\u001b[0m\n\u001b[1;32m    554\u001b[0m                     \u001b[0;32massert\u001b[0m \u001b[0mtimeout\u001b[0m\u001b[0;34m.\u001b[0m\u001b[0mtime_left\u001b[0m\u001b[0;34m(\u001b[0m\u001b[0;34m)\u001b[0m \u001b[0;32mis\u001b[0m \u001b[0mNone\u001b[0m\u001b[0;34m\u001b[0m\u001b[0m\n\u001b[1;32m    555\u001b[0m                     \u001b[0;31m# wait for write operation\u001b[0m\u001b[0;34m\u001b[0m\u001b[0;34m\u001b[0m\u001b[0m\n\u001b[0;32m--> 556\u001b[0;31m                     \u001b[0mabort\u001b[0m\u001b[0;34m,\u001b[0m \u001b[0mready\u001b[0m\u001b[0;34m,\u001b[0m \u001b[0m_\u001b[0m \u001b[0;34m=\u001b[0m \u001b[0mselect\u001b[0m\u001b[0;34m.\u001b[0m\u001b[0mselect\u001b[0m\u001b[0;34m(\u001b[0m\u001b[0;34m[\u001b[0m\u001b[0mself\u001b[0m\u001b[0;34m.\u001b[0m\u001b[0mpipe_abort_write_r\u001b[0m\u001b[0;34m]\u001b[0m\u001b[0;34m,\u001b[0m \u001b[0;34m[\u001b[0m\u001b[0mself\u001b[0m\u001b[0;34m.\u001b[0m\u001b[0mfd\u001b[0m\u001b[0;34m]\u001b[0m\u001b[0;34m,\u001b[0m \u001b[0;34m[\u001b[0m\u001b[0;34m]\u001b[0m\u001b[0;34m,\u001b[0m \u001b[0mNone\u001b[0m\u001b[0;34m)\u001b[0m\u001b[0;34m\u001b[0m\u001b[0m\n\u001b[0m\u001b[1;32m    557\u001b[0m                     \u001b[0;32mif\u001b[0m \u001b[0mabort\u001b[0m\u001b[0;34m:\u001b[0m\u001b[0;34m\u001b[0m\u001b[0m\n\u001b[1;32m    558\u001b[0m                         \u001b[0mos\u001b[0m\u001b[0;34m.\u001b[0m\u001b[0mread\u001b[0m\u001b[0;34m(\u001b[0m\u001b[0mself\u001b[0m\u001b[0;34m.\u001b[0m\u001b[0mpipe_abort_write_r\u001b[0m\u001b[0;34m,\u001b[0m \u001b[0;36m1\u001b[0m\u001b[0;34m)\u001b[0m\u001b[0;34m\u001b[0m\u001b[0m\n",
      "\u001b[0;31mKeyboardInterrupt\u001b[0m: "
     ]
    }
   ],
   "source": [
    "softtip()"
   ]
  },
  {
   "cell_type": "code",
   "execution_count": 22,
   "metadata": {},
   "outputs": [
    {
     "name": "stdout",
     "output_type": "stream",
     "text": [
      "[[0 0 1 0]\n",
      " [0 0 1 0]\n",
      " [0 0 1 0]\n",
      " [0 0 1 0]\n",
      " [0 0 1 0]\n",
      " [0 0 1 0]\n",
      " [0 0 1 0]\n",
      " [0 0 1 0]\n",
      " [0 0 1 0]\n",
      " [0 0 1 0]\n",
      " [0 0 1 0]\n",
      " [0 0 1 0]\n",
      " [0 1 0 0]]\n"
     ]
    }
   ],
   "source": [
    "print np.load('/home/terry/catkin_ws/src/scoop/src/collecting_data/Mon_Nov_23_19_36_07_2020/executed_action_list.npy')"
   ]
  },
  {
   "cell_type": "code",
   "execution_count": 11,
   "metadata": {},
   "outputs": [],
   "source": [
    "go_to_safe_place()"
   ]
  },
  {
   "cell_type": "code",
   "execution_count": 31,
   "metadata": {},
   "outputs": [],
   "source": [
    "softtip()\n",
    "hardtip()"
   ]
  },
  {
   "cell_type": "code",
   "execution_count": 153,
   "metadata": {},
   "outputs": [],
   "source": [
    "    servo_pub.publish(180)\n",
    "    rospy.sleep(1)\n"
   ]
  },
  {
   "cell_type": "code",
   "execution_count": 116,
   "metadata": {},
   "outputs": [
    {
     "name": "stdout",
     "output_type": "stream",
     "text": [
      "<Transform:\n",
      "<Orientation: \n",
      "array([[-0.01308334,  0.99989484,  0.00625631],\n",
      "       [ 0.99991303,  0.01307268,  0.00174152],\n",
      "       [ 0.00165955,  0.00627855, -0.99997891]])>\n",
      "<Vector: (0.04541, 0.54392, 0.09884)>\n",
      ">\n"
     ]
    }
   ],
   "source": [
    "rob.set_tcp((0, 0, 0.35947, 0, 0, 0))\n",
    "rospy.sleep(1)\n",
    "print rob.get_pose()\n",
    "rob.set_tcp((0, 0, 0, 0, 0, 0))\n",
    "rospy.sleep(1)"
   ]
  },
  {
   "cell_type": "code",
   "execution_count": 24,
   "metadata": {},
   "outputs": [
    {
     "name": "stdout",
     "output_type": "stream",
     "text": [
      "1.00144481659\n",
      "2\n"
     ]
    }
   ],
   "source": [
    "import serial\n",
    "import signal\n",
    "import time\n",
    "serialPort = \"/dev/Arduino\"\n",
    "baudRate = 57600\n",
    "ser = serial.Serial(serialPort, baudRate, timeout=0.5)\n",
    "time0 = time.time()\n",
    "def myHandler(signum, frame):\n",
    "    pass\n",
    "signal.signal(signal.SIGALRM, myHandler)\n",
    "signal.setitimer(signal.ITIMER_REAL, 0.001)\n",
    "ser.write('1180')\n",
    "signal.setitimer(signal.ITIMER_REAL, 0)\n",
    "time.sleep(1)\n",
    "print time.time()-time0\n",
    "print '2'"
   ]
  },
  {
   "cell_type": "code",
   "execution_count": 21,
   "metadata": {},
   "outputs": [],
   "source": [
    "\n",
    "softtip()"
   ]
  },
  {
   "cell_type": "code",
   "execution_count": 24,
   "metadata": {},
   "outputs": [
    {
     "data": {
      "text/plain": [
       "True"
      ]
     },
     "execution_count": 24,
     "metadata": {},
     "output_type": "execute_result"
    }
   ],
   "source": [
    "hori_pose_Go_stone_set[index[1]][0]>point0[0]-0.015 and hori_pose_Go_stone_set[index[1]][0]<point0[0]+0.015 and hori_pose_Go_stone_set[index[1]][1]>point0[1]-0.015 and hori_pose_Go_stone_set[index[1]][1]<point0[1]+0.015 and hori_pose_Go_stone_set[index[1]][2]<point0[2]"
   ]
  },
  {
   "cell_type": "code",
   "execution_count": 28,
   "metadata": {},
   "outputs": [],
   "source": [
    "#go_to_safe_place()\n",
    "rob.set_tcp((0, 0, 0.36142, 0, 0, 0))\n",
    "rospy.sleep(0.5)\n",
    "\n",
    "move = m3d.Transform((0.8-rob.get_pose().pos.y+0.001, 0.05-rob.get_pose().pos.x-0.004, 0, 0, 0, 0))    \n",
    "rob.add_pose_tool( move, acc=0.3, vel=1, wait=True, command=\"movel\", threshold=None)\n",
    "rob.set_tcp((0, 0, 0, 0, 0, 0))\n",
    "rospy.sleep(0.5)"
   ]
  },
  {
   "cell_type": "code",
   "execution_count": 39,
   "metadata": {},
   "outputs": [
    {
     "data": {
      "text/plain": [
       "<Transform:\n",
       "<Orientation: \n",
       "array([[-0.01297587,  0.99989633,  0.00624184],\n",
       "       [ 0.99991459,  0.01296587,  0.00163983],\n",
       "       [ 0.00155873,  0.00626258, -0.99997917]])>\n",
       "<Vector: (0.04543, 0.54389, 0.09685)>\n",
       ">"
      ]
     },
     "execution_count": 39,
     "metadata": {},
     "output_type": "execute_result"
    }
   ],
   "source": [
    "rob.set_tcp((0, 0, 0.36142, 0, 0, 0))\n",
    "rospy.sleep(0.5)\n",
    "rob.get_pose()"
   ]
  },
  {
   "cell_type": "code",
   "execution_count": 23,
   "metadata": {},
   "outputs": [],
   "source": [
    "go_to_end_place()"
   ]
  },
  {
   "cell_type": "code",
   "execution_count": 22,
   "metadata": {},
   "outputs": [],
   "source": [
    "      Robotiq.goto(robotiq_client, pos=0.013, speed=0.5, force=10, block=True)\n"
   ]
  },
  {
   "cell_type": "code",
   "execution_count": 20,
   "metadata": {},
   "outputs": [],
   "source": [
    "softtip()"
   ]
  },
  {
   "cell_type": "code",
   "execution_count": null,
   "metadata": {},
   "outputs": [],
   "source": [
    "signal.setitimer(signal.ITIMER_REAL, 0.001)\n",
    "ser.write('1000')\n",
    "time.sleep(1)\n",
    "signal.setitimer(signal.ITIMER_REAL, 0)\n",
    "for k0 in range(0, 81, 4):\n",
    "    signal.setitimer(signal.ITIMER_REAL, 0.001)\n",
    "    ser.write('1'+str(k0))\n",
    "    signal.setitimer(signal.ITIMER_REAL, 0)\n",
    "    time.sleep(0.2)\n",
    "print 4"
   ]
  },
  {
   "cell_type": "code",
   "execution_count": null,
   "metadata": {},
   "outputs": [
    {
     "name": "stdout",
     "output_type": "stream",
     "text": [
      "1100\n",
      "198\n",
      "196\n",
      "194\n"
     ]
    }
   ],
   "source": [
    "time0=time.time()\n",
    "signal.setitimer(signal.ITIMER_REAL, 0)\n",
    "for k0 in range(0, -31, -2):\n",
    "    signal.setitimer(signal.ITIMER_REAL, 0.001)\n",
    "    ser.write('1'+str(100+k0))\n",
    "    print '1'+str(100+k0)\n",
    "    signal.setitimer(signal.ITIMER_REAL, 0)\n",
    "    time.sleep(0.11)\n",
    "print 4"
   ]
  },
  {
   "cell_type": "code",
   "execution_count": 30,
   "metadata": {},
   "outputs": [
    {
     "data": {
      "text/plain": [
       "<Transform:\n",
       "<Orientation: \n",
       "array([[-0.01306666,  0.99989477,  0.00630122],\n",
       "       [ 0.99991333,  0.01305622,  0.00169527],\n",
       "       [ 0.00161282,  0.00632282, -0.99997871]])>\n",
       "<Vector: (0.04322, 0.54326, 0.42337)>\n",
       ">"
      ]
     },
     "execution_count": 30,
     "metadata": {},
     "output_type": "execute_result"
    }
   ],
   "source": [
    "go_to_safe_place()\n",
    "rob.translate((0,0,-0.035), acc=0.1, vel=0.1, wait=True)"
   ]
  },
  {
   "cell_type": "code",
   "execution_count": 17,
   "metadata": {
    "scrolled": true
   },
   "outputs": [
    {
     "data": {
      "text/plain": [
       "[[0.04748682930698754, 0.6772187228828948, 0.03650951687510667],\n",
       " [0.04285301004949358, 0.6773116203834977, 0.04474243949710238],\n",
       " [0.020558080749336436, 0.7007856115591724, 0.05011494897992741],\n",
       " [0.04654879802776229, 0.7035219271723925, 0.06111810419601599],\n",
       " [0.03623374456712877, 0.6653812126120116, 0.05419025420948426],\n",
       " [0.06196829769648066, 0.687646955878628, 0.053823396522124034],\n",
       " [0.05775511489062693, 0.6660403423087387, 0.06140280538363507],\n",
       " [0.06572986499869145, 0.7087816075687934, 0.04626566310967978],\n",
       " [0.0769745887897275, 0.6758826107559193, 0.046508792057820714],\n",
       " [0.022329528772110585, 0.6842764932194296, 0.04333823667183745],\n",
       " [0.04992898805327124, 0.7293906219163122, 0.03750523331270783],\n",
       " [0.023780934590662446, 0.7260079873804601, 0.03652088731031233],\n",
       " [0.005551637499277247, 0.6835217107176383, 0.03491895253859206],\n",
       " [0.01950094174002195, 0.660207221543091, 0.036879290367629936],\n",
       " [0.03986341513255099, 0.6496814636328898, 0.036299742084113296],\n",
       " [0.07399919480295819, 0.6556476639586046, 0.039962960533337755]]"
      ]
     },
     "execution_count": 17,
     "metadata": {},
     "output_type": "execute_result"
    }
   ],
   "source": [
    "switching_stone_coordinate_set"
   ]
  },
  {
   "cell_type": "code",
   "execution_count": 7,
   "metadata": {},
   "outputs": [],
   "source": [
    "signal.setitimer(signal.ITIMER_REAL, 0.001)\n",
    "ser.write('1180')\n",
    "signal.setitimer(signal.ITIMER_REAL, 0)\n",
    "time.sleep(1)\n"
   ]
  },
  {
   "cell_type": "code",
   "execution_count": 8,
   "metadata": {},
   "outputs": [],
   "source": [
    "serialPort = \"/dev/ttyACM0\"\n",
    "baudRate = 57600\n",
    "ser = serial.Serial(serialPort, baudRate, timeout=0.5)\n",
    "def myHandler(signum, frame):\n",
    "    pass\n",
    "signal.setitimer(signal.ITIMER_REAL, 0.01)\n",
    "ser.write('2180')\n",
    "signal.setitimer(signal.ITIMER_REAL, 0)\n",
    "time.sleep(1.5)\n",
    "signal.setitimer(signal.ITIMER_REAL, 0.01)\n",
    "ser.write('2090')\n",
    "signal.setitimer(signal.ITIMER_REAL, 0)\n",
    "time.sleep(0.1)"
   ]
  },
  {
   "cell_type": "code",
   "execution_count": 48,
   "metadata": {},
   "outputs": [
    {
     "name": "stdout",
     "output_type": "stream",
     "text": [
      "2.68596196175\n"
     ]
    }
   ],
   "source": [
    "time0 = time.time()\n",
    "rob.translate((0, 0, -0.015), acc=0.01, vel=0.05, wait=True)\n",
    "print time.time()-time0"
   ]
  },
  {
   "cell_type": "code",
   "execution_count": 9,
   "metadata": {},
   "outputs": [],
   "source": [
    "Robotiq.goto(robotiq_client, pos=0*0.14/48.0+1.12/48.0, speed=0.1, force=10, block=True)"
   ]
  },
  {
   "cell_type": "code",
   "execution_count": 80,
   "metadata": {},
   "outputs": [
    {
     "data": {
      "text/plain": [
       "[0, 4, 8, 12, 16, 20, 24, 28, 32, 36, 40, 44, 48, 52, 56]"
      ]
     },
     "execution_count": 80,
     "metadata": {},
     "output_type": "execute_result"
    }
   ],
   "source": [
    "range(0, 57, 4)"
   ]
  },
  {
   "cell_type": "code",
   "execution_count": null,
   "metadata": {},
   "outputs": [
    {
     "name": "stdout",
     "output_type": "stream",
     "text": [
      "continue?1\n",
      "dsag\n",
      "0\n",
      "continue?1\n",
      "dsag\n",
      "1\n",
      "continue?1\n",
      "dsag\n",
      "2\n",
      "continue?1\n",
      "dsag\n",
      "3\n",
      "continue?1\n",
      "dsag\n",
      "4\n",
      "continue?1\n",
      "dsag\n",
      "5\n",
      "continue?1\n",
      "dsag\n",
      "6\n",
      "continue?1\n",
      "dsag\n",
      "7\n",
      "continue?1\n",
      "dsag\n",
      "8\n",
      "continue?1\n",
      "dsag\n",
      "9\n",
      "continue?1\n",
      "dsag\n",
      "10\n",
      "continue?1\n",
      "dsag\n",
      "11\n",
      "continue?1\n",
      "dsag\n",
      "12\n",
      "continue?1\n",
      "dsag\n",
      "13\n",
      "continue?1\n",
      "dsag\n",
      "14\n",
      "continue?1\n",
      "dsag\n",
      "15\n",
      "continue?1\n",
      "dsag\n",
      "16\n",
      "continue?1\n",
      "dsag\n",
      "17\n",
      "continue?1\n",
      "dsag\n",
      "18\n",
      "continue?1\n",
      "dsag\n",
      "19\n",
      "continue?1\n",
      "dsag\n",
      "20\n",
      "continue?1\n",
      "dsag\n",
      "21\n",
      "continue?1\n",
      "dsag\n",
      "22\n",
      "continue?1\n",
      "dsag\n",
      "23\n",
      "continue?1\n",
      "dsag\n",
      "24\n",
      "continue?1\n",
      "dsag\n",
      "25\n",
      "continue?1\n",
      "dsag\n",
      "26\n",
      "continue?1\n",
      "dsag\n",
      "27\n",
      "continue?1\n",
      "dsag\n",
      "28\n",
      "continue?1\n",
      "dsag\n",
      "29\n",
      "continue?1\n",
      "dsag\n",
      "30\n",
      "continue?1\n",
      "dsag\n",
      "31\n",
      "continue?\n",
      "continue?1\n",
      "dsag\n",
      "32\n",
      "continue?1\n",
      "dsag\n",
      "33\n",
      "continue?1\n",
      "dsag\n",
      "34\n",
      "continue?1\n",
      "dsag\n",
      "35\n",
      "continue?1\n",
      "dsag\n",
      "36\n",
      "continue?1\n",
      "dsag\n",
      "37\n",
      "continue?1\n",
      "dsag\n",
      "38\n",
      "continue?1\n",
      "dsag\n",
      "39\n",
      "continue?1\n",
      "dsag\n",
      "40\n",
      "continue?1\n",
      "dsag\n",
      "41\n",
      "continue?1\n",
      "dsag\n",
      "42\n",
      "continue?1\n",
      "dsag\n",
      "43\n",
      "continue?1\n",
      "dsag\n",
      "44\n",
      "continue?1\n",
      "dsag\n",
      "45\n",
      "continue?1\n",
      "dsag\n",
      "46\n",
      "continue?1\n",
      "dsag\n",
      "47\n",
      "continue?1\n",
      "dsag\n",
      "48\n",
      "continue?1\n",
      "dsag\n",
      "49\n",
      "continue?1\n",
      "dsag\n",
      "50\n",
      "continue?1\n",
      "dsag\n",
      "51\n",
      "continue?1\n",
      "dsag\n",
      "52\n",
      "continue?1\n",
      "dsag\n",
      "53\n",
      "continue?1\n",
      "dsag\n",
      "54\n",
      "continue?1\n",
      "dsag\n",
      "55\n",
      "continue?1\n",
      "dsag\n",
      "56\n",
      "continue?1\n",
      "dsag\n",
      "57\n",
      "continue?1\n",
      "dsag\n",
      "58\n",
      "continue?1\n",
      "dsag\n",
      "59\n",
      "continue?1\n",
      "dsag\n",
      "60\n",
      "continue?1\n",
      "dsag\n",
      "61\n",
      "continue?1\n",
      "dsag\n",
      "62\n",
      "continue?1\n",
      "dsag\n",
      "63\n",
      "continue?1\n",
      "dsag\n",
      "64\n",
      "continue?1\n",
      "dsag\n",
      "65\n",
      "continue?1\n",
      "dsag\n",
      "66\n",
      "continue?1\n",
      "dsag\n",
      "67\n",
      "continue?1\n",
      "dsag\n",
      "68\n",
      "continue?1\n",
      "dsag\n",
      "69\n",
      "continue?1\n",
      "dsag\n",
      "70\n",
      "continue?1\n",
      "dsag\n",
      "71\n",
      "continue?1\n",
      "dsag\n",
      "72\n",
      "continue?1\n",
      "dsag\n",
      "73\n",
      "continue?1\n",
      "dsag\n",
      "74\n",
      "continue?1\n",
      "dsag\n",
      "75\n",
      "continue?1\n",
      "dsag\n",
      "76\n",
      "continue?1\n",
      "dsag\n",
      "77\n",
      "continue?1\n",
      "dsag\n",
      "78\n",
      "continue?1\n",
      "dsag\n",
      "79\n",
      "continue?1\n",
      "dsag\n",
      "80\n",
      "continue?1\n",
      "dsag\n",
      "81\n",
      "continue?1\n",
      "dsag\n",
      "82\n",
      "continue?1\n",
      "dsag\n",
      "83\n",
      "continue?1\n",
      "dsag\n",
      "84\n",
      "continue?1\n",
      "dsag\n",
      "85\n",
      "continue?1\n",
      "dsag\n",
      "86\n",
      "continue?1\n",
      "dsag\n",
      "87\n",
      "continue?1\n",
      "dsag\n",
      "88\n",
      "continue?1\n",
      "dsag\n",
      "89\n",
      "continue?1\n",
      "dsag\n",
      "90\n",
      "continue?1\n",
      "dsag\n",
      "91\n",
      "continue?1\n",
      "dsag\n",
      "92\n",
      "continue?1\n",
      "dsag\n",
      "93\n",
      "continue?1\n",
      "dsag\n",
      "94\n",
      "continue?1\n",
      "dsag\n",
      "95\n",
      "continue?1\n",
      "dsag\n",
      "96\n",
      "continue?1\n",
      "dsag\n",
      "97\n",
      "continue?1\n",
      "dsag\n",
      "98\n",
      "continue?1\n",
      "dsag\n",
      "99\n",
      "continue?1\n",
      "dsag\n",
      "100\n",
      "continue?1\n",
      "dsag\n",
      "101\n",
      "continue?1\n",
      "dsag\n",
      "102\n",
      "continue?1\n",
      "dsag\n",
      "103\n",
      "continue?1\n",
      "dsag\n",
      "104\n",
      "continue?1\n",
      "dsag\n",
      "105\n",
      "continue?1\n",
      "dsag\n",
      "106\n",
      "continue?1\n",
      "dsag\n",
      "107\n",
      "continue?1\n",
      "dsag\n",
      "108\n",
      "continue?1\n",
      "dsag\n",
      "109\n",
      "continue?1\n",
      "dsag\n",
      "110\n",
      "continue?1\n",
      "dsag\n",
      "111\n",
      "continue?1\n",
      "dsag\n",
      "112\n",
      "continue?1\n",
      "dsag\n",
      "113\n",
      "continue?1\n",
      "dsag\n",
      "114\n",
      "continue?1\n",
      "dsag\n",
      "115\n",
      "continue?1\n",
      "dsag\n",
      "116\n",
      "continue?1\n",
      "dsag\n",
      "117\n",
      "continue?1\n",
      "dsag\n",
      "118\n",
      "continue?1\n",
      "dsag\n",
      "119\n",
      "continue?1\n",
      "dsag\n",
      "120\n",
      "continue?1\n",
      "dsag\n",
      "121\n"
     ]
    }
   ],
   "source": [
    "stone_img_count = 0\n",
    "while True:\n",
    "    while True:\n",
    "        if_continue = raw_input(\"continue?\")\n",
    "        if if_continue != '':\n",
    "            break\n",
    "    go_to_home()\n",
    "    rospy.sleep(1)\n",
    "    is_send_stone_img = 1"
   ]
  },
  {
   "cell_type": "code",
   "execution_count": null,
   "metadata": {},
   "outputs": [],
   "source": []
  }
 ],
 "metadata": {
  "celltoolbar": "Slideshow",
  "kernelspec": {
   "display_name": "Python 2",
   "language": "python",
   "name": "python2"
  },
  "language_info": {
   "codemirror_mode": {
    "name": "ipython",
    "version": 2
   },
   "file_extension": ".py",
   "mimetype": "text/x-python",
   "name": "python",
   "nbconvert_exporter": "python",
   "pygments_lexer": "ipython2",
   "version": "2.7.18"
  }
 },
 "nbformat": 4,
 "nbformat_minor": 2
}
