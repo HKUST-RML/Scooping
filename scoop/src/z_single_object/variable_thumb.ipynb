{
 "cells": [
  {
   "cell_type": "code",
   "execution_count": 1,
   "metadata": {
    "scrolled": true
   },
   "outputs": [],
   "source": [
    "#!/usr/bin/env python\n",
    "import os\n",
    "import sys\n",
    "import rospy\n",
    "import rosbag\n",
    "import copy\n",
    "import tf\n",
    "import cv2\n",
    "from cv_bridge import CvBridge, CvBridgeError\n",
    "import numpy as np\n",
    "import std_msgs.msg\n",
    "from std_msgs.msg import UInt16, String\n",
    "import geometry_msgs.msg\n",
    "from math import *\n",
    "from numpy.linalg import inv\n",
    "import scipy.io\n",
    "from mat4py import loadmat\n",
    "import actionlib\n",
    "from robotiq_2f_gripper_msgs.msg import CommandRobotiqGripperFeedback, CommandRobotiqGripperResult, CommandRobotiqGripperAction, CommandRobotiqGripperGoal\n",
    "from robotiq_2f_gripper_control.robotiq_2f_gripper_driver import Robotiq2FingerGripperDriver as Robotiq\n",
    "from sensor_msgs.msg import Image, CameraInfo\n",
    "import message_filters\n",
    "from visualization_msgs.msg import Marker\n",
    "from visualization_msgs.msg import MarkerArray\n",
    "from geometry_msgs.msg import Point\n",
    "import random\n",
    "import urx\n",
    "import math3d as m3d\n",
    "import logging\n",
    "import matplotlib.pyplot as plt\n",
    "rospy.init_node('experiment_single_object', anonymous=True) #initialize the node\n",
    "\n"
   ]
  },
  {
   "cell_type": "code",
   "execution_count": 3,
   "metadata": {},
   "outputs": [
    {
     "name": "stderr",
     "output_type": "stream",
     "text": [
      "[WARN] [1612531385.824602]: Client test: Starting sending goals\n"
     ]
    }
   ],
   "source": [
    "rospy.logwarn(\"Client test: Starting sending goals\")\n",
    "rob = urx.Robot(\"192.168.1.102\")\n",
    "logging.basicConfig(level=logging.WARN)\n",
    "rob.set_tcp((0, 0, 0, 0, 0, 0))"
   ]
  },
  {
   "cell_type": "code",
   "execution_count": 4,
   "metadata": {},
   "outputs": [
    {
     "data": {
      "text/plain": [
       "True"
      ]
     },
     "execution_count": 4,
     "metadata": {},
     "output_type": "execute_result"
    }
   ],
   "source": [
    "action_name = rospy.get_param('~action_name', 'command_robotiq_action')\n",
    "robotiq_client = actionlib.SimpleActionClient(action_name, CommandRobotiqGripperAction)\n",
    "robotiq_client.wait_for_server()"
   ]
  },
  {
   "cell_type": "code",
   "execution_count": 5,
   "metadata": {},
   "outputs": [],
   "source": [
    "import serial\n",
    "import signal\n",
    "import time\n",
    "\n",
    "serialPort = \"/dev/Arduino\"\n",
    "baudRate = 57600\n",
    "ser = serial.Serial(serialPort, baudRate, timeout=0.5)\n",
    "def myHandler(signum, frame):\n",
    "    pass"
   ]
  },
  {
   "cell_type": "code",
   "execution_count": 6,
   "metadata": {},
   "outputs": [],
   "source": [
    "def go_to_home():\n",
    "    \n",
    "    Hong_joint0 = radians(101.23)\n",
    "    Hong_joint1 = radians(-83.77)\n",
    "    Hong_joint2 = radians(-130.28)\n",
    "    Hong_joint3 = radians(-55.97)\n",
    "    Hong_joint4 = radians(89.33)\n",
    "    Hong_joint5 = radians(-78.73)\n",
    "    \n",
    "    rob.movej((Hong_joint0,Hong_joint1, Hong_joint2, Hong_joint3, Hong_joint4, Hong_joint5), 0.6, 1.5)\n",
    "    \n",
    "def go_to_safe_place():\n",
    "    \n",
    "    Hong_joint0 = radians(101.70)\n",
    "    Hong_joint1 = radians(-75.56)\n",
    "    Hong_joint2 = radians(-116.96)\n",
    "    Hong_joint3 = radians(-77.49)\n",
    "    Hong_joint4 = radians(89.42)\n",
    "    Hong_joint5 = radians(-78.13)\n",
    "    \n",
    "    rob.movej((Hong_joint0,Hong_joint1, Hong_joint2, Hong_joint3, Hong_joint4, Hong_joint5), 0.6, 1.5)\n",
    "    \n",
    "def go_to_end_place():\n",
    "    \n",
    "    Hong_joint0 = radians(106.13)\n",
    "    Hong_joint1 = radians(-60.48)\n",
    "    Hong_joint2 = radians(-130.69)\n",
    "    Hong_joint3 = radians(-78.86)\n",
    "    Hong_joint4 = radians(89.68)\n",
    "    Hong_joint5 = radians(-73.78)\n",
    "    \n",
    "    rob.movej((Hong_joint0,Hong_joint1, Hong_joint2, Hong_joint3, Hong_joint4, Hong_joint5), 0.6, 1.5)"
   ]
  },
  {
   "cell_type": "code",
   "execution_count": null,
   "metadata": {},
   "outputs": [],
   "source": []
  },
  {
   "cell_type": "code",
   "execution_count": 7,
   "metadata": {},
   "outputs": [],
   "source": [
    "from math import *\n",
    "import numpy as np\n",
    "def finger_tip_position_wrt_gripper_frame(alpha, l0, l1, l2l, l2r, flength_l, flength_r):\n",
    "    alpha=alpha*pi/180\n",
    "    left_fingertip_position=[-l0-l1*sin(alpha)+l2l, -l1*cos(alpha)-flength_l]\n",
    "    right_fingertip_position=[l0+l1*sin(alpha)-l2r, -l1*cos(alpha)-flength_r]\n",
    "    return left_fingertip_position, right_fingertip_position\n",
    "\n",
    "def pos_flength_adjust_finger_fixed(current_alpha, next_alpha, theta, l0, l1, l2l, l2r, flength_r):\n",
    "    theta=theta*pi/180\n",
    "    current_flength_l = flength_r - (2*l0+2*l1*sin(current_alpha*pi/180)-l2l-l2r)/tan(theta)\n",
    "    current_left_fingertip_pos_g, current_right_fingertip_pos_g = finger_tip_position_wrt_gripper_frame(current_alpha, l0, l1, l2l, l2r, current_flength_l, flength_r)  \n",
    "    next_left_fingertip_pos_g, next_right_fingertip_pos_g = finger_tip_position_wrt_gripper_frame(next_alpha, l0, l1, l2l, l2r, current_flength_l, flength_r) \n",
    "    traslating_wst_g = [current_right_fingertip_pos_g[0]-next_right_fingertip_pos_g[0], current_right_fingertip_pos_g[1]-next_right_fingertip_pos_g[1]]\n",
    "   # print np.array([[traslating_wst_g[0]], [traslating_wst_g[1]]])\n",
    "    traslating_wst_world = np.array([[sin(theta), -cos(theta)], [cos(theta), sin(theta)]]).dot(np.array([[traslating_wst_g[0]], [traslating_wst_g[1]]])).ravel().tolist()\n",
    "    next_left_fingertip_pos_g = [next_left_fingertip_pos_g[0]+traslating_wst_g[0], next_left_fingertip_pos_g[1]+traslating_wst_g[1]]\n",
    "    next_right_fingertip_pos_g = [next_right_fingertip_pos_g[0]+traslating_wst_g[0], next_right_fingertip_pos_g[1]+traslating_wst_g[1]]\n",
    "    extension_distance = -(next_right_fingertip_pos_g[1]+(2*l0+2*l1*sin(next_alpha*pi/180)-l2l-l2r)/tan(theta)-next_left_fingertip_pos_g[1])\n",
    "    return traslating_wst_world, extension_distance\n",
    "\n",
    "def pos_flength_adjust_thumb_fixed(current_alpha, next_alpha, theta, l0, l1, l2l, l2r, flength_r):\n",
    "    theta=theta*pi/180\n",
    "    current_flength_l = flength_r - (2*l0+2*l1*sin(current_alpha*pi/180)-l2l-l2r)/tan(theta)\n",
    "    current_left_fingertip_pos_g, current_right_fingertip_pos_g = finger_tip_position_wrt_gripper_frame(current_alpha, l0, l1, l2l, l2r, current_flength_l, flength_r)  \n",
    "    next_left_fingertip_pos_g, next_right_fingertip_pos_g = finger_tip_position_wrt_gripper_frame(next_alpha, l0, l1, l2l, l2r, current_flength_l, flength_r) \n",
    "    traslating_wst_g = [current_right_fingertip_pos_g[0]-next_right_fingertip_pos_g[0], current_right_fingertip_pos_g[1]-next_right_fingertip_pos_g[1]]\n",
    "    traslating_wst_world = np.array([[sin(theta), -cos(theta)], [cos(theta), sin(theta)]]).dot(np.array([[traslating_wst_g[0]], [traslating_wst_g[1]]])).ravel().tolist()\n",
    "    next_left_fingertip_pos_g = [next_left_fingertip_pos_g[0]+traslating_wst_g[0], next_left_fingertip_pos_g[1]+traslating_wst_g[1]]\n",
    "    next_right_fingertip_pos_g = [next_right_fingertip_pos_g[0]+traslating_wst_g[0], next_right_fingertip_pos_g[1]+traslating_wst_g[1]]\n",
    "    extension_distance = -(next_right_fingertip_pos_g[1]+(2*l0+2*l1*sin(next_alpha*pi/180)-l2l-l2r)/tan(theta)-next_left_fingertip_pos_g[1])\n",
    "    traslating_wst_world[0]=traslating_wst_world[0]-((2*l0+2*l1*sin(current_alpha*pi/180)-l2l-l2r)-(2*l0+2*l1*sin(next_alpha*pi/180)-l2l-l2r))/sin(theta)\n",
    "    return traslating_wst_world, extension_distance\n",
    "\n",
    "#print pos_flength_adjust_thumb_fixed(10, 9, 60, 0.0125, 0.1, 0.006, 0.019, 0.125)"
   ]
  },
  {
   "cell_type": "code",
   "execution_count": 18,
   "metadata": {
    "codehighlighter": [
     [
      6,
      7
     ],
     [
      9,
      10
     ],
     [
      6,
      7
     ],
     [
      9,
      10
     ],
     [
      6,
      7
     ],
     [
      6,
      7
     ],
     [
      6,
      7
     ],
     [
      6,
      7
     ],
     [
      19,
      20
     ],
     [
      13,
      14
     ],
     [
      6,
      7
     ],
     [
      6,
      7
     ],
     [
      9,
      10
     ],
     [
      12,
      13
     ],
     [
      7,
      8
     ],
     [
      13,
      14
     ],
     [
      10,
      11
     ],
     [
      19,
      20
     ],
     [
      21,
      22
     ],
     [
      38,
      39
     ],
     [
      40,
      41
     ],
     [
      41,
      42
     ],
     [
      53,
      54
     ],
     [
      12,
      13
     ],
     [
      9,
      10
     ],
     [
      6,
      7
     ],
     [
      52,
      53
     ],
     [
      40,
      41
     ],
     [
      41,
      42
     ]
    ],
    "slideshow": {
     "slide_type": "-"
    }
   },
   "outputs": [],
   "source": [
    "from geometry_msgs.msg import WrenchStamped\n",
    "from std_msgs.msg import UInt16\n",
    "import time\n",
    "\n",
    "def skim_grasping():\n",
    "    go_to_safe_place()\n",
    "    #Robotiq.goto(robotiq_client, pos=2.5*0.14/48.0+1.12/48.0, speed=0.5, force=10, block=True) \n",
    "    Robotiq.goto(robotiq_client, pos=8*0.14/48.0+1.12/48.0, speed=0.5, force=10, block=True) \n",
    "    signal.signal(signal.SIGALRM, myHandler)\n",
    "    signal.setitimer(signal.ITIMER_REAL, 0.005)\n",
    "    ser.write('1000')\n",
    "    signal.setitimer(signal.ITIMER_REAL, 0)\n",
    "    time.sleep(0.2)    \n",
    "    rob.set_tcp((0.022, 0, 0.355, 0, 0, 0))\n",
    "    #rob.set_tcp((0.014, 0, 0.3400, 0, 0, 0))  \n",
    "    rospy.sleep(0.5)\n",
    "    world2tcp = rob.get_pose()\n",
    "    world2tcp.pos.x+=0.007\n",
    "    world2tcp.pos.y-=0.001\n",
    "    rob.translate((0.01-world2tcp.pos.x,0.675-world2tcp.pos.y,0), acc=0.5, vel=0.8, wait=True) \n",
    "    rob.translate((0, 0, -0.106), acc=0.5, vel=0.8) #0.116  #-0.104\n",
    "    rob.movel_tool((0,0,0,0,0,-pi/2), acc=0.5, vel=0.8, wait=True)\n",
    "    rob.translate_tool((0.006, 0, 0), acc=0.06, vel=0.08)     #0.006\n",
    "    \n",
    "    rob.movel_tool((0,0,0,0,45*pi/180,0), acc=0.3, vel=0.8, wait=True)    \n",
    "    \n",
    "    # Create ros bag\n",
    "    #bag = rosbag.Bag('./torque_y_finger30.bag', 'w')\n",
    "    \n",
    "    rob.translate((0, 0, -0.02), acc=0.01, vel=0.05, wait=False)\n",
    "    wrench = rospy.wait_for_message('/robotiq_ft_wrench', WrenchStamped, timeout = None)\n",
    "    ini_wrench = wrench.wrench.torque.y\n",
    "    time0 = time.time()\n",
    "    num_large_force = 0\n",
    "    time.sleep(0.2)\n",
    "    while True:\n",
    "        # Record torque and save to ros bag\n",
    "        #bag.write('torque_y', wrench)\n",
    "        \n",
    "        if num_large_force == 3:\n",
    "            rob.stopl()\n",
    "            break\n",
    "        wrench = rospy.wait_for_message('/robotiq_ft_wrench', WrenchStamped, timeout = None)\n",
    "        if wrench.wrench.torque.y>ini_wrench+0.4:   \n",
    "            num_large_force += 1\n",
    "        if time.time()-time0>2.8:  \n",
    "            break\n",
    "    time.sleep(0.5)\n",
    "    '''\n",
    "    time1 = time.time()\n",
    "    while True:\n",
    "        wrench = rospy.wait_for_message('/robotiq_ft_wrench', WrenchStamped, timeout = None)\n",
    "        bag.write('torque_y', wrench)\n",
    "        if time.time()-time1>0.5:\n",
    "            break \n",
    "    bag.close()\n",
    "    '''\n",
    "    \n",
    "    #bag = rosbag.Bag('./torque_y_finger31.bag', 'w')\n",
    "    wrench = rospy.wait_for_message('/robotiq_ft_wrench', WrenchStamped, timeout = None)\n",
    "    ini_wrench = wrench.wrench.torque.y\n",
    "    for current_finger_length_extend in np.arange(0,70,4):\n",
    "        current_finger_length = 0+current_finger_length_extend #Change\n",
    "        signal.setitimer(signal.ITIMER_REAL, 0.001)        \n",
    "        ser.write('1'+str(current_finger_length))\n",
    "        signal.setitimer(signal.ITIMER_REAL, 0)\n",
    "        time.sleep(0.2)        \n",
    "        current_fingerlength_int=current_finger_length\n",
    "        wrench = rospy.wait_for_message('/robotiq_ft_wrench', WrenchStamped, timeout = None)\n",
    "        #bag.write('torque_y', wrench)\n",
    "        if wrench.wrench.torque.y>ini_wrench+0.3:\n",
    "            break\n",
    "    print current_fingerlength_int \n",
    "    time.sleep(0.5)\n",
    "    '''\n",
    "    time1 = time.time()\n",
    "    while True:\n",
    "        wrench = rospy.wait_for_message('/robotiq_ft_wrench', WrenchStamped, timeout = None)\n",
    "        bag.write('torque_y', wrench)\n",
    "        if time.time()-time1>0.5:\n",
    "            break\n",
    "    bag.close()\n",
    "    '''\n",
    "    \n",
    "    angle_step=0.2\n",
    "    for angle in np.arange(8,-4,-angle_step):\n",
    "        translate_dir_dis, extension_distance = pos_flength_adjust_thumb_fixed(angle, angle-angle_step, 60, 0.0125, 0.1, 0.019, 0.01, 0.125)\n",
    "        old_fingerlength_int=current_fingerlength_int\n",
    "        current_fingerlength_int=round(max(current_fingerlength_int+extension_distance*(180.0/0.03),0))\n",
    "        signal.signal(signal.SIGALRM, myHandler)\n",
    "        signal.setitimer(signal.ITIMER_REAL, 0.005)\n",
    "        ser.write('1'+str(current_fingerlength_int))\n",
    "        signal.setitimer(signal.ITIMER_REAL, 0)   \n",
    "        #if abs(current_fingerlength_int-old_fingerlength_int)!=0 and current_fingerlength_int<=155:\n",
    "        if current_fingerlength_int<=180:\n",
    "            Robotiq.goto(robotiq_client, pos=(angle-1)*0.14/48.0+1.12/48.0, speed=0.2, force=10, block=False)\n",
    "            rob.translate_tool((sin(60*pi/180)*translate_dir_dis[0]+cos(60*pi/180)*translate_dir_dis[1], 0, cos(60*pi/180)*translate_dir_dis[0]-sin(60*pi/180)*translate_dir_dis[1]), acc=0.05, vel=0.05, wait=True)\n",
    "        #else:\n",
    "            #time.sleep(0.01)\n",
    "    Robotiq.goto(robotiq_client, pos=-4*0.14/48.0+1.12/48.0, speed=0.2, force=10, block=False)\n",
    "    rospy.sleep(0.5)\n",
    "    rob.translate_tool((0, 0, -0.12), acc=0.3, vel=0.8, wait=True)\n",
    "    rob.movel_tool((0,0,0,0,-pi/4,0), acc=0.5, vel=0.8, wait=True)\n",
    "    rospy.sleep(0.5)\n",
    "    go_to_end_place()\n",
    "    Robotiq.goto(robotiq_client, pos=2*0.14/48.0+1.12/48.0, speed=0.5, force=10, block=True)  \n"
   ]
  },
  {
   "cell_type": "code",
   "execution_count": 19,
   "metadata": {},
   "outputs": [
    {
     "name": "stdout",
     "output_type": "stream",
     "text": [
      "68\n",
      "68\n",
      "68\n",
      "68\n",
      "68\n",
      "68\n",
      "68\n",
      "68\n",
      "60\n",
      "56\n"
     ]
    },
    {
     "ename": "KeyboardInterrupt",
     "evalue": "",
     "output_type": "error",
     "traceback": [
      "\u001b[0;31m-----------------------------------------\u001b[0m",
      "\u001b[0;31mKeyboardInterrupt\u001b[0mTraceback (most recent call last)",
      "\u001b[0;32m<ipython-input-19-a428434c62f0>\u001b[0m in \u001b[0;36m<module>\u001b[0;34m()\u001b[0m\n\u001b[1;32m      2\u001b[0m \u001b[0;32mfor\u001b[0m \u001b[0mi\u001b[0m \u001b[0;32min\u001b[0m \u001b[0mrange\u001b[0m\u001b[0;34m(\u001b[0m\u001b[0;36m30\u001b[0m\u001b[0;34m)\u001b[0m\u001b[0;34m:\u001b[0m\u001b[0;34m\u001b[0m\u001b[0m\n\u001b[1;32m      3\u001b[0m     \u001b[0;31m#print i0\u001b[0m\u001b[0;34m\u001b[0m\u001b[0;34m\u001b[0m\u001b[0m\n\u001b[0;32m----> 4\u001b[0;31m     \u001b[0mskim_grasping\u001b[0m\u001b[0;34m(\u001b[0m\u001b[0;34m)\u001b[0m\u001b[0;34m\u001b[0m\u001b[0m\n\u001b[0m\u001b[1;32m      5\u001b[0m \u001b[0;31m#    bag_number = bag_number + 1\u001b[0m\u001b[0;34m\u001b[0m\u001b[0;34m\u001b[0m\u001b[0m\n",
      "\u001b[0;32m<ipython-input-18-6e4c0810c0c9>\u001b[0m in \u001b[0;36mskim_grasping\u001b[0;34m()\u001b[0m\n\u001b[1;32m     18\u001b[0m     \u001b[0mworld2tcp\u001b[0m\u001b[0;34m.\u001b[0m\u001b[0mpos\u001b[0m\u001b[0;34m.\u001b[0m\u001b[0mx\u001b[0m\u001b[0;34m+=\u001b[0m\u001b[0;36m0.007\u001b[0m\u001b[0;34m\u001b[0m\u001b[0m\n\u001b[1;32m     19\u001b[0m     \u001b[0mworld2tcp\u001b[0m\u001b[0;34m.\u001b[0m\u001b[0mpos\u001b[0m\u001b[0;34m.\u001b[0m\u001b[0my\u001b[0m\u001b[0;34m-=\u001b[0m\u001b[0;36m0.001\u001b[0m\u001b[0;34m\u001b[0m\u001b[0m\n\u001b[0;32m---> 20\u001b[0;31m     \u001b[0mrob\u001b[0m\u001b[0;34m.\u001b[0m\u001b[0mtranslate\u001b[0m\u001b[0;34m(\u001b[0m\u001b[0;34m(\u001b[0m\u001b[0;36m0.01\u001b[0m\u001b[0;34m-\u001b[0m\u001b[0mworld2tcp\u001b[0m\u001b[0;34m.\u001b[0m\u001b[0mpos\u001b[0m\u001b[0;34m.\u001b[0m\u001b[0mx\u001b[0m\u001b[0;34m,\u001b[0m\u001b[0;36m0.675\u001b[0m\u001b[0;34m-\u001b[0m\u001b[0mworld2tcp\u001b[0m\u001b[0;34m.\u001b[0m\u001b[0mpos\u001b[0m\u001b[0;34m.\u001b[0m\u001b[0my\u001b[0m\u001b[0;34m,\u001b[0m\u001b[0;36m0\u001b[0m\u001b[0;34m)\u001b[0m\u001b[0;34m,\u001b[0m \u001b[0macc\u001b[0m\u001b[0;34m=\u001b[0m\u001b[0;36m0.5\u001b[0m\u001b[0;34m,\u001b[0m \u001b[0mvel\u001b[0m\u001b[0;34m=\u001b[0m\u001b[0;36m0.8\u001b[0m\u001b[0;34m,\u001b[0m \u001b[0mwait\u001b[0m\u001b[0;34m=\u001b[0m\u001b[0mTrue\u001b[0m\u001b[0;34m)\u001b[0m\u001b[0;34m\u001b[0m\u001b[0m\n\u001b[0m\u001b[1;32m     21\u001b[0m     \u001b[0mrob\u001b[0m\u001b[0;34m.\u001b[0m\u001b[0mtranslate\u001b[0m\u001b[0;34m(\u001b[0m\u001b[0;34m(\u001b[0m\u001b[0;36m0\u001b[0m\u001b[0;34m,\u001b[0m \u001b[0;36m0\u001b[0m\u001b[0;34m,\u001b[0m \u001b[0;34m-\u001b[0m\u001b[0;36m0.106\u001b[0m\u001b[0;34m)\u001b[0m\u001b[0;34m,\u001b[0m \u001b[0macc\u001b[0m\u001b[0;34m=\u001b[0m\u001b[0;36m0.5\u001b[0m\u001b[0;34m,\u001b[0m \u001b[0mvel\u001b[0m\u001b[0;34m=\u001b[0m\u001b[0;36m0.8\u001b[0m\u001b[0;34m)\u001b[0m \u001b[0;31m#0.116  #-0.104\u001b[0m\u001b[0;34m\u001b[0m\u001b[0m\n\u001b[1;32m     22\u001b[0m     \u001b[0mrob\u001b[0m\u001b[0;34m.\u001b[0m\u001b[0mmovel_tool\u001b[0m\u001b[0;34m(\u001b[0m\u001b[0;34m(\u001b[0m\u001b[0;36m0\u001b[0m\u001b[0;34m,\u001b[0m\u001b[0;36m0\u001b[0m\u001b[0;34m,\u001b[0m\u001b[0;36m0\u001b[0m\u001b[0;34m,\u001b[0m\u001b[0;36m0\u001b[0m\u001b[0;34m,\u001b[0m\u001b[0;36m0\u001b[0m\u001b[0;34m,\u001b[0m\u001b[0;34m-\u001b[0m\u001b[0mpi\u001b[0m\u001b[0;34m/\u001b[0m\u001b[0;36m2\u001b[0m\u001b[0;34m)\u001b[0m\u001b[0;34m,\u001b[0m \u001b[0macc\u001b[0m\u001b[0;34m=\u001b[0m\u001b[0;36m0.5\u001b[0m\u001b[0;34m,\u001b[0m \u001b[0mvel\u001b[0m\u001b[0;34m=\u001b[0m\u001b[0;36m0.8\u001b[0m\u001b[0;34m,\u001b[0m \u001b[0mwait\u001b[0m\u001b[0;34m=\u001b[0m\u001b[0mTrue\u001b[0m\u001b[0;34m)\u001b[0m\u001b[0;34m\u001b[0m\u001b[0m\n",
      "\u001b[0;32m/home/terry/anaconda3/envs/ros_control/lib/python2.7/site-packages/urx/urrobot.pyc\u001b[0m in \u001b[0;36mtranslate\u001b[0;34m(self, vect, acc, vel, wait, command)\u001b[0m\n\u001b[1;32m    427\u001b[0m         \u001b[0mp\u001b[0m\u001b[0;34m[\u001b[0m\u001b[0;36m1\u001b[0m\u001b[0;34m]\u001b[0m \u001b[0;34m+=\u001b[0m \u001b[0mvect\u001b[0m\u001b[0;34m[\u001b[0m\u001b[0;36m1\u001b[0m\u001b[0;34m]\u001b[0m\u001b[0;34m\u001b[0m\u001b[0m\n\u001b[1;32m    428\u001b[0m         \u001b[0mp\u001b[0m\u001b[0;34m[\u001b[0m\u001b[0;36m2\u001b[0m\u001b[0;34m]\u001b[0m \u001b[0;34m+=\u001b[0m \u001b[0mvect\u001b[0m\u001b[0;34m[\u001b[0m\u001b[0;36m2\u001b[0m\u001b[0;34m]\u001b[0m\u001b[0;34m\u001b[0m\u001b[0m\n\u001b[0;32m--> 429\u001b[0;31m         \u001b[0;32mreturn\u001b[0m \u001b[0mself\u001b[0m\u001b[0;34m.\u001b[0m\u001b[0mmovex\u001b[0m\u001b[0;34m(\u001b[0m\u001b[0mcommand\u001b[0m\u001b[0;34m,\u001b[0m \u001b[0mp\u001b[0m\u001b[0;34m,\u001b[0m \u001b[0mvel\u001b[0m\u001b[0;34m=\u001b[0m\u001b[0mvel\u001b[0m\u001b[0;34m,\u001b[0m \u001b[0macc\u001b[0m\u001b[0;34m=\u001b[0m\u001b[0macc\u001b[0m\u001b[0;34m,\u001b[0m \u001b[0mwait\u001b[0m\u001b[0;34m=\u001b[0m\u001b[0mwait\u001b[0m\u001b[0;34m)\u001b[0m\u001b[0;34m\u001b[0m\u001b[0m\n\u001b[0m\u001b[1;32m    430\u001b[0m \u001b[0;34m\u001b[0m\u001b[0m\n\u001b[1;32m    431\u001b[0m     \u001b[0;32mdef\u001b[0m \u001b[0mup\u001b[0m\u001b[0;34m(\u001b[0m\u001b[0mself\u001b[0m\u001b[0;34m,\u001b[0m \u001b[0mz\u001b[0m\u001b[0;34m=\u001b[0m\u001b[0;36m0.05\u001b[0m\u001b[0;34m,\u001b[0m \u001b[0macc\u001b[0m\u001b[0;34m=\u001b[0m\u001b[0;36m0.01\u001b[0m\u001b[0;34m,\u001b[0m \u001b[0mvel\u001b[0m\u001b[0;34m=\u001b[0m\u001b[0;36m0.01\u001b[0m\u001b[0;34m)\u001b[0m\u001b[0;34m:\u001b[0m\u001b[0;34m\u001b[0m\u001b[0m\n",
      "\u001b[0;32m/home/terry/anaconda3/envs/ros_control/lib/python2.7/site-packages/urx/robot.pyc\u001b[0m in \u001b[0;36mmovex\u001b[0;34m(self, command, pose, acc, vel, wait, relative, threshold)\u001b[0m\n\u001b[1;32m    178\u001b[0m             \u001b[0;32mreturn\u001b[0m \u001b[0mself\u001b[0m\u001b[0;34m.\u001b[0m\u001b[0madd_pose_base\u001b[0m\u001b[0;34m(\u001b[0m\u001b[0mt\u001b[0m\u001b[0;34m,\u001b[0m \u001b[0macc\u001b[0m\u001b[0;34m,\u001b[0m \u001b[0mvel\u001b[0m\u001b[0;34m,\u001b[0m \u001b[0mwait\u001b[0m\u001b[0;34m=\u001b[0m\u001b[0mwait\u001b[0m\u001b[0;34m,\u001b[0m \u001b[0mcommand\u001b[0m\u001b[0;34m=\u001b[0m\u001b[0mcommand\u001b[0m\u001b[0;34m,\u001b[0m \u001b[0mthreshold\u001b[0m\u001b[0;34m=\u001b[0m\u001b[0mthreshold\u001b[0m\u001b[0;34m)\u001b[0m\u001b[0;34m\u001b[0m\u001b[0m\n\u001b[1;32m    179\u001b[0m         \u001b[0;32melse\u001b[0m\u001b[0;34m:\u001b[0m\u001b[0;34m\u001b[0m\u001b[0m\n\u001b[0;32m--> 180\u001b[0;31m             \u001b[0;32mreturn\u001b[0m \u001b[0mself\u001b[0m\u001b[0;34m.\u001b[0m\u001b[0mset_pose\u001b[0m\u001b[0;34m(\u001b[0m\u001b[0mt\u001b[0m\u001b[0;34m,\u001b[0m \u001b[0macc\u001b[0m\u001b[0;34m,\u001b[0m \u001b[0mvel\u001b[0m\u001b[0;34m,\u001b[0m \u001b[0mwait\u001b[0m\u001b[0;34m=\u001b[0m\u001b[0mwait\u001b[0m\u001b[0;34m,\u001b[0m \u001b[0mcommand\u001b[0m\u001b[0;34m=\u001b[0m\u001b[0mcommand\u001b[0m\u001b[0;34m,\u001b[0m \u001b[0mthreshold\u001b[0m\u001b[0;34m=\u001b[0m\u001b[0mthreshold\u001b[0m\u001b[0;34m)\u001b[0m\u001b[0;34m\u001b[0m\u001b[0m\n\u001b[0m\u001b[1;32m    181\u001b[0m \u001b[0;34m\u001b[0m\u001b[0m\n\u001b[1;32m    182\u001b[0m     \u001b[0;32mdef\u001b[0m \u001b[0mmovexs\u001b[0m\u001b[0;34m(\u001b[0m\u001b[0mself\u001b[0m\u001b[0;34m,\u001b[0m \u001b[0mcommand\u001b[0m\u001b[0;34m,\u001b[0m \u001b[0mpose_list\u001b[0m\u001b[0;34m,\u001b[0m \u001b[0macc\u001b[0m\u001b[0;34m=\u001b[0m\u001b[0;36m0.01\u001b[0m\u001b[0;34m,\u001b[0m \u001b[0mvel\u001b[0m\u001b[0;34m=\u001b[0m\u001b[0;36m0.01\u001b[0m\u001b[0;34m,\u001b[0m \u001b[0mradius\u001b[0m\u001b[0;34m=\u001b[0m\u001b[0;36m0.01\u001b[0m\u001b[0;34m,\u001b[0m \u001b[0mwait\u001b[0m\u001b[0;34m=\u001b[0m\u001b[0mTrue\u001b[0m\u001b[0;34m,\u001b[0m \u001b[0mthreshold\u001b[0m\u001b[0;34m=\u001b[0m\u001b[0mNone\u001b[0m\u001b[0;34m)\u001b[0m\u001b[0;34m:\u001b[0m\u001b[0;34m\u001b[0m\u001b[0m\n",
      "\u001b[0;32m/home/terry/anaconda3/envs/ros_control/lib/python2.7/site-packages/urx/robot.pyc\u001b[0m in \u001b[0;36mset_pose\u001b[0;34m(self, trans, acc, vel, wait, command, threshold)\u001b[0m\n\u001b[1;32m    103\u001b[0m         \u001b[0mself\u001b[0m\u001b[0;34m.\u001b[0m\u001b[0mlogger\u001b[0m\u001b[0;34m.\u001b[0m\u001b[0mdebug\u001b[0m\u001b[0;34m(\u001b[0m\u001b[0;34m\"Setting pose to %s\"\u001b[0m\u001b[0;34m,\u001b[0m \u001b[0mtrans\u001b[0m\u001b[0;34m.\u001b[0m\u001b[0mpose_vector\u001b[0m\u001b[0;34m)\u001b[0m\u001b[0;34m\u001b[0m\u001b[0m\n\u001b[1;32m    104\u001b[0m         \u001b[0mt\u001b[0m \u001b[0;34m=\u001b[0m \u001b[0mself\u001b[0m\u001b[0;34m.\u001b[0m\u001b[0mcsys\u001b[0m \u001b[0;34m*\u001b[0m \u001b[0mtrans\u001b[0m\u001b[0;34m\u001b[0m\u001b[0m\n\u001b[0;32m--> 105\u001b[0;31m         \u001b[0mpose\u001b[0m \u001b[0;34m=\u001b[0m \u001b[0mURRobot\u001b[0m\u001b[0;34m.\u001b[0m\u001b[0mmovex\u001b[0m\u001b[0;34m(\u001b[0m\u001b[0mself\u001b[0m\u001b[0;34m,\u001b[0m \u001b[0mcommand\u001b[0m\u001b[0;34m,\u001b[0m \u001b[0mt\u001b[0m\u001b[0;34m.\u001b[0m\u001b[0mpose_vector\u001b[0m\u001b[0;34m,\u001b[0m \u001b[0macc\u001b[0m\u001b[0;34m=\u001b[0m\u001b[0macc\u001b[0m\u001b[0;34m,\u001b[0m \u001b[0mvel\u001b[0m\u001b[0;34m=\u001b[0m\u001b[0mvel\u001b[0m\u001b[0;34m,\u001b[0m \u001b[0mwait\u001b[0m\u001b[0;34m=\u001b[0m\u001b[0mwait\u001b[0m\u001b[0;34m,\u001b[0m \u001b[0mthreshold\u001b[0m\u001b[0;34m=\u001b[0m\u001b[0mthreshold\u001b[0m\u001b[0;34m)\u001b[0m\u001b[0;34m\u001b[0m\u001b[0m\n\u001b[0m\u001b[1;32m    106\u001b[0m         \u001b[0;32mif\u001b[0m \u001b[0mpose\u001b[0m \u001b[0;32mis\u001b[0m \u001b[0;32mnot\u001b[0m \u001b[0mNone\u001b[0m\u001b[0;34m:\u001b[0m\u001b[0;34m\u001b[0m\u001b[0m\n\u001b[1;32m    107\u001b[0m             \u001b[0;32mreturn\u001b[0m \u001b[0mself\u001b[0m\u001b[0;34m.\u001b[0m\u001b[0mcsys\u001b[0m\u001b[0;34m.\u001b[0m\u001b[0minverse\u001b[0m \u001b[0;34m*\u001b[0m \u001b[0mm3d\u001b[0m\u001b[0;34m.\u001b[0m\u001b[0mTransform\u001b[0m\u001b[0;34m(\u001b[0m\u001b[0mpose\u001b[0m\u001b[0;34m)\u001b[0m\u001b[0;34m\u001b[0m\u001b[0m\n",
      "\u001b[0;32m/home/terry/anaconda3/envs/ros_control/lib/python2.7/site-packages/urx/urrobot.pyc\u001b[0m in \u001b[0;36mmovex\u001b[0;34m(self, command, tpose, acc, vel, wait, relative, threshold)\u001b[0m\n\u001b[1;32m    314\u001b[0m         \u001b[0mself\u001b[0m\u001b[0;34m.\u001b[0m\u001b[0msend_program\u001b[0m\u001b[0;34m(\u001b[0m\u001b[0mprog\u001b[0m\u001b[0;34m)\u001b[0m\u001b[0;34m\u001b[0m\u001b[0m\n\u001b[1;32m    315\u001b[0m         \u001b[0;32mif\u001b[0m \u001b[0mwait\u001b[0m\u001b[0;34m:\u001b[0m\u001b[0;34m\u001b[0m\u001b[0m\n\u001b[0;32m--> 316\u001b[0;31m             \u001b[0mself\u001b[0m\u001b[0;34m.\u001b[0m\u001b[0m_wait_for_move\u001b[0m\u001b[0;34m(\u001b[0m\u001b[0mtpose\u001b[0m\u001b[0;34m[\u001b[0m\u001b[0;34m:\u001b[0m\u001b[0;36m6\u001b[0m\u001b[0;34m]\u001b[0m\u001b[0;34m,\u001b[0m \u001b[0mthreshold\u001b[0m\u001b[0;34m=\u001b[0m\u001b[0mthreshold\u001b[0m\u001b[0;34m)\u001b[0m\u001b[0;34m\u001b[0m\u001b[0m\n\u001b[0m\u001b[1;32m    317\u001b[0m             \u001b[0;32mreturn\u001b[0m \u001b[0mself\u001b[0m\u001b[0;34m.\u001b[0m\u001b[0mgetl\u001b[0m\u001b[0;34m(\u001b[0m\u001b[0;34m)\u001b[0m\u001b[0;34m\u001b[0m\u001b[0m\n\u001b[1;32m    318\u001b[0m \u001b[0;34m\u001b[0m\u001b[0m\n",
      "\u001b[0;32m/home/terry/anaconda3/envs/ros_control/lib/python2.7/site-packages/urx/urrobot.pyc\u001b[0m in \u001b[0;36m_wait_for_move\u001b[0;34m(self, target, threshold, timeout, joints)\u001b[0m\n\u001b[1;32m    216\u001b[0m             \u001b[0;32mif\u001b[0m \u001b[0;32mnot\u001b[0m \u001b[0mself\u001b[0m\u001b[0;34m.\u001b[0m\u001b[0mis_running\u001b[0m\u001b[0;34m(\u001b[0m\u001b[0;34m)\u001b[0m\u001b[0;34m:\u001b[0m\u001b[0;34m\u001b[0m\u001b[0m\n\u001b[1;32m    217\u001b[0m                 \u001b[0;32mraise\u001b[0m \u001b[0mRobotException\u001b[0m\u001b[0;34m(\u001b[0m\u001b[0;34m\"Robot stopped\"\u001b[0m\u001b[0;34m)\u001b[0m\u001b[0;34m\u001b[0m\u001b[0m\n\u001b[0;32m--> 218\u001b[0;31m             \u001b[0mdist\u001b[0m \u001b[0;34m=\u001b[0m \u001b[0mself\u001b[0m\u001b[0;34m.\u001b[0m\u001b[0m_get_dist\u001b[0m\u001b[0;34m(\u001b[0m\u001b[0mtarget\u001b[0m\u001b[0;34m,\u001b[0m \u001b[0mjoints\u001b[0m\u001b[0;34m)\u001b[0m\u001b[0;34m\u001b[0m\u001b[0m\n\u001b[0m\u001b[1;32m    219\u001b[0m             \u001b[0mself\u001b[0m\u001b[0;34m.\u001b[0m\u001b[0mlogger\u001b[0m\u001b[0;34m.\u001b[0m\u001b[0mdebug\u001b[0m\u001b[0;34m(\u001b[0m\u001b[0;34m\"distance to target is: %s, target dist is %s\"\u001b[0m\u001b[0;34m,\u001b[0m \u001b[0mdist\u001b[0m\u001b[0;34m,\u001b[0m \u001b[0mthreshold\u001b[0m\u001b[0;34m)\u001b[0m\u001b[0;34m\u001b[0m\u001b[0m\n\u001b[1;32m    220\u001b[0m             \u001b[0;32mif\u001b[0m \u001b[0;32mnot\u001b[0m \u001b[0mself\u001b[0m\u001b[0;34m.\u001b[0m\u001b[0msecmon\u001b[0m\u001b[0;34m.\u001b[0m\u001b[0mis_program_running\u001b[0m\u001b[0;34m(\u001b[0m\u001b[0;34m)\u001b[0m\u001b[0;34m:\u001b[0m\u001b[0;34m\u001b[0m\u001b[0m\n",
      "\u001b[0;32m/home/terry/anaconda3/envs/ros_control/lib/python2.7/site-packages/urx/urrobot.pyc\u001b[0m in \u001b[0;36m_get_dist\u001b[0;34m(self, target, joints)\u001b[0m\n\u001b[1;32m    232\u001b[0m             \u001b[0;32mreturn\u001b[0m \u001b[0mself\u001b[0m\u001b[0;34m.\u001b[0m\u001b[0m_get_joints_dist\u001b[0m\u001b[0;34m(\u001b[0m\u001b[0mtarget\u001b[0m\u001b[0;34m)\u001b[0m\u001b[0;34m\u001b[0m\u001b[0m\n\u001b[1;32m    233\u001b[0m         \u001b[0;32melse\u001b[0m\u001b[0;34m:\u001b[0m\u001b[0;34m\u001b[0m\u001b[0m\n\u001b[0;32m--> 234\u001b[0;31m             \u001b[0;32mreturn\u001b[0m \u001b[0mself\u001b[0m\u001b[0;34m.\u001b[0m\u001b[0m_get_lin_dist\u001b[0m\u001b[0;34m(\u001b[0m\u001b[0mtarget\u001b[0m\u001b[0;34m)\u001b[0m\u001b[0;34m\u001b[0m\u001b[0m\n\u001b[0m\u001b[1;32m    235\u001b[0m \u001b[0;34m\u001b[0m\u001b[0m\n\u001b[1;32m    236\u001b[0m     \u001b[0;32mdef\u001b[0m \u001b[0m_get_lin_dist\u001b[0m\u001b[0;34m(\u001b[0m\u001b[0mself\u001b[0m\u001b[0;34m,\u001b[0m \u001b[0mtarget\u001b[0m\u001b[0;34m)\u001b[0m\u001b[0;34m:\u001b[0m\u001b[0;34m\u001b[0m\u001b[0m\n",
      "\u001b[0;32m/home/terry/anaconda3/envs/ros_control/lib/python2.7/site-packages/urx/robot.pyc\u001b[0m in \u001b[0;36m_get_lin_dist\u001b[0;34m(self, target)\u001b[0m\n\u001b[1;32m     29\u001b[0m \u001b[0;34m\u001b[0m\u001b[0m\n\u001b[1;32m     30\u001b[0m     \u001b[0;32mdef\u001b[0m \u001b[0m_get_lin_dist\u001b[0m\u001b[0;34m(\u001b[0m\u001b[0mself\u001b[0m\u001b[0;34m,\u001b[0m \u001b[0mtarget\u001b[0m\u001b[0;34m)\u001b[0m\u001b[0;34m:\u001b[0m\u001b[0;34m\u001b[0m\u001b[0m\n\u001b[0;32m---> 31\u001b[0;31m         \u001b[0mpose\u001b[0m \u001b[0;34m=\u001b[0m \u001b[0mURRobot\u001b[0m\u001b[0;34m.\u001b[0m\u001b[0mgetl\u001b[0m\u001b[0;34m(\u001b[0m\u001b[0mself\u001b[0m\u001b[0;34m,\u001b[0m \u001b[0mwait\u001b[0m\u001b[0;34m=\u001b[0m\u001b[0mTrue\u001b[0m\u001b[0;34m)\u001b[0m\u001b[0;34m\u001b[0m\u001b[0m\n\u001b[0m\u001b[1;32m     32\u001b[0m         \u001b[0mtarget\u001b[0m \u001b[0;34m=\u001b[0m \u001b[0mm3d\u001b[0m\u001b[0;34m.\u001b[0m\u001b[0mTransform\u001b[0m\u001b[0;34m(\u001b[0m\u001b[0mtarget\u001b[0m\u001b[0;34m)\u001b[0m\u001b[0;34m\u001b[0m\u001b[0m\n\u001b[1;32m     33\u001b[0m         \u001b[0mpose\u001b[0m \u001b[0;34m=\u001b[0m \u001b[0mm3d\u001b[0m\u001b[0;34m.\u001b[0m\u001b[0mTransform\u001b[0m\u001b[0;34m(\u001b[0m\u001b[0mpose\u001b[0m\u001b[0;34m)\u001b[0m\u001b[0;34m\u001b[0m\u001b[0m\n",
      "\u001b[0;32m/home/terry/anaconda3/envs/ros_control/lib/python2.7/site-packages/urx/urrobot.pyc\u001b[0m in \u001b[0;36mgetl\u001b[0;34m(self, wait, _log)\u001b[0m\n\u001b[1;32m    321\u001b[0m         \u001b[0mget\u001b[0m \u001b[0mTCP\u001b[0m \u001b[0mposition\u001b[0m\u001b[0;34m\u001b[0m\u001b[0m\n\u001b[1;32m    322\u001b[0m         \"\"\"\n\u001b[0;32m--> 323\u001b[0;31m         \u001b[0mpose\u001b[0m \u001b[0;34m=\u001b[0m \u001b[0mself\u001b[0m\u001b[0;34m.\u001b[0m\u001b[0msecmon\u001b[0m\u001b[0;34m.\u001b[0m\u001b[0mget_cartesian_info\u001b[0m\u001b[0;34m(\u001b[0m\u001b[0mwait\u001b[0m\u001b[0;34m)\u001b[0m\u001b[0;34m\u001b[0m\u001b[0m\n\u001b[0m\u001b[1;32m    324\u001b[0m         \u001b[0;32mif\u001b[0m \u001b[0mpose\u001b[0m\u001b[0;34m:\u001b[0m\u001b[0;34m\u001b[0m\u001b[0m\n\u001b[1;32m    325\u001b[0m             \u001b[0mpose\u001b[0m \u001b[0;34m=\u001b[0m \u001b[0;34m[\u001b[0m\u001b[0mpose\u001b[0m\u001b[0;34m[\u001b[0m\u001b[0;34m\"X\"\u001b[0m\u001b[0;34m]\u001b[0m\u001b[0;34m,\u001b[0m \u001b[0mpose\u001b[0m\u001b[0;34m[\u001b[0m\u001b[0;34m\"Y\"\u001b[0m\u001b[0;34m]\u001b[0m\u001b[0;34m,\u001b[0m \u001b[0mpose\u001b[0m\u001b[0;34m[\u001b[0m\u001b[0;34m\"Z\"\u001b[0m\u001b[0;34m]\u001b[0m\u001b[0;34m,\u001b[0m \u001b[0mpose\u001b[0m\u001b[0;34m[\u001b[0m\u001b[0;34m\"Rx\"\u001b[0m\u001b[0;34m]\u001b[0m\u001b[0;34m,\u001b[0m \u001b[0mpose\u001b[0m\u001b[0;34m[\u001b[0m\u001b[0;34m\"Ry\"\u001b[0m\u001b[0;34m]\u001b[0m\u001b[0;34m,\u001b[0m \u001b[0mpose\u001b[0m\u001b[0;34m[\u001b[0m\u001b[0;34m\"Rz\"\u001b[0m\u001b[0;34m]\u001b[0m\u001b[0;34m]\u001b[0m\u001b[0;34m\u001b[0m\u001b[0m\n",
      "\u001b[0;32m/home/terry/anaconda3/envs/ros_control/lib/python2.7/site-packages/urx/ursecmon.pyc\u001b[0m in \u001b[0;36mget_cartesian_info\u001b[0;34m(self, wait)\u001b[0m\n\u001b[1;32m    351\u001b[0m     \u001b[0;32mdef\u001b[0m \u001b[0mget_cartesian_info\u001b[0m\u001b[0;34m(\u001b[0m\u001b[0mself\u001b[0m\u001b[0;34m,\u001b[0m \u001b[0mwait\u001b[0m\u001b[0;34m=\u001b[0m\u001b[0mFalse\u001b[0m\u001b[0;34m)\u001b[0m\u001b[0;34m:\u001b[0m\u001b[0;34m\u001b[0m\u001b[0m\n\u001b[1;32m    352\u001b[0m         \u001b[0;32mif\u001b[0m \u001b[0mwait\u001b[0m\u001b[0;34m:\u001b[0m\u001b[0;34m\u001b[0m\u001b[0m\n\u001b[0;32m--> 353\u001b[0;31m             \u001b[0mself\u001b[0m\u001b[0;34m.\u001b[0m\u001b[0mwait\u001b[0m\u001b[0;34m(\u001b[0m\u001b[0;34m)\u001b[0m\u001b[0;34m\u001b[0m\u001b[0m\n\u001b[0m\u001b[1;32m    354\u001b[0m         \u001b[0;32mwith\u001b[0m \u001b[0mself\u001b[0m\u001b[0;34m.\u001b[0m\u001b[0m_dictLock\u001b[0m\u001b[0;34m:\u001b[0m\u001b[0;34m\u001b[0m\u001b[0m\n\u001b[1;32m    355\u001b[0m             \u001b[0;32mif\u001b[0m \u001b[0;34m\"CartesianInfo\"\u001b[0m \u001b[0;32min\u001b[0m \u001b[0mself\u001b[0m\u001b[0;34m.\u001b[0m\u001b[0m_dict\u001b[0m\u001b[0;34m:\u001b[0m\u001b[0;34m\u001b[0m\u001b[0m\n",
      "\u001b[0;32m/home/terry/anaconda3/envs/ros_control/lib/python2.7/site-packages/urx/ursecmon.pyc\u001b[0m in \u001b[0;36mwait\u001b[0;34m(self, timeout)\u001b[0m\n\u001b[1;32m    345\u001b[0m         \u001b[0mtstamp\u001b[0m \u001b[0;34m=\u001b[0m \u001b[0mself\u001b[0m\u001b[0;34m.\u001b[0m\u001b[0mlastpacket_timestamp\u001b[0m\u001b[0;34m\u001b[0m\u001b[0m\n\u001b[1;32m    346\u001b[0m         \u001b[0;32mwith\u001b[0m \u001b[0mself\u001b[0m\u001b[0;34m.\u001b[0m\u001b[0m_dataEvent\u001b[0m\u001b[0;34m:\u001b[0m\u001b[0;34m\u001b[0m\u001b[0m\n\u001b[0;32m--> 347\u001b[0;31m             \u001b[0mself\u001b[0m\u001b[0;34m.\u001b[0m\u001b[0m_dataEvent\u001b[0m\u001b[0;34m.\u001b[0m\u001b[0mwait\u001b[0m\u001b[0;34m(\u001b[0m\u001b[0mtimeout\u001b[0m\u001b[0;34m)\u001b[0m\u001b[0;34m\u001b[0m\u001b[0m\n\u001b[0m\u001b[1;32m    348\u001b[0m             \u001b[0;32mif\u001b[0m \u001b[0mtstamp\u001b[0m \u001b[0;34m==\u001b[0m \u001b[0mself\u001b[0m\u001b[0;34m.\u001b[0m\u001b[0mlastpacket_timestamp\u001b[0m\u001b[0;34m:\u001b[0m\u001b[0;34m\u001b[0m\u001b[0m\n\u001b[1;32m    349\u001b[0m                 \u001b[0;32mraise\u001b[0m \u001b[0mTimeoutException\u001b[0m\u001b[0;34m(\u001b[0m\u001b[0;34m\"Did not receive a valid data packet from robot in {}\"\u001b[0m\u001b[0;34m.\u001b[0m\u001b[0mformat\u001b[0m\u001b[0;34m(\u001b[0m\u001b[0mtimeout\u001b[0m\u001b[0;34m)\u001b[0m\u001b[0;34m)\u001b[0m\u001b[0;34m\u001b[0m\u001b[0m\n",
      "\u001b[0;32m/home/terry/anaconda3/envs/ros_control/lib/python2.7/threading.pyc\u001b[0m in \u001b[0;36mwait\u001b[0;34m(self, timeout)\u001b[0m\n\u001b[1;32m    357\u001b[0m                         \u001b[0;32mbreak\u001b[0m\u001b[0;34m\u001b[0m\u001b[0m\n\u001b[1;32m    358\u001b[0m                     \u001b[0mdelay\u001b[0m \u001b[0;34m=\u001b[0m \u001b[0mmin\u001b[0m\u001b[0;34m(\u001b[0m\u001b[0mdelay\u001b[0m \u001b[0;34m*\u001b[0m \u001b[0;36m2\u001b[0m\u001b[0;34m,\u001b[0m \u001b[0mremaining\u001b[0m\u001b[0;34m,\u001b[0m \u001b[0;36m.05\u001b[0m\u001b[0;34m)\u001b[0m\u001b[0;34m\u001b[0m\u001b[0m\n\u001b[0;32m--> 359\u001b[0;31m                     \u001b[0m_sleep\u001b[0m\u001b[0;34m(\u001b[0m\u001b[0mdelay\u001b[0m\u001b[0;34m)\u001b[0m\u001b[0;34m\u001b[0m\u001b[0m\n\u001b[0m\u001b[1;32m    360\u001b[0m                 \u001b[0;32mif\u001b[0m \u001b[0;32mnot\u001b[0m \u001b[0mgotit\u001b[0m\u001b[0;34m:\u001b[0m\u001b[0;34m\u001b[0m\u001b[0m\n\u001b[1;32m    361\u001b[0m                     \u001b[0;32mif\u001b[0m \u001b[0m__debug__\u001b[0m\u001b[0;34m:\u001b[0m\u001b[0;34m\u001b[0m\u001b[0m\n",
      "\u001b[0;31mKeyboardInterrupt\u001b[0m: "
     ]
    }
   ],
   "source": [
    "#bag_number = 0\n",
    "for i in range(30):\n",
    "    #print i0\n",
    "    skim_grasping()\n",
    "#    bag_number = bag_number + 1"
   ]
  },
  {
   "cell_type": "code",
   "execution_count": null,
   "metadata": {},
   "outputs": [],
   "source": [
    "signal.setitimer(signal.ITIMER_REAL, 0.001)\n",
    "ser.write('1000')\n",
    "signal.setitimer(signal.ITIMER_REAL, 0)\n",
    "time.sleep(1)\n"
   ]
  },
  {
   "cell_type": "code",
   "execution_count": 20,
   "metadata": {},
   "outputs": [],
   "source": [
    "Robotiq.goto(robotiq_client, pos=40*0.14/48.0+1.12/48.0, speed=0.1, force=10, block=True)"
   ]
  },
  {
   "cell_type": "code",
   "execution_count": null,
   "metadata": {},
   "outputs": [],
   "source": [
    "softtip()"
   ]
  },
  {
   "cell_type": "code",
   "execution_count": 154,
   "metadata": {},
   "outputs": [],
   "source": [
    "go_to_safe_place()"
   ]
  },
  {
   "cell_type": "code",
   "execution_count": null,
   "metadata": {},
   "outputs": [],
   "source": []
  },
  {
   "cell_type": "code",
   "execution_count": null,
   "metadata": {},
   "outputs": [],
   "source": [
    "rob.set_tcp((-0.021, 0, 0.330, 0, 0, 0))  \n",
    "rob.movel_tool((0,0,0,0,20*pi/180,0), acc=0.3, vel=0.1, wait=True)    \n",
    "rospy.sleep(0.5)\n",
    "rob.movel_tool((0,0,0,0,-20*pi/180,0), acc=0.3, vel=0.1, wait=True)    "
   ]
  },
  {
   "cell_type": "code",
   "execution_count": null,
   "metadata": {},
   "outputs": [],
   "source": [
    "rob.translate_tool((0, 0, 0.02), acc=0.01, vel=0.05, wait=False)"
   ]
  },
  {
   "cell_type": "code",
   "execution_count": 33,
   "metadata": {},
   "outputs": [],
   "source": [
    "from geometry_msgs.msg import WrenchStamped\n",
    "from std_msgs.msg import UInt16\n",
    "import time\n",
    "Hong_joint0 = radians(98.77)\n",
    "Hong_joint1 = radians(-92.59)\n",
    "Hong_joint2 = radians(-101.78)\n",
    "Hong_joint3 = radians(-75.63)\n",
    "Hong_joint4 = radians(89.10)\n",
    "Hong_joint5 = radians(-171.05)\n",
    "rob.movej((Hong_joint0,Hong_joint1, Hong_joint2, Hong_joint3, Hong_joint4, Hong_joint5), 0.5,0.8)\n",
    "Robotiq.goto(robotiq_client, pos=13.2*0.14/48.0+1.12/48.0, speed=0.1, force=10, block=True)\n",
    "signal.setitimer(signal.ITIMER_REAL, 0.001)\n",
    "ser.write('1100')\n",
    "signal.setitimer(signal.ITIMER_REAL, 0)\n",
    "time.sleep(1)\n",
    "rob.set_tcp((-0.021, 0, 0.330, 0, 0, 0))  \n",
    "rospy.sleep(0.5)\n",
    "rob.movel_tool((0,0,0,0,45*pi/180,0), acc=0.5, vel=0.8, wait=True) \n",
    "\n",
    "rob.translate((-0.11,0,0), acc=0.5, vel=0.8, wait=True) \n",
    "rob.translate((0,0,-0.13), acc=0.5, vel=0.8, wait=True) \n",
    "\n",
    "rob.translate((0, 0, -0.02), acc=0.01, vel=0.05, wait=False)\n",
    "wrench = rospy.wait_for_message('/robotiq_ft_wrench', WrenchStamped, timeout = None)\n",
    "ini_wrench = wrench.wrench.torque.y\n",
    "time0 = time.time()\n",
    "num_large_force = 0\n",
    "time.sleep(0.2)\n",
    "while True:\n",
    "        # Record torque and save to ros bag\n",
    "        #bag.write('torque_y', wrench)\n",
    "        \n",
    "    if num_large_force == 3:\n",
    "        rob.stopl()\n",
    "        break\n",
    "    wrench = rospy.wait_for_message('/robotiq_ft_wrench', WrenchStamped, timeout = None)\n",
    "    if wrench.wrench.torque.y>ini_wrench+0.04:   \n",
    "        num_large_force += 1\n",
    "    if time.time()-time0>2.8:  \n",
    "        break\n",
    "time.sleep(0.5)\n",
    "rob.translate((-0.054,0,0,0,0,0), acc=0.01, vel=0.05, wait=True) \n",
    "rob.set_tcp((0, 0, 0, 0, 0, 0))  \n",
    "rospy.sleep(0.5)\n"
   ]
  },
  {
   "cell_type": "code",
   "execution_count": 23,
   "metadata": {},
   "outputs": [],
   "source": [
    "\n"
   ]
  },
  {
   "cell_type": "code",
   "execution_count": null,
   "metadata": {},
   "outputs": [],
   "source": []
  }
 ],
 "metadata": {
  "celltoolbar": "Slideshow",
  "kernelspec": {
   "display_name": "Python 2",
   "language": "python",
   "name": "python2"
  },
  "language_info": {
   "codemirror_mode": {
    "name": "ipython",
    "version": 2
   },
   "file_extension": ".py",
   "mimetype": "text/x-python",
   "name": "python",
   "nbconvert_exporter": "python",
   "pygments_lexer": "ipython2",
   "version": "2.7.18"
  }
 },
 "nbformat": 4,
 "nbformat_minor": 2
}
