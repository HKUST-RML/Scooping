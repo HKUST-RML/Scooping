{
 "cells": [
  {
   "cell_type": "code",
   "execution_count": 1,
   "metadata": {
    "scrolled": true
   },
   "outputs": [],
   "source": [
    "#!/usr/bin/env python\n",
    "import os\n",
    "import sys\n",
    "import rospy\n",
    "import copy\n",
    "import tf\n",
    "import cv2\n",
    "from cv_bridge import CvBridge, CvBridgeError\n",
    "import numpy as np\n",
    "import std_msgs.msg\n",
    "from std_msgs.msg import UInt16, String\n",
    "import geometry_msgs.msg\n",
    "from math import *\n",
    "from numpy.linalg import inv\n",
    "import scipy.io\n",
    "from mat4py import loadmat\n",
    "import actionlib\n",
    "from robotiq_2f_gripper_msgs.msg import CommandRobotiqGripperFeedback, CommandRobotiqGripperResult, CommandRobotiqGripperAction, CommandRobotiqGripperGoal\n",
    "from robotiq_2f_gripper_control.robotiq_2f_gripper_driver import Robotiq2FingerGripperDriver as Robotiq\n",
    "from scoop.msg import stone_pose_hori_learning_used\n",
    "from scoop.msg import stone_pose_ver_learning_used\n",
    "from sensor_msgs.msg import Image, CameraInfo\n",
    "import message_filters\n",
    "from visualization_msgs.msg import Marker\n",
    "from visualization_msgs.msg import MarkerArray\n",
    "from geometry_msgs.msg import Point\n",
    "import random\n",
    "import urx\n",
    "import math3d as m3d\n",
    "import logging\n",
    "import matplotlib.pyplot as plt\n",
    "rospy.init_node('scoop', anonymous=True) #initialize the node\n",
    "\n"
   ]
  },
  {
   "cell_type": "code",
   "execution_count": 2,
   "metadata": {},
   "outputs": [
    {
     "name": "stderr",
     "output_type": "stream",
     "text": [
      "[WARN] [1610965417.580309]: Client test: Starting sending goals\n"
     ]
    }
   ],
   "source": [
    "rospy.logwarn(\"Client test: Starting sending goals\")\n",
    "rob = urx.Robot(\"192.168.1.102\")\n",
    "logging.basicConfig(level=logging.WARN)\n",
    "rob.set_tcp((0, 0, 0, 0, 0, 0))"
   ]
  },
  {
   "cell_type": "code",
   "execution_count": 3,
   "metadata": {},
   "outputs": [
    {
     "data": {
      "text/plain": [
       "True"
      ]
     },
     "execution_count": 3,
     "metadata": {},
     "output_type": "execute_result"
    }
   ],
   "source": [
    "action_name = rospy.get_param('~action_name', 'command_robotiq_action')\n",
    "robotiq_client = actionlib.SimpleActionClient(action_name, CommandRobotiqGripperAction)\n",
    "robotiq_client.wait_for_server()"
   ]
  },
  {
   "cell_type": "code",
   "execution_count": 4,
   "metadata": {},
   "outputs": [],
   "source": [
    "import serial\n",
    "import signal\n",
    "import time\n",
    "\n",
    "serialPort = \"/dev/Arduino\"\n",
    "baudRate = 57600\n",
    "ser = serial.Serial(serialPort, baudRate, timeout=0.5)\n",
    "def myHandler(signum, frame):\n",
    "    pass\n",
    "def softtip():\n",
    "    signal.signal(signal.SIGALRM, myHandler)\n",
    "    signal.setitimer(signal.ITIMER_REAL, 0.01)\n",
    "    ser.write('2000')\n",
    "    signal.setitimer(signal.ITIMER_REAL, 0)\n",
    "    time.sleep(1.5)\n",
    "    signal.setitimer(signal.ITIMER_REAL, 0.01)\n",
    "    ser.write('2090')\n",
    "    signal.setitimer(signal.ITIMER_REAL, 0)\n",
    "    time.sleep(0.1)\n",
    "\n",
    "    \n",
    "def hardtip():\n",
    "    signal.signal(signal.SIGALRM, myHandler)\n",
    "    signal.setitimer(signal.ITIMER_REAL, 0.01)\n",
    "    ser.write('2180')\n",
    "    signal.setitimer(signal.ITIMER_REAL, 0)\n",
    "    time.sleep(1.5)\n",
    "    signal.setitimer(signal.ITIMER_REAL, 0.01)\n",
    "    ser.write('2090')\n",
    "    signal.setitimer(signal.ITIMER_REAL, 0)\n",
    "    time.sleep(0.1)"
   ]
  },
  {
   "cell_type": "code",
   "execution_count": 5,
   "metadata": {},
   "outputs": [],
   "source": [
    "def go_to_home():\n",
    "    \n",
    "    Hong_joint0 = radians(101.23)\n",
    "    Hong_joint1 = radians(-83.77)\n",
    "    Hong_joint2 = radians(-130.28)\n",
    "    Hong_joint3 = radians(-55.97)\n",
    "    Hong_joint4 = radians(89.33)\n",
    "    Hong_joint5 = radians(-78.73)\n",
    "    \n",
    "    rob.movej((Hong_joint0,Hong_joint1, Hong_joint2, Hong_joint3, Hong_joint4, Hong_joint5), 0.6, 1.5)\n",
    "    \n",
    "def go_to_safe_place():\n",
    "    \n",
    "    Hong_joint0 = radians(101.70)\n",
    "    Hong_joint1 = radians(-75.56)\n",
    "    Hong_joint2 = radians(-116.96)\n",
    "    Hong_joint3 = radians(-77.49)\n",
    "    Hong_joint4 = radians(89.42)\n",
    "    Hong_joint5 = radians(-78.13)\n",
    "    \n",
    "    rob.movej((Hong_joint0,Hong_joint1, Hong_joint2, Hong_joint3, Hong_joint4, Hong_joint5), 0.6, 1.5)\n",
    "    \n",
    "def go_to_end_place():\n",
    "    \n",
    "    Hong_joint0 = radians(106.13)\n",
    "    Hong_joint1 = radians(-60.48)\n",
    "    Hong_joint2 = radians(-130.69)\n",
    "    Hong_joint3 = radians(-78.86)\n",
    "    Hong_joint4 = radians(89.68)\n",
    "    Hong_joint5 = radians(-73.78)\n",
    "    \n",
    "    rob.movej((Hong_joint0,Hong_joint1, Hong_joint2, Hong_joint3, Hong_joint4, Hong_joint5), 0.6, 1.5)"
   ]
  },
  {
   "cell_type": "code",
   "execution_count": 6,
   "metadata": {},
   "outputs": [],
   "source": [
    "def stone_position_in_the_world(pose_x, pose_y, pose_z):\n",
    "    if pose_z==0.0:\n",
    "        return [None, None, None]\n",
    "    rob.set_tcp((0, 0.0, 0, 0, 0, 0))    \n",
    "    camPstone = np.array([pose_x, pose_y, pose_z, 1])\n",
    "    eeTcam = m3d.Transform()\n",
    "    eeTcam.pos = (0.076173+0.05, -0.0934057-0.03, 0.0074811)\n",
    "    eeTcam_e = tf.transformations.euler_from_quaternion([-0.0143125,0.69183,-0.0012,0.722039], axes='sxyz')\n",
    "    eeTcam.orient.rotate_xb(eeTcam_e[0])\n",
    "    eeTcam.orient.rotate_yb(eeTcam_e[1])\n",
    "    eeTcam.orient.rotate_zb(eeTcam_e[2])\n",
    "    tcpTee = np.array([[0,-1,0,0], [0,0,-1,0], [1,0,0,0], [0,0,0,1]])\n",
    "    eeTstone = np.matmul(eeTcam.get_matrix(), camPstone)\n",
    "    tcpTstone = np.matmul(tcpTee, np.transpose(eeTstone))\n",
    "    worldTstone = np.matmul(rob.get_pose().get_matrix(), tcpTstone)\n",
    "    worldTstone = worldTstone.squeeze().tolist()[0][0:-1]\n",
    "    return [worldTstone[0]+0.01953-0.0032, worldTstone[1]+0.02148-0.0035+0.006, worldTstone[2]]"
   ]
  },
  {
   "cell_type": "code",
   "execution_count": 7,
   "metadata": {},
   "outputs": [
    {
     "data": {
      "text/plain": [
       "<rospy.topics.Subscriber at 0x7f283934fc10>"
      ]
     },
     "execution_count": 7,
     "metadata": {},
     "output_type": "execute_result"
    }
   ],
   "source": [
    "import json\n",
    "def hori_stone_pose_callback(msg):\n",
    "    global hori_pose_Go_stone_set, hori_Go_stone_number, yaw_pitch_normal_set, hori_box_set, hori_json_error\n",
    "    hori_Go_stone_number = int(msg.hori_Go_stone_number)\n",
    "    if hori_Go_stone_number == 0:\n",
    "        hori_pose_Go_stone_set = []\n",
    "        Go_stone_dir_sorted = []\n",
    "        yaw_pitch_normal_set = []\n",
    "        hori_box_set = []\n",
    "    else:\n",
    "        #try:\n",
    "        if True:\n",
    "            pose_x = msg.x\n",
    "            pose_y = msg.y\n",
    "            pose_z = msg.z\n",
    "            yaw = msg.yaw\n",
    "            pitch = msg.pitch\n",
    "            normal = msg.normal\n",
    "            hori_pose_Go_stone_set.append(stone_position_in_the_world(pose_x, pose_y, pose_z))\n",
    "            yaw_pitch_normal_set.append([yaw,pitch,normal])\n",
    "            box = json.loads(msg.box)\n",
    "            box = [stone_position_in_the_world(box[i][0], box[i][1], pose_z)[0:2] for i in range(len(box))]\n",
    "            hori_box_set.append(box)\n",
    "        #except:\n",
    "            #hori_json_error = True\n",
    "hori_pose_topic = '/hori_stone_pose' #\"/usb_cam/image_raw\"\n",
    "rospy.Subscriber(hori_pose_topic, stone_pose_hori_learning_used, hori_stone_pose_callback)"
   ]
  },
  {
   "cell_type": "code",
   "execution_count": 8,
   "metadata": {},
   "outputs": [
    {
     "data": {
      "text/plain": [
       "<rospy.topics.Subscriber at 0x7f2838310b10>"
      ]
     },
     "execution_count": 8,
     "metadata": {},
     "output_type": "execute_result"
    }
   ],
   "source": [
    "import json\n",
    "def ver_stone_pose_callback(msg):\n",
    "    global ver_pose_Go_stone_set, ver_Go_stone_number, ver_gripper_direction_set, ver_gripper_aperture_set, ver_json_error\n",
    "    ver_Go_stone_number = int(msg.ver_Go_stone_number)\n",
    "    if ver_Go_stone_number == 0:\n",
    "        ver_pose_Go_stone_set = []\n",
    "        ver_gripper_direction_set = []\n",
    "        ver_gripper_aperture_set = []\n",
    "    else:\n",
    "        try:\n",
    "            pose_x = msg.x\n",
    "            pose_y = msg.y\n",
    "            pose_z = msg.z \n",
    "            box = json.loads(msg.box)\n",
    "            ver_pose_Go_stone_set.append(stone_position_in_the_world(pose_x, pose_y, pose_z))\n",
    "            box = [stone_position_in_the_world(box[i][0], box[i][1], pose_z)[0:2] for i in range(len(box))]\n",
    "            #print box\n",
    "            length1 = np.sqrt((box[0][0]-box[1][0])**2+(box[0][1]-box[1][1])**2)\n",
    "            length2 = np.sqrt((box[2][0]-box[1][0])**2+(box[2][1]-box[1][1])**2)\n",
    "            if length1 > length2:\n",
    "                try:\n",
    "                    if abs(atan((box[0][0]-box[1][0])/(box[0][1]-box[1][1]))+pi/2)<abs(atan((box[0][0]-box[1][0])/(box[0][1]-box[1][1]))-pi/2):\n",
    "                        temp_angle=atan((box[0][0]-box[1][0])/(box[0][1]-box[1][1]))+pi/2\n",
    "                    else:\n",
    "                        temp_angle=atan((box[0][0]-box[1][0])/(box[0][1]-box[1][1]))-pi/2\n",
    "                    ver_gripper_direction_set.append(temp_angle)\n",
    "                except:\n",
    "                    ver_gripper_direction_set.append(0)\n",
    "                gripper_aperture_set.append(length2+0.006)\n",
    "            else:\n",
    "                try:\n",
    "                    if abs(atan((box[2][0]-box[1][0])/(box[2][1]-box[1][1]))+pi/2)<abs(atan((box[2][0]-box[1][0])/(box[2][1]-box[1][1]))-pi/2):\n",
    "                        temp_angle=atan((box[2][0]-box[1][0])/(box[2][1]-box[1][1]))+pi/2\n",
    "                    else:\n",
    "                        temp_angle=atan((box[2][0]-box[1][0])/(box[2][1]-box[1][1]))-pi/2\n",
    "                    ver_gripper_direction_set.append(temp_angle)\n",
    "                except:\n",
    "                    ver_gripper_direction_set.append(0)\n",
    "                ver_gripper_aperture_set.append(length1+0.006)       \n",
    "        except:\n",
    "            ver_json_error = True\n",
    "ver_pose_topic = '/ver_stone_pose' #\"/usb_cam/image_raw\"\n",
    "rospy.Subscriber(ver_pose_topic, stone_pose_ver_learning_used, ver_stone_pose_callback)"
   ]
  },
  {
   "cell_type": "code",
   "execution_count": 9,
   "metadata": {},
   "outputs": [],
   "source": [
    "is_send_stone_img = 0\n",
    "stone_img_count = 0\n",
    "bridge = CvBridge()\n",
    "\n",
    "def image_callback(color, a_depth):\n",
    "    global is_send_stone_img, stone_img_count, cv2_img, cv2_depth_img\n",
    "    if is_send_stone_img == 1:\n",
    "        print \"dsag\"\n",
    "        img_count_pub = rospy.Publisher('/stone_img_index', String, queue_size=1)\n",
    "        rospy.sleep(0.5)\n",
    "        cv2_img = bridge.imgmsg_to_cv2(color, \"bgr8\")\n",
    "        cv2.imwrite('/home/terry/Mask_RCNN/samples/domino/JPEGImages/'+str(stone_img_count)+'.jpeg', cv2_img)\n",
    "        cv2_depth_img = bridge.imgmsg_to_cv2(a_depth, desired_encoding=\"passthrough\")\n",
    "        depth_array = np.array(cv2_depth_img, dtype=np.float32)\n",
    "        cv2.imwrite('/home/terry/Mask_RCNN/samples/domino/depth/'+str(stone_img_count)+'.jpeg', cv2_depth_img)\n",
    "        np.save('/home/terry/Mask_RCNN/samples/domino/depth/'+str(stone_img_count)+'.npy', depth_array)\n",
    "        img_count_pub.publish(str(stone_img_count))\n",
    "        print str(stone_img_count)\n",
    "        stone_img_count = stone_img_count + 1\n",
    "        is_send_stone_img = 0"
   ]
  },
  {
   "cell_type": "code",
   "execution_count": 10,
   "metadata": {},
   "outputs": [
    {
     "data": {
      "text/plain": [
       "0"
      ]
     },
     "execution_count": 10,
     "metadata": {},
     "output_type": "execute_result"
    }
   ],
   "source": [
    "image_color_sub = message_filters.Subscriber('/camera/color/image_raw', Image)\n",
    "image_aligned_depth_sub = message_filters.Subscriber('/camera/aligned_depth_to_color/image_raw', Image)\n",
    "ts = message_filters.TimeSynchronizer([image_color_sub, image_aligned_depth_sub], 10)\n",
    "ts.registerCallback(image_callback)"
   ]
  },
  {
   "cell_type": "code",
   "execution_count": 11,
   "metadata": {},
   "outputs": [],
   "source": [
    "def poke_grasp_execute(Go_index):\n",
    "    print 'Go_index', Go_index\n",
    "    global hori_pose_Go_stone_set, yaw_pitch_normal_set, switching_stone_coordinate_set, hori_box_set\n",
    "    pose_x = hori_pose_Go_stone_set[Go_index][0]\n",
    "    pose_y = hori_pose_Go_stone_set[Go_index][1]\n",
    "    pose_z = hori_pose_Go_stone_set[Go_index][2]\n",
    "    normal=yaw_pitch_normal_set[Go_index][2]\n",
    "    go_to_safe_place()\n",
    "    Robotiq.goto(robotiq_client, pos=0.033, speed=0.5, force=10, block=True)\n",
    "    ####################### change tcp pose ############################\n",
    "    rob.set_tcp((0.006, 0, 0.3734, 0, 0, 0))\n",
    "    rospy.sleep(0.5)\n",
    "    ####################################################################\n",
    "    worldPstone = np.array([pose_x, pose_y, pose_z, 1])\n",
    "    print 'worldPstone', worldPstone\n",
    "    tcpTstone = np.transpose(np.matmul(np.linalg.inv(rob.get_pose().get_matrix()), worldPstone))\n",
    "    print \"tcpTstone\", tcpTstone\n",
    "    eeTcam = m3d.Transform()\n",
    "    eeTcam.pos = (0.076173+0.05, -0.0934057-0.03, 0.0074811)\n",
    "    eeTcam_e = tf.transformations.euler_from_quaternion([-0.0143125,0.69183,-0.0012,0.722039], axes='sxyz')\n",
    "    eeTcam.orient.rotate_xb(eeTcam_e[0])\n",
    "    eeTcam.orient.rotate_yb(eeTcam_e[1])\n",
    "    eeTcam.orient.rotate_zb(eeTcam_e[2])\n",
    "    print eeTcam\n",
    "    \n",
    "    yaxis = (0, 1, 0)\n",
    "    zaxis = (0, 0, 1)\n",
    "    Ry = tf.transformations.rotation_matrix(pi/2, yaxis)\n",
    "    Rz = tf.transformations.rotation_matrix(-pi/2, zaxis)\n",
    "    eeTtcp = np.matmul(Ry, Rz)\n",
    "    ####################### change tcp pose ############################\n",
    "    eeTtcp[:3,3] = np.array([0.3734,-0.006,0])\n",
    "    ####################################################################\n",
    "    tcpTee = inv(eeTtcp)\n",
    "    print tcpTee\n",
    "\n",
    "    n_normalize = normal / np.linalg.norm(normal)\n",
    "    print \"n_normalize\", n_normalize\n",
    "    n_normalize = np.array([n_normalize[0], n_normalize[1], n_normalize[2], 1])\n",
    "    eeTnormal = np.matmul(eeTcam.get_matrix(), n_normalize)\n",
    "    tcpTnormal = np.matmul(tcpTee, np.transpose(eeTnormal))\n",
    "    print \"tcpTnormal\", tcpTnormal\n",
    "    worldTnormal = [tcpTnormal[1][0,0], tcpTnormal[0][0,0], tcpTnormal[-2][0,0]]\n",
    "\n",
    "    box = hori_box_set[Go_index]\n",
    "    length1 = np.sqrt((box[0][0]-box[1][0])**2+(box[0][1]-box[1][1])**2)\n",
    "    length2 = np.sqrt((box[2][0]-box[1][0])**2+(box[2][1]-box[1][1])**2)\n",
    "    if length1 > length2:\n",
    "        midpoint0 = [(box[1][0]+box[2][0])/2, (box[1][1]+box[2][1])/2]\n",
    "        midpoint1 = [(box[0][0]+box[3][0])/2, (box[0][1]+box[3][1])/2]\n",
    "    else:\n",
    "        midpoint0 = [(box[0][0]+box[1][0])/2, (box[0][1]+box[1][1])/2]\n",
    "        midpoint1 = [(box[2][0]+box[3][0])/2, (box[2][1]+box[3][1])/2]\n",
    "    center = [(midpoint0[0]+midpoint1[0])/2, (midpoint0[1]+midpoint1[1])/2]\n",
    "    dir0 = [midpoint0[0]-center[0], midpoint0[1]-center[1], 0]\n",
    "    dir1 = [midpoint1[0]-center[0], midpoint1[1]-center[1], 0] \n",
    "    if np.dot(dir0, worldTnormal)>0:\n",
    "        high_to_low_dir = dir0\n",
    "    else:\n",
    "        high_to_low_dir = dir1\n",
    "    rotate_angle = atan2(high_to_low_dir[1], high_to_low_dir[0])-atan2(1,0)\n",
    "    if rotate_angle > 0:\n",
    "        rotate_angle = rotate_angle % (2*pi)\n",
    "    else:\n",
    "        rotate_angle = rotate_angle % (-2*pi)\n",
    "    rotate_angle0 = -rotate_angle\n",
    "    rotate_angle0_matrix = np.array([[cos(rotate_angle0), -sin(rotate_angle0), 0], [sin(rotate_angle0), cos(rotate_angle0), 0], [0,0,1]])\n",
    "    tcp2normal_after_rotation0 = np.matmul(np.linalg.inv(rotate_angle0_matrix), tcpTnormal[0:3,:])\n",
    "    tcp2normal_after_rotation0 = [tcp2normal_after_rotation0[0][0,0], tcp2normal_after_rotation0[1][0,0], tcp2normal_after_rotation0[2][0,0]]\n",
    "    rotate_angle1 = atan(-tcp2normal_after_rotation0[1]/tcp2normal_after_rotation0[2])\n",
    "    rotate_angle2 = asin(-tcp2normal_after_rotation0[0])\n",
    "    \n",
    "    if str(rotate_angle0) == 'nan' or str(rotate_angle1) == 'nan' or str(rotate_angle2) == 'nan':\n",
    "        return False\n",
    "    hardtip()\n",
    "    signal.signal(signal.SIGALRM, myHandler)\n",
    "    signal.setitimer(signal.ITIMER_REAL, 0.005)\n",
    "    ser.write('1180')\n",
    "    signal.setitimer(signal.ITIMER_REAL, 0)\n",
    "    move = m3d.Transform((tcpTstone[0,0]+0.001, tcpTstone[1,0]-0.004, 0, 0, 0, 0))    \n",
    "    rob.add_pose_tool( move, acc=0.3, vel=1, wait=True, command=\"movel\", threshold=None)\n",
    "    rob.translate_tool((0, 0, tcpTstone[2,0]-0.015), acc=0.5, vel=0.8)\n",
    "    #k=l+m\n",
    "    rob.movel_tool((0,0,0,0,0,rotate_angle0), acc=0.5, vel=0.8, wait=True)\n",
    "    rob.movel_tool((0,0,0,rotate_angle1,0,0), acc=0.5, vel=0.8, wait=True)\n",
    "    rob.movel_tool((0,0,0,0,rotate_angle2,0), acc=0.5, vel=0.8, wait=True)\n",
    "    ###########################Choose d and psi######################################\n",
    "    rob.translate_tool((0.01, 0, 0), acc=0.06, vel=0.08)\n",
    "    psi = radians(20)\n",
    "    rob.movel_tool((0,0,0,0,psi,0), acc=0.3, vel=0.8, wait=True)\n",
    "    #################################################################################\n",
    "    rob.translate_tool((0, 0, 0.04), acc=0.01, vel=0.05, wait=False)\n",
    "    '''\n",
    "    wrench = rospy.wait_for_message('/robotiq_ft_wrench', WrenchStamped, timeout = None)\n",
    "    ini_wrench = wrench.wrench.force.z\n",
    "    time0 = time.time()\n",
    "    IsStack = False\n",
    "    num_large_force = 0\n",
    "    while True:\n",
    "        if num_large_force == 5:\n",
    "            IsStack = True\n",
    "            rob.stopl()\n",
    "            break\n",
    "        wrench = rospy.wait_for_message('/robotiq_ft_wrench', WrenchStamped, timeout = None)\n",
    "        if wrench.wrench.force.z<ini_wrench-5:   # need change\n",
    "            num_large_force += 1\n",
    "        if time.time()-time0>3.7:  #3.7\n",
    "            IsStack = False\n",
    "            break\n",
    "    print 'IsStack', IsStack\n",
    "    \n",
    "    if IsStack==False:\n",
    "        rob.translate_tool((0, 0, 0.005), acc=0.01, vel=0.05, wait=False)\n",
    "        for k0 in range(0, -31, -2):\n",
    "            signal.setitimer(signal.ITIMER_REAL, 0.001)\n",
    "            ser.write('1'+str(100+k0))\n",
    "            signal.setitimer(signal.ITIMER_REAL, 0)\n",
    "            time.sleep(0.1)\n",
    "        Robotiq.goto(robotiq_client, pos=0.006, speed=0.5, force=10, block=False)\n",
    "        rospy.sleep(.5)\n",
    "        rob.translate_tool((0, 0, -0.08), acc=0.3, vel=0.8)\n",
    "        rob.set_tcp((0, 0, 0, 0, 0, 0))\n",
    "        rospy.sleep(0.5)\n",
    "        go_to_end_place()\n",
    "        rob.translate((0,0,-0.07), acc=0.3, vel=0.8, wait=True)\n",
    "        Robotiq.goto(robotiq_client, pos=0.023, speed=0.5, force=10, block=True)\n",
    "        softtip()\n",
    "        rob.translate((0,0,0.07), acc=0.3, vel=0.8, wait=True)\n",
    "    else:\n",
    "        switching_stone_coordinate_set.append(hori_pose_Go_stone_set[Go_index])\n",
    "        rob.translate_tool((0, 0, -0.08), acc=0.3, vel=0.8)\n",
    "        rob.set_tcp((0, 0, 0, 0, 0, 0))\n",
    "        rospy.sleep(0.5)        \n",
    "        go_to_safe_place()\n",
    "    '''\n",
    "    return True"
   ]
  },
  {
   "cell_type": "code",
   "execution_count": 12,
   "metadata": {},
   "outputs": [
    {
     "data": {
      "text/plain": [
       "'\\ndef scoop1(Go_index):\\n    print \\'Go_index\\', Go_index\\n    global hori_pose_Go_stone_set, yaw_pitch_normal_set, switching_stone_coordinate_set, hori_box_set\\n    pose_x = hori_pose_Go_stone_set[Go_index][0]\\n    pose_y = hori_pose_Go_stone_set[Go_index][1]\\n    pose_z = hori_pose_Go_stone_set[Go_index][2]\\n    normal=yaw_pitch_normal_set[Go_index][2]\\n    go_to_safe_place()\\n    Robotiq.goto(robotiq_client, pos=9*0.14/48.0+1.12/48.0, speed=0.5, force=10, block=True)\\n    ####################### change tcp pose ############################\\n    rob.set_tcp((0.013, 0, 0.3534, 0, 0, 0))\\n    rospy.sleep(0.5)\\n    ####################################################################\\n    worldPstone = np.array([pose_x, pose_y, pose_z, 1])\\n    print \\'worldPstone\\', worldPstone\\n    tcpTstone = np.transpose(np.matmul(np.linalg.inv(rob.get_pose().get_matrix()), worldPstone))\\n    print \"tcpTstone\", tcpTstone\\n    eeTcam = m3d.Transform()\\n    eeTcam.pos = (0.076173+0.05, -0.0934057-0.03, 0.0074811)\\n    eeTcam_e = tf.transformations.euler_from_quaternion([-0.0143125,0.69183,-0.0012,0.722039], axes=\\'sxyz\\')\\n    eeTcam.orient.rotate_xb(eeTcam_e[0])\\n    eeTcam.orient.rotate_yb(eeTcam_e[1])\\n    eeTcam.orient.rotate_zb(eeTcam_e[2])\\n    print eeTcam\\n    \\n    yaxis = (0, 1, 0)\\n    zaxis = (0, 0, 1)\\n    Ry = tf.transformations.rotation_matrix(pi/2, yaxis)\\n    Rz = tf.transformations.rotation_matrix(-pi/2, zaxis)\\n    eeTtcp = np.matmul(Ry, Rz)\\n    ####################### change tcp pose ############################\\n    eeTtcp[:3,3] = np.array([0.3534,-0.013,0])\\n    ####################################################################\\n    tcpTee = inv(eeTtcp)\\n    print tcpTee\\n    n_normalize = normal / np.linalg.norm(normal)\\n    print \"n_normalize\", n_normalize\\n    n_normalize = np.array([n_normalize[0], n_normalize[1], n_normalize[2], 1])\\n    eeTnormal = np.matmul(eeTcam.get_matrix(), n_normalize)\\n    tcpTnormal = np.matmul(tcpTee, np.transpose(eeTnormal))\\n    print \"tcpTnormal\", tcpTnormal\\n    worldTnormal = [tcpTnormal[1][0,0], tcpTnormal[0][0,0], tcpTnormal[-2][0,0]]\\n\\n    box = hori_box_set[Go_index]\\n    length1 = np.sqrt((box[0][0]-box[1][0])**2+(box[0][1]-box[1][1])**2)\\n    length2 = np.sqrt((box[2][0]-box[1][0])**2+(box[2][1]-box[1][1])**2)\\n    if length1 > length2:\\n        midpoint0 = [(box[1][0]+box[2][0])/2, (box[1][1]+box[2][1])/2]\\n        midpoint1 = [(box[0][0]+box[3][0])/2, (box[0][1]+box[3][1])/2]\\n    else:\\n        midpoint0 = [(box[0][0]+box[1][0])/2, (box[0][1]+box[1][1])/2]\\n        midpoint1 = [(box[2][0]+box[3][0])/2, (box[2][1]+box[3][1])/2]\\n    center = [(midpoint0[0]+midpoint1[0])/2, (midpoint0[1]+midpoint1[1])/2]\\n    dir0 = [midpoint0[0]-center[0], midpoint0[1]-center[1], 0]\\n    dir1 = [midpoint1[0]-center[0], midpoint1[1]-center[1], 0] \\n    if np.dot(dir0, worldTnormal)>0:\\n        high_to_low_dir = dir0\\n    else:\\n        high_to_low_dir = dir1\\n    rotate_angle = atan2(high_to_low_dir[1], high_to_low_dir[0])-atan2(1,0)\\n    if rotate_angle > 0:\\n        rotate_angle = rotate_angle % (2*pi)\\n    else:\\n        rotate_angle = rotate_angle % (-2*pi)\\n    rotate_angle0 = -rotate_angle\\n    rotate_angle0_matrix = np.array([[cos(rotate_angle0), -sin(rotate_angle0), 0], [sin(rotate_angle0), cos(rotate_angle0), 0], [0,0,1]])\\n    tcp2normal_after_rotation0 = np.matmul(np.linalg.inv(rotate_angle0_matrix), tcpTnormal[0:3,:])\\n    tcp2normal_after_rotation0 = [tcp2normal_after_rotation0[0][0,0], tcp2normal_after_rotation0[1][0,0], tcp2normal_after_rotation0[2][0,0]]\\n    rotate_angle1 = atan(-tcp2normal_after_rotation0[1]/tcp2normal_after_rotation0[2])\\n    rotate_angle2 = asin(-tcp2normal_after_rotation0[0])\\n    \\n    if str(rotate_angle0) == \\'nan\\' or str(rotate_angle1) == \\'nan\\' or str(rotate_angle2) == \\'nan\\':\\n        return False\\n    softtip()\\n    signal.signal(signal.SIGALRM, myHandler)\\n    signal.setitimer(signal.ITIMER_REAL, 0.005)\\n    ser.write(\\'1075\\')\\n    signal.setitimer(signal.ITIMER_REAL, 0)\\n    move = m3d.Transform((tcpTstone[0,0]+0.001, tcpTstone[1,0]-0.004, 0, 0, 0, 0))    \\n    rob.add_pose_tool( move, acc=0.3, vel=1, wait=True, command=\"movel\", threshold=None)\\n    rob.translate_tool((0, 0, tcpTstone[2,0]-0.015), acc=0.5, vel=0.8)\\n    #k=l+m\\n    rob.movel_tool((0,0,0,0,0,rotate_angle0), acc=0.5, vel=0.8, wait=True)\\n    rob.movel_tool((0,0,0,rotate_angle1,0,0), acc=0.5, vel=0.8, wait=True)\\n    rob.movel_tool((0,0,0,0,rotate_angle2,0), acc=0.5, vel=0.8, wait=True)\\n    ###########################Choose d and psi######################################\\n    rob.translate_tool((0.0165, 0, 0), acc=0.06, vel=0.08)\\n    psi = radians(30)\\n    rob.movel_tool((0,0,0,0,psi,0), acc=0.3, vel=0.8, wait=True)\\n    #################################################################################\\n    rob.translate_tool((0, 0, 0.02), acc=0.01, vel=0.05, wait=False)\\n    wrench = rospy.wait_for_message(\\'/robotiq_ft_wrench\\', WrenchStamped, timeout = None)\\n    ini_wrench = wrench.wrench.force.z\\n    time0 = time.time()\\n    IsStack = False\\n    num_large_force = 0\\n    while True:\\n        if num_large_force == 3:\\n            IsStack = True\\n            rob.stopl()\\n            break\\n        wrench = rospy.wait_for_message(\\'/robotiq_ft_wrench\\', WrenchStamped, timeout = None)\\n        if wrench.wrench.force.z<ini_wrench-3:   # need change\\n            num_large_force += 1\\n        if time.time()-time0>3.7:  #3.7\\n            IsStack = False\\n            break\\n    print \\'IsStack\\', IsStack\\n    time.sleep(0.5)\\n    current_fingerlength_int=75   \\n    angle_step=0.2\\n    for angle in np.arange(9,-2,-angle_step):\\n        translate_dir_dis, shorten_distance = pos_flength_adjust_left_fixed(angle, angle-angle_step, 60, 0.0125, 0.1, 0.006, 0.019, 0.072)\\n        old_fingerlength_int=current_fingerlength_int\\n        current_fingerlength_int=round(max(current_fingerlength_int-shorten_distance*(180.0/0.03),0))\\n        signal.signal(signal.SIGALRM, myHandler)\\n        signal.setitimer(signal.ITIMER_REAL, 0.005)\\n        ser.write(\\'1\\'+str(current_fingerlength_int))\\n        signal.setitimer(signal.ITIMER_REAL, 0)   \\n        #if True:\\n        if abs(current_fingerlength_int-old_fingerlength_int)!=0:\\n            Robotiq.goto(robotiq_client, pos=(angle-1)*0.14/48.0+1.12/48.0, speed=0.2, force=10, block=False)\\n            rob.translate_tool((sin(60*pi/180)*translate_dir_dis[0]+cos(60*pi/180)*translate_dir_dis[1], 0, cos(60*pi/180)*translate_dir_dis[0]-sin(60*pi/180)*translate_dir_dis[1]), acc=0.1, vel=0.4, wait=True)\\n        else:\\n            time.sleep(0.01)\\n    Robotiq.goto(robotiq_client, pos=-2*0.14/48.0+1.12/48.0, speed=0.2, force=10, block=False)\\n    rospy.sleep(0.5)\\n    rob.translate_tool((0, 0, -0.12), acc=0.3, vel=0.8, wait=True)\\n    go_to_end_place()\\n    rob.translate((0,0,-0.07), acc=0.3, vel=0.8, wait=True)\\n    Robotiq.goto(robotiq_client, pos=0.023, speed=0.5, force=10, block=True)\\n    rospy.sleep(0.5)\\n    signal.signal(signal.SIGALRM, myHandler)\\n    signal.setitimer(signal.ITIMER_REAL, 0.005)\\n    ser.write(\\'1180\\')\\n    signal.setitimer(signal.ITIMER_REAL, 0)    \\n    Robotiq.goto(robotiq_client, pos=0.013, speed=0.5, force=10, block=True)\\n    rospy.sleep(1)\\n    ser.write(\\'1010\\')\\n    rospy.sleep(1)\\n    rob.translate((0,0,0.07), acc=0.3, vel=0.8, wait=True)     \\n\\n    return True\\n'"
      ]
     },
     "execution_count": 12,
     "metadata": {},
     "output_type": "execute_result"
    }
   ],
   "source": [
    "from geometry_msgs.msg import WrenchStamped\n",
    "from std_msgs.msg import UInt16\n",
    "import time\n",
    "\n",
    "def finger_tip_position_wrt_gripper_frame(alpha, l0, l1, l2l, l2r, flength_l, flength_r):\n",
    "    alpha=alpha*pi/180\n",
    "    left_fingertip_position=[-l0-l1*sin(alpha)+l2l, -l1*cos(alpha)-flength_l]\n",
    "    right_fingertip_position=[l0+l1*sin(alpha)-l2r, -l1*cos(alpha)-flength_r]\n",
    "    return left_fingertip_position, right_fingertip_position\n",
    "\n",
    "def pos_flength_adjust_left_fixed(current_alpha, next_alpha, theta, l0, l1, l2l, l2r, flength_l):\n",
    "    theta=theta*pi/180\n",
    "    current_flength_r = flength_l + (2*l0+2*l1*sin(current_alpha*pi/180)-l2l-l2r)/tan(theta)\n",
    "    current_left_fingertip_pos_g, current_right_fingertip_pos_g = finger_tip_position_wrt_gripper_frame(current_alpha, l0, l1, l2l, l2r, flength_l, current_flength_r)\n",
    "    transforming_matrix_w_g = np.array([[sin(theta), -cos(theta), -current_left_fingertip_pos_g[0]*sin(theta)+current_left_fingertip_pos_g[1]*cos(theta)], [cos(theta), sin(theta), -current_left_fingertip_pos_g[0]*cos(theta)-current_left_fingertip_pos_g[1]*sin(theta)], [0, 0, 1]])\n",
    "    current_right_fingertip_pos_w = (np.squeeze(np.dot(transforming_matrix_w_g, np.array([[current_right_fingertip_pos_g[0]], [current_right_fingertip_pos_g[1]], [1]])))[0:2]).tolist()\n",
    "    next_left_fingertip_pos_g, next_right_fingertip_pos_g = finger_tip_position_wrt_gripper_frame(next_alpha, l0, l1, l2l, l2r, flength_l, current_flength_r)\n",
    "    next_left_fingertip_pos_w = (np.squeeze(np.dot(transforming_matrix_w_g, np.array([[next_left_fingertip_pos_g[0]], [next_left_fingertip_pos_g[1]], [1]])))[0:2]).tolist()\n",
    "    next_right_fingertip_pos_w = (np.squeeze(np.dot(transforming_matrix_w_g, np.array([[next_right_fingertip_pos_g[0]], [next_right_fingertip_pos_g[1]], [1]])))[0:2]).tolist()\n",
    "    translation_dir_dis = [-next_left_fingertip_pos_w[0], -next_left_fingertip_pos_w[1]]\n",
    "    next_right_fingertip_pos_after_trans_w = [next_right_fingertip_pos_w[0]+translation_dir_dis[0], next_right_fingertip_pos_w[1]+translation_dir_dis[1]]\n",
    "    right_finger_shorten_distance=abs(next_right_fingertip_pos_after_trans_w[1])/sin(theta)\n",
    "    translation_dir_dis[0] = translation_dir_dis[0]+(2*l0+2*l1*sin(current_alpha*pi/180)-l2l-l2r)/sin(theta)-(next_right_fingertip_pos_after_trans_w[0]-right_finger_shorten_distance*cos(theta))\n",
    "    return translation_dir_dis, right_finger_shorten_distance\n",
    "\n",
    "'''\n",
    "def scoop1(Go_index):\n",
    "    print 'Go_index', Go_index\n",
    "    global hori_pose_Go_stone_set, yaw_pitch_normal_set, switching_stone_coordinate_set, hori_box_set\n",
    "    pose_x = hori_pose_Go_stone_set[Go_index][0]\n",
    "    pose_y = hori_pose_Go_stone_set[Go_index][1]\n",
    "    pose_z = hori_pose_Go_stone_set[Go_index][2]\n",
    "    normal=yaw_pitch_normal_set[Go_index][2]\n",
    "    go_to_safe_place()\n",
    "    Robotiq.goto(robotiq_client, pos=9*0.14/48.0+1.12/48.0, speed=0.5, force=10, block=True)\n",
    "    ####################### change tcp pose ############################\n",
    "    rob.set_tcp((0.013, 0, 0.3534, 0, 0, 0))\n",
    "    rospy.sleep(0.5)\n",
    "    ####################################################################\n",
    "    worldPstone = np.array([pose_x, pose_y, pose_z, 1])\n",
    "    print 'worldPstone', worldPstone\n",
    "    tcpTstone = np.transpose(np.matmul(np.linalg.inv(rob.get_pose().get_matrix()), worldPstone))\n",
    "    print \"tcpTstone\", tcpTstone\n",
    "    eeTcam = m3d.Transform()\n",
    "    eeTcam.pos = (0.076173+0.05, -0.0934057-0.03, 0.0074811)\n",
    "    eeTcam_e = tf.transformations.euler_from_quaternion([-0.0143125,0.69183,-0.0012,0.722039], axes='sxyz')\n",
    "    eeTcam.orient.rotate_xb(eeTcam_e[0])\n",
    "    eeTcam.orient.rotate_yb(eeTcam_e[1])\n",
    "    eeTcam.orient.rotate_zb(eeTcam_e[2])\n",
    "    print eeTcam\n",
    "    \n",
    "    yaxis = (0, 1, 0)\n",
    "    zaxis = (0, 0, 1)\n",
    "    Ry = tf.transformations.rotation_matrix(pi/2, yaxis)\n",
    "    Rz = tf.transformations.rotation_matrix(-pi/2, zaxis)\n",
    "    eeTtcp = np.matmul(Ry, Rz)\n",
    "    ####################### change tcp pose ############################\n",
    "    eeTtcp[:3,3] = np.array([0.3534,-0.013,0])\n",
    "    ####################################################################\n",
    "    tcpTee = inv(eeTtcp)\n",
    "    print tcpTee\n",
    "    n_normalize = normal / np.linalg.norm(normal)\n",
    "    print \"n_normalize\", n_normalize\n",
    "    n_normalize = np.array([n_normalize[0], n_normalize[1], n_normalize[2], 1])\n",
    "    eeTnormal = np.matmul(eeTcam.get_matrix(), n_normalize)\n",
    "    tcpTnormal = np.matmul(tcpTee, np.transpose(eeTnormal))\n",
    "    print \"tcpTnormal\", tcpTnormal\n",
    "    worldTnormal = [tcpTnormal[1][0,0], tcpTnormal[0][0,0], tcpTnormal[-2][0,0]]\n",
    "\n",
    "    box = hori_box_set[Go_index]\n",
    "    length1 = np.sqrt((box[0][0]-box[1][0])**2+(box[0][1]-box[1][1])**2)\n",
    "    length2 = np.sqrt((box[2][0]-box[1][0])**2+(box[2][1]-box[1][1])**2)\n",
    "    if length1 > length2:\n",
    "        midpoint0 = [(box[1][0]+box[2][0])/2, (box[1][1]+box[2][1])/2]\n",
    "        midpoint1 = [(box[0][0]+box[3][0])/2, (box[0][1]+box[3][1])/2]\n",
    "    else:\n",
    "        midpoint0 = [(box[0][0]+box[1][0])/2, (box[0][1]+box[1][1])/2]\n",
    "        midpoint1 = [(box[2][0]+box[3][0])/2, (box[2][1]+box[3][1])/2]\n",
    "    center = [(midpoint0[0]+midpoint1[0])/2, (midpoint0[1]+midpoint1[1])/2]\n",
    "    dir0 = [midpoint0[0]-center[0], midpoint0[1]-center[1], 0]\n",
    "    dir1 = [midpoint1[0]-center[0], midpoint1[1]-center[1], 0] \n",
    "    if np.dot(dir0, worldTnormal)>0:\n",
    "        high_to_low_dir = dir0\n",
    "    else:\n",
    "        high_to_low_dir = dir1\n",
    "    rotate_angle = atan2(high_to_low_dir[1], high_to_low_dir[0])-atan2(1,0)\n",
    "    if rotate_angle > 0:\n",
    "        rotate_angle = rotate_angle % (2*pi)\n",
    "    else:\n",
    "        rotate_angle = rotate_angle % (-2*pi)\n",
    "    rotate_angle0 = -rotate_angle\n",
    "    rotate_angle0_matrix = np.array([[cos(rotate_angle0), -sin(rotate_angle0), 0], [sin(rotate_angle0), cos(rotate_angle0), 0], [0,0,1]])\n",
    "    tcp2normal_after_rotation0 = np.matmul(np.linalg.inv(rotate_angle0_matrix), tcpTnormal[0:3,:])\n",
    "    tcp2normal_after_rotation0 = [tcp2normal_after_rotation0[0][0,0], tcp2normal_after_rotation0[1][0,0], tcp2normal_after_rotation0[2][0,0]]\n",
    "    rotate_angle1 = atan(-tcp2normal_after_rotation0[1]/tcp2normal_after_rotation0[2])\n",
    "    rotate_angle2 = asin(-tcp2normal_after_rotation0[0])\n",
    "    \n",
    "    if str(rotate_angle0) == 'nan' or str(rotate_angle1) == 'nan' or str(rotate_angle2) == 'nan':\n",
    "        return False\n",
    "    softtip()\n",
    "    signal.signal(signal.SIGALRM, myHandler)\n",
    "    signal.setitimer(signal.ITIMER_REAL, 0.005)\n",
    "    ser.write('1075')\n",
    "    signal.setitimer(signal.ITIMER_REAL, 0)\n",
    "    move = m3d.Transform((tcpTstone[0,0]+0.001, tcpTstone[1,0]-0.004, 0, 0, 0, 0))    \n",
    "    rob.add_pose_tool( move, acc=0.3, vel=1, wait=True, command=\"movel\", threshold=None)\n",
    "    rob.translate_tool((0, 0, tcpTstone[2,0]-0.015), acc=0.5, vel=0.8)\n",
    "    #k=l+m\n",
    "    rob.movel_tool((0,0,0,0,0,rotate_angle0), acc=0.5, vel=0.8, wait=True)\n",
    "    rob.movel_tool((0,0,0,rotate_angle1,0,0), acc=0.5, vel=0.8, wait=True)\n",
    "    rob.movel_tool((0,0,0,0,rotate_angle2,0), acc=0.5, vel=0.8, wait=True)\n",
    "    ###########################Choose d and psi######################################\n",
    "    rob.translate_tool((0.0165, 0, 0), acc=0.06, vel=0.08)\n",
    "    psi = radians(30)\n",
    "    rob.movel_tool((0,0,0,0,psi,0), acc=0.3, vel=0.8, wait=True)\n",
    "    #################################################################################\n",
    "    rob.translate_tool((0, 0, 0.02), acc=0.01, vel=0.05, wait=False)\n",
    "    wrench = rospy.wait_for_message('/robotiq_ft_wrench', WrenchStamped, timeout = None)\n",
    "    ini_wrench = wrench.wrench.force.z\n",
    "    time0 = time.time()\n",
    "    IsStack = False\n",
    "    num_large_force = 0\n",
    "    while True:\n",
    "        if num_large_force == 3:\n",
    "            IsStack = True\n",
    "            rob.stopl()\n",
    "            break\n",
    "        wrench = rospy.wait_for_message('/robotiq_ft_wrench', WrenchStamped, timeout = None)\n",
    "        if wrench.wrench.force.z<ini_wrench-3:   # need change\n",
    "            num_large_force += 1\n",
    "        if time.time()-time0>3.7:  #3.7\n",
    "            IsStack = False\n",
    "            break\n",
    "    print 'IsStack', IsStack\n",
    "    time.sleep(0.5)\n",
    "    current_fingerlength_int=75   \n",
    "    angle_step=0.2\n",
    "    for angle in np.arange(9,-2,-angle_step):\n",
    "        translate_dir_dis, shorten_distance = pos_flength_adjust_left_fixed(angle, angle-angle_step, 60, 0.0125, 0.1, 0.006, 0.019, 0.072)\n",
    "        old_fingerlength_int=current_fingerlength_int\n",
    "        current_fingerlength_int=round(max(current_fingerlength_int-shorten_distance*(180.0/0.03),0))\n",
    "        signal.signal(signal.SIGALRM, myHandler)\n",
    "        signal.setitimer(signal.ITIMER_REAL, 0.005)\n",
    "        ser.write('1'+str(current_fingerlength_int))\n",
    "        signal.setitimer(signal.ITIMER_REAL, 0)   \n",
    "        #if True:\n",
    "        if abs(current_fingerlength_int-old_fingerlength_int)!=0:\n",
    "            Robotiq.goto(robotiq_client, pos=(angle-1)*0.14/48.0+1.12/48.0, speed=0.2, force=10, block=False)\n",
    "            rob.translate_tool((sin(60*pi/180)*translate_dir_dis[0]+cos(60*pi/180)*translate_dir_dis[1], 0, cos(60*pi/180)*translate_dir_dis[0]-sin(60*pi/180)*translate_dir_dis[1]), acc=0.1, vel=0.4, wait=True)\n",
    "        else:\n",
    "            time.sleep(0.01)\n",
    "    Robotiq.goto(robotiq_client, pos=-2*0.14/48.0+1.12/48.0, speed=0.2, force=10, block=False)\n",
    "    rospy.sleep(0.5)\n",
    "    rob.translate_tool((0, 0, -0.12), acc=0.3, vel=0.8, wait=True)\n",
    "    go_to_end_place()\n",
    "    rob.translate((0,0,-0.07), acc=0.3, vel=0.8, wait=True)\n",
    "    Robotiq.goto(robotiq_client, pos=0.023, speed=0.5, force=10, block=True)\n",
    "    rospy.sleep(0.5)\n",
    "    signal.signal(signal.SIGALRM, myHandler)\n",
    "    signal.setitimer(signal.ITIMER_REAL, 0.005)\n",
    "    ser.write('1180')\n",
    "    signal.setitimer(signal.ITIMER_REAL, 0)    \n",
    "    Robotiq.goto(robotiq_client, pos=0.013, speed=0.5, force=10, block=True)\n",
    "    rospy.sleep(1)\n",
    "    ser.write('1010')\n",
    "    rospy.sleep(1)\n",
    "    rob.translate((0,0,0.07), acc=0.3, vel=0.8, wait=True)     \n",
    "\n",
    "    return True\n",
    "'''"
   ]
  },
  {
   "cell_type": "code",
   "execution_count": 13,
   "metadata": {},
   "outputs": [
    {
     "data": {
      "text/plain": [
       "'\\ndef scoop2(Go_index):\\n    print \\'Go_index\\', Go_index\\n    global hori_pose_Go_stone_set, yaw_pitch_normal_set, switching_stone_coordinate_set, hori_box_set\\n    pose_x = hori_pose_Go_stone_set[Go_index][0]\\n    pose_y = hori_pose_Go_stone_set[Go_index][1]\\n    pose_z = hori_pose_Go_stone_set[Go_index][2]\\n    normal=yaw_pitch_normal_set[Go_index][2]\\n    go_to_safe_place()\\n    Robotiq.goto(robotiq_client, pos=3*0.14/48.0+1.12/48.0, speed=0.5, force=10, block=True)\\n    ####################### change tcp pose ############################\\n    rob.set_tcp((0.002, 0, 0.3476, 0, 0, 0))\\n    rospy.sleep(0.5)\\n    ####################################################################\\n    worldPstone = np.array([pose_x, pose_y, pose_z, 1])\\n    print \\'worldPstone\\', worldPstone\\n    tcpTstone = np.transpose(np.matmul(np.linalg.inv(rob.get_pose().get_matrix()), worldPstone))\\n    print \"tcpTstone\", tcpTstone\\n    eeTcam = m3d.Transform()\\n    eeTcam.pos = (0.076173+0.05, -0.0934057-0.03, 0.0074811)\\n    eeTcam_e = tf.transformations.euler_from_quaternion([-0.0143125,0.69183,-0.0012,0.722039], axes=\\'sxyz\\')\\n    eeTcam.orient.rotate_xb(eeTcam_e[0])\\n    eeTcam.orient.rotate_yb(eeTcam_e[1])\\n    eeTcam.orient.rotate_zb(eeTcam_e[2])\\n    print eeTcam\\n    \\n    yaxis = (0, 1, 0)\\n    zaxis = (0, 0, 1)\\n    Ry = tf.transformations.rotation_matrix(pi/2, yaxis)\\n    Rz = tf.transformations.rotation_matrix(-pi/2, zaxis)\\n    eeTtcp = np.matmul(Ry, Rz)\\n    ####################### change tcp pose ############################\\n    eeTtcp[:3,3] = np.array([0.3476,-0.002,0])\\n    ####################################################################\\n    tcpTee = inv(eeTtcp)\\n    print tcpTee\\n    n_normalize = normal / np.linalg.norm(normal)\\n    print \"n_normalize\", n_normalize\\n    n_normalize = np.array([n_normalize[0], n_normalize[1], n_normalize[2], 1])\\n    eeTnormal = np.matmul(eeTcam.get_matrix(), n_normalize)\\n    tcpTnormal = np.matmul(tcpTee, np.transpose(eeTnormal))\\n    print \"tcpTnormal\", tcpTnormal\\n    worldTnormal = [tcpTnormal[1][0,0], tcpTnormal[0][0,0], tcpTnormal[-2][0,0]]\\n\\n    box = hori_box_set[Go_index]\\n    length1 = np.sqrt((box[0][0]-box[1][0])**2+(box[0][1]-box[1][1])**2)\\n    length2 = np.sqrt((box[2][0]-box[1][0])**2+(box[2][1]-box[1][1])**2)\\n    if length1 < length2:\\n        midpoint0 = [(box[1][0]+box[2][0])/2, (box[1][1]+box[2][1])/2]\\n        midpoint1 = [(box[0][0]+box[3][0])/2, (box[0][1]+box[3][1])/2]\\n    else:\\n        midpoint0 = [(box[0][0]+box[1][0])/2, (box[0][1]+box[1][1])/2]\\n        midpoint1 = [(box[2][0]+box[3][0])/2, (box[2][1]+box[3][1])/2]\\n    center = [(midpoint0[0]+midpoint1[0])/2, (midpoint0[1]+midpoint1[1])/2]\\n    dir0 = [midpoint0[0]-center[0], midpoint0[1]-center[1], 0]\\n    dir1 = [midpoint1[0]-center[0], midpoint1[1]-center[1], 0] \\n    if np.dot(dir0, worldTnormal)>0:\\n        high_to_low_dir = dir0\\n    else:\\n        high_to_low_dir = dir1\\n    rotate_angle = atan2(high_to_low_dir[1], high_to_low_dir[0])-atan2(1,0)\\n    if rotate_angle > 0:\\n        rotate_angle = rotate_angle % (2*pi)\\n    else:\\n        rotate_angle = rotate_angle % (-2*pi)\\n    rotate_angle0 = -rotate_angle\\n    rotate_angle0_matrix = np.array([[cos(rotate_angle0), -sin(rotate_angle0), 0], [sin(rotate_angle0), cos(rotate_angle0), 0], [0,0,1]])\\n    tcp2normal_after_rotation0 = np.matmul(np.linalg.inv(rotate_angle0_matrix), tcpTnormal[0:3,:])\\n    tcp2normal_after_rotation0 = [tcp2normal_after_rotation0[0][0,0], tcp2normal_after_rotation0[1][0,0], tcp2normal_after_rotation0[2][0,0]]\\n    rotate_angle1 = atan(-tcp2normal_after_rotation0[1]/tcp2normal_after_rotation0[2])\\n    rotate_angle2 = asin(-tcp2normal_after_rotation0[0])\\n    \\n    if str(rotate_angle0) == \\'nan\\' or str(rotate_angle1) == \\'nan\\' or str(rotate_angle2) == \\'nan\\':\\n        return False\\n    softtip()\\n    signal.signal(signal.SIGALRM, myHandler)\\n    signal.setitimer(signal.ITIMER_REAL, 0.005)\\n    ser.write(\\'1033\\')\\n    signal.setitimer(signal.ITIMER_REAL, 0)\\n    move = m3d.Transform((tcpTstone[0,0]+0.001, tcpTstone[1,0]-0.004, 0, 0, 0, 0))    \\n    rob.add_pose_tool( move, acc=0.3, vel=1, wait=True, command=\"movel\", threshold=None)\\n    rob.translate_tool((0, 0, tcpTstone[2,0]-0.018), acc=0.5, vel=0.8)\\n    #k=l+m\\n    rob.movel_tool((0,0,0,0,0,rotate_angle0), acc=0.5, vel=0.8, wait=True)\\n    rob.movel_tool((0,0,0,rotate_angle1,0,0), acc=0.5, vel=0.8, wait=True)\\n    rob.movel_tool((0,0,0,0,rotate_angle2,0), acc=0.5, vel=0.8, wait=True)\\n    ###########################Choose d and psi######################################\\n    rob.translate_tool((0.009, 0, 0), acc=0.06, vel=0.08)\\n    psi = radians(30)\\n    rob.movel_tool((0,0,0,0,psi,0), acc=0.3, vel=0.8, wait=True)\\n    #################################################################################\\n    rob.translate_tool((0, 0, 0.02), acc=0.01, vel=0.05, wait=False)\\n    wrench = rospy.wait_for_message(\\'/robotiq_ft_wrench\\', WrenchStamped, timeout = None)\\n    ini_wrench = wrench.wrench.force.z\\n    time0 = time.time()\\n    IsStack = False\\n    num_large_force = 0\\n    while True:\\n        if num_large_force == 3:\\n            IsStack = True\\n            rob.stopl()\\n            break\\n        wrench = rospy.wait_for_message(\\'/robotiq_ft_wrench\\', WrenchStamped, timeout = None)\\n        if wrench.wrench.force.z<ini_wrench-3:   # need change\\n            num_large_force += 1\\n        if time.time()-time0>3.7:  #3.7\\n            IsStack = False\\n            break\\n    print \\'IsStack\\', IsStack\\n    time.sleep(0.5)\\n    current_fingerlength_int=33   \\n    angle_step=0.2\\n    for angle in np.arange(3,-2,-angle_step):\\n        translate_dir_dis, shorten_distance = pos_flength_adjust_left_fixed(angle, angle-angle_step, 60, 0.0125, 0.1, 0.006, 0.019, 0.072)\\n        old_fingerlength_int=current_fingerlength_int\\n        current_fingerlength_int=round(max(current_fingerlength_int-shorten_distance*(180.0/0.03),0))\\n        signal.signal(signal.SIGALRM, myHandler)\\n        signal.setitimer(signal.ITIMER_REAL, 0.005)\\n        ser.write(\\'1\\'+str(current_fingerlength_int))\\n        signal.setitimer(signal.ITIMER_REAL, 0)   \\n        #if True:\\n        if abs(current_fingerlength_int-old_fingerlength_int)!=0:\\n            Robotiq.goto(robotiq_client, pos=(angle-1)*0.14/48.0+1.12/48.0, speed=0.2, force=10, block=False)\\n            rob.translate_tool((sin(60*pi/180)*translate_dir_dis[0]+cos(60*pi/180)*translate_dir_dis[1], 0, cos(60*pi/180)*translate_dir_dis[0]-sin(60*pi/180)*translate_dir_dis[1]), acc=0.1, vel=0.4, wait=True)\\n        else:\\n            time.sleep(0.01)\\n    Robotiq.goto(robotiq_client, pos=-2*0.14/48.0+1.12/48.0, speed=0.2, force=10, block=False)\\n    rospy.sleep(0.5)\\n    rob.translate_tool((0, 0, -0.12), acc=0.3, vel=0.8, wait=True)\\n    go_to_end_place()\\n    rob.translate((0,0,-0.07), acc=0.3, vel=0.8, wait=True)\\n    Robotiq.goto(robotiq_client, pos=0.023, speed=0.5, force=10, block=True)\\n    rospy.sleep(0.5)\\n    signal.signal(signal.SIGALRM, myHandler)\\n    signal.setitimer(signal.ITIMER_REAL, 0.005)\\n    ser.write(\\'1180\\')\\n    signal.setitimer(signal.ITIMER_REAL, 0)    \\n    Robotiq.goto(robotiq_client, pos=0.013, speed=0.5, force=10, block=True)\\n    rospy.sleep(1)\\n    ser.write(\\'1010\\')\\n    rospy.sleep(1)\\n    rob.translate((0,0,0.07), acc=0.3, vel=0.8, wait=True)     \\n\\n    return True\\n'"
      ]
     },
     "execution_count": 13,
     "metadata": {},
     "output_type": "execute_result"
    }
   ],
   "source": [
    "'''\n",
    "def scoop2(Go_index):\n",
    "    print 'Go_index', Go_index\n",
    "    global hori_pose_Go_stone_set, yaw_pitch_normal_set, switching_stone_coordinate_set, hori_box_set\n",
    "    pose_x = hori_pose_Go_stone_set[Go_index][0]\n",
    "    pose_y = hori_pose_Go_stone_set[Go_index][1]\n",
    "    pose_z = hori_pose_Go_stone_set[Go_index][2]\n",
    "    normal=yaw_pitch_normal_set[Go_index][2]\n",
    "    go_to_safe_place()\n",
    "    Robotiq.goto(robotiq_client, pos=3*0.14/48.0+1.12/48.0, speed=0.5, force=10, block=True)\n",
    "    ####################### change tcp pose ############################\n",
    "    rob.set_tcp((0.002, 0, 0.3476, 0, 0, 0))\n",
    "    rospy.sleep(0.5)\n",
    "    ####################################################################\n",
    "    worldPstone = np.array([pose_x, pose_y, pose_z, 1])\n",
    "    print 'worldPstone', worldPstone\n",
    "    tcpTstone = np.transpose(np.matmul(np.linalg.inv(rob.get_pose().get_matrix()), worldPstone))\n",
    "    print \"tcpTstone\", tcpTstone\n",
    "    eeTcam = m3d.Transform()\n",
    "    eeTcam.pos = (0.076173+0.05, -0.0934057-0.03, 0.0074811)\n",
    "    eeTcam_e = tf.transformations.euler_from_quaternion([-0.0143125,0.69183,-0.0012,0.722039], axes='sxyz')\n",
    "    eeTcam.orient.rotate_xb(eeTcam_e[0])\n",
    "    eeTcam.orient.rotate_yb(eeTcam_e[1])\n",
    "    eeTcam.orient.rotate_zb(eeTcam_e[2])\n",
    "    print eeTcam\n",
    "    \n",
    "    yaxis = (0, 1, 0)\n",
    "    zaxis = (0, 0, 1)\n",
    "    Ry = tf.transformations.rotation_matrix(pi/2, yaxis)\n",
    "    Rz = tf.transformations.rotation_matrix(-pi/2, zaxis)\n",
    "    eeTtcp = np.matmul(Ry, Rz)\n",
    "    ####################### change tcp pose ############################\n",
    "    eeTtcp[:3,3] = np.array([0.3476,-0.002,0])\n",
    "    ####################################################################\n",
    "    tcpTee = inv(eeTtcp)\n",
    "    print tcpTee\n",
    "    n_normalize = normal / np.linalg.norm(normal)\n",
    "    print \"n_normalize\", n_normalize\n",
    "    n_normalize = np.array([n_normalize[0], n_normalize[1], n_normalize[2], 1])\n",
    "    eeTnormal = np.matmul(eeTcam.get_matrix(), n_normalize)\n",
    "    tcpTnormal = np.matmul(tcpTee, np.transpose(eeTnormal))\n",
    "    print \"tcpTnormal\", tcpTnormal\n",
    "    worldTnormal = [tcpTnormal[1][0,0], tcpTnormal[0][0,0], tcpTnormal[-2][0,0]]\n",
    "\n",
    "    box = hori_box_set[Go_index]\n",
    "    length1 = np.sqrt((box[0][0]-box[1][0])**2+(box[0][1]-box[1][1])**2)\n",
    "    length2 = np.sqrt((box[2][0]-box[1][0])**2+(box[2][1]-box[1][1])**2)\n",
    "    if length1 < length2:\n",
    "        midpoint0 = [(box[1][0]+box[2][0])/2, (box[1][1]+box[2][1])/2]\n",
    "        midpoint1 = [(box[0][0]+box[3][0])/2, (box[0][1]+box[3][1])/2]\n",
    "    else:\n",
    "        midpoint0 = [(box[0][0]+box[1][0])/2, (box[0][1]+box[1][1])/2]\n",
    "        midpoint1 = [(box[2][0]+box[3][0])/2, (box[2][1]+box[3][1])/2]\n",
    "    center = [(midpoint0[0]+midpoint1[0])/2, (midpoint0[1]+midpoint1[1])/2]\n",
    "    dir0 = [midpoint0[0]-center[0], midpoint0[1]-center[1], 0]\n",
    "    dir1 = [midpoint1[0]-center[0], midpoint1[1]-center[1], 0] \n",
    "    if np.dot(dir0, worldTnormal)>0:\n",
    "        high_to_low_dir = dir0\n",
    "    else:\n",
    "        high_to_low_dir = dir1\n",
    "    rotate_angle = atan2(high_to_low_dir[1], high_to_low_dir[0])-atan2(1,0)\n",
    "    if rotate_angle > 0:\n",
    "        rotate_angle = rotate_angle % (2*pi)\n",
    "    else:\n",
    "        rotate_angle = rotate_angle % (-2*pi)\n",
    "    rotate_angle0 = -rotate_angle\n",
    "    rotate_angle0_matrix = np.array([[cos(rotate_angle0), -sin(rotate_angle0), 0], [sin(rotate_angle0), cos(rotate_angle0), 0], [0,0,1]])\n",
    "    tcp2normal_after_rotation0 = np.matmul(np.linalg.inv(rotate_angle0_matrix), tcpTnormal[0:3,:])\n",
    "    tcp2normal_after_rotation0 = [tcp2normal_after_rotation0[0][0,0], tcp2normal_after_rotation0[1][0,0], tcp2normal_after_rotation0[2][0,0]]\n",
    "    rotate_angle1 = atan(-tcp2normal_after_rotation0[1]/tcp2normal_after_rotation0[2])\n",
    "    rotate_angle2 = asin(-tcp2normal_after_rotation0[0])\n",
    "    \n",
    "    if str(rotate_angle0) == 'nan' or str(rotate_angle1) == 'nan' or str(rotate_angle2) == 'nan':\n",
    "        return False\n",
    "    softtip()\n",
    "    signal.signal(signal.SIGALRM, myHandler)\n",
    "    signal.setitimer(signal.ITIMER_REAL, 0.005)\n",
    "    ser.write('1033')\n",
    "    signal.setitimer(signal.ITIMER_REAL, 0)\n",
    "    move = m3d.Transform((tcpTstone[0,0]+0.001, tcpTstone[1,0]-0.004, 0, 0, 0, 0))    \n",
    "    rob.add_pose_tool( move, acc=0.3, vel=1, wait=True, command=\"movel\", threshold=None)\n",
    "    rob.translate_tool((0, 0, tcpTstone[2,0]-0.018), acc=0.5, vel=0.8)\n",
    "    #k=l+m\n",
    "    rob.movel_tool((0,0,0,0,0,rotate_angle0), acc=0.5, vel=0.8, wait=True)\n",
    "    rob.movel_tool((0,0,0,rotate_angle1,0,0), acc=0.5, vel=0.8, wait=True)\n",
    "    rob.movel_tool((0,0,0,0,rotate_angle2,0), acc=0.5, vel=0.8, wait=True)\n",
    "    ###########################Choose d and psi######################################\n",
    "    rob.translate_tool((0.009, 0, 0), acc=0.06, vel=0.08)\n",
    "    psi = radians(30)\n",
    "    rob.movel_tool((0,0,0,0,psi,0), acc=0.3, vel=0.8, wait=True)\n",
    "    #################################################################################\n",
    "    rob.translate_tool((0, 0, 0.02), acc=0.01, vel=0.05, wait=False)\n",
    "    wrench = rospy.wait_for_message('/robotiq_ft_wrench', WrenchStamped, timeout = None)\n",
    "    ini_wrench = wrench.wrench.force.z\n",
    "    time0 = time.time()\n",
    "    IsStack = False\n",
    "    num_large_force = 0\n",
    "    while True:\n",
    "        if num_large_force == 3:\n",
    "            IsStack = True\n",
    "            rob.stopl()\n",
    "            break\n",
    "        wrench = rospy.wait_for_message('/robotiq_ft_wrench', WrenchStamped, timeout = None)\n",
    "        if wrench.wrench.force.z<ini_wrench-3:   # need change\n",
    "            num_large_force += 1\n",
    "        if time.time()-time0>3.7:  #3.7\n",
    "            IsStack = False\n",
    "            break\n",
    "    print 'IsStack', IsStack\n",
    "    time.sleep(0.5)\n",
    "    current_fingerlength_int=33   \n",
    "    angle_step=0.2\n",
    "    for angle in np.arange(3,-2,-angle_step):\n",
    "        translate_dir_dis, shorten_distance = pos_flength_adjust_left_fixed(angle, angle-angle_step, 60, 0.0125, 0.1, 0.006, 0.019, 0.072)\n",
    "        old_fingerlength_int=current_fingerlength_int\n",
    "        current_fingerlength_int=round(max(current_fingerlength_int-shorten_distance*(180.0/0.03),0))\n",
    "        signal.signal(signal.SIGALRM, myHandler)\n",
    "        signal.setitimer(signal.ITIMER_REAL, 0.005)\n",
    "        ser.write('1'+str(current_fingerlength_int))\n",
    "        signal.setitimer(signal.ITIMER_REAL, 0)   \n",
    "        #if True:\n",
    "        if abs(current_fingerlength_int-old_fingerlength_int)!=0:\n",
    "            Robotiq.goto(robotiq_client, pos=(angle-1)*0.14/48.0+1.12/48.0, speed=0.2, force=10, block=False)\n",
    "            rob.translate_tool((sin(60*pi/180)*translate_dir_dis[0]+cos(60*pi/180)*translate_dir_dis[1], 0, cos(60*pi/180)*translate_dir_dis[0]-sin(60*pi/180)*translate_dir_dis[1]), acc=0.1, vel=0.4, wait=True)\n",
    "        else:\n",
    "            time.sleep(0.01)\n",
    "    Robotiq.goto(robotiq_client, pos=-2*0.14/48.0+1.12/48.0, speed=0.2, force=10, block=False)\n",
    "    rospy.sleep(0.5)\n",
    "    rob.translate_tool((0, 0, -0.12), acc=0.3, vel=0.8, wait=True)\n",
    "    go_to_end_place()\n",
    "    rob.translate((0,0,-0.07), acc=0.3, vel=0.8, wait=True)\n",
    "    Robotiq.goto(robotiq_client, pos=0.023, speed=0.5, force=10, block=True)\n",
    "    rospy.sleep(0.5)\n",
    "    signal.signal(signal.SIGALRM, myHandler)\n",
    "    signal.setitimer(signal.ITIMER_REAL, 0.005)\n",
    "    ser.write('1180')\n",
    "    signal.setitimer(signal.ITIMER_REAL, 0)    \n",
    "    Robotiq.goto(robotiq_client, pos=0.013, speed=0.5, force=10, block=True)\n",
    "    rospy.sleep(1)\n",
    "    ser.write('1010')\n",
    "    rospy.sleep(1)\n",
    "    rob.translate((0,0,0.07), acc=0.3, vel=0.8, wait=True)     \n",
    "\n",
    "    return True\n",
    "'''"
   ]
  },
  {
   "cell_type": "code",
   "execution_count": 14,
   "metadata": {},
   "outputs": [
    {
     "data": {
      "text/plain": [
       "'\\ndef scoop3(Go_index):\\n    print \\'Go_index\\', Go_index\\n    global hori_pose_Go_stone_set, yaw_pitch_normal_set, switching_stone_coordinate_set, hori_box_set\\n    pose_x = hori_pose_Go_stone_set[Go_index][0]\\n    pose_y = hori_pose_Go_stone_set[Go_index][1]\\n    pose_z = hori_pose_Go_stone_set[Go_index][2]\\n    normal=yaw_pitch_normal_set[Go_index][2]\\n    go_to_safe_place()\\n    Robotiq.goto(robotiq_client, pos=3*0.14/48.0+1.12/48.0, speed=0.5, force=10, block=True)\\n    ####################### change tcp pose ############################\\n    rob.set_tcp((0.013, 0, 0.340, 0, 0, 0))\\n    rospy.sleep(0.5)\\n    ####################################################################\\n    worldPstone = np.array([pose_x, pose_y, pose_z, 1])\\n    print \\'worldPstone\\', worldPstone\\n    tcpTstone = np.transpose(np.matmul(np.linalg.inv(rob.get_pose().get_matrix()), worldPstone))\\n    print \"tcpTstone\", tcpTstone\\n    eeTcam = m3d.Transform()\\n    eeTcam.pos = (0.076173+0.05, -0.0934057-0.03, 0.0074811)\\n    eeTcam_e = tf.transformations.euler_from_quaternion([-0.0143125,0.69183,-0.0012,0.722039], axes=\\'sxyz\\')\\n    eeTcam.orient.rotate_xb(eeTcam_e[0])\\n    eeTcam.orient.rotate_yb(eeTcam_e[1])\\n    eeTcam.orient.rotate_zb(eeTcam_e[2])\\n    print eeTcam\\n    \\n    yaxis = (0, 1, 0)\\n    zaxis = (0, 0, 1)\\n    Ry = tf.transformations.rotation_matrix(pi/2, yaxis)\\n    Rz = tf.transformations.rotation_matrix(-pi/2, zaxis)\\n    eeTtcp = np.matmul(Ry, Rz)\\n    ####################### change tcp pose ############################\\n    eeTtcp[:3,3] = np.array([0.340,-0.013,0])\\n    ####################################################################\\n    tcpTee = inv(eeTtcp)\\n    print tcpTee\\n    n_normalize = normal / np.linalg.norm(normal)\\n    print \"n_normalize\", n_normalize\\n    n_normalize = np.array([n_normalize[0], n_normalize[1], n_normalize[2], 1])\\n    eeTnormal = np.matmul(eeTcam.get_matrix(), n_normalize)\\n    tcpTnormal = np.matmul(tcpTee, np.transpose(eeTnormal))\\n    print \"tcpTnormal\", tcpTnormal\\n    worldTnormal = [tcpTnormal[1][0,0], tcpTnormal[0][0,0], tcpTnormal[-2][0,0]]\\n\\n    box = hori_box_set[Go_index]\\n    length1 = np.sqrt((box[0][0]-box[1][0])**2+(box[0][1]-box[1][1])**2)\\n    length2 = np.sqrt((box[2][0]-box[1][0])**2+(box[2][1]-box[1][1])**2)\\n    if length1 > length2:\\n        midpoint0 = [(box[1][0]+box[2][0])/2, (box[1][1]+box[2][1])/2]\\n        midpoint1 = [(box[0][0]+box[3][0])/2, (box[0][1]+box[3][1])/2]\\n    else:\\n        midpoint0 = [(box[0][0]+box[1][0])/2, (box[0][1]+box[1][1])/2]\\n        midpoint1 = [(box[2][0]+box[3][0])/2, (box[2][1]+box[3][1])/2]\\n    center = [(midpoint0[0]+midpoint1[0])/2, (midpoint0[1]+midpoint1[1])/2]\\n    dir0 = [midpoint0[0]-center[0], midpoint0[1]-center[1], 0]\\n    dir1 = [midpoint1[0]-center[0], midpoint1[1]-center[1], 0] \\n    if np.dot(dir0, worldTnormal)>0:\\n        high_to_low_dir = dir0\\n    else:\\n        high_to_low_dir = dir1\\n    rotate_angle = atan2(high_to_low_dir[1], high_to_low_dir[0])-atan2(1,0)\\n    if rotate_angle > 0:\\n        rotate_angle = rotate_angle % (2*pi)\\n    else:\\n        rotate_angle = rotate_angle % (-2*pi)\\n    rotate_angle0 = -rotate_angle\\n    if str(rotate_angle0) == \\'nan\\':\\n        return False\\n    softtip()\\n    signal.signal(signal.SIGALRM, myHandler)\\n    signal.setitimer(signal.ITIMER_REAL, 0.005)\\n    ser.write(\\'1000\\')\\n    signal.setitimer(signal.ITIMER_REAL, 0)\\n    move = m3d.Transform((tcpTstone[0,0]+0.001, tcpTstone[1,0]-0.004, 0, 0, 0, 0))    \\n    rob.add_pose_tool( move, acc=0.3, vel=1, wait=True, command=\"movel\", threshold=None)\\n    rob.movel_tool((0,0,0,0,0,rotate_angle0), acc=0.5, vel=0.8, wait=True)\\n    rob.translate_tool((0.0165, 0, 0), acc=0.06, vel=0.08)\\n    rob.set_tcp((-0.0267, 0, 0.340, 0, 0, 0))\\n    rospy.sleep(0.5)\\n    rob.movel_tool((0,0,0,0,pi/6,0), acc=0.5, vel=0.8, wait=True)\\n    rob.translate((0, 0, -(tcpTstone[2,0]-0.015)), acc=0.5, vel=0.8)\\n    rob.translate((0, 0, -0.02), acc=0.01, vel=0.05, wait=False)   \\n                \\n    wrench = rospy.wait_for_message(\\'/robotiq_ft_wrench\\', WrenchStamped, timeout = None)\\n    ini_wrench = wrench.wrench.torque.y\\n    time0 = time.time()\\n    num_large_force = 0\\n    while True:\\n        if num_large_force == 3:\\n            rob.stopl()\\n            break\\n        wrench = rospy.wait_for_message(\\'/robotiq_ft_wrench\\', WrenchStamped, timeout = None)\\n        if wrench.wrench.torque.y>ini_wrench+0.1:\\n            num_large_force += 1\\n        if time.time()-time0>2.8: # need change\\n            break\\n    wrench = rospy.wait_for_message(\\'/robotiq_ft_wrench\\', WrenchStamped, timeout = None)\\n    ini_wrench = wrench.wrench.torque.y\\n    for current_finger_length in np.arange(0,184,4):\\n        signal.setitimer(signal.ITIMER_REAL, 0.001)\\n        ser.write(\\'1\\'+str(current_finger_length))\\n        signal.setitimer(signal.ITIMER_REAL, 0)\\n        time.sleep(0.2)        \\n        current_fingerlength_int=current_finger_length\\n        wrench = rospy.wait_for_message(\\'/robotiq_ft_wrench\\', WrenchStamped, timeout = None)\\n        if wrench.wrench.torque.y>ini_wrench+0.3:\\n            break\\n    angle_step=0.2\\n    for angle in np.arange(10,-2,-angle_step):\\n        translate_dir_dis, shorten_distance = pos_flength_adjust_left_fixed(angle, angle-angle_step, 60, 0.0125, 0.1, 0.006, 0.019, 0.072)\\n        old_fingerlength_int=current_fingerlength_int\\n        current_fingerlength_int=round(max(current_fingerlength_int-shorten_distance*(180.0/0.03),0))\\n        signal.signal(signal.SIGALRM, myHandler)\\n        signal.setitimer(signal.ITIMER_REAL, 0.005)\\n        ser.write(\\'1\\'+str(current_fingerlength_int))\\n        signal.setitimer(signal.ITIMER_REAL, 0)   \\n        #if True:\\n        if abs(current_fingerlength_int-old_fingerlength_int)!=0:\\n            Robotiq.goto(robotiq_client, pos=(angle-1)*0.14/48.0+1.12/48.0, speed=0.2, force=10, block=False)\\n            rob.translate_tool((sin(60*pi/180)*translate_dir_dis[0]+cos(60*pi/180)*translate_dir_dis[1], 0, cos(60*pi/180)*translate_dir_dis[0]-sin(60*pi/180)*translate_dir_dis[1]), acc=0.1, vel=0.4, wait=True)\\n        else:\\n            time.sleep(0.01)\\n    Robotiq.goto(robotiq_client, pos=-2*0.14/48.0+1.12/48.0, speed=0.2, force=10, block=False)\\n    rospy.sleep(0.5)\\n    rob.set_tcp((0, 0, 0, 0, 0, 0))\\n    rospy.sleep(0.5)\\n    rob.translate_tool((0, 0, -0.12), acc=0.3, vel=0.8, wait=True)\\n    go_to_end_place()\\n    rob.translate((0,0,-0.07), acc=0.3, vel=0.8, wait=True)\\n    Robotiq.goto(robotiq_client, pos=0.023, speed=0.5, force=10, block=True)\\n    rospy.sleep(0.5)\\n    signal.signal(signal.SIGALRM, myHandler)\\n    signal.setitimer(signal.ITIMER_REAL, 0.005)\\n    ser.write(\\'1180\\')\\n    signal.setitimer(signal.ITIMER_REAL, 0)    \\n    Robotiq.goto(robotiq_client, pos=0.013, speed=0.5, force=10, block=True)\\n    rospy.sleep(1)\\n    ser.write(\\'1010\\')\\n    rospy.sleep(1)\\n    rob.translate((0,0,0.07), acc=0.3, vel=0.8, wait=True) \\n\\n    return True\\n'"
      ]
     },
     "execution_count": 14,
     "metadata": {},
     "output_type": "execute_result"
    }
   ],
   "source": [
    "'''\n",
    "def scoop3(Go_index):\n",
    "    print 'Go_index', Go_index\n",
    "    global hori_pose_Go_stone_set, yaw_pitch_normal_set, switching_stone_coordinate_set, hori_box_set\n",
    "    pose_x = hori_pose_Go_stone_set[Go_index][0]\n",
    "    pose_y = hori_pose_Go_stone_set[Go_index][1]\n",
    "    pose_z = hori_pose_Go_stone_set[Go_index][2]\n",
    "    normal=yaw_pitch_normal_set[Go_index][2]\n",
    "    go_to_safe_place()\n",
    "    Robotiq.goto(robotiq_client, pos=3*0.14/48.0+1.12/48.0, speed=0.5, force=10, block=True)\n",
    "    ####################### change tcp pose ############################\n",
    "    rob.set_tcp((0.013, 0, 0.340, 0, 0, 0))\n",
    "    rospy.sleep(0.5)\n",
    "    ####################################################################\n",
    "    worldPstone = np.array([pose_x, pose_y, pose_z, 1])\n",
    "    print 'worldPstone', worldPstone\n",
    "    tcpTstone = np.transpose(np.matmul(np.linalg.inv(rob.get_pose().get_matrix()), worldPstone))\n",
    "    print \"tcpTstone\", tcpTstone\n",
    "    eeTcam = m3d.Transform()\n",
    "    eeTcam.pos = (0.076173+0.05, -0.0934057-0.03, 0.0074811)\n",
    "    eeTcam_e = tf.transformations.euler_from_quaternion([-0.0143125,0.69183,-0.0012,0.722039], axes='sxyz')\n",
    "    eeTcam.orient.rotate_xb(eeTcam_e[0])\n",
    "    eeTcam.orient.rotate_yb(eeTcam_e[1])\n",
    "    eeTcam.orient.rotate_zb(eeTcam_e[2])\n",
    "    print eeTcam\n",
    "    \n",
    "    yaxis = (0, 1, 0)\n",
    "    zaxis = (0, 0, 1)\n",
    "    Ry = tf.transformations.rotation_matrix(pi/2, yaxis)\n",
    "    Rz = tf.transformations.rotation_matrix(-pi/2, zaxis)\n",
    "    eeTtcp = np.matmul(Ry, Rz)\n",
    "    ####################### change tcp pose ############################\n",
    "    eeTtcp[:3,3] = np.array([0.340,-0.013,0])\n",
    "    ####################################################################\n",
    "    tcpTee = inv(eeTtcp)\n",
    "    print tcpTee\n",
    "    n_normalize = normal / np.linalg.norm(normal)\n",
    "    print \"n_normalize\", n_normalize\n",
    "    n_normalize = np.array([n_normalize[0], n_normalize[1], n_normalize[2], 1])\n",
    "    eeTnormal = np.matmul(eeTcam.get_matrix(), n_normalize)\n",
    "    tcpTnormal = np.matmul(tcpTee, np.transpose(eeTnormal))\n",
    "    print \"tcpTnormal\", tcpTnormal\n",
    "    worldTnormal = [tcpTnormal[1][0,0], tcpTnormal[0][0,0], tcpTnormal[-2][0,0]]\n",
    "\n",
    "    box = hori_box_set[Go_index]\n",
    "    length1 = np.sqrt((box[0][0]-box[1][0])**2+(box[0][1]-box[1][1])**2)\n",
    "    length2 = np.sqrt((box[2][0]-box[1][0])**2+(box[2][1]-box[1][1])**2)\n",
    "    if length1 > length2:\n",
    "        midpoint0 = [(box[1][0]+box[2][0])/2, (box[1][1]+box[2][1])/2]\n",
    "        midpoint1 = [(box[0][0]+box[3][0])/2, (box[0][1]+box[3][1])/2]\n",
    "    else:\n",
    "        midpoint0 = [(box[0][0]+box[1][0])/2, (box[0][1]+box[1][1])/2]\n",
    "        midpoint1 = [(box[2][0]+box[3][0])/2, (box[2][1]+box[3][1])/2]\n",
    "    center = [(midpoint0[0]+midpoint1[0])/2, (midpoint0[1]+midpoint1[1])/2]\n",
    "    dir0 = [midpoint0[0]-center[0], midpoint0[1]-center[1], 0]\n",
    "    dir1 = [midpoint1[0]-center[0], midpoint1[1]-center[1], 0] \n",
    "    if np.dot(dir0, worldTnormal)>0:\n",
    "        high_to_low_dir = dir0\n",
    "    else:\n",
    "        high_to_low_dir = dir1\n",
    "    rotate_angle = atan2(high_to_low_dir[1], high_to_low_dir[0])-atan2(1,0)\n",
    "    if rotate_angle > 0:\n",
    "        rotate_angle = rotate_angle % (2*pi)\n",
    "    else:\n",
    "        rotate_angle = rotate_angle % (-2*pi)\n",
    "    rotate_angle0 = -rotate_angle\n",
    "    if str(rotate_angle0) == 'nan':\n",
    "        return False\n",
    "    softtip()\n",
    "    signal.signal(signal.SIGALRM, myHandler)\n",
    "    signal.setitimer(signal.ITIMER_REAL, 0.005)\n",
    "    ser.write('1000')\n",
    "    signal.setitimer(signal.ITIMER_REAL, 0)\n",
    "    move = m3d.Transform((tcpTstone[0,0]+0.001, tcpTstone[1,0]-0.004, 0, 0, 0, 0))    \n",
    "    rob.add_pose_tool( move, acc=0.3, vel=1, wait=True, command=\"movel\", threshold=None)\n",
    "    rob.movel_tool((0,0,0,0,0,rotate_angle0), acc=0.5, vel=0.8, wait=True)\n",
    "    rob.translate_tool((0.0165, 0, 0), acc=0.06, vel=0.08)\n",
    "    rob.set_tcp((-0.0267, 0, 0.340, 0, 0, 0))\n",
    "    rospy.sleep(0.5)\n",
    "    rob.movel_tool((0,0,0,0,pi/6,0), acc=0.5, vel=0.8, wait=True)\n",
    "    rob.translate((0, 0, -(tcpTstone[2,0]-0.015)), acc=0.5, vel=0.8)\n",
    "    rob.translate((0, 0, -0.02), acc=0.01, vel=0.05, wait=False)   \n",
    "                \n",
    "    wrench = rospy.wait_for_message('/robotiq_ft_wrench', WrenchStamped, timeout = None)\n",
    "    ini_wrench = wrench.wrench.torque.y\n",
    "    time0 = time.time()\n",
    "    num_large_force = 0\n",
    "    while True:\n",
    "        if num_large_force == 3:\n",
    "            rob.stopl()\n",
    "            break\n",
    "        wrench = rospy.wait_for_message('/robotiq_ft_wrench', WrenchStamped, timeout = None)\n",
    "        if wrench.wrench.torque.y>ini_wrench+0.1:\n",
    "            num_large_force += 1\n",
    "        if time.time()-time0>2.8: # need change\n",
    "            break\n",
    "    wrench = rospy.wait_for_message('/robotiq_ft_wrench', WrenchStamped, timeout = None)\n",
    "    ini_wrench = wrench.wrench.torque.y\n",
    "    for current_finger_length in np.arange(0,184,4):\n",
    "        signal.setitimer(signal.ITIMER_REAL, 0.001)\n",
    "        ser.write('1'+str(current_finger_length))\n",
    "        signal.setitimer(signal.ITIMER_REAL, 0)\n",
    "        time.sleep(0.2)        \n",
    "        current_fingerlength_int=current_finger_length\n",
    "        wrench = rospy.wait_for_message('/robotiq_ft_wrench', WrenchStamped, timeout = None)\n",
    "        if wrench.wrench.torque.y>ini_wrench+0.3:\n",
    "            break\n",
    "    angle_step=0.2\n",
    "    for angle in np.arange(10,-2,-angle_step):\n",
    "        translate_dir_dis, shorten_distance = pos_flength_adjust_left_fixed(angle, angle-angle_step, 60, 0.0125, 0.1, 0.006, 0.019, 0.072)\n",
    "        old_fingerlength_int=current_fingerlength_int\n",
    "        current_fingerlength_int=round(max(current_fingerlength_int-shorten_distance*(180.0/0.03),0))\n",
    "        signal.signal(signal.SIGALRM, myHandler)\n",
    "        signal.setitimer(signal.ITIMER_REAL, 0.005)\n",
    "        ser.write('1'+str(current_fingerlength_int))\n",
    "        signal.setitimer(signal.ITIMER_REAL, 0)   \n",
    "        #if True:\n",
    "        if abs(current_fingerlength_int-old_fingerlength_int)!=0:\n",
    "            Robotiq.goto(robotiq_client, pos=(angle-1)*0.14/48.0+1.12/48.0, speed=0.2, force=10, block=False)\n",
    "            rob.translate_tool((sin(60*pi/180)*translate_dir_dis[0]+cos(60*pi/180)*translate_dir_dis[1], 0, cos(60*pi/180)*translate_dir_dis[0]-sin(60*pi/180)*translate_dir_dis[1]), acc=0.1, vel=0.4, wait=True)\n",
    "        else:\n",
    "            time.sleep(0.01)\n",
    "    Robotiq.goto(robotiq_client, pos=-2*0.14/48.0+1.12/48.0, speed=0.2, force=10, block=False)\n",
    "    rospy.sleep(0.5)\n",
    "    rob.set_tcp((0, 0, 0, 0, 0, 0))\n",
    "    rospy.sleep(0.5)\n",
    "    rob.translate_tool((0, 0, -0.12), acc=0.3, vel=0.8, wait=True)\n",
    "    go_to_end_place()\n",
    "    rob.translate((0,0,-0.07), acc=0.3, vel=0.8, wait=True)\n",
    "    Robotiq.goto(robotiq_client, pos=0.023, speed=0.5, force=10, block=True)\n",
    "    rospy.sleep(0.5)\n",
    "    signal.signal(signal.SIGALRM, myHandler)\n",
    "    signal.setitimer(signal.ITIMER_REAL, 0.005)\n",
    "    ser.write('1180')\n",
    "    signal.setitimer(signal.ITIMER_REAL, 0)    \n",
    "    Robotiq.goto(robotiq_client, pos=0.013, speed=0.5, force=10, block=True)\n",
    "    rospy.sleep(1)\n",
    "    ser.write('1010')\n",
    "    rospy.sleep(1)\n",
    "    rob.translate((0,0,0.07), acc=0.3, vel=0.8, wait=True) \n",
    "\n",
    "    return True\n",
    "'''"
   ]
  },
  {
   "cell_type": "code",
   "execution_count": 25,
   "metadata": {},
   "outputs": [],
   "source": [
    "def scoop4(Go_index):\n",
    "    print 'Go_index', Go_index\n",
    "    global hori_pose_Go_stone_set, yaw_pitch_normal_set, switching_stone_coordinate_set, hori_box_set\n",
    "    pose_x = hori_pose_Go_stone_set[Go_index][0]\n",
    "    pose_y = hori_pose_Go_stone_set[Go_index][1]\n",
    "    pose_z = hori_pose_Go_stone_set[Go_index][2]\n",
    "    normal=yaw_pitch_normal_set[Go_index][2]\n",
    "    go_to_safe_place()\n",
    "    Robotiq.goto(robotiq_client, pos=6*0.14/48.0+1.12/48.0, speed=0.5, force=10, block=True)\n",
    "    ####################### change tcp pose ############################\n",
    "    rob.set_tcp((0.002, 0, 0.340, 0, 0, 0))\n",
    "    rospy.sleep(0.5)\n",
    "    ####################################################################\n",
    "    worldPstone = np.array([pose_x, pose_y, pose_z, 1])\n",
    "    print 'worldPstone', worldPstone\n",
    "    tcpTstone = np.transpose(np.matmul(np.linalg.inv(rob.get_pose().get_matrix()), worldPstone))\n",
    "    print \"tcpTstone\", tcpTstone\n",
    "    eeTcam = m3d.Transform()\n",
    "    eeTcam.pos = (0.076173+0.05, -0.0934057-0.03, 0.0074811)\n",
    "    eeTcam_e = tf.transformations.euler_from_quaternion([-0.0143125,0.69183,-0.0012,0.722039], axes='sxyz')\n",
    "    eeTcam.orient.rotate_xb(eeTcam_e[0])\n",
    "    eeTcam.orient.rotate_yb(eeTcam_e[1])\n",
    "    eeTcam.orient.rotate_zb(eeTcam_e[2])\n",
    "    print eeTcam\n",
    "    \n",
    "    yaxis = (0, 1, 0)\n",
    "    zaxis = (0, 0, 1)\n",
    "    Ry = tf.transformations.rotation_matrix(pi/2, yaxis)\n",
    "    Rz = tf.transformations.rotation_matrix(-pi/2, zaxis)\n",
    "    eeTtcp = np.matmul(Ry, Rz)\n",
    "    ####################### change tcp pose ############################\n",
    "    eeTtcp[:3,3] = np.array([0.340,-0.002,0])\n",
    "    ####################################################################\n",
    "    tcpTee = inv(eeTtcp)\n",
    "    print tcpTee\n",
    "    n_normalize = normal / np.linalg.norm(normal)\n",
    "    print \"n_normalize\", n_normalize\n",
    "    n_normalize = np.array([n_normalize[0], n_normalize[1], n_normalize[2], 1])\n",
    "    eeTnormal = np.matmul(eeTcam.get_matrix(), n_normalize)\n",
    "    tcpTnormal = np.matmul(tcpTee, np.transpose(eeTnormal))\n",
    "    print \"tcpTnormal\", tcpTnormal\n",
    "    worldTnormal = [tcpTnormal[1][0,0], tcpTnormal[0][0,0], tcpTnormal[-2][0,0]]\n",
    "\n",
    "    box = hori_box_set[Go_index]\n",
    "    length1 = np.sqrt((box[0][0]-box[1][0])**2+(box[0][1]-box[1][1])**2)\n",
    "    length2 = np.sqrt((box[2][0]-box[1][0])**2+(box[2][1]-box[1][1])**2)\n",
    "    if length1 < length2:\n",
    "        midpoint0 = [(box[1][0]+box[2][0])/2, (box[1][1]+box[2][1])/2]\n",
    "        midpoint1 = [(box[0][0]+box[3][0])/2, (box[0][1]+box[3][1])/2]\n",
    "    else:\n",
    "        midpoint0 = [(box[0][0]+box[1][0])/2, (box[0][1]+box[1][1])/2]\n",
    "        midpoint1 = [(box[2][0]+box[3][0])/2, (box[2][1]+box[3][1])/2]\n",
    "    center = [(midpoint0[0]+midpoint1[0])/2, (midpoint0[1]+midpoint1[1])/2]\n",
    "    dir0 = [midpoint0[0]-center[0], midpoint0[1]-center[1], 0]\n",
    "    dir1 = [midpoint1[0]-center[0], midpoint1[1]-center[1], 0] \n",
    "    if np.dot(dir0, worldTnormal)>0:\n",
    "        high_to_low_dir = dir0\n",
    "    else:\n",
    "        high_to_low_dir = dir1\n",
    "    rotate_angle = atan2(high_to_low_dir[1], high_to_low_dir[0])-atan2(1,0)\n",
    "    if rotate_angle > 0:\n",
    "        rotate_angle = rotate_angle % (2*pi)\n",
    "    else:\n",
    "        rotate_angle = rotate_angle % (-2*pi)\n",
    "    rotate_angle0 = -rotate_angle\n",
    "    if str(rotate_angle0) == 'nan':\n",
    "        return False\n",
    "    softtip()\n",
    "    signal.signal(signal.SIGALRM, myHandler)\n",
    "    signal.setitimer(signal.ITIMER_REAL, 0.005)\n",
    "    ser.write('1000')\n",
    "    signal.setitimer(signal.ITIMER_REAL, 0)\n",
    "    move = m3d.Transform((tcpTstone[0,0]+0.001, tcpTstone[1,0]-0.004, 0, 0, 0, 0))    \n",
    "    rob.add_pose_tool( move, acc=0.3, vel=1, wait=True, command=\"movel\", threshold=None)\n",
    "    rob.movel_tool((0,0,0,0,0,rotate_angle0), acc=0.5, vel=0.8, wait=True)\n",
    "    rob.translate_tool((0.008, 0, 0), acc=0.06, vel=0.08)\n",
    "    rob.set_tcp((-0.018, 0, 0.340, 0, 0, 0))\n",
    "    rospy.sleep(0.5)\n",
    "    rob.movel_tool((0,0,0,0,pi/6,0), acc=0.5, vel=0.8, wait=True)\n",
    "    rob.translate((0, 0, -(tcpTstone[2,0]-0.015)), acc=0.5, vel=0.8)\n",
    "    rob.translate((0, 0, -0.02), acc=0.01, vel=0.05, wait=False)   \n",
    "                \n",
    "    wrench = rospy.wait_for_message('/robotiq_ft_wrench', WrenchStamped, timeout = None)\n",
    "    ini_wrench = wrench.wrench.torque.y\n",
    "    time0 = time.time()\n",
    "    num_large_force = 0\n",
    "    while True:\n",
    "        if num_large_force == 3:\n",
    "            rob.stopl()\n",
    "            break\n",
    "        wrench = rospy.wait_for_message('/robotiq_ft_wrench', WrenchStamped, timeout = None)\n",
    "        if wrench.wrench.torque.y>ini_wrench+0.1:\n",
    "            num_large_force += 1\n",
    "        if time.time()-time0>2.8: # need change\n",
    "            break\n",
    "    wrench = rospy.wait_for_message('/robotiq_ft_wrench', WrenchStamped, timeout = None)\n",
    "    ini_wrench = wrench.wrench.torque.y\n",
    "    for current_finger_length in np.arange(0,40,4):\n",
    "        signal.setitimer(signal.ITIMER_REAL, 0.001)\n",
    "        ser.write('1'+str(current_finger_length))\n",
    "        signal.setitimer(signal.ITIMER_REAL, 0)\n",
    "        time.sleep(0.2)        \n",
    "        current_fingerlength_int=current_finger_length\n",
    "        wrench = rospy.wait_for_message('/robotiq_ft_wrench', WrenchStamped, timeout = None)\n",
    "        if wrench.wrench.torque.y>ini_wrench+0.3:\n",
    "            break\n",
    "    angle_step=0.2\n",
    "    for angle in np.arange(6,-2,-angle_step):\n",
    "        translate_dir_dis, shorten_distance = pos_flength_adjust_left_fixed(angle, angle-angle_step, 60, 0.0125, 0.1, 0.006, 0.019, 0.072)\n",
    "        old_fingerlength_int=current_fingerlength_int\n",
    "        current_fingerlength_int=round(max(current_fingerlength_int-shorten_distance*(180.0/0.03),0))\n",
    "        signal.signal(signal.SIGALRM, myHandler)\n",
    "        signal.setitimer(signal.ITIMER_REAL, 0.005)\n",
    "        ser.write('1'+str(current_fingerlength_int))\n",
    "        signal.setitimer(signal.ITIMER_REAL, 0)   \n",
    "        #if True:\n",
    "        if abs(current_fingerlength_int-old_fingerlength_int)!=0:\n",
    "            Robotiq.goto(robotiq_client, pos=(angle-1)*0.14/48.0+1.12/48.0, speed=0.2, force=10, block=False)\n",
    "            rob.translate_tool((sin(60*pi/180)*translate_dir_dis[0]+cos(60*pi/180)*translate_dir_dis[1], 0, cos(60*pi/180)*translate_dir_dis[0]-sin(60*pi/180)*translate_dir_dis[1]), acc=0.1, vel=0.4, wait=True)\n",
    "        else:\n",
    "            time.sleep(0.01)\n",
    "    Robotiq.goto(robotiq_client, pos=-2*0.14/48.0+1.12/48.0, speed=0.2, force=10, block=False)\n",
    "    rospy.sleep(0.5)\n",
    "    rob.set_tcp((0, 0, 0, 0, 0, 0))\n",
    "    rospy.sleep(0.5)\n",
    "    rob.translate_tool((0, 0, -0.12), acc=0.3, vel=0.8, wait=True)\n",
    "    go_to_end_place()\n",
    "    rob.translate((0,0,-0.07), acc=0.3, vel=0.8, wait=True)\n",
    "    Robotiq.goto(robotiq_client, pos=0.023, speed=0.5, force=10, block=True)\n",
    "    rospy.sleep(0.5)\n",
    "    signal.signal(signal.SIGALRM, myHandler)\n",
    "    signal.setitimer(signal.ITIMER_REAL, 0.005)\n",
    "    ser.write('1180')\n",
    "    signal.setitimer(signal.ITIMER_REAL, 0)    \n",
    "    Robotiq.goto(robotiq_client, pos=0.013, speed=0.5, force=10, block=True)\n",
    "    rospy.sleep(1)\n",
    "    ser.write('1010')\n",
    "    rospy.sleep(1)\n",
    "    rob.translate((0,0,0.07), acc=0.3, vel=0.8, wait=True) \n",
    "\n",
    "    return True"
   ]
  },
  {
   "cell_type": "code",
   "execution_count": 26,
   "metadata": {},
   "outputs": [],
   "source": [
    "def find_alpha_from_distance(distance, l0, l1, l2l, l2r):\n",
    "    alpha = asin((distance+l2l+l2r-2*l0)/2/l1)*180/pi\n",
    "    return alpha\n",
    "\n",
    "def direct_pick_execute(Go_index):\n",
    "    global ver_pose_Go_stone_set, gripper_direction_set, gripper_aperture_set\n",
    "    go_to_safe_place()\n",
    "    hardtip()\n",
    "    Robotiq.goto(robotiq_client, pos=0.75*gripper_aperture_set[Go_index]+0.0105, speed=0.1, force=10, block=True)\n",
    "    signal.signal(signal.SIGALRM, myHandler)\n",
    "    signal.setitimer(signal.ITIMER_REAL, 0.005)\n",
    "    ser.write('1000')\n",
    "    signal.setitimer(signal.ITIMER_REAL, 0)\n",
    "    rob.set_tcp((0, 0, 0, 0, 0, 0))\n",
    "    rospy.sleep(0.5)\n",
    "    pos_x = rob.get_pose().pos.x\n",
    "    pos_y = rob.get_pose().pos.y\n",
    "    pos_z = rob.get_pose().pos.z\n",
    "    rospy.sleep(0.5)\n",
    "    rob.translate((ver_pose_Go_stone_set[Go_index][0]-pos_x-0.005,ver_pose_Go_stone_set[Go_index][1]-pos_y+0.0015,0), acc=0.8, vel=2, wait=True)\n",
    "    rob.movel_tool((0,0,0,0,0,gripper_direction_set[Go_index]),acc=0.8, vel=2)\n",
    "    rob.translate_tool((0.005,0,0),acc=0.1, vel=0.2)\n",
    "    #rob.translate((0,0,-0.025), acc=0.1, vel=0.4, wait=True)\n",
    "    rob.translate((0,0,max((ver_pose_Go_stone_set[Go_index][2]-(pos_z-0.32210))*0.7,-0.035)), acc=0.1, vel=0.1, wait=True)\n",
    "    rob.translate((0,0,max((ver_pose_Go_stone_set[Go_index][2]-(pos_z-0.32210))*0.6,-0.035)), acc=0.001, vel=0.01, wait=True)\n",
    "    Robotiq.goto(robotiq_client, pos=-7*0.14/48.0+1.12/48.0, speed=0.1, force=0.3, block=False)\n",
    "    rospy.sleep(1)\n",
    "    rob.translate((0, 0, 0.08), acc=0.3, vel=0.8)\n",
    "    go_to_end_place()\n",
    "    rob.translate((0,0,-0.07), acc=0.3, vel=0.8, wait=True)\n",
    "    Robotiq.goto(robotiq_client, pos=0.019, speed=0.5, force=10, block=True)\n",
    "    softtip()\n",
    "    rob.translate((0,0,0.07), acc=0.3, vel=0.8, wait=True)"
   ]
  },
  {
   "cell_type": "code",
   "execution_count": 27,
   "metadata": {},
   "outputs": [],
   "source": [
    "from shapely.affinity import rotate\n",
    "from shapely.affinity import translate\n",
    "from shapely.geometry import Point\n",
    "from shapely.geometry import LinearRing\n",
    "\n",
    "def direct_pick_collision_check(Go_index):\n",
    "    global ver_pose_Go_stone_set, gripper_direction_set, gripper_aperture_set\n",
    "    finger_profile = [[0.01, gripper_aperture_set[Go_index]/2+0.019], [-0.01, gripper_aperture_set[Go_index]/2+0.019], [-0.01, -gripper_aperture_set[Go_index]/2-0.007], [0.01, -gripper_aperture_set[Go_index]/2-0.007]]\n",
    "    finger_profile = rotate(LinearRing(finger_profile), -gripper_direction_set[Go_index], origin=Point([0,0]), use_radians=True)\n",
    "    finger_profile = translate(LinearRing(finger_profile), xoff=ver_pose_Go_stone_set[Go_index][0], yoff=ver_pose_Go_stone_set[Go_index][1], zoff=0.0)\n",
    "    if finger_profile.within(Point([0.05,0.69]).buffer(0.055))==True:\n",
    "        return False\n",
    "    else:\n",
    "        return True"
   ]
  },
  {
   "cell_type": "code",
   "execution_count": 30,
   "metadata": {
    "scrolled": true
   },
   "outputs": [
    {
     "name": "stdout",
     "output_type": "stream",
     "text": [
      "Whether inherent switching_stone_coordinate_set before? (y or n)n\n",
      "continue?1\n",
      "started 0\n",
      "dsag\n",
      "0\n",
      "[[0.023567786778194467, 0.682421107545821, -0.29897991247045147], [0.0660945121987683, 0.7080379855907365, 0.03821861297514989], [0.06620392468146412, 0.7427309922034518, 0.029615964681256268], [0.08394517617033899, 0.664738420476875, 0.03240211104261076]]\n",
      "[[-1.4550371090740861, 0.446105548943404, (-0.10562801314344909, 0.0165836332164313, -0.9750882584058667)], [-2.9094888155146377, 0.446105548943404, (-0.015406254249173398, 0.047805803818730785, -0.9152561185467837)], [1.2357722157140798, 0.4808872801953352, (-0.004576729331605193, -0.001476654405563604, -0.928909006383036)], [1.786881299091683, 0.4101273405414903, (0.008382273891184629, 0.012811384129282217, -0.9723381815631214)]]\n",
      "[] [] []\n",
      "[('h', 0), ('h', 1), ('h', 2), ('h', 3)]\n",
      "Go_index 1\n",
      "worldPstone [0.06609451 0.70803799 0.03821861 1.        ]\n",
      "tcpTstone [[0.16184409]\n",
      " [0.02213439]\n",
      " [0.12664537]\n",
      " [1.        ]]\n",
      "<Transform:\n",
      "<Orientation: \n",
      "array([[ 0.04290745, -0.01806757,  0.99891567],\n",
      "       [-0.02153275,  0.9995875 ,  0.01900464],\n",
      "       [-0.99884698, -0.02232484,  0.04250071]])>\n",
      "<Vector: (0.12617, -0.12341, 0.00748)>\n",
      ">\n",
      "[[ 3.74939946e-33 -1.00000000e+00 -6.12323400e-17 -2.00000000e-03]\n",
      " [ 6.12323400e-17  6.12323400e-17 -1.00000000e+00 -2.06965309e-17]\n",
      " [ 1.00000000e+00  0.00000000e+00  6.12323400e-17 -3.40000000e-01]\n",
      " [ 0.00000000e+00  0.00000000e+00  0.00000000e+00  1.00000000e+00]]\n",
      "n_normalize [-0.01680744  0.05215369 -0.99849762]\n",
      "tcpTnormal [[ 0.08788771]\n",
      " [ 0.01933202]\n",
      " [-1.21290538]\n",
      " [ 1.        ]]\n",
      "continue?1\n",
      "started 1\n",
      "dsag\n",
      "1\n",
      "[[0.026854809210408892, 0.7006544666636901, 0.04078026656893158], [0.07633708856907497, 0.7136005899387391, 0.0377570212922535], [0.0845378670994379, 0.663110994397225, 0.03236901000998271]]\n",
      "[[-2.5829933382462307, 0.5467888408892468, (-0.01870541497788166, 0.008642216946229419, -0.972382609400332)], [2.677945044588987, 0.446105548943404, (-0.03659309356230064, 0.019420106556570494, -0.9523800307639382)], [1.8684328178877032, 0.4101273405414903, (0.00505731443446985, 0.09159068236148224, -0.9790864979009353)]]\n",
      "[] [] []\n",
      "[('h', 0), ('h', 1), ('h', 2)]\n",
      "Go_index 0\n",
      "worldPstone [0.02685481 0.70065447 0.04078027 1.        ]\n",
      "tcpTstone [[ 0.15498644]\n",
      " [-0.01715622]\n",
      " [ 0.12380786]\n",
      " [ 1.        ]]\n",
      "<Transform:\n",
      "<Orientation: \n",
      "array([[ 0.04290745, -0.01806757,  0.99891567],\n",
      "       [-0.02153275,  0.9995875 ,  0.01900464],\n",
      "       [-0.99884698, -0.02232484,  0.04250071]])>\n",
      "<Vector: (0.12617, -0.12341, 0.00748)>\n",
      ">\n",
      "[[ 3.74939946e-33 -1.00000000e+00 -6.12323400e-17 -2.00000000e-03]\n",
      " [ 6.12323400e-17  6.12323400e-17 -1.00000000e+00 -2.06965309e-17]\n",
      " [ 1.00000000e+00  0.00000000e+00  6.12323400e-17 -3.40000000e-01]\n",
      " [ 0.00000000e+00  0.00000000e+00  0.00000000e+00  1.00000000e+00]]\n",
      "n_normalize [-0.01923236  0.00888568 -0.99977556]\n",
      "tcpTnormal [[ 0.13110994]\n",
      " [ 0.01599825]\n",
      " [-1.21350422]\n",
      " [ 1.        ]]\n"
     ]
    },
    {
     "ename": "KeyboardInterrupt",
     "evalue": "",
     "output_type": "error",
     "traceback": [
      "\u001b[0;31m-----------------------------------------\u001b[0m",
      "\u001b[0;31mKeyboardInterrupt\u001b[0mTraceback (most recent call last)",
      "\u001b[0;32m<ipython-input-30-870b9bf31d52>\u001b[0m in \u001b[0;36m<module>\u001b[0;34m()\u001b[0m\n\u001b[1;32m     17\u001b[0m \u001b[0;32mwhile\u001b[0m \u001b[0mTrue\u001b[0m\u001b[0;34m:\u001b[0m\u001b[0;34m\u001b[0m\u001b[0m\n\u001b[1;32m     18\u001b[0m     \u001b[0;32mwhile\u001b[0m \u001b[0mTrue\u001b[0m\u001b[0;34m:\u001b[0m\u001b[0;34m\u001b[0m\u001b[0m\n\u001b[0;32m---> 19\u001b[0;31m         \u001b[0mif_continue\u001b[0m \u001b[0;34m=\u001b[0m \u001b[0mraw_input\u001b[0m\u001b[0;34m(\u001b[0m\u001b[0;34m\"continue?\"\u001b[0m\u001b[0;34m)\u001b[0m\u001b[0;34m\u001b[0m\u001b[0m\n\u001b[0m\u001b[1;32m     20\u001b[0m         \u001b[0;32mif\u001b[0m \u001b[0mif_continue\u001b[0m \u001b[0;34m!=\u001b[0m \u001b[0;34m''\u001b[0m\u001b[0;34m:\u001b[0m\u001b[0;34m\u001b[0m\u001b[0m\n\u001b[1;32m     21\u001b[0m             \u001b[0;32mbreak\u001b[0m\u001b[0;34m\u001b[0m\u001b[0m\n",
      "\u001b[0;32m/home/terry/anaconda3/envs/ros_control/lib/python2.7/site-packages/ipykernel/kernelbase.pyc\u001b[0m in \u001b[0;36mraw_input\u001b[0;34m(self, prompt)\u001b[0m\n\u001b[1;32m    702\u001b[0m             \u001b[0mself\u001b[0m\u001b[0;34m.\u001b[0m\u001b[0m_parent_ident\u001b[0m\u001b[0;34m,\u001b[0m\u001b[0;34m\u001b[0m\u001b[0m\n\u001b[1;32m    703\u001b[0m             \u001b[0mself\u001b[0m\u001b[0;34m.\u001b[0m\u001b[0m_parent_header\u001b[0m\u001b[0;34m,\u001b[0m\u001b[0;34m\u001b[0m\u001b[0m\n\u001b[0;32m--> 704\u001b[0;31m             \u001b[0mpassword\u001b[0m\u001b[0;34m=\u001b[0m\u001b[0mFalse\u001b[0m\u001b[0;34m,\u001b[0m\u001b[0;34m\u001b[0m\u001b[0m\n\u001b[0m\u001b[1;32m    705\u001b[0m         )\n\u001b[1;32m    706\u001b[0m \u001b[0;34m\u001b[0m\u001b[0m\n",
      "\u001b[0;32m/home/terry/anaconda3/envs/ros_control/lib/python2.7/site-packages/ipykernel/kernelbase.pyc\u001b[0m in \u001b[0;36m_input_request\u001b[0;34m(self, prompt, ident, parent, password)\u001b[0m\n\u001b[1;32m    732\u001b[0m             \u001b[0;32mexcept\u001b[0m \u001b[0mKeyboardInterrupt\u001b[0m\u001b[0;34m:\u001b[0m\u001b[0;34m\u001b[0m\u001b[0m\n\u001b[1;32m    733\u001b[0m                 \u001b[0;31m# re-raise KeyboardInterrupt, to truncate traceback\u001b[0m\u001b[0;34m\u001b[0m\u001b[0;34m\u001b[0m\u001b[0m\n\u001b[0;32m--> 734\u001b[0;31m                 \u001b[0;32mraise\u001b[0m \u001b[0mKeyboardInterrupt\u001b[0m\u001b[0;34m\u001b[0m\u001b[0m\n\u001b[0m\u001b[1;32m    735\u001b[0m             \u001b[0;32melse\u001b[0m\u001b[0;34m:\u001b[0m\u001b[0;34m\u001b[0m\u001b[0m\n\u001b[1;32m    736\u001b[0m                 \u001b[0;32mbreak\u001b[0m\u001b[0;34m\u001b[0m\u001b[0m\n",
      "\u001b[0;31mKeyboardInterrupt\u001b[0m: "
     ]
    }
   ],
   "source": [
    "def distane_to_bowl_center(point_coordinate):\n",
    "    return sqrt((point_coordinate[0]-0.05)**2+(point_coordinate[1]-0.69)**2)\n",
    "\n",
    "stone_img_count = 0\n",
    "ver_json_error = False\n",
    "hori_json_error = False\n",
    "if 'switching_stone_coordinate_set' in dir():\n",
    "    while True:\n",
    "        whether_inherent = raw_input(\"Whether inherent switching_stone_coordinate_set before? (y or n)\")\n",
    "        if whether_inherent == 'n':\n",
    "            switching_stone_coordinate_set=[]\n",
    "            break\n",
    "        elif whether_inherent == 'y':\n",
    "            break\n",
    "else:\n",
    "    switching_stone_coordinate_set = []\n",
    "while True:\n",
    "    while True:\n",
    "        if_continue = raw_input(\"continue?\")\n",
    "        if if_continue != '':\n",
    "            break\n",
    "    go_to_safe_place()\n",
    "    signal.signal(signal.SIGALRM, myHandler)\n",
    "    signal.setitimer(signal.ITIMER_REAL, 0.005)\n",
    "    ser.write('1000')\n",
    "    signal.setitimer(signal.ITIMER_REAL, 0)    \n",
    "    Robotiq.goto(robotiq_client, pos=0.023, speed=0.5, force=10, block=True)\n",
    "    rospy.sleep(1)\n",
    "    go_to_home()\n",
    "    rospy.sleep(1)\n",
    "    hori_Go_stone_number = None\n",
    "    ver_Go_stone_number = None\n",
    "    Go_stone_dir_sorted = []\n",
    "    hori_pose_Go_stone_set = []\n",
    "    yaw_pitch_normal_set = []\n",
    "    hori_box_set = []\n",
    "    ver_pose_Go_stone_set = []\n",
    "    gripper_direction_set = []\n",
    "    gripper_aperture_set = []\n",
    "    is_send_stone_img = 1\n",
    "    print 'started', stone_img_count\n",
    "    while True:\n",
    "        if hori_Go_stone_number != None and hori_Go_stone_number == len(hori_box_set) and ver_Go_stone_number != None and ver_Go_stone_number == len(gripper_aperture_set):\n",
    "            break\n",
    "        elif hori_Go_stone_number != None and hori_Go_stone_number == len(hori_box_set) and ver_Go_stone_number != None and ver_json_error==True:\n",
    "            rospy.sleep(0.5)\n",
    "            break   \n",
    "        elif hori_Go_stone_number != None and hori_json_error==True:\n",
    "            rospy.sleep(0.5)\n",
    "            break   \n",
    "        rospy.sleep(0.1)   \n",
    "    print hori_pose_Go_stone_set\n",
    "    print yaw_pitch_normal_set\n",
    "    print ver_pose_Go_stone_set, gripper_direction_set, gripper_aperture_set\n",
    "    priority_list = []\n",
    "    if ver_pose_Go_stone_set == []:\n",
    "        for index_hori in range(len(hori_pose_Go_stone_set)):\n",
    "            priority_list.append(('h', index_hori))\n",
    "    elif hori_pose_Go_stone_set == []:\n",
    "        for index_ver in range(len(ver_pose_Go_stone_set)):\n",
    "            priority_list.append(('v', index_ver))\n",
    "    else:\n",
    "        for index_hori in range(len(hori_pose_Go_stone_set)):\n",
    "            for index_ver in range(len(ver_pose_Go_stone_set)):\n",
    "                if hori_pose_Go_stone_set[index_hori][2]<=ver_pose_Go_stone_set[index_ver][2]-0.002 and ('v', index_ver) not in priority_list:\n",
    "                    priority_list.append(('v', index_ver))\n",
    "                v_num = 0\n",
    "                for element in priority_list:\n",
    "                    if element[0]=='v':\n",
    "                        v_num+=1\n",
    "                if (v_num == len(ver_pose_Go_stone_set) or hori_pose_Go_stone_set[index_hori][2]>ver_pose_Go_stone_set[index_ver][2]-0.002) and ('h', index_hori) not in priority_list:\n",
    "                    priority_list.append(('h', index_hori))\n",
    "        for index_ver in range(len(ver_pose_Go_stone_set)):\n",
    "            if ('v', index_ver) not in priority_list:\n",
    "                priority_list.append(('v', index_ver))\n",
    "    print priority_list\n",
    "    for index in priority_list:\n",
    "        '''\n",
    "        if index[0]=='v':\n",
    "            if ver_pose_Go_stone_set[index[1]]==[None, None, None]:\n",
    "                continue\n",
    "            if ver_pose_Go_stone_set[index[1]][2]<0.02:\n",
    "                continue\n",
    "            if ver_pose_Go_stone_set[index[1]][2]>0.075:\n",
    "                continue\n",
    "            if direct_pick_collision_check(index[1])==False:\n",
    "                direct_pick_execute(index[1])\n",
    "                break\n",
    "        '''\n",
    "        if index[0]=='h':\n",
    "            if hori_pose_Go_stone_set[index[1]]==[None, None, None]:\n",
    "                continue  \n",
    "            if hori_pose_Go_stone_set[index[1]][2]<0.02:\n",
    "                continue\n",
    "            if hori_pose_Go_stone_set[index[1]][2]>0.075:\n",
    "                continue\n",
    "            if distane_to_bowl_center(hori_pose_Go_stone_set[index[1]])<0.05:\n",
    "                scoop4(index[1])\n",
    "                break\n",
    "            '''\n",
    "            else:\n",
    "                if scoop_collision_check(index[1])==False:\n",
    "                    scoop_execute(index[1]) \n",
    "                    break\n",
    "            '''"
   ]
  },
  {
   "cell_type": "code",
   "execution_count": 22,
   "metadata": {},
   "outputs": [
    {
     "data": {
      "text/plain": [
       "-0.00036053187216207854"
      ]
     },
     "execution_count": 22,
     "metadata": {},
     "output_type": "execute_result"
    }
   ],
   "source": [
    "((0.075-0.07522677506936579)+(0.05-0.050549765559007184)+(0.025-0.024505401570517785)+(0.025-0.02616018528975756))/4.0"
   ]
  },
  {
   "cell_type": "code",
   "execution_count": 23,
   "metadata": {
    "scrolled": true
   },
   "outputs": [
    {
     "data": {
      "text/plain": [
       "0.001775686099330348"
      ]
     },
     "execution_count": 23,
     "metadata": {},
     "output_type": "execute_result"
    }
   ],
   "source": [
    "((0.675-0.6743803927431379)+(0.675-0.6735048336785908)+(0.7-0.6976843453451326)+(0.65-0.6473276838358174))/4.0"
   ]
  },
  {
   "cell_type": "code",
   "execution_count": 30,
   "metadata": {},
   "outputs": [],
   "source": [
    "Robotiq.goto(robotiq_client, pos=0.021, speed=0.000001, force=1, block=True)\n",
    "#servo_pub.publish(180)\n",
    "#softtip()"
   ]
  },
  {
   "cell_type": "code",
   "execution_count": 41,
   "metadata": {},
   "outputs": [],
   "source": [
    "Robotiq.goto(robotiq_client, pos=0.8, speed=0.000001, force=1, block=True)"
   ]
  },
  {
   "cell_type": "code",
   "execution_count": 18,
   "metadata": {},
   "outputs": [
    {
     "ename": "NameError",
     "evalue": "name 'tcpTnormal' is not defined",
     "output_type": "error",
     "traceback": [
      "\u001b[0;31m-----------------------------------------\u001b[0m",
      "\u001b[0;31mNameError\u001b[0mTraceback (most recent call last)",
      "\u001b[0;32m<ipython-input-18-1b886378edf1>\u001b[0m in \u001b[0;36m<module>\u001b[0;34m()\u001b[0m\n\u001b[0;32m----> 1\u001b[0;31m \u001b[0mtcpTnormal\u001b[0m\u001b[0;34m\u001b[0m\u001b[0m\n\u001b[0m",
      "\u001b[0;31mNameError\u001b[0m: name 'tcpTnormal' is not defined"
     ]
    }
   ],
   "source": [
    "tcpTnormal"
   ]
  },
  {
   "cell_type": "code",
   "execution_count": 9,
   "metadata": {},
   "outputs": [
    {
     "data": {
      "text/plain": [
       "<Transform:\n",
       "<Orientation: \n",
       "array([[-0.01308933,  0.99989511,  0.00619996],\n",
       "       [ 0.99991303,  0.01307907,  0.00169334],\n",
       "       [ 0.00161207,  0.00622159, -0.99997935]])>\n",
       "<Vector: (0.04282, 0.80750, 0.45825)>\n",
       ">"
      ]
     },
     "execution_count": 9,
     "metadata": {},
     "output_type": "execute_result"
    }
   ],
   "source": [
    "go_to_safe_place()\n",
    "hardtip()\n",
    "Robotiq.goto(robotiq_client, pos=0.023, speed=0.1, force=10, block=True)\n",
    "servo_pub.publish(10)    \n",
    "pos_x = rob.get_pose().pos.x+0.007\n",
    "pos_y = rob.get_pose().pos.y-0.001\n",
    "rospy.sleep(0.5)\n",
    "rob.translate((0.05-pos_x,0.85-pos_y,0), acc=0.1, vel=0.4, wait=True)\n",
    "rob.movel_tool((0,0,0,0,0,0),acc=0.1, vel=0.2)\n",
    "rob.translate_tool((0.0065,0,0),acc=0.1, vel=0.2)"
   ]
  },
  {
   "cell_type": "code",
   "execution_count": 75,
   "metadata": {},
   "outputs": [],
   "source": [
    "rob.set_tcp((-0.02, 0, 0.342, 0, 0, 0))\n",
    "rospy.sleep(0.5)\n",
    "#if np.cross([fingertip2normal[0], fingertip2normal[1]], [-sin(alpha), cos(alpha)])>0:\n",
    "rob.movel_tool((0,0,0,0,pi/6,0), acc=0.3, vel=0.8, wait=True)\n",
    "rob.movel_tool((0,0,0,0,-pi/6,0), acc=0.3, vel=0.8, wait=True)\n",
    "rob.set_tcp((0, 0, 0, 0, 0, 0))\n",
    "rospy.sleep(0.5)"
   ]
  },
  {
   "cell_type": "code",
   "execution_count": 37,
   "metadata": {},
   "outputs": [
    {
     "data": {
      "text/plain": [
       "<Transform:\n",
       "<Orientation: \n",
       "array([[-0.01329421,  0.99989335,  0.00604565],\n",
       "       [ 0.99990707,  0.01327565,  0.00310065],\n",
       "       [ 0.00302006,  0.00608631, -0.99997692]])>\n",
       "<Vector: (0.07290, 0.66112, 0.45890)>\n",
       ">"
      ]
     },
     "execution_count": 37,
     "metadata": {},
     "output_type": "execute_result"
    }
   ],
   "source": [
    "        hardtip()\n",
    "        go_to_safe_place()\n",
    "        pos_x = rob.get_pose().pos.x+0.007\n",
    "        pos_y = rob.get_pose().pos.y-0.001\n",
    "\n",
    "        rob.translate((0.05-pos_x+0.03,0.69-pos_y-0.03,0), acc=0.1, vel=0.4, wait=True)\n",
    "        rob.translate((0,0,-0.075), acc=0.1, vel=0.4, wait=True)\n",
    "        rob.translate((0,0.06,0), acc=0.1, vel=0.4, wait=True)\n",
    "        rob.translate((-0.06,0,0), acc=0.1, vel=0.4, wait=True)\n",
    "        rob.translate((0,-0.06,0), acc=0.1, vel=0.4, wait=True)\n",
    "        rob.translate((0.06,0,0), acc=0.1, vel=0.4, wait=True)\n",
    "        rob.translate((0,0,0.075), acc=0.01, vel=0.05, wait=True)     \n"
   ]
  },
  {
   "cell_type": "code",
   "execution_count": 20,
   "metadata": {},
   "outputs": [],
   "source": [
    "Robotiq.goto(robotiq_client, pos=40*0.14/48.0+1.12/48.0, speed=0.1, force=10, block=True)"
   ]
  },
  {
   "cell_type": "code",
   "execution_count": 74,
   "metadata": {},
   "outputs": [
    {
     "data": {
      "text/plain": [
       "<Transform:\n",
       "<Orientation: \n",
       "array([[-0.01299897,  0.99989554,  0.00632014],\n",
       "       [ 0.99991464,  0.01299036,  0.00140147],\n",
       "       [ 0.00131922,  0.00633782, -0.99997905]])>\n",
       "<Vector: (0.04338, 0.86854, 0.45810)>\n",
       ">"
      ]
     },
     "execution_count": 74,
     "metadata": {},
     "output_type": "execute_result"
    }
   ],
   "source": [
    "go_to_safe_place()\n",
    "Robotiq.goto(robotiq_client, pos=4*0.14/48.0+1.12/48.0, speed=0.1, force=10, block=True)\n",
    "rob.movel_tool((0,0,0,0,0,0),acc=0.1, vel=0.2)\n",
    "tcp2fingertip=m3d.Transform()\n",
    "tcp2fingertip.pos.x = -0.02 # need change\n",
    "tcp2fingertip.pos.z = 0.342 # need change\n",
    "world2tcp = rob.get_pose()\n",
    "world2tcp.pos.x+=0.004\n",
    "world2tcp.pos.y+=0.001\n",
    "world2fingertip=(world2tcp*tcp2fingertip)\n",
    "rob.translate((0.05-world2fingertip.pos.x,0.85-world2fingertip.pos.y,0), acc=0.3, vel=0.8, wait=True)\n",
    "#rob.translate((0,0,-0.068), acc=0.1, vel=0.4, wait=True)"
   ]
  },
  {
   "cell_type": "code",
   "execution_count": 5,
   "metadata": {},
   "outputs": [
    {
     "name": "stdout",
     "output_type": "stream",
     "text": [
      "[[ 0.02153275 -0.9995875  -0.01900464  0.1234057 ]\n",
      " [ 0.99884698  0.02232484 -0.04250071 -0.0074811 ]\n",
      " [ 0.04290745 -0.01806757  0.99891567  0.126173  ]\n",
      " [ 0.          0.          0.          1.        ]]\n"
     ]
    }
   ],
   "source": [
    "    eeTcam = m3d.Transform()\n",
    "    eeTcam.pos = (0.076173+0.05, -0.0934057-0.03, 0.0074811)\n",
    "    eeTcam_e = tf.transformations.euler_from_quaternion([-0.0143125,0.69183,-0.0012,0.722039], axes='sxyz')\n",
    "    eeTcam.orient.rotate_xb(eeTcam_e[0])\n",
    "    eeTcam.orient.rotate_yb(eeTcam_e[1])\n",
    "    eeTcam.orient.rotate_zb(eeTcam_e[2])\n",
    "    tcpTee = np.array([[0,-1,0,0], [0,0,-1,0], [1,0,0,0], [0,0,0,1]])\n",
    "    tcp2cam = np.matmul(tcpTee, eeTcam.get_matrix())\n",
    "    print tcp2cam"
   ]
  },
  {
   "cell_type": "code",
   "execution_count": 3,
   "metadata": {},
   "outputs": [
    {
     "ename": "KeyboardInterrupt",
     "evalue": "",
     "output_type": "error",
     "traceback": [
      "\u001b[0;31m---------------------------------------------------------------------------\u001b[0m",
      "\u001b[0;31mKeyboardInterrupt\u001b[0m                         Traceback (most recent call last)",
      "\u001b[0;32m<ipython-input-3-03cbd7126563>\u001b[0m in \u001b[0;36m<module>\u001b[0;34m()\u001b[0m\n\u001b[0;32m----> 1\u001b[0;31m \u001b[0msofttip\u001b[0m\u001b[0;34m(\u001b[0m\u001b[0;34m)\u001b[0m\u001b[0;34m\u001b[0m\u001b[0m\n\u001b[0m",
      "\u001b[0;32m<ipython-input-2-ca80d75da120>\u001b[0m in \u001b[0;36msofttip\u001b[0;34m()\u001b[0m\n\u001b[1;32m      9\u001b[0m     \u001b[0mbaudRate\u001b[0m \u001b[0;34m=\u001b[0m \u001b[0;36m57600\u001b[0m\u001b[0;34m\u001b[0m\u001b[0m\n\u001b[1;32m     10\u001b[0m     \u001b[0mser\u001b[0m \u001b[0;34m=\u001b[0m \u001b[0mserial\u001b[0m\u001b[0;34m.\u001b[0m\u001b[0mSerial\u001b[0m\u001b[0;34m(\u001b[0m\u001b[0mserialPort\u001b[0m\u001b[0;34m,\u001b[0m \u001b[0mbaudRate\u001b[0m\u001b[0;34m,\u001b[0m \u001b[0mtimeout\u001b[0m\u001b[0;34m=\u001b[0m\u001b[0;36m0.5\u001b[0m\u001b[0;34m)\u001b[0m\u001b[0;34m\u001b[0m\u001b[0m\n\u001b[0;32m---> 11\u001b[0;31m     \u001b[0mser\u001b[0m\u001b[0;34m.\u001b[0m\u001b[0mwrite\u001b[0m\u001b[0;34m(\u001b[0m\u001b[0;34m'2090'\u001b[0m\u001b[0;34m)\u001b[0m\u001b[0;34m\u001b[0m\u001b[0m\n\u001b[0m\u001b[1;32m     12\u001b[0m     \u001b[0msignal\u001b[0m\u001b[0;34m.\u001b[0m\u001b[0msignal\u001b[0m\u001b[0;34m(\u001b[0m\u001b[0msignal\u001b[0m\u001b[0;34m.\u001b[0m\u001b[0mSIGALRM\u001b[0m\u001b[0;34m,\u001b[0m \u001b[0mmyHandler\u001b[0m\u001b[0;34m)\u001b[0m\u001b[0;34m\u001b[0m\u001b[0m\n\u001b[1;32m     13\u001b[0m     \u001b[0msignal\u001b[0m\u001b[0;34m.\u001b[0m\u001b[0malarm\u001b[0m\u001b[0;34m(\u001b[0m\u001b[0;36m1\u001b[0m\u001b[0;34m)\u001b[0m\u001b[0;34m\u001b[0m\u001b[0m\n",
      "\u001b[0;32m/home/terry/anaconda3/envs/ros_control/lib/python2.7/site-packages/serial/serialposix.pyc\u001b[0m in \u001b[0;36mwrite\u001b[0;34m(self, data)\u001b[0m\n\u001b[1;32m    554\u001b[0m                     \u001b[0;32massert\u001b[0m \u001b[0mtimeout\u001b[0m\u001b[0;34m.\u001b[0m\u001b[0mtime_left\u001b[0m\u001b[0;34m(\u001b[0m\u001b[0;34m)\u001b[0m \u001b[0;32mis\u001b[0m \u001b[0mNone\u001b[0m\u001b[0;34m\u001b[0m\u001b[0m\n\u001b[1;32m    555\u001b[0m                     \u001b[0;31m# wait for write operation\u001b[0m\u001b[0;34m\u001b[0m\u001b[0;34m\u001b[0m\u001b[0m\n\u001b[0;32m--> 556\u001b[0;31m                     \u001b[0mabort\u001b[0m\u001b[0;34m,\u001b[0m \u001b[0mready\u001b[0m\u001b[0;34m,\u001b[0m \u001b[0m_\u001b[0m \u001b[0;34m=\u001b[0m \u001b[0mselect\u001b[0m\u001b[0;34m.\u001b[0m\u001b[0mselect\u001b[0m\u001b[0;34m(\u001b[0m\u001b[0;34m[\u001b[0m\u001b[0mself\u001b[0m\u001b[0;34m.\u001b[0m\u001b[0mpipe_abort_write_r\u001b[0m\u001b[0;34m]\u001b[0m\u001b[0;34m,\u001b[0m \u001b[0;34m[\u001b[0m\u001b[0mself\u001b[0m\u001b[0;34m.\u001b[0m\u001b[0mfd\u001b[0m\u001b[0;34m]\u001b[0m\u001b[0;34m,\u001b[0m \u001b[0;34m[\u001b[0m\u001b[0;34m]\u001b[0m\u001b[0;34m,\u001b[0m \u001b[0mNone\u001b[0m\u001b[0;34m)\u001b[0m\u001b[0;34m\u001b[0m\u001b[0m\n\u001b[0m\u001b[1;32m    557\u001b[0m                     \u001b[0;32mif\u001b[0m \u001b[0mabort\u001b[0m\u001b[0;34m:\u001b[0m\u001b[0;34m\u001b[0m\u001b[0m\n\u001b[1;32m    558\u001b[0m                         \u001b[0mos\u001b[0m\u001b[0;34m.\u001b[0m\u001b[0mread\u001b[0m\u001b[0;34m(\u001b[0m\u001b[0mself\u001b[0m\u001b[0;34m.\u001b[0m\u001b[0mpipe_abort_write_r\u001b[0m\u001b[0;34m,\u001b[0m \u001b[0;36m1\u001b[0m\u001b[0;34m)\u001b[0m\u001b[0;34m\u001b[0m\u001b[0m\n",
      "\u001b[0;31mKeyboardInterrupt\u001b[0m: "
     ]
    }
   ],
   "source": [
    "softtip()"
   ]
  },
  {
   "cell_type": "code",
   "execution_count": 42,
   "metadata": {},
   "outputs": [],
   "source": [
    "rob.set_tcp((0.006, 0, 0.3734, 0, 0, 0))\n",
    "rospy.sleep(0.5)\n",
    "rob.movel_tool((0,0,0,0,pi/6,0), acc=0.5, vel=0.8, wait=True)\n",
    "rob.movel_tool((0,0,0,0,-pi/6,0), acc=0.5, vel=0.8, wait=True)\n",
    "rob.set_tcp((0, 0, 0, 0, 0, 0))\n",
    "rospy.sleep(0.5)"
   ]
  },
  {
   "cell_type": "code",
   "execution_count": 29,
   "metadata": {},
   "outputs": [],
   "source": [
    "go_to_safe_place()"
   ]
  },
  {
   "cell_type": "code",
   "execution_count": 31,
   "metadata": {},
   "outputs": [],
   "source": [
    "softtip()\n",
    "hardtip()"
   ]
  },
  {
   "cell_type": "code",
   "execution_count": 153,
   "metadata": {},
   "outputs": [],
   "source": [
    "    servo_pub.publish(180)\n",
    "    rospy.sleep(1)\n"
   ]
  },
  {
   "cell_type": "code",
   "execution_count": 116,
   "metadata": {},
   "outputs": [
    {
     "name": "stdout",
     "output_type": "stream",
     "text": [
      "<Transform:\n",
      "<Orientation: \n",
      "array([[-0.01308334,  0.99989484,  0.00625631],\n",
      "       [ 0.99991303,  0.01307268,  0.00174152],\n",
      "       [ 0.00165955,  0.00627855, -0.99997891]])>\n",
      "<Vector: (0.04541, 0.54392, 0.09884)>\n",
      ">\n"
     ]
    }
   ],
   "source": [
    "rob.set_tcp((0, 0, 0.35947, 0, 0, 0))\n",
    "rospy.sleep(1)\n",
    "print rob.get_pose()\n",
    "rob.set_tcp((0, 0, 0, 0, 0, 0))\n",
    "rospy.sleep(1)"
   ]
  },
  {
   "cell_type": "code",
   "execution_count": 24,
   "metadata": {},
   "outputs": [
    {
     "name": "stdout",
     "output_type": "stream",
     "text": [
      "1.00144481659\n",
      "2\n"
     ]
    }
   ],
   "source": [
    "import serial\n",
    "import signal\n",
    "import time\n",
    "serialPort = \"/dev/Arduino\"\n",
    "baudRate = 57600\n",
    "ser = serial.Serial(serialPort, baudRate, timeout=0.5)\n",
    "time0 = time.time()\n",
    "def myHandler(signum, frame):\n",
    "    pass\n",
    "signal.signal(signal.SIGALRM, myHandler)\n",
    "signal.setitimer(signal.ITIMER_REAL, 0.001)\n",
    "ser.write('1180')\n",
    "signal.setitimer(signal.ITIMER_REAL, 0)\n",
    "time.sleep(1)\n",
    "print time.time()-time0\n",
    "print '2'"
   ]
  },
  {
   "cell_type": "code",
   "execution_count": 21,
   "metadata": {},
   "outputs": [],
   "source": [
    "\n",
    "softtip()"
   ]
  },
  {
   "cell_type": "code",
   "execution_count": 24,
   "metadata": {},
   "outputs": [
    {
     "data": {
      "text/plain": [
       "True"
      ]
     },
     "execution_count": 24,
     "metadata": {},
     "output_type": "execute_result"
    }
   ],
   "source": [
    "hori_pose_Go_stone_set[index[1]][0]>point0[0]-0.015 and hori_pose_Go_stone_set[index[1]][0]<point0[0]+0.015 and hori_pose_Go_stone_set[index[1]][1]>point0[1]-0.015 and hori_pose_Go_stone_set[index[1]][1]<point0[1]+0.015 and hori_pose_Go_stone_set[index[1]][2]<point0[2]"
   ]
  },
  {
   "cell_type": "code",
   "execution_count": 28,
   "metadata": {},
   "outputs": [],
   "source": [
    "#go_to_safe_place()\n",
    "rob.set_tcp((0, 0, 0.36142, 0, 0, 0))\n",
    "rospy.sleep(0.5)\n",
    "\n",
    "move = m3d.Transform((0.8-rob.get_pose().pos.y+0.001, 0.05-rob.get_pose().pos.x-0.004, 0, 0, 0, 0))    \n",
    "rob.add_pose_tool( move, acc=0.3, vel=1, wait=True, command=\"movel\", threshold=None)\n",
    "rob.set_tcp((0, 0, 0, 0, 0, 0))\n",
    "rospy.sleep(0.5)"
   ]
  },
  {
   "cell_type": "code",
   "execution_count": 39,
   "metadata": {},
   "outputs": [
    {
     "data": {
      "text/plain": [
       "<Transform:\n",
       "<Orientation: \n",
       "array([[-0.01297587,  0.99989633,  0.00624184],\n",
       "       [ 0.99991459,  0.01296587,  0.00163983],\n",
       "       [ 0.00155873,  0.00626258, -0.99997917]])>\n",
       "<Vector: (0.04543, 0.54389, 0.09685)>\n",
       ">"
      ]
     },
     "execution_count": 39,
     "metadata": {},
     "output_type": "execute_result"
    }
   ],
   "source": [
    "rob.set_tcp((0, 0, 0.36142, 0, 0, 0))\n",
    "rospy.sleep(0.5)\n",
    "rob.get_pose()"
   ]
  },
  {
   "cell_type": "code",
   "execution_count": 23,
   "metadata": {},
   "outputs": [],
   "source": [
    "go_to_end_place()"
   ]
  },
  {
   "cell_type": "code",
   "execution_count": 17,
   "metadata": {},
   "outputs": [],
   "source": [
    "      Robotiq.goto(robotiq_client, pos=0.8, speed=0.5, force=10, block=True)\n"
   ]
  },
  {
   "cell_type": "code",
   "execution_count": 20,
   "metadata": {},
   "outputs": [],
   "source": [
    "softtip()"
   ]
  },
  {
   "cell_type": "code",
   "execution_count": 30,
   "metadata": {},
   "outputs": [
    {
     "name": "stdout",
     "output_type": "stream",
     "text": [
      "4\n"
     ]
    }
   ],
   "source": [
    "signal.setitimer(signal.ITIMER_REAL, 0.001)\n",
    "ser.write('1000')\n",
    "time.sleep(1)\n",
    "signal.setitimer(signal.ITIMER_REAL, 0)\n",
    "for k0 in range(0, 81, 4):\n",
    "    signal.setitimer(signal.ITIMER_REAL, 0.001)\n",
    "    ser.write('1'+str(k0))\n",
    "    signal.setitimer(signal.ITIMER_REAL, 0)\n",
    "    time.sleep(0.2)\n",
    "print 4"
   ]
  },
  {
   "cell_type": "code",
   "execution_count": 89,
   "metadata": {},
   "outputs": [
    {
     "name": "stdout",
     "output_type": "stream",
     "text": [
      "1100\n",
      "198\n",
      "196\n",
      "194\n",
      "192\n",
      "190\n",
      "188\n",
      "186\n",
      "184\n",
      "182\n",
      "180\n",
      "178\n",
      "176\n",
      "174\n",
      "172\n",
      "170\n",
      "4\n"
     ]
    }
   ],
   "source": [
    "time0=time.time()\n",
    "signal.setitimer(signal.ITIMER_REAL, 0)\n",
    "for k0 in range(0, -31, -2):\n",
    "    signal.setitimer(signal.ITIMER_REAL, 0.001)\n",
    "    ser.write('1'+str(100+k0))\n",
    "    print '1'+str(100+k0)\n",
    "    signal.setitimer(signal.ITIMER_REAL, 0)\n",
    "    time.sleep(0.1)\n",
    "print 4"
   ]
  },
  {
   "cell_type": "code",
   "execution_count": 30,
   "metadata": {},
   "outputs": [
    {
     "data": {
      "text/plain": [
       "<Transform:\n",
       "<Orientation: \n",
       "array([[-0.01306666,  0.99989477,  0.00630122],\n",
       "       [ 0.99991333,  0.01305622,  0.00169527],\n",
       "       [ 0.00161282,  0.00632282, -0.99997871]])>\n",
       "<Vector: (0.04322, 0.54326, 0.42337)>\n",
       ">"
      ]
     },
     "execution_count": 30,
     "metadata": {},
     "output_type": "execute_result"
    }
   ],
   "source": [
    "go_to_safe_place()\n",
    "rob.translate((0,0,-0.035), acc=0.1, vel=0.1, wait=True)"
   ]
  },
  {
   "cell_type": "code",
   "execution_count": 17,
   "metadata": {
    "scrolled": true
   },
   "outputs": [
    {
     "data": {
      "text/plain": [
       "[[0.04748682930698754, 0.6772187228828948, 0.03650951687510667],\n",
       " [0.04285301004949358, 0.6773116203834977, 0.04474243949710238],\n",
       " [0.020558080749336436, 0.7007856115591724, 0.05011494897992741],\n",
       " [0.04654879802776229, 0.7035219271723925, 0.06111810419601599],\n",
       " [0.03623374456712877, 0.6653812126120116, 0.05419025420948426],\n",
       " [0.06196829769648066, 0.687646955878628, 0.053823396522124034],\n",
       " [0.05775511489062693, 0.6660403423087387, 0.06140280538363507],\n",
       " [0.06572986499869145, 0.7087816075687934, 0.04626566310967978],\n",
       " [0.0769745887897275, 0.6758826107559193, 0.046508792057820714],\n",
       " [0.022329528772110585, 0.6842764932194296, 0.04333823667183745],\n",
       " [0.04992898805327124, 0.7293906219163122, 0.03750523331270783],\n",
       " [0.023780934590662446, 0.7260079873804601, 0.03652088731031233],\n",
       " [0.005551637499277247, 0.6835217107176383, 0.03491895253859206],\n",
       " [0.01950094174002195, 0.660207221543091, 0.036879290367629936],\n",
       " [0.03986341513255099, 0.6496814636328898, 0.036299742084113296],\n",
       " [0.07399919480295819, 0.6556476639586046, 0.039962960533337755]]"
      ]
     },
     "execution_count": 17,
     "metadata": {},
     "output_type": "execute_result"
    }
   ],
   "source": [
    "switching_stone_coordinate_set"
   ]
  },
  {
   "cell_type": "code",
   "execution_count": 32,
   "metadata": {},
   "outputs": [],
   "source": [
    "signal.setitimer(signal.ITIMER_REAL, 0.001)\n",
    "ser.write('1180')\n",
    "signal.setitimer(signal.ITIMER_REAL, 0)\n",
    "time.sleep(1)\n"
   ]
  },
  {
   "cell_type": "code",
   "execution_count": 48,
   "metadata": {},
   "outputs": [
    {
     "name": "stdout",
     "output_type": "stream",
     "text": [
      "2.68596196175\n"
     ]
    }
   ],
   "source": [
    "time0 = time.time()\n",
    "rob.translate((0, 0, -0.015), acc=0.01, vel=0.05, wait=True)\n",
    "print time.time()-time0"
   ]
  },
  {
   "cell_type": "code",
   "execution_count": 31,
   "metadata": {},
   "outputs": [],
   "source": [
    "Robotiq.goto(robotiq_client, pos=40*0.14/48.0+1.12/48.0, speed=0.1, force=10, block=True)"
   ]
  },
  {
   "cell_type": "code",
   "execution_count": 30,
   "metadata": {},
   "outputs": [],
   "source": [
    "Robotiq.goto(robotiq_client, pos=0.047, speed=0.5, force=10, block=True)"
   ]
  },
  {
   "cell_type": "code",
   "execution_count": 17,
   "metadata": {},
   "outputs": [],
   "source": [
    "softtip()"
   ]
  },
  {
   "cell_type": "code",
   "execution_count": 7,
   "metadata": {},
   "outputs": [],
   "source": [
    "go_to_safe_place()"
   ]
  },
  {
   "cell_type": "code",
   "execution_count": 43,
   "metadata": {},
   "outputs": [],
   "source": [
    "softtip()"
   ]
  },
  {
   "cell_type": "code",
   "execution_count": 46,
   "metadata": {},
   "outputs": [
    {
     "data": {
      "text/plain": [
       "8.114285714285712"
      ]
     },
     "execution_count": 46,
     "metadata": {},
     "output_type": "execute_result"
    }
   ],
   "source": [
    "(0.047-1.12/48.0)*48/0.14"
   ]
  },
  {
   "cell_type": "code",
   "execution_count": 32,
   "metadata": {},
   "outputs": [],
   "source": [
    "go_to_home()"
   ]
  },
  {
   "cell_type": "code",
   "execution_count": null,
   "metadata": {},
   "outputs": [],
   "source": []
  }
 ],
 "metadata": {
  "celltoolbar": "Slideshow",
  "kernelspec": {
   "display_name": "Python 2",
   "language": "python",
   "name": "python2"
  },
  "language_info": {
   "codemirror_mode": {
    "name": "ipython",
    "version": 2
   },
   "file_extension": ".py",
   "mimetype": "text/x-python",
   "name": "python",
   "nbconvert_exporter": "python",
   "pygments_lexer": "ipython2",
   "version": "2.7.18"
  }
 },
 "nbformat": 4,
 "nbformat_minor": 2
}
