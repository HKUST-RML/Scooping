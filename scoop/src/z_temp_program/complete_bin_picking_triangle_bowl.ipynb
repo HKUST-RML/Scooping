{
 "cells": [
  {
   "cell_type": "code",
   "execution_count": 2,
   "metadata": {},
   "outputs": [],
   "source": [
    "#!/usr/bin/env python\n",
    "import os\n",
    "import sys\n",
    "import rospy\n",
    "import copy\n",
    "import random\n",
    "import tf\n",
    "import cv2\n",
    "from cv_bridge import CvBridge, CvBridgeError\n",
    "import numpy as np\n",
    "import std_msgs.msg\n",
    "from std_msgs.msg import UInt16, String\n",
    "import geometry_msgs.msg\n",
    "from apriltags_ros.msg import AprilTagDetection, AprilTagDetectionArray\n",
    "from math import *\n",
    "from numpy.linalg import inv\n",
    "import scipy.io\n",
    "from mat4py import loadmat\n",
    "import actionlib\n",
    "from robotiq_2f_gripper_msgs.msg import CommandRobotiqGripperFeedback, CommandRobotiqGripperResult, CommandRobotiqGripperAction, CommandRobotiqGripperGoal\n",
    "from robotiq_2f_gripper_control.robotiq_2f_gripper_driver import Robotiq2FingerGripperDriver as Robotiq\n",
    "from scoop.msg import stone_pose_hori\n",
    "from scoop.msg import stone_pose_ver\n",
    "from sensor_msgs.msg import Image, CameraInfo\n",
    "import message_filters\n",
    "\n",
    "from visualization_msgs.msg import Marker\n",
    "from visualization_msgs.msg import MarkerArray\n",
    "from geometry_msgs.msg import Point\n",
    "\n",
    "import urx\n",
    "import math3d as m3d\n",
    "import logging\n",
    "\n",
    "import matplotlib.pyplot as plt\n",
    "\n",
    "rospy.init_node('scoop', anonymous=True) #initialize the node\n",
    "\n"
   ]
  },
  {
   "cell_type": "code",
   "execution_count": 3,
   "metadata": {},
   "outputs": [
    {
     "name": "stderr",
     "output_type": "stream",
     "text": [
      "[WARN] [1607067242.891848]: Client test: Starting sending goals\n"
     ]
    }
   ],
   "source": [
    "rospy.logwarn(\"Client test: Starting sending goals\")\n",
    "rob = urx.Robot(\"192.168.1.102\")\n",
    "logging.basicConfig(level=logging.WARN)\n",
    "rob.set_tcp((0, 0, 0, 0, 0, 0))"
   ]
  },
  {
   "cell_type": "code",
   "execution_count": 4,
   "metadata": {},
   "outputs": [],
   "source": [
    "action_name = rospy.get_param('~action_name', 'command_robotiq_action')\n",
    "robotiq_client = actionlib.SimpleActionClient(action_name, CommandRobotiqGripperAction)\n",
    "robotiq_client.wait_for_server()\n",
    "servo_pub = rospy.Publisher('servo1', UInt16, queue_size=10)"
   ]
  },
  {
   "cell_type": "code",
   "execution_count": 5,
   "metadata": {},
   "outputs": [],
   "source": [
    "servo2_pub = rospy.Publisher('servo2', UInt16, queue_size=10)\n",
    "\n",
    "def softtip():\n",
    "    servo2_pub.publish(60) #bringing soft-pad at the tip\n",
    "    rospy.sleep(1.8)\n",
    "    servo2_pub.publish(90)\n",
    "    \n",
    "def hardtip():\n",
    "    servo2_pub.publish(120) #bringing soft-pad at the tip\n",
    "    rospy.sleep(1.8)\n",
    "    servo2_pub.publish(90)"
   ]
  },
  {
   "cell_type": "code",
   "execution_count": 6,
   "metadata": {},
   "outputs": [],
   "source": [
    "def go_to_home():\n",
    "    \n",
    "    Hong_joint0 = radians(101.23)\n",
    "    Hong_joint1 = radians(-83.77)\n",
    "    Hong_joint2 = radians(-130.28)\n",
    "    Hong_joint3 = radians(-55.97)\n",
    "    Hong_joint4 = radians(89.33)\n",
    "    Hong_joint5 = radians(-78.73)\n",
    "    \n",
    "    rob.movej((Hong_joint0,Hong_joint1, Hong_joint2, Hong_joint3, Hong_joint4, Hong_joint5), 0.3, 0.8)\n",
    "    \n",
    "def go_to_safe_place():\n",
    "    \n",
    "    Hong_joint0 = radians(101.74)\n",
    "    Hong_joint1 = radians(-76.84)\n",
    "    Hong_joint2 = radians(-120.83)\n",
    "    Hong_joint3 = radians(-72.33)\n",
    "    Hong_joint4 = radians(89.40)\n",
    "    Hong_joint5 = radians(-78.12)\n",
    "    \n",
    "    rob.movej((Hong_joint0,Hong_joint1, Hong_joint2, Hong_joint3, Hong_joint4, Hong_joint5), 0.3, 0.8)\n",
    "    \n",
    "def go_to_end_place():\n",
    "    \n",
    "    Hong_joint0 = radians(106.13)\n",
    "    Hong_joint1 = radians(-60.48)\n",
    "    Hong_joint2 = radians(-130.69)\n",
    "    Hong_joint3 = radians(-78.86)\n",
    "    Hong_joint4 = radians(89.68)\n",
    "    Hong_joint5 = radians(-73.78)\n",
    "    \n",
    "    rob.movej((Hong_joint0,Hong_joint1, Hong_joint2, Hong_joint3, Hong_joint4, Hong_joint5), 0.3, 0.8)\n",
    "    \n",
    "def move_ref_base(target_ref_transform, ref_frame, acc=0.1, vel=0.02, wait=True):\n",
    "    world2tcp = rob.get_pose()\n",
    "    world2tcp.pos.x+=0.007\n",
    "    world2tcp.pos.y-=0.001\n",
    "    frame_to_tcp = m3d.Transform.get_inverse(world2tcp.inverse * m3d.Transform(ref_frame))\n",
    "    temp1 = m3d.Transform(frame_to_tcp)\n",
    "    temp2 = m3d.Transform(target_ref_transform)\n",
    "    delta_rotation = temp1.orient.inverse * temp2.orient * temp1.orient\n",
    "    delta_translation = temp2.pos + temp2.orient*temp1.pos - temp1.pos\n",
    "    Delta_tcp = m3d.Transform()\n",
    "    Delta_tcp.orient = delta_rotation\n",
    "    Delta_tcp.pos = frame_to_tcp.orient.inverse * delta_translation\n",
    "    rob.add_pose_tool(Delta_tcp, acc, vel, wait=True, command=\"movel\", threshold=None)\n",
    "    \n",
    "def move_ref_tcp(target_ref_transform, tcp_to_frame, acc=0.1, vel=0.02, wait=True):  \n",
    "    temp1 =  m3d.Transform.get_inverse(m3d.Transform(tcp_to_frame))\n",
    "    #print temp1\n",
    "    temp2 = m3d.Transform(target_ref_transform)\n",
    "    delta_rotation = temp1.orient.inverse * temp2.orient * temp1.orient\n",
    "    delta_translation = temp2.pos + temp2.orient*temp1.pos - temp1.pos\n",
    "    Delta_tcp = m3d.Transform()\n",
    "    Delta_tcp.orient = delta_rotation\n",
    "    Delta_tcp.pos = temp1.orient.inverse * delta_translation\n",
    "    #print m3d.Transform(Delta_tcp)\n",
    "    rob.add_pose_tool(Delta_tcp, acc, vel, wait=True, command=\"movel\", threshold=None)"
   ]
  },
  {
   "cell_type": "code",
   "execution_count": 7,
   "metadata": {},
   "outputs": [],
   "source": [
    "def stone_position_in_the_world(pose_x, pose_y, pose_z):\n",
    "    rob.set_tcp((0, 0.0, 0, 0, 0, 0))    \n",
    "    camPstone = np.array([pose_x, pose_y, pose_z, 1])\n",
    "    eeTcam = m3d.Transform()\n",
    "    eeTcam.pos = (0.076173+0.05, -0.0934057-0.03, 0.0074811)\n",
    "    eeTcam_e = tf.transformations.euler_from_quaternion([-0.0143125,0.69183,-0.0012,0.722039], axes='sxyz')\n",
    "    eeTcam.orient.rotate_xb(eeTcam_e[0])\n",
    "    eeTcam.orient.rotate_yb(eeTcam_e[1])\n",
    "    eeTcam.orient.rotate_zb(eeTcam_e[2])\n",
    "    tcpTee = np.array([[0,-1,0,0], [0,0,-1,0], [1,0,0,0], [0,0,0,1]])\n",
    "    eeTstone = np.matmul(eeTcam.get_matrix(), camPstone)\n",
    "    tcpTstone = np.matmul(tcpTee, np.transpose(eeTstone))\n",
    "    worldTstone = np.matmul(rob.get_pose().get_matrix(), tcpTstone)\n",
    "    worldTstone = worldTstone.squeeze().tolist()[0][0:-1]\n",
    "    return [worldTstone[0]+0.01634+0.00074+0.0015, worldTstone[1]+0.02429, worldTstone[2]]"
   ]
  },
  {
   "cell_type": "code",
   "execution_count": 8,
   "metadata": {},
   "outputs": [
    {
     "data": {
      "text/plain": [
       "<rospy.topics.Subscriber at 0x7f82bc46c310>"
      ]
     },
     "execution_count": 8,
     "metadata": {},
     "output_type": "execute_result"
    }
   ],
   "source": [
    "def hori_stone_pose_callback(msg):\n",
    "    global hori_pose_Go_stone_set, hori_Go_stone_number, Go_stone_dir_sorted, yaw_pitch_normal_set\n",
    "    hori_Go_stone_number = int(msg.hori_Go_stone_number)\n",
    "    if hori_Go_stone_number == 0:\n",
    "        hori_pose_Go_stone_set = []\n",
    "        Go_stone_dir_sorted = []\n",
    "        yaw_pitch_normal_set = []\n",
    "    else:\n",
    "        pose_x = msg.x\n",
    "        pose_y = msg.y\n",
    "        pose_z = msg.z\n",
    "        yaw = msg.yaw\n",
    "        pitch = msg.pitch\n",
    "        normal = msg.normal\n",
    "        dir_depth_inner = msg.dir_depth_inner\n",
    "        dir_depth_outer = msg.dir_depth_outer\n",
    "        dir_depth_outer_minus_inner = []\n",
    "        for i in range(len(dir_depth_inner)):\n",
    "            dir_depth_outer_minus_inner.append(dir_depth_outer[i]-dir_depth_inner[i])\n",
    "        dir_depth_outer_minus_inner_argsort = np.argsort(-np.array(dir_depth_outer_minus_inner)).tolist()\n",
    "        dir_depth_outer_minus_inner_argsort_copy = dir_depth_outer_minus_inner_argsort[:]\n",
    "        for index in dir_depth_outer_minus_inner_argsort:\n",
    "            if dir_depth_outer[index]-dir_depth_inner[index]<0:\n",
    "                dir_depth_outer_minus_inner_argsort_copy.remove(index)\n",
    "            elif dir_depth_outer[index]==0 or dir_depth_inner[index]==0:\n",
    "                dir_depth_outer_minus_inner_argsort_copy.remove(index)\n",
    "        dir_depth_outer_minus_inner_argsort=dir_depth_outer_minus_inner_argsort_copy[:]\n",
    "        hori_pose_Go_stone_set.append(stone_position_in_the_world(pose_x, pose_y, pose_z))\n",
    "        Go_stone_dir_sorted.append(dir_depth_outer_minus_inner_argsort)\n",
    "        yaw_pitch_normal_set.append([yaw,pitch,normal])\n",
    "hori_pose_topic = '/hori_stone_pose' #\"/usb_cam/image_raw\"\n",
    "rospy.Subscriber(hori_pose_topic, stone_pose_hori, hori_stone_pose_callback)"
   ]
  },
  {
   "cell_type": "code",
   "execution_count": 9,
   "metadata": {},
   "outputs": [
    {
     "data": {
      "text/plain": [
       "<rospy.topics.Subscriber at 0x7f82bc424190>"
      ]
     },
     "execution_count": 9,
     "metadata": {},
     "output_type": "execute_result"
    }
   ],
   "source": [
    "import json\n",
    "def ver_stone_pose_callback(msg):\n",
    "    global ver_pose_Go_stone_set, ver_Go_stone_number, gripper_direction_set, gripper_aperture_set\n",
    "    ver_Go_stone_number = int(msg.ver_Go_stone_number)\n",
    "    if ver_Go_stone_number == 0:\n",
    "        ver_pose_Go_stone_set = []\n",
    "        gripper_direction_set = []\n",
    "        gripper_aperture_set = []\n",
    "    else:\n",
    "        pose_x = msg.x\n",
    "        pose_y = msg.y\n",
    "        pose_z = msg.z \n",
    "        box = json.loads(msg.box)\n",
    "        ver_pose_Go_stone_set.append(stone_position_in_the_world(pose_x, pose_y, pose_z))\n",
    "        box = [stone_position_in_the_world(box[i][0], box[i][1], pose_z)[0:2] for i in range(len(box))]\n",
    "        #print box\n",
    "        length1 = np.sqrt((box[0][0]-box[1][0])**2+(box[0][1]-box[1][1])**2)\n",
    "        length2 = np.sqrt((box[2][0]-box[1][0])**2+(box[2][1]-box[1][1])**2)\n",
    "        if length1 > length2:\n",
    "            try:\n",
    "                if abs(atan((box[0][0]-box[1][0])/(box[0][1]-box[1][1]))+pi/2)<abs(atan((box[0][0]-box[1][0])/(box[0][1]-box[1][1]))-pi/2):\n",
    "                    temp_angle=atan((box[0][0]-box[1][0])/(box[0][1]-box[1][1]))+pi/2\n",
    "                else:\n",
    "                    temp_angle=atan((box[0][0]-box[1][0])/(box[0][1]-box[1][1]))-pi/2\n",
    "                gripper_direction_set.append(temp_angle)\n",
    "            except:\n",
    "                gripper_direction_set.append(0)\n",
    "            gripper_aperture_set.append(length2+0.004)\n",
    "        else:\n",
    "            try:\n",
    "                if abs(atan((box[2][0]-box[1][0])/(box[2][1]-box[1][1]))+pi/2)<abs(atan((box[2][0]-box[1][0])/(box[2][1]-box[1][1]))-pi/2):\n",
    "                    temp_angle=atan((box[2][0]-box[1][0])/(box[2][1]-box[1][1]))+pi/2\n",
    "                else:\n",
    "                    temp_angle=atan((box[2][0]-box[1][0])/(box[2][1]-box[1][1]))-pi/2\n",
    "                gripper_direction_set.append(temp_angle)\n",
    "            except:\n",
    "                gripper_direction_set.append(0)\n",
    "            gripper_aperture_set.append(length1+0.004)        \n",
    "ver_pose_topic = '/ver_stone_pose' #\"/usb_cam/image_raw\"\n",
    "rospy.Subscriber(ver_pose_topic, stone_pose_ver, ver_stone_pose_callback)"
   ]
  },
  {
   "cell_type": "code",
   "execution_count": 10,
   "metadata": {},
   "outputs": [],
   "source": [
    "is_send_stone_img = 0\n",
    "stone_img_count = 0\n",
    "bridge = CvBridge()\n",
    "\n",
    "def image_callback(color, a_depth):\n",
    "    global is_send_stone_img, stone_img_count\n",
    "    if is_send_stone_img == 1:\n",
    "        print \"dsag\"\n",
    "        img_count_pub = rospy.Publisher('/stone_img_index', String, queue_size=1)\n",
    "        rospy.sleep(0.5)\n",
    "        cv2_img = bridge.imgmsg_to_cv2(color, \"bgr8\")\n",
    "        cv2.imwrite('/home/terry/Mask_RCNN/samples/stones/JPEGImages/'+str(stone_img_count)+'.jpeg', cv2_img)\n",
    "        cv2_depth_img = bridge.imgmsg_to_cv2(a_depth, desired_encoding=\"passthrough\")\n",
    "        depth_array = np.array(cv2_depth_img, dtype=np.float32)\n",
    "        cv2.imwrite('/home/terry/Mask_RCNN/samples/stones/depth/'+str(stone_img_count)+'.jpeg', cv2_depth_img)\n",
    "        np.save('/home/terry/Mask_RCNN/samples/stones/depth/'+str(stone_img_count)+'.npy', depth_array)\n",
    "        img_count_pub.publish(str(stone_img_count))\n",
    "        print str(stone_img_count)\n",
    "        stone_img_count = stone_img_count + 1\n",
    "        is_send_stone_img = 0"
   ]
  },
  {
   "cell_type": "code",
   "execution_count": 11,
   "metadata": {},
   "outputs": [
    {
     "data": {
      "text/plain": [
       "0"
      ]
     },
     "execution_count": 11,
     "metadata": {},
     "output_type": "execute_result"
    }
   ],
   "source": [
    "image_color_sub = message_filters.Subscriber('/camera/color/image_raw', Image)\n",
    "image_aligned_depth_sub = message_filters.Subscriber('/camera/aligned_depth_to_color/image_raw', Image)\n",
    "ts = message_filters.TimeSynchronizer([image_color_sub, image_aligned_depth_sub], 10)\n",
    "ts.registerCallback(image_callback)"
   ]
  },
  {
   "cell_type": "code",
   "execution_count": 12,
   "metadata": {},
   "outputs": [],
   "source": [
    "def poke_grasp_execute(Go_index):\n",
    "    global hori_pose_Go_stone_set, yaw_pitch_normal_set\n",
    "    tcp2fingertip=m3d.Transform()\n",
    "    tcp2fingertip.pos.x = 0.002\n",
    "    tcp2fingertip.pos.y = 0  \n",
    "    tcp2fingertip.pos.z = 0.354\n",
    "    fingertip2tcp = np.linalg.inv(tcp2fingertip.get_matrix())\n",
    "    eeTcam = m3d.Transform()\n",
    "    eeTcam.pos = (0.076173+0.05, -0.0934057-0.03, 0.0074811)\n",
    "    eeTcam_e = tf.transformations.euler_from_quaternion([-0.0143125,0.69183,-0.0012,0.722039], axes='sxyz')\n",
    "    eeTcam.orient.rotate_xb(eeTcam_e[0])\n",
    "    eeTcam.orient.rotate_yb(eeTcam_e[1])\n",
    "    eeTcam.orient.rotate_zb(eeTcam_e[2])\n",
    "    tcpTee = np.array([[0,-1,0,0], [0,0,-1,0], [1,0,0,0], [0,0,0,1]])\n",
    "    tcp2cam = np.matmul(tcpTee, eeTcam.get_matrix())\n",
    "    normal=yaw_pitch_normal_set[Go_index][2]\n",
    "    n_normalize = normal / np.linalg.norm(normal)\n",
    "    n_normalize = np.array([n_normalize[0], n_normalize[1], n_normalize[2], 1])\n",
    "    fingertip2normal = np.matmul(np.matmul(fingertip2tcp, tcp2cam), n_normalize).tolist()[0]\n",
    "    alpha = atan2(fingertip2normal[1], fingertip2normal[0])\n",
    "    if str(alpha) == 'nan':\n",
    "        print yaw_pitch_normal_set\n",
    "        return False\n",
    "    beta = -(pi/2+atan2(fingertip2normal[2], sqrt(fingertip2normal[0]**2+fingertip2normal[1]**2)))\n",
    "    if str(beta) == 'nan':\n",
    "        return False\n",
    "    if abs(beta)>(35*pi/180.0):\n",
    "        return False\n",
    "    hardtip()\n",
    "    go_to_safe_place()\n",
    "    servo_pub.publish(100)\n",
    "    rob.movel_tool((0,0,0,0,0,alpha), acc=0.1, vel=0.2, wait=True)\n",
    "    world2tcp = rob.get_pose()\n",
    "    world2tcp.pos.x+=0.008\n",
    "    world2tcp.pos.y-=0.001\n",
    "    world2tcp.orient=np.array([[0,1,0],[1,0,0],[0,0,-1]])\n",
    "    world2fingertip=(world2tcp*tcp2fingertip)\n",
    "    rob.translate((hori_pose_Go_stone_set[Go_index][0]-world2fingertip.pos.x,hori_pose_Go_stone_set[Go_index][1]-world2fingertip.pos.y,0), acc=0.3, vel=0.8, wait=True)\n",
    "    world2tcp = rob.get_pose()\n",
    "    world2tcp.pos.x+=0.008\n",
    "    world2tcp.pos.y-=0.001\n",
    "    world2tcp.orient=np.array([[0,1,0],[1,0,0],[0,0,-1]])\n",
    "    world2fingertip=(world2tcp*tcp2fingertip)\n",
    "    fingertip2stone=np.transpose(np.matmul(np.linalg.inv(world2fingertip.get_matrix()), np.transpose(np.array([hori_pose_Go_stone_set[Go_index]+[1]]))))[0].tolist()[0][0:-1]\n",
    "    rob.set_tcp((0.002, 0, 0.354, 0, 0, 0))\n",
    "    rospy.sleep(0.5)\n",
    "    #if np.cross([fingertip2normal[0], fingertip2normal[1]], [-sin(alpha), cos(alpha)])>0:\n",
    "    rob.movel_tool((0,0,0,0,beta,0), acc=0.3, vel=0.8, wait=True)\n",
    "    #rob.translate_tool((0.004+0.0015*int(abs(beta)>15)+0.0025*int(abs(beta)>20), 0, 0), acc=0.06, vel=0.08)\n",
    "    rob.translate_tool((0.003, 0, 0), acc=0.1, vel=0.1)\n",
    "    psi = radians(27)\n",
    "    rob.movel_tool((0,0,0,0,psi,0), acc=0.3, vel=0.8, wait=True)\n",
    "    rob.translate((0, 0, -(fingertip2stone[2]-0.010)), acc=0.1, vel=0.1, wait=True)\n",
    "    rob.translate_tool((0, 0, 0.0265), acc=0.01, vel=0.05)\n",
    "    Robotiq.goto(robotiq_client, pos=-7*0.14/48.0+1.12/48.0, speed=0.2, force=1, block=False)\n",
    "    rospy.sleep(1)\n",
    "    rob.translate_tool((0, 0, -0.08), acc=0.1, vel=0.2)\n",
    "    rob.set_tcp((0, 0, 0, 0, 0, 0))\n",
    "    rospy.sleep(0.5)\n",
    "    return True"
   ]
  },
  {
   "cell_type": "code",
   "execution_count": 13,
   "metadata": {},
   "outputs": [],
   "source": [
    "from shapely.geometry import LineString\n",
    "from shapely.geometry import Point\n",
    "from shapely.geometry import Polygon\n",
    "from shapely.geometry import LinearRing\n",
    "\n",
    "def scoop_collision_check(Go_index):\n",
    "    global hori_pose_Go_stone_set, Go_stone_dir_sorted, hard_fingertip_position, gripper_orientation\n",
    "    for ori_index in Go_stone_dir_sorted[Go_index]:\n",
    "        hard_fingertip_position = [hori_pose_Go_stone_set[Go_index][0]+0.01*sin(ori_index*45*pi/180), hori_pose_Go_stone_set[Go_index][1]-0.01*cos(ori_index*45*pi/180)]\n",
    "        gripper_orientation = ori_index*45\n",
    "        hard_fingertip_position1 = [hard_fingertip_position[0]+0.01*cos(gripper_orientation*pi/180), hard_fingertip_position[1]+0.01*sin(gripper_orientation*pi/180)]\n",
    "        hard_fingertip_position2 = [hard_fingertip_position[0]-0.01*cos(gripper_orientation*pi/180), hard_fingertip_position[1]-0.01*sin(gripper_orientation*pi/180)]\n",
    "        if LineString([hard_fingertip_position1, hard_fingertip_position, hard_fingertip_position2]).within(Polygon([[0.07794+0.05,0.63], [0.05,0.735], [-0.07794+0.05,0.63]]).buffer(-0.005, cap_style=2, join_style=2))==False:\n",
    "            continue\n",
    "        soft_fingertip_position = [hori_pose_Go_stone_set[Go_index][0]+(-0.015)*sin(ori_index*45*pi/180), hori_pose_Go_stone_set[Go_index][1]-(-0.015)*cos(ori_index*45*pi/180)]\n",
    "        if LineString([[soft_fingertip_position[0]+0.01*cos(gripper_orientation*pi/180), soft_fingertip_position[1]+0.01*sin(gripper_orientation*pi/180)], soft_fingertip_position, [soft_fingertip_position[0]-0.01*cos(gripper_orientation*pi/180), soft_fingertip_position[1]-0.01*sin(gripper_orientation*pi/180)]]).within(Polygon([[0.07794+0.05,0.63], [0.05,0.735], [-0.07794+0.05,0.63]]).buffer(-0.005, cap_style=2, join_style=2))==False:\n",
    "            continue\n",
    "        soft_fingertip_position2 = [hori_pose_Go_stone_set[Go_index][0]+(-0.018)*sin(ori_index*45*pi/180), hori_pose_Go_stone_set[Go_index][1]-(-0.018)*cos(ori_index*45*pi/180)]\n",
    "        if LineString([[soft_fingertip_position2[0]+0.01*cos(gripper_orientation*pi/180), soft_fingertip_position2[1]+0.01*sin(gripper_orientation*pi/180)], soft_fingertip_position2, [soft_fingertip_position2[0]-0.01*cos(gripper_orientation*pi/180), soft_fingertip_position2[1]-0.01*sin(gripper_orientation*pi/180)]]).within(Polygon([[0.07794+0.05,0.63], [0.05,0.735], [-0.07794+0.05,0.63]]).buffer(-0.005, cap_style=2, join_style=2))==False:\n",
    "            continue\n",
    "        fingertip_extend_position = [hori_pose_Go_stone_set[Go_index][0]+0.15*sin(ori_index*45*pi/180), hori_pose_Go_stone_set[Go_index][1]-0.15*cos(ori_index*45*pi/180)]\n",
    "        fingertip_extend_position1 = [fingertip_extend_position[0]+0.01*cos(gripper_orientation*pi/180), fingertip_extend_position[1]+0.01*sin(gripper_orientation*pi/180)]\n",
    "        fingertip_extend_position2 = [fingertip_extend_position[0]-0.01*cos(gripper_orientation*pi/180), fingertip_extend_position[1]-0.01*sin(gripper_orientation*pi/180)]\n",
    "        intersect_at_bowl = list(Polygon([[0.07794+0.05,0.63], [0.05,0.735], [-0.07794+0.05,0.63]]).buffer(0, cap_style=2, join_style=2).boundary.intersection(LineString([hard_fingertip_position, fingertip_extend_position])).coords[:][0])\n",
    "        intersect_at_bowl1 = list(Polygon([[0.07794+0.05,0.63], [0.05,0.735], [-0.07794+0.05,0.63]]).buffer(0, cap_style=2, join_style=2).boundary.intersection(LineString([hard_fingertip_position1, fingertip_extend_position1])).coords[:][0])\n",
    "        intersect_at_bowl2 = list(Polygon([[0.07794+0.05,0.63], [0.05,0.735], [-0.07794+0.05,0.63]]).buffer(0, cap_style=2, join_style=2).boundary.intersection(LineString([hard_fingertip_position2, fingertip_extend_position2])).coords[:][0])\n",
    "        if Point(hard_fingertip_position).distance(Point(intersect_at_bowl))*sqrt(3)<0.07-(hori_pose_Go_stone_set[Go_index][2]-0.0365): # need to be changed\n",
    "            continue\n",
    "        if Point(hard_fingertip_position1).distance(Point(intersect_at_bowl1))*sqrt(3)<0.07-(hori_pose_Go_stone_set[Go_index][2]-0.0365): # need to be changed\n",
    "            continue\n",
    "        if Point(hard_fingertip_position2).distance(Point(intersect_at_bowl2))*sqrt(3)<0.07-(hori_pose_Go_stone_set[Go_index][2]-0.0365): # need to be changed\n",
    "            continue\n",
    "        return False\n",
    "    return True  "
   ]
  },
  {
   "cell_type": "code",
   "execution_count": 14,
   "metadata": {},
   "outputs": [
    {
     "ename": "NameError",
     "evalue": "global name 'Go_stone_dir_sorted' is not defined",
     "output_type": "error",
     "traceback": [
      "\u001b[0;31m-----------------------------------------\u001b[0m",
      "\u001b[0;31mNameError\u001b[0mTraceback (most recent call last)",
      "\u001b[0;32m<ipython-input-14-07a907a8b01d>\u001b[0m in \u001b[0;36m<module>\u001b[0;34m()\u001b[0m\n\u001b[0;32m----> 1\u001b[0;31m \u001b[0mscoop_collision_check\u001b[0m\u001b[0;34m(\u001b[0m\u001b[0;36m0\u001b[0m\u001b[0;34m)\u001b[0m\u001b[0;34m\u001b[0m\u001b[0m\n\u001b[0m",
      "\u001b[0;32m<ipython-input-13-6166de5fd862>\u001b[0m in \u001b[0;36mscoop_collision_check\u001b[0;34m(Go_index)\u001b[0m\n\u001b[1;32m      6\u001b[0m \u001b[0;32mdef\u001b[0m \u001b[0mscoop_collision_check\u001b[0m\u001b[0;34m(\u001b[0m\u001b[0mGo_index\u001b[0m\u001b[0;34m)\u001b[0m\u001b[0;34m:\u001b[0m\u001b[0;34m\u001b[0m\u001b[0m\n\u001b[1;32m      7\u001b[0m     \u001b[0;32mglobal\u001b[0m \u001b[0mhori_pose_Go_stone_set\u001b[0m\u001b[0;34m,\u001b[0m \u001b[0mGo_stone_dir_sorted\u001b[0m\u001b[0;34m,\u001b[0m \u001b[0mhard_fingertip_position\u001b[0m\u001b[0;34m,\u001b[0m \u001b[0mgripper_orientation\u001b[0m\u001b[0;34m\u001b[0m\u001b[0m\n\u001b[0;32m----> 8\u001b[0;31m     \u001b[0;32mfor\u001b[0m \u001b[0mori_index\u001b[0m \u001b[0;32min\u001b[0m \u001b[0mGo_stone_dir_sorted\u001b[0m\u001b[0;34m[\u001b[0m\u001b[0mGo_index\u001b[0m\u001b[0;34m]\u001b[0m\u001b[0;34m:\u001b[0m\u001b[0;34m\u001b[0m\u001b[0m\n\u001b[0m\u001b[1;32m      9\u001b[0m         \u001b[0mhard_fingertip_position\u001b[0m \u001b[0;34m=\u001b[0m \u001b[0;34m[\u001b[0m\u001b[0mhori_pose_Go_stone_set\u001b[0m\u001b[0;34m[\u001b[0m\u001b[0mGo_index\u001b[0m\u001b[0;34m]\u001b[0m\u001b[0;34m[\u001b[0m\u001b[0;36m0\u001b[0m\u001b[0;34m]\u001b[0m\u001b[0;34m+\u001b[0m\u001b[0;36m0.01\u001b[0m\u001b[0;34m*\u001b[0m\u001b[0msin\u001b[0m\u001b[0;34m(\u001b[0m\u001b[0mori_index\u001b[0m\u001b[0;34m*\u001b[0m\u001b[0;36m45\u001b[0m\u001b[0;34m*\u001b[0m\u001b[0mpi\u001b[0m\u001b[0;34m/\u001b[0m\u001b[0;36m180\u001b[0m\u001b[0;34m)\u001b[0m\u001b[0;34m,\u001b[0m \u001b[0mhori_pose_Go_stone_set\u001b[0m\u001b[0;34m[\u001b[0m\u001b[0mGo_index\u001b[0m\u001b[0;34m]\u001b[0m\u001b[0;34m[\u001b[0m\u001b[0;36m1\u001b[0m\u001b[0;34m]\u001b[0m\u001b[0;34m-\u001b[0m\u001b[0;36m0.01\u001b[0m\u001b[0;34m*\u001b[0m\u001b[0mcos\u001b[0m\u001b[0;34m(\u001b[0m\u001b[0mori_index\u001b[0m\u001b[0;34m*\u001b[0m\u001b[0;36m45\u001b[0m\u001b[0;34m*\u001b[0m\u001b[0mpi\u001b[0m\u001b[0;34m/\u001b[0m\u001b[0;36m180\u001b[0m\u001b[0;34m)\u001b[0m\u001b[0;34m]\u001b[0m\u001b[0;34m\u001b[0m\u001b[0m\n\u001b[1;32m     10\u001b[0m         \u001b[0mgripper_orientation\u001b[0m \u001b[0;34m=\u001b[0m \u001b[0mori_index\u001b[0m\u001b[0;34m*\u001b[0m\u001b[0;36m45\u001b[0m\u001b[0;34m\u001b[0m\u001b[0m\n",
      "\u001b[0;31mNameError\u001b[0m: global name 'Go_stone_dir_sorted' is not defined"
     ]
    }
   ],
   "source": [
    "scoop_collision_check(0)"
   ]
  },
  {
   "cell_type": "code",
   "execution_count": 14,
   "metadata": {},
   "outputs": [],
   "source": [
    "from geometry_msgs.msg import WrenchStamped\n",
    "from std_msgs.msg import UInt16\n",
    "import time\n",
    "\n",
    "def finger_tip_position_wrt_gripper_frame(alpha, l0, l1, l2l, l2r, flength_l, flength_r):\n",
    "    alpha=alpha*pi/180\n",
    "    left_fingertip_position=[-l0-l1*sin(alpha)+l2l, -l1*cos(alpha)-flength_l]\n",
    "    right_fingertip_position=[l0+l1*sin(alpha)-l2r, -l1*cos(alpha)-flength_r]\n",
    "    return left_fingertip_position, right_fingertip_position\n",
    "\n",
    "# first shorten, next translate, finally close\n",
    "# l0=0.0125 l1=0.1 l2l=0.006 l2r=0.015 flength_l = 0.072   theta=60    joint_value = 78.88, -112.01, -106.91, -61.26, 133.28, -15.20\n",
    "def pos_flength_adjust_left_fixed(current_alpha, next_alpha, theta, l0, l1, l2l, l2r, flength_l):\n",
    "    theta=theta*pi/180\n",
    "    current_flength_r = flength_l + (2*l0+2*l1*sin(current_alpha*pi/180)-l2l-l2r)/tan(theta)\n",
    "    current_left_fingertip_pos_g, current_right_fingertip_pos_g = finger_tip_position_wrt_gripper_frame(current_alpha, l0, l1, l2l, l2r, flength_l, current_flength_r)\n",
    "    transforming_matrix_w_g = np.array([[sin(theta), -cos(theta), -current_left_fingertip_pos_g[0]*sin(theta)+current_left_fingertip_pos_g[1]*cos(theta)], [cos(theta), sin(theta), -current_left_fingertip_pos_g[0]*cos(theta)-current_left_fingertip_pos_g[1]*sin(theta)], [0, 0, 1]])\n",
    "    current_right_fingertip_pos_w = (np.squeeze(np.dot(transforming_matrix_w_g, np.array([[current_right_fingertip_pos_g[0]], [current_right_fingertip_pos_g[1]], [1]])))[0:2]).tolist()\n",
    "    next_left_fingertip_pos_g, next_right_fingertip_pos_g = finger_tip_position_wrt_gripper_frame(next_alpha, l0, l1, l2l, l2r, flength_l, current_flength_r)\n",
    "    next_left_fingertip_pos_w = (np.squeeze(np.dot(transforming_matrix_w_g, np.array([[next_left_fingertip_pos_g[0]], [next_left_fingertip_pos_g[1]], [1]])))[0:2]).tolist()\n",
    "    next_right_fingertip_pos_w = (np.squeeze(np.dot(transforming_matrix_w_g, np.array([[next_right_fingertip_pos_g[0]], [next_right_fingertip_pos_g[1]], [1]])))[0:2]).tolist()\n",
    "    translation_dir_dis = [-next_left_fingertip_pos_w[0], -next_left_fingertip_pos_w[1]]\n",
    "    next_right_fingertip_pos_after_trans_w = [next_right_fingertip_pos_w[0]+translation_dir_dis[0], next_right_fingertip_pos_w[1]+translation_dir_dis[1]]\n",
    "    right_finger_shorten_distance=abs(next_right_fingertip_pos_after_trans_w[1])/sin(theta)\n",
    "    translation_dir_dis[0] = translation_dir_dis[0]+(2*l0+2*l1*sin(current_alpha*pi/180)-l2l-l2r)/sin(theta)-(next_right_fingertip_pos_after_trans_w[0]-right_finger_shorten_distance*cos(theta))\n",
    "    return translation_dir_dis, right_finger_shorten_distance\n",
    "\n",
    "def pos_flength_adjust_right_fixed(current_alpha, next_alpha, theta, l0, l1, l2l, l2r, flength_r):\n",
    "    theta=theta*pi/180\n",
    "    current_flength_l = flength_r + (2*l0+2*l1*sin(current_alpha*pi/180)-l2l-l2r)/tan(theta)\n",
    "    current_left_fingertip_pos_g, current_right_fingertip_pos_g = finger_tip_position_wrt_gripper_frame(current_alpha, l0, l1, l2l, l2r, current_flength_l, flength_r)\n",
    "    transforming_matrix_w_g = np.array([[sin(theta), cos(theta), -current_right_fingertip_pos_g[0]*sin(theta)-current_right_fingertip_pos_g[1]*cos(theta)], [-cos(theta), sin(theta), current_right_fingertip_pos_g[0]*cos(theta)-current_right_fingertip_pos_g[1]*sin(theta)], [0, 0, 1]])\n",
    "    current_left_fingertip_pos_w = (np.squeeze(np.dot(transforming_matrix_w_g, np.array([[current_left_fingertip_pos_g[0]], [current_left_fingertip_pos_g[1]], [1]])))[0:2]).tolist()\n",
    "    #print current_left_fingertip_pos_w\n",
    "    next_left_fingertip_pos_g, next_right_fingertip_pos_g = finger_tip_position_wrt_gripper_frame(next_alpha, l0, l1, l2l, l2r, current_flength_l, flength_r)\n",
    "    next_left_fingertip_pos_w = (np.squeeze(np.dot(transforming_matrix_w_g, np.array([[next_left_fingertip_pos_g[0]], [next_left_fingertip_pos_g[1]], [1]])))[0:2]).tolist()\n",
    "    next_right_fingertip_pos_w = (np.squeeze(np.dot(transforming_matrix_w_g, np.array([[next_right_fingertip_pos_g[0]], [next_right_fingertip_pos_g[1]], [1]])))[0:2]).tolist()\n",
    "    #print next_left_fingertip_pos_w\n",
    "    translation_dir_dis = [-next_right_fingertip_pos_w[0], -next_right_fingertip_pos_w[1]]\n",
    "    #print translation_dir_dis\n",
    "    next_left_fingertip_pos_after_trans_w = [next_left_fingertip_pos_w[0]+translation_dir_dis[0], next_left_fingertip_pos_w[1]+translation_dir_dis[1]]\n",
    "    #print next_left_fingertip_pos_after_trans_w[1]\n",
    "    left_finger_shorten_distance=abs(next_left_fingertip_pos_after_trans_w[1])/sin(theta)\n",
    "    return translation_dir_dis, left_finger_shorten_distance\n",
    "\n",
    "def scoop_execute(Go_index):\n",
    "    global hard_fingertip_position, gripper_orientation\n",
    "    softtip()\n",
    "    go_to_safe_place()\n",
    "    Robotiq.goto(robotiq_client, pos=5*0.14/48.0+1.12/48.0, speed=0.1, force=10, block=True)\n",
    "    servo_pub.publish(0)\n",
    "    rob.movel_tool((0,0,0,0,0,-gripper_orientation*pi/180),acc=0.1, vel=0.2)\n",
    "    tcp2fingertip=m3d.Transform()\n",
    "    tcp2fingertip.pos.x = -0.021 # need change\n",
    "    tcp2fingertip.pos.z = 0.342 # need change\n",
    "    world2tcp = rob.get_pose()\n",
    "    world2fingertip=(world2tcp*tcp2fingertip)\n",
    "    rob.translate((hard_fingertip_position[0]-world2fingertip.pos.x,hard_fingertip_position[1]-world2fingertip.pos.y,0), acc=0.3, vel=0.8, wait=True)\n",
    "    rob.set_tcp((-0.021, 0, 0.342, 0, 0, 0))\n",
    "    rospy.sleep(0.5)\n",
    "    rob.movel_tool((0,0,0,0,pi/6,0), acc=0.3, vel=0.8, wait=True)\n",
    "    rob.set_tcp((0, 0, 0, 0, 0, 0))\n",
    "    rospy.sleep(0.5)    \n",
    "    rob.translate((0, 0, -0.07), acc=0.1, vel=0.3, wait=True)\n",
    "    rob.translate((0, 0, -0.05), acc=0.001, vel=0.02, wait=False)\n",
    "    wrench = rospy.wait_for_message('/robotiq_ft_wrench', WrenchStamped, timeout = None)\n",
    "    ini_wrench = wrench.wrench.torque.y\n",
    "    torque_memory=[]\n",
    "    while True:\n",
    "        wrench = rospy.wait_for_message('/robotiq_ft_wrench', WrenchStamped, timeout = None)\n",
    "        torque_memory.append(wrench.wrench.torque.y)\n",
    "        if len(torque_memory)<9:\n",
    "            if wrench.wrench.torque.y>ini_wrench+0.15:\n",
    "                rob.stopl()\n",
    "                break\n",
    "        else:\n",
    "            if wrench.wrench.torque.y>min(torque_memory[0:9])+0.15:\n",
    "                rob.stopl()\n",
    "                break\n",
    "\n",
    "    wrench = rospy.wait_for_message('/robotiq_ft_wrench', WrenchStamped, timeout = None)\n",
    "    ini_wrench = wrench.wrench.torque.y\n",
    "    torque_memory=[]\n",
    "    for current_finger_length in np.arange(0,100,1):\n",
    "        servo_pub.publish(current_finger_length)\n",
    "        current_fingerlength_int=current_finger_length\n",
    "        wrench = rospy.wait_for_message('/robotiq_ft_wrench', WrenchStamped, timeout = None)\n",
    "        torque_memory.append(wrench.wrench.torque.y)\n",
    "        if len(torque_memory)<9:\n",
    "            if wrench.wrench.torque.y>ini_wrench+0.15:\n",
    "                rob.stopl()\n",
    "                break\n",
    "        else:\n",
    "            if wrench.wrench.torque.y>min(torque_memory[0:9])+0.15:\n",
    "                rob.stopl()\n",
    "                break\n",
    "    angle_step=0.25\n",
    "    for angle in np.arange(5,-4,-angle_step):\n",
    "        translate_dir_dis, shorten_distance = pos_flength_adjust_left_fixed(angle, angle-angle_step, 60, 0.0125, 0.1, 0.006, 0.019, 0.072)\n",
    "        old_fingerlength_int=current_fingerlength_int\n",
    "        current_fingerlength_int=round(max(current_fingerlength_int-shorten_distance*(160.0/0.025),0))\n",
    "        servo_pub.publish(int(current_fingerlength_int))\n",
    "        if abs(current_fingerlength_int-old_fingerlength_int)!=0:\n",
    "            Robotiq.goto(robotiq_client, pos=(angle-1)*0.14/48.0+1.12/48.0, speed=0.2, force=10, block=False)\n",
    "            rob.translate_tool((sin(60*pi/180)*translate_dir_dis[0]+cos(60*pi/180)*translate_dir_dis[1], 0, cos(60*pi/180)*translate_dir_dis[0]-sin(60*pi/180)*translate_dir_dis[1]), acc=0.1, vel=0.4, wait=True)\n",
    "            rospy.sleep(0.01)\n",
    "    Robotiq.goto(robotiq_client, pos=(-4)*0.14/48.0+1.12/48.0, speed=0.2, force=10, block=True)\n",
    "    rob.translate((0, 0, 0.1), acc=0.3, vel=0.8, wait=True)"
   ]
  },
  {
   "cell_type": "code",
   "execution_count": 15,
   "metadata": {},
   "outputs": [],
   "source": [
    "def scoop_execute2(Go_index):\n",
    "    global hard_fingertip_position, gripper_orientation\n",
    "    softtip()\n",
    "    go_to_safe_place()\n",
    "    Robotiq.goto(robotiq_client, pos=5*0.14/48.0+1.12/48.0, speed=0.1, force=10, block=True)\n",
    "    servo_pub.publish(0)\n",
    "    rob.movel_tool((0,0,0,0,0,-gripper_orientation*pi/180),acc=0.1, vel=0.2)\n",
    "    tcp2fingertip=m3d.Transform()\n",
    "    tcp2fingertip.pos.x = -0.021 # need change\n",
    "    tcp2fingertip.pos.z = 0.342 # need change\n",
    "    world2tcp = rob.get_pose()\n",
    "    world2fingertip=(world2tcp*tcp2fingertip)\n",
    "    rob.translate((hard_fingertip_position[0]-world2fingertip.pos.x,hard_fingertip_position[1]-world2fingertip.pos.y,0), acc=0.3, vel=0.8, wait=True)\n",
    "    rob.set_tcp((-0.021, 0, 0.342, 0, 0, 0))\n",
    "    rospy.sleep(0.5)\n",
    "    rob.movel_tool((0,0,0,0,pi/6,0), acc=0.3, vel=0.8, wait=True)\n",
    "    rob.set_tcp((0, 0, 0, 0, 0, 0))\n",
    "    rospy.sleep(0.5)\n",
    "    rob.translate((0, 0, hori_pose_Go_stone_set[Go_index][2]-world2fingertip.pos.z+0.004), acc=0.02, vel=0.05, wait=True)\n",
    "\n",
    "    for current_finger_length in np.arange(0,85,1):\n",
    "        servo_pub.publish(current_finger_length)\n",
    "        rospy.sleep(0.02) #need change\n",
    "    current_fingerlength_int=85\n",
    "    angle_step=0.25\n",
    "    for angle in np.arange(5,-4,-angle_step):\n",
    "        translate_dir_dis, shorten_distance = pos_flength_adjust_left_fixed(angle, angle-angle_step, 60, 0.0125, 0.1, 0.006, 0.019, 0.072)\n",
    "        old_fingerlength_int=current_fingerlength_int\n",
    "        current_fingerlength_int=round(max(current_fingerlength_int-shorten_distance*(160.0/0.025),0))\n",
    "        servo_pub.publish(int(current_fingerlength_int))\n",
    "        if abs(current_fingerlength_int-old_fingerlength_int)!=0:\n",
    "            Robotiq.goto(robotiq_client, pos=(angle-1)*0.14/48.0+1.12/48.0, speed=0.2, force=10, block=False)\n",
    "            rob.translate_tool((sin(60*pi/180)*translate_dir_dis[0]+cos(60*pi/180)*translate_dir_dis[1], 0, cos(60*pi/180)*translate_dir_dis[0]-sin(60*pi/180)*translate_dir_dis[1]), acc=0.1, vel=0.4, wait=True)\n",
    "            rospy.sleep(0.01)\n",
    "    Robotiq.goto(robotiq_client, pos=(-4)*0.14/48.0+1.12/48.0, speed=0.2, force=10, block=True)\n",
    "    rob.translate((0, 0, 0.1), acc=0.3, vel=0.8, wait=True)"
   ]
  },
  {
   "cell_type": "code",
   "execution_count": 16,
   "metadata": {},
   "outputs": [],
   "source": [
    "def find_alpha_from_distance(distance, l0, l1, l2l, l2r):\n",
    "    alpha = asin((distance+l2l+l2r-2*l0)/2/l1)*180/pi\n",
    "    return alpha\n",
    "\n",
    "def direct_pick_execute(Go_index):\n",
    "    global ver_pose_Go_stone_set, gripper_direction_set, gripper_aperture_set\n",
    "    go_to_safe_place()\n",
    "    hardtip()\n",
    "    Robotiq.goto(robotiq_client, pos=0.75*gripper_aperture_set[Go_index]+0.0095, speed=0.1, force=10, block=True)\n",
    "    servo_pub.publish(10)    \n",
    "    pos_x = rob.get_pose().pos.x+0.007\n",
    "    pos_y = rob.get_pose().pos.y-0.001\n",
    "    rospy.sleep(0.5)\n",
    "    rob.translate((ver_pose_Go_stone_set[Go_index][0]-pos_x,ver_pose_Go_stone_set[Go_index][1]-pos_y,0), acc=0.3, vel=0.8, wait=True)\n",
    "    rob.movel_tool((0,0,0,0,0,gripper_direction_set[Go_index]),acc=0.3, vel=0.8)\n",
    "    rob.translate_tool((0.004,0,0),acc=0.1, vel=0.2)\n",
    "    #rob.translate((0,0,-0.025), acc=0.1, vel=0.4, wait=True)\n",
    "    rob.translate((0,0,(ver_pose_Go_stone_set[Go_index][2]-(rob.get_pose().pos.z-0.32210))*0.7), acc=0.1, vel=0.1, wait=True)\n",
    "    rob.translate((0,0,(ver_pose_Go_stone_set[Go_index][2]-(rob.get_pose().pos.z-0.32210))*0.3-0.003), acc=0.001, vel=0.01, wait=True)\n",
    "    Robotiq.goto(robotiq_client, pos=-7*0.14/48.0+1.12/48.0, speed=0.2, force=10, block=False)\n",
    "    rospy.sleep(1)\n",
    "    rob.translate((0, 0, 0.08), acc=0.3, vel=0.8)"
   ]
  },
  {
   "cell_type": "code",
   "execution_count": 17,
   "metadata": {},
   "outputs": [],
   "source": [
    "from shapely.affinity import rotate\n",
    "from shapely.affinity import translate\n",
    "from shapely.geometry import Point\n",
    "from shapely.geometry import LinearRing\n",
    "from shapely.geometry import Polygon\n",
    " \n",
    "def direct_pick_collision_check(Go_index):\n",
    "    global ver_pose_Go_stone_set, gripper_direction_set, gripper_aperture_set\n",
    "    finger_profile = [[0.01, gripper_aperture_set[Go_index]/2+0.019], [-0.01, gripper_aperture_set[Go_index]/2+0.019], [-0.01, -gripper_aperture_set[Go_index]/2-0.007], [0.01, -gripper_aperture_set[Go_index]/2-0.007]]\n",
    "    finger_profile = rotate(LinearRing(finger_profile), -gripper_direction_set[Go_index], origin=Point([0,0]), use_radians=True)\n",
    "    finger_profile = translate(LinearRing(finger_profile), xoff=ver_pose_Go_stone_set[Go_index][0], yoff=ver_pose_Go_stone_set[Go_index][1], zoff=0.0)\n",
    "    if finger_profile.within(Polygon([[0.07794+0.05,0.63], [0.05,0.735], [-0.07794+0.05,0.63]]).buffer(-0.005, cap_style=2, join_style=2))==True:\n",
    "        return False\n",
    "    else:\n",
    "        return True"
   ]
  },
  {
   "cell_type": "code",
   "execution_count": 1,
   "metadata": {
    "scrolled": true
   },
   "outputs": [
    {
     "ename": "NameError",
     "evalue": "name 'go_to_safe_place' is not defined",
     "output_type": "error",
     "traceback": [
      "\u001b[0;31m-----------------------------------------\u001b[0m",
      "\u001b[0;31mNameError\u001b[0mTraceback (most recent call last)",
      "\u001b[0;32m<ipython-input-1-8f3eabacf654>\u001b[0m in \u001b[0;36m<module>\u001b[0;34m()\u001b[0m\n\u001b[1;32m      1\u001b[0m \u001b[0mstone_img_count\u001b[0m \u001b[0;34m=\u001b[0m \u001b[0;36m0\u001b[0m\u001b[0;34m\u001b[0m\u001b[0m\n\u001b[1;32m      2\u001b[0m \u001b[0;32mwhile\u001b[0m \u001b[0mTrue\u001b[0m\u001b[0;34m:\u001b[0m\u001b[0;34m\u001b[0m\u001b[0m\n\u001b[0;32m----> 3\u001b[0;31m     \u001b[0mgo_to_safe_place\u001b[0m\u001b[0;34m(\u001b[0m\u001b[0;34m)\u001b[0m\u001b[0;34m\u001b[0m\u001b[0m\n\u001b[0m\u001b[1;32m      4\u001b[0m     \u001b[0mservo_pub\u001b[0m\u001b[0;34m.\u001b[0m\u001b[0mpublish\u001b[0m\u001b[0;34m(\u001b[0m\u001b[0;36m10\u001b[0m\u001b[0;34m)\u001b[0m\u001b[0;34m\u001b[0m\u001b[0m\n\u001b[1;32m      5\u001b[0m     \u001b[0mRobotiq\u001b[0m\u001b[0;34m.\u001b[0m\u001b[0mgoto\u001b[0m\u001b[0;34m(\u001b[0m\u001b[0mrobotiq_client\u001b[0m\u001b[0;34m,\u001b[0m \u001b[0mpos\u001b[0m\u001b[0;34m=\u001b[0m\u001b[0;36m0.023\u001b[0m\u001b[0;34m,\u001b[0m \u001b[0mspeed\u001b[0m\u001b[0;34m=\u001b[0m\u001b[0;36m0.5\u001b[0m\u001b[0;34m,\u001b[0m \u001b[0mforce\u001b[0m\u001b[0;34m=\u001b[0m\u001b[0;36m10\u001b[0m\u001b[0;34m,\u001b[0m \u001b[0mblock\u001b[0m\u001b[0;34m=\u001b[0m\u001b[0mTrue\u001b[0m\u001b[0;34m)\u001b[0m\u001b[0;34m\u001b[0m\u001b[0m\n",
      "\u001b[0;31mNameError\u001b[0m: name 'go_to_safe_place' is not defined"
     ]
    }
   ],
   "source": [
    "stone_img_count = 0\n",
    "while True:\n",
    "    go_to_safe_place()\n",
    "    servo_pub.publish(10)\n",
    "    Robotiq.goto(robotiq_client, pos=0.023, speed=0.5, force=10, block=True)\n",
    "    rospy.sleep(1)\n",
    "    go_to_home()\n",
    "    rospy.sleep(1)\n",
    "    hori_Go_stone_number = None\n",
    "    ver_Go_stone_number = None\n",
    "    Go_stone_dir_sorted = []\n",
    "    hori_pose_Go_stone_set = []\n",
    "    yaw_pitch_normal_set = []\n",
    "    ver_pose_Go_stone_set = []\n",
    "    gripper_direction_set = []\n",
    "    gripper_aperture_set = []\n",
    "    is_send_stone_img = 1\n",
    "    print 'started', stone_img_count\n",
    "    while True:\n",
    "        if hori_Go_stone_number != None and hori_Go_stone_number == len(yaw_pitch_normal_set) and ver_Go_stone_number != None and ver_Go_stone_number == len(gripper_aperture_set):\n",
    "            break\n",
    "        rospy.sleep(0.1)   \n",
    "    print hori_pose_Go_stone_set\n",
    "    print yaw_pitch_normal_set\n",
    "    print ver_pose_Go_stone_set, gripper_direction_set, gripper_aperture_set\n",
    "    if hori_pose_Go_stone_set==[] and ver_pose_Go_stone_set == []:\n",
    "        continue\n",
    "    priority_list = []\n",
    "    if ver_pose_Go_stone_set == []:\n",
    "        for index_hori in range(len(hori_pose_Go_stone_set)):\n",
    "            priority_list.append(('h', index_hori))\n",
    "    elif hori_pose_Go_stone_set == []:\n",
    "        for index_ver in range(len(ver_pose_Go_stone_set)):\n",
    "            priority_list.append(('v', index_ver))\n",
    "    else:\n",
    "        for index_hori in range(len(hori_pose_Go_stone_set)):\n",
    "            for index_ver in range(len(ver_pose_Go_stone_set)):\n",
    "                if hori_pose_Go_stone_set[index_hori][2]<=ver_pose_Go_stone_set[index_ver][2]-0.002 and ('v', index_ver) not in priority_list:\n",
    "                    priority_list.append(('v', index_ver))\n",
    "                v_num = 0\n",
    "                for element in priority_list:\n",
    "                    if element[0]=='v':\n",
    "                        v_num+=1\n",
    "                if (v_num == len(ver_pose_Go_stone_set) or hori_pose_Go_stone_set[index_hori][2]>ver_pose_Go_stone_set[index_ver][2]-0.002) and ('h', index_hori) not in priority_list:\n",
    "                    priority_list.append(('h', index_hori))\n",
    "        for index_ver in range(len(ver_pose_Go_stone_set)):\n",
    "            if ('v', index_ver) not in priority_list:\n",
    "                priority_list.append(('v', index_ver))\n",
    "    print priority_list\n",
    "    for index in priority_list:\n",
    "        if index[0]=='v':\n",
    "            continue\n",
    "            if direct_pick_collision_check(index[1])==False and ver_pose_Go_stone_set[index[1]][2]<0.085:\n",
    "                direct_pick_execute(index[1])\n",
    "                go_to_end_place()\n",
    "                rob.translate((0,0,-0.07), acc=0.3, vel=0.8, wait=True)\n",
    "                Robotiq.goto(robotiq_client, pos=0.023, speed=0.5, force=10, block=True)\n",
    "                softtip()\n",
    "                rob.translate((0,0,0.07), acc=0.3, vel=0.8, wait=True)\n",
    "                break\n",
    "        elif index[0]=='h':\n",
    "            if hori_pose_Go_stone_set[index[1]][2]>0.085 or hori_pose_Go_stone_set[index[1]][2]<0:\n",
    "                continue\n",
    "            if hori_pose_Go_stone_set[index[1]][2]>0.06:\n",
    "                if Point([hori_pose_Go_stone_set[index[1]][0], hori_pose_Go_stone_set[index[1]][1]]).within(Polygon([[0.07794+0.05,0.63], [0.05,0.735], [-0.07794+0.05,0.63]]).buffer(-0.006, cap_style=2, join_style=2))==True:\n",
    "                    if poke_grasp_execute(index[1])==True:\n",
    "                        go_to_end_place()\n",
    "                        rob.translate((0,0,-0.07), acc=0.3, vel=0.8, wait=True)\n",
    "                        Robotiq.goto(robotiq_client, pos=0.023, speed=0.5, force=10, block=True)\n",
    "                        softtip()\n",
    "                        rob.translate((0,0,0.07), acc=0.3, vel=0.8, wait=True)\n",
    "                        break                \n",
    "            elif hori_pose_Go_stone_set[index[1]][2]>0.04:\n",
    "                if scoop_collision_check(index[1])==False:\n",
    "                    scoop_execute2(index[1]) \n",
    "                    go_to_end_place()\n",
    "                    rob.translate((0,0,-0.07), acc=0.3, vel=0.8, wait=True)\n",
    "                    Robotiq.goto(robotiq_client, pos=0.023, speed=0.5, force=10, block=True)\n",
    "                    rospy.sleep(0.5)\n",
    "                    servo_pub.publish(180)\n",
    "                    Robotiq.goto(robotiq_client, pos=0.01, speed=0.5, force=10, block=True)\n",
    "                    rospy.sleep(1)\n",
    "                    servo_pub.publish(10)\n",
    "                    rospy.sleep(1)\n",
    "                    rob.translate((0,0,0.07), acc=0.3, vel=0.8, wait=True)\n",
    "                    break\n",
    "            else:\n",
    "                if scoop_collision_check(index[1])==False:\n",
    "                    scoop_execute(index[1]) \n",
    "                    go_to_end_place()\n",
    "                    rob.translate((0,0,-0.07), acc=0.3, vel=0.8, wait=True)\n",
    "                    Robotiq.goto(robotiq_client, pos=0.023, speed=0.5, force=10, block=True)\n",
    "                    rospy.sleep(0.5)\n",
    "                    servo_pub.publish(180)\n",
    "                    Robotiq.goto(robotiq_client, pos=0.01, speed=0.5, force=10, block=True)\n",
    "                    rospy.sleep(1)\n",
    "                    servo_pub.publish(10)\n",
    "                    rospy.sleep(1)\n",
    "                    rob.translate((0,0,0.07), acc=0.3, vel=0.8, wait=True)\n",
    "                    break\n",
    "    else:\n",
    "        go_to_safe_place()\n",
    "        pos_x = rob.get_pose().pos.x+0.007\n",
    "        pos_y = rob.get_pose().pos.y-0.001\n",
    "        if ver_pose_Go_stone_set == []:\n",
    "            min_height = np.min(np.array(hori_pose_Go_stone_set)[:,2])\n",
    "        elif hori_pose_Go_stone_set == []:\n",
    "            min_height = np.min(np.array(ver_pose_Go_stone_set)[:,2])\n",
    "        else:\n",
    "            min_height = min(np.min(np.array(hori_pose_Go_stone_set)[:,2]), np.min(np.array(ver_pose_Go_stone_set)[:,2]))          \n",
    "        if min_height>0.04:\n",
    "            hardtip()\n",
    "            world2tcp = rob.get_pose()\n",
    "            world2tcp.pos.x+=0.004\n",
    "            world2tcp.pos.y-=0.002\n",
    "            tcp2fingertip=m3d.Transform()\n",
    "            tcp2fingertip.pos.x = 0\n",
    "            tcp2fingertip.pos.y = 0  \n",
    "            tcp2fingertip.pos.z = 0.354\n",
    "            world2fingertip=(world2tcp*tcp2fingertip)  \n",
    "            rob.translate((0.05-pos_x,0.675-pos_y,0), acc=0.1, vel=0.4, wait=True)\n",
    "            descend_distance = min_height-world2fingertip.pos.z+0.003\n",
    "            rob.translate((0,0,descend_distance), acc=0.1, vel=0.4, wait=True)\n",
    "            rob.translate((0,-0.01,0), acc=0.1, vel=0.4, wait=True) \n",
    "            rob.translate((0.03,0,0), acc=0.1, vel=0.4, wait=True) \n",
    "            rob.translate((-0.03,0.04,0), acc=0.1, vel=0.4, wait=True) \n",
    "            rob.translate((-0.03,-0.04,0), acc=0.1, vel=0.4, wait=True) \n",
    "            rob.translate((0.03,0,0), acc=0.1, vel=0.4, wait=True) \n",
    "            rob.translate((0,0,-descend_distance), acc=0.1, vel=0.4, wait=True)  \n",
    "        else:\n",
    "            if hori_pose_Go_stone_set==[]:\n",
    "                hardtip()\n",
    "                servo_pub.publish(10)\n",
    "                rob.translate((0.05-pos_x,0.675-pos_y,0), acc=0.1, vel=0.4, wait=True)\n",
    "                rob.translate((0,0,-0.07), acc=0.1, vel=0.4, wait=True)\n",
    "                rob.translate((0,-0.02,0), acc=0.1, vel=0.4, wait=True) \n",
    "                rob.translate((0.045,0,0), acc=0.1, vel=0.4, wait=True) \n",
    "                rob.translate((-0.045,0.08,0), acc=0.1, vel=0.4, wait=True) \n",
    "                rob.translate((-0.045,-0.08,0), acc=0.1, vel=0.4, wait=True) \n",
    "                rob.translate((0.045,0,0), acc=0.1, vel=0.4, wait=True) \n",
    "                rob.translate((0,0,0.07), acc=0.1, vel=0.4, wait=True)\n",
    "            else:\n",
    "                softtip()\n",
    "                servo_pub.publish(100)\n",
    "                if len(hori_pose_Go_stone_set)<=2:\n",
    "                    sweep_index_set = range(len(hori_pose_Go_stone_set))\n",
    "                else:\n",
    "                    sweep_index_set = random.sample(range(len(hori_pose_Go_stone_set)), 2)\n",
    "                for hori_index in sweep_index_set:\n",
    "                    print hori_index\n",
    "                    alpha = atan2(0.665-hori_pose_Go_stone_set[hori_index][1], 0.05-hori_pose_Go_stone_set[hori_index][0])\n",
    "                    if alpha > pi/2 and alpha<=pi:\n",
    "                        rotate_angle = alpha-3*pi/2\n",
    "                    else:\n",
    "                        rotate_angle = alpha+pi/2\n",
    "                    rob.movel_tool((0,0,0,0,0,-rotate_angle), acc=0.1, vel=0.2, wait=True) \n",
    "                    world2tcp = rob.get_pose()\n",
    "                    world2tcp.pos.x+=0.004\n",
    "                    world2tcp.pos.y-=0.002\n",
    "                    tcp2fingertip=m3d.Transform()\n",
    "                    tcp2fingertip.pos.x = 0\n",
    "                    tcp2fingertip.pos.y = 0  \n",
    "                    tcp2fingertip.pos.z = 0.354\n",
    "                    world2fingertip=(world2tcp*tcp2fingertip)\n",
    "                    if Point([hori_pose_Go_stone_set[hori_index][0], hori_pose_Go_stone_set[hori_index][1]]).within(Polygon([[0.07+0.05,0.635], [0.05,0.155+0.6], [-0.07+0.05,0.635]]))==False:\n",
    "                        Point_prime = LinearRing([[0.07+0.05,0.635], [0.05,0.155+0.6], [-0.07+0.05,0.635]]).interpolate(LinearRing([[0.07+0.05,0.635], [0.05,0.155+0.6], [-0.07+0.05,0.635]]).project(Point([hori_pose_Go_stone_set[hori_index][0], hori_pose_Go_stone_set[hori_index][1]])))\n",
    "                        print Point_prime.coords[:]\n",
    "                        coordinate_x = Point_prime.coords[:][0][0]\n",
    "                        coordinate_y = Point_prime.coords[:][0][1]\n",
    "                    else:\n",
    "                        coordinate_x = hori_pose_Go_stone_set[hori_index][0]\n",
    "                        coordinate_y = hori_pose_Go_stone_set[hori_index][1]    \n",
    "                    \n",
    "                    rob.translate((coordinate_x-world2fingertip.pos.x,coordinate_y-world2fingertip.pos.y,0), acc=0.3, vel=0.8, wait=True)\n",
    "                    rob.movel_tool((0.002,0,0,0,0,0), acc=0.1, vel=0.2, wait=True) \n",
    "                    move_ref_tcp((0,0,0,0,20*pi/180,0), (0.002, 0, 0.354, 0, 0, 0), acc=0.3, vel=0.8, wait=True)\n",
    "                    rob.translate((0, 0, -0.05), acc=0.1, vel=0.3, wait=True)\n",
    "                    rob.translate((0, 0, -0.05), acc=0.001, vel=0.02, wait=False)\n",
    "                    wrench = rospy.wait_for_message('/robotiq_ft_wrench', WrenchStamped, timeout = None)\n",
    "                    ini_wrench = wrench.wrench.force.z\n",
    "                    torque_memory=[]\n",
    "                    while True:\n",
    "                        wrench = rospy.wait_for_message('/robotiq_ft_wrench', WrenchStamped, timeout = None)\n",
    "                        torque_memory.append(wrench.wrench.force.z)\n",
    "                        if len(torque_memory)<9:\n",
    "                            if wrench.wrench.force.z<ini_wrench-5:\n",
    "                                rob.stopl()\n",
    "                                break\n",
    "                        else:\n",
    "                            if wrench.wrench.force.z<max(torque_memory[0:9])-5:\n",
    "                                rob.stopl()\n",
    "                                break \n",
    "                    point_to_bowl_center_length=sqrt((coordinate_x-0.05)**2+(coordinate_y-0.665)**2)\n",
    "                    rob.translate((point_to_bowl_center_length*0.8*cos(alpha), point_to_bowl_center_length*0.8*sin(alpha), 0), acc=0.1, vel=0.1, wait=True)\n",
    "                    #hardtip()\n",
    "                    rob.translate((0, 0, 0.1), acc=0.3, vel=0.8, wait=True)\n",
    "                    rob.movej((radians(99.10),radians(-91.67), radians(-107.60), radians(-70.72), radians(89.13), radians(-80.76)), 0.3, 0.7)\n",
    "\n",
    "\n",
    "\n",
    "\n",
    "    "
   ]
  },
  {
   "cell_type": "code",
   "execution_count": 40,
   "metadata": {},
   "outputs": [
    {
     "data": {
      "text/plain": [
       "0.0014646215275005078"
      ]
     },
     "execution_count": 40,
     "metadata": {},
     "output_type": "execute_result"
    }
   ],
   "source": [
    "((0.075-0.07331093786463667)+(0.05-0.04895368329465694)+(0.025-0.022842304328039287)+(0.025-0.024034588402665067))/4.0"
   ]
  },
  {
   "cell_type": "code",
   "execution_count": 41,
   "metadata": {
    "scrolled": true
   },
   "outputs": [
    {
     "data": {
      "text/plain": [
       "0.002061978845306872"
      ]
     },
     "execution_count": 41,
     "metadata": {},
     "output_type": "execute_result"
    }
   ],
   "source": [
    "((0.675-0.6745454043861371)+(0.675-0.6728774495939114)+(0.7-0.6973225984467233)+(0.65-0.6470066321920008))/4.0"
   ]
  },
  {
   "cell_type": "code",
   "execution_count": 21,
   "metadata": {},
   "outputs": [],
   "source": [
    "softtip()"
   ]
  },
  {
   "cell_type": "code",
   "execution_count": 31,
   "metadata": {},
   "outputs": [
    {
     "name": "stdout",
     "output_type": "stream",
     "text": [
      "[[-2.6201582138180495, 0.8652281491096858, (nan, nan, nan)], [-0.5954098754787327, 0.5467888408892477, (-0.70385285157761, 0.7103383061068284, -0.003264077717916657)], [-1.7731179551732001, 0.9475969968608307, (nan, nan, nan)], [2.5766882515590166, 0.6365082157879511, (-0.17460723996886035, 0.8738680628139778, -0.4200974798129315)]]\n"
     ]
    },
    {
     "data": {
      "text/plain": [
       "False"
      ]
     },
     "execution_count": 31,
     "metadata": {},
     "output_type": "execute_result"
    }
   ],
   "source": [
    "poke_grasp_execute(0)"
   ]
  },
  {
   "cell_type": "code",
   "execution_count": 38,
   "metadata": {},
   "outputs": [
    {
     "name": "stdout",
     "output_type": "stream",
     "text": [
      "3.15285880405\n"
     ]
    }
   ],
   "source": [
    "Robotiq.goto(robotiq_client, pos=0.015, speed=0.1, force=10, block=True)\n",
    "print find_alpha_from_distance(0.01, 0.0125, 0.1, 0.006, 0.02)"
   ]
  },
  {
   "cell_type": "code",
   "execution_count": 7,
   "metadata": {},
   "outputs": [],
   "source": [
    "Robotiq.goto(robotiq_client, pos=0.8, speed=0.1, force=10, block=True)"
   ]
  },
  {
   "cell_type": "code",
   "execution_count": null,
   "metadata": {},
   "outputs": [],
   "source": [
    "go_to_home()"
   ]
  },
  {
   "cell_type": "code",
   "execution_count": 27,
   "metadata": {},
   "outputs": [],
   "source": [
    "rob.translate((0, 0, -0.01), acc=0.1, vel=0.2, wait=False)"
   ]
  },
  {
   "cell_type": "code",
   "execution_count": 56,
   "metadata": {},
   "outputs": [],
   "source": [
    "Robotiq.goto(robotiq_client, pos=40*0.14/48.0+1.12/48.0, speed=0.5, force=10, block=False)"
   ]
  },
  {
   "cell_type": "code",
   "execution_count": 13,
   "metadata": {},
   "outputs": [
    {
     "name": "stdout",
     "output_type": "stream",
     "text": [
      "<Transform:\n",
      "<Orientation: \n",
      "array([[-0.01289458,  0.99989471,  0.0066557 ],\n",
      "       [ 0.99991571,  0.01288417,  0.00160434],\n",
      "       [ 0.00151842,  0.00667583, -0.99997656]])>\n",
      "<Vector: (0.05006, 0.39995, 0.22845)>\n",
      ">\n"
     ]
    }
   ],
   "source": [
    "#rob.movel_tool((0,0,0,0,0,pi),acc=0.1, vel=0.2)\n",
    "pos_x = rob.get_pose().pos.x\n",
    "pos_y = rob.get_pose().pos.y\n",
    "rospy.sleep(0.5)\n",
    "rob.translate((0.05-pos_x,0.4-pos_y,0), acc=0.1, vel=0.4, wait=True)\n",
    "print rob.get_pose()"
   ]
  },
  {
   "cell_type": "code",
   "execution_count": 14,
   "metadata": {},
   "outputs": [],
   "source": [
    "Robotiq.goto(robotiq_client, pos=0.8, speed=0.5, force=10, block=True)"
   ]
  },
  {
   "cell_type": "code",
   "execution_count": 20,
   "metadata": {},
   "outputs": [
    {
     "ename": "KeyboardInterrupt",
     "evalue": "",
     "output_type": "error",
     "traceback": [
      "\u001b[0;31m-----------------------------------------\u001b[0m",
      "\u001b[0;31mKeyboardInterrupt\u001b[0mTraceback (most recent call last)",
      "\u001b[0;32m<ipython-input-20-4a7e4c92aeb6>\u001b[0m in \u001b[0;36m<module>\u001b[0;34m()\u001b[0m\n\u001b[1;32m      7\u001b[0m \u001b[0mrob\u001b[0m\u001b[0;34m.\u001b[0m\u001b[0mmovel_tool\u001b[0m\u001b[0;34m(\u001b[0m\u001b[0;34m(\u001b[0m\u001b[0;36m0\u001b[0m\u001b[0;34m,\u001b[0m\u001b[0;36m0\u001b[0m\u001b[0;34m,\u001b[0m\u001b[0;36m0\u001b[0m\u001b[0;34m,\u001b[0m\u001b[0;36m0\u001b[0m\u001b[0;34m,\u001b[0m\u001b[0;34m-\u001b[0m\u001b[0mpi\u001b[0m\u001b[0;34m/\u001b[0m\u001b[0;36m5\u001b[0m\u001b[0;34m,\u001b[0m\u001b[0;36m0\u001b[0m\u001b[0;34m)\u001b[0m\u001b[0;34m,\u001b[0m\u001b[0macc\u001b[0m\u001b[0;34m=\u001b[0m\u001b[0;36m0.1\u001b[0m\u001b[0;34m,\u001b[0m \u001b[0mvel\u001b[0m\u001b[0;34m=\u001b[0m\u001b[0;36m0.2\u001b[0m\u001b[0;34m)\u001b[0m\u001b[0;34m\u001b[0m\u001b[0m\n\u001b[1;32m      8\u001b[0m \u001b[0mrob\u001b[0m\u001b[0;34m.\u001b[0m\u001b[0mset_tcp\u001b[0m\u001b[0;34m(\u001b[0m\u001b[0;34m(\u001b[0m\u001b[0;36m0.002\u001b[0m\u001b[0;34m,\u001b[0m \u001b[0;36m0\u001b[0m\u001b[0;34m,\u001b[0m \u001b[0;36m0.356\u001b[0m\u001b[0;34m,\u001b[0m \u001b[0;36m0\u001b[0m\u001b[0;34m,\u001b[0m \u001b[0;36m0\u001b[0m\u001b[0;34m,\u001b[0m \u001b[0;36m0\u001b[0m\u001b[0;34m)\u001b[0m\u001b[0;34m)\u001b[0m\u001b[0;34m\u001b[0m\u001b[0m\n\u001b[0;32m----> 9\u001b[0;31m \u001b[0mrospy\u001b[0m\u001b[0;34m.\u001b[0m\u001b[0msleep\u001b[0m\u001b[0;34m(\u001b[0m\u001b[0;36m0.5\u001b[0m\u001b[0;34m)\u001b[0m\u001b[0;34m\u001b[0m\u001b[0m\n\u001b[0m\u001b[1;32m     10\u001b[0m \u001b[0mrob\u001b[0m\u001b[0;34m.\u001b[0m\u001b[0mmovel_tool\u001b[0m\u001b[0;34m(\u001b[0m\u001b[0;34m(\u001b[0m\u001b[0;36m0\u001b[0m\u001b[0;34m,\u001b[0m\u001b[0;36m0\u001b[0m\u001b[0;34m,\u001b[0m\u001b[0;36m0\u001b[0m\u001b[0;34m,\u001b[0m\u001b[0;36m0\u001b[0m\u001b[0;34m,\u001b[0m\u001b[0mpi\u001b[0m\u001b[0;34m/\u001b[0m\u001b[0;36m5\u001b[0m\u001b[0;34m,\u001b[0m\u001b[0;36m0\u001b[0m\u001b[0;34m)\u001b[0m\u001b[0;34m,\u001b[0m\u001b[0macc\u001b[0m\u001b[0;34m=\u001b[0m\u001b[0;36m0.1\u001b[0m\u001b[0;34m,\u001b[0m \u001b[0mvel\u001b[0m\u001b[0;34m=\u001b[0m\u001b[0;36m0.2\u001b[0m\u001b[0;34m)\u001b[0m\u001b[0;34m\u001b[0m\u001b[0m\n\u001b[1;32m     11\u001b[0m \u001b[0mrob\u001b[0m\u001b[0;34m.\u001b[0m\u001b[0mmovel_tool\u001b[0m\u001b[0;34m(\u001b[0m\u001b[0;34m(\u001b[0m\u001b[0;36m0\u001b[0m\u001b[0;34m,\u001b[0m\u001b[0;36m0\u001b[0m\u001b[0;34m,\u001b[0m\u001b[0;36m0\u001b[0m\u001b[0;34m,\u001b[0m\u001b[0;36m0\u001b[0m\u001b[0;34m,\u001b[0m\u001b[0;34m-\u001b[0m\u001b[0mpi\u001b[0m\u001b[0;34m/\u001b[0m\u001b[0;36m5\u001b[0m\u001b[0;34m,\u001b[0m\u001b[0;36m0\u001b[0m\u001b[0;34m)\u001b[0m\u001b[0;34m,\u001b[0m\u001b[0macc\u001b[0m\u001b[0;34m=\u001b[0m\u001b[0;36m0.1\u001b[0m\u001b[0;34m,\u001b[0m \u001b[0mvel\u001b[0m\u001b[0;34m=\u001b[0m\u001b[0;36m0.2\u001b[0m\u001b[0;34m)\u001b[0m\u001b[0;34m\u001b[0m\u001b[0m\n",
      "\u001b[0;32m/opt/ros/kinetic/lib/python2.7/dist-packages/rospy/timer.pyc\u001b[0m in \u001b[0;36msleep\u001b[0;34m(duration)\u001b[0m\n\u001b[1;32m    132\u001b[0m             \u001b[0;32mreturn\u001b[0m\u001b[0;34m\u001b[0m\u001b[0m\n\u001b[1;32m    133\u001b[0m         \u001b[0;32melse\u001b[0m\u001b[0;34m:\u001b[0m\u001b[0;34m\u001b[0m\u001b[0m\n\u001b[0;32m--> 134\u001b[0;31m             \u001b[0mrospy\u001b[0m\u001b[0;34m.\u001b[0m\u001b[0mrostime\u001b[0m\u001b[0;34m.\u001b[0m\u001b[0mwallsleep\u001b[0m\u001b[0;34m(\u001b[0m\u001b[0mduration\u001b[0m\u001b[0;34m)\u001b[0m\u001b[0;34m\u001b[0m\u001b[0m\n\u001b[0m\u001b[1;32m    135\u001b[0m     \u001b[0;32melse\u001b[0m\u001b[0;34m:\u001b[0m\u001b[0;34m\u001b[0m\u001b[0m\n\u001b[1;32m    136\u001b[0m         \u001b[0minitial_rostime\u001b[0m \u001b[0;34m=\u001b[0m \u001b[0mrospy\u001b[0m\u001b[0;34m.\u001b[0m\u001b[0mrostime\u001b[0m\u001b[0;34m.\u001b[0m\u001b[0mget_rostime\u001b[0m\u001b[0;34m(\u001b[0m\u001b[0;34m)\u001b[0m\u001b[0;34m\u001b[0m\u001b[0m\n",
      "\u001b[0;32m/opt/ros/kinetic/lib/python2.7/dist-packages/rospy/rostime.pyc\u001b[0m in \u001b[0;36mwallsleep\u001b[0;34m(duration)\u001b[0m\n\u001b[1;32m    275\u001b[0m             \u001b[0;32mpass\u001b[0m\u001b[0;34m\u001b[0m\u001b[0m\n\u001b[1;32m    276\u001b[0m     \u001b[0;32melse\u001b[0m\u001b[0;34m:\u001b[0m\u001b[0;34m\u001b[0m\u001b[0m\n\u001b[0;32m--> 277\u001b[0;31m         \u001b[0mtime\u001b[0m\u001b[0;34m.\u001b[0m\u001b[0msleep\u001b[0m\u001b[0;34m(\u001b[0m\u001b[0mduration\u001b[0m\u001b[0;34m)\u001b[0m\u001b[0;34m\u001b[0m\u001b[0m\n\u001b[0m",
      "\u001b[0;31mKeyboardInterrupt\u001b[0m: "
     ]
    }
   ],
   "source": [
    "go_to_safe_place()\n",
    "Robotiq.goto(robotiq_client, pos=0.023, speed=0.5, force=10, block=True)\n",
    "\n",
    "rob.set_tcp((0, 0, 0, 0, 0, 0))\n",
    "rospy.sleep(0.5)\n",
    "rob.movel_tool((0,0,0,0,pi/5,0),acc=0.1, vel=0.2)\n",
    "rob.movel_tool((0,0,0,0,-pi/5,0),acc=0.1, vel=0.2)\n",
    "rob.set_tcp((0.002, 0, 0.356, 0, 0, 0))\n",
    "rospy.sleep(0.5)\n",
    "rob.movel_tool((0,0,0,0,pi/5,0),acc=0.1, vel=0.2)\n",
    "rob.movel_tool((0,0,0,0,-pi/5,0),acc=0.1, vel=0.2)\n",
    "rob.set_tcp((0, 0, 0, 0, 0, 0))\n",
    "rospy.sleep(0.5)\n",
    "rob.movel_tool((0,0,0,0,pi/5,0),acc=0.1, vel=0.2)\n",
    "rob.movel_tool((0,0,0,0,-pi/5,0),acc=0.1, vel=0.2)"
   ]
  },
  {
   "cell_type": "code",
   "execution_count": 25,
   "metadata": {},
   "outputs": [
    {
     "data": {
      "text/plain": [
       "<Transform:\n",
       "<Orientation: \n",
       "array([[-0.01305109,  0.99989524,  0.00625989],\n",
       "       [ 0.99991361,  0.01304105,  0.00164169],\n",
       "       [ 0.00155988,  0.00628078, -0.99997906]])>\n",
       "<Vector: (0.04293, 0.85097, 0.45825)>\n",
       ">"
      ]
     },
     "execution_count": 25,
     "metadata": {},
     "output_type": "execute_result"
    }
   ],
   "source": [
    "go_to_safe_place()\n",
    "softtip()\n",
    "Robotiq.goto(robotiq_client, pos=0.023, speed=0.1, force=10, block=True)\n",
    "servo_pub.publish(10)    \n",
    "pos_x = rob.get_pose().pos.x+0.007\n",
    "pos_y = rob.get_pose().pos.y-0.001\n",
    "rospy.sleep(0.5)\n",
    "rob.translate((0.05-pos_x,0.85-pos_y,0), acc=0.1, vel=0.4, wait=True)"
   ]
  },
  {
   "cell_type": "code",
   "execution_count": 9,
   "metadata": {},
   "outputs": [
    {
     "data": {
      "text/plain": [
       "<Transform:\n",
       "<Orientation: \n",
       "array([[-0.01308933,  0.99989511,  0.00619996],\n",
       "       [ 0.99991303,  0.01307907,  0.00169334],\n",
       "       [ 0.00161207,  0.00622159, -0.99997935]])>\n",
       "<Vector: (0.04282, 0.80750, 0.45825)>\n",
       ">"
      ]
     },
     "execution_count": 9,
     "metadata": {},
     "output_type": "execute_result"
    }
   ],
   "source": [
    "go_to_safe_place()\n",
    "hardtip()\n",
    "Robotiq.goto(robotiq_client, pos=0.023, speed=0.1, force=10, block=True)\n",
    "servo_pub.publish(10)    \n",
    "pos_x = rob.get_pose().pos.x+0.007\n",
    "pos_y = rob.get_pose().pos.y-0.001\n",
    "rospy.sleep(0.5)\n",
    "rob.translate((0.05-pos_x,0.85-pos_y,0), acc=0.1, vel=0.4, wait=True)\n",
    "rob.movel_tool((0,0,0,0,0,0),acc=0.1, vel=0.2)\n",
    "rob.translate_tool((0.0065,0,0),acc=0.1, vel=0.2)"
   ]
  },
  {
   "cell_type": "code",
   "execution_count": 5,
   "metadata": {},
   "outputs": [
    {
     "name": "stdout",
     "output_type": "stream",
     "text": [
      "(-3 <= x) & (x < 3)\n",
      "0.0127120018005\n"
     ]
    }
   ],
   "source": [
    "from sympy import symbols, solve\n",
    "import time\n",
    "time0 = time.time()\n",
    "x = symbols('x')\n",
    "f1 = 2 * x + 6 - 7 * x + 9\n",
    "f2 = 2 * (4 * x + 2) - 5 * (x - 1)\n",
    "print solve([f1 > 0, f2 >= 0])\n",
    "print time.time()-time0"
   ]
  },
  {
   "cell_type": "code",
   "execution_count": 22,
   "metadata": {},
   "outputs": [],
   "source": [
    "Robotiq.goto(robotiq_client, pos=0.75*0.012+0.0095, speed=0.1, force=10, block=True)\n",
    "softtip()"
   ]
  },
  {
   "cell_type": "code",
   "execution_count": 32,
   "metadata": {},
   "outputs": [],
   "source": [
    "for i in range(1,24):\n",
    "    servo_pub.publish(round(150-72/11*i))\n",
    "    rob.translate_tool((0,0,0.001), acc=0.1, vel=0.2, wait=True) "
   ]
  },
  {
   "cell_type": "code",
   "execution_count": 37,
   "metadata": {},
   "outputs": [
    {
     "name": "stdout",
     "output_type": "stream",
     "text": [
      "<Transform:\n",
      "<Orientation: \n",
      "array([[-0.01294484,  0.99989614,  0.00633607],\n",
      "       [ 0.99991511,  0.01293516,  0.00156607],\n",
      "       [ 0.00148395,  0.0063558 , -0.9999787 ]])>\n",
      "<Vector: (0.04309, 0.85098, 0.02115)>\n",
      ">\n"
     ]
    }
   ],
   "source": [
    "print rob.get_pose()"
   ]
  },
  {
   "cell_type": "code",
   "execution_count": 20,
   "metadata": {},
   "outputs": [],
   "source": [
    "Robotiq.goto(robotiq_client, pos=0.8, speed=0.1, force=10, block=True)"
   ]
  },
  {
   "cell_type": "code",
   "execution_count": 63,
   "metadata": {},
   "outputs": [],
   "source": [
    "hardtip()"
   ]
  },
  {
   "cell_type": "code",
   "execution_count": 33,
   "metadata": {},
   "outputs": [],
   "source": [
    "rob.set_tcp((0, 0.003, 0.356, 0, 0, 0))\n",
    "rospy.sleep(0.5)\n",
    "rob.movel_tool((0,0,0,0,0,-pi), acc=0.1, vel=0.2, wait=True)"
   ]
  },
  {
   "cell_type": "code",
   "execution_count": 27,
   "metadata": {},
   "outputs": [
    {
     "data": {
      "text/plain": [
       "<Transform:\n",
       "<Orientation: \n",
       "array([[-0.01288596,  0.9998975 ,  0.0062404 ],\n",
       "       [ 0.99991523,  0.01287405,  0.00194468],\n",
       "       [ 0.00186414,  0.00626493, -0.99997864]])>\n",
       "<Vector: (0.04603, 0.85399, 0.39044)>\n",
       ">"
      ]
     },
     "execution_count": 27,
     "metadata": {},
     "output_type": "execute_result"
    }
   ],
   "source": [
    "go_to_safe_place()\n",
    "rob.set_tcp((-0.002, 0, 0.354, 0, 0, 0))\n",
    "rospy.sleep(0.5)\n",
    "rob.movel_tool((0,0,0,0,0,0*pi/180), acc=0.1, vel=0.2, wait=True)\n",
    "#if np.cross([fingertip2normal[0], fingertip2normal[1]], [-sin(alpha), cos(alpha)])>0:\n",
    "#rob.movel_tool((0,0,0,0,-20*pi/180,0), acc=0.1, vel=0.2, wait=True)\n",
    "rob.set_tcp((0, 0, 0, 0, 0, 0))\n",
    "rospy.sleep(0.5)\n",
    "softtip()\n",
    "#go_to_safe_place()\n",
    "servo_pub.publish(100)\n",
    "tcp2fingertip=m3d.Transform()\n",
    "tcp2fingertip.pos.x = -0.002\n",
    "tcp2fingertip.pos.y = 0  \n",
    "tcp2fingertip.pos.z = 0.354\n",
    "world2tcp = rob.get_pose()\n",
    "world2tcp.pos.x+=0.004\n",
    "world2tcp.pos.y-=0.002\n",
    "world2tcp.orient=np.array([[0,1,0],[1,0,0],[0,0,-1]])\n",
    "world2fingertip=(world2tcp*tcp2fingertip)\n",
    "rob.translate((0.05-world2fingertip.pos.x,0.85-world2fingertip.pos.y,0), acc=0.1, vel=0.4, wait=True)\n",
    "rob.translate((0,0,-0.068), acc=0.1, vel=0.4, wait=True)"
   ]
  },
  {
   "cell_type": "code",
   "execution_count": 29,
   "metadata": {},
   "outputs": [],
   "source": [
    "rob.set_tcp((-0.002, 0, 0.354, 0, 0, 0))\n",
    "rospy.sleep(0.5)\n",
    "rob.movel_tool((0,0,0,0,pi/6,0), acc=0.1, vel=0.2, wait=True)\n",
    "rob.movel_tool((0,0,0,0,-pi/6,0), acc=0.1, vel=0.2, wait=True)\n",
    "rob.set_tcp((0, 0, 0, 0, 0, 0))\n",
    "rospy.sleep(0.5)"
   ]
  },
  {
   "cell_type": "code",
   "execution_count": 71,
   "metadata": {},
   "outputs": [
    {
     "name": "stdout",
     "output_type": "stream",
     "text": [
      "<Transform:\n",
      "<Orientation: \n",
      "array([[ 0.99989078,  0.01345517,  0.00611427],\n",
      "       [ 0.01344501, -0.99990817,  0.00170076],\n",
      "       [ 0.0061366 , -0.00161837, -0.99997986]])>\n",
      "<Vector: (0.04980, 0.79797, 0.39029)>\n",
      "> <Transform:\n",
      "<Orientation: \n",
      "array([[ 0.99989078,  0.01345517,  0.00611427],\n",
      "       [ 0.01344501, -0.99990817,  0.00170076],\n",
      "       [ 0.0061366 , -0.00161837, -0.99997986]])>\n",
      "<Vector: (0.05398, 0.79860, 0.03431)>\n",
      "> <Transform:\n",
      "<Orientation: \n",
      "array([[1., 0., 0.],\n",
      "       [0., 1., 0.],\n",
      "       [0., 0., 1.]])>\n",
      "<Vector: (0.00200, 0.00000, 0.35600)>\n",
      ">\n"
     ]
    }
   ],
   "source": [
    "tcp2fingertip=m3d.Transform()\n",
    "tcp2fingertip.pos.x = 0.002\n",
    "tcp2fingertip.pos.y = 0   \n",
    "tcp2fingertip.pos.z = 0.356\n",
    "world2tcp = rob.get_pose()\n",
    "world2tcp.pos.x+=0.008\n",
    "world2tcp.pos.y-=0.001\n",
    "world2fingertip=(world2tcp*tcp2fingertip)\n",
    "print world2tcp, world2fingertip, tcp2fingertip"
   ]
  },
  {
   "cell_type": "code",
   "execution_count": 73,
   "metadata": {},
   "outputs": [
    {
     "name": "stdout",
     "output_type": "stream",
     "text": [
      "<Transform:\n",
      "<Orientation: \n",
      "array([[-0.01293961,  0.99989677,  0.00624669],\n",
      "       [ 0.9999151 ,  0.01292975,  0.00161633],\n",
      "       [ 0.0015354 ,  0.00626707, -0.99997918]])>\n",
      "<Vector: (0.04318, 0.54331, 0.45826)>\n",
      ">\n"
     ]
    }
   ],
   "source": [
    "print rob.get_pose()"
   ]
  },
  {
   "cell_type": "code",
   "execution_count": 28,
   "metadata": {},
   "outputs": [],
   "source": [
    "go_to_safe_place()"
   ]
  },
  {
   "cell_type": "code",
   "execution_count": 33,
   "metadata": {},
   "outputs": [
    {
     "data": {
      "text/plain": [
       "'\\nRobotiq.goto(robotiq_client, pos=0.01, speed=0.5, force=10, block=True)\\nrospy.sleep(1)\\nservo_pub.publish(10)\\nrospy.sleep(1)\\n'"
      ]
     },
     "execution_count": 33,
     "metadata": {},
     "output_type": "execute_result"
    }
   ],
   "source": [
    "Robotiq.goto(robotiq_client, pos=0.023, speed=0.5, force=10, block=True)\n",
    "servo_pub.publish(170)\n",
    "softtip()\n",
    "rospy.sleep(1)\n",
    "'''\n",
    "Robotiq.goto(robotiq_client, pos=0.01, speed=0.5, force=10, block=True)\n",
    "rospy.sleep(1)\n",
    "servo_pub.publish(10)\n",
    "rospy.sleep(1)\n",
    "'''"
   ]
  },
  {
   "cell_type": "code",
   "execution_count": 65,
   "metadata": {},
   "outputs": [],
   "source": [
    "Robotiq.goto(robotiq_client, pos=0.8, speed=0.5, force=10, block=True)\n",
    "rospy.sleep(1)"
   ]
  },
  {
   "cell_type": "code",
   "execution_count": 32,
   "metadata": {},
   "outputs": [],
   "source": [
    "servo_pub.publish(10)"
   ]
  },
  {
   "cell_type": "code",
   "execution_count": 53,
   "metadata": {},
   "outputs": [],
   "source": [
    "rob.set_tcp((-0.002, 0, 0.356, 0, 0, 0))\n",
    "rospy.sleep(0.5)\n",
    "rob.movel_tool((0,0,0,0,30*pi/180,0), acc=0.1, vel=0.2, wait=True)"
   ]
  },
  {
   "cell_type": "code",
   "execution_count": 13,
   "metadata": {},
   "outputs": [
    {
     "name": "stdout",
     "output_type": "stream",
     "text": [
      "6.79492950439e-05\n"
     ]
    }
   ],
   "source": []
  },
  {
   "cell_type": "code",
   "execution_count": 26,
   "metadata": {},
   "outputs": [
    {
     "data": {
      "text/plain": [
       "<Transform:\n",
       "<Orientation: \n",
       "array([[-0.01328703,  0.99989138,  0.00637776],\n",
       "       [ 0.99991118,  0.0132801 ,  0.00112777],\n",
       "       [ 0.00104295,  0.00639218, -0.99997903]])>\n",
       "<Vector: (0.06282, 0.67096, 0.45798)>\n",
       ">"
      ]
     },
     "execution_count": 26,
     "metadata": {},
     "output_type": "execute_result"
    }
   ],
   "source": [
    "go_to_safe_place()\n",
    "pos_x = rob.get_pose().pos.x+0.007\n",
    "pos_y = rob.get_pose().pos.y-0.001\n",
    "rob.translate((0.05-pos_x+0.02,0.69-pos_y-0.02,0), acc=0.1, vel=0.4, wait=True)\n",
    "rob.translate((0,0,-0.06), acc=0.1, vel=0.4, wait=True)\n",
    "rob.translate((0,0.04,0), acc=0.1, vel=0.4, wait=True)\n",
    "rob.translate((-0.04,0,0), acc=0.1, vel=0.4, wait=True)\n",
    "rob.translate((0,-0.04,0), acc=0.1, vel=0.4, wait=True)\n",
    "rob.translate((0.04,0,0), acc=0.1, vel=0.4, wait=True)\n",
    "rob.translate((0,0,0.06), acc=0.1, vel=0.4, wait=True)  "
   ]
  },
  {
   "cell_type": "code",
   "execution_count": 41,
   "metadata": {},
   "outputs": [
    {
     "ename": "RobotException",
     "evalue": "Robot stopped",
     "output_type": "error",
     "traceback": [
      "\u001b[0;31m-----------------------------------------\u001b[0m",
      "\u001b[0;31mRobotException\u001b[0mTraceback (most recent call last)",
      "\u001b[0;32m<ipython-input-41-c1592b07ac0a>\u001b[0m in \u001b[0;36m<module>\u001b[0;34m()\u001b[0m\n\u001b[1;32m      7\u001b[0m \u001b[0mrob\u001b[0m\u001b[0;34m.\u001b[0m\u001b[0mtranslate\u001b[0m\u001b[0;34m(\u001b[0m\u001b[0;34m(\u001b[0m\u001b[0;36m0\u001b[0m\u001b[0;34m,\u001b[0m\u001b[0;36m0\u001b[0m\u001b[0;34m,\u001b[0m\u001b[0;34m-\u001b[0m\u001b[0;36m0.075\u001b[0m\u001b[0;34m)\u001b[0m\u001b[0;34m,\u001b[0m \u001b[0macc\u001b[0m\u001b[0;34m=\u001b[0m\u001b[0;36m0.1\u001b[0m\u001b[0;34m,\u001b[0m \u001b[0mvel\u001b[0m\u001b[0;34m=\u001b[0m\u001b[0;36m0.4\u001b[0m\u001b[0;34m,\u001b[0m \u001b[0mwait\u001b[0m\u001b[0;34m=\u001b[0m\u001b[0mTrue\u001b[0m\u001b[0;34m)\u001b[0m\u001b[0;34m\u001b[0m\u001b[0m\n\u001b[1;32m      8\u001b[0m \u001b[0mrob\u001b[0m\u001b[0;34m.\u001b[0m\u001b[0mtranslate\u001b[0m\u001b[0;34m(\u001b[0m\u001b[0;34m(\u001b[0m\u001b[0;36m0\u001b[0m\u001b[0;34m,\u001b[0m\u001b[0;36m0.06\u001b[0m\u001b[0;34m,\u001b[0m\u001b[0;36m0\u001b[0m\u001b[0;34m)\u001b[0m\u001b[0;34m,\u001b[0m \u001b[0macc\u001b[0m\u001b[0;34m=\u001b[0m\u001b[0;36m0.1\u001b[0m\u001b[0;34m,\u001b[0m \u001b[0mvel\u001b[0m\u001b[0;34m=\u001b[0m\u001b[0;36m0.4\u001b[0m\u001b[0;34m,\u001b[0m \u001b[0mwait\u001b[0m\u001b[0;34m=\u001b[0m\u001b[0mTrue\u001b[0m\u001b[0;34m)\u001b[0m\u001b[0;34m\u001b[0m\u001b[0m\n\u001b[0;32m----> 9\u001b[0;31m \u001b[0mrob\u001b[0m\u001b[0;34m.\u001b[0m\u001b[0mtranslate\u001b[0m\u001b[0;34m(\u001b[0m\u001b[0;34m(\u001b[0m\u001b[0;34m-\u001b[0m\u001b[0;36m0.06\u001b[0m\u001b[0;34m,\u001b[0m\u001b[0;36m0\u001b[0m\u001b[0;34m,\u001b[0m\u001b[0;36m0\u001b[0m\u001b[0;34m)\u001b[0m\u001b[0;34m,\u001b[0m \u001b[0macc\u001b[0m\u001b[0;34m=\u001b[0m\u001b[0;36m0.1\u001b[0m\u001b[0;34m,\u001b[0m \u001b[0mvel\u001b[0m\u001b[0;34m=\u001b[0m\u001b[0;36m0.4\u001b[0m\u001b[0;34m,\u001b[0m \u001b[0mwait\u001b[0m\u001b[0;34m=\u001b[0m\u001b[0mTrue\u001b[0m\u001b[0;34m)\u001b[0m\u001b[0;34m\u001b[0m\u001b[0m\n\u001b[0m\u001b[1;32m     10\u001b[0m \u001b[0mrob\u001b[0m\u001b[0;34m.\u001b[0m\u001b[0mtranslate\u001b[0m\u001b[0;34m(\u001b[0m\u001b[0;34m(\u001b[0m\u001b[0;36m0\u001b[0m\u001b[0;34m,\u001b[0m\u001b[0;34m-\u001b[0m\u001b[0;36m0.06\u001b[0m\u001b[0;34m,\u001b[0m\u001b[0;36m0\u001b[0m\u001b[0;34m)\u001b[0m\u001b[0;34m,\u001b[0m \u001b[0macc\u001b[0m\u001b[0;34m=\u001b[0m\u001b[0;36m0.1\u001b[0m\u001b[0;34m,\u001b[0m \u001b[0mvel\u001b[0m\u001b[0;34m=\u001b[0m\u001b[0;36m0.4\u001b[0m\u001b[0;34m,\u001b[0m \u001b[0mwait\u001b[0m\u001b[0;34m=\u001b[0m\u001b[0mTrue\u001b[0m\u001b[0;34m)\u001b[0m\u001b[0;34m\u001b[0m\u001b[0m\n\u001b[1;32m     11\u001b[0m \u001b[0mrob\u001b[0m\u001b[0;34m.\u001b[0m\u001b[0mtranslate\u001b[0m\u001b[0;34m(\u001b[0m\u001b[0;34m(\u001b[0m\u001b[0;36m0.06\u001b[0m\u001b[0;34m,\u001b[0m\u001b[0;36m0\u001b[0m\u001b[0;34m,\u001b[0m\u001b[0;36m0\u001b[0m\u001b[0;34m)\u001b[0m\u001b[0;34m,\u001b[0m \u001b[0macc\u001b[0m\u001b[0;34m=\u001b[0m\u001b[0;36m0.1\u001b[0m\u001b[0;34m,\u001b[0m \u001b[0mvel\u001b[0m\u001b[0;34m=\u001b[0m\u001b[0;36m0.4\u001b[0m\u001b[0;34m,\u001b[0m \u001b[0mwait\u001b[0m\u001b[0;34m=\u001b[0m\u001b[0mTrue\u001b[0m\u001b[0;34m)\u001b[0m\u001b[0;34m\u001b[0m\u001b[0m\n",
      "\u001b[0;32m/home/terry/anaconda3/envs/ros_control/lib/python2.7/site-packages/urx/urrobot.pyc\u001b[0m in \u001b[0;36mtranslate\u001b[0;34m(self, vect, acc, vel, wait, command)\u001b[0m\n\u001b[1;32m    427\u001b[0m         \u001b[0mp\u001b[0m\u001b[0;34m[\u001b[0m\u001b[0;36m1\u001b[0m\u001b[0;34m]\u001b[0m \u001b[0;34m+=\u001b[0m \u001b[0mvect\u001b[0m\u001b[0;34m[\u001b[0m\u001b[0;36m1\u001b[0m\u001b[0;34m]\u001b[0m\u001b[0;34m\u001b[0m\u001b[0m\n\u001b[1;32m    428\u001b[0m         \u001b[0mp\u001b[0m\u001b[0;34m[\u001b[0m\u001b[0;36m2\u001b[0m\u001b[0;34m]\u001b[0m \u001b[0;34m+=\u001b[0m \u001b[0mvect\u001b[0m\u001b[0;34m[\u001b[0m\u001b[0;36m2\u001b[0m\u001b[0;34m]\u001b[0m\u001b[0;34m\u001b[0m\u001b[0m\n\u001b[0;32m--> 429\u001b[0;31m         \u001b[0;32mreturn\u001b[0m \u001b[0mself\u001b[0m\u001b[0;34m.\u001b[0m\u001b[0mmovex\u001b[0m\u001b[0;34m(\u001b[0m\u001b[0mcommand\u001b[0m\u001b[0;34m,\u001b[0m \u001b[0mp\u001b[0m\u001b[0;34m,\u001b[0m \u001b[0mvel\u001b[0m\u001b[0;34m=\u001b[0m\u001b[0mvel\u001b[0m\u001b[0;34m,\u001b[0m \u001b[0macc\u001b[0m\u001b[0;34m=\u001b[0m\u001b[0macc\u001b[0m\u001b[0;34m,\u001b[0m \u001b[0mwait\u001b[0m\u001b[0;34m=\u001b[0m\u001b[0mwait\u001b[0m\u001b[0;34m)\u001b[0m\u001b[0;34m\u001b[0m\u001b[0m\n\u001b[0m\u001b[1;32m    430\u001b[0m \u001b[0;34m\u001b[0m\u001b[0m\n\u001b[1;32m    431\u001b[0m     \u001b[0;32mdef\u001b[0m \u001b[0mup\u001b[0m\u001b[0;34m(\u001b[0m\u001b[0mself\u001b[0m\u001b[0;34m,\u001b[0m \u001b[0mz\u001b[0m\u001b[0;34m=\u001b[0m\u001b[0;36m0.05\u001b[0m\u001b[0;34m,\u001b[0m \u001b[0macc\u001b[0m\u001b[0;34m=\u001b[0m\u001b[0;36m0.01\u001b[0m\u001b[0;34m,\u001b[0m \u001b[0mvel\u001b[0m\u001b[0;34m=\u001b[0m\u001b[0;36m0.01\u001b[0m\u001b[0;34m)\u001b[0m\u001b[0;34m:\u001b[0m\u001b[0;34m\u001b[0m\u001b[0m\n",
      "\u001b[0;32m/home/terry/anaconda3/envs/ros_control/lib/python2.7/site-packages/urx/robot.pyc\u001b[0m in \u001b[0;36mmovex\u001b[0;34m(self, command, pose, acc, vel, wait, relative, threshold)\u001b[0m\n\u001b[1;32m    178\u001b[0m             \u001b[0;32mreturn\u001b[0m \u001b[0mself\u001b[0m\u001b[0;34m.\u001b[0m\u001b[0madd_pose_base\u001b[0m\u001b[0;34m(\u001b[0m\u001b[0mt\u001b[0m\u001b[0;34m,\u001b[0m \u001b[0macc\u001b[0m\u001b[0;34m,\u001b[0m \u001b[0mvel\u001b[0m\u001b[0;34m,\u001b[0m \u001b[0mwait\u001b[0m\u001b[0;34m=\u001b[0m\u001b[0mwait\u001b[0m\u001b[0;34m,\u001b[0m \u001b[0mcommand\u001b[0m\u001b[0;34m=\u001b[0m\u001b[0mcommand\u001b[0m\u001b[0;34m,\u001b[0m \u001b[0mthreshold\u001b[0m\u001b[0;34m=\u001b[0m\u001b[0mthreshold\u001b[0m\u001b[0;34m)\u001b[0m\u001b[0;34m\u001b[0m\u001b[0m\n\u001b[1;32m    179\u001b[0m         \u001b[0;32melse\u001b[0m\u001b[0;34m:\u001b[0m\u001b[0;34m\u001b[0m\u001b[0m\n\u001b[0;32m--> 180\u001b[0;31m             \u001b[0;32mreturn\u001b[0m \u001b[0mself\u001b[0m\u001b[0;34m.\u001b[0m\u001b[0mset_pose\u001b[0m\u001b[0;34m(\u001b[0m\u001b[0mt\u001b[0m\u001b[0;34m,\u001b[0m \u001b[0macc\u001b[0m\u001b[0;34m,\u001b[0m \u001b[0mvel\u001b[0m\u001b[0;34m,\u001b[0m \u001b[0mwait\u001b[0m\u001b[0;34m=\u001b[0m\u001b[0mwait\u001b[0m\u001b[0;34m,\u001b[0m \u001b[0mcommand\u001b[0m\u001b[0;34m=\u001b[0m\u001b[0mcommand\u001b[0m\u001b[0;34m,\u001b[0m \u001b[0mthreshold\u001b[0m\u001b[0;34m=\u001b[0m\u001b[0mthreshold\u001b[0m\u001b[0;34m)\u001b[0m\u001b[0;34m\u001b[0m\u001b[0m\n\u001b[0m\u001b[1;32m    181\u001b[0m \u001b[0;34m\u001b[0m\u001b[0m\n\u001b[1;32m    182\u001b[0m     \u001b[0;32mdef\u001b[0m \u001b[0mmovexs\u001b[0m\u001b[0;34m(\u001b[0m\u001b[0mself\u001b[0m\u001b[0;34m,\u001b[0m \u001b[0mcommand\u001b[0m\u001b[0;34m,\u001b[0m \u001b[0mpose_list\u001b[0m\u001b[0;34m,\u001b[0m \u001b[0macc\u001b[0m\u001b[0;34m=\u001b[0m\u001b[0;36m0.01\u001b[0m\u001b[0;34m,\u001b[0m \u001b[0mvel\u001b[0m\u001b[0;34m=\u001b[0m\u001b[0;36m0.01\u001b[0m\u001b[0;34m,\u001b[0m \u001b[0mradius\u001b[0m\u001b[0;34m=\u001b[0m\u001b[0;36m0.01\u001b[0m\u001b[0;34m,\u001b[0m \u001b[0mwait\u001b[0m\u001b[0;34m=\u001b[0m\u001b[0mTrue\u001b[0m\u001b[0;34m,\u001b[0m \u001b[0mthreshold\u001b[0m\u001b[0;34m=\u001b[0m\u001b[0mNone\u001b[0m\u001b[0;34m)\u001b[0m\u001b[0;34m:\u001b[0m\u001b[0;34m\u001b[0m\u001b[0m\n",
      "\u001b[0;32m/home/terry/anaconda3/envs/ros_control/lib/python2.7/site-packages/urx/robot.pyc\u001b[0m in \u001b[0;36mset_pose\u001b[0;34m(self, trans, acc, vel, wait, command, threshold)\u001b[0m\n\u001b[1;32m    103\u001b[0m         \u001b[0mself\u001b[0m\u001b[0;34m.\u001b[0m\u001b[0mlogger\u001b[0m\u001b[0;34m.\u001b[0m\u001b[0mdebug\u001b[0m\u001b[0;34m(\u001b[0m\u001b[0;34m\"Setting pose to %s\"\u001b[0m\u001b[0;34m,\u001b[0m \u001b[0mtrans\u001b[0m\u001b[0;34m.\u001b[0m\u001b[0mpose_vector\u001b[0m\u001b[0;34m)\u001b[0m\u001b[0;34m\u001b[0m\u001b[0m\n\u001b[1;32m    104\u001b[0m         \u001b[0mt\u001b[0m \u001b[0;34m=\u001b[0m \u001b[0mself\u001b[0m\u001b[0;34m.\u001b[0m\u001b[0mcsys\u001b[0m \u001b[0;34m*\u001b[0m \u001b[0mtrans\u001b[0m\u001b[0;34m\u001b[0m\u001b[0m\n\u001b[0;32m--> 105\u001b[0;31m         \u001b[0mpose\u001b[0m \u001b[0;34m=\u001b[0m \u001b[0mURRobot\u001b[0m\u001b[0;34m.\u001b[0m\u001b[0mmovex\u001b[0m\u001b[0;34m(\u001b[0m\u001b[0mself\u001b[0m\u001b[0;34m,\u001b[0m \u001b[0mcommand\u001b[0m\u001b[0;34m,\u001b[0m \u001b[0mt\u001b[0m\u001b[0;34m.\u001b[0m\u001b[0mpose_vector\u001b[0m\u001b[0;34m,\u001b[0m \u001b[0macc\u001b[0m\u001b[0;34m=\u001b[0m\u001b[0macc\u001b[0m\u001b[0;34m,\u001b[0m \u001b[0mvel\u001b[0m\u001b[0;34m=\u001b[0m\u001b[0mvel\u001b[0m\u001b[0;34m,\u001b[0m \u001b[0mwait\u001b[0m\u001b[0;34m=\u001b[0m\u001b[0mwait\u001b[0m\u001b[0;34m,\u001b[0m \u001b[0mthreshold\u001b[0m\u001b[0;34m=\u001b[0m\u001b[0mthreshold\u001b[0m\u001b[0;34m)\u001b[0m\u001b[0;34m\u001b[0m\u001b[0m\n\u001b[0m\u001b[1;32m    106\u001b[0m         \u001b[0;32mif\u001b[0m \u001b[0mpose\u001b[0m \u001b[0;32mis\u001b[0m \u001b[0;32mnot\u001b[0m \u001b[0mNone\u001b[0m\u001b[0;34m:\u001b[0m\u001b[0;34m\u001b[0m\u001b[0m\n\u001b[1;32m    107\u001b[0m             \u001b[0;32mreturn\u001b[0m \u001b[0mself\u001b[0m\u001b[0;34m.\u001b[0m\u001b[0mcsys\u001b[0m\u001b[0;34m.\u001b[0m\u001b[0minverse\u001b[0m \u001b[0;34m*\u001b[0m \u001b[0mm3d\u001b[0m\u001b[0;34m.\u001b[0m\u001b[0mTransform\u001b[0m\u001b[0;34m(\u001b[0m\u001b[0mpose\u001b[0m\u001b[0;34m)\u001b[0m\u001b[0;34m\u001b[0m\u001b[0m\n",
      "\u001b[0;32m/home/terry/anaconda3/envs/ros_control/lib/python2.7/site-packages/urx/urrobot.pyc\u001b[0m in \u001b[0;36mmovex\u001b[0;34m(self, command, tpose, acc, vel, wait, relative, threshold)\u001b[0m\n\u001b[1;32m    314\u001b[0m         \u001b[0mself\u001b[0m\u001b[0;34m.\u001b[0m\u001b[0msend_program\u001b[0m\u001b[0;34m(\u001b[0m\u001b[0mprog\u001b[0m\u001b[0;34m)\u001b[0m\u001b[0;34m\u001b[0m\u001b[0m\n\u001b[1;32m    315\u001b[0m         \u001b[0;32mif\u001b[0m \u001b[0mwait\u001b[0m\u001b[0;34m:\u001b[0m\u001b[0;34m\u001b[0m\u001b[0m\n\u001b[0;32m--> 316\u001b[0;31m             \u001b[0mself\u001b[0m\u001b[0;34m.\u001b[0m\u001b[0m_wait_for_move\u001b[0m\u001b[0;34m(\u001b[0m\u001b[0mtpose\u001b[0m\u001b[0;34m[\u001b[0m\u001b[0;34m:\u001b[0m\u001b[0;36m6\u001b[0m\u001b[0;34m]\u001b[0m\u001b[0;34m,\u001b[0m \u001b[0mthreshold\u001b[0m\u001b[0;34m=\u001b[0m\u001b[0mthreshold\u001b[0m\u001b[0;34m)\u001b[0m\u001b[0;34m\u001b[0m\u001b[0m\n\u001b[0m\u001b[1;32m    317\u001b[0m             \u001b[0;32mreturn\u001b[0m \u001b[0mself\u001b[0m\u001b[0;34m.\u001b[0m\u001b[0mgetl\u001b[0m\u001b[0;34m(\u001b[0m\u001b[0;34m)\u001b[0m\u001b[0;34m\u001b[0m\u001b[0m\n\u001b[1;32m    318\u001b[0m \u001b[0;34m\u001b[0m\u001b[0m\n",
      "\u001b[0;32m/home/terry/anaconda3/envs/ros_control/lib/python2.7/site-packages/urx/urrobot.pyc\u001b[0m in \u001b[0;36m_wait_for_move\u001b[0;34m(self, target, threshold, timeout, joints)\u001b[0m\n\u001b[1;32m    215\u001b[0m         \u001b[0;32mwhile\u001b[0m \u001b[0mTrue\u001b[0m\u001b[0;34m:\u001b[0m\u001b[0;34m\u001b[0m\u001b[0m\n\u001b[1;32m    216\u001b[0m             \u001b[0;32mif\u001b[0m \u001b[0;32mnot\u001b[0m \u001b[0mself\u001b[0m\u001b[0;34m.\u001b[0m\u001b[0mis_running\u001b[0m\u001b[0;34m(\u001b[0m\u001b[0;34m)\u001b[0m\u001b[0;34m:\u001b[0m\u001b[0;34m\u001b[0m\u001b[0m\n\u001b[0;32m--> 217\u001b[0;31m                 \u001b[0;32mraise\u001b[0m \u001b[0mRobotException\u001b[0m\u001b[0;34m(\u001b[0m\u001b[0;34m\"Robot stopped\"\u001b[0m\u001b[0;34m)\u001b[0m\u001b[0;34m\u001b[0m\u001b[0m\n\u001b[0m\u001b[1;32m    218\u001b[0m             \u001b[0mdist\u001b[0m \u001b[0;34m=\u001b[0m \u001b[0mself\u001b[0m\u001b[0;34m.\u001b[0m\u001b[0m_get_dist\u001b[0m\u001b[0;34m(\u001b[0m\u001b[0mtarget\u001b[0m\u001b[0;34m,\u001b[0m \u001b[0mjoints\u001b[0m\u001b[0;34m)\u001b[0m\u001b[0;34m\u001b[0m\u001b[0m\n\u001b[1;32m    219\u001b[0m             \u001b[0mself\u001b[0m\u001b[0;34m.\u001b[0m\u001b[0mlogger\u001b[0m\u001b[0;34m.\u001b[0m\u001b[0mdebug\u001b[0m\u001b[0;34m(\u001b[0m\u001b[0;34m\"distance to target is: %s, target dist is %s\"\u001b[0m\u001b[0;34m,\u001b[0m \u001b[0mdist\u001b[0m\u001b[0;34m,\u001b[0m \u001b[0mthreshold\u001b[0m\u001b[0;34m)\u001b[0m\u001b[0;34m\u001b[0m\u001b[0m\n",
      "\u001b[0;31mRobotException\u001b[0m: Robot stopped"
     ]
    }
   ],
   "source": [
    "        hardtip()\n",
    "        go_to_safe_place()\n",
    "        pos_x = rob.get_pose().pos.x+0.007\n",
    "        pos_y = rob.get_pose().pos.y-0.001\n",
    "\n",
    "        rob.translate((0.05-pos_x+0.03,0.69-pos_y-0.03,0), acc=0.1, vel=0.4, wait=True)\n",
    "        rob.translate((0,0,-0.075), acc=0.1, vel=0.4, wait=True)\n",
    "        rob.translate((0,0.06,0), acc=0.1, vel=0.4, wait=True)\n",
    "        rob.translate((-0.06,0,0), acc=0.1, vel=0.4, wait=True)\n",
    "        rob.translate((0,-0.06,0), acc=0.1, vel=0.4, wait=True)\n",
    "        rob.translate((0.06,0,0), acc=0.1, vel=0.4, wait=True)\n",
    "        rob.translate((0,0,0.075), acc=0.01, vel=0.05, wait=True)     \n"
   ]
  },
  {
   "cell_type": "code",
   "execution_count": 26,
   "metadata": {},
   "outputs": [],
   "source": [
    "go_to_safe_place()"
   ]
  },
  {
   "cell_type": "code",
   "execution_count": 27,
   "metadata": {},
   "outputs": [],
   "source": [
    "go_to_home()"
   ]
  },
  {
   "cell_type": "code",
   "execution_count": 44,
   "metadata": {},
   "outputs": [
    {
     "name": "stdout",
     "output_type": "stream",
     "text": [
      "0.035883569954526295\n"
     ]
    }
   ],
   "source": [
    "print np.max(np.array(hori_pose_Go_stone_set)[:,2])"
   ]
  },
  {
   "cell_type": "code",
   "execution_count": 43,
   "metadata": {},
   "outputs": [
    {
     "ename": "IndexError",
     "evalue": "too many indices for array",
     "output_type": "error",
     "traceback": [
      "\u001b[0;31m-----------------------------------------\u001b[0m",
      "\u001b[0;31mIndexError\u001b[0mTraceback (most recent call last)",
      "\u001b[0;32m<ipython-input-43-83457d0eadd0>\u001b[0m in \u001b[0;36m<module>\u001b[0;34m()\u001b[0m\n\u001b[0;32m----> 1\u001b[0;31m \u001b[0mnp\u001b[0m\u001b[0;34m.\u001b[0m\u001b[0mmax\u001b[0m\u001b[0;34m(\u001b[0m\u001b[0mnp\u001b[0m\u001b[0;34m.\u001b[0m\u001b[0marray\u001b[0m\u001b[0;34m(\u001b[0m\u001b[0mver_pose_Go_stone_set\u001b[0m\u001b[0;34m)\u001b[0m\u001b[0;34m[\u001b[0m\u001b[0;34m:\u001b[0m\u001b[0;34m,\u001b[0m\u001b[0;36m2\u001b[0m\u001b[0;34m]\u001b[0m\u001b[0;34m)\u001b[0m\u001b[0;34m\u001b[0m\u001b[0m\n\u001b[0m",
      "\u001b[0;31mIndexError\u001b[0m: too many indices for array"
     ]
    }
   ],
   "source": []
  },
  {
   "cell_type": "code",
   "execution_count": 22,
   "metadata": {},
   "outputs": [],
   "source": [
    "Robotiq.goto(robotiq_client, pos=5*0.14/48.0+1.12/48.0, speed=0.1, force=10, block=True)"
   ]
  },
  {
   "cell_type": "code",
   "execution_count": 12,
   "metadata": {},
   "outputs": [],
   "source": [
    "servo_pub = rospy.Publisher('servo1', UInt16, queue_size=10)\n",
    "for current_finger_length in np.arange(0,135,1):\n",
    "    servo_pub.publish(current_finger_length)\n",
    "    rospy.sleep(0.02) #need change"
   ]
  },
  {
   "cell_type": "code",
   "execution_count": 28,
   "metadata": {},
   "outputs": [],
   "source": [
    "rob.set_tcp((-0.021, 0, 0.342, 0, 0, 0))\n",
    "rospy.sleep(0.5)\n",
    "#if np.cross([fingertip2normal[0], fingertip2normal[1]], [-sin(alpha), cos(alpha)])>0:\n",
    "rob.movel_tool((0,0,0,0,pi/6,0), acc=0.3, vel=0.8, wait=True)\n",
    "rob.movel_tool((0,0,0,0,-pi/6,0), acc=0.3, vel=0.8, wait=True)\n",
    "rob.set_tcp((0, 0, 0, 0, 0, 0))\n",
    "rospy.sleep(0.5)"
   ]
  },
  {
   "cell_type": "code",
   "execution_count": 34,
   "metadata": {},
   "outputs": [
    {
     "name": "stdout",
     "output_type": "stream",
     "text": [
      "hard_fingertip_position [0.05393207309979217, 0.7060688410464139]\n"
     ]
    },
    {
     "data": {
      "text/plain": [
       "<Transform:\n",
       "<Orientation: \n",
       "array([[-0.01286919,  0.99989759,  0.00626029],\n",
       "       [ 0.99991591,  0.01285892,  0.00167886],\n",
       "       [ 0.00159819,  0.00628137, -0.99997899]])>\n",
       "<Vector: (0.04747, 0.87057, 0.39035)>\n",
       ">"
      ]
     },
     "execution_count": 34,
     "metadata": {},
     "output_type": "execute_result"
    }
   ],
   "source": [
    "go_to_safe_place()\n",
    "Robotiq.goto(robotiq_client, pos=5*0.14/48.0+1.12/48.0, speed=0.1, force=10, block=True)\n",
    "servo_pub.publish(0)\n",
    "rob.movel_tool((0,0,0,0,0,0),acc=0.1, vel=0.2)\n",
    "tcp2fingertip=m3d.Transform()\n",
    "tcp2fingertip.pos.x = -0.021 # need change\n",
    "tcp2fingertip.pos.z = 0.342 # need change\n",
    "world2tcp = rob.get_pose()\n",
    "world2tcp.pos.x+=0\n",
    "world2tcp.pos.y-=0\n",
    "world2fingertip=(world2tcp*tcp2fingertip)\n",
    "rob.translate((0.05-world2fingertip.pos.x,0.85-world2fingertip.pos.y,0), acc=0.3, vel=0.8, wait=True)\n",
    "rob.translate((0,0,-0.068), acc=0.1, vel=0.4, wait=True)\n"
   ]
  },
  {
   "cell_type": "code",
   "execution_count": 63,
   "metadata": {},
   "outputs": [
    {
     "ename": "KeyboardInterrupt",
     "evalue": "",
     "output_type": "error",
     "traceback": [
      "\u001b[0;31m-----------------------------------------\u001b[0m",
      "\u001b[0;31mKeyboardInterrupt\u001b[0mTraceback (most recent call last)",
      "\u001b[0;32m<ipython-input-63-e1e991047713>\u001b[0m in \u001b[0;36m<module>\u001b[0;34m()\u001b[0m\n\u001b[1;32m      3\u001b[0m \u001b[0mpos_y\u001b[0m \u001b[0;34m=\u001b[0m \u001b[0mrob\u001b[0m\u001b[0;34m.\u001b[0m\u001b[0mget_pose\u001b[0m\u001b[0;34m(\u001b[0m\u001b[0;34m)\u001b[0m\u001b[0;34m.\u001b[0m\u001b[0mpos\u001b[0m\u001b[0;34m.\u001b[0m\u001b[0my\u001b[0m\u001b[0;34m-\u001b[0m\u001b[0;36m0.001\u001b[0m\u001b[0;34m\u001b[0m\u001b[0m\n\u001b[1;32m      4\u001b[0m \u001b[0mhardtip\u001b[0m\u001b[0;34m(\u001b[0m\u001b[0;34m)\u001b[0m\u001b[0;34m\u001b[0m\u001b[0m\n\u001b[0;32m----> 5\u001b[0;31m \u001b[0mrob\u001b[0m\u001b[0;34m.\u001b[0m\u001b[0mtranslate\u001b[0m\u001b[0;34m(\u001b[0m\u001b[0;34m(\u001b[0m\u001b[0;36m0.05\u001b[0m\u001b[0;34m-\u001b[0m\u001b[0mpos_x\u001b[0m\u001b[0;34m+\u001b[0m\u001b[0;36m0.048\u001b[0m\u001b[0;34m,\u001b[0m\u001b[0;36m0.69\u001b[0m\u001b[0;34m-\u001b[0m\u001b[0mpos_y\u001b[0m\u001b[0;34m,\u001b[0m\u001b[0;36m0\u001b[0m\u001b[0;34m)\u001b[0m\u001b[0;34m,\u001b[0m \u001b[0macc\u001b[0m\u001b[0;34m=\u001b[0m\u001b[0;36m0.3\u001b[0m\u001b[0;34m,\u001b[0m \u001b[0mvel\u001b[0m\u001b[0;34m=\u001b[0m\u001b[0;36m0.8\u001b[0m\u001b[0;34m,\u001b[0m \u001b[0mwait\u001b[0m\u001b[0;34m=\u001b[0m\u001b[0mTrue\u001b[0m\u001b[0;34m)\u001b[0m\u001b[0;34m\u001b[0m\u001b[0m\n\u001b[0m\u001b[1;32m      6\u001b[0m \u001b[0mrob\u001b[0m\u001b[0;34m.\u001b[0m\u001b[0mtranslate\u001b[0m\u001b[0;34m(\u001b[0m\u001b[0;34m(\u001b[0m\u001b[0;36m0\u001b[0m\u001b[0;34m,\u001b[0m\u001b[0;36m0\u001b[0m\u001b[0;34m,\u001b[0m\u001b[0;34m-\u001b[0m\u001b[0;36m0.075\u001b[0m\u001b[0;34m)\u001b[0m\u001b[0;34m,\u001b[0m \u001b[0macc\u001b[0m\u001b[0;34m=\u001b[0m\u001b[0;36m0.1\u001b[0m\u001b[0;34m,\u001b[0m \u001b[0mvel\u001b[0m\u001b[0;34m=\u001b[0m\u001b[0;36m0.4\u001b[0m\u001b[0;34m,\u001b[0m \u001b[0mwait\u001b[0m\u001b[0;34m=\u001b[0m\u001b[0mTrue\u001b[0m\u001b[0;34m)\u001b[0m\u001b[0;34m\u001b[0m\u001b[0m\n\u001b[1;32m      7\u001b[0m \u001b[0;32mfor\u001b[0m \u001b[0mi\u001b[0m \u001b[0;32min\u001b[0m \u001b[0mrange\u001b[0m\u001b[0;34m(\u001b[0m\u001b[0;36m36\u001b[0m\u001b[0;34m)\u001b[0m\u001b[0;34m:\u001b[0m\u001b[0;34m\u001b[0m\u001b[0m\n",
      "\u001b[0;32m/home/terry/anaconda3/envs/ros_control/lib/python2.7/site-packages/urx/urrobot.pyc\u001b[0m in \u001b[0;36mtranslate\u001b[0;34m(self, vect, acc, vel, wait, command)\u001b[0m\n\u001b[1;32m    427\u001b[0m         \u001b[0mp\u001b[0m\u001b[0;34m[\u001b[0m\u001b[0;36m1\u001b[0m\u001b[0;34m]\u001b[0m \u001b[0;34m+=\u001b[0m \u001b[0mvect\u001b[0m\u001b[0;34m[\u001b[0m\u001b[0;36m1\u001b[0m\u001b[0;34m]\u001b[0m\u001b[0;34m\u001b[0m\u001b[0m\n\u001b[1;32m    428\u001b[0m         \u001b[0mp\u001b[0m\u001b[0;34m[\u001b[0m\u001b[0;36m2\u001b[0m\u001b[0;34m]\u001b[0m \u001b[0;34m+=\u001b[0m \u001b[0mvect\u001b[0m\u001b[0;34m[\u001b[0m\u001b[0;36m2\u001b[0m\u001b[0;34m]\u001b[0m\u001b[0;34m\u001b[0m\u001b[0m\n\u001b[0;32m--> 429\u001b[0;31m         \u001b[0;32mreturn\u001b[0m \u001b[0mself\u001b[0m\u001b[0;34m.\u001b[0m\u001b[0mmovex\u001b[0m\u001b[0;34m(\u001b[0m\u001b[0mcommand\u001b[0m\u001b[0;34m,\u001b[0m \u001b[0mp\u001b[0m\u001b[0;34m,\u001b[0m \u001b[0mvel\u001b[0m\u001b[0;34m=\u001b[0m\u001b[0mvel\u001b[0m\u001b[0;34m,\u001b[0m \u001b[0macc\u001b[0m\u001b[0;34m=\u001b[0m\u001b[0macc\u001b[0m\u001b[0;34m,\u001b[0m \u001b[0mwait\u001b[0m\u001b[0;34m=\u001b[0m\u001b[0mwait\u001b[0m\u001b[0;34m)\u001b[0m\u001b[0;34m\u001b[0m\u001b[0m\n\u001b[0m\u001b[1;32m    430\u001b[0m \u001b[0;34m\u001b[0m\u001b[0m\n\u001b[1;32m    431\u001b[0m     \u001b[0;32mdef\u001b[0m \u001b[0mup\u001b[0m\u001b[0;34m(\u001b[0m\u001b[0mself\u001b[0m\u001b[0;34m,\u001b[0m \u001b[0mz\u001b[0m\u001b[0;34m=\u001b[0m\u001b[0;36m0.05\u001b[0m\u001b[0;34m,\u001b[0m \u001b[0macc\u001b[0m\u001b[0;34m=\u001b[0m\u001b[0;36m0.01\u001b[0m\u001b[0;34m,\u001b[0m \u001b[0mvel\u001b[0m\u001b[0;34m=\u001b[0m\u001b[0;36m0.01\u001b[0m\u001b[0;34m)\u001b[0m\u001b[0;34m:\u001b[0m\u001b[0;34m\u001b[0m\u001b[0m\n",
      "\u001b[0;32m/home/terry/anaconda3/envs/ros_control/lib/python2.7/site-packages/urx/robot.pyc\u001b[0m in \u001b[0;36mmovex\u001b[0;34m(self, command, pose, acc, vel, wait, relative, threshold)\u001b[0m\n\u001b[1;32m    178\u001b[0m             \u001b[0;32mreturn\u001b[0m \u001b[0mself\u001b[0m\u001b[0;34m.\u001b[0m\u001b[0madd_pose_base\u001b[0m\u001b[0;34m(\u001b[0m\u001b[0mt\u001b[0m\u001b[0;34m,\u001b[0m \u001b[0macc\u001b[0m\u001b[0;34m,\u001b[0m \u001b[0mvel\u001b[0m\u001b[0;34m,\u001b[0m \u001b[0mwait\u001b[0m\u001b[0;34m=\u001b[0m\u001b[0mwait\u001b[0m\u001b[0;34m,\u001b[0m \u001b[0mcommand\u001b[0m\u001b[0;34m=\u001b[0m\u001b[0mcommand\u001b[0m\u001b[0;34m,\u001b[0m \u001b[0mthreshold\u001b[0m\u001b[0;34m=\u001b[0m\u001b[0mthreshold\u001b[0m\u001b[0;34m)\u001b[0m\u001b[0;34m\u001b[0m\u001b[0m\n\u001b[1;32m    179\u001b[0m         \u001b[0;32melse\u001b[0m\u001b[0;34m:\u001b[0m\u001b[0;34m\u001b[0m\u001b[0m\n\u001b[0;32m--> 180\u001b[0;31m             \u001b[0;32mreturn\u001b[0m \u001b[0mself\u001b[0m\u001b[0;34m.\u001b[0m\u001b[0mset_pose\u001b[0m\u001b[0;34m(\u001b[0m\u001b[0mt\u001b[0m\u001b[0;34m,\u001b[0m \u001b[0macc\u001b[0m\u001b[0;34m,\u001b[0m \u001b[0mvel\u001b[0m\u001b[0;34m,\u001b[0m \u001b[0mwait\u001b[0m\u001b[0;34m=\u001b[0m\u001b[0mwait\u001b[0m\u001b[0;34m,\u001b[0m \u001b[0mcommand\u001b[0m\u001b[0;34m=\u001b[0m\u001b[0mcommand\u001b[0m\u001b[0;34m,\u001b[0m \u001b[0mthreshold\u001b[0m\u001b[0;34m=\u001b[0m\u001b[0mthreshold\u001b[0m\u001b[0;34m)\u001b[0m\u001b[0;34m\u001b[0m\u001b[0m\n\u001b[0m\u001b[1;32m    181\u001b[0m \u001b[0;34m\u001b[0m\u001b[0m\n\u001b[1;32m    182\u001b[0m     \u001b[0;32mdef\u001b[0m \u001b[0mmovexs\u001b[0m\u001b[0;34m(\u001b[0m\u001b[0mself\u001b[0m\u001b[0;34m,\u001b[0m \u001b[0mcommand\u001b[0m\u001b[0;34m,\u001b[0m \u001b[0mpose_list\u001b[0m\u001b[0;34m,\u001b[0m \u001b[0macc\u001b[0m\u001b[0;34m=\u001b[0m\u001b[0;36m0.01\u001b[0m\u001b[0;34m,\u001b[0m \u001b[0mvel\u001b[0m\u001b[0;34m=\u001b[0m\u001b[0;36m0.01\u001b[0m\u001b[0;34m,\u001b[0m \u001b[0mradius\u001b[0m\u001b[0;34m=\u001b[0m\u001b[0;36m0.01\u001b[0m\u001b[0;34m,\u001b[0m \u001b[0mwait\u001b[0m\u001b[0;34m=\u001b[0m\u001b[0mTrue\u001b[0m\u001b[0;34m,\u001b[0m \u001b[0mthreshold\u001b[0m\u001b[0;34m=\u001b[0m\u001b[0mNone\u001b[0m\u001b[0;34m)\u001b[0m\u001b[0;34m:\u001b[0m\u001b[0;34m\u001b[0m\u001b[0m\n",
      "\u001b[0;32m/home/terry/anaconda3/envs/ros_control/lib/python2.7/site-packages/urx/robot.pyc\u001b[0m in \u001b[0;36mset_pose\u001b[0;34m(self, trans, acc, vel, wait, command, threshold)\u001b[0m\n\u001b[1;32m    103\u001b[0m         \u001b[0mself\u001b[0m\u001b[0;34m.\u001b[0m\u001b[0mlogger\u001b[0m\u001b[0;34m.\u001b[0m\u001b[0mdebug\u001b[0m\u001b[0;34m(\u001b[0m\u001b[0;34m\"Setting pose to %s\"\u001b[0m\u001b[0;34m,\u001b[0m \u001b[0mtrans\u001b[0m\u001b[0;34m.\u001b[0m\u001b[0mpose_vector\u001b[0m\u001b[0;34m)\u001b[0m\u001b[0;34m\u001b[0m\u001b[0m\n\u001b[1;32m    104\u001b[0m         \u001b[0mt\u001b[0m \u001b[0;34m=\u001b[0m \u001b[0mself\u001b[0m\u001b[0;34m.\u001b[0m\u001b[0mcsys\u001b[0m \u001b[0;34m*\u001b[0m \u001b[0mtrans\u001b[0m\u001b[0;34m\u001b[0m\u001b[0m\n\u001b[0;32m--> 105\u001b[0;31m         \u001b[0mpose\u001b[0m \u001b[0;34m=\u001b[0m \u001b[0mURRobot\u001b[0m\u001b[0;34m.\u001b[0m\u001b[0mmovex\u001b[0m\u001b[0;34m(\u001b[0m\u001b[0mself\u001b[0m\u001b[0;34m,\u001b[0m \u001b[0mcommand\u001b[0m\u001b[0;34m,\u001b[0m \u001b[0mt\u001b[0m\u001b[0;34m.\u001b[0m\u001b[0mpose_vector\u001b[0m\u001b[0;34m,\u001b[0m \u001b[0macc\u001b[0m\u001b[0;34m=\u001b[0m\u001b[0macc\u001b[0m\u001b[0;34m,\u001b[0m \u001b[0mvel\u001b[0m\u001b[0;34m=\u001b[0m\u001b[0mvel\u001b[0m\u001b[0;34m,\u001b[0m \u001b[0mwait\u001b[0m\u001b[0;34m=\u001b[0m\u001b[0mwait\u001b[0m\u001b[0;34m,\u001b[0m \u001b[0mthreshold\u001b[0m\u001b[0;34m=\u001b[0m\u001b[0mthreshold\u001b[0m\u001b[0;34m)\u001b[0m\u001b[0;34m\u001b[0m\u001b[0m\n\u001b[0m\u001b[1;32m    106\u001b[0m         \u001b[0;32mif\u001b[0m \u001b[0mpose\u001b[0m \u001b[0;32mis\u001b[0m \u001b[0;32mnot\u001b[0m \u001b[0mNone\u001b[0m\u001b[0;34m:\u001b[0m\u001b[0;34m\u001b[0m\u001b[0m\n\u001b[1;32m    107\u001b[0m             \u001b[0;32mreturn\u001b[0m \u001b[0mself\u001b[0m\u001b[0;34m.\u001b[0m\u001b[0mcsys\u001b[0m\u001b[0;34m.\u001b[0m\u001b[0minverse\u001b[0m \u001b[0;34m*\u001b[0m \u001b[0mm3d\u001b[0m\u001b[0;34m.\u001b[0m\u001b[0mTransform\u001b[0m\u001b[0;34m(\u001b[0m\u001b[0mpose\u001b[0m\u001b[0;34m)\u001b[0m\u001b[0;34m\u001b[0m\u001b[0m\n",
      "\u001b[0;32m/home/terry/anaconda3/envs/ros_control/lib/python2.7/site-packages/urx/urrobot.pyc\u001b[0m in \u001b[0;36mmovex\u001b[0;34m(self, command, tpose, acc, vel, wait, relative, threshold)\u001b[0m\n\u001b[1;32m    314\u001b[0m         \u001b[0mself\u001b[0m\u001b[0;34m.\u001b[0m\u001b[0msend_program\u001b[0m\u001b[0;34m(\u001b[0m\u001b[0mprog\u001b[0m\u001b[0;34m)\u001b[0m\u001b[0;34m\u001b[0m\u001b[0m\n\u001b[1;32m    315\u001b[0m         \u001b[0;32mif\u001b[0m \u001b[0mwait\u001b[0m\u001b[0;34m:\u001b[0m\u001b[0;34m\u001b[0m\u001b[0m\n\u001b[0;32m--> 316\u001b[0;31m             \u001b[0mself\u001b[0m\u001b[0;34m.\u001b[0m\u001b[0m_wait_for_move\u001b[0m\u001b[0;34m(\u001b[0m\u001b[0mtpose\u001b[0m\u001b[0;34m[\u001b[0m\u001b[0;34m:\u001b[0m\u001b[0;36m6\u001b[0m\u001b[0;34m]\u001b[0m\u001b[0;34m,\u001b[0m \u001b[0mthreshold\u001b[0m\u001b[0;34m=\u001b[0m\u001b[0mthreshold\u001b[0m\u001b[0;34m)\u001b[0m\u001b[0;34m\u001b[0m\u001b[0m\n\u001b[0m\u001b[1;32m    317\u001b[0m             \u001b[0;32mreturn\u001b[0m \u001b[0mself\u001b[0m\u001b[0;34m.\u001b[0m\u001b[0mgetl\u001b[0m\u001b[0;34m(\u001b[0m\u001b[0;34m)\u001b[0m\u001b[0;34m\u001b[0m\u001b[0m\n\u001b[1;32m    318\u001b[0m \u001b[0;34m\u001b[0m\u001b[0m\n",
      "\u001b[0;32m/home/terry/anaconda3/envs/ros_control/lib/python2.7/site-packages/urx/urrobot.pyc\u001b[0m in \u001b[0;36m_wait_for_move\u001b[0;34m(self, target, threshold, timeout, joints)\u001b[0m\n\u001b[1;32m    206\u001b[0m         \"\"\"\n\u001b[1;32m    207\u001b[0m         \u001b[0mself\u001b[0m\u001b[0;34m.\u001b[0m\u001b[0mlogger\u001b[0m\u001b[0;34m.\u001b[0m\u001b[0mdebug\u001b[0m\u001b[0;34m(\u001b[0m\u001b[0;34m\"Waiting for move completion using threshold %s and target %s\"\u001b[0m\u001b[0;34m,\u001b[0m \u001b[0mthreshold\u001b[0m\u001b[0;34m,\u001b[0m \u001b[0mtarget\u001b[0m\u001b[0;34m)\u001b[0m\u001b[0;34m\u001b[0m\u001b[0m\n\u001b[0;32m--> 208\u001b[0;31m         \u001b[0mstart_dist\u001b[0m \u001b[0;34m=\u001b[0m \u001b[0mself\u001b[0m\u001b[0;34m.\u001b[0m\u001b[0m_get_dist\u001b[0m\u001b[0;34m(\u001b[0m\u001b[0mtarget\u001b[0m\u001b[0;34m,\u001b[0m \u001b[0mjoints\u001b[0m\u001b[0;34m)\u001b[0m\u001b[0;34m\u001b[0m\u001b[0m\n\u001b[0m\u001b[1;32m    209\u001b[0m         \u001b[0;32mif\u001b[0m \u001b[0mthreshold\u001b[0m \u001b[0;32mis\u001b[0m \u001b[0mNone\u001b[0m\u001b[0;34m:\u001b[0m\u001b[0;34m\u001b[0m\u001b[0m\n\u001b[1;32m    210\u001b[0m             \u001b[0mthreshold\u001b[0m \u001b[0;34m=\u001b[0m \u001b[0mstart_dist\u001b[0m \u001b[0;34m*\u001b[0m \u001b[0;36m0.8\u001b[0m\u001b[0;34m\u001b[0m\u001b[0m\n",
      "\u001b[0;32m/home/terry/anaconda3/envs/ros_control/lib/python2.7/site-packages/urx/urrobot.pyc\u001b[0m in \u001b[0;36m_get_dist\u001b[0;34m(self, target, joints)\u001b[0m\n\u001b[1;32m    232\u001b[0m             \u001b[0;32mreturn\u001b[0m \u001b[0mself\u001b[0m\u001b[0;34m.\u001b[0m\u001b[0m_get_joints_dist\u001b[0m\u001b[0;34m(\u001b[0m\u001b[0mtarget\u001b[0m\u001b[0;34m)\u001b[0m\u001b[0;34m\u001b[0m\u001b[0m\n\u001b[1;32m    233\u001b[0m         \u001b[0;32melse\u001b[0m\u001b[0;34m:\u001b[0m\u001b[0;34m\u001b[0m\u001b[0m\n\u001b[0;32m--> 234\u001b[0;31m             \u001b[0;32mreturn\u001b[0m \u001b[0mself\u001b[0m\u001b[0;34m.\u001b[0m\u001b[0m_get_lin_dist\u001b[0m\u001b[0;34m(\u001b[0m\u001b[0mtarget\u001b[0m\u001b[0;34m)\u001b[0m\u001b[0;34m\u001b[0m\u001b[0m\n\u001b[0m\u001b[1;32m    235\u001b[0m \u001b[0;34m\u001b[0m\u001b[0m\n\u001b[1;32m    236\u001b[0m     \u001b[0;32mdef\u001b[0m \u001b[0m_get_lin_dist\u001b[0m\u001b[0;34m(\u001b[0m\u001b[0mself\u001b[0m\u001b[0;34m,\u001b[0m \u001b[0mtarget\u001b[0m\u001b[0;34m)\u001b[0m\u001b[0;34m:\u001b[0m\u001b[0;34m\u001b[0m\u001b[0m\n",
      "\u001b[0;32m/home/terry/anaconda3/envs/ros_control/lib/python2.7/site-packages/urx/robot.pyc\u001b[0m in \u001b[0;36m_get_lin_dist\u001b[0;34m(self, target)\u001b[0m\n\u001b[1;32m     29\u001b[0m \u001b[0;34m\u001b[0m\u001b[0m\n\u001b[1;32m     30\u001b[0m     \u001b[0;32mdef\u001b[0m \u001b[0m_get_lin_dist\u001b[0m\u001b[0;34m(\u001b[0m\u001b[0mself\u001b[0m\u001b[0;34m,\u001b[0m \u001b[0mtarget\u001b[0m\u001b[0;34m)\u001b[0m\u001b[0;34m:\u001b[0m\u001b[0;34m\u001b[0m\u001b[0m\n\u001b[0;32m---> 31\u001b[0;31m         \u001b[0mpose\u001b[0m \u001b[0;34m=\u001b[0m \u001b[0mURRobot\u001b[0m\u001b[0;34m.\u001b[0m\u001b[0mgetl\u001b[0m\u001b[0;34m(\u001b[0m\u001b[0mself\u001b[0m\u001b[0;34m,\u001b[0m \u001b[0mwait\u001b[0m\u001b[0;34m=\u001b[0m\u001b[0mTrue\u001b[0m\u001b[0;34m)\u001b[0m\u001b[0;34m\u001b[0m\u001b[0m\n\u001b[0m\u001b[1;32m     32\u001b[0m         \u001b[0mtarget\u001b[0m \u001b[0;34m=\u001b[0m \u001b[0mm3d\u001b[0m\u001b[0;34m.\u001b[0m\u001b[0mTransform\u001b[0m\u001b[0;34m(\u001b[0m\u001b[0mtarget\u001b[0m\u001b[0;34m)\u001b[0m\u001b[0;34m\u001b[0m\u001b[0m\n\u001b[1;32m     33\u001b[0m         \u001b[0mpose\u001b[0m \u001b[0;34m=\u001b[0m \u001b[0mm3d\u001b[0m\u001b[0;34m.\u001b[0m\u001b[0mTransform\u001b[0m\u001b[0;34m(\u001b[0m\u001b[0mpose\u001b[0m\u001b[0;34m)\u001b[0m\u001b[0;34m\u001b[0m\u001b[0m\n",
      "\u001b[0;32m/home/terry/anaconda3/envs/ros_control/lib/python2.7/site-packages/urx/urrobot.pyc\u001b[0m in \u001b[0;36mgetl\u001b[0;34m(self, wait, _log)\u001b[0m\n\u001b[1;32m    321\u001b[0m         \u001b[0mget\u001b[0m \u001b[0mTCP\u001b[0m \u001b[0mposition\u001b[0m\u001b[0;34m\u001b[0m\u001b[0m\n\u001b[1;32m    322\u001b[0m         \"\"\"\n\u001b[0;32m--> 323\u001b[0;31m         \u001b[0mpose\u001b[0m \u001b[0;34m=\u001b[0m \u001b[0mself\u001b[0m\u001b[0;34m.\u001b[0m\u001b[0msecmon\u001b[0m\u001b[0;34m.\u001b[0m\u001b[0mget_cartesian_info\u001b[0m\u001b[0;34m(\u001b[0m\u001b[0mwait\u001b[0m\u001b[0;34m)\u001b[0m\u001b[0;34m\u001b[0m\u001b[0m\n\u001b[0m\u001b[1;32m    324\u001b[0m         \u001b[0;32mif\u001b[0m \u001b[0mpose\u001b[0m\u001b[0;34m:\u001b[0m\u001b[0;34m\u001b[0m\u001b[0m\n\u001b[1;32m    325\u001b[0m             \u001b[0mpose\u001b[0m \u001b[0;34m=\u001b[0m \u001b[0;34m[\u001b[0m\u001b[0mpose\u001b[0m\u001b[0;34m[\u001b[0m\u001b[0;34m\"X\"\u001b[0m\u001b[0;34m]\u001b[0m\u001b[0;34m,\u001b[0m \u001b[0mpose\u001b[0m\u001b[0;34m[\u001b[0m\u001b[0;34m\"Y\"\u001b[0m\u001b[0;34m]\u001b[0m\u001b[0;34m,\u001b[0m \u001b[0mpose\u001b[0m\u001b[0;34m[\u001b[0m\u001b[0;34m\"Z\"\u001b[0m\u001b[0;34m]\u001b[0m\u001b[0;34m,\u001b[0m \u001b[0mpose\u001b[0m\u001b[0;34m[\u001b[0m\u001b[0;34m\"Rx\"\u001b[0m\u001b[0;34m]\u001b[0m\u001b[0;34m,\u001b[0m \u001b[0mpose\u001b[0m\u001b[0;34m[\u001b[0m\u001b[0;34m\"Ry\"\u001b[0m\u001b[0;34m]\u001b[0m\u001b[0;34m,\u001b[0m \u001b[0mpose\u001b[0m\u001b[0;34m[\u001b[0m\u001b[0;34m\"Rz\"\u001b[0m\u001b[0;34m]\u001b[0m\u001b[0;34m]\u001b[0m\u001b[0;34m\u001b[0m\u001b[0m\n",
      "\u001b[0;32m/home/terry/anaconda3/envs/ros_control/lib/python2.7/site-packages/urx/ursecmon.pyc\u001b[0m in \u001b[0;36mget_cartesian_info\u001b[0;34m(self, wait)\u001b[0m\n\u001b[1;32m    351\u001b[0m     \u001b[0;32mdef\u001b[0m \u001b[0mget_cartesian_info\u001b[0m\u001b[0;34m(\u001b[0m\u001b[0mself\u001b[0m\u001b[0;34m,\u001b[0m \u001b[0mwait\u001b[0m\u001b[0;34m=\u001b[0m\u001b[0mFalse\u001b[0m\u001b[0;34m)\u001b[0m\u001b[0;34m:\u001b[0m\u001b[0;34m\u001b[0m\u001b[0m\n\u001b[1;32m    352\u001b[0m         \u001b[0;32mif\u001b[0m \u001b[0mwait\u001b[0m\u001b[0;34m:\u001b[0m\u001b[0;34m\u001b[0m\u001b[0m\n\u001b[0;32m--> 353\u001b[0;31m             \u001b[0mself\u001b[0m\u001b[0;34m.\u001b[0m\u001b[0mwait\u001b[0m\u001b[0;34m(\u001b[0m\u001b[0;34m)\u001b[0m\u001b[0;34m\u001b[0m\u001b[0m\n\u001b[0m\u001b[1;32m    354\u001b[0m         \u001b[0;32mwith\u001b[0m \u001b[0mself\u001b[0m\u001b[0;34m.\u001b[0m\u001b[0m_dictLock\u001b[0m\u001b[0;34m:\u001b[0m\u001b[0;34m\u001b[0m\u001b[0m\n\u001b[1;32m    355\u001b[0m             \u001b[0;32mif\u001b[0m \u001b[0;34m\"CartesianInfo\"\u001b[0m \u001b[0;32min\u001b[0m \u001b[0mself\u001b[0m\u001b[0;34m.\u001b[0m\u001b[0m_dict\u001b[0m\u001b[0;34m:\u001b[0m\u001b[0;34m\u001b[0m\u001b[0m\n",
      "\u001b[0;32m/home/terry/anaconda3/envs/ros_control/lib/python2.7/site-packages/urx/ursecmon.pyc\u001b[0m in \u001b[0;36mwait\u001b[0;34m(self, timeout)\u001b[0m\n\u001b[1;32m    345\u001b[0m         \u001b[0mtstamp\u001b[0m \u001b[0;34m=\u001b[0m \u001b[0mself\u001b[0m\u001b[0;34m.\u001b[0m\u001b[0mlastpacket_timestamp\u001b[0m\u001b[0;34m\u001b[0m\u001b[0m\n\u001b[1;32m    346\u001b[0m         \u001b[0;32mwith\u001b[0m \u001b[0mself\u001b[0m\u001b[0;34m.\u001b[0m\u001b[0m_dataEvent\u001b[0m\u001b[0;34m:\u001b[0m\u001b[0;34m\u001b[0m\u001b[0m\n\u001b[0;32m--> 347\u001b[0;31m             \u001b[0mself\u001b[0m\u001b[0;34m.\u001b[0m\u001b[0m_dataEvent\u001b[0m\u001b[0;34m.\u001b[0m\u001b[0mwait\u001b[0m\u001b[0;34m(\u001b[0m\u001b[0mtimeout\u001b[0m\u001b[0;34m)\u001b[0m\u001b[0;34m\u001b[0m\u001b[0m\n\u001b[0m\u001b[1;32m    348\u001b[0m             \u001b[0;32mif\u001b[0m \u001b[0mtstamp\u001b[0m \u001b[0;34m==\u001b[0m \u001b[0mself\u001b[0m\u001b[0;34m.\u001b[0m\u001b[0mlastpacket_timestamp\u001b[0m\u001b[0;34m:\u001b[0m\u001b[0;34m\u001b[0m\u001b[0m\n\u001b[1;32m    349\u001b[0m                 \u001b[0;32mraise\u001b[0m \u001b[0mTimeoutException\u001b[0m\u001b[0;34m(\u001b[0m\u001b[0;34m\"Did not receive a valid data packet from robot in {}\"\u001b[0m\u001b[0;34m.\u001b[0m\u001b[0mformat\u001b[0m\u001b[0;34m(\u001b[0m\u001b[0mtimeout\u001b[0m\u001b[0;34m)\u001b[0m\u001b[0;34m)\u001b[0m\u001b[0;34m\u001b[0m\u001b[0m\n",
      "\u001b[0;32m/home/terry/anaconda3/envs/ros_control/lib/python2.7/threading.pyc\u001b[0m in \u001b[0;36mwait\u001b[0;34m(self, timeout)\u001b[0m\n\u001b[1;32m    357\u001b[0m                         \u001b[0;32mbreak\u001b[0m\u001b[0;34m\u001b[0m\u001b[0m\n\u001b[1;32m    358\u001b[0m                     \u001b[0mdelay\u001b[0m \u001b[0;34m=\u001b[0m \u001b[0mmin\u001b[0m\u001b[0;34m(\u001b[0m\u001b[0mdelay\u001b[0m \u001b[0;34m*\u001b[0m \u001b[0;36m2\u001b[0m\u001b[0;34m,\u001b[0m \u001b[0mremaining\u001b[0m\u001b[0;34m,\u001b[0m \u001b[0;36m.05\u001b[0m\u001b[0;34m)\u001b[0m\u001b[0;34m\u001b[0m\u001b[0m\n\u001b[0;32m--> 359\u001b[0;31m                     \u001b[0m_sleep\u001b[0m\u001b[0;34m(\u001b[0m\u001b[0mdelay\u001b[0m\u001b[0;34m)\u001b[0m\u001b[0;34m\u001b[0m\u001b[0m\n\u001b[0m\u001b[1;32m    360\u001b[0m                 \u001b[0;32mif\u001b[0m \u001b[0;32mnot\u001b[0m \u001b[0mgotit\u001b[0m\u001b[0;34m:\u001b[0m\u001b[0;34m\u001b[0m\u001b[0m\n\u001b[1;32m    361\u001b[0m                     \u001b[0;32mif\u001b[0m \u001b[0m__debug__\u001b[0m\u001b[0;34m:\u001b[0m\u001b[0;34m\u001b[0m\u001b[0m\n",
      "\u001b[0;31mKeyboardInterrupt\u001b[0m: "
     ]
    }
   ],
   "source": []
  },
  {
   "cell_type": "code",
   "execution_count": 37,
   "metadata": {},
   "outputs": [],
   "source": [
    "            Robotiq.goto(robotiq_client, pos=(-5-1)*0.14/48.0+1.12/48.0, speed=0.2, force=10, block=False)\n"
   ]
  },
  {
   "cell_type": "code",
   "execution_count": 21,
   "metadata": {},
   "outputs": [],
   "source": [
    "go_to_end_place()"
   ]
  },
  {
   "cell_type": "code",
   "execution_count": 15,
   "metadata": {},
   "outputs": [
    {
     "name": "stdout",
     "output_type": "stream",
     "text": [
      "LINESTRING (0.1080632756600323 0.64, -0.008063275660032312 0.64, 0.05 0.7182222728291429, 0.1080632756600323 0.64)\n"
     ]
    }
   ],
   "source": [
    "from shapely.geometry import Polygon\n",
    "\n",
    "print Polygon([[0.07794+0.05,0.63], [0.05,0.735], [-0.07794+0.05,0.63]]).buffer(-0.01, cap_style=2, join_style=2).boundary\n",
    "\n",
    "#print Polygon([[0.07794+0.05,0.63], [0.05,0.735], [-0.07794+0.05,0.63]]).buffer(0, cap_style=2, join_style=2).centroid\n",
    "\n",
    "#Polygon([[0.07+0.05,0.635], [0.05,0.155+0.6], [-0.07+0.05,0.635]])"
   ]
  },
  {
   "cell_type": "code",
   "execution_count": 43,
   "metadata": {},
   "outputs": [],
   "source": [
    "        go_to_safe_place()\n",
    "        pos_x = rob.get_pose().pos.x+0.007\n",
    "        pos_y = rob.get_pose().pos.y-0.001    \n",
    "        if True:\n",
    "            hardtip()\n",
    "            servo_pub.publish(10)\n",
    "            world2tcp = rob.get_pose()\n",
    "            world2tcp.pos.x+=0.004\n",
    "            world2tcp.pos.y-=0.002\n",
    "            tcp2fingertip=m3d.Transform()\n",
    "            tcp2fingertip.pos.x = 0\n",
    "            tcp2fingertip.pos.y = 0  \n",
    "            tcp2fingertip.pos.z = 0.354\n",
    "            world2fingertip=(world2tcp*tcp2fingertip)  \n",
    "            rob.translate((0.05-pos_x,0.675-pos_y,0), acc=0.1, vel=0.4, wait=True)\n",
    "            rob.translate((0,0,-0.06), acc=0.1, vel=0.4, wait=True)\n",
    "            rob.translate((0,-0.02,0), acc=0.1, vel=0.4, wait=True) \n",
    "            rob.translate((0.03,0,0), acc=0.1, vel=0.4, wait=True) \n",
    "            rob.translate((-0.03,0.05,0), acc=0.1, vel=0.4, wait=True) \n",
    "            rob.translate((-0.05,-0.05,0), acc=0.1, vel=0.4, wait=True) \n",
    "            rob.translate((0.05,0,0), acc=0.1, vel=0.4, wait=True) \n",
    "            rob.translate((0,0,0.06), acc=0.1, vel=0.4, wait=True)\n"
   ]
  },
  {
   "cell_type": "code",
   "execution_count": 49,
   "metadata": {},
   "outputs": [
    {
     "data": {
      "text/plain": [
       "<Transform:\n",
       "<Orientation: \n",
       "array([[-1.30792334e-02,  9.99892893e-01,  6.56783956e-03],\n",
       "       [ 9.99914422e-01,  1.30808411e-02, -2.01897809e-04],\n",
       "       [-2.87789050e-04,  6.56463683e-03, -9.99978411e-01]])>\n",
       "<Vector: (0.04323, 0.75587, 0.38771)>\n",
       ">"
      ]
     },
     "execution_count": 49,
     "metadata": {},
     "output_type": "execute_result"
    }
   ],
   "source": [
    "rob.translate((-0.045,0.085,0), acc=0.1, vel=0.4, wait=True) "
   ]
  },
  {
   "cell_type": "code",
   "execution_count": 50,
   "metadata": {},
   "outputs": [
    {
     "data": {
      "text/plain": [
       "<Transform:\n",
       "<Orientation: \n",
       "array([[-0.01311306,  0.99989542,  0.00609865],\n",
       "       [ 0.99991329,  0.01310545,  0.00128495],\n",
       "       [ 0.00120489,  0.00611497, -0.99998058]])>\n",
       "<Vector: (0.04315, 0.40480, 0.45822)>\n",
       ">"
      ]
     },
     "execution_count": 50,
     "metadata": {},
     "output_type": "execute_result"
    }
   ],
   "source": [
    "                    go_to_end_place()\n",
    "                    rob.translate((0,0,-0.07), acc=0.3, vel=0.8, wait=True)\n",
    "                    Robotiq.goto(robotiq_client, pos=0.023, speed=0.5, force=10, block=True)\n",
    "                    rospy.sleep(0.5)\n",
    "                    servo_pub.publish(180)\n",
    "                    Robotiq.goto(robotiq_client, pos=0.01, speed=0.5, force=10, block=True)\n",
    "                    rospy.sleep(1)\n",
    "                    servo_pub.publish(10)\n",
    "                    rospy.sleep(1)\n",
    "                    rob.translate((0,0,0.07), acc=0.3, vel=0.8, wait=True)"
   ]
  },
  {
   "cell_type": "code",
   "execution_count": 30,
   "metadata": {},
   "outputs": [],
   "source": []
  },
  {
   "cell_type": "code",
   "execution_count": null,
   "metadata": {},
   "outputs": [],
   "source": []
  }
 ],
 "metadata": {
  "celltoolbar": "Slideshow",
  "kernelspec": {
   "display_name": "Python 2",
   "language": "python",
   "name": "python2"
  },
  "language_info": {
   "codemirror_mode": {
    "name": "ipython",
    "version": 2
   },
   "file_extension": ".py",
   "mimetype": "text/x-python",
   "name": "python",
   "nbconvert_exporter": "python",
   "pygments_lexer": "ipython2",
   "version": "2.7.18"
  }
 },
 "nbformat": 4,
 "nbformat_minor": 2
}
