{
 "cells": [
  {
   "cell_type": "code",
   "execution_count": 1,
   "metadata": {
    "scrolled": true
   },
   "outputs": [],
   "source": [
    "#!/usr/bin/env python\n",
    "import os\n",
    "import sys\n",
    "import rospy\n",
    "import copy\n",
    "import tf\n",
    "import cv2\n",
    "from cv_bridge import CvBridge, CvBridgeError\n",
    "import numpy as np\n",
    "import std_msgs.msg\n",
    "from std_msgs.msg import UInt16, String\n",
    "import geometry_msgs.msg\n",
    "from math import *\n",
    "from numpy.linalg import inv\n",
    "import scipy.io\n",
    "from mat4py import loadmat\n",
    "import actionlib\n",
    "from robotiq_2f_gripper_msgs.msg import CommandRobotiqGripperFeedback, CommandRobotiqGripperResult, CommandRobotiqGripperAction, CommandRobotiqGripperGoal\n",
    "from robotiq_2f_gripper_control.robotiq_2f_gripper_driver import Robotiq2FingerGripperDriver as Robotiq\n",
    "from scoop.msg import stone_pose_hori\n",
    "from scoop.msg import stone_pose_ver\n",
    "from sensor_msgs.msg import Image, CameraInfo\n",
    "import message_filters\n",
    "from visualization_msgs.msg import Marker\n",
    "from visualization_msgs.msg import MarkerArray\n",
    "from geometry_msgs.msg import Point\n",
    "import random\n",
    "import urx\n",
    "import math3d as m3d\n",
    "import logging\n",
    "import matplotlib.pyplot as plt\n",
    "rospy.init_node('scoop', anonymous=True) #initialize the node"
   ]
  },
  {
   "cell_type": "code",
   "execution_count": 3,
   "metadata": {},
   "outputs": [
    {
     "name": "stderr",
     "output_type": "stream",
     "text": [
      "[WARN] [1609480331.001569]: Client test: Starting sending goals\n"
     ]
    }
   ],
   "source": [
    "rospy.logwarn(\"Client test: Starting sending goals\")\n",
    "rob = urx.Robot(\"192.168.1.102\")\n",
    "logging.basicConfig(level=logging.WARN)\n",
    "rob.set_tcp((0, 0, 0, 0, 0, 0))"
   ]
  },
  {
   "cell_type": "code",
   "execution_count": 4,
   "metadata": {},
   "outputs": [],
   "source": [
    "action_name = rospy.get_param('~action_name', 'command_robotiq_action')\n",
    "robotiq_client = actionlib.SimpleActionClient(action_name, CommandRobotiqGripperAction)\n",
    "robotiq_client.wait_for_server()\n",
    "servo_pub = rospy.Publisher('servo1', UInt16, queue_size=10)"
   ]
  },
  {
   "cell_type": "code",
   "execution_count": 5,
   "metadata": {},
   "outputs": [],
   "source": [
    "def go_to_home():\n",
    "    \n",
    "    Hong_joint0 = radians(101.23)\n",
    "    Hong_joint1 = radians(-83.77)\n",
    "    Hong_joint2 = radians(-130.28)\n",
    "    Hong_joint3 = radians(-55.97)\n",
    "    Hong_joint4 = radians(89.33)\n",
    "    Hong_joint5 = radians(-78.73)\n",
    "    \n",
    "    rob.movej((Hong_joint0,Hong_joint1, Hong_joint2, Hong_joint3, Hong_joint4, Hong_joint5), 0.6, 1.5)\n",
    "    \n",
    "    \n",
    "def go_to_safe_place():\n",
    "    \n",
    "    Hong_joint0 = radians(101.74)\n",
    "    Hong_joint1 = radians(-76.84)\n",
    "    Hong_joint2 = radians(-120.83)\n",
    "    Hong_joint3 = radians(-72.33)\n",
    "    Hong_joint4 = radians(89.40)\n",
    "    Hong_joint5 = radians(-78.12)\n",
    "    \n",
    "    rob.movej((Hong_joint0,Hong_joint1, Hong_joint2, Hong_joint3, Hong_joint4, Hong_joint5), 0.6, 1.5)\n",
    "    \n",
    "def go_to_end_place():\n",
    "    \n",
    "    Hong_joint0 = radians(106.13)\n",
    "    Hong_joint1 = radians(-60.48)\n",
    "    Hong_joint2 = radians(-130.69)\n",
    "    Hong_joint3 = radians(-78.86)\n",
    "    Hong_joint4 = radians(89.68)\n",
    "    Hong_joint5 = radians(-73.78)\n",
    "    \n",
    "    rob.movej((Hong_joint0,Hong_joint1, Hong_joint2, Hong_joint3, Hong_joint4, Hong_joint5), 0.6, 1.5)"
   ]
  },
  {
   "cell_type": "code",
   "execution_count": 6,
   "metadata": {},
   "outputs": [],
   "source": [
    "def stone_position_in_the_world(pose_x, pose_y, pose_z):\n",
    "    if pose_z==0.0:\n",
    "        return [None, None, None]\n",
    "    rob.set_tcp((0, 0.0, 0, 0, 0, 0))    \n",
    "    camPstone = np.array([pose_x, pose_y, pose_z, 1])\n",
    "    eeTcam = m3d.Transform()\n",
    "    eeTcam.pos = (0.076173+0.05, -0.0934057-0.03, 0.0074811)\n",
    "    eeTcam_e = tf.transformations.euler_from_quaternion([-0.0143125,0.69183,-0.0012,0.722039], axes='sxyz')\n",
    "    eeTcam.orient.rotate_xb(eeTcam_e[0])\n",
    "    eeTcam.orient.rotate_yb(eeTcam_e[1])\n",
    "    eeTcam.orient.rotate_zb(eeTcam_e[2])\n",
    "    tcpTee = np.array([[0,-1,0,0], [0,0,-1,0], [1,0,0,0], [0,0,0,1]])\n",
    "    eeTstone = np.matmul(eeTcam.get_matrix(), camPstone)\n",
    "    tcpTstone = np.matmul(tcpTee, np.transpose(eeTstone))\n",
    "    worldTstone = np.matmul(rob.get_pose().get_matrix(), tcpTstone)\n",
    "    worldTstone = worldTstone.squeeze().tolist()[0][0:-1]\n",
    "    return [worldTstone[0]+0.01953+0.0016-0.003, worldTstone[1]+0.02148+0.0029-0.004, worldTstone[2]]"
   ]
  },
  {
   "cell_type": "code",
   "execution_count": 7,
   "metadata": {},
   "outputs": [
    {
     "data": {
      "text/plain": [
       "<rospy.topics.Subscriber at 0x7f91e8da74d0>"
      ]
     },
     "execution_count": 7,
     "metadata": {},
     "output_type": "execute_result"
    }
   ],
   "source": [
    "def hori_stone_pose_callback(msg):\n",
    "    global hori_pose_Go_stone_set, hori_Go_stone_number, Go_stone_dir_sorted, yaw_pitch_normal_set\n",
    "    hori_Go_stone_number = int(msg.hori_Go_stone_number)\n",
    "    if hori_Go_stone_number == 0:\n",
    "        hori_pose_Go_stone_set = []\n",
    "        Go_stone_dir_sorted = []\n",
    "        yaw_pitch_normal_set = []\n",
    "    else:\n",
    "        pose_x = msg.x\n",
    "        pose_y = msg.y\n",
    "        pose_z = msg.z\n",
    "        yaw = msg.yaw\n",
    "        pitch = msg.pitch\n",
    "        normal = msg.normal\n",
    "        dir_depth_inner = msg.dir_depth_inner\n",
    "        dir_depth_outer = msg.dir_depth_outer\n",
    "        dir_depth_outer_minus_inner = []\n",
    "        for i in range(len(dir_depth_inner)):\n",
    "            dir_depth_outer_minus_inner.append(dir_depth_outer[i]-dir_depth_inner[i])\n",
    "        dir_depth_outer_minus_inner_argsort = np.argsort(-np.array(dir_depth_outer_minus_inner)).tolist()\n",
    "        dir_depth_outer_minus_inner_argsort_copy = dir_depth_outer_minus_inner_argsort[:]\n",
    "        for index in dir_depth_outer_minus_inner_argsort:\n",
    "            if dir_depth_outer[index]-dir_depth_inner[index]<0:\n",
    "                dir_depth_outer_minus_inner_argsort_copy.remove(index)\n",
    "            elif dir_depth_outer[index]==0 or dir_depth_inner[index]==0:\n",
    "                dir_depth_outer_minus_inner_argsort_copy.remove(index)\n",
    "        dir_depth_outer_minus_inner_argsort=dir_depth_outer_minus_inner_argsort_copy[:]\n",
    "        hori_pose_Go_stone_set.append(stone_position_in_the_world(pose_x, pose_y, pose_z))\n",
    "        Go_stone_dir_sorted.append(dir_depth_outer_minus_inner_argsort)\n",
    "        yaw_pitch_normal_set.append([yaw,pitch,normal])\n",
    "hori_pose_topic = '/hori_stone_pose' #\"/usb_cam/image_raw\"\n",
    "rospy.Subscriber(hori_pose_topic, stone_pose_hori, hori_stone_pose_callback)"
   ]
  },
  {
   "cell_type": "code",
   "execution_count": 8,
   "metadata": {},
   "outputs": [
    {
     "data": {
      "text/plain": [
       "<rospy.topics.Subscriber at 0x7f91e8dc9890>"
      ]
     },
     "execution_count": 8,
     "metadata": {},
     "output_type": "execute_result"
    }
   ],
   "source": [
    "import json\n",
    "def ver_stone_pose_callback(msg):\n",
    "    global ver_pose_Go_stone_set, ver_Go_stone_number, gripper_direction_set, gripper_aperture_set\n",
    "    ver_Go_stone_number = int(msg.ver_Go_stone_number)\n",
    "    if ver_Go_stone_number == 0:\n",
    "        ver_pose_Go_stone_set = []\n",
    "        gripper_direction_set = []\n",
    "        gripper_aperture_set = []\n",
    "    else:\n",
    "        pose_x = msg.x\n",
    "        pose_y = msg.y\n",
    "        pose_z = msg.z \n",
    "        box = json.loads(msg.box)\n",
    "        ver_pose_Go_stone_set.append(stone_position_in_the_world(pose_x, pose_y, pose_z))\n",
    "        box = [stone_position_in_the_world(box[i][0], box[i][1], pose_z)[0:2] for i in range(len(box))]\n",
    "        #print box\n",
    "        length1 = np.sqrt((box[0][0]-box[1][0])**2+(box[0][1]-box[1][1])**2)\n",
    "        length2 = np.sqrt((box[2][0]-box[1][0])**2+(box[2][1]-box[1][1])**2)\n",
    "        if length1 > length2:\n",
    "            try:\n",
    "                if abs(atan((box[0][0]-box[1][0])/(box[0][1]-box[1][1]))+pi/2)<abs(atan((box[0][0]-box[1][0])/(box[0][1]-box[1][1]))-pi/2):\n",
    "                    temp_angle=atan((box[0][0]-box[1][0])/(box[0][1]-box[1][1]))+pi/2\n",
    "                else:\n",
    "                    temp_angle=atan((box[0][0]-box[1][0])/(box[0][1]-box[1][1]))-pi/2\n",
    "                gripper_direction_set.append(temp_angle)\n",
    "            except:\n",
    "                gripper_direction_set.append(0)\n",
    "            gripper_aperture_set.append(length2+0.004)\n",
    "        else:\n",
    "            try:\n",
    "                if abs(atan((box[2][0]-box[1][0])/(box[2][1]-box[1][1]))+pi/2)<abs(atan((box[2][0]-box[1][0])/(box[2][1]-box[1][1]))-pi/2):\n",
    "                    temp_angle=atan((box[2][0]-box[1][0])/(box[2][1]-box[1][1]))+pi/2\n",
    "                else:\n",
    "                    temp_angle=atan((box[2][0]-box[1][0])/(box[2][1]-box[1][1]))-pi/2\n",
    "                gripper_direction_set.append(temp_angle)\n",
    "            except:\n",
    "                gripper_direction_set.append(0)\n",
    "            gripper_aperture_set.append(length1+0.004)        \n",
    "ver_pose_topic = '/ver_stone_pose' #\"/usb_cam/image_raw\"\n",
    "rospy.Subscriber(ver_pose_topic, stone_pose_ver, ver_stone_pose_callback)"
   ]
  },
  {
   "cell_type": "code",
   "execution_count": 9,
   "metadata": {},
   "outputs": [],
   "source": [
    "is_send_stone_img = 0\n",
    "stone_img_count = 0\n",
    "bridge = CvBridge()\n",
    "\n",
    "def image_callback(color, a_depth):\n",
    "    global is_send_stone_img, stone_img_count, cv2_img, cv2_depth_img\n",
    "    if is_send_stone_img == 1:\n",
    "        print \"dsag\"\n",
    "        img_count_pub = rospy.Publisher('/stone_img_index', String, queue_size=1)\n",
    "        rospy.sleep(0.5)\n",
    "        cv2_img = bridge.imgmsg_to_cv2(color, \"bgr8\")\n",
    "        cv2.imwrite('/home/terry/Mask_RCNN/samples/stones/JPEGImages/'+str(stone_img_count)+'.jpeg', cv2_img)\n",
    "        cv2_depth_img = bridge.imgmsg_to_cv2(a_depth, desired_encoding=\"passthrough\")\n",
    "        depth_array = np.array(cv2_depth_img, dtype=np.float32)\n",
    "        cv2.imwrite('/home/terry/Mask_RCNN/samples/stones/depth/'+str(stone_img_count)+'.jpeg', cv2_depth_img)\n",
    "        np.save('/home/terry/Mask_RCNN/samples/stones/depth/'+str(stone_img_count)+'.npy', depth_array)\n",
    "        img_count_pub.publish(str(stone_img_count))\n",
    "        print str(stone_img_count)\n",
    "        stone_img_count = stone_img_count + 1\n",
    "        is_send_stone_img = 0"
   ]
  },
  {
   "cell_type": "code",
   "execution_count": 10,
   "metadata": {},
   "outputs": [
    {
     "data": {
      "text/plain": [
       "0"
      ]
     },
     "execution_count": 10,
     "metadata": {},
     "output_type": "execute_result"
    }
   ],
   "source": [
    "image_color_sub = message_filters.Subscriber('/camera/color/image_raw', Image)\n",
    "image_aligned_depth_sub = message_filters.Subscriber('/camera/aligned_depth_to_color/image_raw', Image)\n",
    "ts = message_filters.TimeSynchronizer([image_color_sub, image_aligned_depth_sub], 10)\n",
    "ts.registerCallback(image_callback)"
   ]
  },
  {
   "cell_type": "code",
   "execution_count": 19,
   "metadata": {},
   "outputs": [],
   "source": [
    "def poke_grasp_execute(Go_index):\n",
    "    global hori_pose_Go_stone_set, yaw_pitch_normal_set\n",
    "    pose_x = hori_pose_Go_stone_set[Go_index][0]\n",
    "    pose_y = hori_pose_Go_stone_set[Go_index][1]\n",
    "    pose_z = hori_pose_Go_stone_set[Go_index][2]\n",
    "    normal=yaw_pitch_normal_set[Go_index][2]\n",
    "    ####################### change tcp pose ############################\n",
    "    rob.set_tcp((0.011, 0, 0.342, 0, 0, 0)) # need change\n",
    "    rospy.sleep(0.5)\n",
    "    ####################################################################\n",
    "    go_to_safe_place()\n",
    "    Robotiq.goto(robotiq_client, pos=0.021, speed=0.5, force=10, block=True)\n",
    "    servo_pub.publish(80)     # need change\n",
    "    worldPstone = np.array([pose_x, pose_y, pose_z, 1])\n",
    "    tcpTstone = np.transpose(np.matmul(np.linalg.inv(rob.get_pose().get_matrix()), worldPstone))   \n",
    "    eeTcam = m3d.Transform()\n",
    "    eeTcam.pos = (0.076173+0.05, -0.0934057-0.03, 0.0074811)\n",
    "    eeTcam_e = tf.transformations.euler_from_quaternion([-0.0143125,0.69183,-0.0012,0.722039], axes='sxyz')\n",
    "    eeTcam.orient.rotate_xb(eeTcam_e[0])\n",
    "    eeTcam.orient.rotate_yb(eeTcam_e[1])\n",
    "    eeTcam.orient.rotate_zb(eeTcam_e[2])\n",
    "    \n",
    "    yaxis = (0, 1, 0)\n",
    "    zaxis = (0, 0, 1)\n",
    "    Ry = tf.transformations.rotation_matrix(pi/2, yaxis)\n",
    "    Rz = tf.transformations.rotation_matrix(-pi/2, zaxis)\n",
    "    eeTtcp = np.matmul(Ry, Rz)\n",
    "    ####################### change tcp pose ############################\n",
    "    eeTtcp[:3,3] = np.array([0.342,-0.011,0])   # need change\n",
    "    ####################################################################\n",
    "    tcpTee = inv(eeTtcp)\n",
    "\n",
    "    n_normalize = normal / np.linalg.norm(normal)\n",
    "    n_normalize = np.array([n_normalize[0], n_normalize[1], n_normalize[2], 1])\n",
    "    eeTnormal = np.matmul(eeTcam.get_matrix(), n_normalize)\n",
    "    tcpTnormal = np.matmul(tcpTee, np.transpose(eeTnormal))\n",
    "    alpha = atan2(tcpTnormal[1], tcpTnormal[0])\n",
    "    if str(alpha) == 'nan':\n",
    "        return False\n",
    "    beta = -(pi/2+atan2(tcpTnormal[2], sqrt(tcpTnormal[0]**2+tcpTnormal[1]**2)))\n",
    "    if str(beta) == 'nan':\n",
    "        return False\n",
    "    if abs(beta)>(35*pi/180.0):\n",
    "        return False\n",
    "    \n",
    "    move = m3d.Transform((tcpTstone[0,0], tcpTstone[1,0], 0, 0, 0, 0))\n",
    "    rob.add_pose_tool( move, acc=0.3, vel=0.8, wait=True, command=\"movel\", threshold=None)\n",
    "    rob.translate_tool((-0.002, -0.002, tcpTstone[2,0]-0.015), acc=0.3, vel=0.8)\n",
    "    rob.movel_tool((0,0,0,0,0,alpha), acc=0.5, vel=0.8, wait=True)\n",
    "    rob.movel_tool((0,0,0,0,beta,0), acc=0.5, vel=0.8, wait=True)\n",
    "    ###########################Choose d and psi######################################\n",
    "    rob.translate_tool((0.004+0.0015*int(abs(beta)>10)+0.003*int(abs(beta)>15)+0.001, 0, 0), acc=0.06, vel=0.08)\n",
    "    psi = radians(20)\n",
    "    rob.movel_tool((0,0,0,0,psi,0), acc=0.3, vel=0.8, wait=True)\n",
    "    #################################################################################\n",
    "\n",
    "    rob.translate_tool((0, 0, 0.0285), acc=0.01, vel=0.05, wait=False) #2.85 a003 v005  $0.285\n",
    "    \n",
    "    wrench = rospy.wait_for_message('/robotiq_ft_wrench', WrenchStamped, timeout = None)\n",
    "    ini_wrench = wrench.wrench.force.z\n",
    "    time0 = time.time()\n",
    "    IsStack = False\n",
    "    while True:\n",
    "        wrench = rospy.wait_for_message('/robotiq_ft_wrench', WrenchStamped, timeout = None)\n",
    "        if wrench.wrench.force.z<ini_wrench-2.5:   # need change\n",
    "            IsStack = True\n",
    "            rob.stopl()\n",
    "            break\n",
    "        if time.time()-time0>3.2:  #3.7\n",
    "            IsStack = False\n",
    "            break\n",
    "    print 'IsStack', IsStack\n",
    "    \n",
    "    if IsStack == False:\n",
    "        servo_pub.publish(180)\n",
    "        rospy.sleep(0.5)\n",
    "        Robotiq.goto(robotiq_client, pos=0.006, speed=0.5, force=10, block=False)\n",
    "        rospy.sleep(.5)\n",
    "        rob.translate_tool((0, 0, -0.08), acc=0.3, vel=0.8)\n",
    "        go_to_end_place()\n",
    "        rob.translate((0,0,-0.07), acc=0.3, vel=0.8, wait=True)\n",
    "        Robotiq.goto(robotiq_client, pos=0.023, speed=0.5, force=10, block=True)\n",
    "        rob.translate((0,0,0.07), acc=0.3, vel=0.8, wait=True)\n",
    "        rob.set_tcp((0, 0, 0, 0, 0, 0))\n",
    "        rospy.sleep(0.5)\n",
    "    elif IsStack == True:\n",
    "        current_alpha = round((0.021-1.12/48)/(0.14/48))   # need change\n",
    "        angle_step = 0.2\n",
    "        l0 = 0.0125\n",
    "        l1 = 0.1\n",
    "        l2r = 0.006\n",
    "        flength_r = 0.126\n",
    "        for alpha in np.arange(current_alpha,2,angle_step):\n",
    "            next_alpha = alpha+0.2\n",
    "            alpha = alpha*pi/180\n",
    "            next_alpha = next_alpha*pi/180\n",
    "            translate_distance = (np.array([l0+l1*sin(next_alpha)-l2r, -l1*cos(next_alpha)-flength_r])-np.array([l0+l1*sin(alpha)-l2r, -l1*cos(alpha)-flength_r])).tolist()\n",
    "            Robotiq.goto(robotiq_client, pos=(next_alpha*180/pi)*0.14/48.0+1.12/48.0, speed=0.4, force=10, block=False)\n",
    "            rob.translate_tool((-translate_distance[0], 0, -translate_distance[1]), acc=0.1, vel=0.4, wait=True)       \n",
    "        servo_pub.publish(115)\n",
    "        rob.set_tcp((0.019, 0, 0.342, 0, 0, 0)) # need change!!!\n",
    "        rospy.sleep(0.5)\n",
    "        minus_x = -rob.get_pose().get_matrix()[0:3,0]\n",
    "        minus_x_proj = [minus_x[0], minus_x[1], 0]\n",
    "        minus_z = -rob.get_pose().get_matrix()[0:3,2]\n",
    "        rotate_angle = -(60*pi/180-acos(np.dot(minus_x_proj, minus_z)/(np.linalg.norm(minus_x_proj)*np.linalg.norm(minus_z))))\n",
    "        rob.movel_tool((0,0,0,0,rotate_angle,0), acc=0.3, vel=0.2, wait=True)\n",
    "        rob.set_tcp((0, 0, 0, 0, 0, 0))\n",
    "        rospy.sleep(0.5)\n",
    "        current_fingerlength_int=115   #need change\n",
    "        angle_step=0.2\n",
    "        for angle in np.arange(2,-4,-angle_step):\n",
    "            translate_dir_dis, strench_distance = pos_flength_adjust_right_fixed(angle, angle-angle_step, 60, 0.0125, 0.1, 0.015, 0.006, 0.126)\n",
    "            old_fingerlength_int=current_fingerlength_int\n",
    "            current_fingerlength_int=round(min(current_fingerlength_int+strench_distance*(180.0/0.03),180))\n",
    "            servo_pub.publish(int(current_fingerlength_int))\n",
    "            Robotiq.goto(robotiq_client, pos=angle*0.14/48.0+1.12/48.0, speed=0.2, force=10, block=False)\n",
    "            rob.translate_tool((sin(60*pi/180)*translate_dir_dis[0]+cos(60*pi/180)*translate_dir_dis[1], 0, cos(60*pi/180)*translate_dir_dis[0]-sin(60*pi/180)*translate_dir_dis[1]), acc=0.1, vel=0.4, wait=True)\n",
    "        Robotiq.goto(robotiq_client, pos=-4*0.14/48.0+1.12/48.0, speed=0.2, force=10, block=False)\n",
    "        rospy.sleep(0.5)\n",
    "        rob.translate((0, 0, 0.1), acc=0.3, vel=0.8, wait=True)\n",
    "        go_to_end_place()\n",
    "        rob.translate((0,0,-0.07), acc=0.3, vel=0.8, wait=True)\n",
    "        Robotiq.goto(robotiq_client, pos=0.023, speed=0.5, force=10, block=True)\n",
    "        rospy.sleep(0.5)\n",
    "        servo_pub.publish(180)\n",
    "        Robotiq.goto(robotiq_client, pos=0.013, speed=0.5, force=10, block=True)\n",
    "        rospy.sleep(1)\n",
    "        servo_pub.publish(10)\n",
    "        rospy.sleep(1)\n",
    "        rob.translate((0,0,0.07), acc=0.3, vel=0.8, wait=True) \n",
    "    return True"
   ]
  },
  {
   "cell_type": "code",
   "execution_count": 12,
   "metadata": {},
   "outputs": [],
   "source": [
    "from shapely.geometry import LineString\n",
    "from shapely.geometry import Point\n",
    "\n",
    "def scoop_collision_check(Go_index):\n",
    "    global hori_pose_Go_stone_set, Go_stone_dir_sorted, ori_index\n",
    "    for ori_index in Go_stone_dir_sorted[Go_index]:\n",
    "        hard_fingertip_position = [hori_pose_Go_stone_set[Go_index][0]+0.013*sin(ori_index*45*pi/180), hori_pose_Go_stone_set[Go_index][1]-0.013*cos(ori_index*45*pi/180)]\n",
    "        gripper_orientation = ori_index*45\n",
    "        hard_fingertip_position1 = [hard_fingertip_position[0]+0.01*cos(gripper_orientation*pi/180), hard_fingertip_position[1]+0.01*sin(gripper_orientation*pi/180)]\n",
    "        hard_fingertip_position2 = [hard_fingertip_position[0]-0.01*cos(gripper_orientation*pi/180), hard_fingertip_position[1]-0.01*sin(gripper_orientation*pi/180)]\n",
    "        if LineString([hard_fingertip_position1, hard_fingertip_position, hard_fingertip_position2]).within(Point([0.05,0.69]).buffer(0.055))==False:\n",
    "            continue\n",
    "        soft_fingertip_position = [hori_pose_Go_stone_set[Go_index][0]+(-0.015)*sin(ori_index*45*pi/180), hori_pose_Go_stone_set[Go_index][1]-(-0.015)*cos(ori_index*45*pi/180)]\n",
    "        if LineString([[soft_fingertip_position[0]+0.01*cos(gripper_orientation*pi/180), soft_fingertip_position[1]+0.01*sin(gripper_orientation*pi/180)], soft_fingertip_position, [soft_fingertip_position[0]-0.01*cos(gripper_orientation*pi/180), soft_fingertip_position[1]-0.01*sin(gripper_orientation*pi/180)]]).within(Point([0.05,0.69]).buffer(0.055))==False:\n",
    "            continue\n",
    "        fingertip_extend_position = [hori_pose_Go_stone_set[Go_index][0]+0.15*sin(ori_index*45*pi/180), hori_pose_Go_stone_set[Go_index][1]-0.15*cos(ori_index*45*pi/180)]\n",
    "        fingertip_extend_position1 = [fingertip_extend_position[0]+0.01*cos(gripper_orientation*pi/180), fingertip_extend_position[1]+0.01*sin(gripper_orientation*pi/180)]\n",
    "        fingertip_extend_position2 = [fingertip_extend_position[0]-0.01*cos(gripper_orientation*pi/180), fingertip_extend_position[1]-0.01*sin(gripper_orientation*pi/180)]\n",
    "        intersect_at_bowl = list(Point([0.05,0.69]).buffer(0.065).boundary.intersection(LineString([hard_fingertip_position, fingertip_extend_position])).coords[:][0])\n",
    "        intersect_at_bowl1 = list(Point([0.05,0.69]).buffer(0.065).boundary.intersection(LineString([hard_fingertip_position1, fingertip_extend_position1])).coords[:][0])\n",
    "        intersect_at_bowl2 = list(Point([0.05,0.69]).buffer(0.065).boundary.intersection(LineString([hard_fingertip_position2, fingertip_extend_position2])).coords[:][0])\n",
    "        if Point(hard_fingertip_position).distance(Point(intersect_at_bowl))*sqrt(3)<0.07-(hori_pose_Go_stone_set[Go_index][2]-0.03): # need to be changed\n",
    "            continue\n",
    "        if Point(hard_fingertip_position1).distance(Point(intersect_at_bowl1))*sqrt(3)<0.07-(hori_pose_Go_stone_set[Go_index][2]-0.03): # need to be changed\n",
    "            continue\n",
    "        if Point(hard_fingertip_position2).distance(Point(intersect_at_bowl2))*sqrt(3)<0.07-(hori_pose_Go_stone_set[Go_index][2]-0.03): # need to be changed\n",
    "            continue\n",
    "        return False\n",
    "    return True            "
   ]
  },
  {
   "cell_type": "code",
   "execution_count": 13,
   "metadata": {},
   "outputs": [],
   "source": [
    "from math import *\n",
    "import numpy as np\n",
    "def finger_tip_position_wrt_gripper_frame(alpha, l0, l1, l2l, l2r, flength_l, flength_r):\n",
    "    alpha=alpha*pi/180\n",
    "    left_fingertip_position=[-l0-l1*sin(alpha)+l2l, -l1*cos(alpha)-flength_l]\n",
    "    right_fingertip_position=[l0+l1*sin(alpha)-l2r, -l1*cos(alpha)-flength_r]\n",
    "    return left_fingertip_position, right_fingertip_position\n",
    "\n",
    "# first shorten, next translate, finally close\n",
    "# l0=0.0125 l1=0.1 l2l=0.006 l2r=0.015 flength_l = 0.072   theta=60    joint_value = 78.88, -112.01, -106.91, -61.26, 133.28, -15.20\n",
    "def pos_flength_adjust_right_fixed(current_alpha, next_alpha, theta, l0, l1, l2l, l2r, flength_r): # right longer\n",
    "    theta=theta*pi/180\n",
    "    current_flength_l = flength_r - (2*l0+2*l1*sin(current_alpha*pi/180)-l2l-l2r)/tan(theta)\n",
    "    current_left_fingertip_pos_g, current_right_fingertip_pos_g = finger_tip_position_wrt_gripper_frame(current_alpha, l0, l1, l2l, l2r, current_flength_l, flength_r)\n",
    "    next_left_fingertip_pos_g, next_right_fingertip_pos_g = finger_tip_position_wrt_gripper_frame(next_alpha, l0, l1, l2l, l2r, current_flength_l, flength_r)\n",
    "    translate_in_g = (np.array(current_right_fingertip_pos_g)-np.array(next_right_fingertip_pos_g)).tolist()\n",
    "    translate_in_w = (np.squeeze(np.dot(np.array([[sin(theta), -cos(theta)], [cos(theta), sin(theta)]]), np.array([[translate_in_g[0]], [translate_in_g[1]]])))).tolist()\n",
    "    next_left_fingertip_pos_g = (np.array(next_left_fingertip_pos_g)+np.array(translate_in_w)).tolist()\n",
    "    next_right_fingertip_pos_g = (np.array(next_right_fingertip_pos_g)+np.array(translate_in_w)).tolist()\n",
    "    next_ought_flength_l = abs(next_right_fingertip_pos_g[1]) - (2*l0+2*l1*sin(next_alpha*pi/180)-l2l-l2r)/tan(theta)\n",
    "    delta_finger_distance = next_ought_flength_l - abs(next_left_fingertip_pos_g[1])\n",
    "    return translate_in_w, delta_finger_distance"
   ]
  },
  {
   "cell_type": "code",
   "execution_count": 14,
   "metadata": {},
   "outputs": [],
   "source": [
    "from geometry_msgs.msg import WrenchStamped\n",
    "from std_msgs.msg import UInt16\n",
    "import time\n",
    "\n",
    "def scoop_execute(instance_index):\n",
    "    global hori_pose_Go_stone_set, ori_index\n",
    "    gripper_orientation = ori_index*45\n",
    "    hard_fingertip_position = [hori_pose_Go_stone_set[instance_index][0]+0.013*sin(ori_index*45*pi/180), hori_pose_Go_stone_set[instance_index][1]-0.013*cos(ori_index*45*pi/180)]\n",
    "    go_to_safe_place()\n",
    "    Robotiq.goto(robotiq_client, pos=5*0.14/48.0+1.12/48.0, speed=0.1, force=10, block=True)\n",
    "    servo_pub.publish(85) # need change\n",
    "    rob.movel_tool((0,0,0,0,0,-gripper_orientation*pi/180),acc=0.5, vel=2)\n",
    "    tcp2fingertip=m3d.Transform()\n",
    "    tcp2fingertip.pos.x = -0.012 # need change\n",
    "    tcp2fingertip.pos.z = 0.327 # need change\n",
    "    world2tcp = rob.get_pose()\n",
    "    world2tcp.pos.x+=0\n",
    "    world2tcp.pos.y+=0.003\n",
    "    world2fingertip=(world2tcp*tcp2fingertip)\n",
    "    rob.translate((hard_fingertip_position[0]-world2fingertip.pos.x,hard_fingertip_position[1]-world2fingertip.pos.y,0), acc=0.5, vel=2, wait=True)\n",
    "    rob.set_tcp((-0.012, 0, 0.327, 0, 0, 0))  # need change\n",
    "    rospy.sleep(0.5)\n",
    "    rob.movel_tool((0,0,0,0,pi/6,0), acc=0.5, vel=2, wait=True)\n",
    "    rob.set_tcp((0, 0, 0, 0, 0, 0))\n",
    "    rospy.sleep(0.5)\n",
    "    rob.translate((0, 0, hori_pose_Go_stone_set[instance_index][2]-world2fingertip.pos.z+0.002), acc=0.02, vel=0.05, wait=True)\n",
    "    current_fingerlength_int=85   #need change\n",
    "    angle_step=0.2\n",
    "    for angle in np.arange(5,-4,-angle_step):\n",
    "        translate_dir_dis, strench_distance = pos_flength_adjust_right_fixed(angle, angle-angle_step, 60, 0.0125, 0.1, 0.015, 0.006, 0.126)\n",
    "        old_fingerlength_int=current_fingerlength_int\n",
    "        current_fingerlength_int=round(min(current_fingerlength_int+strench_distance*(180.0/0.03),180))\n",
    "        servo_pub.publish(int(current_fingerlength_int))\n",
    "        Robotiq.goto(robotiq_client, pos=angle*0.14/48.0+1.12/48.0, speed=0.2, force=10, block=False)\n",
    "        rob.translate_tool((sin(60*pi/180)*translate_dir_dis[0]+cos(60*pi/180)*translate_dir_dis[1], 0, cos(60*pi/180)*translate_dir_dis[0]-sin(60*pi/180)*translate_dir_dis[1]), acc=0.1, vel=0.4, wait=True)\n",
    "    Robotiq.goto(robotiq_client, pos=-4*0.14/48.0+1.12/48.0, speed=0.2, force=10, block=False)\n",
    "    rospy.sleep(0.5)\n",
    "    rob.translate((0, 0, 0.1), acc=0.3, vel=0.8, wait=True)\n",
    "    go_to_end_place()\n",
    "    rob.translate((0,0,-0.07), acc=0.3, vel=0.8, wait=True)\n",
    "    Robotiq.goto(robotiq_client, pos=0.023, speed=0.5, force=10, block=True)\n",
    "    rospy.sleep(0.5)\n",
    "    servo_pub.publish(180)\n",
    "    Robotiq.goto(robotiq_client, pos=0.013, speed=0.5, force=10, block=True)\n",
    "    rospy.sleep(1)\n",
    "    servo_pub.publish(10)\n",
    "    rospy.sleep(1)\n",
    "    rob.translate((0,0,0.07), acc=0.3, vel=0.8, wait=True) "
   ]
  },
  {
   "cell_type": "code",
   "execution_count": 15,
   "metadata": {},
   "outputs": [],
   "source": [
    "def find_alpha_from_distance(distance, l0, l1, l2l, l2r):\n",
    "    alpha = asin((distance+l2l+l2r-2*l0)/2/l1)*180/pi\n",
    "    return alpha\n",
    "\n",
    "def direct_pick_execute(Go_index):\n",
    "    global ver_pose_Go_stone_set, gripper_direction_set, gripper_aperture_set\n",
    "    go_to_safe_place()\n",
    "    Robotiq.goto(robotiq_client, pos=0.75*gripper_aperture_set[Go_index]+0.0095, speed=0.1, force=10, block=True) # need change\n",
    "    servo_pub.publish(180)    \n",
    "    pos_x = rob.get_pose().pos.x+0.007\n",
    "    pos_y = rob.get_pose().pos.y-0.001\n",
    "    rospy.sleep(0.5)\n",
    "    rob.translate((ver_pose_Go_stone_set[Go_index][0]-pos_x,ver_pose_Go_stone_set[Go_index][1]-pos_y,0), acc=0.8, vel=2, wait=True)\n",
    "    rob.movel_tool((0,0,0,0,0,gripper_direction_set[Go_index]),acc=0.8, vel=2)\n",
    "    rob.translate_tool((-0.0045,0,0),acc=0.1, vel=0.2)   # need change\n",
    "    #rob.translate((0,0,-0.025), acc=0.1, vel=0.4, wait=True)\n",
    "    rob.translate((0,0,max((ver_pose_Go_stone_set[Go_index][2]-(rob.get_pose().pos.z-0.32210))*0.7,-0.065)), acc=0.1, vel=0.1, wait=True)\n",
    "    rob.translate((0,0,(ver_pose_Go_stone_set[Go_index][2]-(rob.get_pose().pos.z-0.32210))*0.3-0.003), acc=0.001, vel=0.01, wait=True)\n",
    "    Robotiq.goto(robotiq_client, pos=-7*0.14/48.0+1.12/48.0, speed=0.1, force=0.3, block=False)\n",
    "    rospy.sleep(1)\n",
    "    rob.translate((0, 0, 0.08), acc=0.3, vel=0.8)\n",
    "    go_to_end_place()\n",
    "    rob.translate((0,0,-0.07), acc=0.3, vel=0.8, wait=True)\n",
    "    Robotiq.goto(robotiq_client, pos=0.019, speed=0.5, force=10, block=True)\n",
    "    rob.translate((0,0,0.07), acc=0.3, vel=0.8, wait=True)"
   ]
  },
  {
   "cell_type": "code",
   "execution_count": 16,
   "metadata": {},
   "outputs": [],
   "source": [
    "from shapely.affinity import rotate\n",
    "from shapely.affinity import translate\n",
    "from shapely.geometry import Point\n",
    "from shapely.geometry import LinearRing\n",
    "\n",
    "def direct_pick_collision_check(Go_index):\n",
    "    global ver_pose_Go_stone_set, gripper_direction_set, gripper_aperture_set\n",
    "    finger_profile = [[0.01, gripper_aperture_set[Go_index]/2+0.015], [-0.01, gripper_aperture_set[Go_index]/2+0.015], [-0.01, -gripper_aperture_set[Go_index]/2-0.006], [0.01, -gripper_aperture_set[Go_index]/2-0.006]]\n",
    "    finger_profile = rotate(LinearRing(finger_profile), -gripper_direction_set[Go_index], origin=Point([0,0]), use_radians=True)\n",
    "    finger_profile = translate(LinearRing(finger_profile), xoff=ver_pose_Go_stone_set[Go_index][0], yoff=ver_pose_Go_stone_set[Go_index][1], zoff=0.0)\n",
    "    if finger_profile.within(Point([0.05,0.69]).buffer(0.055))==True:\n",
    "        return False\n",
    "    else:\n",
    "        return True"
   ]
  },
  {
   "cell_type": "code",
   "execution_count": 32,
   "metadata": {
    "scrolled": true
   },
   "outputs": [
    {
     "name": "stdout",
     "output_type": "stream",
     "text": [
      "continue?1\n",
      "started 0\n",
      "dsag\n",
      "0\n",
      "[[0.04422073627167999, 0.6852887275198208, 0.06940791315529399], [0.06600877505778809, 0.6657713468619338, 0.0639819261620076], [0.024436523054328606, 0.687308819532448, 0.06201560734939149], [0.07433409012197768, 0.6841080799314799, 0.05930722592969556]]\n",
      "[[-2.7801517626962404, 0.4101273405414903, (-0.23705510698727605, -0.2126411923860918, -0.646381745673756)], [-2.995108475196232, 0.6365082157879507, (0.0589453922450623, 0.26163246153242165, -0.9633659199938318)], [-2.9441970937399122, 0.7399748839758711, (0.19752320856784653, -0.03401979717762451, -0.8794045369024241)], [2.6158241196006022, 0.8270407424960367, (0.2171914816397498, 0.20977497196455022, -0.7658836164754317)]]\n",
      "[[0.03136554562303001, 0.6381136458517002, 0.06266302648969196], [0.012911734917054177, 0.6927875261283764, 0.07140443984064881], [-0.0006506345299945888, 0.6857742171376969, 0.07699767848615965], [0.0026091482848188893, 0.6916502679500932, 0.06811837379169156]] [0.0718731024887751, -0.821541094389193, 1.5348530108594953, -1.1957748835912152] [0.013718870216732019, 0.010241463571749368, 0.010635314024121146, 0.00986269369457327]\n",
      "[('h', 0), ('v', 2), ('h', 1), ('v', 1), ('v', 3), ('h', 2), ('v', 0), ('h', 3)]\n",
      "IsStack False\n",
      "continue?1\n",
      "started 1\n",
      "dsag\n",
      "1\n",
      "[[0.045019031782898476, 0.658976362933179, 0.06090683102691313], [0.033699495814370414, 0.6989249389109372, 0.06656339145103213], [0.059035261657523284, 0.7014174078475849, 0.06465944433240572], [0.0617032436003704, 0.6786662043087716, 0.058940391709058126]]\n",
      "[[2.6405792667862036, 0.5144513130590272, (-0.2589506954255967, 0.09236409162055488, -0.9149749524241386)], [-2.8837281057887965, 0.4101273405414903, (0.09381871458964709, -0.00021275677425513056, -0.6723347494772924)], [-2.858691800061708, 0.5467888408892468, (0.09870202205320991, 0.09788112047837468, -0.7183859109610681)], [2.122451309323443, 0.7631795980707291, (0.16891530503396776, 0.25670524715429144, -0.6381188413871518)]]\n",
      "[[0.07320031754590521, 0.7303523709740175, 0.06581480271343387], [0.07422684948137707, 0.6414694481848163, 0.06271548203919919], [0.08205931419462235, 0.7253868769321411, 0.060826690208840406], [0.09810587016042856, 0.6747297105900362, 0.060044255948354885]] [-0.03453880616041283, -0.15521193283055368, 0.05923097698747881, 1.2211509954772368] [0.011691229212979395, 0.015380655110978013, 0.010678597377537426, 0.012263987062529258]\n",
      "[('v', 0), ('h', 0), ('h', 1), ('h', 2), ('v', 1), ('h', 3), ('v', 2), ('v', 3)]\n",
      "IsStack True\n",
      "continue?1\n",
      "started 2\n",
      "dsag\n",
      "2\n",
      "[[0.07166290742373183, 0.6973116047900872, 0.06321236939308356], [0.05996159043751771, 0.6754441228409246, 0.06198795117798167], [0.04239724626745897, 0.6594989279548288, 0.061915763042697525], [0.04697926180752465, 0.7017368923796742, 0.06399955557162024]]\n",
      "[[2.7389380000379204, 0.7399748839758711, (0.4017675024707367, 0.04491686945163199, -0.5666115790239377)], [2.397493308561951, 0.446105548943403, (0.1693080399092738, -0.12777529637967325, -0.6004623409618551)], [2.613518205163434, 0.8066715494215094, (-0.07092744149529777, 0.026488609413902194, -0.900241218068011)], [2.8034501248851456, 0.3729877218000603, (0.08874371836610603, 0.07392747434817912, -0.5944496845106215)]]\n",
      "[[0.0077708565405541314, 0.6618420249857372, 0.06961480181677066], [0.004133571302994833, 0.6915155666133156, 0.06771654470580207], [0.05992233519624568, 0.7264721391850338, 0.06726708736325043], [0.07878899112235126, 0.7299940386901861, 0.06253888162513155]] [1.0085836547771412, -1.0677502811748876, -0.6412068595233023, 0.3026822888561591] [0.010263321507093867, 0.00983179640150824, 0.010406700192453447, 0.011615966577517428]\n",
      "[('v', 0), ('v', 1), ('v', 2), ('h', 0), ('h', 1), ('h', 2), ('h', 3), ('v', 3)]\n",
      "IsStack False\n",
      "continue?1\n",
      "started 3\n",
      "dsag\n",
      "3\n",
      "[[0.06523155860261204, 0.6581148291898199, 0.05718071708687522], [0.03692019991576518, 0.6845184840909558, 0.06376376730926797], [0.04946271178814694, 0.703563588520416, 0.06591311621582818], [0.07089764117430124, 0.681698132424201, 0.0585246880801194]]\n",
      "[[-0.11065722117389565, 0.6640461628266843, (0.0786121837251478, -0.29061952357571214, -0.9453828665392375)], [-0.7853981633974483, 0.4808872801953352, (0.01761507872135334, -0.14686999462464928, -0.8045461046905334)], [2.9523936314898247, 0.5144513130590272, (0.156349983555828, 0.16403676123023922, -0.5930808296019247)], [2.677945044588987, 0.5467888408892468, (-0.007354451539783313, 0.2016868366228968, -0.7939961212097354)]]\n",
      "[[0.007263353954371366, 0.6635012654851024, 0.07017820321288093], [0.0026348664788901598, 0.6917443219669973, 0.06704483978765635], [0.05981440779189634, 0.726292016243875, 0.06697614284537401], [0.09981211036179875, 0.7004992110658851, 0.06216505611061035]] [1.0226679285779214, -1.0652482037841842, -0.5690125791903975, 1.5357353078724123] [0.01065018783666638, 0.010483511031307466, 0.01048244508482005, 0.00967740400132205]\n",
      "[('v', 0), ('v', 1), ('v', 2), ('v', 3), ('h', 0), ('h', 1), ('h', 2), ('h', 3)]\n",
      "IsStack True\n",
      "continue?1\n",
      "started 4\n",
      "dsag\n",
      "4\n",
      "[[0.08297600911662768, 0.7004526760897106, 0.058743230717664074], [0.04930734699335016, 0.7001746466495559, 0.06494645072010857], [0.041203405859920474, 0.6740648664605097, 0.05971920598007818], [0.06789381824421677, 0.6579351013464921, 0.059059044446947095]]\n",
      "[[2.0183163019520665, 0.5467888408892468, (-0.17242337484317694, 0.047971981468697814, -0.5909088537811982)], [2.924038534455785, 0.6904464570546918, (-0.1527499862301983, 0.04881227620642613, -0.5650523325349183)], [-1.7841649689467043, 0.5467888408892468, (-0.2542699257135416, -0.26964120940390973, -0.7299996503474402)], [-3.103150063568605, 0.3729877218000603, (-0.04468148707780759, 0.060192860897034496, -0.9445271120179675)]]\n",
      "[[0.004373823423081246, 0.6615800130276585, 0.0615030839857727], [0.004999543929344257, 0.69211212322992, 0.06841271608060417], [0.07319818592693673, 0.6424838178718247, 0.06725728057623626], [0.05974241094811808, 0.7269810844718202, 0.06608898326006246]] [0.9513855771675533, -1.0850447937111385, -0.40330709172018775, -0.6309100501780143] [0.012166248080404028, 0.00997389204646304, 0.013565873552266893, 0.010804182879364159]\n",
      "[('v', 0), ('v', 1), ('v', 2), ('v', 3), ('h', 0), ('h', 1), ('h', 2), ('h', 3)]\n",
      "IsStack True\n",
      "continue?1\n",
      "started 5\n",
      "dsag\n",
      "5\n",
      "[[0.02997815818238168, 0.6936268618803186, 0.06574118360525], [0.06847771391485995, 0.7161601886829211, 0.05892802948553144], [0.05976466606410262, 0.6878841372299288, 0.06077862308196952], [0.03692789580044744, 0.6776105848453352, 0.06080662718526936]]\n",
      "[[-0.8010218920179253, 0.3729877218000603, (-0.04582455334629136, -0.04589634292818959, -0.7854950280719464)], [2.604681910849748, 0.9324765187858508, (-0.5342123125016734, -0.15133668015350948, -0.7784942847097817)], [2.7222510060397633, 0.6365082157879507, (0.14545353657113494, 0.3885696304113421, -0.7207158078366361)], [-3.0956479977816733, 0.6365082157879507, (0.19845044188560731, -0.044274844755581265, -0.5548773569659609)]]\n",
      "[[0.04742081192579791, 0.6417710843418402, 0.06532151100310157], [0.0030623344480785308, 0.6616852566515873, 0.05705226226000376], [0.05366143077830073, 0.637691557354294, 0.06793602955554628], [0.0031302254283895447, 0.692807470707426, 0.06917628624485933]] [-0.07699320160957113, 0.9914470678175579, -0.034763969642030323, -1.1850881424433517] [0.010126654897586514, 0.01441862163358069, 0.010222599965057949, 0.010942065763981199]\n",
      "[('h', 0), ('v', 2), ('v', 3), ('v', 0), ('h', 1), ('h', 2), ('h', 3), ('v', 1)]\n",
      "IsStack True\n"
     ]
    },
    {
     "ename": "KeyboardInterrupt",
     "evalue": "",
     "output_type": "error",
     "traceback": [
      "\u001b[0;31m-----------------------------------------\u001b[0m",
      "\u001b[0;31mKeyboardInterrupt\u001b[0mTraceback (most recent call last)",
      "\u001b[0;32m<ipython-input-32-5160aba82782>\u001b[0m in \u001b[0;36m<module>\u001b[0;34m()\u001b[0m\n\u001b[1;32m     69\u001b[0m             \u001b[0;32mif\u001b[0m \u001b[0mhori_pose_Go_stone_set\u001b[0m\u001b[0;34m[\u001b[0m\u001b[0mindex\u001b[0m\u001b[0;34m[\u001b[0m\u001b[0;36m1\u001b[0m\u001b[0;34m]\u001b[0m\u001b[0;34m]\u001b[0m\u001b[0;34m[\u001b[0m\u001b[0;36m2\u001b[0m\u001b[0;34m]\u001b[0m\u001b[0;34m>\u001b[0m\u001b[0;36m0.05\u001b[0m\u001b[0;34m:\u001b[0m\u001b[0;34m\u001b[0m\u001b[0m\n\u001b[1;32m     70\u001b[0m                 \u001b[0;32mif\u001b[0m \u001b[0mdistane_to_bowl_center\u001b[0m\u001b[0;34m(\u001b[0m\u001b[0mhori_pose_Go_stone_set\u001b[0m\u001b[0;34m[\u001b[0m\u001b[0mindex\u001b[0m\u001b[0;34m[\u001b[0m\u001b[0;36m1\u001b[0m\u001b[0;34m]\u001b[0m\u001b[0;34m]\u001b[0m\u001b[0;34m)\u001b[0m\u001b[0;34m<\u001b[0m\u001b[0;36m0.02\u001b[0m\u001b[0;34m:\u001b[0m\u001b[0;34m\u001b[0m\u001b[0m\n\u001b[0;32m---> 71\u001b[0;31m                     \u001b[0;32mif\u001b[0m \u001b[0mpoke_grasp_execute\u001b[0m\u001b[0;34m(\u001b[0m\u001b[0mindex\u001b[0m\u001b[0;34m[\u001b[0m\u001b[0;36m1\u001b[0m\u001b[0;34m]\u001b[0m\u001b[0;34m)\u001b[0m\u001b[0;34m==\u001b[0m\u001b[0mTrue\u001b[0m\u001b[0;34m:\u001b[0m\u001b[0;34m\u001b[0m\u001b[0m\n\u001b[0m\u001b[1;32m     72\u001b[0m                         \u001b[0;32mbreak\u001b[0m\u001b[0;34m\u001b[0m\u001b[0m\n\u001b[1;32m     73\u001b[0m             \u001b[0;32melse\u001b[0m\u001b[0;34m:\u001b[0m\u001b[0;34m\u001b[0m\u001b[0m\n",
      "\u001b[0;32m<ipython-input-19-82682b0a68cd>\u001b[0m in \u001b[0;36mpoke_grasp_execute\u001b[0;34m(Go_index)\u001b[0m\n\u001b[1;32m    118\u001b[0m             \u001b[0mservo_pub\u001b[0m\u001b[0;34m.\u001b[0m\u001b[0mpublish\u001b[0m\u001b[0;34m(\u001b[0m\u001b[0mint\u001b[0m\u001b[0;34m(\u001b[0m\u001b[0mcurrent_fingerlength_int\u001b[0m\u001b[0;34m)\u001b[0m\u001b[0;34m)\u001b[0m\u001b[0;34m\u001b[0m\u001b[0m\n\u001b[1;32m    119\u001b[0m             \u001b[0mRobotiq\u001b[0m\u001b[0;34m.\u001b[0m\u001b[0mgoto\u001b[0m\u001b[0;34m(\u001b[0m\u001b[0mrobotiq_client\u001b[0m\u001b[0;34m,\u001b[0m \u001b[0mpos\u001b[0m\u001b[0;34m=\u001b[0m\u001b[0mangle\u001b[0m\u001b[0;34m*\u001b[0m\u001b[0;36m0.14\u001b[0m\u001b[0;34m/\u001b[0m\u001b[0;36m48.0\u001b[0m\u001b[0;34m+\u001b[0m\u001b[0;36m1.12\u001b[0m\u001b[0;34m/\u001b[0m\u001b[0;36m48.0\u001b[0m\u001b[0;34m,\u001b[0m \u001b[0mspeed\u001b[0m\u001b[0;34m=\u001b[0m\u001b[0;36m0.2\u001b[0m\u001b[0;34m,\u001b[0m \u001b[0mforce\u001b[0m\u001b[0;34m=\u001b[0m\u001b[0;36m10\u001b[0m\u001b[0;34m,\u001b[0m \u001b[0mblock\u001b[0m\u001b[0;34m=\u001b[0m\u001b[0mFalse\u001b[0m\u001b[0;34m)\u001b[0m\u001b[0;34m\u001b[0m\u001b[0m\n\u001b[0;32m--> 120\u001b[0;31m             \u001b[0mrob\u001b[0m\u001b[0;34m.\u001b[0m\u001b[0mtranslate_tool\u001b[0m\u001b[0;34m(\u001b[0m\u001b[0;34m(\u001b[0m\u001b[0msin\u001b[0m\u001b[0;34m(\u001b[0m\u001b[0;36m60\u001b[0m\u001b[0;34m*\u001b[0m\u001b[0mpi\u001b[0m\u001b[0;34m/\u001b[0m\u001b[0;36m180\u001b[0m\u001b[0;34m)\u001b[0m\u001b[0;34m*\u001b[0m\u001b[0mtranslate_dir_dis\u001b[0m\u001b[0;34m[\u001b[0m\u001b[0;36m0\u001b[0m\u001b[0;34m]\u001b[0m\u001b[0;34m+\u001b[0m\u001b[0mcos\u001b[0m\u001b[0;34m(\u001b[0m\u001b[0;36m60\u001b[0m\u001b[0;34m*\u001b[0m\u001b[0mpi\u001b[0m\u001b[0;34m/\u001b[0m\u001b[0;36m180\u001b[0m\u001b[0;34m)\u001b[0m\u001b[0;34m*\u001b[0m\u001b[0mtranslate_dir_dis\u001b[0m\u001b[0;34m[\u001b[0m\u001b[0;36m1\u001b[0m\u001b[0;34m]\u001b[0m\u001b[0;34m,\u001b[0m \u001b[0;36m0\u001b[0m\u001b[0;34m,\u001b[0m \u001b[0mcos\u001b[0m\u001b[0;34m(\u001b[0m\u001b[0;36m60\u001b[0m\u001b[0;34m*\u001b[0m\u001b[0mpi\u001b[0m\u001b[0;34m/\u001b[0m\u001b[0;36m180\u001b[0m\u001b[0;34m)\u001b[0m\u001b[0;34m*\u001b[0m\u001b[0mtranslate_dir_dis\u001b[0m\u001b[0;34m[\u001b[0m\u001b[0;36m0\u001b[0m\u001b[0;34m]\u001b[0m\u001b[0;34m-\u001b[0m\u001b[0msin\u001b[0m\u001b[0;34m(\u001b[0m\u001b[0;36m60\u001b[0m\u001b[0;34m*\u001b[0m\u001b[0mpi\u001b[0m\u001b[0;34m/\u001b[0m\u001b[0;36m180\u001b[0m\u001b[0;34m)\u001b[0m\u001b[0;34m*\u001b[0m\u001b[0mtranslate_dir_dis\u001b[0m\u001b[0;34m[\u001b[0m\u001b[0;36m1\u001b[0m\u001b[0;34m]\u001b[0m\u001b[0;34m)\u001b[0m\u001b[0;34m,\u001b[0m \u001b[0macc\u001b[0m\u001b[0;34m=\u001b[0m\u001b[0;36m0.1\u001b[0m\u001b[0;34m,\u001b[0m \u001b[0mvel\u001b[0m\u001b[0;34m=\u001b[0m\u001b[0;36m0.4\u001b[0m\u001b[0;34m,\u001b[0m \u001b[0mwait\u001b[0m\u001b[0;34m=\u001b[0m\u001b[0mTrue\u001b[0m\u001b[0;34m)\u001b[0m\u001b[0;34m\u001b[0m\u001b[0m\n\u001b[0m\u001b[1;32m    121\u001b[0m         \u001b[0mRobotiq\u001b[0m\u001b[0;34m.\u001b[0m\u001b[0mgoto\u001b[0m\u001b[0;34m(\u001b[0m\u001b[0mrobotiq_client\u001b[0m\u001b[0;34m,\u001b[0m \u001b[0mpos\u001b[0m\u001b[0;34m=\u001b[0m\u001b[0;34m-\u001b[0m\u001b[0;36m4\u001b[0m\u001b[0;34m*\u001b[0m\u001b[0;36m0.14\u001b[0m\u001b[0;34m/\u001b[0m\u001b[0;36m48.0\u001b[0m\u001b[0;34m+\u001b[0m\u001b[0;36m1.12\u001b[0m\u001b[0;34m/\u001b[0m\u001b[0;36m48.0\u001b[0m\u001b[0;34m,\u001b[0m \u001b[0mspeed\u001b[0m\u001b[0;34m=\u001b[0m\u001b[0;36m0.2\u001b[0m\u001b[0;34m,\u001b[0m \u001b[0mforce\u001b[0m\u001b[0;34m=\u001b[0m\u001b[0;36m10\u001b[0m\u001b[0;34m,\u001b[0m \u001b[0mblock\u001b[0m\u001b[0;34m=\u001b[0m\u001b[0mFalse\u001b[0m\u001b[0;34m)\u001b[0m\u001b[0;34m\u001b[0m\u001b[0m\n\u001b[1;32m    122\u001b[0m         \u001b[0mrospy\u001b[0m\u001b[0;34m.\u001b[0m\u001b[0msleep\u001b[0m\u001b[0;34m(\u001b[0m\u001b[0;36m0.5\u001b[0m\u001b[0;34m)\u001b[0m\u001b[0;34m\u001b[0m\u001b[0m\n",
      "\u001b[0;32m/home/terry/anaconda3/envs/ros_control/lib/python2.7/site-packages/urx/robot.pyc\u001b[0m in \u001b[0;36mtranslate_tool\u001b[0;34m(self, vect, acc, vel, wait, threshold)\u001b[0m\n\u001b[1;32m     67\u001b[0m             \u001b[0mvect\u001b[0m \u001b[0;34m=\u001b[0m \u001b[0mm3d\u001b[0m\u001b[0;34m.\u001b[0m\u001b[0mVector\u001b[0m\u001b[0;34m(\u001b[0m\u001b[0mvect\u001b[0m\u001b[0;34m)\u001b[0m\u001b[0;34m\u001b[0m\u001b[0m\n\u001b[1;32m     68\u001b[0m         \u001b[0mt\u001b[0m\u001b[0;34m.\u001b[0m\u001b[0mpos\u001b[0m \u001b[0;34m+=\u001b[0m \u001b[0mvect\u001b[0m\u001b[0;34m\u001b[0m\u001b[0m\n\u001b[0;32m---> 69\u001b[0;31m         \u001b[0;32mreturn\u001b[0m \u001b[0mself\u001b[0m\u001b[0;34m.\u001b[0m\u001b[0madd_pose_tool\u001b[0m\u001b[0;34m(\u001b[0m\u001b[0mt\u001b[0m\u001b[0;34m,\u001b[0m \u001b[0macc\u001b[0m\u001b[0;34m,\u001b[0m \u001b[0mvel\u001b[0m\u001b[0;34m,\u001b[0m \u001b[0mwait\u001b[0m\u001b[0;34m=\u001b[0m\u001b[0mwait\u001b[0m\u001b[0;34m,\u001b[0m \u001b[0mthreshold\u001b[0m\u001b[0;34m=\u001b[0m\u001b[0mthreshold\u001b[0m\u001b[0;34m)\u001b[0m\u001b[0;34m\u001b[0m\u001b[0m\n\u001b[0m\u001b[1;32m     70\u001b[0m \u001b[0;34m\u001b[0m\u001b[0m\n\u001b[1;32m     71\u001b[0m     \u001b[0;32mdef\u001b[0m \u001b[0mback\u001b[0m\u001b[0;34m(\u001b[0m\u001b[0mself\u001b[0m\u001b[0;34m,\u001b[0m \u001b[0mz\u001b[0m\u001b[0;34m=\u001b[0m\u001b[0;36m0.05\u001b[0m\u001b[0;34m,\u001b[0m \u001b[0macc\u001b[0m\u001b[0;34m=\u001b[0m\u001b[0;36m0.01\u001b[0m\u001b[0;34m,\u001b[0m \u001b[0mvel\u001b[0m\u001b[0;34m=\u001b[0m\u001b[0;36m0.01\u001b[0m\u001b[0;34m)\u001b[0m\u001b[0;34m:\u001b[0m\u001b[0;34m\u001b[0m\u001b[0m\n",
      "\u001b[0;32m/home/terry/anaconda3/envs/ros_control/lib/python2.7/site-packages/urx/robot.pyc\u001b[0m in \u001b[0;36madd_pose_tool\u001b[0;34m(self, trans, acc, vel, wait, command, threshold)\u001b[0m\n\u001b[1;32m    119\u001b[0m         \"\"\"\n\u001b[1;32m    120\u001b[0m         \u001b[0mpose\u001b[0m \u001b[0;34m=\u001b[0m \u001b[0mself\u001b[0m\u001b[0;34m.\u001b[0m\u001b[0mget_pose\u001b[0m\u001b[0;34m(\u001b[0m\u001b[0;34m)\u001b[0m\u001b[0;34m\u001b[0m\u001b[0m\n\u001b[0;32m--> 121\u001b[0;31m         \u001b[0;32mreturn\u001b[0m \u001b[0mself\u001b[0m\u001b[0;34m.\u001b[0m\u001b[0mset_pose\u001b[0m\u001b[0;34m(\u001b[0m\u001b[0mpose\u001b[0m \u001b[0;34m*\u001b[0m \u001b[0mtrans\u001b[0m\u001b[0;34m,\u001b[0m \u001b[0macc\u001b[0m\u001b[0;34m,\u001b[0m \u001b[0mvel\u001b[0m\u001b[0;34m,\u001b[0m \u001b[0mwait\u001b[0m\u001b[0;34m=\u001b[0m\u001b[0mwait\u001b[0m\u001b[0;34m,\u001b[0m \u001b[0mcommand\u001b[0m\u001b[0;34m=\u001b[0m\u001b[0mcommand\u001b[0m\u001b[0;34m,\u001b[0m \u001b[0mthreshold\u001b[0m\u001b[0;34m=\u001b[0m\u001b[0mthreshold\u001b[0m\u001b[0;34m)\u001b[0m\u001b[0;34m\u001b[0m\u001b[0m\n\u001b[0m\u001b[1;32m    122\u001b[0m \u001b[0;34m\u001b[0m\u001b[0m\n\u001b[1;32m    123\u001b[0m     \u001b[0;32mdef\u001b[0m \u001b[0mget_pose\u001b[0m\u001b[0;34m(\u001b[0m\u001b[0mself\u001b[0m\u001b[0;34m,\u001b[0m \u001b[0mwait\u001b[0m\u001b[0;34m=\u001b[0m\u001b[0mFalse\u001b[0m\u001b[0;34m,\u001b[0m \u001b[0m_log\u001b[0m\u001b[0;34m=\u001b[0m\u001b[0mTrue\u001b[0m\u001b[0;34m)\u001b[0m\u001b[0;34m:\u001b[0m\u001b[0;34m\u001b[0m\u001b[0m\n",
      "\u001b[0;32m/home/terry/anaconda3/envs/ros_control/lib/python2.7/site-packages/urx/robot.pyc\u001b[0m in \u001b[0;36mset_pose\u001b[0;34m(self, trans, acc, vel, wait, command, threshold)\u001b[0m\n\u001b[1;32m    103\u001b[0m         \u001b[0mself\u001b[0m\u001b[0;34m.\u001b[0m\u001b[0mlogger\u001b[0m\u001b[0;34m.\u001b[0m\u001b[0mdebug\u001b[0m\u001b[0;34m(\u001b[0m\u001b[0;34m\"Setting pose to %s\"\u001b[0m\u001b[0;34m,\u001b[0m \u001b[0mtrans\u001b[0m\u001b[0;34m.\u001b[0m\u001b[0mpose_vector\u001b[0m\u001b[0;34m)\u001b[0m\u001b[0;34m\u001b[0m\u001b[0m\n\u001b[1;32m    104\u001b[0m         \u001b[0mt\u001b[0m \u001b[0;34m=\u001b[0m \u001b[0mself\u001b[0m\u001b[0;34m.\u001b[0m\u001b[0mcsys\u001b[0m \u001b[0;34m*\u001b[0m \u001b[0mtrans\u001b[0m\u001b[0;34m\u001b[0m\u001b[0m\n\u001b[0;32m--> 105\u001b[0;31m         \u001b[0mpose\u001b[0m \u001b[0;34m=\u001b[0m \u001b[0mURRobot\u001b[0m\u001b[0;34m.\u001b[0m\u001b[0mmovex\u001b[0m\u001b[0;34m(\u001b[0m\u001b[0mself\u001b[0m\u001b[0;34m,\u001b[0m \u001b[0mcommand\u001b[0m\u001b[0;34m,\u001b[0m \u001b[0mt\u001b[0m\u001b[0;34m.\u001b[0m\u001b[0mpose_vector\u001b[0m\u001b[0;34m,\u001b[0m \u001b[0macc\u001b[0m\u001b[0;34m=\u001b[0m\u001b[0macc\u001b[0m\u001b[0;34m,\u001b[0m \u001b[0mvel\u001b[0m\u001b[0;34m=\u001b[0m\u001b[0mvel\u001b[0m\u001b[0;34m,\u001b[0m \u001b[0mwait\u001b[0m\u001b[0;34m=\u001b[0m\u001b[0mwait\u001b[0m\u001b[0;34m,\u001b[0m \u001b[0mthreshold\u001b[0m\u001b[0;34m=\u001b[0m\u001b[0mthreshold\u001b[0m\u001b[0;34m)\u001b[0m\u001b[0;34m\u001b[0m\u001b[0m\n\u001b[0m\u001b[1;32m    106\u001b[0m         \u001b[0;32mif\u001b[0m \u001b[0mpose\u001b[0m \u001b[0;32mis\u001b[0m \u001b[0;32mnot\u001b[0m \u001b[0mNone\u001b[0m\u001b[0;34m:\u001b[0m\u001b[0;34m\u001b[0m\u001b[0m\n\u001b[1;32m    107\u001b[0m             \u001b[0;32mreturn\u001b[0m \u001b[0mself\u001b[0m\u001b[0;34m.\u001b[0m\u001b[0mcsys\u001b[0m\u001b[0;34m.\u001b[0m\u001b[0minverse\u001b[0m \u001b[0;34m*\u001b[0m \u001b[0mm3d\u001b[0m\u001b[0;34m.\u001b[0m\u001b[0mTransform\u001b[0m\u001b[0;34m(\u001b[0m\u001b[0mpose\u001b[0m\u001b[0;34m)\u001b[0m\u001b[0;34m\u001b[0m\u001b[0m\n",
      "\u001b[0;32m/home/terry/anaconda3/envs/ros_control/lib/python2.7/site-packages/urx/urrobot.pyc\u001b[0m in \u001b[0;36mmovex\u001b[0;34m(self, command, tpose, acc, vel, wait, relative, threshold)\u001b[0m\n\u001b[1;32m    314\u001b[0m         \u001b[0mself\u001b[0m\u001b[0;34m.\u001b[0m\u001b[0msend_program\u001b[0m\u001b[0;34m(\u001b[0m\u001b[0mprog\u001b[0m\u001b[0;34m)\u001b[0m\u001b[0;34m\u001b[0m\u001b[0m\n\u001b[1;32m    315\u001b[0m         \u001b[0;32mif\u001b[0m \u001b[0mwait\u001b[0m\u001b[0;34m:\u001b[0m\u001b[0;34m\u001b[0m\u001b[0m\n\u001b[0;32m--> 316\u001b[0;31m             \u001b[0mself\u001b[0m\u001b[0;34m.\u001b[0m\u001b[0m_wait_for_move\u001b[0m\u001b[0;34m(\u001b[0m\u001b[0mtpose\u001b[0m\u001b[0;34m[\u001b[0m\u001b[0;34m:\u001b[0m\u001b[0;36m6\u001b[0m\u001b[0;34m]\u001b[0m\u001b[0;34m,\u001b[0m \u001b[0mthreshold\u001b[0m\u001b[0;34m=\u001b[0m\u001b[0mthreshold\u001b[0m\u001b[0;34m)\u001b[0m\u001b[0;34m\u001b[0m\u001b[0m\n\u001b[0m\u001b[1;32m    317\u001b[0m             \u001b[0;32mreturn\u001b[0m \u001b[0mself\u001b[0m\u001b[0;34m.\u001b[0m\u001b[0mgetl\u001b[0m\u001b[0;34m(\u001b[0m\u001b[0;34m)\u001b[0m\u001b[0;34m\u001b[0m\u001b[0m\n\u001b[1;32m    318\u001b[0m \u001b[0;34m\u001b[0m\u001b[0m\n",
      "\u001b[0;32m/home/terry/anaconda3/envs/ros_control/lib/python2.7/site-packages/urx/urrobot.pyc\u001b[0m in \u001b[0;36m_wait_for_move\u001b[0;34m(self, target, threshold, timeout, joints)\u001b[0m\n\u001b[1;32m    216\u001b[0m             \u001b[0;32mif\u001b[0m \u001b[0;32mnot\u001b[0m \u001b[0mself\u001b[0m\u001b[0;34m.\u001b[0m\u001b[0mis_running\u001b[0m\u001b[0;34m(\u001b[0m\u001b[0;34m)\u001b[0m\u001b[0;34m:\u001b[0m\u001b[0;34m\u001b[0m\u001b[0m\n\u001b[1;32m    217\u001b[0m                 \u001b[0;32mraise\u001b[0m \u001b[0mRobotException\u001b[0m\u001b[0;34m(\u001b[0m\u001b[0;34m\"Robot stopped\"\u001b[0m\u001b[0;34m)\u001b[0m\u001b[0;34m\u001b[0m\u001b[0m\n\u001b[0;32m--> 218\u001b[0;31m             \u001b[0mdist\u001b[0m \u001b[0;34m=\u001b[0m \u001b[0mself\u001b[0m\u001b[0;34m.\u001b[0m\u001b[0m_get_dist\u001b[0m\u001b[0;34m(\u001b[0m\u001b[0mtarget\u001b[0m\u001b[0;34m,\u001b[0m \u001b[0mjoints\u001b[0m\u001b[0;34m)\u001b[0m\u001b[0;34m\u001b[0m\u001b[0m\n\u001b[0m\u001b[1;32m    219\u001b[0m             \u001b[0mself\u001b[0m\u001b[0;34m.\u001b[0m\u001b[0mlogger\u001b[0m\u001b[0;34m.\u001b[0m\u001b[0mdebug\u001b[0m\u001b[0;34m(\u001b[0m\u001b[0;34m\"distance to target is: %s, target dist is %s\"\u001b[0m\u001b[0;34m,\u001b[0m \u001b[0mdist\u001b[0m\u001b[0;34m,\u001b[0m \u001b[0mthreshold\u001b[0m\u001b[0;34m)\u001b[0m\u001b[0;34m\u001b[0m\u001b[0m\n\u001b[1;32m    220\u001b[0m             \u001b[0;32mif\u001b[0m \u001b[0;32mnot\u001b[0m \u001b[0mself\u001b[0m\u001b[0;34m.\u001b[0m\u001b[0msecmon\u001b[0m\u001b[0;34m.\u001b[0m\u001b[0mis_program_running\u001b[0m\u001b[0;34m(\u001b[0m\u001b[0;34m)\u001b[0m\u001b[0;34m:\u001b[0m\u001b[0;34m\u001b[0m\u001b[0m\n",
      "\u001b[0;32m/home/terry/anaconda3/envs/ros_control/lib/python2.7/site-packages/urx/urrobot.pyc\u001b[0m in \u001b[0;36m_get_dist\u001b[0;34m(self, target, joints)\u001b[0m\n\u001b[1;32m    232\u001b[0m             \u001b[0;32mreturn\u001b[0m \u001b[0mself\u001b[0m\u001b[0;34m.\u001b[0m\u001b[0m_get_joints_dist\u001b[0m\u001b[0;34m(\u001b[0m\u001b[0mtarget\u001b[0m\u001b[0;34m)\u001b[0m\u001b[0;34m\u001b[0m\u001b[0m\n\u001b[1;32m    233\u001b[0m         \u001b[0;32melse\u001b[0m\u001b[0;34m:\u001b[0m\u001b[0;34m\u001b[0m\u001b[0m\n\u001b[0;32m--> 234\u001b[0;31m             \u001b[0;32mreturn\u001b[0m \u001b[0mself\u001b[0m\u001b[0;34m.\u001b[0m\u001b[0m_get_lin_dist\u001b[0m\u001b[0;34m(\u001b[0m\u001b[0mtarget\u001b[0m\u001b[0;34m)\u001b[0m\u001b[0;34m\u001b[0m\u001b[0m\n\u001b[0m\u001b[1;32m    235\u001b[0m \u001b[0;34m\u001b[0m\u001b[0m\n\u001b[1;32m    236\u001b[0m     \u001b[0;32mdef\u001b[0m \u001b[0m_get_lin_dist\u001b[0m\u001b[0;34m(\u001b[0m\u001b[0mself\u001b[0m\u001b[0;34m,\u001b[0m \u001b[0mtarget\u001b[0m\u001b[0;34m)\u001b[0m\u001b[0;34m:\u001b[0m\u001b[0;34m\u001b[0m\u001b[0m\n",
      "\u001b[0;32m/home/terry/anaconda3/envs/ros_control/lib/python2.7/site-packages/urx/robot.pyc\u001b[0m in \u001b[0;36m_get_lin_dist\u001b[0;34m(self, target)\u001b[0m\n\u001b[1;32m     29\u001b[0m \u001b[0;34m\u001b[0m\u001b[0m\n\u001b[1;32m     30\u001b[0m     \u001b[0;32mdef\u001b[0m \u001b[0m_get_lin_dist\u001b[0m\u001b[0;34m(\u001b[0m\u001b[0mself\u001b[0m\u001b[0;34m,\u001b[0m \u001b[0mtarget\u001b[0m\u001b[0;34m)\u001b[0m\u001b[0;34m:\u001b[0m\u001b[0;34m\u001b[0m\u001b[0m\n\u001b[0;32m---> 31\u001b[0;31m         \u001b[0mpose\u001b[0m \u001b[0;34m=\u001b[0m \u001b[0mURRobot\u001b[0m\u001b[0;34m.\u001b[0m\u001b[0mgetl\u001b[0m\u001b[0;34m(\u001b[0m\u001b[0mself\u001b[0m\u001b[0;34m,\u001b[0m \u001b[0mwait\u001b[0m\u001b[0;34m=\u001b[0m\u001b[0mTrue\u001b[0m\u001b[0;34m)\u001b[0m\u001b[0;34m\u001b[0m\u001b[0m\n\u001b[0m\u001b[1;32m     32\u001b[0m         \u001b[0mtarget\u001b[0m \u001b[0;34m=\u001b[0m \u001b[0mm3d\u001b[0m\u001b[0;34m.\u001b[0m\u001b[0mTransform\u001b[0m\u001b[0;34m(\u001b[0m\u001b[0mtarget\u001b[0m\u001b[0;34m)\u001b[0m\u001b[0;34m\u001b[0m\u001b[0m\n\u001b[1;32m     33\u001b[0m         \u001b[0mpose\u001b[0m \u001b[0;34m=\u001b[0m \u001b[0mm3d\u001b[0m\u001b[0;34m.\u001b[0m\u001b[0mTransform\u001b[0m\u001b[0;34m(\u001b[0m\u001b[0mpose\u001b[0m\u001b[0;34m)\u001b[0m\u001b[0;34m\u001b[0m\u001b[0m\n",
      "\u001b[0;32m/home/terry/anaconda3/envs/ros_control/lib/python2.7/site-packages/urx/urrobot.pyc\u001b[0m in \u001b[0;36mgetl\u001b[0;34m(self, wait, _log)\u001b[0m\n\u001b[1;32m    321\u001b[0m         \u001b[0mget\u001b[0m \u001b[0mTCP\u001b[0m \u001b[0mposition\u001b[0m\u001b[0;34m\u001b[0m\u001b[0m\n\u001b[1;32m    322\u001b[0m         \"\"\"\n\u001b[0;32m--> 323\u001b[0;31m         \u001b[0mpose\u001b[0m \u001b[0;34m=\u001b[0m \u001b[0mself\u001b[0m\u001b[0;34m.\u001b[0m\u001b[0msecmon\u001b[0m\u001b[0;34m.\u001b[0m\u001b[0mget_cartesian_info\u001b[0m\u001b[0;34m(\u001b[0m\u001b[0mwait\u001b[0m\u001b[0;34m)\u001b[0m\u001b[0;34m\u001b[0m\u001b[0m\n\u001b[0m\u001b[1;32m    324\u001b[0m         \u001b[0;32mif\u001b[0m \u001b[0mpose\u001b[0m\u001b[0;34m:\u001b[0m\u001b[0;34m\u001b[0m\u001b[0m\n\u001b[1;32m    325\u001b[0m             \u001b[0mpose\u001b[0m \u001b[0;34m=\u001b[0m \u001b[0;34m[\u001b[0m\u001b[0mpose\u001b[0m\u001b[0;34m[\u001b[0m\u001b[0;34m\"X\"\u001b[0m\u001b[0;34m]\u001b[0m\u001b[0;34m,\u001b[0m \u001b[0mpose\u001b[0m\u001b[0;34m[\u001b[0m\u001b[0;34m\"Y\"\u001b[0m\u001b[0;34m]\u001b[0m\u001b[0;34m,\u001b[0m \u001b[0mpose\u001b[0m\u001b[0;34m[\u001b[0m\u001b[0;34m\"Z\"\u001b[0m\u001b[0;34m]\u001b[0m\u001b[0;34m,\u001b[0m \u001b[0mpose\u001b[0m\u001b[0;34m[\u001b[0m\u001b[0;34m\"Rx\"\u001b[0m\u001b[0;34m]\u001b[0m\u001b[0;34m,\u001b[0m \u001b[0mpose\u001b[0m\u001b[0;34m[\u001b[0m\u001b[0;34m\"Ry\"\u001b[0m\u001b[0;34m]\u001b[0m\u001b[0;34m,\u001b[0m \u001b[0mpose\u001b[0m\u001b[0;34m[\u001b[0m\u001b[0;34m\"Rz\"\u001b[0m\u001b[0;34m]\u001b[0m\u001b[0;34m]\u001b[0m\u001b[0;34m\u001b[0m\u001b[0m\n",
      "\u001b[0;32m/home/terry/anaconda3/envs/ros_control/lib/python2.7/site-packages/urx/ursecmon.pyc\u001b[0m in \u001b[0;36mget_cartesian_info\u001b[0;34m(self, wait)\u001b[0m\n\u001b[1;32m    351\u001b[0m     \u001b[0;32mdef\u001b[0m \u001b[0mget_cartesian_info\u001b[0m\u001b[0;34m(\u001b[0m\u001b[0mself\u001b[0m\u001b[0;34m,\u001b[0m \u001b[0mwait\u001b[0m\u001b[0;34m=\u001b[0m\u001b[0mFalse\u001b[0m\u001b[0;34m)\u001b[0m\u001b[0;34m:\u001b[0m\u001b[0;34m\u001b[0m\u001b[0m\n\u001b[1;32m    352\u001b[0m         \u001b[0;32mif\u001b[0m \u001b[0mwait\u001b[0m\u001b[0;34m:\u001b[0m\u001b[0;34m\u001b[0m\u001b[0m\n\u001b[0;32m--> 353\u001b[0;31m             \u001b[0mself\u001b[0m\u001b[0;34m.\u001b[0m\u001b[0mwait\u001b[0m\u001b[0;34m(\u001b[0m\u001b[0;34m)\u001b[0m\u001b[0;34m\u001b[0m\u001b[0m\n\u001b[0m\u001b[1;32m    354\u001b[0m         \u001b[0;32mwith\u001b[0m \u001b[0mself\u001b[0m\u001b[0;34m.\u001b[0m\u001b[0m_dictLock\u001b[0m\u001b[0;34m:\u001b[0m\u001b[0;34m\u001b[0m\u001b[0m\n\u001b[1;32m    355\u001b[0m             \u001b[0;32mif\u001b[0m \u001b[0;34m\"CartesianInfo\"\u001b[0m \u001b[0;32min\u001b[0m \u001b[0mself\u001b[0m\u001b[0;34m.\u001b[0m\u001b[0m_dict\u001b[0m\u001b[0;34m:\u001b[0m\u001b[0;34m\u001b[0m\u001b[0m\n",
      "\u001b[0;32m/home/terry/anaconda3/envs/ros_control/lib/python2.7/site-packages/urx/ursecmon.pyc\u001b[0m in \u001b[0;36mwait\u001b[0;34m(self, timeout)\u001b[0m\n\u001b[1;32m    345\u001b[0m         \u001b[0mtstamp\u001b[0m \u001b[0;34m=\u001b[0m \u001b[0mself\u001b[0m\u001b[0;34m.\u001b[0m\u001b[0mlastpacket_timestamp\u001b[0m\u001b[0;34m\u001b[0m\u001b[0m\n\u001b[1;32m    346\u001b[0m         \u001b[0;32mwith\u001b[0m \u001b[0mself\u001b[0m\u001b[0;34m.\u001b[0m\u001b[0m_dataEvent\u001b[0m\u001b[0;34m:\u001b[0m\u001b[0;34m\u001b[0m\u001b[0m\n\u001b[0;32m--> 347\u001b[0;31m             \u001b[0mself\u001b[0m\u001b[0;34m.\u001b[0m\u001b[0m_dataEvent\u001b[0m\u001b[0;34m.\u001b[0m\u001b[0mwait\u001b[0m\u001b[0;34m(\u001b[0m\u001b[0mtimeout\u001b[0m\u001b[0;34m)\u001b[0m\u001b[0;34m\u001b[0m\u001b[0m\n\u001b[0m\u001b[1;32m    348\u001b[0m             \u001b[0;32mif\u001b[0m \u001b[0mtstamp\u001b[0m \u001b[0;34m==\u001b[0m \u001b[0mself\u001b[0m\u001b[0;34m.\u001b[0m\u001b[0mlastpacket_timestamp\u001b[0m\u001b[0;34m:\u001b[0m\u001b[0;34m\u001b[0m\u001b[0m\n\u001b[1;32m    349\u001b[0m                 \u001b[0;32mraise\u001b[0m \u001b[0mTimeoutException\u001b[0m\u001b[0;34m(\u001b[0m\u001b[0;34m\"Did not receive a valid data packet from robot in {}\"\u001b[0m\u001b[0;34m.\u001b[0m\u001b[0mformat\u001b[0m\u001b[0;34m(\u001b[0m\u001b[0mtimeout\u001b[0m\u001b[0;34m)\u001b[0m\u001b[0;34m)\u001b[0m\u001b[0;34m\u001b[0m\u001b[0m\n",
      "\u001b[0;32m/home/terry/anaconda3/envs/ros_control/lib/python2.7/threading.pyc\u001b[0m in \u001b[0;36mwait\u001b[0;34m(self, timeout)\u001b[0m\n\u001b[1;32m    357\u001b[0m                         \u001b[0;32mbreak\u001b[0m\u001b[0;34m\u001b[0m\u001b[0m\n\u001b[1;32m    358\u001b[0m                     \u001b[0mdelay\u001b[0m \u001b[0;34m=\u001b[0m \u001b[0mmin\u001b[0m\u001b[0;34m(\u001b[0m\u001b[0mdelay\u001b[0m \u001b[0;34m*\u001b[0m \u001b[0;36m2\u001b[0m\u001b[0;34m,\u001b[0m \u001b[0mremaining\u001b[0m\u001b[0;34m,\u001b[0m \u001b[0;36m.05\u001b[0m\u001b[0;34m)\u001b[0m\u001b[0;34m\u001b[0m\u001b[0m\n\u001b[0;32m--> 359\u001b[0;31m                     \u001b[0m_sleep\u001b[0m\u001b[0;34m(\u001b[0m\u001b[0mdelay\u001b[0m\u001b[0;34m)\u001b[0m\u001b[0;34m\u001b[0m\u001b[0m\n\u001b[0m\u001b[1;32m    360\u001b[0m                 \u001b[0;32mif\u001b[0m \u001b[0;32mnot\u001b[0m \u001b[0mgotit\u001b[0m\u001b[0;34m:\u001b[0m\u001b[0;34m\u001b[0m\u001b[0m\n\u001b[1;32m    361\u001b[0m                     \u001b[0;32mif\u001b[0m \u001b[0m__debug__\u001b[0m\u001b[0;34m:\u001b[0m\u001b[0;34m\u001b[0m\u001b[0m\n",
      "\u001b[0;31mKeyboardInterrupt\u001b[0m: "
     ]
    }
   ],
   "source": [
    "def distane_to_bowl_center(point_coordinate):\n",
    "    return sqrt((point_coordinate[0]-0.05)**2+(point_coordinate[1]-0.69)**2)\n",
    "\n",
    "stone_img_count = 0\n",
    "picking_count = 0\n",
    "while True:\n",
    "    whether_successful = False\n",
    "    whether_executed = False\n",
    "    while True:\n",
    "        if_continue = raw_input(\"continue?\")\n",
    "        if if_continue != '':\n",
    "            break\n",
    "    go_to_safe_place()\n",
    "    Robotiq.goto(robotiq_client, pos=0.023, speed=0.5, force=10, block=True)\n",
    "    rospy.sleep(1)\n",
    "    go_to_home()\n",
    "    rospy.sleep(1)\n",
    "    hori_Go_stone_number = None\n",
    "    ver_Go_stone_number = None\n",
    "    Go_stone_dir_sorted = []\n",
    "    hori_pose_Go_stone_set = []\n",
    "    yaw_pitch_normal_set = []\n",
    "    ver_pose_Go_stone_set = []\n",
    "    gripper_direction_set = []\n",
    "    gripper_aperture_set = []\n",
    "    is_send_stone_img = 1\n",
    "    print 'started', stone_img_count\n",
    "    while True:\n",
    "        if hori_Go_stone_number != None and hori_Go_stone_number == len(yaw_pitch_normal_set) and ver_Go_stone_number != None and ver_Go_stone_number == len(gripper_aperture_set):\n",
    "            break\n",
    "        rospy.sleep(0.1)   \n",
    "    print hori_pose_Go_stone_set\n",
    "    print yaw_pitch_normal_set\n",
    "    print ver_pose_Go_stone_set, gripper_direction_set, gripper_aperture_set\n",
    "    priority_list = []\n",
    "    if ver_pose_Go_stone_set == []:\n",
    "        for index_hori in range(len(hori_pose_Go_stone_set)):\n",
    "            priority_list.append(('h', index_hori))\n",
    "    elif hori_pose_Go_stone_set == []:\n",
    "        for index_ver in range(len(ver_pose_Go_stone_set)):\n",
    "            priority_list.append(('v', index_ver))\n",
    "    else:\n",
    "        for index_hori in range(len(hori_pose_Go_stone_set)):\n",
    "            for index_ver in range(len(ver_pose_Go_stone_set)):\n",
    "                if hori_pose_Go_stone_set[index_hori][2]<=ver_pose_Go_stone_set[index_ver][2]-0.002 and ('v', index_ver) not in priority_list:\n",
    "                    priority_list.append(('v', index_ver))\n",
    "                v_num = 0\n",
    "                for element in priority_list:\n",
    "                    if element[0]=='v':\n",
    "                        v_num+=1\n",
    "                if (v_num == len(ver_pose_Go_stone_set) or hori_pose_Go_stone_set[index_hori][2]>ver_pose_Go_stone_set[index_ver][2]-0.002) and ('h', index_hori) not in priority_list:\n",
    "                    priority_list.append(('h', index_hori))\n",
    "        for index_ver in range(len(ver_pose_Go_stone_set)):\n",
    "            if ('v', index_ver) not in priority_list:\n",
    "                priority_list.append(('v', index_ver))\n",
    "    print priority_list\n",
    "    for index in priority_list:\n",
    "        '''\n",
    "        if index[0]=='v':\n",
    "            if ver_pose_Go_stone_set[index[1]]==[None, None, None]:\n",
    "                continue\n",
    "            if direct_pick_collision_check(index[1])==False and ver_pose_Go_stone_set[index[1]][2]<0.075:\n",
    "                direct_pick_execute(index[1])\n",
    "                break\n",
    "        '''\n",
    "        if index[0]=='h':\n",
    "            if hori_pose_Go_stone_set[index[1]]==[None, None, None]:\n",
    "                continue  \n",
    "            if hori_pose_Go_stone_set[index[1]][2]>0.05:\n",
    "                if distane_to_bowl_center(hori_pose_Go_stone_set[index[1]])<0.02:\n",
    "                    if poke_grasp_execute(index[1])==True:\n",
    "                        break \n",
    "            else:\n",
    "                if scoop_collision_check(index[1])==False:\n",
    "                    scoop_execute(index[1]) \n",
    "                    break\n",
    "    else:\n",
    "        go_to_safe_place()\n",
    "        pos_x = rob.get_pose().pos.x+0.007\n",
    "        pos_y = rob.get_pose().pos.y-0.001\n",
    "        if ver_pose_Go_stone_set == []:\n",
    "            min_height = np.min(np.array(hori_pose_Go_stone_set)[:,2])\n",
    "        elif hori_pose_Go_stone_set == []:\n",
    "            min_height = np.min(np.array(ver_pose_Go_stone_set)[:,2])\n",
    "        else:\n",
    "            min_height = min(np.min(np.array(hori_pose_Go_stone_set)[:,2]), np.min(np.array(ver_pose_Go_stone_set)[:,2]))\n",
    "\n",
    "        if min_height>0.058:\n",
    "            rob.translate((0.05-pos_x+0.03,0.69-pos_y-0.03,0), acc=0.1, vel=0.4, wait=True)\n",
    "            rob.translate((0,0,-0.04), acc=0.1, vel=0.4, wait=True)\n",
    "            rob.translate((0,0.06,0), acc=0.1, vel=0.4, wait=True)\n",
    "            rob.translate((-0.06,0,0), acc=0.1, vel=0.4, wait=True)\n",
    "            rob.translate((0,-0.06,0), acc=0.1, vel=0.4, wait=True)\n",
    "            rob.translate((0.06,0,0), acc=0.1, vel=0.4, wait=True)\n",
    "            rob.translate((0,0,0.04), acc=0.1, vel=0.4, wait=True) \n",
    "        elif min_height>0.053:\n",
    "            rob.translate((0.05-pos_x+0.03,0.69-pos_y-0.03,0), acc=0.1, vel=0.4, wait=True)\n",
    "            rob.translate((0,0,-0.05), acc=0.1, vel=0.4, wait=True)\n",
    "            rob.translate((0,0.06,0), acc=0.1, vel=0.4, wait=True)\n",
    "            rob.translate((-0.06,0,0), acc=0.1, vel=0.4, wait=True)\n",
    "            rob.translate((0,-0.06,0), acc=0.1, vel=0.4, wait=True)\n",
    "            rob.translate((0.06,0,0), acc=0.1, vel=0.4, wait=True)\n",
    "            rob.translate((0,0,0.05), acc=0.1, vel=0.4, wait=True) \n",
    "        elif min_height>0.045:\n",
    "            rob.translate((0.05-pos_x+0.03,0.69-pos_y-0.03,0), acc=0.1, vel=0.4, wait=True)\n",
    "            rob.translate((0,0,-0.06), acc=0.1, vel=0.4, wait=True)\n",
    "            rob.translate((0,0.06,0), acc=0.1, vel=0.4, wait=True)\n",
    "            rob.translate((-0.06,0,0), acc=0.1, vel=0.4, wait=True)\n",
    "            rob.translate((0,-0.06,0), acc=0.1, vel=0.4, wait=True)\n",
    "            rob.translate((0.06,0,0), acc=0.1, vel=0.4, wait=True)\n",
    "            rob.translate((0,0,0.06), acc=0.1, vel=0.4, wait=True) \n",
    "        else:\n",
    "            if hori_pose_Go_stone_set==[]:\n",
    "                rob.translate((0.05-pos_x+0.03,0.69-pos_y-0.03,0), acc=0.1, vel=0.4, wait=True)\n",
    "                rob.translate((0,0,-0.075), acc=0.1, vel=0.4, wait=True)\n",
    "                rob.translate((0,0.06,0), acc=0.1, vel=0.4, wait=True)\n",
    "                rob.translate((-0.06,0,0), acc=0.1, vel=0.4, wait=True)\n",
    "                rob.translate((0,-0.06,0), acc=0.1, vel=0.4, wait=True)\n",
    "                rob.translate((0.06,0,0), acc=0.1, vel=0.4, wait=True)\n",
    "                rob.translate((0,0,0.075), acc=0.01, vel=0.05, wait=True)      \n",
    "            else:\n",
    "                servo_pub.publish(100)\n",
    "                if len(hori_pose_Go_stone_set)<=2:\n",
    "                    sweep_index_set = range(len(hori_pose_Go_stone_set))\n",
    "                else:\n",
    "                    sweep_index_set = random.sample(range(len(hori_pose_Go_stone_set)), 2)\n",
    "                for hori_index in sweep_index_set:\n",
    "                    alpha = atan2(0.69-hori_pose_Go_stone_set[hori_index][1], 0.05-hori_pose_Go_stone_set[hori_index][0])\n",
    "                    if alpha > pi/2 and alpha<=pi:\n",
    "                        rotate_angle = alpha-3*pi/2\n",
    "                    else:\n",
    "                        rotate_angle = alpha+pi/2\n",
    "                    print alpha, rotate_angle\n",
    "                    rob.movel_tool((0,0,0,0,0,-rotate_angle), acc=0.1, vel=0.2, wait=True) \n",
    "                    world2tcp = rob.get_pose()\n",
    "                    world2tcp.pos.x+=0.004\n",
    "                    world2tcp.pos.y-=0.002\n",
    "                    tcp2fingertip=m3d.Transform()\n",
    "                    tcp2fingertip.pos.x = 0\n",
    "                    tcp2fingertip.pos.y = 0  \n",
    "                    tcp2fingertip.pos.z = 0.354\n",
    "                    world2fingertip=(world2tcp*tcp2fingertip)\n",
    "                    #coordinate_x = max(hori_pose_Go_stone_set[hori_index][0], 0.008)\n",
    "                    #coordinate_y = min(hori_pose_Go_stone_set[hori_index][1], 0.73)\n",
    "                    rob.translate((hori_pose_Go_stone_set[hori_index][0]-world2fingertip.pos.x,hori_pose_Go_stone_set[hori_index][1]-world2fingertip.pos.y,0), acc=0.3, vel=0.8, wait=True)\n",
    "                    rob.movel_tool((0.002,0,0,0,0,0), acc=0.1, vel=0.2, wait=True) \n",
    "                    rob.set_tcp((0.002, 0, 0.354, 0, 0, 0))\n",
    "                    rospy.sleep(0.5)\n",
    "                    rob.movel_tool((0,0,0,0,20*pi/180,0), acc=0.3, vel=0.8, wait=True) \n",
    "                    rob.set_tcp((0, 0, 0, 0, 0, 0))\n",
    "                    rospy.sleep(0.5)\n",
    "                    rob.translate((0, 0, -0.05), acc=0.1, vel=0.3, wait=True)\n",
    "                    rob.translate((0, 0, -0.05), acc=0.001, vel=0.02, wait=False)\n",
    "                    wrench = rospy.wait_for_message('/robotiq_ft_wrench', WrenchStamped, timeout = None)\n",
    "                    ini_wrench = wrench.wrench.force.z\n",
    "                    torque_memory=[]\n",
    "                    while True:\n",
    "                        wrench = rospy.wait_for_message('/robotiq_ft_wrench', WrenchStamped, timeout = None)\n",
    "                        torque_memory.append(wrench.wrench.force.z)\n",
    "                        if len(torque_memory)<9:\n",
    "                            if wrench.wrench.force.z<ini_wrench-5:\n",
    "                                rob.stopl()\n",
    "                                break\n",
    "                        else:\n",
    "                            if wrench.wrench.force.z<max(torque_memory[0:9])-5:\n",
    "                                rob.stopl()\n",
    "                                break \n",
    "                    rob.translate((0.035*cos(alpha), 0.035*sin(alpha), 0), acc=0.1, vel=0.1, wait=True)\n",
    "                    #hardtip()\n",
    "                    rob.translate((0, 0, 0.1), acc=0.3, vel=0.8, wait=True)\n",
    "                    rob.movej((radians(99.10),radians(-91.67), radians(-107.60), radians(-70.72), radians(89.13), radians(-80.76)), 0.3, 0.7)"
   ]
  },
  {
   "cell_type": "code",
   "execution_count": 18,
   "metadata": {},
   "outputs": [
    {
     "data": {
      "text/plain": [
       "0.0006005983375602609"
      ]
     },
     "execution_count": 18,
     "metadata": {},
     "output_type": "execute_result"
    }
   ],
   "source": [
    "((0.075-0.07462983631818886)+(0.05-0.04978197174341037)+(0.025-0.02363016791729483)+(0.025-0.024555630670864904))/4.0"
   ]
  },
  {
   "cell_type": "code",
   "execution_count": 19,
   "metadata": {
    "scrolled": true
   },
   "outputs": [
    {
     "data": {
      "text/plain": [
       "-0.00020281297438465296"
      ]
     },
     "execution_count": 19,
     "metadata": {},
     "output_type": "execute_result"
    }
   ],
   "source": [
    "((0.675-0.6767408309761674)+(0.675-0.6758921484067598)+(0.7-0.6993785066287045)+(0.65-0.6487997658859069))/4.0"
   ]
  },
  {
   "cell_type": "code",
   "execution_count": 22,
   "metadata": {},
   "outputs": [],
   "source": [
    "Robotiq.goto(robotiq_client, pos=0.021, speed=0.000001, force=1, block=True)\n",
    "#servo_pub.publish(180)\n",
    "#softtip()"
   ]
  },
  {
   "cell_type": "code",
   "execution_count": 30,
   "metadata": {},
   "outputs": [
    {
     "name": "stderr",
     "output_type": "stream",
     "text": [
      "Exception in thread Thread-8:\n",
      "Traceback (most recent call last):\n",
      "  File \"/home/terry/anaconda3/envs/ros_control/lib/python2.7/threading.py\", line 801, in __bootstrap_inner\n",
      "    self.run()\n",
      "  File \"/home/terry/anaconda3/envs/ros_control/lib/python2.7/site-packages/urx/ursecmon.py\", line 291, in run\n",
      "    data = self._get_data()\n",
      "  File \"/home/terry/anaconda3/envs/ros_control/lib/python2.7/site-packages/urx/ursecmon.py\", line 338, in _get_data\n",
      "    tmp = self._s_secondary.recv(1024)\n",
      "timeout: timed out\n",
      "\n"
     ]
    }
   ],
   "source": [
    "Robotiq.goto(robotiq_client, pos=0.8, speed=0.000001, force=1, block=True)"
   ]
  },
  {
   "cell_type": "code",
   "execution_count": 81,
   "metadata": {},
   "outputs": [
    {
     "ename": "KeyboardInterrupt",
     "evalue": "",
     "output_type": "error",
     "traceback": [
      "\u001b[0;31m-----------------------------------------\u001b[0m",
      "\u001b[0;31mKeyboardInterrupt\u001b[0mTraceback (most recent call last)",
      "\u001b[0;32m<ipython-input-81-4a7e4c92aeb6>\u001b[0m in \u001b[0;36m<module>\u001b[0;34m()\u001b[0m\n\u001b[0;32m----> 1\u001b[0;31m \u001b[0mgo_to_safe_place\u001b[0m\u001b[0;34m(\u001b[0m\u001b[0;34m)\u001b[0m\u001b[0;34m\u001b[0m\u001b[0m\n\u001b[0m\u001b[1;32m      2\u001b[0m \u001b[0mRobotiq\u001b[0m\u001b[0;34m.\u001b[0m\u001b[0mgoto\u001b[0m\u001b[0;34m(\u001b[0m\u001b[0mrobotiq_client\u001b[0m\u001b[0;34m,\u001b[0m \u001b[0mpos\u001b[0m\u001b[0;34m=\u001b[0m\u001b[0;36m0.023\u001b[0m\u001b[0;34m,\u001b[0m \u001b[0mspeed\u001b[0m\u001b[0;34m=\u001b[0m\u001b[0;36m0.5\u001b[0m\u001b[0;34m,\u001b[0m \u001b[0mforce\u001b[0m\u001b[0;34m=\u001b[0m\u001b[0;36m10\u001b[0m\u001b[0;34m,\u001b[0m \u001b[0mblock\u001b[0m\u001b[0;34m=\u001b[0m\u001b[0mTrue\u001b[0m\u001b[0;34m)\u001b[0m\u001b[0;34m\u001b[0m\u001b[0m\n\u001b[1;32m      3\u001b[0m \u001b[0;34m\u001b[0m\u001b[0m\n\u001b[1;32m      4\u001b[0m \u001b[0mrob\u001b[0m\u001b[0;34m.\u001b[0m\u001b[0mset_tcp\u001b[0m\u001b[0;34m(\u001b[0m\u001b[0;34m(\u001b[0m\u001b[0;36m0\u001b[0m\u001b[0;34m,\u001b[0m \u001b[0;36m0\u001b[0m\u001b[0;34m,\u001b[0m \u001b[0;36m0\u001b[0m\u001b[0;34m,\u001b[0m \u001b[0;36m0\u001b[0m\u001b[0;34m,\u001b[0m \u001b[0;36m0\u001b[0m\u001b[0;34m,\u001b[0m \u001b[0;36m0\u001b[0m\u001b[0;34m)\u001b[0m\u001b[0;34m)\u001b[0m\u001b[0;34m\u001b[0m\u001b[0m\n\u001b[1;32m      5\u001b[0m \u001b[0mrospy\u001b[0m\u001b[0;34m.\u001b[0m\u001b[0msleep\u001b[0m\u001b[0;34m(\u001b[0m\u001b[0;36m0.5\u001b[0m\u001b[0;34m)\u001b[0m\u001b[0;34m\u001b[0m\u001b[0m\n",
      "\u001b[0;32m<ipython-input-6-84b17f2e8478>\u001b[0m in \u001b[0;36mgo_to_safe_place\u001b[0;34m()\u001b[0m\n\u001b[1;32m     19\u001b[0m     \u001b[0mHong_joint5\u001b[0m \u001b[0;34m=\u001b[0m \u001b[0mradians\u001b[0m\u001b[0;34m(\u001b[0m\u001b[0;34m-\u001b[0m\u001b[0;36m78.12\u001b[0m\u001b[0;34m)\u001b[0m\u001b[0;34m\u001b[0m\u001b[0m\n\u001b[1;32m     20\u001b[0m \u001b[0;34m\u001b[0m\u001b[0m\n\u001b[0;32m---> 21\u001b[0;31m     \u001b[0mrob\u001b[0m\u001b[0;34m.\u001b[0m\u001b[0mmovej\u001b[0m\u001b[0;34m(\u001b[0m\u001b[0;34m(\u001b[0m\u001b[0mHong_joint0\u001b[0m\u001b[0;34m,\u001b[0m\u001b[0mHong_joint1\u001b[0m\u001b[0;34m,\u001b[0m \u001b[0mHong_joint2\u001b[0m\u001b[0;34m,\u001b[0m \u001b[0mHong_joint3\u001b[0m\u001b[0;34m,\u001b[0m \u001b[0mHong_joint4\u001b[0m\u001b[0;34m,\u001b[0m \u001b[0mHong_joint5\u001b[0m\u001b[0;34m)\u001b[0m\u001b[0;34m,\u001b[0m \u001b[0;36m0.3\u001b[0m\u001b[0;34m,\u001b[0m \u001b[0;36m0.7\u001b[0m\u001b[0;34m)\u001b[0m\u001b[0;34m\u001b[0m\u001b[0m\n\u001b[0m\u001b[1;32m     22\u001b[0m \u001b[0;34m\u001b[0m\u001b[0m\n\u001b[1;32m     23\u001b[0m \u001b[0;32mdef\u001b[0m \u001b[0mgo_to_end_place\u001b[0m\u001b[0;34m(\u001b[0m\u001b[0;34m)\u001b[0m\u001b[0;34m:\u001b[0m\u001b[0;34m\u001b[0m\u001b[0m\n",
      "\u001b[0;32m/home/terry/anaconda3/envs/ros_control/lib/python2.7/site-packages/urx/urrobot.pyc\u001b[0m in \u001b[0;36mmovej\u001b[0;34m(self, joints, acc, vel, wait, relative, threshold)\u001b[0m\n\u001b[1;32m    275\u001b[0m         \u001b[0mself\u001b[0m\u001b[0;34m.\u001b[0m\u001b[0msend_program\u001b[0m\u001b[0;34m(\u001b[0m\u001b[0mprog\u001b[0m\u001b[0;34m)\u001b[0m\u001b[0;34m\u001b[0m\u001b[0m\n\u001b[1;32m    276\u001b[0m         \u001b[0;32mif\u001b[0m \u001b[0mwait\u001b[0m\u001b[0;34m:\u001b[0m\u001b[0;34m\u001b[0m\u001b[0m\n\u001b[0;32m--> 277\u001b[0;31m             \u001b[0mself\u001b[0m\u001b[0;34m.\u001b[0m\u001b[0m_wait_for_move\u001b[0m\u001b[0;34m(\u001b[0m\u001b[0mjoints\u001b[0m\u001b[0;34m[\u001b[0m\u001b[0;34m:\u001b[0m\u001b[0;36m6\u001b[0m\u001b[0;34m]\u001b[0m\u001b[0;34m,\u001b[0m \u001b[0mthreshold\u001b[0m\u001b[0;34m=\u001b[0m\u001b[0mthreshold\u001b[0m\u001b[0;34m,\u001b[0m \u001b[0mjoints\u001b[0m\u001b[0;34m=\u001b[0m\u001b[0mTrue\u001b[0m\u001b[0;34m)\u001b[0m\u001b[0;34m\u001b[0m\u001b[0m\n\u001b[0m\u001b[1;32m    278\u001b[0m             \u001b[0;32mreturn\u001b[0m \u001b[0mself\u001b[0m\u001b[0;34m.\u001b[0m\u001b[0mgetj\u001b[0m\u001b[0;34m(\u001b[0m\u001b[0;34m)\u001b[0m\u001b[0;34m\u001b[0m\u001b[0m\n\u001b[1;32m    279\u001b[0m \u001b[0;34m\u001b[0m\u001b[0m\n",
      "\u001b[0;32m/home/terry/anaconda3/envs/ros_control/lib/python2.7/site-packages/urx/urrobot.pyc\u001b[0m in \u001b[0;36m_wait_for_move\u001b[0;34m(self, target, threshold, timeout, joints)\u001b[0m\n\u001b[1;32m    216\u001b[0m             \u001b[0;32mif\u001b[0m \u001b[0;32mnot\u001b[0m \u001b[0mself\u001b[0m\u001b[0;34m.\u001b[0m\u001b[0mis_running\u001b[0m\u001b[0;34m(\u001b[0m\u001b[0;34m)\u001b[0m\u001b[0;34m:\u001b[0m\u001b[0;34m\u001b[0m\u001b[0m\n\u001b[1;32m    217\u001b[0m                 \u001b[0;32mraise\u001b[0m \u001b[0mRobotException\u001b[0m\u001b[0;34m(\u001b[0m\u001b[0;34m\"Robot stopped\"\u001b[0m\u001b[0;34m)\u001b[0m\u001b[0;34m\u001b[0m\u001b[0m\n\u001b[0;32m--> 218\u001b[0;31m             \u001b[0mdist\u001b[0m \u001b[0;34m=\u001b[0m \u001b[0mself\u001b[0m\u001b[0;34m.\u001b[0m\u001b[0m_get_dist\u001b[0m\u001b[0;34m(\u001b[0m\u001b[0mtarget\u001b[0m\u001b[0;34m,\u001b[0m \u001b[0mjoints\u001b[0m\u001b[0;34m)\u001b[0m\u001b[0;34m\u001b[0m\u001b[0m\n\u001b[0m\u001b[1;32m    219\u001b[0m             \u001b[0mself\u001b[0m\u001b[0;34m.\u001b[0m\u001b[0mlogger\u001b[0m\u001b[0;34m.\u001b[0m\u001b[0mdebug\u001b[0m\u001b[0;34m(\u001b[0m\u001b[0;34m\"distance to target is: %s, target dist is %s\"\u001b[0m\u001b[0;34m,\u001b[0m \u001b[0mdist\u001b[0m\u001b[0;34m,\u001b[0m \u001b[0mthreshold\u001b[0m\u001b[0;34m)\u001b[0m\u001b[0;34m\u001b[0m\u001b[0m\n\u001b[1;32m    220\u001b[0m             \u001b[0;32mif\u001b[0m \u001b[0;32mnot\u001b[0m \u001b[0mself\u001b[0m\u001b[0;34m.\u001b[0m\u001b[0msecmon\u001b[0m\u001b[0;34m.\u001b[0m\u001b[0mis_program_running\u001b[0m\u001b[0;34m(\u001b[0m\u001b[0;34m)\u001b[0m\u001b[0;34m:\u001b[0m\u001b[0;34m\u001b[0m\u001b[0m\n",
      "\u001b[0;32m/home/terry/anaconda3/envs/ros_control/lib/python2.7/site-packages/urx/urrobot.pyc\u001b[0m in \u001b[0;36m_get_dist\u001b[0;34m(self, target, joints)\u001b[0m\n\u001b[1;32m    230\u001b[0m     \u001b[0;32mdef\u001b[0m \u001b[0m_get_dist\u001b[0m\u001b[0;34m(\u001b[0m\u001b[0mself\u001b[0m\u001b[0;34m,\u001b[0m \u001b[0mtarget\u001b[0m\u001b[0;34m,\u001b[0m \u001b[0mjoints\u001b[0m\u001b[0;34m=\u001b[0m\u001b[0mFalse\u001b[0m\u001b[0;34m)\u001b[0m\u001b[0;34m:\u001b[0m\u001b[0;34m\u001b[0m\u001b[0m\n\u001b[1;32m    231\u001b[0m         \u001b[0;32mif\u001b[0m \u001b[0mjoints\u001b[0m\u001b[0;34m:\u001b[0m\u001b[0;34m\u001b[0m\u001b[0m\n\u001b[0;32m--> 232\u001b[0;31m             \u001b[0;32mreturn\u001b[0m \u001b[0mself\u001b[0m\u001b[0;34m.\u001b[0m\u001b[0m_get_joints_dist\u001b[0m\u001b[0;34m(\u001b[0m\u001b[0mtarget\u001b[0m\u001b[0;34m)\u001b[0m\u001b[0;34m\u001b[0m\u001b[0m\n\u001b[0m\u001b[1;32m    233\u001b[0m         \u001b[0;32melse\u001b[0m\u001b[0;34m:\u001b[0m\u001b[0;34m\u001b[0m\u001b[0m\n\u001b[1;32m    234\u001b[0m             \u001b[0;32mreturn\u001b[0m \u001b[0mself\u001b[0m\u001b[0;34m.\u001b[0m\u001b[0m_get_lin_dist\u001b[0m\u001b[0;34m(\u001b[0m\u001b[0mtarget\u001b[0m\u001b[0;34m)\u001b[0m\u001b[0;34m\u001b[0m\u001b[0m\n",
      "\u001b[0;32m/home/terry/anaconda3/envs/ros_control/lib/python2.7/site-packages/urx/urrobot.pyc\u001b[0m in \u001b[0;36m_get_joints_dist\u001b[0;34m(self, target)\u001b[0m\n\u001b[1;32m    245\u001b[0m \u001b[0;34m\u001b[0m\u001b[0m\n\u001b[1;32m    246\u001b[0m     \u001b[0;32mdef\u001b[0m \u001b[0m_get_joints_dist\u001b[0m\u001b[0;34m(\u001b[0m\u001b[0mself\u001b[0m\u001b[0;34m,\u001b[0m \u001b[0mtarget\u001b[0m\u001b[0;34m)\u001b[0m\u001b[0;34m:\u001b[0m\u001b[0;34m\u001b[0m\u001b[0m\n\u001b[0;32m--> 247\u001b[0;31m         \u001b[0mjoints\u001b[0m \u001b[0;34m=\u001b[0m \u001b[0mself\u001b[0m\u001b[0;34m.\u001b[0m\u001b[0mgetj\u001b[0m\u001b[0;34m(\u001b[0m\u001b[0mwait\u001b[0m\u001b[0;34m=\u001b[0m\u001b[0mTrue\u001b[0m\u001b[0;34m)\u001b[0m\u001b[0;34m\u001b[0m\u001b[0m\n\u001b[0m\u001b[1;32m    248\u001b[0m         \u001b[0mdist\u001b[0m \u001b[0;34m=\u001b[0m \u001b[0;36m0\u001b[0m\u001b[0;34m\u001b[0m\u001b[0m\n\u001b[1;32m    249\u001b[0m         \u001b[0;32mfor\u001b[0m \u001b[0mi\u001b[0m \u001b[0;32min\u001b[0m \u001b[0mrange\u001b[0m\u001b[0;34m(\u001b[0m\u001b[0;36m6\u001b[0m\u001b[0;34m)\u001b[0m\u001b[0;34m:\u001b[0m\u001b[0;34m\u001b[0m\u001b[0m\n",
      "\u001b[0;32m/home/terry/anaconda3/envs/ros_control/lib/python2.7/site-packages/urx/urrobot.pyc\u001b[0m in \u001b[0;36mgetj\u001b[0;34m(self, wait)\u001b[0m\n\u001b[1;32m    255\u001b[0m         \u001b[0mget\u001b[0m \u001b[0mjoints\u001b[0m \u001b[0mposition\u001b[0m\u001b[0;34m\u001b[0m\u001b[0m\n\u001b[1;32m    256\u001b[0m         \"\"\"\n\u001b[0;32m--> 257\u001b[0;31m         \u001b[0mjts\u001b[0m \u001b[0;34m=\u001b[0m \u001b[0mself\u001b[0m\u001b[0;34m.\u001b[0m\u001b[0msecmon\u001b[0m\u001b[0;34m.\u001b[0m\u001b[0mget_joint_data\u001b[0m\u001b[0;34m(\u001b[0m\u001b[0mwait\u001b[0m\u001b[0;34m)\u001b[0m\u001b[0;34m\u001b[0m\u001b[0m\n\u001b[0m\u001b[1;32m    258\u001b[0m         \u001b[0;32mreturn\u001b[0m \u001b[0;34m[\u001b[0m\u001b[0mjts\u001b[0m\u001b[0;34m[\u001b[0m\u001b[0;34m\"q_actual0\"\u001b[0m\u001b[0;34m]\u001b[0m\u001b[0;34m,\u001b[0m \u001b[0mjts\u001b[0m\u001b[0;34m[\u001b[0m\u001b[0;34m\"q_actual1\"\u001b[0m\u001b[0;34m]\u001b[0m\u001b[0;34m,\u001b[0m \u001b[0mjts\u001b[0m\u001b[0;34m[\u001b[0m\u001b[0;34m\"q_actual2\"\u001b[0m\u001b[0;34m]\u001b[0m\u001b[0;34m,\u001b[0m \u001b[0mjts\u001b[0m\u001b[0;34m[\u001b[0m\u001b[0;34m\"q_actual3\"\u001b[0m\u001b[0;34m]\u001b[0m\u001b[0;34m,\u001b[0m \u001b[0mjts\u001b[0m\u001b[0;34m[\u001b[0m\u001b[0;34m\"q_actual4\"\u001b[0m\u001b[0;34m]\u001b[0m\u001b[0;34m,\u001b[0m \u001b[0mjts\u001b[0m\u001b[0;34m[\u001b[0m\u001b[0;34m\"q_actual5\"\u001b[0m\u001b[0;34m]\u001b[0m\u001b[0;34m]\u001b[0m\u001b[0;34m\u001b[0m\u001b[0m\n\u001b[1;32m    259\u001b[0m \u001b[0;34m\u001b[0m\u001b[0m\n",
      "\u001b[0;32m/home/terry/anaconda3/envs/ros_control/lib/python2.7/site-packages/urx/ursecmon.pyc\u001b[0m in \u001b[0;36mget_joint_data\u001b[0;34m(self, wait)\u001b[0m\n\u001b[1;32m    369\u001b[0m     \u001b[0;32mdef\u001b[0m \u001b[0mget_joint_data\u001b[0m\u001b[0;34m(\u001b[0m\u001b[0mself\u001b[0m\u001b[0;34m,\u001b[0m \u001b[0mwait\u001b[0m\u001b[0;34m=\u001b[0m\u001b[0mFalse\u001b[0m\u001b[0;34m)\u001b[0m\u001b[0;34m:\u001b[0m\u001b[0;34m\u001b[0m\u001b[0m\n\u001b[1;32m    370\u001b[0m         \u001b[0;32mif\u001b[0m \u001b[0mwait\u001b[0m\u001b[0;34m:\u001b[0m\u001b[0;34m\u001b[0m\u001b[0m\n\u001b[0;32m--> 371\u001b[0;31m             \u001b[0mself\u001b[0m\u001b[0;34m.\u001b[0m\u001b[0mwait\u001b[0m\u001b[0;34m(\u001b[0m\u001b[0;34m)\u001b[0m\u001b[0;34m\u001b[0m\u001b[0m\n\u001b[0m\u001b[1;32m    372\u001b[0m         \u001b[0;32mwith\u001b[0m \u001b[0mself\u001b[0m\u001b[0;34m.\u001b[0m\u001b[0m_dictLock\u001b[0m\u001b[0;34m:\u001b[0m\u001b[0;34m\u001b[0m\u001b[0m\n\u001b[1;32m    373\u001b[0m             \u001b[0;32mif\u001b[0m \u001b[0;34m\"JointData\"\u001b[0m \u001b[0;32min\u001b[0m \u001b[0mself\u001b[0m\u001b[0;34m.\u001b[0m\u001b[0m_dict\u001b[0m\u001b[0;34m:\u001b[0m\u001b[0;34m\u001b[0m\u001b[0m\n",
      "\u001b[0;32m/home/terry/anaconda3/envs/ros_control/lib/python2.7/site-packages/urx/ursecmon.pyc\u001b[0m in \u001b[0;36mwait\u001b[0;34m(self, timeout)\u001b[0m\n\u001b[1;32m    345\u001b[0m         \u001b[0mtstamp\u001b[0m \u001b[0;34m=\u001b[0m \u001b[0mself\u001b[0m\u001b[0;34m.\u001b[0m\u001b[0mlastpacket_timestamp\u001b[0m\u001b[0;34m\u001b[0m\u001b[0m\n\u001b[1;32m    346\u001b[0m         \u001b[0;32mwith\u001b[0m \u001b[0mself\u001b[0m\u001b[0;34m.\u001b[0m\u001b[0m_dataEvent\u001b[0m\u001b[0;34m:\u001b[0m\u001b[0;34m\u001b[0m\u001b[0m\n\u001b[0;32m--> 347\u001b[0;31m             \u001b[0mself\u001b[0m\u001b[0;34m.\u001b[0m\u001b[0m_dataEvent\u001b[0m\u001b[0;34m.\u001b[0m\u001b[0mwait\u001b[0m\u001b[0;34m(\u001b[0m\u001b[0mtimeout\u001b[0m\u001b[0;34m)\u001b[0m\u001b[0;34m\u001b[0m\u001b[0m\n\u001b[0m\u001b[1;32m    348\u001b[0m             \u001b[0;32mif\u001b[0m \u001b[0mtstamp\u001b[0m \u001b[0;34m==\u001b[0m \u001b[0mself\u001b[0m\u001b[0;34m.\u001b[0m\u001b[0mlastpacket_timestamp\u001b[0m\u001b[0;34m:\u001b[0m\u001b[0;34m\u001b[0m\u001b[0m\n\u001b[1;32m    349\u001b[0m                 \u001b[0;32mraise\u001b[0m \u001b[0mTimeoutException\u001b[0m\u001b[0;34m(\u001b[0m\u001b[0;34m\"Did not receive a valid data packet from robot in {}\"\u001b[0m\u001b[0;34m.\u001b[0m\u001b[0mformat\u001b[0m\u001b[0;34m(\u001b[0m\u001b[0mtimeout\u001b[0m\u001b[0;34m)\u001b[0m\u001b[0;34m)\u001b[0m\u001b[0;34m\u001b[0m\u001b[0m\n",
      "\u001b[0;32m/home/terry/anaconda3/envs/ros_control/lib/python2.7/threading.pyc\u001b[0m in \u001b[0;36mwait\u001b[0;34m(self, timeout)\u001b[0m\n\u001b[1;32m    357\u001b[0m                         \u001b[0;32mbreak\u001b[0m\u001b[0;34m\u001b[0m\u001b[0m\n\u001b[1;32m    358\u001b[0m                     \u001b[0mdelay\u001b[0m \u001b[0;34m=\u001b[0m \u001b[0mmin\u001b[0m\u001b[0;34m(\u001b[0m\u001b[0mdelay\u001b[0m \u001b[0;34m*\u001b[0m \u001b[0;36m2\u001b[0m\u001b[0;34m,\u001b[0m \u001b[0mremaining\u001b[0m\u001b[0;34m,\u001b[0m \u001b[0;36m.05\u001b[0m\u001b[0;34m)\u001b[0m\u001b[0;34m\u001b[0m\u001b[0m\n\u001b[0;32m--> 359\u001b[0;31m                     \u001b[0m_sleep\u001b[0m\u001b[0;34m(\u001b[0m\u001b[0mdelay\u001b[0m\u001b[0;34m)\u001b[0m\u001b[0;34m\u001b[0m\u001b[0m\n\u001b[0m\u001b[1;32m    360\u001b[0m                 \u001b[0;32mif\u001b[0m \u001b[0;32mnot\u001b[0m \u001b[0mgotit\u001b[0m\u001b[0;34m:\u001b[0m\u001b[0;34m\u001b[0m\u001b[0m\n\u001b[1;32m    361\u001b[0m                     \u001b[0;32mif\u001b[0m \u001b[0m__debug__\u001b[0m\u001b[0;34m:\u001b[0m\u001b[0;34m\u001b[0m\u001b[0m\n",
      "\u001b[0;31mKeyboardInterrupt\u001b[0m: "
     ]
    }
   ],
   "source": [
    "131, 0.06473477762172797], [0.05002869920583822, 0.668622249134879, 0.06071871600676282], [0.06440163964727431, \n",
    "                    np.save('collecting_data/'+dir_\n",
    "Robotiq.goto(robotiq_client, pos=0.023, speed=0.5, force=10, block=True)\n",
    "\n",
    "rob.set_tcp((0, 0, 0, 0, 0, 0))\n",
    "rospy.sleep(0.5)\n",
    "rob.movel_tool((0,0,0,0,pi/5,0),acc=0.1, vel=0.2)\n",
    "rob.movel_tool((0,0,0,0,-pi/5,0),acc=0.1, vel=0.2)\n",
    "rob.set_tcp((0.002, 0, 0.356, 0, 0, 0))\n",
    "rospy.sleep(0.5)\n",
    "rob.movel_tool((0,0,0,0,pi/5,0),acc=0.1, vel=0.2)\n",
    "rob.movel_tool((0,0,0,0,-pi/5,0),acc=0.1, vel=0.2)\n",
    "rob.set_tcp((0, 0, 0, 0, 0, 0))\n",
    "rospy.sleep(0.5)\n",
    "rob.movel_tool((0,0,0,0,pi/5,0),acc=0.1, vel=0.2)\n",
    "rob.movel_tool((0,0,0,0,-pi/5,0),acc=0.1, vel=0.2)"
   ]
  },
  {
   "cell_type": "code",
   "execution_count": 25,
   "metadata": {},
   "outputs": [
    {
     "data": {
      "text/plain": [
       "<Transform:\n",
       "<Orientation: \n",
       "array([[-0.01305109,  0.99989524,  0.00625989],\n",
       "       [ 0.99991361,  0.01304105,  0.00164169],\n",
       "       [ 0.00155988,  0.00628078, -0.99997906]])>\n",
       "<Vector: (0.04293, 0.85097, 0.45825)>\n",
       ">"
      ]
     },
     "execution_count": 25,
     "metadata": {},
     "output_type": "execute_result"
    }
   ],
   "source": [
    "go_to_safe_place()\n",
    "softtip()\n",
    "Robotiq.goto(robotiq_client, pos=0.023, speed=0.1, force=10, block=True)\n",
    "servo_pub.publish(10)    \n",
    "pos_x = rob.get_pose().pos.x+0.007\n",
    "pos_y = rob.get_pose().pos.y-0.001\n",
    "rospy.sleep(0.5)\n",
    "rob.translate((0.05-pos_x,0.85-pos_y,0), acc=0.1, vel=0.4, wait=True)"
   ]
  },
  {
   "cell_type": "code",
   "execution_count": 9,
   "metadata": {},
   "outputs": [
    {
     "data": {
      "text/plain": [
       "<Transform:\n",
       "<Orientation: \n",
       "array([[-0.01308933,  0.99989511,  0.00619996],\n",
       "       [ 0.99991303,  0.01307907,  0.00169334],\n",
       "       [ 0.00161207,  0.00622159, -0.99997935]])>\n",
       "<Vector: (0.04282, 0.80750, 0.45825)>\n",
       ">"
      ]
     },
     "execution_count": 9,
     "metadata": {},
     "output_type": "execute_result"
    }
   ],
   "source": [
    "go_to_safe_place()\n",
    "Robotiq.goto(robotiq_client, pos=0.023, speed=0.1, force=10, block=True)\n",
    "servo_pub.publish(10)    \n",
    "pos_x = rob.get_pose().pos.x+0.007\n",
    "pos_y = rob.get_pose().pos.y-0.001\n",
    "rospy.sleep(0.5)\n",
    "rob.translate((0.05-pos_x,0.85-pos_y,0), acc=0.1, vel=0.4, wait=True)\n",
    "rob.movel_tool((0,0,0,0,0,0),acc=0.1, vel=0.2)\n",
    "rob.translate_tool((0.0065,0,0),acc=0.1, vel=0.2)"
   ]
  },
  {
   "cell_type": "code",
   "execution_count": 23,
   "metadata": {},
   "outputs": [
    {
     "data": {
      "text/plain": [
       "<Transform:\n",
       "<Orientation: \n",
       "array([[-0.01301363,  0.99989673,  0.00609763],\n",
       "       [ 0.99991311,  0.01300053,  0.00218286],\n",
       "       [ 0.00210337,  0.00612551, -0.99997903]])>\n",
       "<Vector: (0.04382, 0.84645, 0.39055)>\n",
       ">"
      ]
     },
     "execution_count": 23,
     "metadata": {},
     "output_type": "execute_result"
    }
   ],
   "source": [
    "go_to_safe_place()\n",
    "rob.set_tcp((0.002, 0, 0.356, 0, 0, 0))\n",
    "rospy.sleep(0.5)\n",
    "rob.movel_tool((0,0,0,0,0,0*pi/180), acc=0.1, vel=0.2, wait=True)\n",
    "#if np.cross([fingertip2normal[0], fingertip2normal[1]], [-sin(alpha), cos(alpha)])>0:\n",
    "#rob.movel_tool((0,0,0,0,-20*pi/180,0), acc=0.1, vel=0.2, wait=True)\n",
    "Robotiq.goto(robotiq_client, pos=0.023, speed=0.1, force=10, block=True)\n",
    "rob.set_tcp((0, 0, 0, 0, 0, 0))\n",
    "rospy.sleep(0.5)\n",
    "#go_to_safe_place()\n",
    "servo_pub.publish(0)\n",
    "tcp2fingertip=m3d.Transform()\n",
    "tcp2fingertip.pos.x = 0.002\n",
    "tcp2fingertip.pos.y = 0  \n",
    "tcp2fingertip.pos.z = 0.356\n",
    "world2tcp = rob.get_pose()\n",
    "world2tcp.pos.x+=0.004\n",
    "world2tcp.pos.y+=0.001\n",
    "world2fingertip=(world2tcp*tcp2fingertip)\n",
    "rob.translate((0.05-world2fingertip.pos.x,0.85-world2fingertip.pos.y,0), acc=0.1, vel=0.4, wait=True)\n",
    "servo_pub.publish(100)\n",
    "rob.translate((0,0,-0.068), acc=0.1, vel=0.4, wait=True)\n"
   ]
  },
  {
   "cell_type": "code",
   "execution_count": 21,
   "metadata": {},
   "outputs": [],
   "source": [
    "rob.set_tcp((0.002, 0, 0.356, 0, 0, 0))\n",
    "rospy.sleep(0.5)\n",
    "#if np.cross([fingertip2normal[0], fingertip2normal[1]], [-sin(alpha), cos(alpha)])>0:\n",
    "rob.movel_tool((0,0,0,0,-pi/6,0), acc=0.3, vel=0.8, wait=True)\n",
    "rob.movel_tool((0,0,0,0,pi/6,0), acc=0.3, vel=0.8, wait=True)\n",
    "rob.set_tcp((0, 0, 0, 0, 0, 0))\n",
    "rospy.sleep(0.5)"
   ]
  },
  {
   "cell_type": "code",
   "execution_count": 26,
   "metadata": {},
   "outputs": [
    {
     "data": {
      "text/plain": [
       "<Transform:\n",
       "<Orientation: \n",
       "array([[-0.01328703,  0.99989138,  0.00637776],\n",
       "       [ 0.99991118,  0.0132801 ,  0.00112777],\n",
       "       [ 0.00104295,  0.00639218, -0.99997903]])>\n",
       "<Vector: (0.06282, 0.67096, 0.45798)>\n",
       ">"
      ]
     },
     "execution_count": 26,
     "metadata": {},
     "output_type": "execute_result"
    }
   ],
   "source": [
    "go_to_safe_place()\n",
    "pos_x = rob.get_pose().pos.x+0.007\n",
    "pos_y = rob.get_pose().pos.y-0.001\n",
    "rob.translate((0.05-pos_x+0.02,0.69-pos_y-0.02,0), acc=0.1, vel=0.4, wait=True)\n",
    "rob.translate((0,0,-0.06), acc=0.1, vel=0.4, wait=True)\n",
    "rob.translate((0,0.04,0), acc=0.1, vel=0.4, wait=True)\n",
    "rob.translate((-0.04,0,0), acc=0.1, vel=0.4, wait=True)\n",
    "rob.translate((0,-0.04,0), acc=0.1, vel=0.4, wait=True)\n",
    "rob.translate((0.04,0,0), acc=0.1, vel=0.4, wait=True)\n",
    "rob.translate((0,0,0.06), acc=0.1, vel=0.4, wait=True)  "
   ]
  },
  {
   "cell_type": "code",
   "execution_count": 37,
   "metadata": {},
   "outputs": [
    {
     "data": {
      "text/plain": [
       "<Transform:\n",
       "<Orientation: \n",
       "array([[-0.01329421,  0.99989335,  0.00604565],\n",
       "       [ 0.99990707,  0.01327565,  0.00310065],\n",
       "       [ 0.00302006,  0.00608631, -0.99997692]])>\n",
       "<Vector: (0.07290, 0.66112, 0.45890)>\n",
       ">"
      ]
     },
     "execution_count": 37,
     "metadata": {},
     "output_type": "execute_result"
    }
   ],
   "source": [
    "        go_to_safe_place()\n",
    "        pos_x = rob.get_pose().pos.x+0.007\n",
    "        pos_y = rob.get_pose().pos.y-0.001\n",
    "\n",
    "        rob.translate((0.05-pos_x+0.03,0.69-pos_y-0.03,0), acc=0.1, vel=0.4, wait=True)\n",
    "        rob.translate((0,0,-0.075), acc=0.1, vel=0.4, wait=True)\n",
    "        rob.translate((0,0.06,0), acc=0.1, vel=0.4, wait=True)\n",
    "        rob.translate((-0.06,0,0), acc=0.1, vel=0.4, wait=True)\n",
    "        rob.translate((0,-0.06,0), acc=0.1, vel=0.4, wait=True)\n",
    "        rob.translate((0.06,0,0), acc=0.1, vel=0.4, wait=True)\n",
    "        rob.translate((0,0,0.075), acc=0.01, vel=0.05, wait=True)     \n"
   ]
  },
  {
   "cell_type": "code",
   "execution_count": 20,
   "metadata": {},
   "outputs": [
    {
     "name": "stderr",
     "output_type": "stream",
     "text": [
      "Exception in thread Thread-7:\n",
      "Traceback (most recent call last):\n",
      "  File \"/home/terry/anaconda3/envs/ros_control/lib/python2.7/threading.py\", line 801, in __bootstrap_inner\n",
      "    self.run()\n",
      "  File \"/home/terry/anaconda3/envs/ros_control/lib/python2.7/site-packages/urx/ursecmon.py\", line 291, in run\n",
      "    data = self._get_data()\n",
      "  File \"/home/terry/anaconda3/envs/ros_control/lib/python2.7/site-packages/urx/ursecmon.py\", line 338, in _get_data\n",
      "    tmp = self._s_secondary.recv(1024)\n",
      "timeout: timed out\n",
      "\n",
      "[WARN] [1605933605.661097]: Inbound TCP/IP connection failed: connection from sender terminated before handshake header received. 0 bytes were received. Please check sender for additional details.\n"
     ]
    }
   ],
   "source": [
    "Robotiq.goto(robotiq_client, pos=40*0.14/48.0+1.12/48.0, speed=0.1, force=10, block=True)"
   ]
  },
  {
   "cell_type": "code",
   "execution_count": null,
   "metadata": {},
   "outputs": [],
   "source": [
    "go_to_safe_place()\n",
    "Robotiq.goto(robotiq_client, pos=5*0.14/48.0+1.12/48.0, speed=0.1, force=10, block=True)\n",
    "servo_pub.publish(0)\n",
    "rob.movel_tool((0,0,0,0,0,0),acc=0.1, vel=0.2)\n",
    "tcp2fingertip=m3d.Transform()\n",
    "tcp2fingertip.pos.x = -0.021 # need change\n",
    "tcp2fingertip.pos.z = 0.342 # need change\n",
    "world2tcp = rob.get_pose()\n",
    "world2tcp.pos.x+=0\n",
    "world2tcp.pos.y-=0\n",
    "world2fingertip=(world2tcp*tcp2fingertip)\n",
    "rob.translate((0.05-world2fingertip.pos.x,0.85-world2fingertip.pos.y,0), acc=0.3, vel=0.8, wait=True)\n",
    "rob.translate((0,0,-0.068), acc=0.1, vel=0.4, wait=True)"
   ]
  },
  {
   "cell_type": "code",
   "execution_count": 5,
   "metadata": {},
   "outputs": [
    {
     "name": "stdout",
     "output_type": "stream",
     "text": [
      "[[ 0.02153275 -0.9995875  -0.01900464  0.1234057 ]\n",
      " [ 0.99884698  0.02232484 -0.04250071 -0.0074811 ]\n",
      " [ 0.04290745 -0.01806757  0.99891567  0.126173  ]\n",
      " [ 0.          0.          0.          1.        ]]\n"
     ]
    }
   ],
   "source": [
    "    eeTcam = m3d.Transform()\n",
    "    eeTcam.pos = (0.076173+0.05, -0.0934057-0.03, 0.0074811)\n",
    "    eeTcam_e = tf.transformations.euler_from_quaternion([-0.0143125,0.69183,-0.0012,0.722039], axes='sxyz')\n",
    "    eeTcam.orient.rotate_xb(eeTcam_e[0])\n",
    "    eeTcam.orient.rotate_yb(eeTcam_e[1])\n",
    "    eeTcam.orient.rotate_zb(eeTcam_e[2])\n",
    "    tcpTee = np.array([[0,-1,0,0], [0,0,-1,0], [1,0,0,0], [0,0,0,1]])\n",
    "    tcp2cam = np.matmul(tcpTee, eeTcam.get_matrix())\n",
    "    print tcp2cam"
   ]
  },
  {
   "cell_type": "code",
   "execution_count": 62,
   "metadata": {},
   "outputs": [],
   "source": [
    "softtip()"
   ]
  },
  {
   "cell_type": "code",
   "execution_count": 22,
   "metadata": {},
   "outputs": [
    {
     "name": "stdout",
     "output_type": "stream",
     "text": [
      "[[0 0 1 0]\n",
      " [0 0 1 0]\n",
      " [0 0 1 0]\n",
      " [0 0 1 0]\n",
      " [0 0 1 0]\n",
      " [0 0 1 0]\n",
      " [0 0 1 0]\n",
      " [0 0 1 0]\n",
      " [0 0 1 0]\n",
      " [0 0 1 0]\n",
      " [0 0 1 0]\n",
      " [0 0 1 0]\n",
      " [0 1 0 0]]\n"
     ]
    }
   ],
   "source": [
    "print np.load('/home/terry/catkin_ws/src/scoop/src/collecting_data/Mon_Nov_23_19_36_07_2020/executed_action_list.npy')"
   ]
  },
  {
   "cell_type": "code",
   "execution_count": 33,
   "metadata": {},
   "outputs": [],
   "source": [
    "go_to_safe_place()"
   ]
  },
  {
   "cell_type": "code",
   "execution_count": 24,
   "metadata": {},
   "outputs": [],
   "source": [
    "softtip()"
   ]
  },
  {
   "cell_type": "code",
   "execution_count": 35,
   "metadata": {},
   "outputs": [],
   "source": [
    "    servo_pub.publish(180)"
   ]
  },
  {
   "cell_type": "code",
   "execution_count": 4,
   "metadata": {},
   "outputs": [
    {
     "name": "stdout",
     "output_type": "stream",
     "text": [
      "<Transform:\n",
      "<Orientation: \n",
      "array([[-0.01308581,  0.99989541,  0.00615819],\n",
      "       [ 0.99991336,  0.01307677,  0.0015056 ],\n",
      "       [ 0.00142491,  0.00617736, -0.9999799 ]])>\n",
      "<Vector: (0.04869, 0.39967, -0.01995)>\n",
      ">\n"
     ]
    }
   ],
   "source": [
    "rob.set_tcp((0, 0, 0.35947, 0, 0, 0))\n",
    "rospy.sleep(1)\n",
    "print rob.get_pose()\n",
    "rob.set_tcp((0, 0, 0, 0, 0, 0))\n",
    "rospy.sleep(1)"
   ]
  },
  {
   "cell_type": "code",
   "execution_count": 3,
   "metadata": {},
   "outputs": [
    {
     "name": "stdout",
     "output_type": "stream",
     "text": [
      "3\n",
      "3.7416573867739413\n",
      "2.449489742783178\n"
     ]
    }
   ],
   "source": [
    "import numpy as np\n",
    "print np.dot(np.array([1,2,3]), np.array([2,-1,1]))\n",
    "print np.linalg.norm(np.array([1,2,3]))\n",
    "print np.linalg.norm(np.array([2,-1,1]))"
   ]
  },
  {
   "cell_type": "code",
   "execution_count": 34,
   "metadata": {},
   "outputs": [],
   "source": [
    "    Robotiq.goto(robotiq_client, pos=0.8, speed=0.1, force=10, block=True)\n",
    "    servo_pub.publish(85) # need change"
   ]
  },
  {
   "cell_type": "code",
   "execution_count": 29,
   "metadata": {},
   "outputs": [
    {
     "ename": "KeyboardInterrupt",
     "evalue": "",
     "output_type": "error",
     "traceback": [
      "\u001b[0;31m-----------------------------------------\u001b[0m",
      "\u001b[0;31mKeyboardInterrupt\u001b[0mTraceback (most recent call last)",
      "\u001b[0;32m<ipython-input-29-bfd3890f4dbd>\u001b[0m in \u001b[0;36m<module>\u001b[0;34m()\u001b[0m\n\u001b[1;32m     14\u001b[0m \u001b[0mservo_pub\u001b[0m\u001b[0;34m.\u001b[0m\u001b[0mpublish\u001b[0m\u001b[0;34m(\u001b[0m\u001b[0;36m115\u001b[0m\u001b[0;34m)\u001b[0m\u001b[0;34m\u001b[0m\u001b[0m\n\u001b[1;32m     15\u001b[0m \u001b[0mrob\u001b[0m\u001b[0;34m.\u001b[0m\u001b[0mset_tcp\u001b[0m\u001b[0;34m(\u001b[0m\u001b[0;34m(\u001b[0m\u001b[0;36m0.019\u001b[0m\u001b[0;34m,\u001b[0m \u001b[0;36m0\u001b[0m\u001b[0;34m,\u001b[0m \u001b[0;36m0.342\u001b[0m\u001b[0;34m,\u001b[0m \u001b[0;36m0\u001b[0m\u001b[0;34m,\u001b[0m \u001b[0;36m0\u001b[0m\u001b[0;34m,\u001b[0m \u001b[0;36m0\u001b[0m\u001b[0;34m)\u001b[0m\u001b[0;34m)\u001b[0m \u001b[0;31m# need change!!!\u001b[0m\u001b[0;34m\u001b[0m\u001b[0m\n\u001b[0;32m---> 16\u001b[0;31m \u001b[0mrospy\u001b[0m\u001b[0;34m.\u001b[0m\u001b[0msleep\u001b[0m\u001b[0;34m(\u001b[0m\u001b[0;36m0.5\u001b[0m\u001b[0;34m)\u001b[0m\u001b[0;34m\u001b[0m\u001b[0m\n\u001b[0m\u001b[1;32m     17\u001b[0m \u001b[0mminus_x\u001b[0m \u001b[0;34m=\u001b[0m \u001b[0;34m-\u001b[0m\u001b[0mrob\u001b[0m\u001b[0;34m.\u001b[0m\u001b[0mget_pose\u001b[0m\u001b[0;34m(\u001b[0m\u001b[0;34m)\u001b[0m\u001b[0;34m.\u001b[0m\u001b[0mget_matrix\u001b[0m\u001b[0;34m(\u001b[0m\u001b[0;34m)\u001b[0m\u001b[0;34m[\u001b[0m\u001b[0;36m0\u001b[0m\u001b[0;34m:\u001b[0m\u001b[0;36m3\u001b[0m\u001b[0;34m,\u001b[0m\u001b[0;36m0\u001b[0m\u001b[0;34m]\u001b[0m\u001b[0;34m\u001b[0m\u001b[0m\n\u001b[1;32m     18\u001b[0m \u001b[0mminus_x_proj\u001b[0m \u001b[0;34m=\u001b[0m \u001b[0;34m[\u001b[0m\u001b[0mminus_x\u001b[0m\u001b[0;34m[\u001b[0m\u001b[0;36m0\u001b[0m\u001b[0;34m]\u001b[0m\u001b[0;34m,\u001b[0m \u001b[0mminus_x\u001b[0m\u001b[0;34m[\u001b[0m\u001b[0;36m1\u001b[0m\u001b[0;34m]\u001b[0m\u001b[0;34m,\u001b[0m \u001b[0;36m0\u001b[0m\u001b[0;34m]\u001b[0m\u001b[0;34m\u001b[0m\u001b[0m\n",
      "\u001b[0;32m/opt/ros/kinetic/lib/python2.7/dist-packages/rospy/timer.pyc\u001b[0m in \u001b[0;36msleep\u001b[0;34m(duration)\u001b[0m\n\u001b[1;32m    132\u001b[0m             \u001b[0;32mreturn\u001b[0m\u001b[0;34m\u001b[0m\u001b[0m\n\u001b[1;32m    133\u001b[0m         \u001b[0;32melse\u001b[0m\u001b[0;34m:\u001b[0m\u001b[0;34m\u001b[0m\u001b[0m\n\u001b[0;32m--> 134\u001b[0;31m             \u001b[0mrospy\u001b[0m\u001b[0;34m.\u001b[0m\u001b[0mrostime\u001b[0m\u001b[0;34m.\u001b[0m\u001b[0mwallsleep\u001b[0m\u001b[0;34m(\u001b[0m\u001b[0mduration\u001b[0m\u001b[0;34m)\u001b[0m\u001b[0;34m\u001b[0m\u001b[0m\n\u001b[0m\u001b[1;32m    135\u001b[0m     \u001b[0;32melse\u001b[0m\u001b[0;34m:\u001b[0m\u001b[0;34m\u001b[0m\u001b[0m\n\u001b[1;32m    136\u001b[0m         \u001b[0minitial_rostime\u001b[0m \u001b[0;34m=\u001b[0m \u001b[0mrospy\u001b[0m\u001b[0;34m.\u001b[0m\u001b[0mrostime\u001b[0m\u001b[0;34m.\u001b[0m\u001b[0mget_rostime\u001b[0m\u001b[0;34m(\u001b[0m\u001b[0;34m)\u001b[0m\u001b[0;34m\u001b[0m\u001b[0m\n",
      "\u001b[0;32m/opt/ros/kinetic/lib/python2.7/dist-packages/rospy/rostime.pyc\u001b[0m in \u001b[0;36mwallsleep\u001b[0;34m(duration)\u001b[0m\n\u001b[1;32m    275\u001b[0m             \u001b[0;32mpass\u001b[0m\u001b[0;34m\u001b[0m\u001b[0m\n\u001b[1;32m    276\u001b[0m     \u001b[0;32melse\u001b[0m\u001b[0;34m:\u001b[0m\u001b[0;34m\u001b[0m\u001b[0m\n\u001b[0;32m--> 277\u001b[0;31m         \u001b[0mtime\u001b[0m\u001b[0;34m.\u001b[0m\u001b[0msleep\u001b[0m\u001b[0;34m(\u001b[0m\u001b[0mduration\u001b[0m\u001b[0;34m)\u001b[0m\u001b[0;34m\u001b[0m\u001b[0m\n\u001b[0m",
      "\u001b[0;31mKeyboardInterrupt\u001b[0m: "
     ]
    }
   ],
   "source": [
    "        current_alpha = round((0.021-1.12/48)/(0.14/48))   # need change\n",
    "        angle_step = 0.2\n",
    "        l0 = 0.0125\n",
    "        l1 = 0.1\n",
    "        l2r = 0.006\n",
    "        flength_r = 0.126\n",
    "        for alpha in np.arange(current_alpha,1.5,angle_step):\n",
    "            next_alpha = alpha+0.2\n",
    "            alpha = alpha*pi/180\n",
    "            next_alpha = next_alpha*pi/180\n",
    "            translate_distance = (np.array([l0+l1*sin(next_alpha)-l2r, -l1*cos(next_alpha)-flength_r])-np.array([l0+l1*sin(alpha)-l2r, -l1*cos(alpha)-flength_r])).tolist()\n",
    "            Robotiq.goto(robotiq_client, pos=(next_alpha*180/pi)*0.14/48.0+1.12/48.0, speed=0.4, force=10, block=False)\n",
    "            rob.translate_tool((-translate_distance[0], 0, -translate_distance[1]), acc=0.1, vel=0.4, wait=True)       \n",
    "        servo_pub.publish(115)\n",
    "        rob.set_tcp((0.019, 0, 0.342, 0, 0, 0)) # need change!!!\n",
    "        rospy.sleep(0.5)\n",
    "        minus_x = -rob.get_pose().get_matrix()[0:3,0]\n",
    "        minus_x_proj = [minus_x[0], minus_x[1], 0]\n",
    "        minus_z = -rob.get_pose().get_matrix()[0:3,2]\n",
    "        rotate_angle = -(60*pi/180-acos(np.dot(minus_x_proj, minus_z)/(np.linalg.norm(minus_x_proj)*np.linalg.norm(minus_z))))\n",
    "        rob.movel_tool((0,0,0,0,rotate_angle,0), acc=0.3, vel=0.2, wait=True)\n",
    "        rob.set_tcp((0, 0, 0, 0, 0, 0))\n",
    "        rospy.sleep(0.5)\n",
    "        current_fingerlength_int=115   #need change\n",
    "        angle_step=0.2\n",
    "        for angle in np.arange(1.5,-4,-angle_step):\n",
    "            translate_dir_dis, strench_distance = pos_flength_adjust_right_fixed(angle, angle-angle_step, 60, 0.0125, 0.1, 0.015, 0.006, 0.126)\n",
    "            old_fingerlength_int=current_fingerlength_int\n",
    "            current_fingerlength_int=round(min(current_fingerlength_int+strench_distance*(180.0/0.03),180))\n",
    "            servo_pub.publish(int(current_fingerlength_int))\n",
    "            Robotiq.goto(robotiq_client, pos=angle*0.14/48.0+1.12/48.0, speed=0.2, force=10, block=False)\n",
    "            rob.translate_tool((sin(60*pi/180)*translate_dir_dis[0]+cos(60*pi/180)*translate_dir_dis[1], 0, cos(60*pi/180)*translate_dir_dis[0]-sin(60*pi/180)*translate_dir_dis[1]), acc=0.1, vel=0.4, wait=True)\n",
    "        Robotiq.goto(robotiq_client, pos=-4*0.14/48.0+1.12/48.0, speed=0.2, force=10, block=False)\n",
    "        rospy.sleep(0.5)"
   ]
  },
  {
   "cell_type": "code",
   "execution_count": 56,
   "metadata": {},
   "outputs": [],
   "source": [
    "    Robotiq.goto(robotiq_client, pos=0.021, speed=0.1, force=10, block=True)\n"
   ]
  },
  {
   "cell_type": "code",
   "execution_count": 55,
   "metadata": {},
   "outputs": [],
   "source": [
    "servo_pub.publish(150)"
   ]
  },
  {
   "cell_type": "code",
   "execution_count": 36,
   "metadata": {},
   "outputs": [
    {
     "name": "stdout",
     "output_type": "stream",
     "text": [
      "81.2699966431\n",
      "81.1699981689\n",
      "81.2900009155\n",
      "80.8499984741\n",
      "80.9899978638\n",
      "80.5800018311\n",
      "80.5\n",
      "81.1999969482\n",
      "81.1200027466\n",
      "80.9700012207\n",
      "81.0699996948\n",
      "80.75\n",
      "80.5199966431\n",
      "80.4499969482\n",
      "80.3199996948\n",
      "80.5699996948\n",
      "81.2600021362\n",
      "80.9000015259\n",
      "80.5999984741\n",
      "80.4400024414\n",
      "80.6999969482\n",
      "80.5899963379\n",
      "80.6699981689\n",
      "80.7900009155\n",
      "80.7699966431\n",
      "80.4899978638\n",
      "80.4899978638\n",
      "80.5400009155\n",
      "81.3700027466\n",
      "81.1699981689\n",
      "80.7300033569\n",
      "81.25\n",
      "81.2699966431\n",
      "81.1100006104\n",
      "81.2200012207\n",
      "81.1900024414\n",
      "80.4800033569\n",
      "80.6200027466\n",
      "80.0899963379\n",
      "80.0400009155\n",
      "80.3799972534\n",
      "80.6200027466\n",
      "80.2300033569\n",
      "80.1999969482\n",
      "80.2399978638\n",
      "80.5899963379\n",
      "80.4499969482\n",
      "80.7099990845\n",
      "80.6200027466\n",
      "80.4499969482\n",
      "80.4300003052\n",
      "80.2699966431\n",
      "80.3300018311\n",
      "80.4800033569\n",
      "80.5699996948\n",
      "80.3300018311\n",
      "80.2399978638\n",
      "80.4000015259\n",
      "80.2200012207\n",
      "80.1200027466\n",
      "80.8000030518\n",
      "80.6600036621\n",
      "80.7600021362\n",
      "80.6100006104\n",
      "80.4000015259\n",
      "80.3799972534\n",
      "80.1100006104\n",
      "80.0500030518\n",
      "79.6399993896\n",
      "79.8799972534\n",
      "78.9800033569\n",
      "77.3199996948\n",
      "76.9499969482\n",
      "78.6699981689\n",
      "78.1399993896\n",
      "77.0699996948\n",
      "77.6699981689\n",
      "78.0500030518\n",
      "78.8199996948\n",
      "80.2699966431\n",
      "81.3000030518\n",
      "81.3700027466\n",
      "79.9800033569\n",
      "76.6200027466\n",
      "74.2300033569\n",
      "74.4899978638\n",
      "75.5\n",
      "77.5800018311\n",
      "79.1100006104\n",
      "80.3300018311\n",
      "79.8700027466\n",
      "79.9300003052\n",
      "79.9800033569\n",
      "80.6200027466\n",
      "80.3399963379\n",
      "79.6200027466\n",
      "79.3399963379\n",
      "79.25\n",
      "79.5400009155\n",
      "79.7900009155\n",
      "79.7600021362\n",
      "79.4100036621\n",
      "79.6699981689\n",
      "79.8600006104\n",
      "79.7900009155\n",
      "79.6200027466\n",
      "79.5699996948\n",
      "79.9800033569\n",
      "79.8199996948\n",
      "79.2399978638\n",
      "80.2399978638\n",
      "80.4400024414\n",
      "80.3000030518\n",
      "80.3300018311\n",
      "80.0899963379\n",
      "80.3099975586\n",
      "80.2600021362\n",
      "80.3499984741\n",
      "79.8300018311\n",
      "79.9599990845\n",
      "80.3099975586\n",
      "79.8600006104\n",
      "80.1600036621\n",
      "80.3399963379\n",
      "80.1800003052\n",
      "79.9899978638\n",
      "79.9400024414\n",
      "79.6999969482\n",
      "79.7300033569\n",
      "80.2300033569\n",
      "80.3199996948\n",
      "80.3499984741\n",
      "80.0400009155\n",
      "80.0\n",
      "79.5299987793\n",
      "80.1200027466\n",
      "79.9599990845\n",
      "80.6399993896\n",
      "80.1299972534\n",
      "79.5199966431\n",
      "79.5199966431\n",
      "79.7300033569\n",
      "79.8499984741\n",
      "80.0500030518\n",
      "79.75\n",
      "80.4599990845\n",
      "80.3199996948\n",
      "79.9599990845\n",
      "79.8700027466\n",
      "80.8099975586\n",
      "80.3799972534\n",
      "80.1999969482\n",
      "80.5400009155\n",
      "80.5699996948\n"
     ]
    }
   ],
   "source": [
    "    rob.translate_tool((0, 0, 0.0285), acc=0.01, vel=0.05, wait=False) #2.85 a003 v005  $0.285\n",
    "    \n",
    "    wrench = rospy.wait_for_message('/robotiq_ft_wrench', WrenchStamped, timeout = None)\n",
    "    ini_wrench = wrench.wrench.force.z\n",
    "    time0 = time.time()\n",
    "    IsStack = False\n",
    "    while True:\n",
    "        wrench = rospy.wait_for_message('/robotiq_ft_wrench', WrenchStamped, timeout = None)\n",
    "        print wrench.wrench.force.z\n",
    "        if time.time()-time0>3.7:\n",
    "            break"
   ]
  },
  {
   "cell_type": "code",
   "execution_count": 14,
   "metadata": {},
   "outputs": [
    {
     "name": "stdout",
     "output_type": "stream",
     "text": [
      "0.0142788887024\n",
      "collision\n"
     ]
    }
   ],
   "source": [
    "import pybullet as p\n",
    "import time\n",
    "import pybullet_data\n",
    "time0 = time.time()\n",
    "physicsClient = p.connect(p.DIRECT)\n",
    "p.setAdditionalSearchPath(pybullet_data.getDataPath())\n",
    "planeId = p.loadURDF(\"plane.urdf\")\n",
    "cubeStartPos = [0,0,0]\n",
    "cubeStartOrientation = p.getQuaternionFromEuler([0,0,0])\n",
    "boxId = p.loadURDF(\"r2d2.urdf\",cubeStartPos, cubeStartOrientation)\n",
    "plts = p.getClosestPoints(bodyA=planeId, bodyB=boxId, distance=0)\n",
    "if plts==():\n",
    "    print 'No collision'\n",
    "else:\n",
    "    print 'collision'\n",
    "p.disconnect()\n",
    "print time.time()-time0"
   ]
  },
  {
   "cell_type": "code",
   "execution_count": null,
   "metadata": {},
   "outputs": [],
   "source": []
  }
 ],
 "metadata": {
  "celltoolbar": "Slideshow",
  "kernelspec": {
   "display_name": "Python 2",
   "language": "python",
   "name": "python2"
  },
  "language_info": {
   "codemirror_mode": {
    "name": "ipython",
    "version": 2
   },
   "file_extension": ".py",
   "mimetype": "text/x-python",
   "name": "python",
   "nbconvert_exporter": "python",
   "pygments_lexer": "ipython2",
   "version": "2.7.18"
  }
 },
 "nbformat": 4,
 "nbformat_minor": 2
}
