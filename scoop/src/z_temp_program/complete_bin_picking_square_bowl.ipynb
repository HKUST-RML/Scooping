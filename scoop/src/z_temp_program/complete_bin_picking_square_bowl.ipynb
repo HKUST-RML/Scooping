{
 "cells": [
  {
   "cell_type": "code",
   "execution_count": 1,
   "metadata": {},
   "outputs": [],
   "source": [
    "#!/usr/bin/env python\n",
    "import os\n",
    "import sys\n",
    "import rospy\n",
    "import copy\n",
    "import tf\n",
    "import cv2\n",
    "from cv_bridge import CvBridge, CvBridgeError\n",
    "import numpy as np\n",
    "import std_msgs.msg\n",
    "from std_msgs.msg import UInt16, String\n",
    "import geometry_msgs.msg\n",
    "from apriltags_ros.msg import AprilTagDetection, AprilTagDetectionArray\n",
    "from math import *\n",
    "from numpy.linalg import inv\n",
    "import scipy.io\n",
    "from mat4py import loadmat\n",
    "import actionlib\n",
    "from robotiq_2f_gripper_msgs.msg import CommandRobotiqGripperFeedback, CommandRobotiqGripperResult, CommandRobotiqGripperAction, CommandRobotiqGripperGoal\n",
    "from robotiq_2f_gripper_control.robotiq_2f_gripper_driver import Robotiq2FingerGripperDriver as Robotiq\n",
    "from scoop.msg import stone_pose_hori\n",
    "from scoop.msg import stone_pose_ver\n",
    "from sensor_msgs.msg import Image, CameraInfo\n",
    "import message_filters\n",
    "\n",
    "from visualization_msgs.msg import Marker\n",
    "from visualization_msgs.msg import MarkerArray\n",
    "from geometry_msgs.msg import Point\n",
    "\n",
    "import urx\n",
    "import math3d as m3d\n",
    "import logging\n",
    "\n",
    "import matplotlib.pyplot as plt\n",
    "\n",
    "rospy.init_node('scoop', anonymous=True) #initialize the node\n",
    "\n"
   ]
  },
  {
   "cell_type": "code",
   "execution_count": 2,
   "metadata": {},
   "outputs": [
    {
     "name": "stderr",
     "output_type": "stream",
     "text": [
      "[WARN] [1602154420.374106]: Client test: Starting sending goals\n"
     ]
    }
   ],
   "source": [
    "rospy.logwarn(\"Client test: Starting sending goals\")\n",
    "rob = urx.Robot(\"192.168.1.102\")\n",
    "logging.basicConfig(level=logging.WARN)\n",
    "rob.set_tcp((0, 0, 0, 0, 0, 0))"
   ]
  },
  {
   "cell_type": "code",
   "execution_count": 3,
   "metadata": {},
   "outputs": [],
   "source": [
    "action_name = rospy.get_param('~action_name', 'command_robotiq_action')\n",
    "robotiq_client = actionlib.SimpleActionClient(action_name, CommandRobotiqGripperAction)\n",
    "robotiq_client.wait_for_server()\n",
    "servo_pub = rospy.Publisher('servo1', UInt16, queue_size=10)"
   ]
  },
  {
   "cell_type": "code",
   "execution_count": 4,
   "metadata": {},
   "outputs": [],
   "source": [
    "servo2_pub = rospy.Publisher('servo2', UInt16, queue_size=10)\n",
    "\n",
    "def softtip():\n",
    "    servo2_pub.publish(60) #bringing soft-pad at the tip\n",
    "    rospy.sleep(1.8)\n",
    "    servo2_pub.publish(90)\n",
    "    \n",
    "def hardtip():\n",
    "    servo2_pub.publish(120) #bringing soft-pad at the tip\n",
    "    rospy.sleep(1.8)\n",
    "    servo2_pub.publish(90)"
   ]
  },
  {
   "cell_type": "code",
   "execution_count": 5,
   "metadata": {},
   "outputs": [],
   "source": [
    "def go_to_home():\n",
    "    \n",
    "    Hong_joint0 = radians(101.23)\n",
    "    Hong_joint1 = radians(-83.77)\n",
    "    Hong_joint2 = radians(-130.28)\n",
    "    Hong_joint3 = radians(-55.97)\n",
    "    Hong_joint4 = radians(89.33)\n",
    "    Hong_joint5 = radians(-78.73)\n",
    "    \n",
    "    rob.movej((Hong_joint0,Hong_joint1, Hong_joint2, Hong_joint3, Hong_joint4, Hong_joint5), 0.3, 0.7)\n",
    "    \n",
    "def go_to_safe_place():\n",
    "    \n",
    "    Hong_joint0 = radians(101.74)\n",
    "    Hong_joint1 = radians(-76.84)\n",
    "    Hong_joint2 = radians(-120.83)\n",
    "    Hong_joint3 = radians(-72.33)\n",
    "    Hong_joint4 = radians(89.40)\n",
    "    Hong_joint5 = radians(-78.12)\n",
    "    \n",
    "    rob.movej((Hong_joint0,Hong_joint1, Hong_joint2, Hong_joint3, Hong_joint4, Hong_joint5), 0.3, 0.7)\n",
    "    \n",
    "def go_to_end_place():\n",
    "    \n",
    "    Hong_joint0 = radians(106.13)\n",
    "    Hong_joint1 = radians(-60.48)\n",
    "    Hong_joint2 = radians(-130.69)\n",
    "    Hong_joint3 = radians(-78.86)\n",
    "    Hong_joint4 = radians(89.68)\n",
    "    Hong_joint5 = radians(-73.78)\n",
    "    \n",
    "    rob.movej((Hong_joint0,Hong_joint1, Hong_joint2, Hong_joint3, Hong_joint4, Hong_joint5), 0.3, 0.7)\n",
    "    \n",
    "def move_ref_base(target_ref_transform, ref_frame, acc=0.1, vel=0.02, wait=True):\n",
    "    world2tcp = rob.get_pose()\n",
    "    world2tcp.pos.x+=0.007\n",
    "    world2tcp.pos.y-=0.001\n",
    "    frame_to_tcp = m3d.Transform.get_inverse(world2tcp.inverse * m3d.Transform(ref_frame))\n",
    "    temp1 = m3d.Transform(frame_to_tcp)\n",
    "    temp2 = m3d.Transform(target_ref_transform)\n",
    "    delta_rotation = temp1.orient.inverse * temp2.orient * temp1.orient\n",
    "    delta_translation = temp2.pos + temp2.orient*temp1.pos - temp1.pos\n",
    "    Delta_tcp = m3d.Transform()\n",
    "    Delta_tcp.orient = delta_rotation\n",
    "    Delta_tcp.pos = frame_to_tcp.orient.inverse * delta_translation\n",
    "    rob.add_pose_tool(Delta_tcp, acc, vel, wait=True, command=\"movel\", threshold=None)\n",
    "    \n",
    "def move_ref_tcp(target_ref_transform, tcp_to_frame, acc=0.1, vel=0.02, wait=True):  \n",
    "    temp1 =  m3d.Transform.get_inverse(m3d.Transform(tcp_to_frame))\n",
    "    #print temp1\n",
    "    temp2 = m3d.Transform(target_ref_transform)\n",
    "    delta_rotation = temp1.orient.inverse * temp2.orient * temp1.orient\n",
    "    delta_translation = temp2.pos + temp2.orient*temp1.pos - temp1.pos\n",
    "    Delta_tcp = m3d.Transform()\n",
    "    Delta_tcp.orient = delta_rotation\n",
    "    Delta_tcp.pos = temp1.orient.inverse * delta_translation\n",
    "    #print m3d.Transform(Delta_tcp)\n",
    "    rob.add_pose_tool(Delta_tcp, acc, vel, wait=True, command=\"movel\", threshold=None)"
   ]
  },
  {
   "cell_type": "code",
   "execution_count": 6,
   "metadata": {},
   "outputs": [],
   "source": [
    "def stone_position_in_the_world(pose_x, pose_y, pose_z):\n",
    "    rob.set_tcp((0, 0.0, 0, 0, 0, 0))    \n",
    "    camPstone = np.array([pose_x, pose_y, pose_z, 1])\n",
    "    eeTcam = m3d.Transform()\n",
    "    eeTcam.pos = (0.076173+0.05, -0.0934057-0.03, 0.0074811)\n",
    "    eeTcam_e = tf.transformations.euler_from_quaternion([-0.0143125,0.69183,-0.0012,0.722039], axes='sxyz')\n",
    "    eeTcam.orient.rotate_xb(eeTcam_e[0])\n",
    "    eeTcam.orient.rotate_yb(eeTcam_e[1])\n",
    "    eeTcam.orient.rotate_zb(eeTcam_e[2])\n",
    "    tcpTee = np.array([[0,-1,0,0], [0,0,-1,0], [1,0,0,0], [0,0,0,1]])\n",
    "    eeTstone = np.matmul(eeTcam.get_matrix(), camPstone)\n",
    "    tcpTstone = np.matmul(tcpTee, np.transpose(eeTstone))\n",
    "    worldTstone = np.matmul(rob.get_pose().get_matrix(), tcpTstone)\n",
    "    worldTstone = worldTstone.squeeze().tolist()[0][0:-1]\n",
    "    return [worldTstone[0]+0.01634+0.00274, worldTstone[1]+0.02429-0.0024, worldTstone[2]]"
   ]
  },
  {
   "cell_type": "code",
   "execution_count": 7,
   "metadata": {},
   "outputs": [
    {
     "data": {
      "text/plain": [
       "<rospy.topics.Subscriber at 0x7f4f0d598510>"
      ]
     },
     "execution_count": 7,
     "metadata": {},
     "output_type": "execute_result"
    }
   ],
   "source": [
    "def hori_stone_pose_callback(msg):\n",
    "    global hori_pose_Go_stone_set, hori_Go_stone_number, Go_stone_dir_sorted, yaw_pitch_normal_set\n",
    "    hori_Go_stone_number = int(msg.hori_Go_stone_number)\n",
    "    if hori_Go_stone_number == 0:\n",
    "        hori_pose_Go_stone_set = []\n",
    "        Go_stone_dir_sorted = []\n",
    "        yaw_pitch_normal_set = []\n",
    "    else:\n",
    "        pose_x = msg.x\n",
    "        pose_y = msg.y\n",
    "        pose_z = msg.z\n",
    "        yaw = msg.yaw\n",
    "        pitch = msg.pitch\n",
    "        normal = msg.normal\n",
    "        dir_depth_inner = msg.dir_depth_inner\n",
    "        dir_depth_outer = msg.dir_depth_outer\n",
    "        dir_depth_outer_minus_inner = []\n",
    "        for i in range(len(dir_depth_inner)):\n",
    "            dir_depth_outer_minus_inner.append(dir_depth_outer[i]-dir_depth_inner[i])\n",
    "        dir_depth_outer_minus_inner_argsort = np.argsort(-np.array(dir_depth_outer_minus_inner)).tolist()\n",
    "        dir_depth_outer_minus_inner_argsort_copy = dir_depth_outer_minus_inner_argsort[:]\n",
    "        for index in dir_depth_outer_minus_inner_argsort:\n",
    "            if dir_depth_outer[index]-dir_depth_inner[index]<0:\n",
    "                dir_depth_outer_minus_inner_argsort_copy.remove(index)\n",
    "            elif dir_depth_outer[index]==0 or dir_depth_inner[index]==0:\n",
    "                dir_depth_outer_minus_inner_argsort_copy.remove(index)\n",
    "        dir_depth_outer_minus_inner_argsort=dir_depth_outer_minus_inner_argsort_copy[:]\n",
    "        hori_pose_Go_stone_set.append(stone_position_in_the_world(pose_x, pose_y, pose_z))\n",
    "        Go_stone_dir_sorted.append(dir_depth_outer_minus_inner_argsort)\n",
    "        yaw_pitch_normal_set.append([yaw,pitch,normal])\n",
    "hori_pose_topic = '/hori_stone_pose' #\"/usb_cam/image_raw\"\n",
    "rospy.Subscriber(hori_pose_topic, stone_pose_hori, hori_stone_pose_callback)"
   ]
  },
  {
   "cell_type": "code",
   "execution_count": 8,
   "metadata": {},
   "outputs": [
    {
     "data": {
      "text/plain": [
       "<rospy.topics.Subscriber at 0x7f4f0c309190>"
      ]
     },
     "execution_count": 8,
     "metadata": {},
     "output_type": "execute_result"
    }
   ],
   "source": [
    "import json\n",
    "def ver_stone_pose_callback(msg):\n",
    "    global ver_pose_Go_stone_set, ver_Go_stone_number, gripper_direction_set, gripper_aperture_set\n",
    "    ver_Go_stone_number = int(msg.ver_Go_stone_number)\n",
    "    if ver_Go_stone_number == 0:\n",
    "        ver_pose_Go_stone_set = []\n",
    "        gripper_direction_set = []\n",
    "        gripper_aperture_set = []\n",
    "    else:\n",
    "        pose_x = msg.x\n",
    "        pose_y = msg.y\n",
    "        pose_z = msg.z \n",
    "        box = json.loads(msg.box)\n",
    "        ver_pose_Go_stone_set.append(stone_position_in_the_world(pose_x, pose_y, pose_z))\n",
    "        box = [stone_position_in_the_world(box[i][0], box[i][1], pose_z)[0:2] for i in range(len(box))]\n",
    "        #print box\n",
    "        length1 = np.sqrt((box[0][0]-box[1][0])**2+(box[0][1]-box[1][1])**2)\n",
    "        length2 = np.sqrt((box[2][0]-box[1][0])**2+(box[2][1]-box[1][1])**2)\n",
    "        if length1 > length2:\n",
    "            try:\n",
    "                if abs(atan((box[0][0]-box[1][0])/(box[0][1]-box[1][1]))+pi/2)<abs(atan((box[0][0]-box[1][0])/(box[0][1]-box[1][1]))-pi/2):\n",
    "                    temp_angle=atan((box[0][0]-box[1][0])/(box[0][1]-box[1][1]))+pi/2\n",
    "                else:\n",
    "                    temp_angle=atan((box[0][0]-box[1][0])/(box[0][1]-box[1][1]))-pi/2\n",
    "                gripper_direction_set.append(temp_angle)\n",
    "            except:\n",
    "                gripper_direction_set.append(0)\n",
    "            gripper_aperture_set.append(length2+0.004)\n",
    "        else:\n",
    "            try:\n",
    "                if abs(atan((box[2][0]-box[1][0])/(box[2][1]-box[1][1]))+pi/2)<abs(atan((box[2][0]-box[1][0])/(box[2][1]-box[1][1]))-pi/2):\n",
    "                    temp_angle=atan((box[2][0]-box[1][0])/(box[2][1]-box[1][1]))+pi/2\n",
    "                else:\n",
    "                    temp_angle=atan((box[2][0]-box[1][0])/(box[2][1]-box[1][1]))-pi/2\n",
    "                gripper_direction_set.append(temp_angle)\n",
    "            except:\n",
    "                gripper_direction_set.append(0)\n",
    "            gripper_aperture_set.append(length1+0.004)        \n",
    "ver_pose_topic = '/ver_stone_pose' #\"/usb_cam/image_raw\"\n",
    "rospy.Subscriber(ver_pose_topic, stone_pose_ver, ver_stone_pose_callback)"
   ]
  },
  {
   "cell_type": "code",
   "execution_count": 9,
   "metadata": {},
   "outputs": [],
   "source": [
    "is_send_stone_img = 0\n",
    "stone_img_count = 0\n",
    "bridge = CvBridge()\n",
    "\n",
    "def image_callback(color, a_depth):\n",
    "    global is_send_stone_img, stone_img_count\n",
    "    if is_send_stone_img == 1:\n",
    "        print \"dsag\"\n",
    "        img_count_pub = rospy.Publisher('/stone_img_index', String, queue_size=1)\n",
    "        rospy.sleep(0.5)\n",
    "        cv2_img = bridge.imgmsg_to_cv2(color, \"bgr8\")\n",
    "        cv2.imwrite('/home/terry/Mask_RCNN/samples/stones/JPEGImages/'+str(stone_img_count)+'.jpeg', cv2_img)\n",
    "        cv2_depth_img = bridge.imgmsg_to_cv2(a_depth, desired_encoding=\"passthrough\")\n",
    "        depth_array = np.array(cv2_depth_img, dtype=np.float32)\n",
    "        cv2.imwrite('/home/terry/Mask_RCNN/samples/stones/depth/'+str(stone_img_count)+'.jpeg', cv2_depth_img)\n",
    "        np.save('/home/terry/Mask_RCNN/samples/stones/depth/'+str(stone_img_count)+'.npy', depth_array)\n",
    "        img_count_pub.publish(str(stone_img_count))\n",
    "        print str(stone_img_count)\n",
    "        stone_img_count = stone_img_count + 1\n",
    "        is_send_stone_img = 0"
   ]
  },
  {
   "cell_type": "code",
   "execution_count": 10,
   "metadata": {},
   "outputs": [
    {
     "data": {
      "text/plain": [
       "0"
      ]
     },
     "execution_count": 10,
     "metadata": {},
     "output_type": "execute_result"
    }
   ],
   "source": [
    "image_color_sub = message_filters.Subscriber('/camera/color/image_raw', Image)\n",
    "image_aligned_depth_sub = message_filters.Subscriber('/camera/aligned_depth_to_color/image_raw', Image)\n",
    "ts = message_filters.TimeSynchronizer([image_color_sub, image_aligned_depth_sub], 10)\n",
    "ts.registerCallback(image_callback)"
   ]
  },
  {
   "cell_type": "code",
   "execution_count": 11,
   "metadata": {},
   "outputs": [],
   "source": [
    "def poke_grasp_execute(Go_index):\n",
    "    global hori_pose_Go_stone_set, yaw_pitch_normal_set\n",
    "    tcp2fingertip=m3d.Transform()\n",
    "    tcp2fingertip.pos.x = 0.002\n",
    "    tcp2fingertip.pos.y = 0  \n",
    "    tcp2fingertip.pos.z = 0.354\n",
    "    fingertip2tcp = np.linalg.inv(tcp2fingertip.get_matrix())\n",
    "    eeTcam = m3d.Transform()\n",
    "    eeTcam.pos = (0.076173+0.05, -0.0934057-0.03, 0.0074811)\n",
    "    eeTcam_e = tf.transformations.euler_from_quaternion([-0.0143125,0.69183,-0.0012,0.722039], axes='sxyz')\n",
    "    eeTcam.orient.rotate_xb(eeTcam_e[0])\n",
    "    eeTcam.orient.rotate_yb(eeTcam_e[1])\n",
    "    eeTcam.orient.rotate_zb(eeTcam_e[2])\n",
    "    tcpTee = np.array([[0,-1,0,0], [0,0,-1,0], [1,0,0,0], [0,0,0,1]])\n",
    "    tcp2cam = np.matmul(tcpTee, eeTcam.get_matrix())\n",
    "    normal=yaw_pitch_normal_set[Go_index][2]\n",
    "    n_normalize = normal / np.linalg.norm(normal)\n",
    "    n_normalize = np.array([n_normalize[0], n_normalize[1], n_normalize[2], 1])\n",
    "    fingertip2normal = np.matmul(np.matmul(fingertip2tcp, tcp2cam), n_normalize).tolist()[0]\n",
    "    alpha = atan2(fingertip2normal[1], fingertip2normal[0])\n",
    "    if str(alpha) == 'nan':\n",
    "        return False\n",
    "    beta = -(pi/2+atan2(fingertip2normal[2], sqrt(fingertip2normal[0]**2+fingertip2normal[1]**2)))\n",
    "    if str(beta) == 'nan':\n",
    "        return False\n",
    "    if abs(beta)>(35*pi/180.0):\n",
    "        return False\n",
    "    hardtip()\n",
    "    go_to_safe_place()\n",
    "    servo_pub.publish(100)\n",
    "    rob.movel_tool((0,0,0,0,0,alpha), acc=0.1, vel=0.2, wait=True)\n",
    "    world2tcp = rob.get_pose()\n",
    "    world2tcp.pos.x+=0.008\n",
    "    world2tcp.pos.y-=0.001\n",
    "    world2fingertip=(world2tcp*tcp2fingertip)\n",
    "    rob.translate((hori_pose_Go_stone_set[Go_index][0]-world2fingertip.pos.x,hori_pose_Go_stone_set[Go_index][1]-world2fingertip.pos.y,0), acc=0.3, vel=0.8, wait=True)\n",
    "    world2tcp = rob.get_pose()\n",
    "    world2tcp.pos.x+=0.008\n",
    "    world2tcp.pos.y-=0.001\n",
    "    world2fingertip=(world2tcp*tcp2fingertip)\n",
    "    fingertip2stone=np.transpose(np.matmul(np.linalg.inv(world2fingertip.get_matrix()), np.transpose(np.array([hori_pose_Go_stone_set[Go_index]+[1]]))))[0].tolist()[0][0:-1]\n",
    "    rob.set_tcp((0.002, 0, 0.354, 0, 0, 0))\n",
    "    rospy.sleep(0.5)\n",
    "    #if np.cross([fingertip2normal[0], fingertip2normal[1]], [-sin(alpha), cos(alpha)])>0:\n",
    "    rob.movel_tool((0,0,0,0,beta,0), acc=0.3, vel=0.8, wait=True)\n",
    "    #rob.translate_tool((0.004+0.0015*int(abs(beta)>15)+0.0025*int(abs(beta)>20), 0, 0), acc=0.06, vel=0.08)\n",
    "    rob.translate_tool((0.003, 0, 0), acc=0.1, vel=0.1)\n",
    "    psi = radians(27)\n",
    "    rob.movel_tool((0,0,0,0,psi,0), acc=0.3, vel=0.8, wait=True)\n",
    "    rob.translate((0, 0, -(fingertip2stone[2]-0.010)), acc=0.1, vel=0.1, wait=True)\n",
    "    rob.translate_tool((0, 0, 0.0265), acc=0.01, vel=0.05)\n",
    "    Robotiq.goto(robotiq_client, pos=-7*0.14/48.0+1.12/48.0, speed=0.2, force=1, block=False)\n",
    "    rospy.sleep(1)\n",
    "    rob.translate_tool((0, 0, -0.08), acc=0.1, vel=0.2)\n",
    "    rob.set_tcp((0, 0, 0, 0, 0, 0))\n",
    "    rospy.sleep(0.5)\n",
    "    return True"
   ]
  },
  {
   "cell_type": "code",
   "execution_count": 12,
   "metadata": {},
   "outputs": [],
   "source": [
    "from shapely.geometry import LineString\n",
    "from shapely.geometry import Point\n",
    "from shapely.geometry import Polygon\n",
    "from shapely.geometry import LinearRing\n",
    "\n",
    "def scoop_collision_check(Go_index):\n",
    "    global hori_pose_Go_stone_set, Go_stone_dir_sorted, hard_fingertip_position, gripper_orientation\n",
    "    for ori_index in Go_stone_dir_sorted[Go_index]:\n",
    "        hard_fingertip_position = [hori_pose_Go_stone_set[Go_index][0]+0.013*sin(ori_index*45*pi/180), hori_pose_Go_stone_set[Go_index][1]-0.013*cos(ori_index*45*pi/180)]\n",
    "        gripper_orientation = ori_index*45\n",
    "        hard_fingertip_position1 = [hard_fingertip_position[0]+0.012*cos(gripper_orientation*pi/180), hard_fingertip_position[1]+0.012*sin(gripper_orientation*pi/180)]\n",
    "        hard_fingertip_position2 = [hard_fingertip_position[0]-0.012*cos(gripper_orientation*pi/180), hard_fingertip_position[1]-0.012*sin(gripper_orientation*pi/180)]\n",
    "        if LineString([hard_fingertip_position1, hard_fingertip_position, hard_fingertip_position2]).within(Polygon([[0.05+0.05,0.05+0.69], [-0.05+0.05,0.05+0.69], [-0.05+0.05,-0.05+0.69], [0.05+0.05,-0.05+0.69]]))==False:\n",
    "            continue\n",
    "        soft_fingertip_position = [hori_pose_Go_stone_set[Go_index][0]+(-0.015)*sin(ori_index*45*pi/180), hori_pose_Go_stone_set[Go_index][1]-(-0.015)*cos(ori_index*45*pi/180)]\n",
    "        if LineString([[soft_fingertip_position[0]+0.015*cos(gripper_orientation*pi/180), soft_fingertip_position[1]+0.015*sin(gripper_orientation*pi/180)], soft_fingertip_position, [soft_fingertip_position[0]-0.015*cos(gripper_orientation*pi/180), soft_fingertip_position[1]-0.015*sin(gripper_orientation*pi/180)]]).within(Polygon([[0.05+0.05,0.05+0.69], [-0.05+0.05,0.05+0.69], [-0.05+0.05,-0.05+0.69], [0.05+0.05,-0.05+0.69]]))==False:\n",
    "            continue\n",
    "        soft_fingertip_position2 = [hori_pose_Go_stone_set[Go_index][0]+(-0.018)*sin(ori_index*45*pi/180), hori_pose_Go_stone_set[Go_index][1]-(-0.018)*cos(ori_index*45*pi/180)]\n",
    "        if LineString([[soft_fingertip_position2[0]+0.015*cos(gripper_orientation*pi/180), soft_fingertip_position2[1]+0.015*sin(gripper_orientation*pi/180)], soft_fingertip_position2, [soft_fingertip_position2[0]-0.015*cos(gripper_orientation*pi/180), soft_fingertip_position2[1]-0.015*sin(gripper_orientation*pi/180)]]).within(Polygon([[0.05+0.05,0.05+0.69], [-0.05+0.05,0.05+0.69], [-0.05+0.05,-0.05+0.69], [0.05+0.05,-0.05+0.69]]))==False:\n",
    "            continue\n",
    "        fingertip_extend_position = [hori_pose_Go_stone_set[Go_index][0]+0.15*sin(ori_index*45*pi/180), hori_pose_Go_stone_set[Go_index][1]-0.15*cos(ori_index*45*pi/180)]\n",
    "        fingertip_extend_position1 = [fingertip_extend_position[0]+0.012*cos(gripper_orientation*pi/180), fingertip_extend_position[1]+0.012*sin(gripper_orientation*pi/180)]\n",
    "        fingertip_extend_position2 = [fingertip_extend_position[0]-0.012*cos(gripper_orientation*pi/180), fingertip_extend_position[1]-0.012*sin(gripper_orientation*pi/180)]\n",
    "        intersect_at_bowl = list(LinearRing([[0.055+0.05,0.055+0.69], [-0.055+0.05,0.055+0.69], [-0.055+0.05,-0.055+0.69], [0.055+0.05,-0.055+0.69]]).intersection(LineString([hard_fingertip_position, fingertip_extend_position])).coords[:][0])\n",
    "        intersect_at_bowl1 = list(LinearRing([[0.055+0.05,0.055+0.69], [-0.055+0.05,0.055+0.69], [-0.055+0.05,-0.055+0.69], [0.055+0.05,-0.055+0.69]]).intersection(LineString([hard_fingertip_position1, fingertip_extend_position1])).coords[:][0])\n",
    "        intersect_at_bowl2 = list(LinearRing([[0.055+0.05,0.055+0.69], [-0.055+0.05,0.055+0.69], [-0.055+0.05,-0.055+0.69], [0.055+0.05,-0.055+0.69]]).intersection(LineString([hard_fingertip_position2, fingertip_extend_position2])).coords[:][0])\n",
    "        if Point(hard_fingertip_position).distance(Point(intersect_at_bowl))*sqrt(3)<0.07: # need to be changed\n",
    "            continue\n",
    "        if Point(hard_fingertip_position1).distance(Point(intersect_at_bowl1))*sqrt(3)<0.07: # need to be changed\n",
    "            continue\n",
    "        if Point(hard_fingertip_position2).distance(Point(intersect_at_bowl2))*sqrt(3)<0.07: # need to be changed\n",
    "            continue\n",
    "        return False\n",
    "    return True            "
   ]
  },
  {
   "cell_type": "code",
   "execution_count": 48,
   "metadata": {},
   "outputs": [],
   "source": [
    "from geometry_msgs.msg import WrenchStamped\n",
    "from std_msgs.msg import UInt16\n",
    "import time\n",
    "\n",
    "def finger_tip_position_wrt_gripper_frame(alpha, l0, l1, l2l, l2r, flength_l, flength_r):\n",
    "    alpha=alpha*pi/180\n",
    "    left_fingertip_position=[-l0-l1*sin(alpha)+l2l, -l1*cos(alpha)-flength_l]\n",
    "    right_fingertip_position=[l0+l1*sin(alpha)-l2r, -l1*cos(alpha)-flength_r]\n",
    "    return left_fingertip_position, right_fingertip_position\n",
    "\n",
    "# first shorten, next translate, finally close\n",
    "# l0=0.0125 l1=0.1 l2l=0.006 l2r=0.015 flength_l = 0.072   theta=60    joint_value = 78.88, -112.01, -106.91, -61.26, 133.28, -15.20\n",
    "def pos_flength_adjust_left_fixed(current_alpha, next_alpha, theta, l0, l1, l2l, l2r, flength_l):\n",
    "    theta=theta*pi/180\n",
    "    current_flength_r = flength_l + (2*l0+2*l1*sin(current_alpha*pi/180)-l2l-l2r)/tan(theta)\n",
    "    current_left_fingertip_pos_g, current_right_fingertip_pos_g = finger_tip_position_wrt_gripper_frame(current_alpha, l0, l1, l2l, l2r, flength_l, current_flength_r)\n",
    "    transforming_matrix_w_g = np.array([[sin(theta), -cos(theta), -current_left_fingertip_pos_g[0]*sin(theta)+current_left_fingertip_pos_g[1]*cos(theta)], [cos(theta), sin(theta), -current_left_fingertip_pos_g[0]*cos(theta)-current_left_fingertip_pos_g[1]*sin(theta)], [0, 0, 1]])\n",
    "    current_right_fingertip_pos_w = (np.squeeze(np.dot(transforming_matrix_w_g, np.array([[current_right_fingertip_pos_g[0]], [current_right_fingertip_pos_g[1]], [1]])))[0:2]).tolist()\n",
    "    next_left_fingertip_pos_g, next_right_fingertip_pos_g = finger_tip_position_wrt_gripper_frame(next_alpha, l0, l1, l2l, l2r, flength_l, current_flength_r)\n",
    "    next_left_fingertip_pos_w = (np.squeeze(np.dot(transforming_matrix_w_g, np.array([[next_left_fingertip_pos_g[0]], [next_left_fingertip_pos_g[1]], [1]])))[0:2]).tolist()\n",
    "    next_right_fingertip_pos_w = (np.squeeze(np.dot(transforming_matrix_w_g, np.array([[next_right_fingertip_pos_g[0]], [next_right_fingertip_pos_g[1]], [1]])))[0:2]).tolist()\n",
    "    translation_dir_dis = [-next_left_fingertip_pos_w[0], -next_left_fingertip_pos_w[1]]\n",
    "    next_right_fingertip_pos_after_trans_w = [next_right_fingertip_pos_w[0]+translation_dir_dis[0], next_right_fingertip_pos_w[1]+translation_dir_dis[1]]\n",
    "    right_finger_shorten_distance=abs(next_right_fingertip_pos_after_trans_w[1])/sin(theta)\n",
    "    translation_dir_dis[0] = translation_dir_dis[0]+(2*l0+2*l1*sin(current_alpha*pi/180)-l2l-l2r)/sin(theta)-(next_right_fingertip_pos_after_trans_w[0]-right_finger_shorten_distance*cos(theta))\n",
    "    return translation_dir_dis, right_finger_shorten_distance\n",
    "\n",
    "def pos_flength_adjust_right_fixed(current_alpha, next_alpha, theta, l0, l1, l2l, l2r, flength_r):\n",
    "    theta=theta*pi/180\n",
    "    current_flength_l = flength_r + (2*l0+2*l1*sin(current_alpha*pi/180)-l2l-l2r)/tan(theta)\n",
    "    current_left_fingertip_pos_g, current_right_fingertip_pos_g = finger_tip_position_wrt_gripper_frame(current_alpha, l0, l1, l2l, l2r, current_flength_l, flength_r)\n",
    "    transforming_matrix_w_g = np.array([[sin(theta), cos(theta), -current_right_fingertip_pos_g[0]*sin(theta)-current_right_fingertip_pos_g[1]*cos(theta)], [-cos(theta), sin(theta), current_right_fingertip_pos_g[0]*cos(theta)-current_right_fingertip_pos_g[1]*sin(theta)], [0, 0, 1]])\n",
    "    current_left_fingertip_pos_w = (np.squeeze(np.dot(transforming_matrix_w_g, np.array([[current_left_fingertip_pos_g[0]], [current_left_fingertip_pos_g[1]], [1]])))[0:2]).tolist()\n",
    "    #print current_left_fingertip_pos_w\n",
    "    next_left_fingertip_pos_g, next_right_fingertip_pos_g = finger_tip_position_wrt_gripper_frame(next_alpha, l0, l1, l2l, l2r, current_flength_l, flength_r)\n",
    "    next_left_fingertip_pos_w = (np.squeeze(np.dot(transforming_matrix_w_g, np.array([[next_left_fingertip_pos_g[0]], [next_left_fingertip_pos_g[1]], [1]])))[0:2]).tolist()\n",
    "    next_right_fingertip_pos_w = (np.squeeze(np.dot(transforming_matrix_w_g, np.array([[next_right_fingertip_pos_g[0]], [next_right_fingertip_pos_g[1]], [1]])))[0:2]).tolist()\n",
    "    #print next_left_fingertip_pos_w\n",
    "    translation_dir_dis = [-next_right_fingertip_pos_w[0], -next_right_fingertip_pos_w[1]]\n",
    "    #print translation_dir_dis\n",
    "    next_left_fingertip_pos_after_trans_w = [next_left_fingertip_pos_w[0]+translation_dir_dis[0], next_left_fingertip_pos_w[1]+translation_dir_dis[1]]\n",
    "    #print next_left_fingertip_pos_after_trans_w[1]\n",
    "    left_finger_shorten_distance=abs(next_left_fingertip_pos_after_trans_w[1])/sin(theta)\n",
    "    return translation_dir_dis, left_finger_shorten_distance\n",
    "\n",
    "def scoop_execute(Go_index):\n",
    "    global hard_fingertip_position, gripper_orientation\n",
    "    softtip()\n",
    "    go_to_safe_place()\n",
    "    Robotiq.goto(robotiq_client, pos=5*0.14/48.0+1.12/48.0, speed=0.1, force=10, block=True)\n",
    "    servo_pub.publish(0)\n",
    "    rob.movel_tool((0,0,0,0,0,-gripper_orientation*pi/180),acc=0.1, vel=0.2)\n",
    "    tcp2fingertip=m3d.Transform()\n",
    "    tcp2fingertip.pos.x = -0.021 # need change\n",
    "    tcp2fingertip.pos.z = 0.342 # need change\n",
    "    world2tcp = rob.get_pose()\n",
    "    world2fingertip=(world2tcp*tcp2fingertip)\n",
    "    rob.translate((hard_fingertip_position[0]-world2fingertip.pos.x,hard_fingertip_position[1]-world2fingertip.pos.y,0), acc=0.3, vel=0.8, wait=True)\n",
    "    rob.set_tcp((-0.021, 0, 0.342, 0, 0, 0))\n",
    "    rospy.sleep(0.5)\n",
    "    rob.movel_tool((0,0,0,0,pi/6,0), acc=0.3, vel=0.8, wait=True)\n",
    "    rob.set_tcp((0, 0, 0, 0, 0, 0))\n",
    "    rospy.sleep(0.5)    \n",
    "    rob.translate((0, 0, -0.07), acc=0.1, vel=0.3, wait=True)\n",
    "    rob.translate((0, 0, -0.05), acc=0.001, vel=0.02, wait=False)\n",
    "    wrench = rospy.wait_for_message('/robotiq_ft_wrench', WrenchStamped, timeout = None)\n",
    "    ini_wrench = wrench.wrench.torque.y\n",
    "    torque_memory=[]\n",
    "    while True:\n",
    "        wrench = rospy.wait_for_message('/robotiq_ft_wrench', WrenchStamped, timeout = None)\n",
    "        torque_memory.append(wrench.wrench.torque.y)\n",
    "        if len(torque_memory)<9:\n",
    "            if wrench.wrench.torque.y>ini_wrench+0.15:\n",
    "                rob.stopl()\n",
    "                break\n",
    "        else:\n",
    "            if wrench.wrench.torque.y>min(torque_memory[0:9])+0.15:\n",
    "                rob.stopl()\n",
    "                break\n",
    "\n",
    "    wrench = rospy.wait_for_message('/robotiq_ft_wrench', WrenchStamped, timeout = None)\n",
    "    ini_wrench = wrench.wrench.torque.y\n",
    "    torque_memory=[]\n",
    "    for current_finger_length in np.arange(0,145,1):\n",
    "        servo_pub.publish(current_finger_length)\n",
    "        current_fingerlength_int=current_finger_length\n",
    "        wrench = rospy.wait_for_message('/robotiq_ft_wrench', WrenchStamped, timeout = None)\n",
    "        torque_memory.append(wrench.wrench.torque.y)\n",
    "        if len(torque_memory)<9:\n",
    "            if wrench.wrench.torque.y>ini_wrench+0.15:\n",
    "                rob.stopl()\n",
    "                break\n",
    "        else:\n",
    "            if wrench.wrench.torque.y>min(torque_memory[0:9])+0.15:\n",
    "                rob.stopl()\n",
    "                break\n",
    "    angle_step=0.25\n",
    "    for angle in np.arange(5,-4,-angle_step):\n",
    "        translate_dir_dis, shorten_distance = pos_flength_adjust_left_fixed(angle, angle-angle_step, 60, 0.0125, 0.1, 0.006, 0.019, 0.072)\n",
    "        old_fingerlength_int=current_fingerlength_int\n",
    "        current_fingerlength_int=round(max(current_fingerlength_int-shorten_distance*(160.0/0.025),0))\n",
    "        servo_pub.publish(int(current_fingerlength_int))\n",
    "        if abs(current_fingerlength_int-old_fingerlength_int)!=0:\n",
    "            Robotiq.goto(robotiq_client, pos=(angle-1)*0.14/48.0+1.12/48.0, speed=0.2, force=10, block=False)\n",
    "            rob.translate_tool((sin(60*pi/180)*translate_dir_dis[0]+cos(60*pi/180)*translate_dir_dis[1], 0, cos(60*pi/180)*translate_dir_dis[0]-sin(60*pi/180)*translate_dir_dis[1]), acc=0.1, vel=0.4, wait=True)\n",
    "        else:\n",
    "            Robotiq.goto(robotiq_client, pos=(angle-1)*0.14/48.0+1.12/48.0, speed=0.2, force=10, block=False)\n",
    "    rospy.sleep(0.5)\n",
    "    rob.translate((0, 0, 0.1), acc=0.3, vel=0.8, wait=True)"
   ]
  },
  {
   "cell_type": "code",
   "execution_count": 33,
   "metadata": {},
   "outputs": [],
   "source": [
    "def scoop_execute2(Go_index):\n",
    "    global hard_fingertip_position, gripper_orientation\n",
    "    softtip()\n",
    "    go_to_safe_place()\n",
    "    Robotiq.goto(robotiq_client, pos=5*0.14/48.0+1.12/48.0, speed=0.1, force=10, block=True)\n",
    "    servo_pub.publish(0)\n",
    "    rob.movel_tool((0,0,0,0,0,-gripper_orientation*pi/180),acc=0.1, vel=0.2)\n",
    "    tcp2fingertip=m3d.Transform()\n",
    "    tcp2fingertip.pos.x = -0.021 # need change\n",
    "    tcp2fingertip.pos.z = 0.342 # need change\n",
    "    world2tcp = rob.get_pose()\n",
    "    world2fingertip=(world2tcp*tcp2fingertip)\n",
    "    rob.translate((hard_fingertip_position[0]-world2fingertip.pos.x,hard_fingertip_position[1]-world2fingertip.pos.y,0), acc=0.3, vel=0.8, wait=True)\n",
    "    rob.set_tcp((-0.021, 0, 0.342, 0, 0, 0))\n",
    "    rospy.sleep(0.5)\n",
    "    rob.movel_tool((0,0,0,0,pi/6,0), acc=0.3, vel=0.8, wait=True)\n",
    "    rob.set_tcp((0, 0, 0, 0, 0, 0))\n",
    "    rospy.sleep(0.5)\n",
    "    rob.translate((0, 0, hori_pose_Go_stone_set[Go_index][2]-world2fingertip.pos.z+0.004), acc=0.02, vel=0.05, wait=True)\n",
    "\n",
    "    for current_finger_length in np.arange(0,85,1):\n",
    "        servo_pub.publish(current_finger_length)\n",
    "        rospy.sleep(0.02) #need change\n",
    "    current_fingerlength_int=85\n",
    "    angle_step=0.25\n",
    "    for angle in np.arange(5,-6,-angle_step):\n",
    "        translate_dir_dis, shorten_distance = pos_flength_adjust_left_fixed(angle, angle-angle_step, 60, 0.0125, 0.1, 0.006, 0.019, 0.072)\n",
    "        old_fingerlength_int=current_fingerlength_int\n",
    "        current_fingerlength_int=round(max(current_fingerlength_int-shorten_distance*(160.0/0.025),0))\n",
    "        servo_pub.publish(int(current_fingerlength_int))\n",
    "        if abs(current_fingerlength_int-old_fingerlength_int)!=0:\n",
    "            Robotiq.goto(robotiq_client, pos=(angle-1)*0.14/48.0+1.12/48.0, speed=0.2, force=10, block=False)\n",
    "            rob.translate_tool((sin(60*pi/180)*translate_dir_dis[0]+cos(60*pi/180)*translate_dir_dis[1], 0, cos(60*pi/180)*translate_dir_dis[0]-sin(60*pi/180)*translate_dir_dis[1]), acc=0.1, vel=0.4, wait=True)\n",
    "        else:\n",
    "            Robotiq.goto(robotiq_client, pos=(angle-1)*0.14/48.0+1.12/48.0, speed=0.2, force=10, block=False)\n",
    "    rospy.sleep(0.5)\n",
    "    rob.translate((0, 0, 0.1), acc=0.3, vel=0.8, wait=True)"
   ]
  },
  {
   "cell_type": "code",
   "execution_count": 15,
   "metadata": {},
   "outputs": [],
   "source": [
    "def find_alpha_from_distance(distance, l0, l1, l2l, l2r):\n",
    "    alpha = asin((distance+l2l+l2r-2*l0)/2/l1)*180/pi\n",
    "    return alpha\n",
    "\n",
    "def direct_pick_execute(Go_index):\n",
    "    global ver_pose_Go_stone_set, gripper_direction_set, gripper_aperture_set\n",
    "    go_to_safe_place()\n",
    "    hardtip()\n",
    "    Robotiq.goto(robotiq_client, pos=0.75*gripper_aperture_set[Go_index]+0.0095, speed=0.1, force=10, block=True)\n",
    "    servo_pub.publish(10)    \n",
    "    pos_x = rob.get_pose().pos.x+0.007\n",
    "    pos_y = rob.get_pose().pos.y-0.001\n",
    "    rospy.sleep(0.5)\n",
    "    rob.translate((ver_pose_Go_stone_set[Go_index][0]-pos_x,ver_pose_Go_stone_set[Go_index][1]-pos_y,0), acc=0.3, vel=0.8, wait=True)\n",
    "    rob.movel_tool((0,0,0,0,0,gripper_direction_set[Go_index]),acc=0.3, vel=0.8)\n",
    "    rob.translate_tool((0.004,0,0),acc=0.1, vel=0.2)\n",
    "    #rob.translate((0,0,-0.025), acc=0.1, vel=0.4, wait=True)\n",
    "    rob.translate((0,0,max((ver_pose_Go_stone_set[Go_index][2]-(rob.get_pose().pos.z-0.32210))*0.7,-0.065)), acc=0.1, vel=0.1, wait=True)\n",
    "    rob.translate((0,0,(ver_pose_Go_stone_set[Go_index][2]-(rob.get_pose().pos.z-0.32210))*0.3-0.003), acc=0.001, vel=0.01, wait=True)\n",
    "    Robotiq.goto(robotiq_client, pos=-7*0.14/48.0+1.12/48.0, speed=0.2, force=1, block=False)\n",
    "    rospy.sleep(1)\n",
    "    rob.translate((0, 0, 0.08), acc=0.3, vel=0.8)"
   ]
  },
  {
   "cell_type": "code",
   "execution_count": 16,
   "metadata": {},
   "outputs": [],
   "source": [
    "from shapely.affinity import rotate\n",
    "from shapely.affinity import translate\n",
    "from shapely.geometry import Point\n",
    "from shapely.geometry import LinearRing\n",
    "from shapely.geometry import Polygon\n",
    "\n",
    "def direct_pick_collision_check(Go_index):\n",
    "    global ver_pose_Go_stone_set, gripper_direction_set, gripper_aperture_set\n",
    "    finger_profile = [[0.01, gripper_aperture_set[Go_index]/2+0.019], [-0.01, gripper_aperture_set[Go_index]/2+0.019], [-0.01, -gripper_aperture_set[Go_index]/2-0.007], [0.01, -gripper_aperture_set[Go_index]/2-0.007]]\n",
    "    finger_profile = rotate(LinearRing(finger_profile), -gripper_direction_set[Go_index], origin=Point([0,0]), use_radians=True)\n",
    "    print finger_profile.coords[:]\n",
    "    finger_profile = translate(LinearRing(finger_profile), xoff=ver_pose_Go_stone_set[Go_index][0], yoff=ver_pose_Go_stone_set[Go_index][1], zoff=0.0)\n",
    "    print finger_profile.coords[:]\n",
    "    if finger_profile.within(Polygon([[0.05+0.05,0.05+0.69], [-0.05+0.05,0.05+0.69], [-0.05+0.05,-0.05+0.69], [0.05+0.05,-0.05+0.69]]))==True:\n",
    "        return False\n",
    "    else:\n",
    "        return True"
   ]
  },
  {
   "cell_type": "code",
   "execution_count": 49,
   "metadata": {
    "scrolled": true
   },
   "outputs": [
    {
     "name": "stdout",
     "output_type": "stream",
     "text": [
      "started 0\n",
      "dsag\n",
      "0\n",
      "[[0.06880790607481248, 0.6892650638401568, 0.0315068847514583], [0.04279215417149208, 0.7046545668816538, 0.03218088733292884], [0.028370527218442736, 0.6873247018702903, 0.031039546244824245], [0.04828405634062213, 0.6737297066028333, 0.033579790035582646]]\n",
      "[[-1.8313987185422373, 0.7853981633974482, (0.06931243201065121, -0.09652352835809815, -0.9690677050539717)], [-2.9980092599433243, 0.446105548943403, (-0.3296147559020193, -0.0339007308327314, -0.9149971031898168)], [2.9294489005853173, 0.5144513130590272, (-0.33007355179428116, 0.11813429374389259, -0.6061917301755444)], [-1.457645345204412, 0.60780199611396, (0.20547449608181156, 0.27146088880935987, -0.8509032491477692)]]\n",
      "[] [] []\n",
      "[('h', 0), ('h', 1), ('h', 2), ('h', 3)]\n",
      "started 1\n",
      "dsag\n",
      "1\n",
      "[[0.04278077881565042, 0.7051902581819655, 0.03217352897551856], [0.04794678256397953, 0.6739013668769628, 0.03256451974209795], [0.02836049828506909, 0.6878583348188607, 0.031018072195491797], [0.026608312945108126, 0.6641656764974471, 0.0334946916093784]]\n",
      "[[-2.9533711482850222, 0.4808872801953352, (-0.4019456680546036, 0.030874935708029363, -0.8330276892063175)], [-1.5282687921751124, 0.60780199611396, (0.0130451839297373, 0.18057583963744686, -0.7662106272682865)], [2.5849933355795702, 0.5779019369622452, (-0.4365658988262782, 0.0023027893161715347, -0.7590748436582344)], [3.0975035961917214, 0.446105548943404, (-0.6713329890689569, 0.1659406081117483, -0.7144119069098094)]]\n",
      "[] [] []\n",
      "[('h', 0), ('h', 1), ('h', 2), ('h', 3)]\n",
      "started 2\n",
      "dsag\n",
      "2\n",
      "[[0.03595559174885929, 0.6832697001214941, 0.032848755585800804], [0.05409526052606004, 0.6692022173138742, 0.032444641590600676], [0.008525600170858754, 0.6638555105649099, 0.03616182859293915], [0.008405113255554313, 0.6806612733736127, 0.03386755411697645]]\n",
      "[[-2.738681062736277, 0.60780199611396, (0.1471554164504119, 0.05778876023026524, -0.454657822662716)], [-1.3127890849309414, 0.8270407424960367, (0.16278556348966083, 0.09100582645317089, -0.9612740110237723)], [2.052734578752523, 1.261597414467822, (-0.1274482137528779, 0.23257734152224677, -0.5180048144491574)], [0.6805212246672143, 1.181087755452031, (-0.011279632195118244, 0.6707827002593517, -0.7415681620257948)]]\n",
      "[] [] []\n",
      "[('h', 0), ('h', 1), ('h', 2), ('h', 3)]\n",
      "started 3\n",
      "dsag\n",
      "3\n",
      "[[0.05435020848211019, 0.6689601191114224, 0.032445540573681375], [0.006507371867897963, 0.6628234173379258, 0.033276346075853336], [0.09408519238299108, 0.6812062389901241, 0.030798990379560076], [0.007316256753759553, 0.7038947605499478, 0.03447611402230455]]\n",
      "[[-1.3258176636680323, 0.8066715494215094, (0.09511368886701553, 0.11156342392693386, -0.9824707855304672)], [2.479166359756642, 1.2615974144678221, (-0.13112255280824878, 0.19648044806876627, -0.4705303040465055)], [2.5535900500422257, 0.7853981633974482, (-0.536011570103202, 0.12295074067130941, -0.6290355223329898)], [2.05839145271791, 1.2694511030847926, (0.3419447184129167, -0.08736080951945181, -0.6840635528027011)]]\n",
      "[] [] []\n",
      "[('h', 0), ('h', 1), ('h', 2), ('h', 3)]\n",
      "started 4\n",
      "dsag\n",
      "4\n",
      "[[0.0065936529180890754, 0.6641833111594446, 0.03523988856986987], [0.09003224861946062, 0.6881038730145507, 0.030807966311098278], [0.006678098282289189, 0.705584527931698, 0.033468936443267316], [0.09559890092830041, 0.6457082270721352, 0.03140913652042615]]\n",
      "[[2.104504518434158, 1.2615974144678221, (0.1394882551944857, 0.03475283234874074, -0.5131650995582517)], [-2.738311171870957, 0.5779019369622452, (-0.0908183006491734, 0.19202835590461345, -0.953952174028428)], [2.1692152202734336, 1.2655731930009753, (0.29097147356112135, -0.12422119582801712, -0.6913576008766502)], [0.9652516631899265, 0.9324765187858508, (-0.39694563423342955, 0.22145431871183668, -0.594641124703013)]]\n",
      "[] [] []\n",
      "[('h', 0), ('h', 1), ('h', 2), ('h', 3)]\n",
      "started 5\n",
      "dsag\n",
      "5\n",
      "[[0.07252559341203287, 0.6690463892112579, 0.03176104280862163], [0.05604033377569056, 0.6885488205445894, 0.029003171994547883], [0.051359256912251745, 0.6630310108770959, 0.033646232167259815], [0.04085304794927986, 0.7059594548557214, 0.03223642865744675]]\n",
      "[[-1.6517004259501271, 0.8066715494215094, (-0.1689950262610935, -0.0031284692846068538, -0.9745475850231627)], [2.198104519070659, 1.0146300966744435, (-0.10463304608477925, -0.05771962993681875, -0.5015519168722797)], [-2.2730532583039036, 0.6365082157879507, (-0.044821380326471004, -0.013807457009049166, -0.9218725751215698)], [-0.6556956262415361, 0.5144513130590272, (-0.14466998287641825, -0.07371753297279801, -0.7234813856325023)]]\n",
      "[] [] []\n",
      "[('h', 0), ('h', 1), ('h', 2), ('h', 3)]\n",
      "started 6\n",
      "dsag\n",
      "6\n",
      "[[0.054960982879025184, 0.6890743336676279, 0.031051083268392232], [0.051296976000939715, 0.6634180310038003, 0.032618924012952966], [0.040292605923292854, 0.7064736629670376, 0.03224061091248276], [0.027942310607023138, 0.6884066455301551, 0.03602909925514358]]\n",
      "[[2.184566421811465, 1.048962046980486, (0.11358825099720045, 0.1159452459053039, -0.5441887059263196)], [-2.356194490192345, 0.60780199611396, (0.04972038489051501, -0.07219034244842291, -0.5625864025272362)], [-2.3067299215907533, 0.5144513130590272, (-0.37627016183428036, 0.03412354885149623, -0.5949557550822594)], [-0.3936982239600244, 0.5467888408892477, (-0.38269192953637005, -0.5745784855701702, -0.4692538627581797)]]\n",
      "[] [] []\n",
      "[('h', 0), ('h', 1), ('h', 2), ('h', 3)]\n",
      "started 7\n",
      "dsag\n",
      "7\n",
      "[[0.03822762860029381, 0.7065636770351793, 0.03331591936796513], [0.027943760901363367, 0.687874964370209, 0.036044128167538214], [0.01863812881371466, 0.6576144218149067, 0.03792781191618383], [0.09051819807260801, 0.7331694607595775, 0.02899052435921068]]\n",
      "[[-1.3218336210021797, 0.7631795980707291, (-0.04558959427434519, -0.005010095125785153, -0.5252778651139592)], [-1.219351532791345, 0.6365082157879507, (-0.3060638218274246, -0.5347180717313456, -0.5415080850927723)], [-0.1507463811204217, 0.4101273405414913, (-0.3754217436303005, -0.21400539757502787, -0.5323156623341225)], [-1.5042281630190728, 0.4808872801953352, (-0.2756592579067173, -0.16121794150516874, -0.8255163603949587)]]\n",
      "[] [] []\n",
      "[('h', 0), ('h', 1), ('h', 2), ('h', 3)]\n",
      "started 8\n",
      "dsag\n",
      "8\n",
      "[[0.027331852106557718, 0.6975868979273635, 0.032855793714499426], [0.03243616538778107, 0.6749715287177495, 0.03310567893156696], [0.018373671651335518, 0.6573620262230399, 0.03794533093305397], [0.007024085217701037, 0.6882279994303374, 0.033788403538518086]]\n",
      "[[3.004949491098706, 0.5779019369622452, (-0.008944369319581471, 0.06199066867437451, -0.7478000957721919)], [-2.5829933382462307, 0.60780199611396, (-0.1405309209393581, 0.10706035460488714, -0.9230781126703173)], [-0.2119576372426195, 0.4101273405414913, (-0.46458807065864804, -0.21632034558918214, -0.5378519252168044)], [2.5408788702787994, 1.2446405145514434, (0.09061679862279791, -0.05495301758008046, -0.7271912623283212)]]\n",
      "[] [] []\n",
      "[('h', 0), ('h', 1), ('h', 2), ('h', 3)]\n",
      "started 9\n",
      "dsag\n",
      "9\n",
      "[[0.03291454073553324, 0.6748083686786058, 0.03411158509994999], [0.01866522583777268, 0.6576322808647933, 0.0379254750610441], [0.012513105771381854, 0.6865017882515245, 0.033638827369833035], [0.09342404853300863, 0.6537577967877198, 0.03131931303399832]]\n",
      "[[2.976443976175166, 0.5779019369622452, (-0.18722503554561135, 0.12129478173724184, -0.8247790397875133)], [-0.36452600240693456, 0.4101273405414913, (-0.46984008872122973, -0.24920182758215434, -0.5535895580661355)], [-1.546410917622178, 0.8066715494215094, (-0.38234959442417626, 0.1026730769002582, -0.7090596138550808)], [2.9385474363363278, 0.60780199611396, (-0.5699128564085045, 0.0712244043829548, -0.5190065459669951)]]\n",
      "[] [] []\n",
      "[('h', 0), ('h', 1), ('h', 2), ('h', 3)]\n",
      "started 10\n",
      "dsag\n",
      "10\n",
      "[[0.006661761138864682, 0.6662272600385322, 0.032173158850575756], [0.01249617104976087, 0.6884031836851279, 0.033578055946283436], [0.021387611704507967, 0.731915197573961, 0.03550320343325436], [0.0071359335358178195, 0.6431868346782924, 0.03159587315767426]]\n",
      "[[2.202249825733995, 1.2694511030847924, (0.051345688843673735, 0.024638596463171708, -0.5509935407517225)], [0.632748835002183, 0.5779019369622452, (-0.3173243337111912, 0.05080987740444971, -0.7618859305344093)], [-2.800236768335946, 0.7399748839758711, (0.1301342190516581, -0.07054742189150286, -0.58408499446024)], [2.274742445886474, 1.2207514385497507, (-0.1149477939962021, 0.13303157163139173, -0.40936303579049654)]]\n",
      "[] [] []\n",
      "[('h', 0), ('h', 1), ('h', 2), ('h', 3)]\n"
     ]
    },
    {
     "name": "stdout",
     "output_type": "stream",
     "text": [
      "started 11\n",
      "dsag\n",
      "11\n",
      "[[0.059446433988511946, 0.6713079457037707, 0.03222172623319064], [0.04266818674937773, 0.7034801552274249, 0.03323170926297936], [0.028396930625716195, 0.6684075486826653, 0.029391163956696942], [0.061881077940421435, 0.6933519991231397, 0.03373996813499813]]\n",
      "[[0.9272952180016122, 0.60780199611396, (-0.2011511291331014, 0.08630566541281533, -0.9427584682468798)], [3.141592653589793, 0.6904464570546918, (-0.4014339150353942, -0.15619956707191818, -0.7727077017244371)], [2.926234953892055, 0.5467888408892468, (-0.2017631352996945, 0.037432642024658645, -0.5819725711601627)], [-2.850135859111926, 0.6640461628266843, (0.4035905465055296, 0.03025599353822685, -0.7268508361380636)]]\n",
      "[] [] []\n",
      "[('h', 0), ('h', 1), ('h', 2), ('h', 3)]\n",
      "started 12\n",
      "dsag\n",
      "12\n",
      "[[0.04181518686354751, 0.7042898765726493, 0.03327126923296131], [0.07233254775717958, 0.6896918714581468, 0.031426608721704274], [0.028679209612856443, 0.6692970383871639, 0.0323438448968531], [0.08553192498800664, 0.7083151315989412, 0.030583694269650408]]\n",
      "[[-1.6421037915801868, 0.6904464570546918, (-0.3224278474448574, -0.13076254724454842, -0.7354969000915063)], [-1.6020361602251647, 0.8066715494215094, (-0.18303126152830773, -0.03690698263405169, -0.9446859056317368)], [-2.7726331073839363, 0.60780199611396, (-0.2905605438694306, -0.033764705005614355, -0.593250788741085)], [-2.2730532583039036, 0.7631795980707291, (0.008077846808356205, 0.00695948513939485, -0.9230708931634107)]]\n",
      "[] [] []\n",
      "[('h', 0), ('h', 1), ('h', 2), ('h', 3)]\n",
      "started 13\n",
      "dsag\n",
      "13\n",
      "[[0.07480838476720168, 0.6865327053240471, 0.032397866080358606], [0.02811545058647937, 0.668661953152773, 0.029375038230497752], [0.0852854020342571, 0.708321107366789, 0.030644542202368952], [0.09476831578478066, 0.6488573062844241, 0.03232154444007196]]\n",
      "[[-1.5253730473733196, 0.8465463260467494, (-0.15020498500684723, 0.055367795657692565, -0.9620404016626606)], [2.928224011437985, 0.5467888408892468, (-0.33906237591930544, 0.09484788105450886, -0.546348935546796)], [-2.0169018757383, 0.7631795980707291, (-0.027333308237006103, 0.019022546468072343, -0.9591835515060416)], [2.649783477601095, 0.6365082157879507, (-0.43844386066284347, 0.0736117642532515, -0.3018792047159506)]]\n",
      "[] [] []\n",
      "[('h', 0), ('h', 1), ('h', 2), ('h', 3)]\n",
      "started 14\n",
      "dsag\n",
      "14\n",
      "[[0.028430596458998692, 0.6683961478377543, 0.029379193267259185], [0.08552752701871767, 0.7082924583459956, 0.030566635253477636], [0.05534558125058293, 0.64888769784343, 0.03277845349132885], [0.09523465678499372, 0.6483755028818101, 0.031350067482585675]]\n",
      "[[2.93809960833223, 0.5467888408892468, (-0.22786075569705125, 0.1552692218308513, -0.6379561914785316)], [-2.0701430484750265, 0.7157435896688799, (-0.019191455092177078, -0.0031135324198897697, -0.9386305319110638)], [1.97568811307998, 0.7157435896688799, (0.46517313838367025, 0.034560204291525926, -0.6829713057495842)], [0.771314587574588, 0.7157435896688799, (-0.569769949107558, 0.046854293171113226, -0.28290104659601123)]]\n",
      "[] [] []\n",
      "[('h', 0), ('h', 1), ('h', 2), ('h', 3)]\n",
      "started 15\n",
      "dsag\n",
      "15\n",
      "[[0.09495805444645238, 0.6486665184626046, 0.03135714108905491], [0.008513364858138835, 0.6543488866954232, 0.03436841503128091], [0.08552687801797416, 0.70830249201012, 0.030579084178087912], [0.0349734127112189, 0.6468314511706478, 0.03453409641053823]]\n",
      "[[0.7994817392203084, 0.7399748839758711, (-0.5437846090011444, 0.062361800933146264, -0.32148847255451174)], [2.229602362912373, 1.2102303263167906, (-0.1218168391641968, 0.21630355793347483, -0.5621332737054744)], [-2.191045812777718, 0.8270407424960367, (-0.08277952065447096, 0.0012603209423848552, -0.8599982048489406)], [-1.7767876634707278, 0.6640461628266843, (0.2880736424050162, -0.14843468238801277, -0.7104761920062053)]]\n",
      "[] [] []\n",
      "[('h', 0), ('h', 1), ('h', 2), ('h', 3)]\n",
      "started 16\n",
      "dsag\n",
      "16\n",
      "[[0.07105324323809455, 0.6725308010630718, 0.031776887365685735], [0.058418889143442364, 0.7000571626787027, 0.03172498225186954], [0.04669925192598378, 0.6804351718843153, 0.0335148056241279], [0.027816436054587217, 0.6933122041922337, 0.03193740753444835]]\n",
      "[[-1.9237867146218068, 0.962107019467485, (-0.040344565518911524, 0.13215952577372495, -0.6882070067460558)], [-2.8706458032513726, 0.5467888408892468, (-0.1872036228226278, 0.049364033741681565, -0.9637683533013323)], [-1.6421037915801868, 0.6904464570546918, (-0.2869961939960688, 0.39781539517628467, -0.7155312149270058)], [-1.0405805540182667, 0.6365082157879507, (-0.10080523769691392, 0.04084408022801218, -0.5932580161492814)]]\n",
      "[] [] []\n",
      "[('h', 0), ('h', 1), ('h', 2), ('h', 3)]\n",
      "started 17\n",
      "dsag\n",
      "17\n",
      "[[0.05531843473459067, 0.7022406572476432, 0.029779499913115626], [0.04644774337638553, 0.6807091349951606, 0.03352921405666287], [0.02769942674585738, 0.6940821644361976, 0.032939899383687576], [0.05389353555954174, 0.6591887333976902, 0.0326671781357607]]\n",
      "[[2.158798930342464, 0.4808872801953352, (0.17609379984555218, 0.02410037359580328, -0.7226897562233056)], [-2.516706415674204, 0.5467888408892468, (-0.10751326573760336, 0.32669908365447536, -0.9260062638442316)], [-1.7234456551901616, 0.6904464570546918, (0.03574763162215052, 0.08832417664459831, -0.5177651736267488)], [-2.17084654019665, 0.7631795980707291, (0.43629438654863484, -0.12343613481737184, -0.6869348212913647)]]\n",
      "[] [] []\n",
      "[('h', 0), ('h', 1), ('h', 2), ('h', 3)]\n",
      "started 18\n",
      "dsag\n",
      "18\n",
      "[[0.055300511468781344, 0.7025382917860998, 0.02980249501525234], [0.04643952037447686, 0.6809282814098045, 0.03347193372480323], [0.05415465129728467, 0.6594667419844051, 0.03263030025144814], [0.027726384834270826, 0.6940968753592746, 0.032905508208553313]]\n",
      "[[2.072886525816891, 0.4808872801953352, (0.14876576408783546, 0.038921623577965046, -0.697762978654339)], [-2.761086276477428, 0.5779019369622452, (-0.029367281893526494, 0.1903153928240602, -0.9355297966700428)], [-2.1962813670341257, 0.7631795980707291, (0.307948947097126, 0.08939929372118507, -0.9141703130121743)], [-2.7726331073839363, 0.5779019369622452, (-0.15487141264161633, 0.25481111270834045, -0.6162894512926604)]]\n",
      "[] [] []\n",
      "[('h', 0), ('h', 1), ('h', 2), ('h', 3)]\n",
      "started 19\n",
      "dsag\n",
      "19\n",
      "[[0.046173075048642986, 0.6809408023808191, 0.033509292351799225], [0.053851588483307476, 0.6597007318389858, 0.03262480003482521], [0.023597911312840704, 0.6939267480863354, 0.034097132172416056], [0.04687746244983531, 0.73168959306744, 0.033545441743140336]]\n",
      "[[-2.9242992226667717, 0.5144513130590272, (-0.19111318826361637, 0.2853913892993932, -0.8937093583982193)], [-2.0736395377227574, 0.7631795980707291, (0.3990046123823507, -0.14809698263078938, -0.8156168305223626)], [-2.734845581863822, 0.6904464570546918, (0.034442623769403075, 0.011590556021896377, -0.4062892214307402)], [-1.2490457723982544, 0.6640461628266843, (-0.16053504751761183, 0.16018786752497732, -0.4599808368341388)]]\n",
      "[] [] []\n",
      "[('h', 0), ('h', 1), ('h', 2), ('h', 3)]\n",
      "started 20\n",
      "dsag\n",
      "20\n",
      "[[0.02355842722048292, 0.6947410127142165, 0.03407631577434944], [0.05850505101510786, 0.6585358897588638, 0.032488849088748106], [0.04717053619641954, 0.7317224433918827, 0.033555247583487824], [0.09285971838060587, 0.7308427996906427, 0.029918383768462176]]\n",
      "[[-2.7976235338664317, 0.7399748839758711, (0.07427072568540359, -0.05191907458788279, -0.4692190220341643)], [0.5743048301747017, 0.7399748839758711, (-0.3140375457706123, 0.08543703837678841, -0.9035603897447241)], [-1.3045442776439713, 0.6904464570546918, (-0.050707468973295054, 0.17027798926445925, -0.6006568697940554)], [1.6220334941983154, 0.8465463260467494, (-0.6374014534584367, -0.018632485809407115, -0.5191915071403541)]]\n",
      "[] [] []\n",
      "[('h', 0), ('h', 1), ('h', 2), ('h', 3)]\n",
      "started 21\n",
      "dsag\n",
      "21\n",
      "[[0.05852773482408825, 0.6585367874643426, 0.03249808011095229], [0.04705018079766314, 0.7319603171284057, 0.03253370813041906], [0.09259877407845861, 0.7308150570180979, 0.029940923649953544]]\n",
      "[[0.7853981633974483, 0.7631795980707291, (-0.3197896839640309, 0.03468956274554486, -0.9203351382363756)], [-1.237552025683224, 0.6640461628266843, (0.23539408790439562, 0.15589232225733313, -0.8381529625757995)], [2.8375917142496485, 0.7399748839758711, (-0.6635936111832396, -0.07762537710729708, -0.5063767850041491)]]\n",
      "[] [] []\n",
      "[('h', 0), ('h', 1), ('h', 2)]\n",
      "started 22\n",
      "dsag\n"
     ]
    },
    {
     "name": "stdout",
     "output_type": "stream",
     "text": [
      "22\n",
      "[[0.04752290497609681, 0.7314867869368128, 0.03455946691033035], [0.09313109257055992, 0.7308569954958305, 0.029924170134095374]]\n",
      "[[-1.236059489478082, 0.6640461628266843, (-0.08946428544866428, 0.10024677738471732, -0.47930218331584284)], [1.684231318602113, 0.883125070756167, (-0.37241883434267076, 0.02936954683863972, -0.5271932223277177)]]\n",
      "[] [] []\n",
      "[('h', 0), ('h', 1)]\n",
      "started 23\n",
      "dsag\n",
      "23\n",
      "[[0.07011309158998606, 0.7064145175726009, 0.03116181798920803], [0.04967302665140209, 0.6959120765834313, 0.03313293696724956], [0.06214220086590589, 0.7317229461406212, 0.033042411250433446]]\n",
      "[[-1.8157749899217608, 0.7399748839758711, (-0.06094465249466452, -0.2632785606381338, -0.8419238143098267)], [-2.7403638545849445, 0.6365082157879507, (-0.07753252665207114, -0.07630282820593424, -0.6357401023582457)], [-2.2117529118177006, 0.6640461628266843, (-0.047409031104295146, -0.02026824324020189, -0.6219683376775732)]]\n",
      "[] [] []\n",
      "[('h', 0), ('h', 1), ('h', 2)]\n",
      "started 24\n",
      "dsag\n",
      "24\n",
      "[[0.03965772569035936, 0.6904824250493709, 0.02957195120952333], [0.06184937942705367, 0.7325027619272882, 0.03201311337468671]]\n",
      "[[-2.3086113869153615, 0.5779019369622452, (-0.34448923032201867, -0.04743506826331442, -0.5403428516882188)], [-1.9313623272730025, 0.6904464570546918, (0.09876721692266217, 0.0133117274024583, -0.6128730130427503)]]\n",
      "[] [] []\n",
      "[('h', 0), ('h', 1)]\n",
      "started 25\n",
      "dsag\n",
      "25\n",
      "[[0.06160299962064883, 0.7324760695686453, 0.03202956197719159]]\n",
      "[[-1.9777671121636677, 0.7399748839758711, (0.16370407303483175, 0.16542651021311228, -0.6161166407350231)]]\n",
      "[] [] []\n",
      "[('h', 0)]\n",
      "started 26\n",
      "dsag\n",
      "26\n",
      "[[0.052155543814657826, 0.697996113788445, 0.03599180461163903]]\n",
      "[[-2.761086276477428, 0.6640461628266843, (0.05434339089979162, -0.0008212425222660401, -0.6580066742325189)]]\n",
      "[] [] []\n",
      "[('h', 0)]\n",
      "started 27\n",
      "dsag\n",
      "27\n",
      "[]\n",
      "[]\n",
      "[] [] []\n",
      "[]\n"
     ]
    },
    {
     "ename": "IndexError",
     "evalue": "too many indices for array",
     "output_type": "error",
     "traceback": [
      "\u001b[0;31m-----------------------------------------\u001b[0m",
      "\u001b[0;31mIndexError\u001b[0mTraceback (most recent call last)",
      "\u001b[0;32m<ipython-input-49-831a158d4a51>\u001b[0m in \u001b[0;36m<module>\u001b[0;34m()\u001b[0m\n\u001b[1;32m    102\u001b[0m         \u001b[0mpos_y\u001b[0m \u001b[0;34m=\u001b[0m \u001b[0mrob\u001b[0m\u001b[0;34m.\u001b[0m\u001b[0mget_pose\u001b[0m\u001b[0;34m(\u001b[0m\u001b[0;34m)\u001b[0m\u001b[0;34m.\u001b[0m\u001b[0mpos\u001b[0m\u001b[0;34m.\u001b[0m\u001b[0my\u001b[0m\u001b[0;34m-\u001b[0m\u001b[0;36m0.001\u001b[0m\u001b[0;34m\u001b[0m\u001b[0m\n\u001b[1;32m    103\u001b[0m         \u001b[0;32mif\u001b[0m \u001b[0mver_pose_Go_stone_set\u001b[0m \u001b[0;34m==\u001b[0m \u001b[0;34m[\u001b[0m\u001b[0;34m]\u001b[0m\u001b[0;34m:\u001b[0m\u001b[0;34m\u001b[0m\u001b[0m\n\u001b[0;32m--> 104\u001b[0;31m             \u001b[0mmin_height\u001b[0m \u001b[0;34m=\u001b[0m \u001b[0mnp\u001b[0m\u001b[0;34m.\u001b[0m\u001b[0mmin\u001b[0m\u001b[0;34m(\u001b[0m\u001b[0mnp\u001b[0m\u001b[0;34m.\u001b[0m\u001b[0marray\u001b[0m\u001b[0;34m(\u001b[0m\u001b[0mhori_pose_Go_stone_set\u001b[0m\u001b[0;34m)\u001b[0m\u001b[0;34m[\u001b[0m\u001b[0;34m:\u001b[0m\u001b[0;34m,\u001b[0m\u001b[0;36m2\u001b[0m\u001b[0;34m]\u001b[0m\u001b[0;34m)\u001b[0m\u001b[0;34m\u001b[0m\u001b[0m\n\u001b[0m\u001b[1;32m    105\u001b[0m         \u001b[0;32melif\u001b[0m \u001b[0mhori_pose_Go_stone_set\u001b[0m \u001b[0;34m==\u001b[0m \u001b[0;34m[\u001b[0m\u001b[0;34m]\u001b[0m\u001b[0;34m:\u001b[0m\u001b[0;34m\u001b[0m\u001b[0m\n\u001b[1;32m    106\u001b[0m             \u001b[0mmin_height\u001b[0m \u001b[0;34m=\u001b[0m \u001b[0mnp\u001b[0m\u001b[0;34m.\u001b[0m\u001b[0mmin\u001b[0m\u001b[0;34m(\u001b[0m\u001b[0mnp\u001b[0m\u001b[0;34m.\u001b[0m\u001b[0marray\u001b[0m\u001b[0;34m(\u001b[0m\u001b[0mver_pose_Go_stone_set\u001b[0m\u001b[0;34m)\u001b[0m\u001b[0;34m[\u001b[0m\u001b[0;34m:\u001b[0m\u001b[0;34m,\u001b[0m\u001b[0;36m2\u001b[0m\u001b[0;34m]\u001b[0m\u001b[0;34m)\u001b[0m\u001b[0;34m\u001b[0m\u001b[0m\n",
      "\u001b[0;31mIndexError\u001b[0m: too many indices for array"
     ]
    }
   ],
   "source": [
    "def distane_to_bowl_center(point_coordinate):\n",
    "    return sqrt((point_coordinate[0]-0.05)**2+(point_coordinate[1]-0.69)**2)\n",
    "\n",
    "stone_img_count = 0\n",
    "while True:\n",
    "    go_to_safe_place()\n",
    "    servo_pub.publish(10)\n",
    "    Robotiq.goto(robotiq_client, pos=0.023, speed=0.5, force=10, block=True)\n",
    "    rospy.sleep(1)\n",
    "    go_to_home()\n",
    "    rospy.sleep(1)\n",
    "    hori_Go_stone_number = None\n",
    "    ver_Go_stone_number = None\n",
    "    Go_stone_dir_sorted = []\n",
    "    hori_pose_Go_stone_set = []\n",
    "    yaw_pitch_normal_set = []\n",
    "    ver_pose_Go_stone_set = []\n",
    "    gripper_direction_set = []\n",
    "    gripper_aperture_set = []\n",
    "    is_send_stone_img = 1\n",
    "    print 'started', stone_img_count\n",
    "    while True:\n",
    "        if hori_Go_stone_number != None and hori_Go_stone_number == len(yaw_pitch_normal_set) and ver_Go_stone_number != None and ver_Go_stone_number == len(gripper_aperture_set):\n",
    "            break\n",
    "        rospy.sleep(0.1)   \n",
    "    print hori_pose_Go_stone_set\n",
    "    print yaw_pitch_normal_set\n",
    "    print ver_pose_Go_stone_set, gripper_direction_set, gripper_aperture_set\n",
    "    priority_list = []\n",
    "    if ver_pose_Go_stone_set == []:\n",
    "        for index_hori in range(len(hori_pose_Go_stone_set)):\n",
    "            priority_list.append(('h', index_hori))\n",
    "    elif hori_pose_Go_stone_set == []:\n",
    "        for index_ver in range(len(ver_pose_Go_stone_set)):\n",
    "            priority_list.append(('v', index_ver))\n",
    "    else:\n",
    "        for index_hori in range(len(hori_pose_Go_stone_set)):\n",
    "            for index_ver in range(len(ver_pose_Go_stone_set)):\n",
    "                if hori_pose_Go_stone_set[index_hori][2]<=ver_pose_Go_stone_set[index_ver][2]-0.002 and ('v', index_ver) not in priority_list:\n",
    "                    priority_list.append(('v', index_ver))\n",
    "                v_num = 0\n",
    "                for element in priority_list:\n",
    "                    if element[0]=='v':\n",
    "                        v_num+=1\n",
    "                if (v_num == len(ver_pose_Go_stone_set) or hori_pose_Go_stone_set[index_hori][2]>ver_pose_Go_stone_set[index_ver][2]-0.002) and ('h', index_hori) not in priority_list:\n",
    "                    priority_list.append(('h', index_hori))\n",
    "        for index_ver in range(len(ver_pose_Go_stone_set)):\n",
    "            if ('v', index_ver) not in priority_list:\n",
    "                priority_list.append(('v', index_ver))\n",
    "    print priority_list\n",
    "    for index in priority_list:\n",
    "        if index[0]=='v':\n",
    "            if direct_pick_collision_check(index[1])==False and ver_pose_Go_stone_set[index[1]][2]<0.075:\n",
    "                direct_pick_execute(index[1])\n",
    "                go_to_end_place()\n",
    "                rob.translate((0,0,-0.07), acc=0.3, vel=0.8, wait=True)\n",
    "                Robotiq.goto(robotiq_client, pos=0.023, speed=0.5, force=10, block=True)\n",
    "                softtip()\n",
    "                rob.translate((0,0,0.07), acc=0.3, vel=0.8, wait=True)\n",
    "                break\n",
    "        elif index[0]=='h':\n",
    "            if hori_pose_Go_stone_set[index[1]][2]>0.058:\n",
    "                if Point([hori_pose_Go_stone_set[index[1]][0], hori_pose_Go_stone_set[index[1]][1]]).within(Polygon([[0.045+0.05,0.045+0.69], [-0.045+0.05,0.045+0.69], [-0.045+0.05,-0.045+0.69], [0.045+0.05,-0.045+0.69]]))==True:\n",
    "                    if poke_grasp_execute(index[1])==True:\n",
    "                        go_to_end_place()\n",
    "                        rob.translate((0,0,-0.07), acc=0.3, vel=0.8, wait=True)\n",
    "                        Robotiq.goto(robotiq_client, pos=0.023, speed=0.5, force=10, block=True)\n",
    "                        softtip()\n",
    "                        rob.translate((0,0,0.07), acc=0.3, vel=0.8, wait=True)\n",
    "                        break                \n",
    "            elif hori_pose_Go_stone_set[index[1]][2]>0.04:\n",
    "                if scoop_collision_check(index[1])==False:\n",
    "                    scoop_execute2(index[1]) \n",
    "                    go_to_end_place()\n",
    "                    rob.translate((0,0,-0.07), acc=0.3, vel=0.8, wait=True)\n",
    "                    Robotiq.goto(robotiq_client, pos=0.023, speed=0.5, force=10, block=True)\n",
    "                    rospy.sleep(0.5)\n",
    "                    servo_pub.publish(180)\n",
    "                    Robotiq.goto(robotiq_client, pos=0.01, speed=0.5, force=10, block=True)\n",
    "                    rospy.sleep(1)\n",
    "                    servo_pub.publish(10)\n",
    "                    rospy.sleep(1)\n",
    "                    rob.translate((0,0,0.07), acc=0.3, vel=0.8, wait=True)\n",
    "                    break\n",
    "            else:\n",
    "                if scoop_collision_check(index[1])==False:\n",
    "                    scoop_execute(index[1]) \n",
    "                    go_to_end_place()\n",
    "                    rob.translate((0,0,-0.07), acc=0.3, vel=0.8, wait=True)\n",
    "                    Robotiq.goto(robotiq_client, pos=0.023, speed=0.5, force=10, block=True)\n",
    "                    rospy.sleep(0.5)\n",
    "                    servo_pub.publish(180)\n",
    "                    Robotiq.goto(robotiq_client, pos=0.01, speed=0.5, force=10, block=True)\n",
    "                    rospy.sleep(1)\n",
    "                    servo_pub.publish(10)\n",
    "                    rospy.sleep(1)\n",
    "                    rob.translate((0,0,0.07), acc=0.3, vel=0.8, wait=True)\n",
    "                    break\n",
    "    else:\n",
    "        go_to_safe_place()\n",
    "        pos_x = rob.get_pose().pos.x+0.007\n",
    "        pos_y = rob.get_pose().pos.y-0.001\n",
    "        if ver_pose_Go_stone_set == []:\n",
    "            min_height = np.min(np.array(hori_pose_Go_stone_set)[:,2])\n",
    "        elif hori_pose_Go_stone_set == []:\n",
    "            min_height = np.min(np.array(ver_pose_Go_stone_set)[:,2])\n",
    "        else:\n",
    "            min_height = min(np.min(np.array(hori_pose_Go_stone_set)[:,2]), np.min(np.array(ver_pose_Go_stone_set)[:,2]))\n",
    "\n",
    "        if min_height>0.058:\n",
    "            hardtip()\n",
    "            rob.translate((0.05-pos_x+0.05,0.69-pos_y-0.05,0), acc=0.1, vel=0.4, wait=True)\n",
    "            rob.translate((0,0,-0.04), acc=0.1, vel=0.4, wait=True)\n",
    "            rob.translate((0,0.1,0), acc=0.1, vel=0.4, wait=True)\n",
    "            rob.translate((-0.1,0,0), acc=0.1, vel=0.4, wait=True)\n",
    "            rob.translate((0,-0.1,0), acc=0.1, vel=0.4, wait=True)\n",
    "            rob.translate((0.1,0,0), acc=0.1, vel=0.4, wait=True)\n",
    "            rob.translate((0,0,0.04), acc=0.1, vel=0.4, wait=True) \n",
    "        elif min_height>0.053:\n",
    "            hardtip()\n",
    "            rob.translate((0.05-pos_x+0.05,0.69-pos_y-0.05,0), acc=0.1, vel=0.4, wait=True)\n",
    "            rob.translate((0,0,-0.05), acc=0.1, vel=0.4, wait=True)\n",
    "            rob.translate((0,0.1,0), acc=0.1, vel=0.4, wait=True)\n",
    "            rob.translate((-0.1,0,0), acc=0.1, vel=0.4, wait=True)\n",
    "            rob.translate((0,-0.1,0), acc=0.1, vel=0.4, wait=True)\n",
    "            rob.translate((0.1,0,0), acc=0.1, vel=0.4, wait=True)\n",
    "            rob.translate((0,0,0.05), acc=0.1, vel=0.4, wait=True) \n",
    "        elif min_height>0.045:\n",
    "            hardtip()\n",
    "            rob.translate((0.05-pos_x+0.05,0.69-pos_y-0.05,0), acc=0.1, vel=0.4, wait=True)\n",
    "            rob.translate((0,0,-0.06), acc=0.1, vel=0.4, wait=True)\n",
    "            rob.translate((0,0.1,0), acc=0.1, vel=0.4, wait=True)\n",
    "            rob.translate((-0.1,0,0), acc=0.1, vel=0.4, wait=True)\n",
    "            rob.translate((0,-0.1,0), acc=0.1, vel=0.4, wait=True)\n",
    "            rob.translate((0.1,0,0), acc=0.1, vel=0.4, wait=True)\n",
    "            rob.translate((0,0,0.06), acc=0.1, vel=0.4, wait=True) \n",
    "        else:\n",
    "            if hori_pose_Go_stone_set==[]:\n",
    "                hardtip()\n",
    "                rob.translate((0.05-pos_x+0.05,0.69-pos_y-0.05,0), acc=0.1, vel=0.4, wait=True)\n",
    "                rob.translate((0,0,-0.075), acc=0.1, vel=0.4, wait=True)\n",
    "                rob.translate((0,0.1,0), acc=0.1, vel=0.4, wait=True)\n",
    "                rob.translate((-0.1,0,0), acc=0.1, vel=0.4, wait=True)\n",
    "                rob.translate((0,-0.1,0), acc=0.1, vel=0.4, wait=True)\n",
    "                rob.translate((0.1,0,0), acc=0.1, vel=0.4, wait=True)\n",
    "                rob.translate((0,0,0.075), acc=0.01, vel=0.05, wait=True)      \n",
    "            else:\n",
    "                softtip()\n",
    "                servo_pub.publish(100)\n",
    "                for hori_index in range(len(hori_pose_Go_stone_set)):\n",
    "                    alpha = atan2(0.69-hori_pose_Go_stone_set[hori_index][1], 0.05-hori_pose_Go_stone_set[hori_index][0])\n",
    "                    if alpha > pi/2 and alpha<=pi:\n",
    "                        rotate_angle = alpha-3*pi/2\n",
    "                    else:\n",
    "                        rotate_angle = alpha+pi/2\n",
    "                    rob.movel_tool((0,0,0,0,0,-rotate_angle), acc=0.1, vel=0.2, wait=True) \n",
    "                    world2tcp = rob.get_pose()\n",
    "                    world2tcp.pos.x+=0.004\n",
    "                    world2tcp.pos.y-=0.002\n",
    "                    tcp2fingertip=m3d.Transform()\n",
    "                    tcp2fingertip.pos.x = 0\n",
    "                    tcp2fingertip.pos.y = 0  \n",
    "                    tcp2fingertip.pos.z = 0.354\n",
    "                    world2fingertip=(world2tcp*tcp2fingertip)\n",
    "                    coordinate_x = max(hori_pose_Go_stone_set[hori_index][0], 0.008)\n",
    "                    coordinate_y = min(hori_pose_Go_stone_set[hori_index][1], 0.73)\n",
    "                    rob.translate((coordinate_x-world2fingertip.pos.x,coordinate_y-world2fingertip.pos.y,0), acc=0.3, vel=0.8, wait=True)\n",
    "                    rob.movel_tool((0.002,0,0,0,0,0), acc=0.1, vel=0.2, wait=True) \n",
    "                    move_ref_tcp((0,0,0,0,20*pi/180,0), (0.002, 0, 0.354, 0, 0, 0), acc=0.3, vel=0.8, wait=True)\n",
    "                    rob.translate((0, 0, -0.05), acc=0.1, vel=0.3, wait=True)\n",
    "                    rob.translate((0, 0, -0.05), acc=0.001, vel=0.02, wait=False)\n",
    "                    wrench = rospy.wait_for_message('/robotiq_ft_wrench', WrenchStamped, timeout = None)\n",
    "                    ini_wrench = wrench.wrench.force.z\n",
    "                    torque_memory=[]\n",
    "                    while True:\n",
    "                        wrench = rospy.wait_for_message('/robotiq_ft_wrench', WrenchStamped, timeout = None)\n",
    "                        torque_memory.append(wrench.wrench.force.z)\n",
    "                        if len(torque_memory)<9:\n",
    "                            if wrench.wrench.force.z<ini_wrench-5:\n",
    "                                rob.stopl()\n",
    "                                break\n",
    "                        else:\n",
    "                            if wrench.wrench.force.z<max(torque_memory[0:9])-5:\n",
    "                                rob.stopl()\n",
    "                                break \n",
    "                    rob.translate((0.035*cos(alpha), 0.035*sin(alpha), 0), acc=0.1, vel=0.1, wait=True)\n",
    "                    #hardtip()\n",
    "                    rob.translate((0, 0, 0.1), acc=0.3, vel=0.8, wait=True)\n",
    "                    rob.movej((radians(99.10),radians(-91.67), radians(-107.60), radians(-70.72), radians(89.13), radians(-80.76)), 0.3, 0.7)\n",
    "\n",
    "\n",
    "\n",
    "\n",
    "    "
   ]
  },
  {
   "cell_type": "code",
   "execution_count": 18,
   "metadata": {},
   "outputs": [
    {
     "data": {
      "text/plain": [
       "0.0027364395195891046"
      ]
     },
     "execution_count": 18,
     "metadata": {},
     "output_type": "execute_result"
    }
   ],
   "source": [
    "((0.075-0.0718966651961503)+(0.05-0.046564889893759745)+(0.025-0.02220078342174056)+(0.025-0.023391903409992976))/4.0"
   ]
  },
  {
   "cell_type": "code",
   "execution_count": 19,
   "metadata": {
    "scrolled": true
   },
   "outputs": [
    {
     "data": {
      "text/plain": [
       "-0.0023951523765331495"
      ]
     },
     "execution_count": 19,
     "metadata": {},
     "output_type": "execute_result"
    }
   ],
   "source": [
    "((0.675-0.6789133103674956)+(0.675-0.6775789798774251)+(0.7-0.7018433582033123)+(0.65-0.6512449610578996))/4.0"
   ]
  },
  {
   "cell_type": "code",
   "execution_count": 36,
   "metadata": {},
   "outputs": [
    {
     "data": {
      "text/plain": [
       "0.025077646012406384"
      ]
     },
     "execution_count": 36,
     "metadata": {},
     "output_type": "execute_result"
    }
   ],
   "source": [
    "distane_to_bowl_center([0.0743870805100218, 0.6841554612054263, 0.0704211119132574])"
   ]
  },
  {
   "cell_type": "code",
   "execution_count": 21,
   "metadata": {},
   "outputs": [],
   "source": [
    "go_to_end_place()"
   ]
  },
  {
   "cell_type": "code",
   "execution_count": 38,
   "metadata": {},
   "outputs": [
    {
     "name": "stdout",
     "output_type": "stream",
     "text": [
      "3.15285880405\n"
     ]
    }
   ],
   "source": [
    "Robotiq.goto(robotiq_client, pos=0.015, speed=0.1, force=10, block=True)\n",
    "print find_alpha_from_distance(0.01, 0.0125, 0.1, 0.006, 0.02)"
   ]
  },
  {
   "cell_type": "code",
   "execution_count": 33,
   "metadata": {},
   "outputs": [],
   "source": [
    "Robotiq.goto(robotiq_client, pos=0.8, speed=0.1, force=10, block=True)"
   ]
  },
  {
   "cell_type": "code",
   "execution_count": 26,
   "metadata": {},
   "outputs": [
    {
     "name": "stdout",
     "output_type": "stream",
     "text": [
      "<Transform:\n",
      "<Orientation: \n",
      "array([[-0.01293472,  0.99989598,  0.00638194],\n",
      "       [ 0.99991525,  0.01292501,  0.00156054],\n",
      "       [ 0.00147789,  0.00640159, -0.99997842]])>\n",
      "<Vector: (0.04321, 0.54328, 0.33618)>\n",
      ">\n"
     ]
    }
   ],
   "source": [
    "print rob.get_pose()"
   ]
  },
  {
   "cell_type": "code",
   "execution_count": 27,
   "metadata": {},
   "outputs": [],
   "source": [
    "rob.translate((0, 0, -0.01), acc=0.1, vel=0.2, wait=False)"
   ]
  },
  {
   "cell_type": "code",
   "execution_count": 20,
   "metadata": {},
   "outputs": [
    {
     "name": "stderr",
     "output_type": "stream",
     "text": [
      "[WARN] [1601037363.028341]: Inbound TCP/IP connection failed: connection from sender terminated before handshake header received. 0 bytes were received. Please check sender for additional details.\n",
      "[WARN] [1601037959.593556]: Inbound TCP/IP connection failed: connection from sender terminated before handshake header received. 0 bytes were received. Please check sender for additional details.\n",
      "[WARN] [1601039374.566049]: Inbound TCP/IP connection failed: connection from sender terminated before handshake header received. 0 bytes were received. Please check sender for additional details.\n",
      "[WARN] [1601039428.593621]: Inbound TCP/IP connection failed: connection from sender terminated before handshake header received. 0 bytes were received. Please check sender for additional details.\n"
     ]
    }
   ],
   "source": [
    "Robotiq.goto(robotiq_client, pos=40*0.14/48.0+1.12/48.0, speed=0.5, force=10, block=False)"
   ]
  },
  {
   "cell_type": "code",
   "execution_count": 13,
   "metadata": {},
   "outputs": [
    {
     "name": "stdout",
     "output_type": "stream",
     "text": [
      "<Transform:\n",
      "<Orientation: \n",
      "array([[-0.01289458,  0.99989471,  0.0066557 ],\n",
      "       [ 0.99991571,  0.01288417,  0.00160434],\n",
      "       [ 0.00151842,  0.00667583, -0.99997656]])>\n",
      "<Vector: (0.05006, 0.39995, 0.22845)>\n",
      ">\n"
     ]
    }
   ],
   "source": [
    "#rob.movel_tool((0,0,0,0,0,pi),acc=0.1, vel=0.2)\n",
    "pos_x = rob.get_pose().pos.x\n",
    "pos_y = rob.get_pose().pos.y\n",
    "rospy.sleep(0.5)\n",
    "rob.translate((0.05-pos_x,0.4-pos_y,0), acc=0.1, vel=0.4, wait=True)\n",
    "print rob.get_pose()"
   ]
  },
  {
   "cell_type": "code",
   "execution_count": 14,
   "metadata": {},
   "outputs": [],
   "source": [
    "Robotiq.goto(robotiq_client, pos=0.8, speed=0.5, force=10, block=True)"
   ]
  },
  {
   "cell_type": "code",
   "execution_count": 20,
   "metadata": {},
   "outputs": [
    {
     "ename": "KeyboardInterrupt",
     "evalue": "",
     "output_type": "error",
     "traceback": [
      "\u001b[0;31m-----------------------------------------\u001b[0m",
      "\u001b[0;31mKeyboardInterrupt\u001b[0mTraceback (most recent call last)",
      "\u001b[0;32m<ipython-input-20-4a7e4c92aeb6>\u001b[0m in \u001b[0;36m<module>\u001b[0;34m()\u001b[0m\n\u001b[1;32m      7\u001b[0m \u001b[0mrob\u001b[0m\u001b[0;34m.\u001b[0m\u001b[0mmovel_tool\u001b[0m\u001b[0;34m(\u001b[0m\u001b[0;34m(\u001b[0m\u001b[0;36m0\u001b[0m\u001b[0;34m,\u001b[0m\u001b[0;36m0\u001b[0m\u001b[0;34m,\u001b[0m\u001b[0;36m0\u001b[0m\u001b[0;34m,\u001b[0m\u001b[0;36m0\u001b[0m\u001b[0;34m,\u001b[0m\u001b[0;34m-\u001b[0m\u001b[0mpi\u001b[0m\u001b[0;34m/\u001b[0m\u001b[0;36m5\u001b[0m\u001b[0;34m,\u001b[0m\u001b[0;36m0\u001b[0m\u001b[0;34m)\u001b[0m\u001b[0;34m,\u001b[0m\u001b[0macc\u001b[0m\u001b[0;34m=\u001b[0m\u001b[0;36m0.1\u001b[0m\u001b[0;34m,\u001b[0m \u001b[0mvel\u001b[0m\u001b[0;34m=\u001b[0m\u001b[0;36m0.2\u001b[0m\u001b[0;34m)\u001b[0m\u001b[0;34m\u001b[0m\u001b[0m\n\u001b[1;32m      8\u001b[0m \u001b[0mrob\u001b[0m\u001b[0;34m.\u001b[0m\u001b[0mset_tcp\u001b[0m\u001b[0;34m(\u001b[0m\u001b[0;34m(\u001b[0m\u001b[0;36m0.002\u001b[0m\u001b[0;34m,\u001b[0m \u001b[0;36m0\u001b[0m\u001b[0;34m,\u001b[0m \u001b[0;36m0.356\u001b[0m\u001b[0;34m,\u001b[0m \u001b[0;36m0\u001b[0m\u001b[0;34m,\u001b[0m \u001b[0;36m0\u001b[0m\u001b[0;34m,\u001b[0m \u001b[0;36m0\u001b[0m\u001b[0;34m)\u001b[0m\u001b[0;34m)\u001b[0m\u001b[0;34m\u001b[0m\u001b[0m\n\u001b[0;32m----> 9\u001b[0;31m \u001b[0mrospy\u001b[0m\u001b[0;34m.\u001b[0m\u001b[0msleep\u001b[0m\u001b[0;34m(\u001b[0m\u001b[0;36m0.5\u001b[0m\u001b[0;34m)\u001b[0m\u001b[0;34m\u001b[0m\u001b[0m\n\u001b[0m\u001b[1;32m     10\u001b[0m \u001b[0mrob\u001b[0m\u001b[0;34m.\u001b[0m\u001b[0mmovel_tool\u001b[0m\u001b[0;34m(\u001b[0m\u001b[0;34m(\u001b[0m\u001b[0;36m0\u001b[0m\u001b[0;34m,\u001b[0m\u001b[0;36m0\u001b[0m\u001b[0;34m,\u001b[0m\u001b[0;36m0\u001b[0m\u001b[0;34m,\u001b[0m\u001b[0;36m0\u001b[0m\u001b[0;34m,\u001b[0m\u001b[0mpi\u001b[0m\u001b[0;34m/\u001b[0m\u001b[0;36m5\u001b[0m\u001b[0;34m,\u001b[0m\u001b[0;36m0\u001b[0m\u001b[0;34m)\u001b[0m\u001b[0;34m,\u001b[0m\u001b[0macc\u001b[0m\u001b[0;34m=\u001b[0m\u001b[0;36m0.1\u001b[0m\u001b[0;34m,\u001b[0m \u001b[0mvel\u001b[0m\u001b[0;34m=\u001b[0m\u001b[0;36m0.2\u001b[0m\u001b[0;34m)\u001b[0m\u001b[0;34m\u001b[0m\u001b[0m\n\u001b[1;32m     11\u001b[0m \u001b[0mrob\u001b[0m\u001b[0;34m.\u001b[0m\u001b[0mmovel_tool\u001b[0m\u001b[0;34m(\u001b[0m\u001b[0;34m(\u001b[0m\u001b[0;36m0\u001b[0m\u001b[0;34m,\u001b[0m\u001b[0;36m0\u001b[0m\u001b[0;34m,\u001b[0m\u001b[0;36m0\u001b[0m\u001b[0;34m,\u001b[0m\u001b[0;36m0\u001b[0m\u001b[0;34m,\u001b[0m\u001b[0;34m-\u001b[0m\u001b[0mpi\u001b[0m\u001b[0;34m/\u001b[0m\u001b[0;36m5\u001b[0m\u001b[0;34m,\u001b[0m\u001b[0;36m0\u001b[0m\u001b[0;34m)\u001b[0m\u001b[0;34m,\u001b[0m\u001b[0macc\u001b[0m\u001b[0;34m=\u001b[0m\u001b[0;36m0.1\u001b[0m\u001b[0;34m,\u001b[0m \u001b[0mvel\u001b[0m\u001b[0;34m=\u001b[0m\u001b[0;36m0.2\u001b[0m\u001b[0;34m)\u001b[0m\u001b[0;34m\u001b[0m\u001b[0m\n",
      "\u001b[0;32m/opt/ros/kinetic/lib/python2.7/dist-packages/rospy/timer.pyc\u001b[0m in \u001b[0;36msleep\u001b[0;34m(duration)\u001b[0m\n\u001b[1;32m    132\u001b[0m             \u001b[0;32mreturn\u001b[0m\u001b[0;34m\u001b[0m\u001b[0m\n\u001b[1;32m    133\u001b[0m         \u001b[0;32melse\u001b[0m\u001b[0;34m:\u001b[0m\u001b[0;34m\u001b[0m\u001b[0m\n\u001b[0;32m--> 134\u001b[0;31m             \u001b[0mrospy\u001b[0m\u001b[0;34m.\u001b[0m\u001b[0mrostime\u001b[0m\u001b[0;34m.\u001b[0m\u001b[0mwallsleep\u001b[0m\u001b[0;34m(\u001b[0m\u001b[0mduration\u001b[0m\u001b[0;34m)\u001b[0m\u001b[0;34m\u001b[0m\u001b[0m\n\u001b[0m\u001b[1;32m    135\u001b[0m     \u001b[0;32melse\u001b[0m\u001b[0;34m:\u001b[0m\u001b[0;34m\u001b[0m\u001b[0m\n\u001b[1;32m    136\u001b[0m         \u001b[0minitial_rostime\u001b[0m \u001b[0;34m=\u001b[0m \u001b[0mrospy\u001b[0m\u001b[0;34m.\u001b[0m\u001b[0mrostime\u001b[0m\u001b[0;34m.\u001b[0m\u001b[0mget_rostime\u001b[0m\u001b[0;34m(\u001b[0m\u001b[0;34m)\u001b[0m\u001b[0;34m\u001b[0m\u001b[0m\n",
      "\u001b[0;32m/opt/ros/kinetic/lib/python2.7/dist-packages/rospy/rostime.pyc\u001b[0m in \u001b[0;36mwallsleep\u001b[0;34m(duration)\u001b[0m\n\u001b[1;32m    275\u001b[0m             \u001b[0;32mpass\u001b[0m\u001b[0;34m\u001b[0m\u001b[0m\n\u001b[1;32m    276\u001b[0m     \u001b[0;32melse\u001b[0m\u001b[0;34m:\u001b[0m\u001b[0;34m\u001b[0m\u001b[0m\n\u001b[0;32m--> 277\u001b[0;31m         \u001b[0mtime\u001b[0m\u001b[0;34m.\u001b[0m\u001b[0msleep\u001b[0m\u001b[0;34m(\u001b[0m\u001b[0mduration\u001b[0m\u001b[0;34m)\u001b[0m\u001b[0;34m\u001b[0m\u001b[0m\n\u001b[0m",
      "\u001b[0;31mKeyboardInterrupt\u001b[0m: "
     ]
    }
   ],
   "source": [
    "go_to_safe_place()\n",
    "Robotiq.goto(robotiq_client, pos=0.023, speed=0.5, force=10, block=True)\n",
    "\n",
    "rob.set_tcp((0, 0, 0, 0, 0, 0))\n",
    "rospy.sleep(0.5)\n",
    "rob.movel_tool((0,0,0,0,pi/5,0),acc=0.1, vel=0.2)\n",
    "rob.movel_tool((0,0,0,0,-pi/5,0),acc=0.1, vel=0.2)\n",
    "rob.set_tcp((0.002, 0, 0.356, 0, 0, 0))\n",
    "rospy.sleep(0.5)\n",
    "rob.movel_tool((0,0,0,0,pi/5,0),acc=0.1, vel=0.2)\n",
    "rob.movel_tool((0,0,0,0,-pi/5,0),acc=0.1, vel=0.2)\n",
    "rob.set_tcp((0, 0, 0, 0, 0, 0))\n",
    "rospy.sleep(0.5)\n",
    "rob.movel_tool((0,0,0,0,pi/5,0),acc=0.1, vel=0.2)\n",
    "rob.movel_tool((0,0,0,0,-pi/5,0),acc=0.1, vel=0.2)"
   ]
  },
  {
   "cell_type": "code",
   "execution_count": 25,
   "metadata": {},
   "outputs": [
    {
     "data": {
      "text/plain": [
       "<Transform:\n",
       "<Orientation: \n",
       "array([[-0.01305109,  0.99989524,  0.00625989],\n",
       "       [ 0.99991361,  0.01304105,  0.00164169],\n",
       "       [ 0.00155988,  0.00628078, -0.99997906]])>\n",
       "<Vector: (0.04293, 0.85097, 0.45825)>\n",
       ">"
      ]
     },
     "execution_count": 25,
     "metadata": {},
     "output_type": "execute_result"
    }
   ],
   "source": [
    "go_to_safe_place()\n",
    "softtip()\n",
    "Robotiq.goto(robotiq_client, pos=0.023, speed=0.1, force=10, block=True)\n",
    "servo_pub.publish(10)    \n",
    "pos_x = rob.get_pose().pos.x+0.007\n",
    "pos_y = rob.get_pose().pos.y-0.001\n",
    "rospy.sleep(0.5)\n",
    "rob.translate((0.05-pos_x,0.85-pos_y,0), acc=0.1, vel=0.4, wait=True)"
   ]
  },
  {
   "cell_type": "code",
   "execution_count": 9,
   "metadata": {},
   "outputs": [
    {
     "data": {
      "text/plain": [
       "<Transform:\n",
       "<Orientation: \n",
       "array([[-0.01308933,  0.99989511,  0.00619996],\n",
       "       [ 0.99991303,  0.01307907,  0.00169334],\n",
       "       [ 0.00161207,  0.00622159, -0.99997935]])>\n",
       "<Vector: (0.04282, 0.80750, 0.45825)>\n",
       ">"
      ]
     },
     "execution_count": 9,
     "metadata": {},
     "output_type": "execute_result"
    }
   ],
   "source": [
    "go_to_safe_place()\n",
    "hardtip()\n",
    "Robotiq.goto(robotiq_client, pos=0.023, speed=0.1, force=10, block=True)\n",
    "servo_pub.publish(10)    \n",
    "pos_x = rob.get_pose().pos.x+0.007\n",
    "pos_y = rob.get_pose().pos.y-0.001\n",
    "rospy.sleep(0.5)\n",
    "rob.translate((0.05-pos_x,0.85-pos_y,0), acc=0.1, vel=0.4, wait=True)\n",
    "rob.movel_tool((0,0,0,0,0,0),acc=0.1, vel=0.2)\n",
    "rob.translate_tool((0.0065,0,0),acc=0.1, vel=0.2)"
   ]
  },
  {
   "cell_type": "code",
   "execution_count": 5,
   "metadata": {},
   "outputs": [
    {
     "name": "stdout",
     "output_type": "stream",
     "text": [
      "(-3 <= x) & (x < 3)\n",
      "0.0127120018005\n"
     ]
    }
   ],
   "source": [
    "from sympy import symbols, solve\n",
    "import time\n",
    "time0 = time.time()\n",
    "x = symbols('x')\n",
    "f1 = 2 * x + 6 - 7 * x + 9\n",
    "f2 = 2 * (4 * x + 2) - 5 * (x - 1)\n",
    "print solve([f1 > 0, f2 >= 0])\n",
    "print time.time()-time0"
   ]
  },
  {
   "cell_type": "code",
   "execution_count": 22,
   "metadata": {},
   "outputs": [],
   "source": [
    "Robotiq.goto(robotiq_client, pos=0.75*0.012+0.0095, speed=0.1, force=10, block=True)\n",
    "softtip()"
   ]
  },
  {
   "cell_type": "code",
   "execution_count": 32,
   "metadata": {},
   "outputs": [],
   "source": [
    "for i in range(1,24):\n",
    "    servo_pub.publish(round(150-72/11*i))\n",
    "    rob.translate_tool((0,0,0.001), acc=0.1, vel=0.2, wait=True) "
   ]
  },
  {
   "cell_type": "code",
   "execution_count": 37,
   "metadata": {},
   "outputs": [
    {
     "name": "stdout",
     "output_type": "stream",
     "text": [
      "<Transform:\n",
      "<Orientation: \n",
      "array([[-0.01294484,  0.99989614,  0.00633607],\n",
      "       [ 0.99991511,  0.01293516,  0.00156607],\n",
      "       [ 0.00148395,  0.0063558 , -0.9999787 ]])>\n",
      "<Vector: (0.04309, 0.85098, 0.02115)>\n",
      ">\n"
     ]
    }
   ],
   "source": [
    "print rob.get_pose()"
   ]
  },
  {
   "cell_type": "code",
   "execution_count": 80,
   "metadata": {},
   "outputs": [
    {
     "name": "stderr",
     "output_type": "stream",
     "text": [
      "Exception in thread Thread-9:\n",
      "Traceback (most recent call last):\n",
      "  File \"/home/terry/anaconda3/envs/ros_control/lib/python2.7/threading.py\", line 801, in __bootstrap_inner\n",
      "    self.run()\n",
      "  File \"/home/terry/anaconda3/envs/ros_control/lib/python2.7/site-packages/urx/ursecmon.py\", line 291, in run\n",
      "    data = self._get_data()\n",
      "  File \"/home/terry/anaconda3/envs/ros_control/lib/python2.7/site-packages/urx/ursecmon.py\", line 338, in _get_data\n",
      "    tmp = self._s_secondary.recv(1024)\n",
      "timeout: timed out\n",
      "\n"
     ]
    }
   ],
   "source": [
    "Robotiq.goto(robotiq_client, pos=0.8, speed=0.1, force=10, block=True)"
   ]
  },
  {
   "cell_type": "code",
   "execution_count": 63,
   "metadata": {},
   "outputs": [],
   "source": [
    "hardtip()"
   ]
  },
  {
   "cell_type": "code",
   "execution_count": 33,
   "metadata": {},
   "outputs": [],
   "source": [
    "rob.set_tcp((0, 0.003, 0.356, 0, 0, 0))\n",
    "rospy.sleep(0.5)\n",
    "rob.movel_tool((0,0,0,0,0,-pi), acc=0.1, vel=0.2, wait=True)"
   ]
  },
  {
   "cell_type": "code",
   "execution_count": 31,
   "metadata": {},
   "outputs": [
    {
     "data": {
      "text/plain": [
       "<Transform:\n",
       "<Orientation: \n",
       "array([[-0.01285569,  0.99989838,  0.00616087],\n",
       "       [ 0.99991533,  0.01284299,  0.0020968 ],\n",
       "       [ 0.00201746,  0.0061873 , -0.99997882]])>\n",
       "<Vector: (0.04492, 0.80199, 0.39054)>\n",
       ">"
      ]
     },
     "execution_count": 31,
     "metadata": {},
     "output_type": "execute_result"
    }
   ],
   "source": [
    "go_to_safe_place()\n",
    "rob.set_tcp((0.002, 0, 0.356, 0, 0, 0))\n",
    "rospy.sleep(0.5)\n",
    "rob.movel_tool((0,0,0,0,0,0*pi/180), acc=0.1, vel=0.2, wait=True)\n",
    "#if np.cross([fingertip2normal[0], fingertip2normal[1]], [-sin(alpha), cos(alpha)])>0:\n",
    "#rob.movel_tool((0,0,0,0,-20*pi/180,0), acc=0.1, vel=0.2, wait=True)\n",
    "rob.set_tcp((0, 0, 0, 0, 0, 0))\n",
    "rospy.sleep(0.5)\n",
    "softtip()\n",
    "#go_to_safe_place()\n",
    "servo_pub.publish(100)\n",
    "tcp2fingertip=m3d.Transform()\n",
    "tcp2fingertip.pos.x = 0\n",
    "tcp2fingertip.pos.y = 0  \n",
    "tcp2fingertip.pos.z = 0.356\n",
    "world2tcp = rob.get_pose()\n",
    "world2tcp.pos.x+=0.005\n",
    "world2tcp.pos.y-=0.002\n",
    "world2tcp.orient=np.array([[0,1,0],[1,0,0],[0,0,-1]])\n",
    "world2fingertip=(world2tcp*tcp2fingertip)\n",
    "rob.translate((0.05-world2fingertip.pos.x,0.8-world2fingertip.pos.y,0), acc=0.1, vel=0.4, wait=True)\n",
    "rob.translate((0,0,-0.068), acc=0.1, vel=0.4, wait=True)\n"
   ]
  },
  {
   "cell_type": "code",
   "execution_count": 71,
   "metadata": {},
   "outputs": [
    {
     "name": "stdout",
     "output_type": "stream",
     "text": [
      "<Transform:\n",
      "<Orientation: \n",
      "array([[ 0.99989078,  0.01345517,  0.00611427],\n",
      "       [ 0.01344501, -0.99990817,  0.00170076],\n",
      "       [ 0.0061366 , -0.00161837, -0.99997986]])>\n",
      "<Vector: (0.04980, 0.79797, 0.39029)>\n",
      "> <Transform:\n",
      "<Orientation: \n",
      "array([[ 0.99989078,  0.01345517,  0.00611427],\n",
      "       [ 0.01344501, -0.99990817,  0.00170076],\n",
      "       [ 0.0061366 , -0.00161837, -0.99997986]])>\n",
      "<Vector: (0.05398, 0.79860, 0.03431)>\n",
      "> <Transform:\n",
      "<Orientation: \n",
      "array([[1., 0., 0.],\n",
      "       [0., 1., 0.],\n",
      "       [0., 0., 1.]])>\n",
      "<Vector: (0.00200, 0.00000, 0.35600)>\n",
      ">\n"
     ]
    }
   ],
   "source": [
    "tcp2fingertip=m3d.Transform()\n",
    "tcp2fingertip.pos.x = 0.002\n",
    "tcp2fingertip.pos.y = 0   \n",
    "tcp2fingertip.pos.z = 0.356\n",
    "world2tcp = rob.get_pose()\n",
    "world2tcp.pos.x+=0.008\n",
    "world2tcp.pos.y-=0.001\n",
    "world2fingertip=(world2tcp*tcp2fingertip)\n",
    "print world2tcp, world2fingertip, tcp2fingertip"
   ]
  },
  {
   "cell_type": "code",
   "execution_count": 73,
   "metadata": {},
   "outputs": [
    {
     "name": "stdout",
     "output_type": "stream",
     "text": [
      "<Transform:\n",
      "<Orientation: \n",
      "array([[-0.01293961,  0.99989677,  0.00624669],\n",
      "       [ 0.9999151 ,  0.01292975,  0.00161633],\n",
      "       [ 0.0015354 ,  0.00626707, -0.99997918]])>\n",
      "<Vector: (0.04318, 0.54331, 0.45826)>\n",
      ">\n"
     ]
    }
   ],
   "source": [
    "print rob.get_pose()"
   ]
  },
  {
   "cell_type": "code",
   "execution_count": 28,
   "metadata": {},
   "outputs": [],
   "source": [
    "go_to_safe_place()"
   ]
  },
  {
   "cell_type": "code",
   "execution_count": 33,
   "metadata": {},
   "outputs": [
    {
     "data": {
      "text/plain": [
       "'\\nRobotiq.goto(robotiq_client, pos=0.01, speed=0.5, force=10, block=True)\\nrospy.sleep(1)\\nservo_pub.publish(10)\\nrospy.sleep(1)\\n'"
      ]
     },
     "execution_count": 33,
     "metadata": {},
     "output_type": "execute_result"
    }
   ],
   "source": [
    "Robotiq.goto(robotiq_client, pos=0.023, speed=0.5, force=10, block=True)\n",
    "servo_pub.publish(170)\n",
    "softtip()\n",
    "rospy.sleep(1)\n",
    "'''\n",
    "Robotiq.goto(robotiq_client, pos=0.01, speed=0.5, force=10, block=True)\n",
    "rospy.sleep(1)\n",
    "servo_pub.publish(10)\n",
    "rospy.sleep(1)\n",
    "'''"
   ]
  },
  {
   "cell_type": "code",
   "execution_count": 65,
   "metadata": {},
   "outputs": [],
   "source": [
    "Robotiq.goto(robotiq_client, pos=0.8, speed=0.5, force=10, block=True)\n",
    "rospy.sleep(1)"
   ]
  },
  {
   "cell_type": "code",
   "execution_count": 32,
   "metadata": {},
   "outputs": [],
   "source": [
    "servo_pub.publish(10)"
   ]
  },
  {
   "cell_type": "code",
   "execution_count": 53,
   "metadata": {},
   "outputs": [],
   "source": [
    "rob.set_tcp((-0.002, 0, 0.356, 0, 0, 0))\n",
    "rospy.sleep(0.5)\n",
    "rob.movel_tool((0,0,0,0,30*pi/180,0), acc=0.1, vel=0.2, wait=True)"
   ]
  },
  {
   "cell_type": "code",
   "execution_count": 13,
   "metadata": {},
   "outputs": [
    {
     "name": "stdout",
     "output_type": "stream",
     "text": [
      "6.79492950439e-05\n"
     ]
    }
   ],
   "source": []
  },
  {
   "cell_type": "code",
   "execution_count": 26,
   "metadata": {},
   "outputs": [
    {
     "data": {
      "text/plain": [
       "<Transform:\n",
       "<Orientation: \n",
       "array([[-0.01328703,  0.99989138,  0.00637776],\n",
       "       [ 0.99991118,  0.0132801 ,  0.00112777],\n",
       "       [ 0.00104295,  0.00639218, -0.99997903]])>\n",
       "<Vector: (0.06282, 0.67096, 0.45798)>\n",
       ">"
      ]
     },
     "execution_count": 26,
     "metadata": {},
     "output_type": "execute_result"
    }
   ],
   "source": [
    "go_to_safe_place()\n",
    "pos_x = rob.get_pose().pos.x+0.007\n",
    "pos_y = rob.get_pose().pos.y-0.001\n",
    "rob.translate((0.05-pos_x+0.02,0.69-pos_y-0.02,0), acc=0.1, vel=0.4, wait=True)\n",
    "rob.translate((0,0,-0.06), acc=0.1, vel=0.4, wait=True)\n",
    "rob.translate((0,0.04,0), acc=0.1, vel=0.4, wait=True)\n",
    "rob.translate((-0.04,0,0), acc=0.1, vel=0.4, wait=True)\n",
    "rob.translate((0,-0.04,0), acc=0.1, vel=0.4, wait=True)\n",
    "rob.translate((0.04,0,0), acc=0.1, vel=0.4, wait=True)\n",
    "rob.translate((0,0,0.06), acc=0.1, vel=0.4, wait=True)  "
   ]
  },
  {
   "cell_type": "code",
   "execution_count": 37,
   "metadata": {},
   "outputs": [
    {
     "data": {
      "text/plain": [
       "<Transform:\n",
       "<Orientation: \n",
       "array([[-0.01329421,  0.99989335,  0.00604565],\n",
       "       [ 0.99990707,  0.01327565,  0.00310065],\n",
       "       [ 0.00302006,  0.00608631, -0.99997692]])>\n",
       "<Vector: (0.07290, 0.66112, 0.45890)>\n",
       ">"
      ]
     },
     "execution_count": 37,
     "metadata": {},
     "output_type": "execute_result"
    }
   ],
   "source": [
    "        hardtip()\n",
    "        go_to_safe_place()\n",
    "        pos_x = rob.get_pose().pos.x+0.007\n",
    "        pos_y = rob.get_pose().pos.y-0.001\n",
    "\n",
    "        rob.translate((0.05-pos_x+0.03,0.69-pos_y-0.03,0), acc=0.1, vel=0.4, wait=True)\n",
    "        rob.translate((0,0,-0.075), acc=0.1, vel=0.4, wait=True)\n",
    "        rob.translate((0,0.06,0), acc=0.1, vel=0.4, wait=True)\n",
    "        rob.translate((-0.06,0,0), acc=0.1, vel=0.4, wait=True)\n",
    "        rob.translate((0,-0.06,0), acc=0.1, vel=0.4, wait=True)\n",
    "        rob.translate((0.06,0,0), acc=0.1, vel=0.4, wait=True)\n",
    "        rob.translate((0,0,0.075), acc=0.01, vel=0.05, wait=True)     \n"
   ]
  },
  {
   "cell_type": "code",
   "execution_count": 26,
   "metadata": {},
   "outputs": [],
   "source": [
    "go_to_safe_place()"
   ]
  },
  {
   "cell_type": "code",
   "execution_count": 27,
   "metadata": {},
   "outputs": [],
   "source": [
    "go_to_home()"
   ]
  },
  {
   "cell_type": "code",
   "execution_count": 44,
   "metadata": {},
   "outputs": [
    {
     "name": "stdout",
     "output_type": "stream",
     "text": [
      "0.035883569954526295\n"
     ]
    }
   ],
   "source": [
    "print np.max(np.array(hori_pose_Go_stone_set)[:,2])"
   ]
  },
  {
   "cell_type": "code",
   "execution_count": 43,
   "metadata": {},
   "outputs": [
    {
     "ename": "IndexError",
     "evalue": "too many indices for array",
     "output_type": "error",
     "traceback": [
      "\u001b[0;31m-----------------------------------------\u001b[0m",
      "\u001b[0;31mIndexError\u001b[0mTraceback (most recent call last)",
      "\u001b[0;32m<ipython-input-43-83457d0eadd0>\u001b[0m in \u001b[0;36m<module>\u001b[0;34m()\u001b[0m\n\u001b[0;32m----> 1\u001b[0;31m \u001b[0mnp\u001b[0m\u001b[0;34m.\u001b[0m\u001b[0mmax\u001b[0m\u001b[0;34m(\u001b[0m\u001b[0mnp\u001b[0m\u001b[0;34m.\u001b[0m\u001b[0marray\u001b[0m\u001b[0;34m(\u001b[0m\u001b[0mver_pose_Go_stone_set\u001b[0m\u001b[0;34m)\u001b[0m\u001b[0;34m[\u001b[0m\u001b[0;34m:\u001b[0m\u001b[0;34m,\u001b[0m\u001b[0;36m2\u001b[0m\u001b[0;34m]\u001b[0m\u001b[0;34m)\u001b[0m\u001b[0;34m\u001b[0m\u001b[0m\n\u001b[0m",
      "\u001b[0;31mIndexError\u001b[0m: too many indices for array"
     ]
    }
   ],
   "source": []
  },
  {
   "cell_type": "code",
   "execution_count": 22,
   "metadata": {},
   "outputs": [],
   "source": [
    "Robotiq.goto(robotiq_client, pos=5*0.14/48.0+1.12/48.0, speed=0.1, force=10, block=True)"
   ]
  },
  {
   "cell_type": "code",
   "execution_count": 12,
   "metadata": {},
   "outputs": [],
   "source": [
    "servo_pub = rospy.Publisher('servo1', UInt16, queue_size=10)\n",
    "for current_finger_length in np.arange(0,135,1):\n",
    "    servo_pub.publish(current_finger_length)\n",
    "    rospy.sleep(0.02) #need change"
   ]
  },
  {
   "cell_type": "code",
   "execution_count": 28,
   "metadata": {},
   "outputs": [],
   "source": [
    "rob.set_tcp((-0.021, 0, 0.342, 0, 0, 0))\n",
    "rospy.sleep(0.5)\n",
    "#if np.cross([fingertip2normal[0], fingertip2normal[1]], [-sin(alpha), cos(alpha)])>0:\n",
    "rob.movel_tool((0,0,0,0,pi/6,0), acc=0.3, vel=0.8, wait=True)\n",
    "rob.movel_tool((0,0,0,0,-pi/6,0), acc=0.3, vel=0.8, wait=True)\n",
    "rob.set_tcp((0, 0, 0, 0, 0, 0))\n",
    "rospy.sleep(0.5)"
   ]
  },
  {
   "cell_type": "code",
   "execution_count": 34,
   "metadata": {},
   "outputs": [
    {
     "name": "stdout",
     "output_type": "stream",
     "text": [
      "hard_fingertip_position [0.05393207309979217, 0.7060688410464139]\n"
     ]
    },
    {
     "data": {
      "text/plain": [
       "<Transform:\n",
       "<Orientation: \n",
       "array([[-0.01286919,  0.99989759,  0.00626029],\n",
       "       [ 0.99991591,  0.01285892,  0.00167886],\n",
       "       [ 0.00159819,  0.00628137, -0.99997899]])>\n",
       "<Vector: (0.04747, 0.87057, 0.39035)>\n",
       ">"
      ]
     },
     "execution_count": 34,
     "metadata": {},
     "output_type": "execute_result"
    }
   ],
   "source": [
    "go_to_safe_place()\n",
    "Robotiq.goto(robotiq_client, pos=5*0.14/48.0+1.12/48.0, speed=0.1, force=10, block=True)\n",
    "servo_pub.publish(0)\n",
    "rob.movel_tool((0,0,0,0,0,0),acc=0.1, vel=0.2)\n",
    "tcp2fingertip=m3d.Transform()\n",
    "tcp2fingertip.pos.x = -0.021 # need change\n",
    "tcp2fingertip.pos.z = 0.342 # need change\n",
    "world2tcp = rob.get_pose()\n",
    "world2tcp.pos.x+=0\n",
    "world2tcp.pos.y-=0\n",
    "world2fingertip=(world2tcp*tcp2fingertip)\n",
    "rob.translate((0.05-world2fingertip.pos.x,0.85-world2fingertip.pos.y,0), acc=0.3, vel=0.8, wait=True)\n",
    "rob.translate((0,0,-0.068), acc=0.1, vel=0.4, wait=True)\n"
   ]
  },
  {
   "cell_type": "code",
   "execution_count": 63,
   "metadata": {},
   "outputs": [
    {
     "ename": "KeyboardInterrupt",
     "evalue": "",
     "output_type": "error",
     "traceback": [
      "\u001b[0;31m-----------------------------------------\u001b[0m",
      "\u001b[0;31mKeyboardInterrupt\u001b[0mTraceback (most recent call last)",
      "\u001b[0;32m<ipython-input-63-e1e991047713>\u001b[0m in \u001b[0;36m<module>\u001b[0;34m()\u001b[0m\n\u001b[1;32m      3\u001b[0m \u001b[0mpos_y\u001b[0m \u001b[0;34m=\u001b[0m \u001b[0mrob\u001b[0m\u001b[0;34m.\u001b[0m\u001b[0mget_pose\u001b[0m\u001b[0;34m(\u001b[0m\u001b[0;34m)\u001b[0m\u001b[0;34m.\u001b[0m\u001b[0mpos\u001b[0m\u001b[0;34m.\u001b[0m\u001b[0my\u001b[0m\u001b[0;34m-\u001b[0m\u001b[0;36m0.001\u001b[0m\u001b[0;34m\u001b[0m\u001b[0m\n\u001b[1;32m      4\u001b[0m \u001b[0mhardtip\u001b[0m\u001b[0;34m(\u001b[0m\u001b[0;34m)\u001b[0m\u001b[0;34m\u001b[0m\u001b[0m\n\u001b[0;32m----> 5\u001b[0;31m \u001b[0mrob\u001b[0m\u001b[0;34m.\u001b[0m\u001b[0mtranslate\u001b[0m\u001b[0;34m(\u001b[0m\u001b[0;34m(\u001b[0m\u001b[0;36m0.05\u001b[0m\u001b[0;34m-\u001b[0m\u001b[0mpos_x\u001b[0m\u001b[0;34m+\u001b[0m\u001b[0;36m0.048\u001b[0m\u001b[0;34m,\u001b[0m\u001b[0;36m0.69\u001b[0m\u001b[0;34m-\u001b[0m\u001b[0mpos_y\u001b[0m\u001b[0;34m,\u001b[0m\u001b[0;36m0\u001b[0m\u001b[0;34m)\u001b[0m\u001b[0;34m,\u001b[0m \u001b[0macc\u001b[0m\u001b[0;34m=\u001b[0m\u001b[0;36m0.3\u001b[0m\u001b[0;34m,\u001b[0m \u001b[0mvel\u001b[0m\u001b[0;34m=\u001b[0m\u001b[0;36m0.8\u001b[0m\u001b[0;34m,\u001b[0m \u001b[0mwait\u001b[0m\u001b[0;34m=\u001b[0m\u001b[0mTrue\u001b[0m\u001b[0;34m)\u001b[0m\u001b[0;34m\u001b[0m\u001b[0m\n\u001b[0m\u001b[1;32m      6\u001b[0m \u001b[0mrob\u001b[0m\u001b[0;34m.\u001b[0m\u001b[0mtranslate\u001b[0m\u001b[0;34m(\u001b[0m\u001b[0;34m(\u001b[0m\u001b[0;36m0\u001b[0m\u001b[0;34m,\u001b[0m\u001b[0;36m0\u001b[0m\u001b[0;34m,\u001b[0m\u001b[0;34m-\u001b[0m\u001b[0;36m0.075\u001b[0m\u001b[0;34m)\u001b[0m\u001b[0;34m,\u001b[0m \u001b[0macc\u001b[0m\u001b[0;34m=\u001b[0m\u001b[0;36m0.1\u001b[0m\u001b[0;34m,\u001b[0m \u001b[0mvel\u001b[0m\u001b[0;34m=\u001b[0m\u001b[0;36m0.4\u001b[0m\u001b[0;34m,\u001b[0m \u001b[0mwait\u001b[0m\u001b[0;34m=\u001b[0m\u001b[0mTrue\u001b[0m\u001b[0;34m)\u001b[0m\u001b[0;34m\u001b[0m\u001b[0m\n\u001b[1;32m      7\u001b[0m \u001b[0;32mfor\u001b[0m \u001b[0mi\u001b[0m \u001b[0;32min\u001b[0m \u001b[0mrange\u001b[0m\u001b[0;34m(\u001b[0m\u001b[0;36m36\u001b[0m\u001b[0;34m)\u001b[0m\u001b[0;34m:\u001b[0m\u001b[0;34m\u001b[0m\u001b[0m\n",
      "\u001b[0;32m/home/terry/anaconda3/envs/ros_control/lib/python2.7/site-packages/urx/urrobot.pyc\u001b[0m in \u001b[0;36mtranslate\u001b[0;34m(self, vect, acc, vel, wait, command)\u001b[0m\n\u001b[1;32m    427\u001b[0m         \u001b[0mp\u001b[0m\u001b[0;34m[\u001b[0m\u001b[0;36m1\u001b[0m\u001b[0;34m]\u001b[0m \u001b[0;34m+=\u001b[0m \u001b[0mvect\u001b[0m\u001b[0;34m[\u001b[0m\u001b[0;36m1\u001b[0m\u001b[0;34m]\u001b[0m\u001b[0;34m\u001b[0m\u001b[0m\n\u001b[1;32m    428\u001b[0m         \u001b[0mp\u001b[0m\u001b[0;34m[\u001b[0m\u001b[0;36m2\u001b[0m\u001b[0;34m]\u001b[0m \u001b[0;34m+=\u001b[0m \u001b[0mvect\u001b[0m\u001b[0;34m[\u001b[0m\u001b[0;36m2\u001b[0m\u001b[0;34m]\u001b[0m\u001b[0;34m\u001b[0m\u001b[0m\n\u001b[0;32m--> 429\u001b[0;31m         \u001b[0;32mreturn\u001b[0m \u001b[0mself\u001b[0m\u001b[0;34m.\u001b[0m\u001b[0mmovex\u001b[0m\u001b[0;34m(\u001b[0m\u001b[0mcommand\u001b[0m\u001b[0;34m,\u001b[0m \u001b[0mp\u001b[0m\u001b[0;34m,\u001b[0m \u001b[0mvel\u001b[0m\u001b[0;34m=\u001b[0m\u001b[0mvel\u001b[0m\u001b[0;34m,\u001b[0m \u001b[0macc\u001b[0m\u001b[0;34m=\u001b[0m\u001b[0macc\u001b[0m\u001b[0;34m,\u001b[0m \u001b[0mwait\u001b[0m\u001b[0;34m=\u001b[0m\u001b[0mwait\u001b[0m\u001b[0;34m)\u001b[0m\u001b[0;34m\u001b[0m\u001b[0m\n\u001b[0m\u001b[1;32m    430\u001b[0m \u001b[0;34m\u001b[0m\u001b[0m\n\u001b[1;32m    431\u001b[0m     \u001b[0;32mdef\u001b[0m \u001b[0mup\u001b[0m\u001b[0;34m(\u001b[0m\u001b[0mself\u001b[0m\u001b[0;34m,\u001b[0m \u001b[0mz\u001b[0m\u001b[0;34m=\u001b[0m\u001b[0;36m0.05\u001b[0m\u001b[0;34m,\u001b[0m \u001b[0macc\u001b[0m\u001b[0;34m=\u001b[0m\u001b[0;36m0.01\u001b[0m\u001b[0;34m,\u001b[0m \u001b[0mvel\u001b[0m\u001b[0;34m=\u001b[0m\u001b[0;36m0.01\u001b[0m\u001b[0;34m)\u001b[0m\u001b[0;34m:\u001b[0m\u001b[0;34m\u001b[0m\u001b[0m\n",
      "\u001b[0;32m/home/terry/anaconda3/envs/ros_control/lib/python2.7/site-packages/urx/robot.pyc\u001b[0m in \u001b[0;36mmovex\u001b[0;34m(self, command, pose, acc, vel, wait, relative, threshold)\u001b[0m\n\u001b[1;32m    178\u001b[0m             \u001b[0;32mreturn\u001b[0m \u001b[0mself\u001b[0m\u001b[0;34m.\u001b[0m\u001b[0madd_pose_base\u001b[0m\u001b[0;34m(\u001b[0m\u001b[0mt\u001b[0m\u001b[0;34m,\u001b[0m \u001b[0macc\u001b[0m\u001b[0;34m,\u001b[0m \u001b[0mvel\u001b[0m\u001b[0;34m,\u001b[0m \u001b[0mwait\u001b[0m\u001b[0;34m=\u001b[0m\u001b[0mwait\u001b[0m\u001b[0;34m,\u001b[0m \u001b[0mcommand\u001b[0m\u001b[0;34m=\u001b[0m\u001b[0mcommand\u001b[0m\u001b[0;34m,\u001b[0m \u001b[0mthreshold\u001b[0m\u001b[0;34m=\u001b[0m\u001b[0mthreshold\u001b[0m\u001b[0;34m)\u001b[0m\u001b[0;34m\u001b[0m\u001b[0m\n\u001b[1;32m    179\u001b[0m         \u001b[0;32melse\u001b[0m\u001b[0;34m:\u001b[0m\u001b[0;34m\u001b[0m\u001b[0m\n\u001b[0;32m--> 180\u001b[0;31m             \u001b[0;32mreturn\u001b[0m \u001b[0mself\u001b[0m\u001b[0;34m.\u001b[0m\u001b[0mset_pose\u001b[0m\u001b[0;34m(\u001b[0m\u001b[0mt\u001b[0m\u001b[0;34m,\u001b[0m \u001b[0macc\u001b[0m\u001b[0;34m,\u001b[0m \u001b[0mvel\u001b[0m\u001b[0;34m,\u001b[0m \u001b[0mwait\u001b[0m\u001b[0;34m=\u001b[0m\u001b[0mwait\u001b[0m\u001b[0;34m,\u001b[0m \u001b[0mcommand\u001b[0m\u001b[0;34m=\u001b[0m\u001b[0mcommand\u001b[0m\u001b[0;34m,\u001b[0m \u001b[0mthreshold\u001b[0m\u001b[0;34m=\u001b[0m\u001b[0mthreshold\u001b[0m\u001b[0;34m)\u001b[0m\u001b[0;34m\u001b[0m\u001b[0m\n\u001b[0m\u001b[1;32m    181\u001b[0m \u001b[0;34m\u001b[0m\u001b[0m\n\u001b[1;32m    182\u001b[0m     \u001b[0;32mdef\u001b[0m \u001b[0mmovexs\u001b[0m\u001b[0;34m(\u001b[0m\u001b[0mself\u001b[0m\u001b[0;34m,\u001b[0m \u001b[0mcommand\u001b[0m\u001b[0;34m,\u001b[0m \u001b[0mpose_list\u001b[0m\u001b[0;34m,\u001b[0m \u001b[0macc\u001b[0m\u001b[0;34m=\u001b[0m\u001b[0;36m0.01\u001b[0m\u001b[0;34m,\u001b[0m \u001b[0mvel\u001b[0m\u001b[0;34m=\u001b[0m\u001b[0;36m0.01\u001b[0m\u001b[0;34m,\u001b[0m \u001b[0mradius\u001b[0m\u001b[0;34m=\u001b[0m\u001b[0;36m0.01\u001b[0m\u001b[0;34m,\u001b[0m \u001b[0mwait\u001b[0m\u001b[0;34m=\u001b[0m\u001b[0mTrue\u001b[0m\u001b[0;34m,\u001b[0m \u001b[0mthreshold\u001b[0m\u001b[0;34m=\u001b[0m\u001b[0mNone\u001b[0m\u001b[0;34m)\u001b[0m\u001b[0;34m:\u001b[0m\u001b[0;34m\u001b[0m\u001b[0m\n",
      "\u001b[0;32m/home/terry/anaconda3/envs/ros_control/lib/python2.7/site-packages/urx/robot.pyc\u001b[0m in \u001b[0;36mset_pose\u001b[0;34m(self, trans, acc, vel, wait, command, threshold)\u001b[0m\n\u001b[1;32m    103\u001b[0m         \u001b[0mself\u001b[0m\u001b[0;34m.\u001b[0m\u001b[0mlogger\u001b[0m\u001b[0;34m.\u001b[0m\u001b[0mdebug\u001b[0m\u001b[0;34m(\u001b[0m\u001b[0;34m\"Setting pose to %s\"\u001b[0m\u001b[0;34m,\u001b[0m \u001b[0mtrans\u001b[0m\u001b[0;34m.\u001b[0m\u001b[0mpose_vector\u001b[0m\u001b[0;34m)\u001b[0m\u001b[0;34m\u001b[0m\u001b[0m\n\u001b[1;32m    104\u001b[0m         \u001b[0mt\u001b[0m \u001b[0;34m=\u001b[0m \u001b[0mself\u001b[0m\u001b[0;34m.\u001b[0m\u001b[0mcsys\u001b[0m \u001b[0;34m*\u001b[0m \u001b[0mtrans\u001b[0m\u001b[0;34m\u001b[0m\u001b[0m\n\u001b[0;32m--> 105\u001b[0;31m         \u001b[0mpose\u001b[0m \u001b[0;34m=\u001b[0m \u001b[0mURRobot\u001b[0m\u001b[0;34m.\u001b[0m\u001b[0mmovex\u001b[0m\u001b[0;34m(\u001b[0m\u001b[0mself\u001b[0m\u001b[0;34m,\u001b[0m \u001b[0mcommand\u001b[0m\u001b[0;34m,\u001b[0m \u001b[0mt\u001b[0m\u001b[0;34m.\u001b[0m\u001b[0mpose_vector\u001b[0m\u001b[0;34m,\u001b[0m \u001b[0macc\u001b[0m\u001b[0;34m=\u001b[0m\u001b[0macc\u001b[0m\u001b[0;34m,\u001b[0m \u001b[0mvel\u001b[0m\u001b[0;34m=\u001b[0m\u001b[0mvel\u001b[0m\u001b[0;34m,\u001b[0m \u001b[0mwait\u001b[0m\u001b[0;34m=\u001b[0m\u001b[0mwait\u001b[0m\u001b[0;34m,\u001b[0m \u001b[0mthreshold\u001b[0m\u001b[0;34m=\u001b[0m\u001b[0mthreshold\u001b[0m\u001b[0;34m)\u001b[0m\u001b[0;34m\u001b[0m\u001b[0m\n\u001b[0m\u001b[1;32m    106\u001b[0m         \u001b[0;32mif\u001b[0m \u001b[0mpose\u001b[0m \u001b[0;32mis\u001b[0m \u001b[0;32mnot\u001b[0m \u001b[0mNone\u001b[0m\u001b[0;34m:\u001b[0m\u001b[0;34m\u001b[0m\u001b[0m\n\u001b[1;32m    107\u001b[0m             \u001b[0;32mreturn\u001b[0m \u001b[0mself\u001b[0m\u001b[0;34m.\u001b[0m\u001b[0mcsys\u001b[0m\u001b[0;34m.\u001b[0m\u001b[0minverse\u001b[0m \u001b[0;34m*\u001b[0m \u001b[0mm3d\u001b[0m\u001b[0;34m.\u001b[0m\u001b[0mTransform\u001b[0m\u001b[0;34m(\u001b[0m\u001b[0mpose\u001b[0m\u001b[0;34m)\u001b[0m\u001b[0;34m\u001b[0m\u001b[0m\n",
      "\u001b[0;32m/home/terry/anaconda3/envs/ros_control/lib/python2.7/site-packages/urx/urrobot.pyc\u001b[0m in \u001b[0;36mmovex\u001b[0;34m(self, command, tpose, acc, vel, wait, relative, threshold)\u001b[0m\n\u001b[1;32m    314\u001b[0m         \u001b[0mself\u001b[0m\u001b[0;34m.\u001b[0m\u001b[0msend_program\u001b[0m\u001b[0;34m(\u001b[0m\u001b[0mprog\u001b[0m\u001b[0;34m)\u001b[0m\u001b[0;34m\u001b[0m\u001b[0m\n\u001b[1;32m    315\u001b[0m         \u001b[0;32mif\u001b[0m \u001b[0mwait\u001b[0m\u001b[0;34m:\u001b[0m\u001b[0;34m\u001b[0m\u001b[0m\n\u001b[0;32m--> 316\u001b[0;31m             \u001b[0mself\u001b[0m\u001b[0;34m.\u001b[0m\u001b[0m_wait_for_move\u001b[0m\u001b[0;34m(\u001b[0m\u001b[0mtpose\u001b[0m\u001b[0;34m[\u001b[0m\u001b[0;34m:\u001b[0m\u001b[0;36m6\u001b[0m\u001b[0;34m]\u001b[0m\u001b[0;34m,\u001b[0m \u001b[0mthreshold\u001b[0m\u001b[0;34m=\u001b[0m\u001b[0mthreshold\u001b[0m\u001b[0;34m)\u001b[0m\u001b[0;34m\u001b[0m\u001b[0m\n\u001b[0m\u001b[1;32m    317\u001b[0m             \u001b[0;32mreturn\u001b[0m \u001b[0mself\u001b[0m\u001b[0;34m.\u001b[0m\u001b[0mgetl\u001b[0m\u001b[0;34m(\u001b[0m\u001b[0;34m)\u001b[0m\u001b[0;34m\u001b[0m\u001b[0m\n\u001b[1;32m    318\u001b[0m \u001b[0;34m\u001b[0m\u001b[0m\n",
      "\u001b[0;32m/home/terry/anaconda3/envs/ros_control/lib/python2.7/site-packages/urx/urrobot.pyc\u001b[0m in \u001b[0;36m_wait_for_move\u001b[0;34m(self, target, threshold, timeout, joints)\u001b[0m\n\u001b[1;32m    206\u001b[0m         \"\"\"\n\u001b[1;32m    207\u001b[0m         \u001b[0mself\u001b[0m\u001b[0;34m.\u001b[0m\u001b[0mlogger\u001b[0m\u001b[0;34m.\u001b[0m\u001b[0mdebug\u001b[0m\u001b[0;34m(\u001b[0m\u001b[0;34m\"Waiting for move completion using threshold %s and target %s\"\u001b[0m\u001b[0;34m,\u001b[0m \u001b[0mthreshold\u001b[0m\u001b[0;34m,\u001b[0m \u001b[0mtarget\u001b[0m\u001b[0;34m)\u001b[0m\u001b[0;34m\u001b[0m\u001b[0m\n\u001b[0;32m--> 208\u001b[0;31m         \u001b[0mstart_dist\u001b[0m \u001b[0;34m=\u001b[0m \u001b[0mself\u001b[0m\u001b[0;34m.\u001b[0m\u001b[0m_get_dist\u001b[0m\u001b[0;34m(\u001b[0m\u001b[0mtarget\u001b[0m\u001b[0;34m,\u001b[0m \u001b[0mjoints\u001b[0m\u001b[0;34m)\u001b[0m\u001b[0;34m\u001b[0m\u001b[0m\n\u001b[0m\u001b[1;32m    209\u001b[0m         \u001b[0;32mif\u001b[0m \u001b[0mthreshold\u001b[0m \u001b[0;32mis\u001b[0m \u001b[0mNone\u001b[0m\u001b[0;34m:\u001b[0m\u001b[0;34m\u001b[0m\u001b[0m\n\u001b[1;32m    210\u001b[0m             \u001b[0mthreshold\u001b[0m \u001b[0;34m=\u001b[0m \u001b[0mstart_dist\u001b[0m \u001b[0;34m*\u001b[0m \u001b[0;36m0.8\u001b[0m\u001b[0;34m\u001b[0m\u001b[0m\n",
      "\u001b[0;32m/home/terry/anaconda3/envs/ros_control/lib/python2.7/site-packages/urx/urrobot.pyc\u001b[0m in \u001b[0;36m_get_dist\u001b[0;34m(self, target, joints)\u001b[0m\n\u001b[1;32m    232\u001b[0m             \u001b[0;32mreturn\u001b[0m \u001b[0mself\u001b[0m\u001b[0;34m.\u001b[0m\u001b[0m_get_joints_dist\u001b[0m\u001b[0;34m(\u001b[0m\u001b[0mtarget\u001b[0m\u001b[0;34m)\u001b[0m\u001b[0;34m\u001b[0m\u001b[0m\n\u001b[1;32m    233\u001b[0m         \u001b[0;32melse\u001b[0m\u001b[0;34m:\u001b[0m\u001b[0;34m\u001b[0m\u001b[0m\n\u001b[0;32m--> 234\u001b[0;31m             \u001b[0;32mreturn\u001b[0m \u001b[0mself\u001b[0m\u001b[0;34m.\u001b[0m\u001b[0m_get_lin_dist\u001b[0m\u001b[0;34m(\u001b[0m\u001b[0mtarget\u001b[0m\u001b[0;34m)\u001b[0m\u001b[0;34m\u001b[0m\u001b[0m\n\u001b[0m\u001b[1;32m    235\u001b[0m \u001b[0;34m\u001b[0m\u001b[0m\n\u001b[1;32m    236\u001b[0m     \u001b[0;32mdef\u001b[0m \u001b[0m_get_lin_dist\u001b[0m\u001b[0;34m(\u001b[0m\u001b[0mself\u001b[0m\u001b[0;34m,\u001b[0m \u001b[0mtarget\u001b[0m\u001b[0;34m)\u001b[0m\u001b[0;34m:\u001b[0m\u001b[0;34m\u001b[0m\u001b[0m\n",
      "\u001b[0;32m/home/terry/anaconda3/envs/ros_control/lib/python2.7/site-packages/urx/robot.pyc\u001b[0m in \u001b[0;36m_get_lin_dist\u001b[0;34m(self, target)\u001b[0m\n\u001b[1;32m     29\u001b[0m \u001b[0;34m\u001b[0m\u001b[0m\n\u001b[1;32m     30\u001b[0m     \u001b[0;32mdef\u001b[0m \u001b[0m_get_lin_dist\u001b[0m\u001b[0;34m(\u001b[0m\u001b[0mself\u001b[0m\u001b[0;34m,\u001b[0m \u001b[0mtarget\u001b[0m\u001b[0;34m)\u001b[0m\u001b[0;34m:\u001b[0m\u001b[0;34m\u001b[0m\u001b[0m\n\u001b[0;32m---> 31\u001b[0;31m         \u001b[0mpose\u001b[0m \u001b[0;34m=\u001b[0m \u001b[0mURRobot\u001b[0m\u001b[0;34m.\u001b[0m\u001b[0mgetl\u001b[0m\u001b[0;34m(\u001b[0m\u001b[0mself\u001b[0m\u001b[0;34m,\u001b[0m \u001b[0mwait\u001b[0m\u001b[0;34m=\u001b[0m\u001b[0mTrue\u001b[0m\u001b[0;34m)\u001b[0m\u001b[0;34m\u001b[0m\u001b[0m\n\u001b[0m\u001b[1;32m     32\u001b[0m         \u001b[0mtarget\u001b[0m \u001b[0;34m=\u001b[0m \u001b[0mm3d\u001b[0m\u001b[0;34m.\u001b[0m\u001b[0mTransform\u001b[0m\u001b[0;34m(\u001b[0m\u001b[0mtarget\u001b[0m\u001b[0;34m)\u001b[0m\u001b[0;34m\u001b[0m\u001b[0m\n\u001b[1;32m     33\u001b[0m         \u001b[0mpose\u001b[0m \u001b[0;34m=\u001b[0m \u001b[0mm3d\u001b[0m\u001b[0;34m.\u001b[0m\u001b[0mTransform\u001b[0m\u001b[0;34m(\u001b[0m\u001b[0mpose\u001b[0m\u001b[0;34m)\u001b[0m\u001b[0;34m\u001b[0m\u001b[0m\n",
      "\u001b[0;32m/home/terry/anaconda3/envs/ros_control/lib/python2.7/site-packages/urx/urrobot.pyc\u001b[0m in \u001b[0;36mgetl\u001b[0;34m(self, wait, _log)\u001b[0m\n\u001b[1;32m    321\u001b[0m         \u001b[0mget\u001b[0m \u001b[0mTCP\u001b[0m \u001b[0mposition\u001b[0m\u001b[0;34m\u001b[0m\u001b[0m\n\u001b[1;32m    322\u001b[0m         \"\"\"\n\u001b[0;32m--> 323\u001b[0;31m         \u001b[0mpose\u001b[0m \u001b[0;34m=\u001b[0m \u001b[0mself\u001b[0m\u001b[0;34m.\u001b[0m\u001b[0msecmon\u001b[0m\u001b[0;34m.\u001b[0m\u001b[0mget_cartesian_info\u001b[0m\u001b[0;34m(\u001b[0m\u001b[0mwait\u001b[0m\u001b[0;34m)\u001b[0m\u001b[0;34m\u001b[0m\u001b[0m\n\u001b[0m\u001b[1;32m    324\u001b[0m         \u001b[0;32mif\u001b[0m \u001b[0mpose\u001b[0m\u001b[0;34m:\u001b[0m\u001b[0;34m\u001b[0m\u001b[0m\n\u001b[1;32m    325\u001b[0m             \u001b[0mpose\u001b[0m \u001b[0;34m=\u001b[0m \u001b[0;34m[\u001b[0m\u001b[0mpose\u001b[0m\u001b[0;34m[\u001b[0m\u001b[0;34m\"X\"\u001b[0m\u001b[0;34m]\u001b[0m\u001b[0;34m,\u001b[0m \u001b[0mpose\u001b[0m\u001b[0;34m[\u001b[0m\u001b[0;34m\"Y\"\u001b[0m\u001b[0;34m]\u001b[0m\u001b[0;34m,\u001b[0m \u001b[0mpose\u001b[0m\u001b[0;34m[\u001b[0m\u001b[0;34m\"Z\"\u001b[0m\u001b[0;34m]\u001b[0m\u001b[0;34m,\u001b[0m \u001b[0mpose\u001b[0m\u001b[0;34m[\u001b[0m\u001b[0;34m\"Rx\"\u001b[0m\u001b[0;34m]\u001b[0m\u001b[0;34m,\u001b[0m \u001b[0mpose\u001b[0m\u001b[0;34m[\u001b[0m\u001b[0;34m\"Ry\"\u001b[0m\u001b[0;34m]\u001b[0m\u001b[0;34m,\u001b[0m \u001b[0mpose\u001b[0m\u001b[0;34m[\u001b[0m\u001b[0;34m\"Rz\"\u001b[0m\u001b[0;34m]\u001b[0m\u001b[0;34m]\u001b[0m\u001b[0;34m\u001b[0m\u001b[0m\n",
      "\u001b[0;32m/home/terry/anaconda3/envs/ros_control/lib/python2.7/site-packages/urx/ursecmon.pyc\u001b[0m in \u001b[0;36mget_cartesian_info\u001b[0;34m(self, wait)\u001b[0m\n\u001b[1;32m    351\u001b[0m     \u001b[0;32mdef\u001b[0m \u001b[0mget_cartesian_info\u001b[0m\u001b[0;34m(\u001b[0m\u001b[0mself\u001b[0m\u001b[0;34m,\u001b[0m \u001b[0mwait\u001b[0m\u001b[0;34m=\u001b[0m\u001b[0mFalse\u001b[0m\u001b[0;34m)\u001b[0m\u001b[0;34m:\u001b[0m\u001b[0;34m\u001b[0m\u001b[0m\n\u001b[1;32m    352\u001b[0m         \u001b[0;32mif\u001b[0m \u001b[0mwait\u001b[0m\u001b[0;34m:\u001b[0m\u001b[0;34m\u001b[0m\u001b[0m\n\u001b[0;32m--> 353\u001b[0;31m             \u001b[0mself\u001b[0m\u001b[0;34m.\u001b[0m\u001b[0mwait\u001b[0m\u001b[0;34m(\u001b[0m\u001b[0;34m)\u001b[0m\u001b[0;34m\u001b[0m\u001b[0m\n\u001b[0m\u001b[1;32m    354\u001b[0m         \u001b[0;32mwith\u001b[0m \u001b[0mself\u001b[0m\u001b[0;34m.\u001b[0m\u001b[0m_dictLock\u001b[0m\u001b[0;34m:\u001b[0m\u001b[0;34m\u001b[0m\u001b[0m\n\u001b[1;32m    355\u001b[0m             \u001b[0;32mif\u001b[0m \u001b[0;34m\"CartesianInfo\"\u001b[0m \u001b[0;32min\u001b[0m \u001b[0mself\u001b[0m\u001b[0;34m.\u001b[0m\u001b[0m_dict\u001b[0m\u001b[0;34m:\u001b[0m\u001b[0;34m\u001b[0m\u001b[0m\n",
      "\u001b[0;32m/home/terry/anaconda3/envs/ros_control/lib/python2.7/site-packages/urx/ursecmon.pyc\u001b[0m in \u001b[0;36mwait\u001b[0;34m(self, timeout)\u001b[0m\n\u001b[1;32m    345\u001b[0m         \u001b[0mtstamp\u001b[0m \u001b[0;34m=\u001b[0m \u001b[0mself\u001b[0m\u001b[0;34m.\u001b[0m\u001b[0mlastpacket_timestamp\u001b[0m\u001b[0;34m\u001b[0m\u001b[0m\n\u001b[1;32m    346\u001b[0m         \u001b[0;32mwith\u001b[0m \u001b[0mself\u001b[0m\u001b[0;34m.\u001b[0m\u001b[0m_dataEvent\u001b[0m\u001b[0;34m:\u001b[0m\u001b[0;34m\u001b[0m\u001b[0m\n\u001b[0;32m--> 347\u001b[0;31m             \u001b[0mself\u001b[0m\u001b[0;34m.\u001b[0m\u001b[0m_dataEvent\u001b[0m\u001b[0;34m.\u001b[0m\u001b[0mwait\u001b[0m\u001b[0;34m(\u001b[0m\u001b[0mtimeout\u001b[0m\u001b[0;34m)\u001b[0m\u001b[0;34m\u001b[0m\u001b[0m\n\u001b[0m\u001b[1;32m    348\u001b[0m             \u001b[0;32mif\u001b[0m \u001b[0mtstamp\u001b[0m \u001b[0;34m==\u001b[0m \u001b[0mself\u001b[0m\u001b[0;34m.\u001b[0m\u001b[0mlastpacket_timestamp\u001b[0m\u001b[0;34m:\u001b[0m\u001b[0;34m\u001b[0m\u001b[0m\n\u001b[1;32m    349\u001b[0m                 \u001b[0;32mraise\u001b[0m \u001b[0mTimeoutException\u001b[0m\u001b[0;34m(\u001b[0m\u001b[0;34m\"Did not receive a valid data packet from robot in {}\"\u001b[0m\u001b[0;34m.\u001b[0m\u001b[0mformat\u001b[0m\u001b[0;34m(\u001b[0m\u001b[0mtimeout\u001b[0m\u001b[0;34m)\u001b[0m\u001b[0;34m)\u001b[0m\u001b[0;34m\u001b[0m\u001b[0m\n",
      "\u001b[0;32m/home/terry/anaconda3/envs/ros_control/lib/python2.7/threading.pyc\u001b[0m in \u001b[0;36mwait\u001b[0;34m(self, timeout)\u001b[0m\n\u001b[1;32m    357\u001b[0m                         \u001b[0;32mbreak\u001b[0m\u001b[0;34m\u001b[0m\u001b[0m\n\u001b[1;32m    358\u001b[0m                     \u001b[0mdelay\u001b[0m \u001b[0;34m=\u001b[0m \u001b[0mmin\u001b[0m\u001b[0;34m(\u001b[0m\u001b[0mdelay\u001b[0m \u001b[0;34m*\u001b[0m \u001b[0;36m2\u001b[0m\u001b[0;34m,\u001b[0m \u001b[0mremaining\u001b[0m\u001b[0;34m,\u001b[0m \u001b[0;36m.05\u001b[0m\u001b[0;34m)\u001b[0m\u001b[0;34m\u001b[0m\u001b[0m\n\u001b[0;32m--> 359\u001b[0;31m                     \u001b[0m_sleep\u001b[0m\u001b[0;34m(\u001b[0m\u001b[0mdelay\u001b[0m\u001b[0;34m)\u001b[0m\u001b[0;34m\u001b[0m\u001b[0m\n\u001b[0m\u001b[1;32m    360\u001b[0m                 \u001b[0;32mif\u001b[0m \u001b[0;32mnot\u001b[0m \u001b[0mgotit\u001b[0m\u001b[0;34m:\u001b[0m\u001b[0;34m\u001b[0m\u001b[0m\n\u001b[1;32m    361\u001b[0m                     \u001b[0;32mif\u001b[0m \u001b[0m__debug__\u001b[0m\u001b[0;34m:\u001b[0m\u001b[0;34m\u001b[0m\u001b[0m\n",
      "\u001b[0;31mKeyboardInterrupt\u001b[0m: "
     ]
    }
   ],
   "source": []
  },
  {
   "cell_type": "code",
   "execution_count": 37,
   "metadata": {},
   "outputs": [],
   "source": [
    "            Robotiq.goto(robotiq_client, pos=(-5-1)*0.14/48.0+1.12/48.0, speed=0.2, force=10, block=False)\n"
   ]
  },
  {
   "cell_type": "code",
   "execution_count": 45,
   "metadata": {},
   "outputs": [],
   "source": [
    "go_to_end_place()"
   ]
  },
  {
   "cell_type": "code",
   "execution_count": null,
   "metadata": {},
   "outputs": [],
   "source": []
  }
 ],
 "metadata": {
  "celltoolbar": "Slideshow",
  "kernelspec": {
   "display_name": "Python 2",
   "language": "python",
   "name": "python2"
  },
  "language_info": {
   "codemirror_mode": {
    "name": "ipython",
    "version": 2
   },
   "file_extension": ".py",
   "mimetype": "text/x-python",
   "name": "python",
   "nbconvert_exporter": "python",
   "pygments_lexer": "ipython2",
   "version": "2.7.18"
  }
 },
 "nbformat": 4,
 "nbformat_minor": 2
}
