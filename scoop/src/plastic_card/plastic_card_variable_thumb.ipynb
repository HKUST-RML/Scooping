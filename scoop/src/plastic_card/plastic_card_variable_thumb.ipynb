{
 "cells": [
  {
   "cell_type": "code",
   "execution_count": 1,
   "metadata": {
    "scrolled": true
   },
   "outputs": [],
   "source": [
    "#!/usr/bin/env python\n",
    "import os\n",
    "import sys\n",
    "import rospy\n",
    "import copy\n",
    "import tf\n",
    "import cv2\n",
    "from cv_bridge import CvBridge, CvBridgeError\n",
    "import numpy as np\n",
    "import std_msgs.msg\n",
    "from std_msgs.msg import UInt16, String\n",
    "import geometry_msgs.msg\n",
    "from math import *\n",
    "from numpy.linalg import inv\n",
    "import scipy.io\n",
    "from mat4py import loadmat\n",
    "import actionlib\n",
    "from robotiq_2f_gripper_msgs.msg import CommandRobotiqGripperFeedback, CommandRobotiqGripperResult, CommandRobotiqGripperAction, CommandRobotiqGripperGoal\n",
    "from robotiq_2f_gripper_control.robotiq_2f_gripper_driver import Robotiq2FingerGripperDriver as Robotiq\n",
    "from scoop.msg import plastic_card_pose\n",
    "from sensor_msgs.msg import Image, CameraInfo\n",
    "import message_filters\n",
    "from visualization_msgs.msg import Marker\n",
    "from visualization_msgs.msg import MarkerArray\n",
    "from geometry_msgs.msg import Point\n",
    "import random\n",
    "import urx\n",
    "import math3d as m3d\n",
    "import logging\n",
    "import matplotlib.pyplot as plt\n",
    "from geometry_msgs.msg import WrenchStamped\n",
    "import time\n",
    "rospy.init_node('scoop', anonymous=True) #initialize the node\n",
    "\n"
   ]
  },
  {
   "cell_type": "code",
   "execution_count": 2,
   "metadata": {},
   "outputs": [
    {
     "name": "stderr",
     "output_type": "stream",
     "text": [
      "[WARN] [1612186933.084637]: Client test: Starting sending goals\n"
     ]
    }
   ],
   "source": [
    "rospy.logwarn(\"Client test: Starting sending goals\")\n",
    "rob = urx.Robot(\"192.168.1.102\")\n",
    "logging.basicConfig(level=logging.WARN)\n",
    "rob.set_tcp((0, 0, 0, 0, 0, 0))"
   ]
  },
  {
   "cell_type": "code",
   "execution_count": 3,
   "metadata": {},
   "outputs": [
    {
     "data": {
      "text/plain": [
       "True"
      ]
     },
     "execution_count": 3,
     "metadata": {},
     "output_type": "execute_result"
    }
   ],
   "source": [
    "action_name = rospy.get_param('~action_name', 'command_robotiq_action')\n",
    "robotiq_client = actionlib.SimpleActionClient(action_name, CommandRobotiqGripperAction)\n",
    "robotiq_client.wait_for_server()"
   ]
  },
  {
   "cell_type": "code",
   "execution_count": 4,
   "metadata": {},
   "outputs": [],
   "source": [
    "import serial\n",
    "import signal\n",
    "import time\n",
    "\n",
    "serialPort = \"/dev/Arduino\"\n",
    "baudRate = 57600\n",
    "ser = serial.Serial(serialPort, baudRate, timeout=0.5)\n",
    "def myHandler(signum, frame):\n",
    "    pass"
   ]
  },
  {
   "cell_type": "code",
   "execution_count": 5,
   "metadata": {},
   "outputs": [],
   "source": [
    "def go_to_home():\n",
    "    \n",
    "    Hong_joint0 = radians(101.23)\n",
    "    Hong_joint1 = radians(-83.77)\n",
    "    Hong_joint2 = radians(-130.28)\n",
    "    Hong_joint3 = radians(-55.97)\n",
    "    Hong_joint4 = radians(89.33)\n",
    "    Hong_joint5 = radians(-78.73)\n",
    "    \n",
    "    rob.movej((Hong_joint0,Hong_joint1, Hong_joint2, Hong_joint3, Hong_joint4, Hong_joint5), 0.6, 1.5)\n",
    "    \n",
    "def go_to_safe_place():\n",
    "    \n",
    "    Hong_joint0 = radians(101.74)\n",
    "    Hong_joint1 = radians(-76.84)\n",
    "    Hong_joint2 = radians(-120.83)\n",
    "    Hong_joint3 = radians(-72.33)\n",
    "    Hong_joint4 = radians(89.40)\n",
    "    Hong_joint5 = radians(-78.12)\n",
    "    \n",
    "    rob.movej((Hong_joint0,Hong_joint1, Hong_joint2, Hong_joint3, Hong_joint4, Hong_joint5), 0.6, 1.5)\n",
    "    \n",
    "def go_to_end_place():\n",
    "    \n",
    "    Hong_joint0 = radians(106.13)\n",
    "    Hong_joint1 = radians(-60.48)\n",
    "    Hong_joint2 = radians(-130.69)\n",
    "    Hong_joint3 = radians(-78.86)\n",
    "    Hong_joint4 = radians(89.68)\n",
    "    Hong_joint5 = radians(-73.78)\n",
    "    \n",
    "    rob.movej((Hong_joint0,Hong_joint1, Hong_joint2, Hong_joint3, Hong_joint4, Hong_joint5), 0.6, 1.5)"
   ]
  },
  {
   "cell_type": "code",
   "execution_count": 6,
   "metadata": {},
   "outputs": [],
   "source": [
    "def stone_position_in_the_world(pose_x, pose_y, pose_z):\n",
    "    if pose_z==0.0:\n",
    "        return [None, None, None]\n",
    "    while True:\n",
    "        rob.set_tcp((0, 0.0, 0, 0, 0, 0))    \n",
    "        camPstone = np.array([pose_x, pose_y, pose_z, 1])\n",
    "        eeTcam = m3d.Transform()\n",
    "        eeTcam.pos = (0.076173+0.05, -0.0934057-0.03, 0.0074811)\n",
    "        eeTcam_e = tf.transformations.euler_from_quaternion([-0.0143125,0.69183,-0.0012,0.722039], axes='sxyz')\n",
    "        eeTcam.orient.rotate_xb(eeTcam_e[0])\n",
    "        eeTcam.orient.rotate_yb(eeTcam_e[1])\n",
    "        eeTcam.orient.rotate_zb(eeTcam_e[2])\n",
    "        tcpTee = np.array([[0,-1,0,0], [0,0,-1,0], [1,0,0,0], [0,0,0,1]])\n",
    "        eeTstone = np.matmul(eeTcam.get_matrix(), camPstone)\n",
    "        tcpTstone = np.matmul(tcpTee, np.transpose(eeTstone))\n",
    "        worldTstone = np.matmul(rob.get_pose().get_matrix(), tcpTstone)\n",
    "        worldTstone = worldTstone.squeeze().tolist()[0][0:-1]\n",
    "        if worldTstone[2]<0:\n",
    "            continue\n",
    "        else:\n",
    "            return [worldTstone[0]+0.02-0.0006+0.002, worldTstone[1]+0.02148-0.002+0.006-0.005-0.003, worldTstone[2]]"
   ]
  },
  {
   "cell_type": "code",
   "execution_count": 7,
   "metadata": {},
   "outputs": [
    {
     "data": {
      "text/plain": [
       "<rospy.topics.Subscriber at 0x7fde440dd1d0>"
      ]
     },
     "execution_count": 7,
     "metadata": {},
     "output_type": "execute_result"
    }
   ],
   "source": [
    "import json\n",
    "def hori_stone_pose_callback(msg):\n",
    "    global pose_Go_stone_set, Go_stone_number, yaw_pitch_normal_set, hori_box_set, hori_json_error\n",
    "    Go_stone_number = int(msg.Go_stone_number)\n",
    "    if Go_stone_number == 0:\n",
    "        pose_Go_stone_set = []\n",
    "        yaw_pitch_normal_set = []\n",
    "        hori_box_set = []\n",
    "    else:\n",
    "        #try:\n",
    "        if True:\n",
    "            pose_x = msg.x\n",
    "            pose_y = msg.y\n",
    "            pose_z = msg.z\n",
    "            yaw = msg.yaw\n",
    "            pitch = msg.pitch\n",
    "            normal = msg.normal\n",
    "            pose_Go_stone_set.append(stone_position_in_the_world(pose_x, pose_y, pose_z))\n",
    "            yaw_pitch_normal_set.append([yaw,pitch,normal])\n",
    "            box = json.loads(msg.box)\n",
    "            box = [stone_position_in_the_world(box[i][0], box[i][1], pose_z)[0:2] for i in range(len(box))]\n",
    "            hori_box_set.append(box)\n",
    "        #except:\n",
    "            #hori_json_error = True\n",
    "hori_pose_topic = '/plastic_card_pose'\n",
    "rospy.Subscriber(hori_pose_topic, plastic_card_pose, hori_stone_pose_callback)"
   ]
  },
  {
   "cell_type": "code",
   "execution_count": 8,
   "metadata": {},
   "outputs": [],
   "source": [
    "is_send_stone_img = 0\n",
    "stone_img_count = 0\n",
    "bridge = CvBridge()\n",
    "\n",
    "def image_callback(color, a_depth):\n",
    "    global is_send_stone_img, stone_img_count, cv2_img, cv2_depth_img, depth_array\n",
    "    if is_send_stone_img == 1:\n",
    "        print \"dsag\"\n",
    "        img_count_pub = rospy.Publisher('/stone_img_index', String, queue_size=1)\n",
    "        rospy.sleep(0.5)\n",
    "        cv2_img = bridge.imgmsg_to_cv2(color, \"bgr8\")\n",
    "        cv2.imwrite('/home/terry/Mask_RCNN/samples/plastic_card/JPEGImages/'+str(stone_img_count)+'.jpeg', cv2_img)\n",
    "        cv2_depth_img = bridge.imgmsg_to_cv2(a_depth, desired_encoding=\"passthrough\")\n",
    "        depth_array = np.array(cv2_depth_img, dtype=np.float32)\n",
    "        cv2.imwrite('/home/terry/Mask_RCNN/samples/plastic_card/depth/'+str(stone_img_count)+'.jpeg', cv2_depth_img)\n",
    "        np.save('/home/terry/Mask_RCNN/samples/plastic_card/depth/'+str(stone_img_count)+'.npy', depth_array)\n",
    "        img_count_pub.publish(str(stone_img_count))\n",
    "        print str(stone_img_count)\n",
    "        stone_img_count = stone_img_count + 1\n",
    "        is_send_stone_img = 0"
   ]
  },
  {
   "cell_type": "code",
   "execution_count": 9,
   "metadata": {},
   "outputs": [
    {
     "data": {
      "text/plain": [
       "0"
      ]
     },
     "execution_count": 9,
     "metadata": {},
     "output_type": "execute_result"
    }
   ],
   "source": [
    "image_color_sub = message_filters.Subscriber('/camera/color/image_raw', Image)\n",
    "image_aligned_depth_sub = message_filters.Subscriber('/camera/aligned_depth_to_color/image_raw', Image)\n",
    "ts = message_filters.TimeSynchronizer([image_color_sub, image_aligned_depth_sub], 10)\n",
    "ts.registerCallback(image_callback)"
   ]
  },
  {
   "cell_type": "code",
   "execution_count": 10,
   "metadata": {
    "codehighlighter": [
     [
      31,
      32
     ],
     [
      53,
      54
     ],
     [
      74,
      75
     ],
     [
      79,
      80
     ],
     [
      87,
      88
     ],
     [
      88,
      89
     ]
    ]
   },
   "outputs": [],
   "source": [
    "def finger_tip_position_wrt_gripper_frame(alpha, l0, l1, l2l, l2r, flength_l, flength_r):\n",
    "    alpha=alpha*pi/180\n",
    "    left_fingertip_position=[-l0-l1*sin(alpha)+l2l, -l1*cos(alpha)-flength_l]\n",
    "    right_fingertip_position=[l0+l1*sin(alpha)-l2r, -l1*cos(alpha)-flength_r]\n",
    "    return left_fingertip_position, right_fingertip_position\n",
    "\n",
    "def pos_flength_adjust_finger_fixed(current_alpha, next_alpha, theta, l0, l1, l2l, l2r, flength_r):\n",
    "    theta=theta*pi/180\n",
    "    current_flength_l = flength_r - (2*l0+2*l1*sin(current_alpha*pi/180)-l2l-l2r)/tan(theta)\n",
    "    current_left_fingertip_pos_g, current_right_fingertip_pos_g = finger_tip_position_wrt_gripper_frame(current_alpha, l0, l1, l2l, l2r, current_flength_l, flength_r)  \n",
    "    next_left_fingertip_pos_g, next_right_fingertip_pos_g = finger_tip_position_wrt_gripper_frame(next_alpha, l0, l1, l2l, l2r, current_flength_l, flength_r) \n",
    "    traslating_wst_g = [current_right_fingertip_pos_g[0]-next_right_fingertip_pos_g[0], current_right_fingertip_pos_g[1]-next_right_fingertip_pos_g[1]]\n",
    "    traslating_wst_world = np.array([[sin(theta), -cos(theta)], [cos(theta), sin(theta)]]).dot(np.array([[traslating_wst_g[0]], [traslating_wst_g[1]]])).ravel().tolist()\n",
    "    next_left_fingertip_pos_g = [next_left_fingertip_pos_g[0]+traslating_wst_g[0], next_left_fingertip_pos_g[1]+traslating_wst_g[1]]\n",
    "    next_right_fingertip_pos_g = [next_right_fingertip_pos_g[0]+traslating_wst_g[0], next_right_fingertip_pos_g[1]+traslating_wst_g[1]]\n",
    "    extension_distance = -(next_right_fingertip_pos_g[1]+(2*l0+2*l1*sin(next_alpha*pi/180)-l2l-l2r)/tan(theta)-next_left_fingertip_pos_g[1])\n",
    "    return traslating_wst_world, extension_distance\n",
    "\n",
    "def pos_flength_adjust_thumb_fixed(current_alpha, next_alpha, theta, l0, l1, l2l, l2r, flength_r):\n",
    "    theta=theta*pi/180\n",
    "    current_flength_l = flength_r - (2*l0+2*l1*sin(current_alpha*pi/180)-l2l-l2r)/tan(theta)\n",
    "    current_left_fingertip_pos_g, current_right_fingertip_pos_g = finger_tip_position_wrt_gripper_frame(current_alpha, l0, l1, l2l, l2r, current_flength_l, flength_r)  \n",
    "    next_left_fingertip_pos_g, next_right_fingertip_pos_g = finger_tip_position_wrt_gripper_frame(next_alpha, l0, l1, l2l, l2r, current_flength_l, flength_r) \n",
    "    traslating_wst_g = [current_right_fingertip_pos_g[0]-next_right_fingertip_pos_g[0], current_right_fingertip_pos_g[1]-next_right_fingertip_pos_g[1]]\n",
    "    traslating_wst_world = np.array([[sin(theta), -cos(theta)], [cos(theta), sin(theta)]]).dot(np.array([[traslating_wst_g[0]], [traslating_wst_g[1]]])).ravel().tolist()\n",
    "    next_left_fingertip_pos_g = [next_left_fingertip_pos_g[0]+traslating_wst_g[0], next_left_fingertip_pos_g[1]+traslating_wst_g[1]]\n",
    "    next_right_fingertip_pos_g = [next_right_fingertip_pos_g[0]+traslating_wst_g[0], next_right_fingertip_pos_g[1]+traslating_wst_g[1]]\n",
    "    extension_distance = -(next_right_fingertip_pos_g[1]+(2*l0+2*l1*sin(next_alpha*pi/180)-l2l-l2r)/tan(theta)-next_left_fingertip_pos_g[1])\n",
    "    traslating_wst_world[0]=traslating_wst_world[0]-((2*l0+2*l1*sin(current_alpha*pi/180)-l2l-l2r)-(2*l0+2*l1*sin(next_alpha*pi/180)-l2l-l2r))/sin(theta)\n",
    "    return traslating_wst_world, extension_distance"
   ]
  },
  {
   "cell_type": "code",
   "execution_count": 14,
   "metadata": {
    "codehighlighter": [
     [
      31,
      32
     ],
     [
      53,
      54
     ],
     [
      74,
      75
     ],
     [
      79,
      80
     ],
     [
      87,
      88
     ],
     [
      88,
      89
     ],
     [
      86,
      87
     ],
     [
      8,
      9
     ],
     [
      30,
      31
     ],
     [
      51,
      52
     ],
     [
      56,
      57
     ],
     [
      58,
      59
     ],
     [
      64,
      65
     ],
     [
      30,
      31
     ],
     [
      8,
      9
     ],
     [
      76,
      77
     ]
    ]
   },
   "outputs": [],
   "source": [
    "def skim_grasp_execute(Go_index):\n",
    "    print 'Go_index', index\n",
    "    global pose_Go_stone_set, yaw_pitch_normal_set, hori_box_set, depth_array\n",
    "    pose_x = pose_Go_stone_set[Go_index][0]\n",
    "    pose_y = pose_Go_stone_set[Go_index][1]\n",
    "    pose_z = pose_Go_stone_set[Go_index][2]\n",
    "    normal=yaw_pitch_normal_set[Go_index][2]\n",
    "    ####################### change tcp pose ############################\n",
    "    rob.set_tcp((0.028, 0, 0.338, 0, 0, 0))  \n",
    "    rospy.sleep(0.5)\n",
    "    ####################################################################\n",
    "    go_to_safe_place()    \n",
    "    worldPstone = np.array([pose_x, pose_y, pose_z, 1])\n",
    "    #print 'worldPstone', worldPstone\n",
    "    tcpTstone = np.transpose(np.matmul(np.linalg.inv(rob.get_pose().get_matrix()), worldPstone))\n",
    "    #print \"tcpTstone\", tcpTstone\n",
    "    eeTcam = m3d.Transform()\n",
    "    eeTcam.pos = (0.076173+0.05, -0.0934057-0.03, 0.0074811)\n",
    "    eeTcam_e = tf.transformations.euler_from_quaternion([-0.0143125,0.69183,-0.0012,0.722039], axes='sxyz')\n",
    "    eeTcam.orient.rotate_xb(eeTcam_e[0])\n",
    "    eeTcam.orient.rotate_yb(eeTcam_e[1])\n",
    "    eeTcam.orient.rotate_zb(eeTcam_e[2])\n",
    "    #print eeTcam\n",
    "    \n",
    "    yaxis = (0, 1, 0)\n",
    "    zaxis = (0, 0, 1)\n",
    "    Ry = tf.transformations.rotation_matrix(pi/2, yaxis)\n",
    "    Rz = tf.transformations.rotation_matrix(-pi/2, zaxis)\n",
    "    eeTtcp = np.matmul(Ry, Rz)\n",
    "    ####################### change tcp pose ############################\n",
    "    eeTtcp[:3,3] = np.array([0.338,-0.028,0])\n",
    "    ####################################################################\n",
    "    tcpTee = inv(eeTtcp)\n",
    "    #print tcpTee\n",
    "\n",
    "    n_normalize = normal / np.linalg.norm(normal)\n",
    "    n_normalize = np.array([n_normalize[0], n_normalize[1], n_normalize[2], 1])\n",
    "    eeTnormal = np.matmul(np.array([[0, 0, 1, 0],[0, 1, 0, 0], [-1,0,0,0], [0,0,0,1]]), n_normalize)\n",
    "    tcpTnormal = np.matmul(tcpTee[0:3,0:3], eeTnormal[0:3])\n",
    "    worldTnormal = [tcpTnormal[1], tcpTnormal[0], tcpTnormal[2]]\n",
    "\n",
    "    box = hori_box_set[Go_index]\n",
    "    length1 = np.sqrt((box[0][0]-box[1][0])**2+(box[0][1]-box[1][1])**2)\n",
    "    length2 = np.sqrt((box[2][0]-box[1][0])**2+(box[2][1]-box[1][1])**2)\n",
    "    if length1 < length2:\n",
    "        midpoint0 = [(box[1][0]+box[2][0])/2, (box[1][1]+box[2][1])/2]\n",
    "        midpoint1 = [(box[0][0]+box[3][0])/2, (box[0][1]+box[3][1])/2]\n",
    "    else:\n",
    "        midpoint0 = [(box[0][0]+box[1][0])/2, (box[0][1]+box[1][1])/2]\n",
    "        midpoint1 = [(box[2][0]+box[3][0])/2, (box[2][1]+box[3][1])/2]\n",
    "    center = [(midpoint0[0]+midpoint1[0])/2, (midpoint0[1]+midpoint1[1])/2]\n",
    "    dir0 = [midpoint0[0]-center[0], midpoint0[1]-center[1], 0]\n",
    "    dir1 = [midpoint1[0]-center[0], midpoint1[1]-center[1], 0] \n",
    "    if np.dot(dir0, worldTnormal)>0:\n",
    "        high_to_low_dir = dir0\n",
    "    else:\n",
    "        high_to_low_dir = dir1\n",
    "    rotate_angle = atan2(high_to_low_dir[1], high_to_low_dir[0])-atan2(1,0)\n",
    "    if rotate_angle > 0:\n",
    "        rotate_angle = rotate_angle % (2*pi)\n",
    "    else:\n",
    "        rotate_angle = rotate_angle % (-2*pi)\n",
    "    rotate_angle0 = -rotate_angle\n",
    "    if abs(rotate_angle0)>120*pi/180:\n",
    "        if rotate_angle0>0:\n",
    "            rotate_angle0-=pi\n",
    "        else:\n",
    "            rotate_angle0+=pi\n",
    "    if str(rotate_angle0) == 'nan':\n",
    "        return False\n",
    "    psi = 30*pi/180\n",
    "    \n",
    "    Robotiq.goto(robotiq_client, pos=12*0.14/48.0+1.12/48.0, speed=0.5, force=10, block=True)  # need change\n",
    "    rospy.sleep(0.5)\n",
    "    signal.signal(signal.SIGALRM, myHandler)\n",
    "    signal.setitimer(signal.ITIMER_REAL, 0.005)\n",
    "    ser.write('1000')\n",
    "    signal.setitimer(signal.ITIMER_REAL, 0)\n",
    "    rob.movel_tool((tcpTstone[0,0]+0.002, tcpTstone[1,0]-0.004, 0, 0, 0, 0), acc=0.3, vel=1, wait=True)\n",
    "    rob.translate_tool((0, 0, tcpTstone[2,0]-0.015), acc=0.5, vel=0.8)\n",
    "    rob.movel_tool((0,0,0,0,0,rotate_angle0), acc=0.5, vel=0.8, wait=True)\n",
    "    if rotate_angle0>0:\n",
    "        rob.translate_tool((0.020, 0, 0), acc=0.06, vel=0.08)   # need change\n",
    "    else:\n",
    "        rob.translate_tool((0.017, 0, 0), acc=0.06, vel=0.08)\n",
    "    rob.movel_tool((0,0,0,0,psi,0), acc=0.3, vel=0.8, wait=True)\n",
    "    rob.translate_tool((-0.02*sin(psi), 0, 0.02*cos(psi)), acc=0.01, vel=0.05, wait=False)\n",
    "    wrench = rospy.wait_for_message('/robotiq_ft_wrench', WrenchStamped, timeout = None)\n",
    "    ini_wrench = wrench.wrench.torque.y\n",
    "    time0 = time.time()\n",
    "    num_large_force = 0\n",
    "    while True:\n",
    "        if num_large_force == 3:\n",
    "            rob.stopl()\n",
    "            break\n",
    "        wrench = rospy.wait_for_message('/robotiq_ft_wrench', WrenchStamped, timeout = None)\n",
    "        if wrench.wrench.torque.y>ini_wrench+0.5:   \n",
    "            num_large_force += 1\n",
    "        if time.time()-time0>2.8:  \n",
    "            break\n",
    "    time.sleep(0.5)\n",
    "    '''\n",
    "    wrench = rospy.wait_for_message('/robotiq_ft_wrench', WrenchStamped, timeout = None)\n",
    "    ini_wrench = wrench.wrench.torque.y\n",
    "    for current_finger_length_extend in np.arange(0,50,4):\n",
    "        current_finger_length = 0+current_finger_length_extend #Change\n",
    "        signal.setitimer(signal.ITIMER_REAL, 0.001)\n",
    "        ser.write('1'+str(current_finger_length))\n",
    "        signal.setitimer(signal.ITIMER_REAL, 0)\n",
    "        time.sleep(0.2)        \n",
    "        current_fingerlength_int=current_finger_length\n",
    "        wrench = rospy.wait_for_message('/robotiq_ft_wrench', WrenchStamped, timeout = None)\n",
    "        if wrench.wrench.torque.y>ini_wrench+0.5:\n",
    "            break\n",
    "    '''\n",
    "    current_fingerlength_int=0\n",
    "    print current_fingerlength_int  \n",
    "    angle_step=0.2\n",
    "    for angle in np.arange(12,-4,-angle_step):\n",
    "        translate_dir_dis, extension_distance = pos_flength_adjust_finger_fixed(angle, angle-angle_step, 60, 0.0125, 0.1, 0.019, 0.01, 0.125)\n",
    "        old_fingerlength_int=current_fingerlength_int\n",
    "        current_fingerlength_int=round(max(current_fingerlength_int+extension_distance*(180.0/0.03),0))\n",
    "        signal.signal(signal.SIGALRM, myHandler)\n",
    "        signal.setitimer(signal.ITIMER_REAL, 0.005)\n",
    "        ser.write('1'+str(current_fingerlength_int))\n",
    "        signal.setitimer(signal.ITIMER_REAL, 0)   \n",
    "        if abs(current_fingerlength_int-old_fingerlength_int)!=0:\n",
    "            Robotiq.goto(robotiq_client, pos=(angle-1)*0.14/48.0+1.12/48.0, speed=0.2, force=10, block=False)\n",
    "            rob.translate_tool((sin(60*pi/180)*translate_dir_dis[0]+cos(60*pi/180)*translate_dir_dis[1], 0, cos(60*pi/180)*translate_dir_dis[0]-sin(60*pi/180)*translate_dir_dis[1]), acc=0.1, vel=0.4, wait=True)\n",
    "        else:\n",
    "            time.sleep(0.01)\n",
    "    Robotiq.goto(robotiq_client, pos=-4*0.14/48.0+1.12/48.0, speed=0.2, force=10, block=False)\n",
    "    rospy.sleep(0.5)\n",
    "    rob.translate_tool((0, 0, -0.12), acc=0.3, vel=0.8, wait=True)\n",
    "    #go_to_end_place()\n",
    "    #rob.translate((0,0,-0.07), acc=0.3, vel=0.8, wait=True)\n",
    "    Robotiq.goto(robotiq_client, pos=2*0.14/48.0+1.12/48.0, speed=0.5, force=10, block=True)\n",
    "    #rospy.sleep(1)\n",
    "    #ser.write('1000')\n",
    "    #rospy.sleep(1)\n",
    "    #rob.translate((0,0,0.07), acc=0.3, vel=0.8, wait=True) \n",
    "    return True\n"
   ]
  },
  {
   "cell_type": "code",
   "execution_count": 15,
   "metadata": {
    "scrolled": true
   },
   "outputs": [
    {
     "name": "stdout",
     "output_type": "stream",
     "text": [
      "continue?1\n",
      "started 0\n",
      "dsag\n",
      "0\n",
      "vis_time 3.20638298988\n",
      "[[0.05425162916477402, 0.682255908038385, 0.023226097992319616]]\n",
      "[[2.590576784736477, 0.21406068356382169, (0.011168548605026743, 0.043290815628629076, -0.9058777784966553)]]\n",
      "[('h', 0)]\n",
      "Go_index ('h', 0)\n",
      "0\n",
      "man_time 41.0741660595\n",
      "continue?1\n",
      "started 1\n",
      "dsag\n",
      "1\n",
      "vis_time 3.60543608665\n",
      "[[0.041867716158482116, 0.6584610422894868, 0.02305525687514981]]\n",
      "[[-2.7534315895229104, 0.21406068356382169, (-0.011117298158871173, 0.0516872359294717, -0.9417591381879095)]]\n",
      "[('h', 0)]\n",
      "Go_index ('h', 0)\n",
      "0\n",
      "man_time 46.0125379562\n",
      "continue?1\n",
      "started 2\n",
      "dsag\n",
      "2\n",
      "vis_time 4.3100039959\n",
      "[[0.0667498453129194, 0.6981864118001964, 0.025431755928978894], [0.012225885382643709, 0.6754467989950987, 0.026818229355110412]]\n",
      "[[2.868898317044126, 0.6365082157879507, (0.06142869736228838, 0.03626312645144674, -0.9644679155716946)], [3.010765257515736, 0.4101273405414903, (0.012192246301559085, 0.05213561555182771, -0.9533366916040048)]]\n",
      "[('h', 0), ('h', 1)]\n",
      "Go_index ('h', 0)\n",
      "0\n",
      "man_time 45.201982975\n",
      "continue?1\n",
      "started 3\n",
      "dsag\n",
      "3\n",
      "vis_time 5.40940618515\n",
      "[[0.05881189911655681, 0.692826094610931, 0.025785179437255057], [0.017481944513434697, 0.6863710005504058, 0.026411852211767062], [0.10029220358940794, 0.7067170087131065, 0.02107510788535044]]\n",
      "[[2.7963722310784274, 0.33473683731681386, (0.03942752617159076, 0.04057638957685367, -0.9172940549001846)], [-2.875081066422375, 0.3729877218000603, (-0.005736900176554552, 0.06174814685273039, -0.9545732438251981)], [1.9766306198697006, 0.446105548943404, (-0.012449218225952546, 0.03761193099998215, -0.9182131775002855)]]\n",
      "[('h', 0), ('h', 1), ('h', 2)]\n",
      "Go_index ('h', 0)\n",
      "0\n",
      "man_time 42.8827240467\n",
      "continue?1\n",
      "started 4\n",
      "dsag\n",
      "4\n",
      "vis_time 4.40698385239\n",
      "[[0.05415018216759279, 0.6800070223350241, 0.025220048987024568], [0.014069201271245743, 0.6706054806509778, 0.025819846972342797]]\n",
      "[[2.6646518837774926, 0.21406068356382055, (0.025416445364312337, 0.03930907878684948, -0.9047994010110461)], [-3.0442581082302964, 0.4101273405414903, (-0.0035423657724958017, 0.05712910203839074, -0.9422897368316812)]]\n",
      "[('h', 0), ('h', 1)]\n",
      "Go_index ('h', 0)\n",
      "0\n",
      "man_time 41.5997438431\n",
      "continue?1\n",
      "started 5\n",
      "dsag\n",
      "5\n",
      "vis_time 4.30686306953\n",
      "[[0.043464672894518996, 0.6976629020937521, 0.02629456481211223], [0.05508758160992683, 0.6399759965648846, 0.02192915983857946]]\n",
      "[[-2.835713782184941, 0.29544083714371916, (0.016177829969339967, 0.027952309759420743, -0.9156845608869711)], [-2.209959068012558, 0.1721908145229392, (0.00989093589395702, 0.04169216622101362, -0.967139459249506)]]\n",
      "[('h', 0), ('h', 1)]\n",
      "Go_index ('h', 0)\n",
      "0\n",
      "man_time 41.2970280647\n",
      "continue?1\n",
      "started 6\n",
      "dsag\n",
      "6\n",
      "vis_time 3.40557098389\n",
      "[[0.03830773608749078, 0.7079015097763974, 0.026328368555773807]]\n",
      "[[-2.451146196535101, 0.21406068356382055, (0.01886115333687196, 0.027648608206498296, -0.9126615549837807)]]\n",
      "[('h', 0)]\n",
      "Go_index ('h', 0)\n",
      "0\n",
      "man_time 38.8113059998\n",
      "continue?1\n",
      "started 7\n",
      "dsag\n",
      "7\n",
      "vis_time 4.60836601257\n",
      "[[0.025633947186483874, 0.6869074053981394, 0.026114312980541177], [0.0927171091244829, 0.7024558035767028, 0.02143280631718536]]\n",
      "[[2.864650459814224, 0.33473683731681386, (-0.05233090889689516, 0.03127209582753281, -0.9579682619050701)], [2.1901086059293444, 0.29544083714372027, (0.018733668474672775, 0.02107495070380241, -0.9364111947625365)]]\n",
      "[('h', 0), ('h', 1)]\n",
      "Go_index ('h', 0)\n",
      "0\n",
      "man_time 42.7802069187\n",
      "continue?1\n",
      "started 8\n",
      "dsag\n",
      "8\n",
      "vis_time 3.40580701828\n",
      "[[0.032399118754057855, 0.6749411714750979, 0.025089868845881103]]\n",
      "[[-2.229753992933955, 0.2551823906208186, (-0.04738250785751519, 0.03952901917465076, -0.9205570678009761)]]\n",
      "[('h', 0)]\n",
      "Go_index ('h', 0)\n",
      "0\n",
      "man_time 45.0075149536\n",
      "continue?1\n",
      "started 9\n",
      "dsag\n",
      "9\n",
      "vis_time 4.40710401535\n",
      "[[0.07525507537391043, 0.6952546799767416, 0.02217014328054856], [0.03208326263148665, 0.6497801425128804, 0.02356865837444816]]\n",
      "[[2.0944012684035536, 0.446105548943403, (0.035510282181052455, 0.02068992957564288, -0.8979630722389594)], [-3.117500930164872, 0.1721908145229392, (0.009299539822188386, 0.06338190600184909, -0.9555215278188747)]]\n",
      "[('h', 0), ('h', 1)]\n",
      "Go_index ('h', 0)\n",
      "0\n",
      "man_time 44.7071640491\n",
      "continue?1\n",
      "started 10\n",
      "dsag\n",
      "10\n",
      "vis_time 4.60782599449\n",
      "[[0.042883348654034543, 0.6838103545609975, 0.024532417965936526], [0.10669221137815184, 0.6857264676701058, 0.020195670720881076]]\n",
      "[[2.5352644957601855, 0.1721908145229392, (-0.014667976836775254, 0.01572200394091283, -0.9216547499223066)], [2.162340828164128, 0.29544083714372027, (-0.0003414066878440323, 0.002459596290262603, -0.9523340742136747)]]\n",
      "[('h', 0), ('h', 1)]\n",
      "Go_index ('h', 0)\n",
      "0\n",
      "man_time 39.2217969894\n",
      "continue?1\n",
      "started 11\n",
      "dsag\n",
      "11\n",
      "vis_time 4.3075299263\n",
      "[[0.03951114908437273, 0.699092726388207, 0.024411163876093656], [0.08979080449298395, 0.7009911792354415, 0.02054288249949321]]\n",
      "[[2.433959429795077, 0.2551823906208175, (0.016316251467935073, 0.020482249223188736, -0.8961319507453319)], [1.889498110149883, 0.29544083714372027, (0.02054217844524929, 0.011185287699619701, -0.9602640934750393)]]\n",
      "[('h', 0), ('h', 1)]\n",
      "Go_index ('h', 0)\n",
      "0\n",
      "man_time 44.3993740082\n",
      "continue?1\n",
      "started 12\n",
      "dsag\n",
      "12\n",
      "vis_time 4.90935087204\n",
      "[[0.04820596610353519, 0.6639405373930345, 0.025705604454334896], [0.08847090977297492, 0.6971832282904502, 0.02061962737711548], [0.007574643277866019, 0.7182746802133659, 0.026174404052713096]]\n",
      "[[-3.0281576617825765, 0.60780199611396, (-0.001857029963785869, 0.03947736228430328, -0.9582511292334902)], [1.875307209997009, 0.1721908145229392, (0.015733034050198488, 0.016582943453068426, -0.9519158322281833)], [3.1056369332691935, 0.33473683731681386, (0.02041166165662294, 0.008732409102962285, -0.9573422111994502)]]\n",
      "[('h', 0), ('h', 1), ('h', 2)]\n",
      "Go_index ('h', 0)\n",
      "0\n",
      "man_time 43.5800070763\n",
      "continue?1\n",
      "started 13\n",
      "dsag\n",
      "13\n",
      "vis_time 5.40896606445\n",
      "[[0.03725452057274804, 0.6737035341908935, 0.024959611109392155], [0.08759776452004342, 0.6971845788576712, 0.02073023586811623], [0.005565749228577539, 0.7030436172928991, 0.025569476371792133]]\n",
      "[[-2.579671091332978, 0.2551823906208186, (-0.028178455696071747, 0.039180486318194666, -0.9256789162193458)], [1.7739833276855799, 0.29544083714372027, (0.02115889315386385, 0.0068773990670644115, -0.9662970066430948)], [2.9364652890518763, 0.4101273405414903, (-0.03136786952340435, 0.019709956741243897, -0.9308911691532459)]]\n",
      "[('h', 0), ('h', 1), ('h', 2)]\n",
      "Go_index ('h', 0)\n",
      "0\n",
      "man_time 39.2307939529\n",
      "continue?1\n",
      "started 14\n",
      "dsag\n",
      "14\n",
      "vis_time 3.40549898148\n",
      "[[0.03824402511077793, 0.6868196681878231, 0.0246765144049228]]\n",
      "[[2.4607370180555437, 0.29544083714372027, (0.011220176858590588, 0.03027621613048097, -0.9097453644583037)]]\n",
      "[('h', 0)]\n",
      "Go_index ('h', 0)\n",
      "0\n",
      "man_time 42.426995039\n",
      "continue?1\n",
      "started 15\n",
      "dsag\n",
      "15\n",
      "vis_time 4.30950498581\n",
      "[[0.029961208630358123, 0.7017606225947093, 0.02564503070033619], [0.05646775998336084, 0.6617254451027677, 0.023471005359725572]]\n",
      "[[-1.5627319854881296, 0.446105548943403, (-0.0015576390564928232, 0.010384892613778602, -0.9536985411322089)], [2.7367008673047097, 0.5144513130590272, (0.01489798014108428, 0.044402175547707826, -0.9423638412441353)]]\n",
      "[('h', 0), ('h', 1)]\n",
      "Go_index ('h', 0)\n",
      "0\n",
      "man_time 39.0462779999\n",
      "continue?1\n",
      "started 16\n",
      "dsag\n",
      "16\n",
      "vis_time 3.30697393417\n",
      "[[0.0440325172822975, 0.694328715752627, 0.025286418226735108]]\n",
      "[[1.5707963267948966, 0.1721908145229392, (0.01706638142439561, 0.026379682598445007, -0.9044295172368979)]]\n",
      "[('h', 0)]\n",
      "Go_index ('h', 0)\n",
      "0\n",
      "man_time 44.6817100048\n",
      "continue?1\n",
      "started 17\n",
      "dsag\n",
      "17\n",
      "vis_time 4.2065448761\n",
      "[[0.0641469387028704, 0.6942494327795348, 0.023615105583241924], [0.04204302760129451, 0.6532905587598381, 0.023138353745464413]]\n",
      "[[1.9525162955444764, 0.21406068356382169, (0.004431338355643256, 0.015467575899987816, -0.9018944632739053)], [2.4057166492108273, 0.21406068356382169, (-0.026433136588763277, 0.22792807841634408, -0.9552526754442082)]]\n",
      "[('h', 0), ('h', 1)]\n",
      "Go_index ('h', 0)\n",
      "0\n",
      "man_time 43.0901219845\n",
      "continue?\n"
     ]
    },
    {
     "ename": "KeyboardInterrupt",
     "evalue": "",
     "output_type": "error",
     "traceback": [
      "\u001b[0;31m-----------------------------------------\u001b[0m",
      "\u001b[0;31mKeyboardInterrupt\u001b[0mTraceback (most recent call last)",
      "\u001b[0;32m<ipython-input-15-d37d7bcd0fb9>\u001b[0m in \u001b[0;36m<module>\u001b[0;34m()\u001b[0m\n\u001b[1;32m      6\u001b[0m \u001b[0;32mwhile\u001b[0m \u001b[0mTrue\u001b[0m\u001b[0;34m:\u001b[0m\u001b[0;34m\u001b[0m\u001b[0m\n\u001b[1;32m      7\u001b[0m     \u001b[0;32mwhile\u001b[0m \u001b[0mTrue\u001b[0m\u001b[0;34m:\u001b[0m\u001b[0;34m\u001b[0m\u001b[0m\n\u001b[0;32m----> 8\u001b[0;31m         \u001b[0mif_continue\u001b[0m \u001b[0;34m=\u001b[0m \u001b[0mraw_input\u001b[0m\u001b[0;34m(\u001b[0m\u001b[0;34m\"continue?\"\u001b[0m\u001b[0;34m)\u001b[0m\u001b[0;34m\u001b[0m\u001b[0m\n\u001b[0m\u001b[1;32m      9\u001b[0m         \u001b[0;32mif\u001b[0m \u001b[0mif_continue\u001b[0m \u001b[0;34m!=\u001b[0m \u001b[0;34m''\u001b[0m\u001b[0;34m:\u001b[0m\u001b[0;34m\u001b[0m\u001b[0m\n\u001b[1;32m     10\u001b[0m             \u001b[0;32mbreak\u001b[0m\u001b[0;34m\u001b[0m\u001b[0m\n",
      "\u001b[0;32m/home/terry/anaconda3/envs/ros_control/lib/python2.7/site-packages/ipykernel/kernelbase.pyc\u001b[0m in \u001b[0;36mraw_input\u001b[0;34m(self, prompt)\u001b[0m\n\u001b[1;32m    702\u001b[0m             \u001b[0mself\u001b[0m\u001b[0;34m.\u001b[0m\u001b[0m_parent_ident\u001b[0m\u001b[0;34m,\u001b[0m\u001b[0;34m\u001b[0m\u001b[0m\n\u001b[1;32m    703\u001b[0m             \u001b[0mself\u001b[0m\u001b[0;34m.\u001b[0m\u001b[0m_parent_header\u001b[0m\u001b[0;34m,\u001b[0m\u001b[0;34m\u001b[0m\u001b[0m\n\u001b[0;32m--> 704\u001b[0;31m             \u001b[0mpassword\u001b[0m\u001b[0;34m=\u001b[0m\u001b[0mFalse\u001b[0m\u001b[0;34m,\u001b[0m\u001b[0;34m\u001b[0m\u001b[0m\n\u001b[0m\u001b[1;32m    705\u001b[0m         )\n\u001b[1;32m    706\u001b[0m \u001b[0;34m\u001b[0m\u001b[0m\n",
      "\u001b[0;32m/home/terry/anaconda3/envs/ros_control/lib/python2.7/site-packages/ipykernel/kernelbase.pyc\u001b[0m in \u001b[0;36m_input_request\u001b[0;34m(self, prompt, ident, parent, password)\u001b[0m\n\u001b[1;32m    732\u001b[0m             \u001b[0;32mexcept\u001b[0m \u001b[0mKeyboardInterrupt\u001b[0m\u001b[0;34m:\u001b[0m\u001b[0;34m\u001b[0m\u001b[0m\n\u001b[1;32m    733\u001b[0m                 \u001b[0;31m# re-raise KeyboardInterrupt, to truncate traceback\u001b[0m\u001b[0;34m\u001b[0m\u001b[0;34m\u001b[0m\u001b[0m\n\u001b[0;32m--> 734\u001b[0;31m                 \u001b[0;32mraise\u001b[0m \u001b[0mKeyboardInterrupt\u001b[0m\u001b[0;34m\u001b[0m\u001b[0m\n\u001b[0m\u001b[1;32m    735\u001b[0m             \u001b[0;32melse\u001b[0m\u001b[0;34m:\u001b[0m\u001b[0;34m\u001b[0m\u001b[0m\n\u001b[1;32m    736\u001b[0m                 \u001b[0;32mbreak\u001b[0m\u001b[0;34m\u001b[0m\u001b[0m\n",
      "\u001b[0;31mKeyboardInterrupt\u001b[0m: "
     ]
    }
   ],
   "source": [
    "executed_time_man_array = []\n",
    "executed_time_vis_array = []\n",
    "\n",
    "stone_img_count = 0\n",
    "hori_json_error = False\n",
    "while True:\n",
    "    while True:\n",
    "        if_continue = raw_input(\"continue?\")\n",
    "        if if_continue != '':\n",
    "            break\n",
    "    go_to_safe_place()\n",
    "    signal.signal(signal.SIGALRM, myHandler)\n",
    "    signal.setitimer(signal.ITIMER_REAL, 0.005)\n",
    "    ser.write('1000')\n",
    "    signal.setitimer(signal.ITIMER_REAL, 0)    \n",
    "    Robotiq.goto(robotiq_client, pos=0.023, speed=0.5, force=10, block=True)\n",
    "    rospy.sleep(1)\n",
    "    go_to_home()\n",
    "    rospy.sleep(1)\n",
    "    Go_stone_number = None\n",
    "    pose_Go_stone_set = []\n",
    "    yaw_pitch_normal_set = []\n",
    "    hori_box_set = []\n",
    "    is_send_stone_img = 1\n",
    "    time_count_vis_0 = time.time()\n",
    "    print 'started', stone_img_count\n",
    "    while True:\n",
    "        if Go_stone_number != None and Go_stone_number == len(hori_box_set):\n",
    "            break  \n",
    "        elif Go_stone_number != None and hori_json_error==True:\n",
    "            rospy.sleep(0.5)\n",
    "            break   \n",
    "        rospy.sleep(0.1)\n",
    "    vis_time = time.time()-time_count_vis_0\n",
    "    executed_time_vis_array.append(vis_time)\n",
    "    print 'vis_time', vis_time\n",
    "    print pose_Go_stone_set\n",
    "    print yaw_pitch_normal_set\n",
    "    time_count_man_0 = time.time()\n",
    "    priority_list = []\n",
    "    for index_hori in range(len(pose_Go_stone_set)):\n",
    "        priority_list.append(('h', index_hori))\n",
    "    print priority_list\n",
    "    for index in priority_list:\n",
    "        if index[0]=='h':\n",
    "            if pose_Go_stone_set[index[1]]==[None, None, None]:\n",
    "                continue  \n",
    "            if pose_Go_stone_set[index[1]][2]<0.02:\n",
    "                continue\n",
    "            if pose_Go_stone_set[index[1]][2]>0.075:\n",
    "                continue\n",
    "            if skim_grasp_execute(index[1])==True:\n",
    "                man_time = time.time()-time_count_man_0\n",
    "                executed_time_man_array.append(man_time)\n",
    "                print 'man_time', man_time\n",
    "                break\n",
    "    else:\n",
    "        while True:\n",
    "            if_human_shuffle_finished = raw_input(\"Human shuffle. Finished? (y or n)\")\n",
    "            if if_human_shuffle_finished == 'y':\n",
    "                break"
   ]
  },
  {
   "cell_type": "code",
   "execution_count": 20,
   "metadata": {},
   "outputs": [
    {
     "data": {
      "text/plain": [
       "0.0006879699913455977"
      ]
     },
     "execution_count": 20,
     "metadata": {},
     "output_type": "execute_result"
    }
   ],
   "source": [
    "((0.075-0.07441812768708338)+(0.05-0.04897243287305203)+(0.025-0.023395635598574306)+(0.025-0.0254619238759079))/4.0"
   ]
  },
  {
   "cell_type": "code",
   "execution_count": 21,
   "metadata": {
    "scrolled": true
   },
   "outputs": [
    {
     "data": {
      "text/plain": [
       "-0.003648012446561183"
      ]
     },
     "execution_count": 21,
     "metadata": {},
     "output_type": "execute_result"
    }
   ],
   "source": [
    "((0.675-0.6798453558741636)+(0.675-0.679548104224364)+(0.7-0.7027561247441642)+(0.65-0.6524424649435531))/4.0"
   ]
  },
  {
   "cell_type": "code",
   "execution_count": 15,
   "metadata": {},
   "outputs": [],
   "source": [
    "go_to_home()"
   ]
  },
  {
   "cell_type": "code",
   "execution_count": 7,
   "metadata": {},
   "outputs": [],
   "source": [
    "softtip()"
   ]
  },
  {
   "cell_type": "code",
   "execution_count": 18,
   "metadata": {},
   "outputs": [],
   "source": [
    "signal.setitimer(signal.ITIMER_REAL, 0.001)\n",
    "ser.write('1180')\n",
    "signal.setitimer(signal.ITIMER_REAL, 0)\n",
    "time.sleep(1)\n"
   ]
  },
  {
   "cell_type": "code",
   "execution_count": 19,
   "metadata": {},
   "outputs": [],
   "source": [
    "Robotiq.goto(robotiq_client, pos=40*0.14/48.0+1.12/48.0, speed=0.1, force=10, block=True)"
   ]
  },
  {
   "cell_type": "code",
   "execution_count": 4,
   "metadata": {},
   "outputs": [
    {
     "ename": "AttributeError",
     "evalue": "'Rotation' object has no attribute 'as_matrix'",
     "output_type": "error",
     "traceback": [
      "\u001b[0;31m---------------------------------------\u001b[0m",
      "\u001b[0;31mAttributeError\u001b[0mTraceback (most recent call last)",
      "\u001b[0;32m<ipython-input-4-1c3010ad86d5>\u001b[0m in \u001b[0;36m<module>\u001b[0;34m()\u001b[0m\n\u001b[1;32m      2\u001b[0m \u001b[0;32mimport\u001b[0m \u001b[0mnumpy\u001b[0m \u001b[0;32mas\u001b[0m \u001b[0mnp\u001b[0m\u001b[0;34m\u001b[0m\u001b[0m\n\u001b[1;32m      3\u001b[0m \u001b[0mr\u001b[0m \u001b[0;34m=\u001b[0m \u001b[0mR\u001b[0m\u001b[0;34m.\u001b[0m\u001b[0mfrom_quat\u001b[0m\u001b[0;34m(\u001b[0m\u001b[0;34m[\u001b[0m\u001b[0;36m0\u001b[0m\u001b[0;34m,\u001b[0m \u001b[0;36m0\u001b[0m\u001b[0;34m,\u001b[0m \u001b[0mnp\u001b[0m\u001b[0;34m.\u001b[0m\u001b[0msin\u001b[0m\u001b[0;34m(\u001b[0m\u001b[0mnp\u001b[0m\u001b[0;34m.\u001b[0m\u001b[0mpi\u001b[0m\u001b[0;34m/\u001b[0m\u001b[0;36m4\u001b[0m\u001b[0;34m)\u001b[0m\u001b[0;34m,\u001b[0m \u001b[0mnp\u001b[0m\u001b[0;34m.\u001b[0m\u001b[0mcos\u001b[0m\u001b[0;34m(\u001b[0m\u001b[0mnp\u001b[0m\u001b[0;34m.\u001b[0m\u001b[0mpi\u001b[0m\u001b[0;34m/\u001b[0m\u001b[0;36m4\u001b[0m\u001b[0;34m)\u001b[0m\u001b[0;34m]\u001b[0m\u001b[0;34m)\u001b[0m\u001b[0;34m\u001b[0m\u001b[0m\n\u001b[0;32m----> 4\u001b[0;31m \u001b[0mr\u001b[0m\u001b[0;34m.\u001b[0m\u001b[0mas_matrix\u001b[0m\u001b[0;34m(\u001b[0m\u001b[0;34m)\u001b[0m\u001b[0;34m\u001b[0m\u001b[0m\n\u001b[0m",
      "\u001b[0;31mAttributeError\u001b[0m: 'Rotation' object has no attribute 'as_matrix'"
     ]
    }
   ],
   "source": [
    "from scipy.spatial.transform import Rotation as R\n",
    "import numpy as np\n",
    "r = R.from_quat([0, 0, np.sin(np.pi/4), np.cos(np.pi/4)])\n",
    "r.as_matrix()"
   ]
  },
  {
   "cell_type": "code",
   "execution_count": 7,
   "metadata": {},
   "outputs": [
    {
     "name": "stdout",
     "output_type": "stream",
     "text": [
      "12.1238350868\n"
     ]
    }
   ],
   "source": [
    "import time\n",
    "time0 = time.time()\n",
    "rob.translate((0,0,-0.035), acc=0.001, vel=0.01, wait=True)\n",
    "print time.time()-time0"
   ]
  },
  {
   "cell_type": "code",
   "execution_count": 18,
   "metadata": {},
   "outputs": [
    {
     "ename": "NameError",
     "evalue": "name 'eeTnormal' is not defined",
     "output_type": "error",
     "traceback": [
      "\u001b[0;31m-----------------------------------------\u001b[0m",
      "\u001b[0;31mNameError\u001b[0mTraceback (most recent call last)",
      "\u001b[0;32m<ipython-input-18-1bd426c65a2c>\u001b[0m in \u001b[0;36m<module>\u001b[0;34m()\u001b[0m\n\u001b[0;32m----> 1\u001b[0;31m \u001b[0meeTnormal\u001b[0m\u001b[0;34m\u001b[0m\u001b[0m\n\u001b[0m",
      "\u001b[0;31mNameError\u001b[0m: name 'eeTnormal' is not defined"
     ]
    }
   ],
   "source": [
    "eeTnormal"
   ]
  },
  {
   "cell_type": "code",
   "execution_count": 23,
   "metadata": {},
   "outputs": [
    {
     "ename": "NameError",
     "evalue": "name 'eeTcam' is not defined",
     "output_type": "error",
     "traceback": [
      "\u001b[0;31m-----------------------------------------\u001b[0m",
      "\u001b[0;31mNameError\u001b[0mTraceback (most recent call last)",
      "\u001b[0;32m<ipython-input-23-4e1fdcc88fca>\u001b[0m in \u001b[0;36m<module>\u001b[0;34m()\u001b[0m\n\u001b[0;32m----> 1\u001b[0;31m \u001b[0meeTcam\u001b[0m\u001b[0;34m.\u001b[0m\u001b[0mget_matrix\u001b[0m\u001b[0;34m(\u001b[0m\u001b[0;34m)\u001b[0m\u001b[0;34m\u001b[0m\u001b[0m\n\u001b[0m",
      "\u001b[0;31mNameError\u001b[0m: name 'eeTcam' is not defined"
     ]
    }
   ],
   "source": [
    "eeTcam.get_matrix()"
   ]
  },
  {
   "cell_type": "code",
   "execution_count": 18,
   "metadata": {},
   "outputs": [],
   "source": [
    "Robotiq.goto(robotiq_client, pos=40*0.14/48.0+1.12/48.0, speed=0.5, force=10, block=True)"
   ]
  },
  {
   "cell_type": "code",
   "execution_count": 23,
   "metadata": {},
   "outputs": [],
   "source": [
    "    current_fingerlength_int = 0\n",
    "    angle_step = 0.2\n",
    "    for angle in np.arange(12,-4,-angle_step):\n",
    "        translate_dir_dis, extension_distance = pos_flength_adjust_finger_fixed(angle, angle-angle_step, 60, 0.0125, 0.1, 0.019, 0.01, 0.125)\n",
    "        old_fingerlength_int=current_fingerlength_int\n",
    "        current_fingerlength_int=round(max(current_fingerlength_int+extension_distance*(180.0/0.03),0))\n",
    "        signal.signal(signal.SIGALRM, myHandler)\n",
    "        signal.setitimer(signal.ITIMER_REAL, 0.005)\n",
    "        ser.write('1'+str(current_fingerlength_int))\n",
    "        signal.setitimer(signal.ITIMER_REAL, 0)   \n",
    "        if abs(current_fingerlength_int-old_fingerlength_int)!=0:\n",
    "            Robotiq.goto(robotiq_client, pos=(angle-1)*0.14/48.0+1.12/48.0, speed=0.2, force=10, block=False)\n",
    "            rob.translate_tool((sin(60*pi/180)*translate_dir_dis[0]+cos(60*pi/180)*translate_dir_dis[1], 0, cos(60*pi/180)*translate_dir_dis[0]-sin(60*pi/180)*translate_dir_dis[1]), acc=0.1, vel=0.4, wait=True)\n",
    "        else:\n",
    "            time.sleep(0.01)\n",
    "    Robotiq.goto(robotiq_client, pos=-4*0.14/48.0+1.12/48.0, speed=0.2, force=10, block=False)"
   ]
  },
  {
   "cell_type": "code",
   "execution_count": 16,
   "metadata": {},
   "outputs": [
    {
     "data": {
      "text/plain": [
       "42.502858440081276"
      ]
     },
     "execution_count": 16,
     "metadata": {},
     "output_type": "execute_result"
    }
   ],
   "source": [
    "np.mean(executed_time_man_array)"
   ]
  },
  {
   "cell_type": "code",
   "execution_count": 17,
   "metadata": {},
   "outputs": [
    {
     "data": {
      "text/plain": [
       "4.196339991357592"
      ]
     },
     "execution_count": 17,
     "metadata": {},
     "output_type": "execute_result"
    }
   ],
   "source": [
    "np.mean(executed_time_vis_array)"
   ]
  },
  {
   "cell_type": "code",
   "execution_count": null,
   "metadata": {},
   "outputs": [],
   "source": []
  }
 ],
 "metadata": {
  "celltoolbar": "Slideshow",
  "kernelspec": {
   "display_name": "Python 2",
   "language": "python",
   "name": "python2"
  },
  "language_info": {
   "codemirror_mode": {
    "name": "ipython",
    "version": 2
   },
   "file_extension": ".py",
   "mimetype": "text/x-python",
   "name": "python",
   "nbconvert_exporter": "python",
   "pygments_lexer": "ipython2",
   "version": "2.7.18"
  }
 },
 "nbformat": 4,
 "nbformat_minor": 2
}
