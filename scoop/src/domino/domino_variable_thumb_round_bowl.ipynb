{
 "cells": [
  {
   "cell_type": "code",
   "execution_count": 1,
   "metadata": {
    "scrolled": true
   },
   "outputs": [],
   "source": [
    "#!/usr/bin/env python\n",
    "import os\n",
    "import sys\n",
    "import rospy\n",
    "import copy\n",
    "import tf\n",
    "import cv2\n",
    "from cv_bridge import CvBridge, CvBridgeError\n",
    "import numpy as np\n",
    "import std_msgs.msg\n",
    "from std_msgs.msg import UInt16, String\n",
    "import geometry_msgs.msg\n",
    "from math import *\n",
    "from numpy.linalg import inv\n",
    "import scipy.io\n",
    "from mat4py import loadmat\n",
    "import actionlib\n",
    "from robotiq_2f_gripper_msgs.msg import CommandRobotiqGripperFeedback, CommandRobotiqGripperResult, CommandRobotiqGripperAction, CommandRobotiqGripperGoal\n",
    "from robotiq_2f_gripper_control.robotiq_2f_gripper_driver import Robotiq2FingerGripperDriver as Robotiq\n",
    "from scoop.msg import domino_pose_hori\n",
    "from scoop.msg import domino_pose_ver\n",
    "from sensor_msgs.msg import Image, CameraInfo\n",
    "import message_filters\n",
    "from visualization_msgs.msg import Marker\n",
    "from visualization_msgs.msg import MarkerArray\n",
    "from geometry_msgs.msg import Point\n",
    "import random\n",
    "import urx\n",
    "import math3d as m3d\n",
    "import logging\n",
    "import matplotlib.pyplot as plt\n",
    "from geometry_msgs.msg import WrenchStamped\n",
    "import time\n",
    "rospy.init_node('scoop', anonymous=True) #initialize the node\n",
    "\n"
   ]
  },
  {
   "cell_type": "code",
   "execution_count": 2,
   "metadata": {},
   "outputs": [
    {
     "name": "stderr",
     "output_type": "stream",
     "text": [
      "[WARN] [1612355131.991282]: Client test: Starting sending goals\n"
     ]
    }
   ],
   "source": [
    "rospy.logwarn(\"Client test: Starting sending goals\")\n",
    "rob = urx.Robot(\"192.168.1.102\")\n",
    "logging.basicConfig(level=logging.WARN)\n",
    "rob.set_tcp((0, 0, 0, 0, 0, 0))"
   ]
  },
  {
   "cell_type": "code",
   "execution_count": 3,
   "metadata": {},
   "outputs": [
    {
     "data": {
      "text/plain": [
       "True"
      ]
     },
     "execution_count": 3,
     "metadata": {},
     "output_type": "execute_result"
    }
   ],
   "source": [
    "action_name = rospy.get_param('~action_name', 'command_robotiq_action')\n",
    "robotiq_client = actionlib.SimpleActionClient(action_name, CommandRobotiqGripperAction)\n",
    "robotiq_client.wait_for_server()"
   ]
  },
  {
   "cell_type": "code",
   "execution_count": 4,
   "metadata": {},
   "outputs": [],
   "source": [
    "import serial\n",
    "import signal\n",
    "import time\n",
    "\n",
    "serialPort = \"/dev/Arduino\"\n",
    "baudRate = 57600\n",
    "ser = serial.Serial(serialPort, baudRate, timeout=0.5)\n",
    "def myHandler(signum, frame):\n",
    "    pass"
   ]
  },
  {
   "cell_type": "code",
   "execution_count": 5,
   "metadata": {},
   "outputs": [],
   "source": [
    "def go_to_home():\n",
    "    \n",
    "    Hong_joint0 = radians(101.94)\n",
    "    Hong_joint1 = radians(-83.72)\n",
    "    Hong_joint2 = radians(-130.33)\n",
    "    Hong_joint3 = radians(-55.98)\n",
    "    Hong_joint4 = radians(89.33)\n",
    "    Hong_joint5 = radians(-78.02)\n",
    "    \n",
    "    rob.movej((Hong_joint0,Hong_joint1, Hong_joint2, Hong_joint3, Hong_joint4, Hong_joint5), 0.6, 1.5)\n",
    "    \n",
    "def go_to_safe_place():\n",
    "    \n",
    "    Hong_joint0 = radians(101.74)\n",
    "    Hong_joint1 = radians(-76.84)\n",
    "    Hong_joint2 = radians(-120.83)\n",
    "    Hong_joint3 = radians(-72.33)\n",
    "    Hong_joint4 = radians(89.40)\n",
    "    Hong_joint5 = radians(-78.12)\n",
    "    \n",
    "    rob.movej((Hong_joint0,Hong_joint1, Hong_joint2, Hong_joint3, Hong_joint4, Hong_joint5), 0.6, 1.5)\n",
    "    \n",
    "def go_to_end_place():\n",
    "    \n",
    "    Hong_joint0 = radians(106.13)\n",
    "    Hong_joint1 = radians(-60.48)\n",
    "    Hong_joint2 = radians(-130.69)\n",
    "    Hong_joint3 = radians(-78.86)\n",
    "    Hong_joint4 = radians(89.68)\n",
    "    Hong_joint5 = radians(-73.78)\n",
    "    \n",
    "    rob.movej((Hong_joint0,Hong_joint1, Hong_joint2, Hong_joint3, Hong_joint4, Hong_joint5), 0.6, 1.5)"
   ]
  },
  {
   "cell_type": "code",
   "execution_count": 6,
   "metadata": {},
   "outputs": [],
   "source": [
    "def stone_position_in_the_world(pose_x, pose_y, pose_z):\n",
    "    if pose_z==0.0:\n",
    "        return [None, None, None]\n",
    "    while True:\n",
    "        rob.set_tcp((0, 0.0, 0, 0, 0, 0))    \n",
    "        camPstone = np.array([pose_x, pose_y, pose_z, 1])\n",
    "        eeTcam = m3d.Transform()\n",
    "        eeTcam.pos = (0.076173+0.05, -0.0934057-0.03, 0.0074811)\n",
    "        eeTcam_e = tf.transformations.euler_from_quaternion([-0.0143125,0.69183,-0.0012,0.722039], axes='sxyz')\n",
    "        eeTcam.orient.rotate_xb(eeTcam_e[0])\n",
    "        eeTcam.orient.rotate_yb(eeTcam_e[1])\n",
    "        eeTcam.orient.rotate_zb(eeTcam_e[2])\n",
    "        tcpTee = np.array([[0,-1,0,0], [0,0,-1,0], [1,0,0,0], [0,0,0,1]])\n",
    "        eeTstone = np.matmul(eeTcam.get_matrix(), camPstone)\n",
    "        tcpTstone = np.matmul(tcpTee, np.transpose(eeTstone))\n",
    "        worldTstone = np.matmul(rob.get_pose().get_matrix(), tcpTstone)\n",
    "        worldTstone = worldTstone.squeeze().tolist()[0][0:-1]\n",
    "        if worldTstone[2]<0:\n",
    "            continue\n",
    "        else:\n",
    "            return [worldTstone[0]+0.02+0.0025, worldTstone[1]+0.02148-0.0035, max(worldTstone[2], 0.037)]"
   ]
  },
  {
   "cell_type": "code",
   "execution_count": 7,
   "metadata": {},
   "outputs": [
    {
     "data": {
      "text/plain": [
       "<rospy.topics.Subscriber at 0x7f91fc5bff90>"
      ]
     },
     "execution_count": 7,
     "metadata": {},
     "output_type": "execute_result"
    }
   ],
   "source": [
    "import json\n",
    "def hori_stone_pose_callback(msg):\n",
    "    global hori_pose_Go_stone_set, hori_Go_stone_number, yaw_pitch_normal_set, hori_box_set, hori_box_pixel_set, hori_json_error\n",
    "    hori_Go_stone_number = int(msg.hori_Go_stone_number)\n",
    "    if hori_Go_stone_number == 0:\n",
    "        hori_pose_Go_stone_set = []\n",
    "        yaw_pitch_normal_set = []\n",
    "        hori_box_set = []\n",
    "        hori_box_pixel_set = []\n",
    "    else:\n",
    "        #try:\n",
    "        if True:\n",
    "            pose_x = msg.x\n",
    "            pose_y = msg.y\n",
    "            pose_z = msg.z\n",
    "            yaw = msg.yaw\n",
    "            pitch = msg.pitch\n",
    "            normal = msg.normal\n",
    "            hori_pose_Go_stone_set.append(stone_position_in_the_world(pose_x, pose_y, pose_z))\n",
    "            yaw_pitch_normal_set.append([yaw,pitch,normal])\n",
    "            box = json.loads(msg.box)\n",
    "            box = [stone_position_in_the_world(box[i][0], box[i][1], pose_z)[0:2] for i in range(len(box))]\n",
    "            hori_box_set.append(box)\n",
    "            box_pixel = json.loads(msg.box_pixel)\n",
    "            box_pixel = [[box_pixel[i][0], box_pixel[i][1]] for i in range(len(box_pixel))]\n",
    "            hori_box_pixel_set.append(box_pixel)\n",
    "        #except:\n",
    "            #hori_json_error = True\n",
    "hori_pose_topic = '/hori_domino_pose' #\"/usb_cam/image_raw\"\n",
    "rospy.Subscriber(hori_pose_topic, domino_pose_hori, hori_stone_pose_callback)"
   ]
  },
  {
   "cell_type": "code",
   "execution_count": 8,
   "metadata": {},
   "outputs": [
    {
     "data": {
      "text/plain": [
       "<rospy.topics.Subscriber at 0x7f91fc5786d0>"
      ]
     },
     "execution_count": 8,
     "metadata": {},
     "output_type": "execute_result"
    }
   ],
   "source": [
    "import json\n",
    "def ver_stone_pose_callback(msg):\n",
    "    global ver_pose_Go_stone_set, ver_Go_stone_number, gripper_direction_set, gripper_aperture_set, ver_json_error\n",
    "    ver_Go_stone_number = int(msg.ver_Go_stone_number)\n",
    "    if ver_Go_stone_number == 0:\n",
    "        ver_pose_Go_stone_set = []\n",
    "        gripper_direction_set = []\n",
    "        gripper_aperture_set = []\n",
    "    else:\n",
    "        try:\n",
    "            pose_x = msg.x\n",
    "            pose_y = msg.y\n",
    "            pose_z = msg.z \n",
    "            box = json.loads(msg.box)\n",
    "            ver_pose_Go_stone_set.append(stone_position_in_the_world(pose_x, pose_y, pose_z))\n",
    "            box = [stone_position_in_the_world(box[i][0], box[i][1], pose_z)[0:2] for i in range(len(box))]\n",
    "            #print box\n",
    "            length1 = np.sqrt((box[0][0]-box[1][0])**2+(box[0][1]-box[1][1])**2)\n",
    "            length2 = np.sqrt((box[2][0]-box[1][0])**2+(box[2][1]-box[1][1])**2)\n",
    "            if length1 > length2:\n",
    "                try:\n",
    "                    if abs(atan((box[0][0]-box[1][0])/(box[0][1]-box[1][1]))+pi/2)<abs(atan((box[0][0]-box[1][0])/(box[0][1]-box[1][1]))-pi/2):\n",
    "                        temp_angle=atan((box[0][0]-box[1][0])/(box[0][1]-box[1][1]))+pi/2\n",
    "                    else:\n",
    "                        temp_angle=atan((box[0][0]-box[1][0])/(box[0][1]-box[1][1]))-pi/2\n",
    "                    gripper_direction_set.append(temp_angle)\n",
    "                except:\n",
    "                    gripper_direction_set.append(0)\n",
    "                gripper_aperture_set.append(length2+0.006)\n",
    "            else:\n",
    "                try:\n",
    "                    if abs(atan((box[2][0]-box[1][0])/(box[2][1]-box[1][1]))+pi/2)<abs(atan((box[2][0]-box[1][0])/(box[2][1]-box[1][1]))-pi/2):\n",
    "                        temp_angle=atan((box[2][0]-box[1][0])/(box[2][1]-box[1][1]))+pi/2\n",
    "                    else:\n",
    "                        temp_angle=atan((box[2][0]-box[1][0])/(box[2][1]-box[1][1]))-pi/2\n",
    "                    gripper_direction_set.append(temp_angle)\n",
    "                except:\n",
    "                    gripper_direction_set.append(0)\n",
    "                gripper_aperture_set.append(length1+0.006)       \n",
    "        except:\n",
    "            json_error = True\n",
    "ver_pose_topic = '/ver_domino_pose' #\"/usb_cam/image_raw\"\n",
    "rospy.Subscriber(ver_pose_topic, domino_pose_ver, ver_stone_pose_callback)"
   ]
  },
  {
   "cell_type": "code",
   "execution_count": 9,
   "metadata": {},
   "outputs": [],
   "source": [
    "is_send_stone_img = 0\n",
    "stone_img_count = 0\n",
    "bridge = CvBridge()\n",
    "\n",
    "def image_callback(color, a_depth):\n",
    "    global is_send_stone_img, stone_img_count, cv2_img, cv2_depth_img, depth_array\n",
    "    if is_send_stone_img == 1:\n",
    "        print \"dsag\"\n",
    "        img_count_pub = rospy.Publisher('/stone_img_index', String, queue_size=1)\n",
    "        rospy.sleep(0.5)\n",
    "        cv2_img = bridge.imgmsg_to_cv2(color, \"bgr8\")\n",
    "        cv2.imwrite('/home/terry/Mask_RCNN/samples/domino/JPEGImages/'+str(stone_img_count)+'.jpeg', cv2_img)\n",
    "        cv2_depth_img = bridge.imgmsg_to_cv2(a_depth, desired_encoding=\"passthrough\")\n",
    "        depth_array = np.array(cv2_depth_img, dtype=np.float32)\n",
    "        cv2.imwrite('/home/terry/Mask_RCNN/samples/domino/depth/'+str(stone_img_count)+'.jpeg', cv2_depth_img)\n",
    "        np.save('/home/terry/Mask_RCNN/samples/domino/depth/'+str(stone_img_count)+'.npy', depth_array)\n",
    "        img_count_pub.publish(str(stone_img_count))\n",
    "        print str(stone_img_count)\n",
    "        stone_img_count = stone_img_count + 1\n",
    "        is_send_stone_img = 0"
   ]
  },
  {
   "cell_type": "code",
   "execution_count": 10,
   "metadata": {},
   "outputs": [
    {
     "data": {
      "text/plain": [
       "0"
      ]
     },
     "execution_count": 10,
     "metadata": {},
     "output_type": "execute_result"
    }
   ],
   "source": [
    "image_color_sub = message_filters.Subscriber('/camera/color/image_raw', Image)\n",
    "image_aligned_depth_sub = message_filters.Subscriber('/camera/aligned_depth_to_color/image_raw', Image)\n",
    "ts = message_filters.TimeSynchronizer([image_color_sub, image_aligned_depth_sub], 10)\n",
    "ts.registerCallback(image_callback)"
   ]
  },
  {
   "cell_type": "code",
   "execution_count": 11,
   "metadata": {
    "codehighlighter": [
     [
      31,
      32
     ],
     [
      53,
      54
     ],
     [
      74,
      75
     ],
     [
      79,
      80
     ],
     [
      87,
      88
     ],
     [
      88,
      89
     ]
    ]
   },
   "outputs": [],
   "source": [
    "def finger_tip_position_wrt_gripper_frame(alpha, l0, l1, l2l, l2r, flength_l, flength_r):\n",
    "    alpha=alpha*pi/180\n",
    "    left_fingertip_position=[-l0-l1*sin(alpha)+l2l, -l1*cos(alpha)-flength_l]\n",
    "    right_fingertip_position=[l0+l1*sin(alpha)-l2r, -l1*cos(alpha)-flength_r]\n",
    "    return left_fingertip_position, right_fingertip_position\n",
    "\n",
    "def pos_flength_adjust_finger_fixed(current_alpha, next_alpha, theta, l0, l1, l2l, l2r, flength_r):\n",
    "    theta=theta*pi/180\n",
    "    current_flength_l = flength_r - (2*l0+2*l1*sin(current_alpha*pi/180)-l2l-l2r)/tan(theta)\n",
    "    current_left_fingertip_pos_g, current_right_fingertip_pos_g = finger_tip_position_wrt_gripper_frame(current_alpha, l0, l1, l2l, l2r, current_flength_l, flength_r)  \n",
    "    next_left_fingertip_pos_g, next_right_fingertip_pos_g = finger_tip_position_wrt_gripper_frame(next_alpha, l0, l1, l2l, l2r, current_flength_l, flength_r) \n",
    "    traslating_wst_g = [current_right_fingertip_pos_g[0]-next_right_fingertip_pos_g[0], current_right_fingertip_pos_g[1]-next_right_fingertip_pos_g[1]]\n",
    "   # print np.array([[traslating_wst_g[0]], [traslating_wst_g[1]]])\n",
    "    traslating_wst_world = np.array([[sin(theta), -cos(theta)], [cos(theta), sin(theta)]]).dot(np.array([[traslating_wst_g[0]], [traslating_wst_g[1]]])).ravel().tolist()\n",
    "    next_left_fingertip_pos_g = [next_left_fingertip_pos_g[0]+traslating_wst_g[0], next_left_fingertip_pos_g[1]+traslating_wst_g[1]]\n",
    "    next_right_fingertip_pos_g = [next_right_fingertip_pos_g[0]+traslating_wst_g[0], next_right_fingertip_pos_g[1]+traslating_wst_g[1]]\n",
    "    extension_distance = -(next_right_fingertip_pos_g[1]+(2*l0+2*l1*sin(next_alpha*pi/180)-l2l-l2r)/tan(theta)-next_left_fingertip_pos_g[1])\n",
    "    return traslating_wst_world, extension_distance\n",
    "\n",
    "def pos_flength_adjust_thumb_fixed(current_alpha, next_alpha, theta, l0, l1, l2l, l2r, flength_r):\n",
    "    theta=theta*pi/180\n",
    "    current_flength_l = flength_r - (2*l0+2*l1*sin(current_alpha*pi/180)-l2l-l2r)/tan(theta)\n",
    "    current_left_fingertip_pos_g, current_right_fingertip_pos_g = finger_tip_position_wrt_gripper_frame(current_alpha, l0, l1, l2l, l2r, current_flength_l, flength_r)  \n",
    "    next_left_fingertip_pos_g, next_right_fingertip_pos_g = finger_tip_position_wrt_gripper_frame(next_alpha, l0, l1, l2l, l2r, current_flength_l, flength_r) \n",
    "    traslating_wst_g = [current_right_fingertip_pos_g[0]-next_right_fingertip_pos_g[0], current_right_fingertip_pos_g[1]-next_right_fingertip_pos_g[1]]\n",
    "    traslating_wst_world = np.array([[sin(theta), -cos(theta)], [cos(theta), sin(theta)]]).dot(np.array([[traslating_wst_g[0]], [traslating_wst_g[1]]])).ravel().tolist()\n",
    "    next_left_fingertip_pos_g = [next_left_fingertip_pos_g[0]+traslating_wst_g[0], next_left_fingertip_pos_g[1]+traslating_wst_g[1]]\n",
    "    next_right_fingertip_pos_g = [next_right_fingertip_pos_g[0]+traslating_wst_g[0], next_right_fingertip_pos_g[1]+traslating_wst_g[1]]\n",
    "    extension_distance = -(next_right_fingertip_pos_g[1]+(2*l0+2*l1*sin(next_alpha*pi/180)-l2l-l2r)/tan(theta)-next_left_fingertip_pos_g[1])\n",
    "    traslating_wst_world[0]=traslating_wst_world[0]-((2*l0+2*l1*sin(current_alpha*pi/180)-l2l-l2r)-(2*l0+2*l1*sin(next_alpha*pi/180)-l2l-l2r))/sin(theta)\n",
    "    return traslating_wst_world, extension_distance"
   ]
  },
  {
   "cell_type": "code",
   "execution_count": 12,
   "metadata": {
    "codehighlighter": [
     [
      31,
      32
     ],
     [
      53,
      54
     ],
     [
      74,
      75
     ],
     [
      79,
      80
     ],
     [
      87,
      88
     ],
     [
      88,
      89
     ]
    ]
   },
   "outputs": [],
   "source": [
    "from __future__ import division\n",
    "import pybullet as p\n",
    "import pybullet_data\n",
    "import numpy as np\n",
    "import time\n",
    "import argparse\n",
    "import pybullet_utils\n",
    "from collision_utils import get_collision_fn\n",
    "from scipy.spatial.transform import Rotation as R\n",
    "from math import *\n",
    "\n",
    "THUMB_JOINT_INDICES = [0]\n",
    "\n",
    "def get_args():\n",
    "    parser = argparse.ArgumentParser()\n",
    "    parser.add_argument('--birrt', action='store_true', default=False)\n",
    "    parser.add_argument('--smoothing', action='store_true', default=False)\n",
    "    args = parser.parse_args(args=[])\n",
    "    return args\n",
    "\n",
    "def set_joint_positions(body, joints, values):\n",
    "    assert len(joints) == len(values)\n",
    "    for joint, value in zip(joints, values):\n",
    "        p.resetJointState(body, joint, value)\n",
    "args = get_args()\n",
    "physicsClient = p.connect(p.DIRECT)\n",
    "p.setAdditionalSearchPath(pybullet_data.getDataPath())\n",
    "p.setPhysicsEngineParameter(enableFileCaching=0)\n",
    "p.setGravity(0, 0, -9.8)\n",
    "p.configureDebugVisualizer(p.COV_ENABLE_GUI, False)\n",
    "p.configureDebugVisualizer(p.COV_ENABLE_SHADOWS, True)\n",
    "p.resetDebugVisualizerCamera(cameraDistance=1.400, cameraYaw=58.000, cameraPitch=-42.200, cameraTargetPosition=(0.0, 0.0, 0.0))\n",
    "CLIENT = 0\n",
    "# load objects\n",
    "finger = p.loadURDF('/home/terry/catkin_ws/src/scoop/models/urdf/Finger-2.9-urdf.urdf', basePosition=[0, 0, 0], baseOrientation=[0,0,1,0], useFixedBase=False)\n",
    "thumb = p.loadURDF('/home/terry/catkin_ws/src/scoop/models/urdf/Assem-1.9-urdf.urdf', basePosition=[0, 0, 0], baseOrientation=[0,0,1,0],useFixedBase=False)\n",
    "bowl_circular = p.loadURDF('/home/terry/catkin_ws/src/scoop/models/urdf/Bowl-circular-urdf.urdf', basePosition=[0.05, 0.69, 0.03], baseOrientation=[0,0,0,1], useFixedBase=True)\n",
    "obstacles = [bowl_circular]\n",
    "\n",
    "def skim_grasp_collision_check(Go_stone_pose, rotate_angle0, rotate_angle1, rotate_angle2, psi=30*pi/180): # radius\n",
    "    #time0=time.time()\n",
    "    start_conf_thumb = [-0.0167]\n",
    "    fingerbaseOrientation_raw = R.from_dcm([[0, 1, 0], [1, 0, 0], [0, 0, -1]]) * R.from_euler('z', rotate_angle0, degrees=False) * R.from_euler('x', rotate_angle1, degrees=False) * R.from_euler('y', rotate_angle2, degrees=False)\n",
    "    fingerbaseOrientation = fingerbaseOrientation_raw.as_quat().tolist()\n",
    "    ThumbTFinger_normal = fingerbaseOrientation_raw.as_dcm()[:,0].tolist()\n",
    "    fingerbasePosition = [Go_stone_pose[0]+0.006*ThumbTFinger_normal[0], Go_stone_pose[1]+0.006*ThumbTFinger_normal[1], Go_stone_pose[2]+0.006*ThumbTFinger_normal[2]]\n",
    "    p.resetBasePositionAndOrientation(finger, fingerbasePosition, fingerbaseOrientation)\n",
    "    finger_base_position = list(p.getLinkState(finger, 0)[0])\n",
    "    #print finger_base_position\n",
    "    thumbbaseOrientation = fingerbaseOrientation\n",
    "    thumbbasePosition = [finger_base_position[0]-0.043*ThumbTFinger_normal[0], finger_base_position[1]-0.043*ThumbTFinger_normal[1], finger_base_position[2]-0.043*ThumbTFinger_normal[2]] \n",
    "    #print thumbbasePosition\n",
    "    set_joint_positions(thumb, THUMB_JOINT_INDICES, start_conf_thumb)\n",
    "    p.resetBasePositionAndOrientation(thumb, thumbbasePosition, thumbbaseOrientation)\n",
    "    #collision_fn0 = len(p.getClosestPoints(bodyA=finger, bodyB=bowl_circular, distance=0, physicsClientId=CLIENT)) != 0\n",
    "    collision_fn1 = len(p.getClosestPoints(bodyA=thumb, bodyB=bowl_circular, distance=0, physicsClientId=CLIENT)) != 0\n",
    "    fingerbaseOrientation = (fingerbaseOrientation_raw * R.from_euler('y', psi, degrees=False)).as_quat().tolist()\n",
    "    p.resetBasePositionAndOrientation(finger, fingerbasePosition, fingerbaseOrientation)\n",
    "    finger_base_position = list(p.getLinkState(finger, 0)[0])\n",
    "    #print fingerbaseOrientation\n",
    "    thumbbaseOrientation = fingerbaseOrientation\n",
    "    ThumbTFinger_normal = R.from_quat(fingerbaseOrientation).as_dcm()[:,0].tolist()\n",
    "    thumbbasePosition = [finger_base_position[0]-0.043*ThumbTFinger_normal[0], finger_base_position[1]-0.043*ThumbTFinger_normal[1], finger_base_position[2]-0.043*ThumbTFinger_normal[2]]  \n",
    "    p.resetBasePositionAndOrientation(thumb, thumbbasePosition, thumbbaseOrientation)\n",
    "    #collision_fn2 = len(p.getClosestPoints(bodyA=finger, bodyB=bowl_circular, distance=0, physicsClientId=CLIENT)) != 0\n",
    "    collision_fn3 = len(p.getClosestPoints(bodyA=thumb, bodyB=bowl_circular, distance=0, physicsClientId=CLIENT)) != 0\n",
    "    #print collision_fn0, collision_fn1, collision_fn2, collision_fn3\n",
    "    result = collision_fn1 or collision_fn3\n",
    "    return result\n",
    "\n",
    "#kim_grasp_collision_check([0.0868192929930581, 0.68349850703534, 0.037], -1.43239448358, 0.00962355024892, -0.00444143180659, 0)"
   ]
  },
  {
   "cell_type": "code",
   "execution_count": 13,
   "metadata": {
    "codehighlighter": [
     [
      31,
      32
     ],
     [
      53,
      54
     ],
     [
      74,
      75
     ],
     [
      79,
      80
     ],
     [
      87,
      88
     ],
     [
      88,
      89
     ],
     [
      86,
      87
     ],
     [
      8,
      9
     ],
     [
      30,
      31
     ],
     [
      51,
      52
     ],
     [
      56,
      57
     ],
     [
      58,
      59
     ],
     [
      64,
      65
     ]
    ]
   },
   "outputs": [],
   "source": [
    "def skim_grasp_execute(Go_index):\n",
    "    print 'Go_index', index\n",
    "    global hori_pose_Go_stone_set, yaw_pitch_normal_set, hori_box_set, hori_box_pixel_set, depth_array\n",
    "    pose_x = hori_pose_Go_stone_set[Go_index][0]\n",
    "    pose_y = hori_pose_Go_stone_set[Go_index][1]\n",
    "    pose_z = hori_pose_Go_stone_set[Go_index][2]\n",
    "    normal=yaw_pitch_normal_set[Go_index][2]\n",
    "    ####################### change tcp pose ############################\n",
    "    rob.set_tcp((0.014, 0, 0.3400, 0, 0, 0))  \n",
    "    rospy.sleep(0.5)\n",
    "    ####################################################################\n",
    "    go_to_safe_place()    \n",
    "    worldPstone = np.array([pose_x, pose_y, pose_z, 1])\n",
    "    #print 'worldPstone', worldPstone\n",
    "    tcpTstone = np.transpose(np.matmul(np.linalg.inv(rob.get_pose().get_matrix()), worldPstone))\n",
    "    #print \"tcpTstone\", tcpTstone\n",
    "    eeTcam = m3d.Transform()\n",
    "    eeTcam.pos = (0.076173+0.05, -0.0934057-0.03, 0.0074811)\n",
    "    eeTcam_e = tf.transformations.euler_from_quaternion([-0.0143125,0.69183,-0.0012,0.722039], axes='sxyz')\n",
    "    eeTcam.orient.rotate_xb(eeTcam_e[0])\n",
    "    eeTcam.orient.rotate_yb(eeTcam_e[1])\n",
    "    eeTcam.orient.rotate_zb(eeTcam_e[2])\n",
    "    #print eeTcam\n",
    "    \n",
    "    yaxis = (0, 1, 0)\n",
    "    zaxis = (0, 0, 1)\n",
    "    Ry = tf.transformations.rotation_matrix(pi/2, yaxis)\n",
    "    Rz = tf.transformations.rotation_matrix(-pi/2, zaxis)\n",
    "    eeTtcp = np.matmul(Ry, Rz)\n",
    "    ####################### change tcp pose ############################\n",
    "    eeTtcp[:3,3] = np.array([0.3400,-0.014,0])\n",
    "    ####################################################################\n",
    "    tcpTee = inv(eeTtcp)\n",
    "    #print tcpTee\n",
    "\n",
    "    n_normalize = normal / np.linalg.norm(normal)\n",
    "    #print \"n_normalize\", n_normalize\n",
    "    n_normalize = np.array([n_normalize[0], n_normalize[1], n_normalize[2], 1])\n",
    "    #print n_normalize\n",
    "    eeTnormal = np.matmul(np.array([[0, 0, 1, 0],[0, 1, 0, 0], [-1,0,0,0], [0,0,0,1]]), n_normalize)\n",
    "    #print eeTnormal\n",
    "    tcpTnormal = np.matmul(tcpTee[0:3,0:3], eeTnormal[0:3])\n",
    "    #print tcpTee\n",
    "    #print \"tcpTnormal\", tcpTnormal\n",
    "    #tcpTnormal = [0,0,-1]\n",
    "    worldTnormal = [tcpTnormal[1], tcpTnormal[0], tcpTnormal[2]]\n",
    "\n",
    "    box = hori_box_set[Go_index]\n",
    "    box_pixel = hori_box_pixel_set[Go_index]\n",
    "    length1 = np.sqrt((box[0][0]-box[1][0])**2+(box[0][1]-box[1][1])**2)\n",
    "    length2 = np.sqrt((box[2][0]-box[1][0])**2+(box[2][1]-box[1][1])**2)\n",
    "    if length1 < length2:\n",
    "        if length2/length1<1.9:\n",
    "            return False\n",
    "        midpoint0 = [(box[1][0]+box[2][0])/2, (box[1][1]+box[2][1])/2]\n",
    "        midpoint1 = [(box[0][0]+box[3][0])/2, (box[0][1]+box[3][1])/2]\n",
    "        midpoint0_pixel = [(box_pixel[1][0]+box_pixel[2][0])/2, (box_pixel[1][1]+box_pixel[2][1])/2]\n",
    "        midpoint1_pixel = [(box_pixel[0][0]+box_pixel[3][0])/2, (box_pixel[0][1]+box_pixel[3][1])/2]\n",
    "    else:\n",
    "        if length1/length2<1.9:\n",
    "            return False\n",
    "        midpoint0 = [(box[0][0]+box[1][0])/2, (box[0][1]+box[1][1])/2]\n",
    "        midpoint1 = [(box[2][0]+box[3][0])/2, (box[2][1]+box[3][1])/2]\n",
    "        midpoint0_pixel = [(box_pixel[0][0]+box_pixel[1][0])/2, (box_pixel[0][1]+box_pixel[1][1])/2]\n",
    "        midpoint1_pixel = [(box_pixel[2][0]+box_pixel[3][0])/2, (box_pixel[2][1]+box_pixel[3][1])/2]\n",
    "    center = [(midpoint0[0]+midpoint1[0])/2, (midpoint0[1]+midpoint1[1])/2]\n",
    "    center_pixel = [(midpoint0_pixel[0]+midpoint1_pixel[0])/2, (midpoint0_pixel[1]+midpoint1_pixel[1])/2]\n",
    "    dir0 = [midpoint0[0]-center[0], midpoint0[1]-center[1], 0]\n",
    "    dir0 = (np.array(dir0)/np.linalg.norm(np.array(dir0))).tolist()\n",
    "    dir1 = [midpoint1[0]-center[0], midpoint1[1]-center[1], 0] \n",
    "    dir1 = (np.array(dir1)/np.linalg.norm(np.array(dir1))).tolist()\n",
    "    if abs(np.dot(dir0, worldTnormal))<0.1:\n",
    "        high_to_low_dir_set = [dir0, dir1]\n",
    "    elif np.dot(dir0, worldTnormal)>0:\n",
    "        high_to_low_dir_set = [dir0]\n",
    "    else:\n",
    "        high_to_low_dir_set = [dir1]\n",
    "    for high_to_low_dir in high_to_low_dir_set:\n",
    "        rotate_angle = atan2(high_to_low_dir[1], high_to_low_dir[0])-atan2(1,0)\n",
    "        if rotate_angle > 0:\n",
    "            rotate_angle = rotate_angle % (2*pi)\n",
    "        else:\n",
    "            rotate_angle = rotate_angle % (-2*pi)\n",
    "        rotate_angle0 = -rotate_angle\n",
    "        rotate_angle0_matrix = np.array([[cos(rotate_angle0), -sin(rotate_angle0), 0], [sin(rotate_angle0), cos(rotate_angle0), 0], [0,0,1]])\n",
    "        tcp2normal_after_rotation0 = np.matmul(np.linalg.inv(rotate_angle0_matrix), tcpTnormal[0:3])\n",
    "        rotate_angle1 = atan(-tcp2normal_after_rotation0[1]/tcp2normal_after_rotation0[2])\n",
    "        rotate_angle2 = asin(-tcp2normal_after_rotation0[0])    \n",
    "        if str(rotate_angle0) == 'nan' or str(rotate_angle1) == 'nan' or str(rotate_angle2) == 'nan':\n",
    "            continue\n",
    "        if abs(rotate_angle1)>(35*pi/180.0) or abs(rotate_angle2)>(35*pi/180.0):\n",
    "            continue\n",
    "        psi = 30*pi/180\n",
    "        if skim_grasp_collision_check(hori_pose_Go_stone_set[Go_index], rotate_angle0, rotate_angle1, rotate_angle2, psi)==True:\n",
    "            print 'collision'\n",
    "            continue\n",
    "        if high_to_low_dir == dir0:\n",
    "            inner_pixel = [int(center_pixel[0]+(midpoint1_pixel[0]-center_pixel[0])*0.9), int(center_pixel[1]+(midpoint1_pixel[1]-center_pixel[1])*0.9)]\n",
    "            outer_pixel = [int(center_pixel[0]+(midpoint1_pixel[0]-center_pixel[0])*1.3), int(center_pixel[1]+(midpoint1_pixel[1]-center_pixel[1])*1.3)]\n",
    "        elif high_to_low_dir == dir1:\n",
    "            inner_pixel = [int(center_pixel[0]+(midpoint0_pixel[0]-center_pixel[0])*0.9), int(center_pixel[1]+(midpoint0_pixel[1]-center_pixel[1])*0.9)]\n",
    "            outer_pixel = [int(center_pixel[0]+(midpoint0_pixel[0]-center_pixel[0])*1.3), int(center_pixel[1]+(midpoint0_pixel[1]-center_pixel[1])*1.3)]  \n",
    "        inner_depth_set = []\n",
    "        for i in range(-3,4):\n",
    "            for j in range(-3,4):    \n",
    "                if depth_array[inner_pixel[1]+i,inner_pixel[0]+j] != 0:\n",
    "                    inner_depth_set.append(depth_array[inner_pixel[1]+i,inner_pixel[0]+j])\n",
    "        inner_depth=np.mean(inner_depth_set)\n",
    "        outer_depth_set = []\n",
    "        for i in range(-3,4):\n",
    "            for j in range(-3,4):    \n",
    "                if depth_array[outer_pixel[1]+i,outer_pixel[0]+j] != 0:\n",
    "                    outer_depth_set.append(depth_array[outer_pixel[1]+i,outer_pixel[0]+j])\n",
    "        outer_depth=np.mean(outer_depth_set) \n",
    "        if pose_z<0.04:\n",
    "            if outer_depth<inner_depth+0:\n",
    "                print 'outer_depth<inner_depth', outer_depth, inner_depth\n",
    "                continue\n",
    "        else:\n",
    "            if outer_depth<inner_depth:\n",
    "                print 'outer_depth<inner_depth', outer_depth, inner_depth\n",
    "                continue  \n",
    "        Robotiq.goto(robotiq_client, pos=2.5*0.14/48.0+1.12/48.0, speed=0.5, force=10, block=True)\n",
    "        rospy.sleep(0.5)\n",
    "        signal.signal(signal.SIGALRM, myHandler)\n",
    "        signal.setitimer(signal.ITIMER_REAL, 0.005)\n",
    "        ser.write('1100')\n",
    "        signal.setitimer(signal.ITIMER_REAL, 0)\n",
    "        rob.movel_tool((tcpTstone[0], tcpTstone[1]-0.003, 0, 0, 0, 0), acc=0.8, vel=2, wait=True)\n",
    "        print tcpTstone[2]\n",
    "        rob.movel_tool((0,0,0,0,0,rotate_angle0), acc=0.5, vel=0.8, wait=True)\n",
    "        rob.translate_tool((0, 0, tcpTstone[2]-0.015), acc=0.8, vel=1.5)\n",
    "        rob.movel_tool((0,0,0,rotate_angle1,0,0), acc=0.5, vel=0.8, wait=True)\n",
    "        rob.movel_tool((0,0,0,0,rotate_angle2,0), acc=0.5, vel=0.8, wait=True)\n",
    "        ###########################Choose d and psi######################################\n",
    "        if rotate_angle0>0:\n",
    "            rob.translate_tool((0.008, 0, 0), acc=0.06, vel=0.08)\n",
    "        else:\n",
    "            rob.translate_tool((0.006, 0, 0), acc=0.06, vel=0.08)\n",
    "        rob.movel_tool((0,0,0,0,psi,0), acc=0.3, vel=0.8, wait=True)\n",
    "        #################################################################################\n",
    "        rob.translate((0, 0, -0.02), acc=0.01, vel=0.05, wait=False)\n",
    "        wrench = rospy.wait_for_message('/robotiq_ft_wrench', WrenchStamped, timeout = None)\n",
    "        ini_wrench = wrench.wrench.torque.y\n",
    "        time0 = time.time()\n",
    "        num_large_force = 0\n",
    "        while True:\n",
    "            if num_large_force == 3:\n",
    "                rob.stopl()\n",
    "                break\n",
    "            wrench = rospy.wait_for_message('/robotiq_ft_wrench', WrenchStamped, timeout = None)\n",
    "            if pose_z<0.04:\n",
    "                if wrench.wrench.torque.y>ini_wrench+0.3:   \n",
    "                    num_large_force += 1\n",
    "            else:\n",
    "                if wrench.wrench.torque.y>ini_wrench+0.3:   \n",
    "                    num_large_force += 1\n",
    "            if time.time()-time0>2.8:  \n",
    "                break\n",
    "        time.sleep(0.5)\n",
    "        wrench = rospy.wait_for_message('/robotiq_ft_wrench', WrenchStamped, timeout = None)\n",
    "        ini_wrench = wrench.wrench.torque.y\n",
    "        for current_finger_length_extend in np.arange(0,55,4):\n",
    "            current_finger_length = 100+current_finger_length_extend #Change\n",
    "            signal.setitimer(signal.ITIMER_REAL, 0.001)\n",
    "            ser.write('1'+str(current_finger_length))\n",
    "            signal.setitimer(signal.ITIMER_REAL, 0)\n",
    "            time.sleep(0.2)        \n",
    "            current_fingerlength_int=current_finger_length\n",
    "            wrench = rospy.wait_for_message('/robotiq_ft_wrench', WrenchStamped, timeout = None)\n",
    "            if wrench.wrench.torque.y>ini_wrench+0.5:\n",
    "                break\n",
    "        print current_fingerlength_int  \n",
    "        angle_step=0.2\n",
    "        for angle in np.arange(2.5,-2,-angle_step):\n",
    "            translate_dir_dis, extension_distance = pos_flength_adjust_finger_fixed(angle, angle-angle_step, 60, 0.0125, 0.1, 0.019, 0.01, 0.125)\n",
    "            old_fingerlength_int=current_fingerlength_int\n",
    "            current_fingerlength_int=round(max(current_fingerlength_int+extension_distance*(180.0/0.03),0))\n",
    "            signal.signal(signal.SIGALRM, myHandler)\n",
    "            signal.setitimer(signal.ITIMER_REAL, 0.005)\n",
    "            ser.write('1'+str(current_fingerlength_int))\n",
    "            signal.setitimer(signal.ITIMER_REAL, 0)   \n",
    "            if abs(current_fingerlength_int-old_fingerlength_int)!=0 and current_fingerlength_int<165:\n",
    "                Robotiq.goto(robotiq_client, pos=(angle-1)*0.14/48.0+1.12/48.0, speed=0.2, force=10, block=False)\n",
    "                rob.translate_tool((sin(60*pi/180)*translate_dir_dis[0]+cos(60*pi/180)*translate_dir_dis[1], 0, cos(60*pi/180)*translate_dir_dis[0]-sin(60*pi/180)*translate_dir_dis[1]), acc=0.1, vel=0.4, wait=True)\n",
    "            else:\n",
    "                time.sleep(0.01)\n",
    "        Robotiq.goto(robotiq_client, pos=-2*0.14/48.0+1.12/48.0, speed=0.2, force=10, block=False)\n",
    "        rospy.sleep(0.5)\n",
    "        rob.translate_tool((0, 0, -0.12), acc=0.3, vel=0.8, wait=True)\n",
    "        go_to_end_place()\n",
    "        rob.translate((0,0,-0.07), acc=0.3, vel=0.8, wait=True)\n",
    "        Robotiq.goto(robotiq_client, pos=2*0.14/48.0+1.12/48.0, speed=0.5, force=10, block=True)\n",
    "        rospy.sleep(1)\n",
    "        ser.write('1000')\n",
    "        rospy.sleep(1)\n",
    "        rob.translate((0,0,0.07), acc=0.3, vel=0.8, wait=True) \n",
    "        return True\n",
    "    else:\n",
    "        return False"
   ]
  },
  {
   "cell_type": "code",
   "execution_count": null,
   "metadata": {
    "codehighlighter": [
     [
      31,
      32
     ],
     [
      53,
      54
     ],
     [
      74,
      75
     ],
     [
      79,
      80
     ],
     [
      87,
      88
     ],
     [
      88,
      89
     ],
     [
      86,
      87
     ],
     [
      8,
      9
     ],
     [
      30,
      31
     ],
     [
      51,
      52
     ],
     [
      56,
      57
     ],
     [
      58,
      59
     ],
     [
      64,
      65
     ]
    ],
    "slideshow": {
     "slide_type": "-"
    }
   },
   "outputs": [],
   "source": []
  },
  {
   "cell_type": "code",
   "execution_count": 14,
   "metadata": {},
   "outputs": [],
   "source": [
    "def find_alpha_from_distance(distance, l0, l1, l2l, l2r):\n",
    "    alpha = asin((distance+l2l+l2r-2*l0)/2/l1)*180/pi\n",
    "    return alpha\n",
    "\n",
    "def direct_pick_execute(Go_index):\n",
    "    global ver_pose_Go_stone_set, gripper_direction_set, gripper_aperture_set\n",
    "    go_to_safe_place()\n",
    "    Robotiq.goto(robotiq_client, pos=0.03, speed=0.1, force=10, block=True)\n",
    "    signal.signal(signal.SIGALRM, myHandler)\n",
    "    signal.setitimer(signal.ITIMER_REAL, 0.005)\n",
    "    ser.write('1155')\n",
    "    signal.setitimer(signal.ITIMER_REAL, 0)\n",
    "    rob.set_tcp((0, 0, 0, 0, 0, 0))\n",
    "    rospy.sleep(0.5)\n",
    "    pos_x = rob.get_pose().pos.x\n",
    "    pos_y = rob.get_pose().pos.y\n",
    "    pos_z = rob.get_pose().pos.z\n",
    "    rospy.sleep(0.5)\n",
    "    rob.translate((ver_pose_Go_stone_set[Go_index][0]-pos_x-0.003,ver_pose_Go_stone_set[Go_index][1]-pos_y,0), acc=0.8, vel=2, wait=True)\n",
    "    rob.movel_tool((0,0,0,0,0,gripper_direction_set[Go_index]),acc=0.8, vel=2)\n",
    "    rob.translate_tool((-0.004,0,0),acc=0.1, vel=0.2)\n",
    "    #rob.translate((0,0,-0.025), acc=0.1, vel=0.4, wait=True)\n",
    "    rob.translate((0,0,max((ver_pose_Go_stone_set[Go_index][2]-(pos_z-0.32210))*0.7,-0.035)), acc=0.1, vel=0.1, wait=True)\n",
    "    rob.translate((0,0,max((ver_pose_Go_stone_set[Go_index][2]-(pos_z-0.32210))*0.6,-0.035)), acc=0.001, vel=0.01, wait=False)\n",
    "    wrench = rospy.wait_for_message('/robotiq_ft_wrench', WrenchStamped, timeout = None)\n",
    "    ini_wrench = wrench.wrench.force.z\n",
    "    time0 = time.time()\n",
    "    num_large_force = 0\n",
    "    while True:\n",
    "        if num_large_force == 3:\n",
    "            rob.stopl()\n",
    "            break\n",
    "        wrench = rospy.wait_for_message('/robotiq_ft_wrench', WrenchStamped, timeout = None)\n",
    "        if wrench.wrench.force.z<ini_wrench-2:   \n",
    "            num_large_force += 1\n",
    "        if time.time()-time0>12:  \n",
    "            break\n",
    "    Robotiq.goto(robotiq_client, pos=-3*0.14/48.0+1.12/48.0, speed=0.1, force=0.3, block=False)\n",
    "    rospy.sleep(1)\n",
    "    rob.translate((0, 0, 0.08), acc=0.3, vel=0.8)\n",
    "    go_to_end_place()\n",
    "    rob.translate((0,0,-0.07), acc=0.3, vel=0.8, wait=True)\n",
    "    Robotiq.goto(robotiq_client, pos=0.03, speed=0.5, force=10, block=True)\n",
    "    rob.translate((0,0,0.07), acc=0.3, vel=0.8, wait=True)"
   ]
  },
  {
   "cell_type": "code",
   "execution_count": 15,
   "metadata": {},
   "outputs": [],
   "source": [
    "from shapely.affinity import rotate\n",
    "from shapely.affinity import translate\n",
    "from shapely.geometry import Point\n",
    "from shapely.geometry import LinearRing\n",
    "\n",
    "def direct_pick_collision_check(Go_index):\n",
    "    global ver_pose_Go_stone_set, gripper_direction_set, gripper_aperture_set\n",
    "    if gripper_aperture_set[Go_index] > 0.013:\n",
    "        return False\n",
    "    finger_profile = [[0.01, gripper_aperture_set[Go_index]/2+0.019], [-0.01, gripper_aperture_set[Go_index]/2+0.019], [-0.01, -gripper_aperture_set[Go_index]/2-0.007], [0.01, -gripper_aperture_set[Go_index]/2-0.007]]\n",
    "    finger_profile = rotate(LinearRing(finger_profile), -gripper_direction_set[Go_index], origin=Point([0,0]), use_radians=True)\n",
    "    finger_profile = translate(LinearRing(finger_profile), xoff=ver_pose_Go_stone_set[Go_index][0], yoff=ver_pose_Go_stone_set[Go_index][1], zoff=0.0)\n",
    "    if finger_profile.within(Point([0.05,0.69]).buffer(0.055))==True:\n",
    "        return False\n",
    "    else:\n",
    "        return True"
   ]
  },
  {
   "cell_type": "code",
   "execution_count": 16,
   "metadata": {
    "scrolled": true
   },
   "outputs": [
    {
     "name": "stdout",
     "output_type": "stream",
     "text": [
      "started 0\n",
      "dsag\n",
      "0\n",
      "vis_time 3.91034317017\n",
      "[[0.08551967102738382, 0.7219328427409532, 0.04114700317074754], [0.032056462017768066, 0.6932765800272357, 0.037], [0.03676896906855652, 0.6615140138225221, 0.037]]\n",
      "[[-3.1213933810087253, 0.7399748839758717, (-0.6801540034313714, 0.538719969421767, -0.4946734057001337)], [-2.9648837975197564, 0.334736837316815, (-0.011871223763966125, -0.00222952275640412, -0.9554395145780354)], [3.141592653589793, 0.7853981633974482, (0.026575717228133972, -0.005252174247547567, -0.98461534962395)]]\n",
      "[] [] []\n",
      "[('h', 0), ('h', 1), ('h', 2)]\n",
      "Go_index ('h', 0)\n",
      "Go_index ('h', 1)\n",
      "[[0.08136981]]\n",
      "152\n",
      "man_time 28.9857559204\n",
      "started 1\n",
      "dsag\n",
      "1\n",
      "vis_time 3.70622992516\n",
      "[[0.08553238086977938, 0.7221549389672598, 0.04108849767195366], [0.03839227866990547, 0.6607550056937906, 0.037]]\n",
      "[[-2.8127999620848385, 0.80667154942151, (-0.6689813666511262, 0.5345454585731, -0.5126911046626356)], [3.141592653589793, 0.9002747688143474, (0.04175974551275124, 0.020095363092380726, -0.9601727663741065)]]\n",
      "[] [] []\n",
      "[('h', 0), ('h', 1)]\n",
      "Go_index ('h', 0)\n",
      "Go_index ('h', 1)\n",
      "[[0.0813341]]\n",
      "152\n",
      "man_time 30.2802948952\n",
      "started 2\n",
      "dsag\n",
      "2\n",
      "vis_time 2.70480918884\n",
      "[[0.08548872269602713, 0.7221763217600247, 0.0411206829208266]]\n",
      "[[-2.672625945817471, 0.84654632604675, (-0.6793896941842872, 0.5377246086420348, -0.4956857129597325)]]\n",
      "[] [] []\n",
      "[('h', 0)]\n",
      "Go_index ('h', 0)\n",
      "started 3\n",
      "dsag\n",
      "3\n",
      "vis_time 2.70473098755\n",
      "[[0.053261200463017716, 0.6905542720360566, 0.037]]\n",
      "[[2.9325697107835285, 0.3729877218000613, (0.03103334898270142, 0.04530787996348569, -0.974254998453804)]]\n",
      "[] [] []\n",
      "[('h', 0)]\n",
      "Go_index ('h', 0)\n",
      "[[0.08132939]]\n",
      "152\n",
      "man_time 29.7798480988\n",
      "started 4\n",
      "dsag\n",
      "4\n",
      "vis_time 3.20595693588\n",
      "[[0.05077442300555511, 0.6864724357390403, 0.037]]\n",
      "[[-2.7795052458960647, 0.3729877218000613, (0.050490123065143604, 0.01713649245219879, -0.9935517256003377)]]\n",
      "[] [] []\n",
      "[('h', 0)]\n",
      "Go_index ('h', 0)\n",
      "[[0.08134346]]\n",
      "152\n",
      "man_time 29.2793431282\n"
     ]
    },
    {
     "ename": "KeyboardInterrupt",
     "evalue": "",
     "output_type": "error",
     "traceback": [
      "\u001b[0;31m-----------------------------------------\u001b[0m",
      "\u001b[0;31mKeyboardInterrupt\u001b[0mTraceback (most recent call last)",
      "\u001b[0;32m<ipython-input-16-e354b2c1605f>\u001b[0m in \u001b[0;36m<module>\u001b[0;34m()\u001b[0m\n\u001b[1;32m     31\u001b[0m     \u001b[0mRobotiq\u001b[0m\u001b[0;34m.\u001b[0m\u001b[0mgoto\u001b[0m\u001b[0;34m(\u001b[0m\u001b[0mrobotiq_client\u001b[0m\u001b[0;34m,\u001b[0m \u001b[0mpos\u001b[0m\u001b[0;34m=\u001b[0m\u001b[0;36m2.5\u001b[0m\u001b[0;34m*\u001b[0m\u001b[0;36m0.14\u001b[0m\u001b[0;34m/\u001b[0m\u001b[0;36m48.0\u001b[0m\u001b[0;34m+\u001b[0m\u001b[0;36m1.12\u001b[0m\u001b[0;34m/\u001b[0m\u001b[0;36m48.0\u001b[0m\u001b[0;34m,\u001b[0m \u001b[0mspeed\u001b[0m\u001b[0;34m=\u001b[0m\u001b[0;36m0.5\u001b[0m\u001b[0;34m,\u001b[0m \u001b[0mforce\u001b[0m\u001b[0;34m=\u001b[0m\u001b[0;36m10\u001b[0m\u001b[0;34m,\u001b[0m \u001b[0mblock\u001b[0m\u001b[0;34m=\u001b[0m\u001b[0mTrue\u001b[0m\u001b[0;34m)\u001b[0m\u001b[0;34m\u001b[0m\u001b[0m\n\u001b[1;32m     32\u001b[0m     \u001b[0mrospy\u001b[0m\u001b[0;34m.\u001b[0m\u001b[0msleep\u001b[0m\u001b[0;34m(\u001b[0m\u001b[0;36m1\u001b[0m\u001b[0;34m)\u001b[0m\u001b[0;34m\u001b[0m\u001b[0m\n\u001b[0;32m---> 33\u001b[0;31m     \u001b[0mgo_to_home\u001b[0m\u001b[0;34m(\u001b[0m\u001b[0;34m)\u001b[0m\u001b[0;34m\u001b[0m\u001b[0m\n\u001b[0m\u001b[1;32m     34\u001b[0m     \u001b[0mrospy\u001b[0m\u001b[0;34m.\u001b[0m\u001b[0msleep\u001b[0m\u001b[0;34m(\u001b[0m\u001b[0;36m1\u001b[0m\u001b[0;34m)\u001b[0m\u001b[0;34m\u001b[0m\u001b[0m\n\u001b[1;32m     35\u001b[0m     \u001b[0mhori_Go_stone_number\u001b[0m \u001b[0;34m=\u001b[0m \u001b[0mNone\u001b[0m\u001b[0;34m\u001b[0m\u001b[0m\n",
      "\u001b[0;32m<ipython-input-5-e32015c8935b>\u001b[0m in \u001b[0;36mgo_to_home\u001b[0;34m()\u001b[0m\n\u001b[1;32m      8\u001b[0m     \u001b[0mHong_joint5\u001b[0m \u001b[0;34m=\u001b[0m \u001b[0mradians\u001b[0m\u001b[0;34m(\u001b[0m\u001b[0;34m-\u001b[0m\u001b[0;36m78.02\u001b[0m\u001b[0;34m)\u001b[0m\u001b[0;34m\u001b[0m\u001b[0m\n\u001b[1;32m      9\u001b[0m \u001b[0;34m\u001b[0m\u001b[0m\n\u001b[0;32m---> 10\u001b[0;31m     \u001b[0mrob\u001b[0m\u001b[0;34m.\u001b[0m\u001b[0mmovej\u001b[0m\u001b[0;34m(\u001b[0m\u001b[0;34m(\u001b[0m\u001b[0mHong_joint0\u001b[0m\u001b[0;34m,\u001b[0m\u001b[0mHong_joint1\u001b[0m\u001b[0;34m,\u001b[0m \u001b[0mHong_joint2\u001b[0m\u001b[0;34m,\u001b[0m \u001b[0mHong_joint3\u001b[0m\u001b[0;34m,\u001b[0m \u001b[0mHong_joint4\u001b[0m\u001b[0;34m,\u001b[0m \u001b[0mHong_joint5\u001b[0m\u001b[0;34m)\u001b[0m\u001b[0;34m,\u001b[0m \u001b[0;36m0.6\u001b[0m\u001b[0;34m,\u001b[0m \u001b[0;36m1.5\u001b[0m\u001b[0;34m)\u001b[0m\u001b[0;34m\u001b[0m\u001b[0m\n\u001b[0m\u001b[1;32m     11\u001b[0m \u001b[0;34m\u001b[0m\u001b[0m\n\u001b[1;32m     12\u001b[0m \u001b[0;32mdef\u001b[0m \u001b[0mgo_to_safe_place\u001b[0m\u001b[0;34m(\u001b[0m\u001b[0;34m)\u001b[0m\u001b[0;34m:\u001b[0m\u001b[0;34m\u001b[0m\u001b[0m\n",
      "\u001b[0;32m/home/terry/anaconda3/envs/ros_control/lib/python2.7/site-packages/urx/urrobot.pyc\u001b[0m in \u001b[0;36mmovej\u001b[0;34m(self, joints, acc, vel, wait, relative, threshold)\u001b[0m\n\u001b[1;32m    275\u001b[0m         \u001b[0mself\u001b[0m\u001b[0;34m.\u001b[0m\u001b[0msend_program\u001b[0m\u001b[0;34m(\u001b[0m\u001b[0mprog\u001b[0m\u001b[0;34m)\u001b[0m\u001b[0;34m\u001b[0m\u001b[0m\n\u001b[1;32m    276\u001b[0m         \u001b[0;32mif\u001b[0m \u001b[0mwait\u001b[0m\u001b[0;34m:\u001b[0m\u001b[0;34m\u001b[0m\u001b[0m\n\u001b[0;32m--> 277\u001b[0;31m             \u001b[0mself\u001b[0m\u001b[0;34m.\u001b[0m\u001b[0m_wait_for_move\u001b[0m\u001b[0;34m(\u001b[0m\u001b[0mjoints\u001b[0m\u001b[0;34m[\u001b[0m\u001b[0;34m:\u001b[0m\u001b[0;36m6\u001b[0m\u001b[0;34m]\u001b[0m\u001b[0;34m,\u001b[0m \u001b[0mthreshold\u001b[0m\u001b[0;34m=\u001b[0m\u001b[0mthreshold\u001b[0m\u001b[0;34m,\u001b[0m \u001b[0mjoints\u001b[0m\u001b[0;34m=\u001b[0m\u001b[0mTrue\u001b[0m\u001b[0;34m)\u001b[0m\u001b[0;34m\u001b[0m\u001b[0m\n\u001b[0m\u001b[1;32m    278\u001b[0m             \u001b[0;32mreturn\u001b[0m \u001b[0mself\u001b[0m\u001b[0;34m.\u001b[0m\u001b[0mgetj\u001b[0m\u001b[0;34m(\u001b[0m\u001b[0;34m)\u001b[0m\u001b[0;34m\u001b[0m\u001b[0m\n\u001b[1;32m    279\u001b[0m \u001b[0;34m\u001b[0m\u001b[0m\n",
      "\u001b[0;32m/home/terry/anaconda3/envs/ros_control/lib/python2.7/site-packages/urx/urrobot.pyc\u001b[0m in \u001b[0;36m_wait_for_move\u001b[0;34m(self, target, threshold, timeout, joints)\u001b[0m\n\u001b[1;32m    216\u001b[0m             \u001b[0;32mif\u001b[0m \u001b[0;32mnot\u001b[0m \u001b[0mself\u001b[0m\u001b[0;34m.\u001b[0m\u001b[0mis_running\u001b[0m\u001b[0;34m(\u001b[0m\u001b[0;34m)\u001b[0m\u001b[0;34m:\u001b[0m\u001b[0;34m\u001b[0m\u001b[0m\n\u001b[1;32m    217\u001b[0m                 \u001b[0;32mraise\u001b[0m \u001b[0mRobotException\u001b[0m\u001b[0;34m(\u001b[0m\u001b[0;34m\"Robot stopped\"\u001b[0m\u001b[0;34m)\u001b[0m\u001b[0;34m\u001b[0m\u001b[0m\n\u001b[0;32m--> 218\u001b[0;31m             \u001b[0mdist\u001b[0m \u001b[0;34m=\u001b[0m \u001b[0mself\u001b[0m\u001b[0;34m.\u001b[0m\u001b[0m_get_dist\u001b[0m\u001b[0;34m(\u001b[0m\u001b[0mtarget\u001b[0m\u001b[0;34m,\u001b[0m \u001b[0mjoints\u001b[0m\u001b[0;34m)\u001b[0m\u001b[0;34m\u001b[0m\u001b[0m\n\u001b[0m\u001b[1;32m    219\u001b[0m             \u001b[0mself\u001b[0m\u001b[0;34m.\u001b[0m\u001b[0mlogger\u001b[0m\u001b[0;34m.\u001b[0m\u001b[0mdebug\u001b[0m\u001b[0;34m(\u001b[0m\u001b[0;34m\"distance to target is: %s, target dist is %s\"\u001b[0m\u001b[0;34m,\u001b[0m \u001b[0mdist\u001b[0m\u001b[0;34m,\u001b[0m \u001b[0mthreshold\u001b[0m\u001b[0;34m)\u001b[0m\u001b[0;34m\u001b[0m\u001b[0m\n\u001b[1;32m    220\u001b[0m             \u001b[0;32mif\u001b[0m \u001b[0;32mnot\u001b[0m \u001b[0mself\u001b[0m\u001b[0;34m.\u001b[0m\u001b[0msecmon\u001b[0m\u001b[0;34m.\u001b[0m\u001b[0mis_program_running\u001b[0m\u001b[0;34m(\u001b[0m\u001b[0;34m)\u001b[0m\u001b[0;34m:\u001b[0m\u001b[0;34m\u001b[0m\u001b[0m\n",
      "\u001b[0;32m/home/terry/anaconda3/envs/ros_control/lib/python2.7/site-packages/urx/urrobot.pyc\u001b[0m in \u001b[0;36m_get_dist\u001b[0;34m(self, target, joints)\u001b[0m\n\u001b[1;32m    230\u001b[0m     \u001b[0;32mdef\u001b[0m \u001b[0m_get_dist\u001b[0m\u001b[0;34m(\u001b[0m\u001b[0mself\u001b[0m\u001b[0;34m,\u001b[0m \u001b[0mtarget\u001b[0m\u001b[0;34m,\u001b[0m \u001b[0mjoints\u001b[0m\u001b[0;34m=\u001b[0m\u001b[0mFalse\u001b[0m\u001b[0;34m)\u001b[0m\u001b[0;34m:\u001b[0m\u001b[0;34m\u001b[0m\u001b[0m\n\u001b[1;32m    231\u001b[0m         \u001b[0;32mif\u001b[0m \u001b[0mjoints\u001b[0m\u001b[0;34m:\u001b[0m\u001b[0;34m\u001b[0m\u001b[0m\n\u001b[0;32m--> 232\u001b[0;31m             \u001b[0;32mreturn\u001b[0m \u001b[0mself\u001b[0m\u001b[0;34m.\u001b[0m\u001b[0m_get_joints_dist\u001b[0m\u001b[0;34m(\u001b[0m\u001b[0mtarget\u001b[0m\u001b[0;34m)\u001b[0m\u001b[0;34m\u001b[0m\u001b[0m\n\u001b[0m\u001b[1;32m    233\u001b[0m         \u001b[0;32melse\u001b[0m\u001b[0;34m:\u001b[0m\u001b[0;34m\u001b[0m\u001b[0m\n\u001b[1;32m    234\u001b[0m             \u001b[0;32mreturn\u001b[0m \u001b[0mself\u001b[0m\u001b[0;34m.\u001b[0m\u001b[0m_get_lin_dist\u001b[0m\u001b[0;34m(\u001b[0m\u001b[0mtarget\u001b[0m\u001b[0;34m)\u001b[0m\u001b[0;34m\u001b[0m\u001b[0m\n",
      "\u001b[0;32m/home/terry/anaconda3/envs/ros_control/lib/python2.7/site-packages/urx/urrobot.pyc\u001b[0m in \u001b[0;36m_get_joints_dist\u001b[0;34m(self, target)\u001b[0m\n\u001b[1;32m    245\u001b[0m \u001b[0;34m\u001b[0m\u001b[0m\n\u001b[1;32m    246\u001b[0m     \u001b[0;32mdef\u001b[0m \u001b[0m_get_joints_dist\u001b[0m\u001b[0;34m(\u001b[0m\u001b[0mself\u001b[0m\u001b[0;34m,\u001b[0m \u001b[0mtarget\u001b[0m\u001b[0;34m)\u001b[0m\u001b[0;34m:\u001b[0m\u001b[0;34m\u001b[0m\u001b[0m\n\u001b[0;32m--> 247\u001b[0;31m         \u001b[0mjoints\u001b[0m \u001b[0;34m=\u001b[0m \u001b[0mself\u001b[0m\u001b[0;34m.\u001b[0m\u001b[0mgetj\u001b[0m\u001b[0;34m(\u001b[0m\u001b[0mwait\u001b[0m\u001b[0;34m=\u001b[0m\u001b[0mTrue\u001b[0m\u001b[0;34m)\u001b[0m\u001b[0;34m\u001b[0m\u001b[0m\n\u001b[0m\u001b[1;32m    248\u001b[0m         \u001b[0mdist\u001b[0m \u001b[0;34m=\u001b[0m \u001b[0;36m0\u001b[0m\u001b[0;34m\u001b[0m\u001b[0m\n\u001b[1;32m    249\u001b[0m         \u001b[0;32mfor\u001b[0m \u001b[0mi\u001b[0m \u001b[0;32min\u001b[0m \u001b[0mrange\u001b[0m\u001b[0;34m(\u001b[0m\u001b[0;36m6\u001b[0m\u001b[0;34m)\u001b[0m\u001b[0;34m:\u001b[0m\u001b[0;34m\u001b[0m\u001b[0m\n",
      "\u001b[0;32m/home/terry/anaconda3/envs/ros_control/lib/python2.7/site-packages/urx/urrobot.pyc\u001b[0m in \u001b[0;36mgetj\u001b[0;34m(self, wait)\u001b[0m\n\u001b[1;32m    255\u001b[0m         \u001b[0mget\u001b[0m \u001b[0mjoints\u001b[0m \u001b[0mposition\u001b[0m\u001b[0;34m\u001b[0m\u001b[0m\n\u001b[1;32m    256\u001b[0m         \"\"\"\n\u001b[0;32m--> 257\u001b[0;31m         \u001b[0mjts\u001b[0m \u001b[0;34m=\u001b[0m \u001b[0mself\u001b[0m\u001b[0;34m.\u001b[0m\u001b[0msecmon\u001b[0m\u001b[0;34m.\u001b[0m\u001b[0mget_joint_data\u001b[0m\u001b[0;34m(\u001b[0m\u001b[0mwait\u001b[0m\u001b[0;34m)\u001b[0m\u001b[0;34m\u001b[0m\u001b[0m\n\u001b[0m\u001b[1;32m    258\u001b[0m         \u001b[0;32mreturn\u001b[0m \u001b[0;34m[\u001b[0m\u001b[0mjts\u001b[0m\u001b[0;34m[\u001b[0m\u001b[0;34m\"q_actual0\"\u001b[0m\u001b[0;34m]\u001b[0m\u001b[0;34m,\u001b[0m \u001b[0mjts\u001b[0m\u001b[0;34m[\u001b[0m\u001b[0;34m\"q_actual1\"\u001b[0m\u001b[0;34m]\u001b[0m\u001b[0;34m,\u001b[0m \u001b[0mjts\u001b[0m\u001b[0;34m[\u001b[0m\u001b[0;34m\"q_actual2\"\u001b[0m\u001b[0;34m]\u001b[0m\u001b[0;34m,\u001b[0m \u001b[0mjts\u001b[0m\u001b[0;34m[\u001b[0m\u001b[0;34m\"q_actual3\"\u001b[0m\u001b[0;34m]\u001b[0m\u001b[0;34m,\u001b[0m \u001b[0mjts\u001b[0m\u001b[0;34m[\u001b[0m\u001b[0;34m\"q_actual4\"\u001b[0m\u001b[0;34m]\u001b[0m\u001b[0;34m,\u001b[0m \u001b[0mjts\u001b[0m\u001b[0;34m[\u001b[0m\u001b[0;34m\"q_actual5\"\u001b[0m\u001b[0;34m]\u001b[0m\u001b[0;34m]\u001b[0m\u001b[0;34m\u001b[0m\u001b[0m\n\u001b[1;32m    259\u001b[0m \u001b[0;34m\u001b[0m\u001b[0m\n",
      "\u001b[0;32m/home/terry/anaconda3/envs/ros_control/lib/python2.7/site-packages/urx/ursecmon.pyc\u001b[0m in \u001b[0;36mget_joint_data\u001b[0;34m(self, wait)\u001b[0m\n\u001b[1;32m    369\u001b[0m     \u001b[0;32mdef\u001b[0m \u001b[0mget_joint_data\u001b[0m\u001b[0;34m(\u001b[0m\u001b[0mself\u001b[0m\u001b[0;34m,\u001b[0m \u001b[0mwait\u001b[0m\u001b[0;34m=\u001b[0m\u001b[0mFalse\u001b[0m\u001b[0;34m)\u001b[0m\u001b[0;34m:\u001b[0m\u001b[0;34m\u001b[0m\u001b[0m\n\u001b[1;32m    370\u001b[0m         \u001b[0;32mif\u001b[0m \u001b[0mwait\u001b[0m\u001b[0;34m:\u001b[0m\u001b[0;34m\u001b[0m\u001b[0m\n\u001b[0;32m--> 371\u001b[0;31m             \u001b[0mself\u001b[0m\u001b[0;34m.\u001b[0m\u001b[0mwait\u001b[0m\u001b[0;34m(\u001b[0m\u001b[0;34m)\u001b[0m\u001b[0;34m\u001b[0m\u001b[0m\n\u001b[0m\u001b[1;32m    372\u001b[0m         \u001b[0;32mwith\u001b[0m \u001b[0mself\u001b[0m\u001b[0;34m.\u001b[0m\u001b[0m_dictLock\u001b[0m\u001b[0;34m:\u001b[0m\u001b[0;34m\u001b[0m\u001b[0m\n\u001b[1;32m    373\u001b[0m             \u001b[0;32mif\u001b[0m \u001b[0;34m\"JointData\"\u001b[0m \u001b[0;32min\u001b[0m \u001b[0mself\u001b[0m\u001b[0;34m.\u001b[0m\u001b[0m_dict\u001b[0m\u001b[0;34m:\u001b[0m\u001b[0;34m\u001b[0m\u001b[0m\n",
      "\u001b[0;32m/home/terry/anaconda3/envs/ros_control/lib/python2.7/site-packages/urx/ursecmon.pyc\u001b[0m in \u001b[0;36mwait\u001b[0;34m(self, timeout)\u001b[0m\n\u001b[1;32m    345\u001b[0m         \u001b[0mtstamp\u001b[0m \u001b[0;34m=\u001b[0m \u001b[0mself\u001b[0m\u001b[0;34m.\u001b[0m\u001b[0mlastpacket_timestamp\u001b[0m\u001b[0;34m\u001b[0m\u001b[0m\n\u001b[1;32m    346\u001b[0m         \u001b[0;32mwith\u001b[0m \u001b[0mself\u001b[0m\u001b[0;34m.\u001b[0m\u001b[0m_dataEvent\u001b[0m\u001b[0;34m:\u001b[0m\u001b[0;34m\u001b[0m\u001b[0m\n\u001b[0;32m--> 347\u001b[0;31m             \u001b[0mself\u001b[0m\u001b[0;34m.\u001b[0m\u001b[0m_dataEvent\u001b[0m\u001b[0;34m.\u001b[0m\u001b[0mwait\u001b[0m\u001b[0;34m(\u001b[0m\u001b[0mtimeout\u001b[0m\u001b[0;34m)\u001b[0m\u001b[0;34m\u001b[0m\u001b[0m\n\u001b[0m\u001b[1;32m    348\u001b[0m             \u001b[0;32mif\u001b[0m \u001b[0mtstamp\u001b[0m \u001b[0;34m==\u001b[0m \u001b[0mself\u001b[0m\u001b[0;34m.\u001b[0m\u001b[0mlastpacket_timestamp\u001b[0m\u001b[0;34m:\u001b[0m\u001b[0;34m\u001b[0m\u001b[0m\n\u001b[1;32m    349\u001b[0m                 \u001b[0;32mraise\u001b[0m \u001b[0mTimeoutException\u001b[0m\u001b[0;34m(\u001b[0m\u001b[0;34m\"Did not receive a valid data packet from robot in {}\"\u001b[0m\u001b[0;34m.\u001b[0m\u001b[0mformat\u001b[0m\u001b[0;34m(\u001b[0m\u001b[0mtimeout\u001b[0m\u001b[0;34m)\u001b[0m\u001b[0;34m)\u001b[0m\u001b[0;34m\u001b[0m\u001b[0m\n",
      "\u001b[0;32m/home/terry/anaconda3/envs/ros_control/lib/python2.7/threading.pyc\u001b[0m in \u001b[0;36mwait\u001b[0;34m(self, timeout)\u001b[0m\n\u001b[1;32m    357\u001b[0m                         \u001b[0;32mbreak\u001b[0m\u001b[0;34m\u001b[0m\u001b[0m\n\u001b[1;32m    358\u001b[0m                     \u001b[0mdelay\u001b[0m \u001b[0;34m=\u001b[0m \u001b[0mmin\u001b[0m\u001b[0;34m(\u001b[0m\u001b[0mdelay\u001b[0m \u001b[0;34m*\u001b[0m \u001b[0;36m2\u001b[0m\u001b[0;34m,\u001b[0m \u001b[0mremaining\u001b[0m\u001b[0;34m,\u001b[0m \u001b[0;36m.05\u001b[0m\u001b[0;34m)\u001b[0m\u001b[0;34m\u001b[0m\u001b[0m\n\u001b[0;32m--> 359\u001b[0;31m                     \u001b[0m_sleep\u001b[0m\u001b[0;34m(\u001b[0m\u001b[0mdelay\u001b[0m\u001b[0;34m)\u001b[0m\u001b[0;34m\u001b[0m\u001b[0m\n\u001b[0m\u001b[1;32m    360\u001b[0m                 \u001b[0;32mif\u001b[0m \u001b[0;32mnot\u001b[0m \u001b[0mgotit\u001b[0m\u001b[0;34m:\u001b[0m\u001b[0;34m\u001b[0m\u001b[0m\n\u001b[1;32m    361\u001b[0m                     \u001b[0;32mif\u001b[0m \u001b[0m__debug__\u001b[0m\u001b[0;34m:\u001b[0m\u001b[0;34m\u001b[0m\u001b[0m\n",
      "\u001b[0;31mKeyboardInterrupt\u001b[0m: "
     ]
    }
   ],
   "source": [
    "def distane_to_bowl_center(point_coordinate):\n",
    "    return sqrt((point_coordinate[0]-0.05)**2+(point_coordinate[1]-0.69)**2)\n",
    "\n",
    "executed_time_man_array = []\n",
    "executed_time_vis_array = []\n",
    "stone_img_count = 0\n",
    "ver_json_error = False\n",
    "hori_json_error = False\n",
    "'''\n",
    "if 'switching_stone_coordinate_set' in dir():\n",
    "    while True:\n",
    "        whether_inherent = raw_input(\"Whether inherent switching_stone_coordinate_set before? (y or n)\")\n",
    "        if whether_inherent == 'n':\n",
    "            switching_stone_coordinate_set=[]\n",
    "            break\n",
    "        elif whether_inherent == 'y':\n",
    "            break\n",
    "else:\n",
    "    switching_stone_coordinate_set = []\n",
    "'''\n",
    "while True:\n",
    "    #while True:\n",
    "        #if_continue = raw_input(\"continue?\")\n",
    "        #if if_continue != '':\n",
    "            #break\n",
    "    go_to_safe_place()\n",
    "    signal.signal(signal.SIGALRM, myHandler)\n",
    "    signal.setitimer(signal.ITIMER_REAL, 0.005)\n",
    "    ser.write('1000')\n",
    "    signal.setitimer(signal.ITIMER_REAL, 0)    \n",
    "    Robotiq.goto(robotiq_client, pos=2.5*0.14/48.0+1.12/48.0, speed=0.5, force=10, block=True)\n",
    "    rospy.sleep(1)\n",
    "    go_to_home()\n",
    "    rospy.sleep(1)\n",
    "    hori_Go_stone_number = None\n",
    "    ver_Go_stone_number = None\n",
    "    Go_stone_dir_sorted = []\n",
    "    hori_pose_Go_stone_set = []\n",
    "    yaw_pitch_normal_set = []\n",
    "    hori_box_set = []\n",
    "    hori_box_pixel_set = []\n",
    "    ver_pose_Go_stone_set = []\n",
    "    gripper_direction_set = []\n",
    "    gripper_aperture_set = []\n",
    "    is_send_stone_img = 1\n",
    "    time_count_vis_0 = time.time()\n",
    "    print 'started', stone_img_count\n",
    "    while True:\n",
    "        if hori_Go_stone_number != None and hori_Go_stone_number == len(hori_box_pixel_set) and ver_Go_stone_number != None and ver_Go_stone_number == len(gripper_aperture_set):\n",
    "            break\n",
    "        elif hori_Go_stone_number != None and hori_Go_stone_number == len(hori_box_pixel_set) and ver_Go_stone_number != None and ver_json_error==True:\n",
    "            rospy.sleep(0.5)\n",
    "            break   \n",
    "        elif hori_Go_stone_number != None and hori_json_error==True:\n",
    "            rospy.sleep(0.5)\n",
    "            break   \n",
    "        rospy.sleep(0.1)\n",
    "    vis_time = time.time()-time_count_vis_0\n",
    "    executed_time_vis_array.append(vis_time)\n",
    "    print 'vis_time', vis_time\n",
    "    print hori_pose_Go_stone_set\n",
    "    print yaw_pitch_normal_set\n",
    "    print ver_pose_Go_stone_set, gripper_direction_set, gripper_aperture_set\n",
    "    time_count_man_0 = time.time()\n",
    "    priority_list = []\n",
    "    if ver_pose_Go_stone_set == []:\n",
    "        for index_hori in range(len(hori_pose_Go_stone_set)):\n",
    "            priority_list.append(('h', index_hori))\n",
    "    elif hori_pose_Go_stone_set == []:\n",
    "        for index_ver in range(len(ver_pose_Go_stone_set)):\n",
    "            priority_list.append(('v', index_ver))\n",
    "    else:\n",
    "        for index_hori in range(len(hori_pose_Go_stone_set)):\n",
    "            for index_ver in range(len(ver_pose_Go_stone_set)):\n",
    "                if hori_pose_Go_stone_set[index_hori][2]<=ver_pose_Go_stone_set[index_ver][2]-0.002 and ('v', index_ver) not in priority_list:\n",
    "                    priority_list.append(('v', index_ver))\n",
    "                v_num = 0\n",
    "                for element in priority_list:\n",
    "                    if element[0]=='v':\n",
    "                        v_num+=1\n",
    "                if (v_num == len(ver_pose_Go_stone_set) or hori_pose_Go_stone_set[index_hori][2]>ver_pose_Go_stone_set[index_ver][2]-0.002) and ('h', index_hori) not in priority_list:\n",
    "                    priority_list.append(('h', index_hori))\n",
    "        for index_ver in range(len(ver_pose_Go_stone_set)):\n",
    "            if ('v', index_ver) not in priority_list:\n",
    "                priority_list.append(('v', index_ver))\n",
    "    print priority_list\n",
    "    for index in priority_list:\n",
    "        if index[0]=='v':\n",
    "            if ver_pose_Go_stone_set[index[1]]==[None, None, None]:\n",
    "                continue\n",
    "            if ver_pose_Go_stone_set[index[1]][2]<0.02:\n",
    "                continue\n",
    "            if ver_pose_Go_stone_set[index[1]][2]>0.075:\n",
    "                continue\n",
    "            if direct_pick_collision_check(index[1])==False and distane_to_bowl_center(ver_pose_Go_stone_set[index[1]])<0.035:\n",
    "                direct_pick_execute(index[1])\n",
    "                break\n",
    "        if index[0]=='h':\n",
    "            if hori_pose_Go_stone_set[index[1]]==[None, None, None]:\n",
    "                continue  \n",
    "            if hori_pose_Go_stone_set[index[1]][2]<0.02:\n",
    "                continue\n",
    "            if hori_pose_Go_stone_set[index[1]][2]>0.075:\n",
    "                continue\n",
    "            #if distane_to_bowl_center(hori_pose_Go_stone_set[index[1]])<0.035:\n",
    "            if True:\n",
    "                if skim_grasp_execute(index[1])==True:\n",
    "                    man_time = time.time()-time_count_man_0\n",
    "                    executed_time_man_array.append(man_time)\n",
    "                    print 'man_time', man_time\n",
    "                    break\n",
    "    else:\n",
    "        go_to_safe_place()\n",
    "        pos_x = rob.get_pose().pos.x\n",
    "        pos_y = rob.get_pose().pos.y\n",
    "        if ver_pose_Go_stone_set == []:\n",
    "            max_height = np.max(np.array(hori_pose_Go_stone_set)[:,2])\n",
    "        elif hori_pose_Go_stone_set == []:\n",
    "            max_height = np.max(np.array(ver_pose_Go_stone_set)[:,2])\n",
    "        else:\n",
    "            max_height = max(np.max(np.array(hori_pose_Go_stone_set)[:,2]), np.max(np.array(ver_pose_Go_stone_set)[:,2]))\n",
    "\n",
    "        if max_height>0.045:\n",
    "            while True:\n",
    "                if_human_shuffle_finished = raw_input(\"Human shuffle. Finished? (y or n)\")\n",
    "                if if_human_shuffle_finished == 'y':\n",
    "                    break\n",
    "        else:\n",
    "            if hori_pose_Go_stone_set==[]:\n",
    "                while True:\n",
    "                    if_human_shuffle_finished = raw_input(\"Human shuffle. Finished? (y or n)\")\n",
    "                    if if_human_shuffle_finished == 'y':\n",
    "                        break \n",
    "            else:\n",
    "                signal.signal(signal.SIGALRM, myHandler)\n",
    "                signal.setitimer(signal.ITIMER_REAL, 0.005)\n",
    "                ser.write('1000')\n",
    "                signal.setitimer(signal.ITIMER_REAL, 0)\n",
    "                if len(hori_pose_Go_stone_set)<=2:\n",
    "                    sweep_index_set = range(len(hori_pose_Go_stone_set))\n",
    "                else:\n",
    "                    sweep_index_set = random.sample(range(len(hori_pose_Go_stone_set)), 2)\n",
    "                for hori_index in sweep_index_set:\n",
    "                    alpha = atan2(0.69-hori_pose_Go_stone_set[hori_index][1], 0.05-hori_pose_Go_stone_set[hori_index][0])\n",
    "                    if alpha > pi/2 and alpha<=pi:\n",
    "                        rotate_angle = alpha-3*pi/2\n",
    "                    else:\n",
    "                        rotate_angle = alpha+pi/2\n",
    "                    rob.set_tcp((0.014, 0, 0.3400, 0, 0, 0))\n",
    "                    rospy.sleep(0.5)\n",
    "                    rob.movel_tool((0,0,0,0,0,-rotate_angle), acc=0.5, vel=0.8, wait=True) \n",
    "                    world2tcp = rob.get_pose()\n",
    "                    #coordinate_x = max(hori_pose_Go_stone_set[hori_index][0], 0.008)\n",
    "                    #coordinate_y = min(hori_pose_Go_stone_set[hori_index][1], 0.73)\n",
    "                    rob.translate((hori_pose_Go_stone_set[hori_index][0]-world2tcp.pos.x-0.002,hori_pose_Go_stone_set[hori_index][1]-world2tcp.pos.y+0.003,0), acc=0.5, vel=0.8, wait=True)\n",
    "                    rob.movel_tool((0.002,0,0,0,0,0), acc=0.1, vel=0.2, wait=True) \n",
    "                    rob.movel_tool((0,0,0,0,20*pi/180,0), acc=0.3, vel=0.8, wait=True) \n",
    "                    rob.set_tcp((0, 0, 0, 0, 0, 0))\n",
    "                    rospy.sleep(0.5)\n",
    "                    rob.translate((0, 0, -0.065), acc=0.5, vel=0.8, wait=True)\n",
    "                    rob.translate((0, 0, -0.05), acc=0.001, vel=0.02, wait=False)\n",
    "                    wrench = rospy.wait_for_message('/robotiq_ft_wrench', WrenchStamped, timeout = None)\n",
    "                    ini_wrench = wrench.wrench.force.z\n",
    "                    torque_memory=[]\n",
    "                    while True:\n",
    "                        wrench = rospy.wait_for_message('/robotiq_ft_wrench', WrenchStamped, timeout = None)\n",
    "                        torque_memory.append(wrench.wrench.force.z)\n",
    "                        if len(torque_memory)<9:\n",
    "                            if wrench.wrench.force.z<ini_wrench-2:\n",
    "                                rob.stopl()\n",
    "                                break\n",
    "                        else:\n",
    "                            if wrench.wrench.force.z<max(torque_memory[0:9])-2:\n",
    "                                rob.stopl()\n",
    "                                break \n",
    "                    #rob.translate((0.035*cos(alpha), 0.035*sin(alpha), 0), acc=0.1, vel=0.1, wait=True)\n",
    "                    point_to_bowl_center_length=sqrt((hori_pose_Go_stone_set[hori_index][0]-0.05)**2+(hori_pose_Go_stone_set[hori_index][1]-0.69)**2)\n",
    "                    rob.translate((point_to_bowl_center_length*0.8*cos(alpha), point_to_bowl_center_length*0.8*sin(alpha), 0), acc=0.1, vel=0.1, wait=True)\n",
    "                    #hardtip()\n",
    "                    rob.translate((0, 0, 0.1), acc=0.3, vel=0.8, wait=True)\n",
    "                    rob.movej((radians(99.10),radians(-91.67), radians(-107.60), radians(-70.72), radians(89.13), radians(-80.76)), 0.3, 0.7)"
   ]
  },
  {
   "cell_type": "code",
   "execution_count": 85,
   "metadata": {},
   "outputs": [
    {
     "data": {
      "text/plain": [
       "0.0006879699913455977"
      ]
     },
     "execution_count": 85,
     "metadata": {},
     "output_type": "execute_result"
    }
   ],
   "source": [
    "((0.075-0.07441812768708338)+(0.05-0.04897243287305203)+(0.025-0.023395635598574306)+(0.025-0.0254619238759079))/4.0"
   ]
  },
  {
   "cell_type": "code",
   "execution_count": null,
   "metadata": {
    "scrolled": true
   },
   "outputs": [],
   "source": [
    "((0.675-0.6798453558741636)+(0.675-0.679548104224364)+(0.7-0.7027561247441642)+(0.65-0.6524424649435531))/4.0"
   ]
  },
  {
   "cell_type": "code",
   "execution_count": null,
   "metadata": {},
   "outputs": [],
   "source": [
    "go_to_end_place()"
   ]
  },
  {
   "cell_type": "code",
   "execution_count": null,
   "metadata": {},
   "outputs": [],
   "source": [
    "softtip()"
   ]
  },
  {
   "cell_type": "code",
   "execution_count": 23,
   "metadata": {},
   "outputs": [
    {
     "ename": "SerialException",
     "evalue": "write failed: [Errno 5] Input/output error",
     "output_type": "error",
     "traceback": [
      "\u001b[0;31m-----------------------------------------\u001b[0m",
      "\u001b[0;31mSerialException\u001b[0mTraceback (most recent call last)",
      "\u001b[0;32m<ipython-input-23-17257db71bef>\u001b[0m in \u001b[0;36m<module>\u001b[0;34m()\u001b[0m\n\u001b[1;32m      1\u001b[0m \u001b[0msignal\u001b[0m\u001b[0;34m.\u001b[0m\u001b[0msetitimer\u001b[0m\u001b[0;34m(\u001b[0m\u001b[0msignal\u001b[0m\u001b[0;34m.\u001b[0m\u001b[0mITIMER_REAL\u001b[0m\u001b[0;34m,\u001b[0m \u001b[0;36m0.001\u001b[0m\u001b[0;34m)\u001b[0m\u001b[0;34m\u001b[0m\u001b[0m\n\u001b[0;32m----> 2\u001b[0;31m \u001b[0mser\u001b[0m\u001b[0;34m.\u001b[0m\u001b[0mwrite\u001b[0m\u001b[0;34m(\u001b[0m\u001b[0;34m'1180'\u001b[0m\u001b[0;34m)\u001b[0m\u001b[0;34m\u001b[0m\u001b[0m\n\u001b[0m\u001b[1;32m      3\u001b[0m \u001b[0msignal\u001b[0m\u001b[0;34m.\u001b[0m\u001b[0msetitimer\u001b[0m\u001b[0;34m(\u001b[0m\u001b[0msignal\u001b[0m\u001b[0;34m.\u001b[0m\u001b[0mITIMER_REAL\u001b[0m\u001b[0;34m,\u001b[0m \u001b[0;36m0\u001b[0m\u001b[0;34m)\u001b[0m\u001b[0;34m\u001b[0m\u001b[0m\n\u001b[1;32m      4\u001b[0m \u001b[0mtime\u001b[0m\u001b[0;34m.\u001b[0m\u001b[0msleep\u001b[0m\u001b[0;34m(\u001b[0m\u001b[0;36m1\u001b[0m\u001b[0;34m)\u001b[0m\u001b[0;34m\u001b[0m\u001b[0m\n",
      "\u001b[0;32m/home/terry/anaconda3/envs/ros_control/lib/python2.7/site-packages/serial/serialposix.pyc\u001b[0m in \u001b[0;36mwrite\u001b[0;34m(self, data)\u001b[0m\n\u001b[1;32m    569\u001b[0m                 \u001b[0;31m# https://www.python.org/dev/peps/pep-0475.\u001b[0m\u001b[0;34m\u001b[0m\u001b[0;34m\u001b[0m\u001b[0m\n\u001b[1;32m    570\u001b[0m                 \u001b[0;32mif\u001b[0m \u001b[0me\u001b[0m\u001b[0;34m.\u001b[0m\u001b[0merrno\u001b[0m \u001b[0;32mnot\u001b[0m \u001b[0;32min\u001b[0m \u001b[0;34m(\u001b[0m\u001b[0merrno\u001b[0m\u001b[0;34m.\u001b[0m\u001b[0mEAGAIN\u001b[0m\u001b[0;34m,\u001b[0m \u001b[0merrno\u001b[0m\u001b[0;34m.\u001b[0m\u001b[0mEALREADY\u001b[0m\u001b[0;34m,\u001b[0m \u001b[0merrno\u001b[0m\u001b[0;34m.\u001b[0m\u001b[0mEWOULDBLOCK\u001b[0m\u001b[0;34m,\u001b[0m \u001b[0merrno\u001b[0m\u001b[0;34m.\u001b[0m\u001b[0mEINPROGRESS\u001b[0m\u001b[0;34m,\u001b[0m \u001b[0merrno\u001b[0m\u001b[0;34m.\u001b[0m\u001b[0mEINTR\u001b[0m\u001b[0;34m)\u001b[0m\u001b[0;34m:\u001b[0m\u001b[0;34m\u001b[0m\u001b[0m\n\u001b[0;32m--> 571\u001b[0;31m                     \u001b[0;32mraise\u001b[0m \u001b[0mSerialException\u001b[0m\u001b[0;34m(\u001b[0m\u001b[0;34m'write failed: {}'\u001b[0m\u001b[0;34m.\u001b[0m\u001b[0mformat\u001b[0m\u001b[0;34m(\u001b[0m\u001b[0me\u001b[0m\u001b[0;34m)\u001b[0m\u001b[0;34m)\u001b[0m\u001b[0;34m\u001b[0m\u001b[0m\n\u001b[0m\u001b[1;32m    572\u001b[0m             \u001b[0;32mexcept\u001b[0m \u001b[0mselect\u001b[0m\u001b[0;34m.\u001b[0m\u001b[0merror\u001b[0m \u001b[0;32mas\u001b[0m \u001b[0me\u001b[0m\u001b[0;34m:\u001b[0m\u001b[0;34m\u001b[0m\u001b[0m\n\u001b[1;32m    573\u001b[0m                 \u001b[0;31m# this is for Python 2.x\u001b[0m\u001b[0;34m\u001b[0m\u001b[0;34m\u001b[0m\u001b[0m\n",
      "\u001b[0;31mSerialException\u001b[0m: write failed: [Errno 5] Input/output error"
     ]
    },
    {
     "name": "stderr",
     "output_type": "stream",
     "text": [
      "[WARN] [1612353292.264282]: Inbound TCP/IP connection failed: connection from sender terminated before handshake header received. 0 bytes were received. Please check sender for additional details.\n"
     ]
    }
   ],
   "source": [
    "signal.setitimer(signal.ITIMER_REAL, 0.001)\n",
    "ser.write('1180')\n",
    "signal.setitimer(signal.ITIMER_REAL, 0)\n",
    "time.sleep(1)\n"
   ]
  },
  {
   "cell_type": "code",
   "execution_count": null,
   "metadata": {},
   "outputs": [],
   "source": [
    "Robotiq.goto(robotiq_client, pos=40*0.14/48.0+1.12/48.0, speed=0.1, force=10, block=True)"
   ]
  },
  {
   "cell_type": "code",
   "execution_count": null,
   "metadata": {},
   "outputs": [],
   "source": [
    "from scipy.spatial.transform import Rotation as R\n",
    "import numpy as np\n",
    "r = R.from_quat([0, 0, np.sin(np.pi/4), np.cos(np.pi/4)])\n",
    "r.as_matrix()"
   ]
  },
  {
   "cell_type": "code",
   "execution_count": null,
   "metadata": {},
   "outputs": [],
   "source": [
    "import time\n",
    "time0 = time.time()\n",
    "rob.translate((0,0,-0.035), acc=0.001, vel=0.01, wait=True)\n",
    "print time.time()-time0"
   ]
  },
  {
   "cell_type": "code",
   "execution_count": 52,
   "metadata": {},
   "outputs": [],
   "source": [
    "go_to_safe_place()"
   ]
  },
  {
   "cell_type": "code",
   "execution_count": 31,
   "metadata": {},
   "outputs": [
    {
     "data": {
      "text/plain": [
       "27.263129591941833"
      ]
     },
     "execution_count": 31,
     "metadata": {},
     "output_type": "execute_result"
    }
   ],
   "source": [
    "np.mean(executed_time_man_array)"
   ]
  },
  {
   "cell_type": "code",
   "execution_count": 32,
   "metadata": {},
   "outputs": [
    {
     "data": {
      "text/plain": [
       "4.314785902316753"
      ]
     },
     "execution_count": 32,
     "metadata": {},
     "output_type": "execute_result"
    }
   ],
   "source": [
    "np.mean(executed_time_vis_array)"
   ]
  },
  {
   "cell_type": "code",
   "execution_count": 33,
   "metadata": {},
   "outputs": [],
   "source": [
    "Robotiq.goto(robotiq_client, pos=2*0.14/48.0+1.12/48.0, speed=0.5, force=10, block=True)"
   ]
  },
  {
   "cell_type": "code",
   "execution_count": 82,
   "metadata": {},
   "outputs": [
    {
     "data": {
      "text/plain": [
       "162.0"
      ]
     },
     "execution_count": 82,
     "metadata": {},
     "output_type": "execute_result"
    }
   ],
   "source": [
    "depth_array[127][431]"
   ]
  },
  {
   "cell_type": "code",
   "execution_count": 98,
   "metadata": {},
   "outputs": [],
   "source": [
    "    pose_x = 0.05\n",
    "    pose_y = 0.85\n",
    "    pose_z = 0.037\n",
    "    ####################### change tcp pose ############################\n",
    "    rob.set_tcp((0.014, 0, 0.3400, 0, 0, 0))  \n",
    "    rospy.sleep(0.5)\n",
    "    ####################################################################\n",
    "    go_to_safe_place()    \n",
    "    worldPstone = np.array([pose_x, pose_y, pose_z, 1])\n",
    "    #print 'worldPstone', worldPstone\n",
    "    tcpTstone = np.transpose(np.matmul(np.linalg.inv(rob.get_pose().get_matrix()), worldPstone))\n",
    "    rob.movel_tool((tcpTstone[0], tcpTstone[1]-0.003, 0, 0, 0, 0), acc=0.1, vel=0.3, wait=True)"
   ]
  },
  {
   "cell_type": "code",
   "execution_count": 97,
   "metadata": {},
   "outputs": [],
   "source": [
    "go_to_home()"
   ]
  },
  {
   "cell_type": "code",
   "execution_count": null,
   "metadata": {},
   "outputs": [],
   "source": []
  }
 ],
 "metadata": {
  "celltoolbar": "Slideshow",
  "kernelspec": {
   "display_name": "Python 2",
   "language": "python",
   "name": "python2"
  },
  "language_info": {
   "codemirror_mode": {
    "name": "ipython",
    "version": 2
   },
   "file_extension": ".py",
   "mimetype": "text/x-python",
   "name": "python",
   "nbconvert_exporter": "python",
   "pygments_lexer": "ipython2",
   "version": "2.7.18"
  }
 },
 "nbformat": 4,
 "nbformat_minor": 2
}
